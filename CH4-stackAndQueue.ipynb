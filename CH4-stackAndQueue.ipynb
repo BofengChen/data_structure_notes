{
 "cells": [
  {
   "cell_type": "markdown",
   "metadata": {},
   "source": [
    "# 栈"
   ]
  },
  {
   "cell_type": "markdown",
   "metadata": {},
   "source": [
    "栈：\n",
    "1. 保证元素**后进先出**的原则(last in first out)，简称LIFO原则；\n",
    "2. 只需要保证元素存入的时间顺序，不需要保存元素之间的任何顺序；\n",
    "3. 从实现角度看，最自然的实现栈的技术就是线性表；\n",
    "4. 栈支持的操作：存入元素(进栈、入栈)、访问(最后一个)元素、删除(最后一个)元素；\n",
    "5. 栈是一种深度优先搜索对应的数据结构。"
   ]
  },
  {
   "cell_type": "markdown",
   "metadata": {},
   "source": [
    "* 对于顺序表，后端的插入和删除是$O(1)$操作，所以应该用这一端作为栈顶；\n",
    "* 对于链表，前端的插入和删除是$O(1)$操作，所以应该用这一端作为栈顶。"
   ]
  },
  {
   "cell_type": "markdown",
   "metadata": {},
   "source": [
    "## 栈的顺序表实现"
   ]
  },
  {
   "cell_type": "markdown",
   "metadata": {},
   "source": [
    "list 满足了栈的全部需求，但是list本身一些操作是不符合栈的定义，而且本身还是一个list对象。所以，可以基于list作为底层的类，实现一个栈类。"
   ]
  },
  {
   "cell_type": "code",
   "execution_count": 10,
   "metadata": {
    "ExecuteTime": {
     "end_time": "2021-04-26T07:29:56.029764Z",
     "start_time": "2021-04-26T07:29:55.995764Z"
    }
   },
   "outputs": [],
   "source": [
    "class StackUnerflow(ValueError):\n",
    "    pass\n",
    "\n",
    "class SStack():# 基于顺序表实现栈\n",
    "    def __init__(self):\n",
    "        self._elems = []\n",
    "    \n",
    "    def is_empty(self):# 判断是否为空\n",
    "        return self._elems == []\n",
    "    \n",
    "    def top(self): # 访问栈顶元素\n",
    "        if self._elems == []:\n",
    "            raise StackUnerflow('SStack is empty:SStack.top()')\n",
    "        return self._elems[-1]\n",
    "    \n",
    "    def push(self,elem):# 元素入栈\n",
    "        self._elems.append(elem)\n",
    "    \n",
    "    def pop(self):\n",
    "        if self._elems == []:\n",
    "            raise StackUnerflow('SStack is empty:SStack.pop()')\n",
    "        return self._elems.pop()"
   ]
  },
  {
   "cell_type": "code",
   "execution_count": 8,
   "metadata": {
    "ExecuteTime": {
     "end_time": "2021-04-25T03:12:31.423751Z",
     "start_time": "2021-04-25T03:12:31.409754Z"
    }
   },
   "outputs": [
    {
     "name": "stdout",
     "output_type": "stream",
     "text": [
      "5\n",
      "4\n",
      "2\n"
     ]
    }
   ],
   "source": [
    "t=SStack()\n",
    "t.push(2)\n",
    "t.push(4)\n",
    "t.push(5)\n",
    "while not t.is_empty():\n",
    "    print(t.pop())"
   ]
  },
  {
   "cell_type": "markdown",
   "metadata": {},
   "source": [
    "## 栈的链表实现"
   ]
  },
  {
   "cell_type": "markdown",
   "metadata": {},
   "source": [
    "顺序表实现栈的缺点在于：\n",
    "1. 扩大存储区需要一次高代价的操作；\n",
    "2. 顺序表需要一块完整的存储区。\n",
    "\n",
    "链表在这两个问题上都有优势，缺点在于结点的链接开销以及结点在计算机内随意分布的操作开销。"
   ]
  },
  {
   "cell_type": "code",
   "execution_count": 15,
   "metadata": {
    "ExecuteTime": {
     "end_time": "2021-04-25T03:29:27.877817Z",
     "start_time": "2021-04-25T03:29:27.857508Z"
    }
   },
   "outputs": [],
   "source": [
    "class LNode():\n",
    "    def __init__(self,elem,_next=None):\n",
    "        self.elem = elem \n",
    "        self.next = _next \n",
    "\n",
    "class StackUnerflow(ValueError):\n",
    "    pass\n",
    "\n",
    "class LStack():# 基于链表实现栈\n",
    "    def __init__(self):\n",
    "        self._top = None \n",
    "    \n",
    "    def is_empty(self):# 判断是否为空\n",
    "        return self._top is None\n",
    "    \n",
    "    def top(self): # 访问栈顶元素\n",
    "        if self._top is None:\n",
    "            raise StackUnerflow('SStack is empty:SStack.top()')\n",
    "        return self._top.elem \n",
    "    \n",
    "    def push(self,elem):# 元素入栈\n",
    "        self._top = LNode(elem,self._top)\n",
    "    \n",
    "    def pop(self):\n",
    "        if self._top is None:\n",
    "            raise StackUnerflow('SStack is empty:SStack.pop()')\n",
    "        p = self._top \n",
    "        self._top = p.next         \n",
    "        return p.elem"
   ]
  },
  {
   "cell_type": "code",
   "execution_count": 16,
   "metadata": {
    "ExecuteTime": {
     "end_time": "2021-04-25T03:29:28.057839Z",
     "start_time": "2021-04-25T03:29:28.050818Z"
    }
   },
   "outputs": [
    {
     "name": "stdout",
     "output_type": "stream",
     "text": [
      "5\n",
      "4\n",
      "2\n"
     ]
    }
   ],
   "source": [
    "t=LStack()\n",
    "t.push(2)\n",
    "t.push(4)\n",
    "t.push(5)\n",
    "while not t.is_empty():\n",
    "    print(t.pop())"
   ]
  },
  {
   "cell_type": "markdown",
   "metadata": {},
   "source": [
    "## 栈的练习"
   ]
  },
  {
   "cell_type": "markdown",
   "metadata": {},
   "source": [
    "### [用2个栈实现队列](https://leetcode-cn.com/problems/implement-queue-using-stacks/)"
   ]
  },
  {
   "cell_type": "code",
   "execution_count": 28,
   "metadata": {
    "ExecuteTime": {
     "end_time": "2021-04-26T08:16:45.482933Z",
     "start_time": "2021-04-26T08:16:45.471918Z"
    }
   },
   "outputs": [],
   "source": [
    "class MyQueue():\n",
    "\n",
    "    def __init__(self):\n",
    "        \"\"\"\n",
    "        Initialize your data structure here.\n",
    "        \"\"\"\n",
    "        self.stack_A = []\n",
    "        self.stack_B = []\n",
    "        \n",
    "\n",
    "\n",
    "    def push(self, x: int) -> None:#始终保持后入队的元素在栈底\n",
    "        \"\"\"\n",
    "        Push element x to the back of queue.\n",
    "        \"\"\"\n",
    "        while not self.stack_A == []: \n",
    "            elem = self.stack_A.pop()\n",
    "            self.stack_B.append(elem) \n",
    "            \n",
    "        self.stack_A.append(x)\n",
    "        \n",
    "        while not self.stack_B == []:\n",
    "            elem = self.stack_B.pop()\n",
    "            self.stack_A.append(elem)\n",
    "        \n",
    "\n",
    "\n",
    "    def pop(self) -> int:\n",
    "        \"\"\"\n",
    "        Removes the element from in front of queue and returns that element.\n",
    "        \"\"\"\n",
    "        return self.stack_A.pop()\n",
    "        \n",
    "\n",
    "    def peek(self) -> int:\n",
    "        \"\"\"\n",
    "        Get the front element.\n",
    "        \"\"\"\n",
    "        return self.stack_A[-1]\n",
    "        \n",
    "\n",
    "    def empty(self) -> bool:\n",
    "        \"\"\"\n",
    "        Returns whether the queue is empty.\n",
    "        \"\"\"\n",
    "        return self.stack_A == []"
   ]
  },
  {
   "cell_type": "code",
   "execution_count": 29,
   "metadata": {
    "ExecuteTime": {
     "end_time": "2021-04-26T08:16:46.352933Z",
     "start_time": "2021-04-26T08:16:46.342896Z"
    }
   },
   "outputs": [
    {
     "name": "stdout",
     "output_type": "stream",
     "text": [
      "2\n",
      "4\n",
      "5\n"
     ]
    },
    {
     "data": {
      "text/plain": [
       "(5, 5)"
      ]
     },
     "execution_count": 29,
     "metadata": {},
     "output_type": "execute_result"
    }
   ],
   "source": [
    "t=MyQueue()\n",
    "t.push(2)\n",
    "t.push(4)\n",
    "t.push(5)\n",
    "while not t.empty():\n",
    "    print(t.pop())\n",
    "t.push(5)\n",
    "t.push(6)\n",
    "t.push(7)\n",
    "t.peek(),t.pop()"
   ]
  },
  {
   "cell_type": "code",
   "execution_count": 123,
   "metadata": {
    "ExecuteTime": {
     "end_time": "2021-04-27T04:00:18.774951Z",
     "start_time": "2021-04-27T04:00:18.738951Z"
    }
   },
   "outputs": [
    {
     "ename": "IndexError",
     "evalue": "pop from empty list",
     "output_type": "error",
     "traceback": [
      "\u001b[1;31m---------------------------------------------------------------------------\u001b[0m",
      "\u001b[1;31mIndexError\u001b[0m                                Traceback (most recent call last)",
      "\u001b[1;32m<ipython-input-123-47d711ddf6f1>\u001b[0m in \u001b[0;36m<module>\u001b[1;34m\u001b[0m\n\u001b[1;32m----> 1\u001b[1;33m \u001b[1;33m[\u001b[0m\u001b[1;33m]\u001b[0m\u001b[1;33m.\u001b[0m\u001b[0mpop\u001b[0m\u001b[1;33m(\u001b[0m\u001b[1;33m)\u001b[0m\u001b[1;33m\u001b[0m\u001b[1;33m\u001b[0m\u001b[0m\n\u001b[0m",
      "\u001b[1;31mIndexError\u001b[0m: pop from empty list"
     ]
    }
   ],
   "source": [
    "[].pop()"
   ]
  },
  {
   "cell_type": "markdown",
   "metadata": {},
   "source": [
    "### [用2个队列实现栈](https://leetcode-cn.com/problems/implement-stack-using-queues/)"
   ]
  },
  {
   "cell_type": "markdown",
   "metadata": {},
   "source": [
    "### [删除最外层的括号](https://leetcode-cn.com/problems/remove-outermost-parentheses/)"
   ]
  },
  {
   "cell_type": "code",
   "execution_count": 60,
   "metadata": {
    "ExecuteTime": {
     "end_time": "2021-04-26T09:37:49.538997Z",
     "start_time": "2021-04-26T09:37:49.531995Z"
    }
   },
   "outputs": [],
   "source": [
    "class Solution:\n",
    "    def removeOuterParentheses(self, S: str) -> str:\n",
    "        stack = []\n",
    "        part_bool = False\n",
    "        left_cnt,right_cnt =0,0\n",
    "        for s in S:\n",
    "            if s =='(':\n",
    "                if part_bool == False:\n",
    "                    part_bool = True\n",
    "                else:\n",
    "                    stack.append(s)\n",
    "                    left_cnt += 1\n",
    "            else:\n",
    "                if right_cnt == left_cnt:\n",
    "                    part_bool = False \n",
    "                else:\n",
    "                    stack.append(s)\n",
    "                    right_cnt += 1\n",
    "            \n",
    "        return ''.join(stack)"
   ]
  },
  {
   "cell_type": "code",
   "execution_count": 62,
   "metadata": {
    "ExecuteTime": {
     "end_time": "2021-04-26T09:44:14.956993Z",
     "start_time": "2021-04-26T09:44:14.950993Z"
    }
   },
   "outputs": [
    {
     "data": {
      "text/plain": [
       "'(()())(()())'"
      ]
     },
     "execution_count": 62,
     "metadata": {},
     "output_type": "execute_result"
    }
   ],
   "source": [
    "S=\"((()())(()()))\"\n",
    "# S='()()'\n",
    "t=Solution()\n",
    "t.removeOuterParentheses(S)"
   ]
  },
  {
   "cell_type": "markdown",
   "metadata": {},
   "source": [
    "### [移除无效的括号](https://leetcode-cn.com/problems/minimum-remove-to-make-valid-parentheses/)"
   ]
  },
  {
   "cell_type": "markdown",
   "metadata": {},
   "source": [
    "### [使括号有效的最少添加](https://leetcode-cn.com/problems/minimum-add-to-make-parentheses-valid/)"
   ]
  },
  {
   "cell_type": "code",
   "execution_count": 344,
   "metadata": {
    "ExecuteTime": {
     "end_time": "2021-05-07T09:33:39.512609Z",
     "start_time": "2021-05-07T09:33:39.496608Z"
    }
   },
   "outputs": [],
   "source": [
    "class Solution:\n",
    "    def minAddToMakeValid(self, S: str) -> int:\n",
    "        stack =[]\n",
    "        for i in S:\n",
    "            if i == ')' and stack and stack[-1] =='(':\n",
    "                stack.pop()\n",
    "            else:\n",
    "                stack.append(i)\n",
    "        return len(stack) "
   ]
  },
  {
   "cell_type": "code",
   "execution_count": 345,
   "metadata": {
    "ExecuteTime": {
     "end_time": "2021-05-07T09:33:39.707613Z",
     "start_time": "2021-05-07T09:33:39.695612Z"
    }
   },
   "outputs": [
    {
     "data": {
      "text/plain": [
       "4"
      ]
     },
     "execution_count": 345,
     "metadata": {},
     "output_type": "execute_result"
    }
   ],
   "source": [
    "S=\"()))((\"\n",
    "t=Solution()\n",
    "t.minAddToMakeValid(S)"
   ]
  },
  {
   "cell_type": "markdown",
   "metadata": {},
   "source": [
    "### [平衡括号字符串的最少插入次数](https://leetcode-cn.com/problems/minimum-insertions-to-balance-a-parentheses-string/)"
   ]
  },
  {
   "cell_type": "code",
   "execution_count": 346,
   "metadata": {
    "ExecuteTime": {
     "end_time": "2021-05-07T09:33:41.381612Z",
     "start_time": "2021-05-07T09:33:41.363609Z"
    },
    "run_control": {
     "marked": true
    }
   },
   "outputs": [],
   "source": [
    "class Solution:\n",
    "    def minInsertions(self, s: str) -> int:\n",
    "        length = len(s)\n",
    "        leftCnt,insertCnt,index = 0,0,0 \n",
    "        while index<length:\n",
    "            if s[index]=='(':\n",
    "                leftCnt += 1 \n",
    "                index += 1 \n",
    "            else:\n",
    "                if leftCnt>0:\n",
    "                    leftCnt -= 1 \n",
    "                else:\n",
    "                    insertCnt += 1 \n",
    "                if index<length-1 and s[index+1] == ')':\n",
    "                    index += 2 \n",
    "                else:\n",
    "                    insertCnt += 1 \n",
    "                    index += 1 \n",
    "        insertCnt += leftCnt*2\n",
    "        return insertCnt"
   ]
  },
  {
   "cell_type": "code",
   "execution_count": 347,
   "metadata": {
    "ExecuteTime": {
     "end_time": "2021-05-07T09:33:41.903608Z",
     "start_time": "2021-05-07T09:33:41.891614Z"
    }
   },
   "outputs": [
    {
     "data": {
      "text/plain": [
       "31"
      ]
     },
     "execution_count": 347,
     "metadata": {},
     "output_type": "execute_result"
    }
   ],
   "source": [
    "s=\"(()))(()))()())))\"\n",
    "s=\"(((()(()((())))(((()())))()())))(((()(()()((()()))\"\n",
    "t=Solution()\n",
    "t.minInsertions(s) "
   ]
  },
  {
   "cell_type": "markdown",
   "metadata": {
    "ExecuteTime": {
     "end_time": "2021-04-30T07:13:21.006390Z",
     "start_time": "2021-04-30T07:13:20.993413Z"
    }
   },
   "source": [
    "### [ HTML 实体解析器](https://leetcode-cn.com/problems/html-entity-parser/)"
   ]
  },
  {
   "cell_type": "markdown",
   "metadata": {},
   "source": [
    "### [下一个更大元素 I](https://leetcode-cn.com/problems/next-greater-element-i/)"
   ]
  },
  {
   "cell_type": "code",
   "execution_count": 88,
   "metadata": {
    "ExecuteTime": {
     "end_time": "2021-04-27T02:25:20.161626Z",
     "start_time": "2021-04-27T02:25:20.136086Z"
    }
   },
   "outputs": [],
   "source": [
    "class Solution:\n",
    "    def nextGreaterElement(self, nums1: list, nums2: list) -> list:\n",
    "        import copy\n",
    "        res = [-1]*len(nums1)\n",
    "        for i in range(len(nums1)):\n",
    "            a = copy.copy(nums2)\n",
    "            para = nums1[i]\n",
    "            while a[-1] != para:\n",
    "                if a[-1]>para:\n",
    "                    res[i] = a[-1]\n",
    "                a.pop()\n",
    "                \n",
    "        return res \n",
    "    def nextGreaterElement_v2(self, nums1: list, nums2: list) -> list:\n",
    "        stack = []\n",
    "        map_dict = {}\n",
    "        for i in nums2:\n",
    "            while stack != [] and stack[-1]<i: \n",
    "                elem = stack.pop()\n",
    "                map_dict[elem] = i \n",
    "            stack.append(i)\n",
    "        if stack != []:\n",
    "            for j in stack:\n",
    "                map_dict[j] = -1\n",
    "        \n",
    "        ans = [map_dict[_] for _ in nums1]   \n",
    "        return ans "
   ]
  },
  {
   "cell_type": "code",
   "execution_count": 89,
   "metadata": {
    "ExecuteTime": {
     "end_time": "2021-04-27T02:25:54.586456Z",
     "start_time": "2021-04-27T02:25:54.577498Z"
    }
   },
   "outputs": [
    {
     "data": {
      "text/plain": [
       "[3, -1]"
      ]
     },
     "execution_count": 89,
     "metadata": {},
     "output_type": "execute_result"
    }
   ],
   "source": [
    "nums1 = [4,1,2]\n",
    "nums2 = [1,3,4,2]\n",
    "nums1=[2,4]\n",
    "nums2=[1,2,3,4]\n",
    "t=Solution()\n",
    "t.nextGreaterElement(nums1,nums2)"
   ]
  },
  {
   "cell_type": "markdown",
   "metadata": {},
   "source": [
    "### [下一个更大元素 II](https://leetcode-cn.com/problems/next-greater-element-ii/)"
   ]
  },
  {
   "cell_type": "code",
   "execution_count": 183,
   "metadata": {
    "ExecuteTime": {
     "end_time": "2021-04-29T07:23:02.090971Z",
     "start_time": "2021-04-29T07:23:02.083938Z"
    }
   },
   "outputs": [],
   "source": [
    "class Solution:\n",
    "    def nextGreaterElements(self, nums: list) ->list:\n",
    "        n = len(nums)\n",
    "        res = [-1]*n\n",
    "        stack = []\n",
    "        for i in range(2*n-1):\n",
    "            while stack and nums[stack[-1]]<nums[i%n]:\n",
    "                res[stack.pop()] = nums[i%n]\n",
    "            stack.append(i%n)\n",
    "        return res  "
   ]
  },
  {
   "cell_type": "code",
   "execution_count": 184,
   "metadata": {
    "ExecuteTime": {
     "end_time": "2021-04-29T07:23:02.227971Z",
     "start_time": "2021-04-29T07:23:02.220957Z"
    }
   },
   "outputs": [
    {
     "data": {
      "text/plain": [
       "[2, -1, 2]"
      ]
     },
     "execution_count": 184,
     "metadata": {},
     "output_type": "execute_result"
    }
   ],
   "source": [
    "nums=[1,2,1]\n",
    "t=Solution()\n",
    "t.nextGreaterElements(nums)        "
   ]
  },
  {
   "cell_type": "markdown",
   "metadata": {},
   "source": [
    "### [栈的最小值](https://leetcode-cn.com/problems/min-stack-lcci/)"
   ]
  },
  {
   "cell_type": "code",
   "execution_count": 121,
   "metadata": {
    "ExecuteTime": {
     "end_time": "2021-04-27T03:37:04.689984Z",
     "start_time": "2021-04-27T03:37:04.673520Z"
    }
   },
   "outputs": [],
   "source": [
    "class MinStack:\n",
    "\n",
    "    def __init__(self):\n",
    "        \"\"\"\n",
    "        initialize your data structure here.\n",
    "        \"\"\"\n",
    "        self._elems = []\n",
    "        self._mins = []# 单调栈，栈顶永远是栈的最小值\n",
    "\n",
    "\n",
    "    def push(self, x: int):\n",
    "        self._elems.append(x)\n",
    "        if self._mins == [] or x<self._mins[-1]:\n",
    "            self._mins.append(x)\n",
    "        else:\n",
    "            self._mins.append(self._mins[-1])\n",
    "                    \n",
    "    def pop(self):\n",
    "        self._mins.pop()\n",
    "        elem = self._elems.pop()\n",
    "        \n",
    "\n",
    "    def top(self):\n",
    "        return self._elems[-1]\n",
    "\n",
    "\n",
    "    def getMin(self):\n",
    "        return self._mins[-1]"
   ]
  },
  {
   "cell_type": "code",
   "execution_count": 122,
   "metadata": {
    "ExecuteTime": {
     "end_time": "2021-04-27T03:37:04.863343Z",
     "start_time": "2021-04-27T03:37:04.853344Z"
    },
    "run_control": {
     "marked": true
    }
   },
   "outputs": [
    {
     "name": "stdout",
     "output_type": "stream",
     "text": [
      "0\n",
      "0\n"
     ]
    }
   ],
   "source": [
    "minStack = MinStack()\n",
    "minStack.push(2)\n",
    "minStack.push(0)\n",
    "minStack.push(3)\n",
    "minStack.push(0)\n",
    "a=minStack.getMin()   \n",
    "print(a)\n",
    "minStack.pop()\n",
    "a=minStack.getMin()  \n",
    "print(a)"
   ]
  },
  {
   "cell_type": "markdown",
   "metadata": {},
   "source": [
    "### [验证栈序列](https://leetcode-cn.com/problems/validate-stack-sequences/)"
   ]
  },
  {
   "cell_type": "code",
   "execution_count": 140,
   "metadata": {
    "ExecuteTime": {
     "end_time": "2021-04-27T07:57:50.158870Z",
     "start_time": "2021-04-27T07:57:50.148869Z"
    }
   },
   "outputs": [],
   "source": [
    "class Solution:\n",
    "    def validateStackSequences(self, pushed:list, popped: list) -> bool:\n",
    "        stack = []\n",
    "        while pushed != [] or popped !=[]:\n",
    "            push = pushed[0] if pushed != [] else None\n",
    "            pop = popped[0] if popped != [] else None \n",
    "            if stack == [] or (pushed !=[] and pop != stack[-1]):\n",
    "                if push is not None:\n",
    "                    stack.append(push)\n",
    "                    pushed.pop(0)\n",
    "            elif stack != [] and pop == stack[-1]:\n",
    "                popped.pop(0)\n",
    "                stack.pop()\n",
    "            else:\n",
    "                return False \n",
    "        return True "
   ]
  },
  {
   "cell_type": "code",
   "execution_count": 141,
   "metadata": {
    "ExecuteTime": {
     "end_time": "2021-04-27T07:57:50.326872Z",
     "start_time": "2021-04-27T07:57:50.314867Z"
    }
   },
   "outputs": [
    {
     "data": {
      "text/plain": [
       "False"
      ]
     },
     "execution_count": 141,
     "metadata": {},
     "output_type": "execute_result"
    }
   ],
   "source": [
    "pushed=[1,2,3,4,5]\n",
    "popped=[4,3,5,1,2]\n",
    "t=Solution()\n",
    "t.validateStackSequences(pushed, popped) "
   ]
  },
  {
   "cell_type": "markdown",
   "metadata": {},
   "source": [
    "### [子数组的最小值之和](https://leetcode-cn.com/problems/sum-of-subarray-minimums/)"
   ]
  },
  {
   "cell_type": "markdown",
   "metadata": {},
   "source": [
    "### [反转每对括号间的子串](https://leetcode-cn.com/problems/reverse-substrings-between-each-pair-of-parentheses/)"
   ]
  },
  {
   "cell_type": "code",
   "execution_count": 164,
   "metadata": {
    "ExecuteTime": {
     "end_time": "2021-04-28T07:13:34.149497Z",
     "start_time": "2021-04-28T07:13:34.138533Z"
    }
   },
   "outputs": [],
   "source": [
    "class Solution:\n",
    "    def reverseParentheses(self, s: str) -> str:\n",
    "        left_lst = []\n",
    "        right_s = s\n",
    "        while right_s != '':\n",
    "            left_lst,right_s = self.indexReverse(left_lst,right_s)\n",
    "        return ''.join(left_lst)\n",
    "    \n",
    "    def indexReverse(self,left_lst,right_s):\n",
    "        if ')' not in right_s:\n",
    "            return left_lst + list(right_s),''\n",
    "        \n",
    "        stack_1 = []\n",
    "        i = 0 \n",
    "        while i<len(right_s) and right_s[i]!=')':\n",
    "            left_lst.append(right_s[i])\n",
    "            i += 1\n",
    "        \n",
    "        right_s = right_s[i+1:]\n",
    "        while left_lst != [] and left_lst[-1]!='(':\n",
    "            elem = left_lst.pop()\n",
    "            stack_1.append(elem)\n",
    "        left_lst.pop()\n",
    "            \n",
    "        left_lst = left_lst + stack_1        \n",
    "        return left_lst,right_s"
   ]
  },
  {
   "cell_type": "code",
   "execution_count": 168,
   "metadata": {
    "ExecuteTime": {
     "end_time": "2021-04-28T07:26:31.883500Z",
     "start_time": "2021-04-28T07:26:31.875534Z"
    }
   },
   "outputs": [],
   "source": [
    "class Solution:\n",
    "    def reverseParentheses(self,s: str) -> str:\n",
    "        stack=[]\n",
    "        for c in s:\n",
    "            if c!=')': \n",
    "                stack.append(c) # 左括号or字母入栈\n",
    "            elif c==')': \n",
    "                temp=[] # 临时列表 用于保存翻转后子串\n",
    "                while stack and stack[-1]!='(': \n",
    "                    temp.append(stack.pop())\n",
    "                stack.pop() # 左括号弹出\n",
    "                stack+=temp # 接上temp，即内层翻转后的字符串\n",
    "        return ''.join(stack)"
   ]
  },
  {
   "cell_type": "code",
   "execution_count": 170,
   "metadata": {
    "ExecuteTime": {
     "end_time": "2021-04-28T07:27:09.312536Z",
     "start_time": "2021-04-28T07:27:09.305495Z"
    }
   },
   "outputs": [
    {
     "data": {
      "text/plain": [
       "'apmnolkjihgfedcbq'"
      ]
     },
     "execution_count": 170,
     "metadata": {},
     "output_type": "execute_result"
    }
   ],
   "source": [
    "s = \"a(bcdefghijkl(mno)p)q\"\n",
    "t=Solution()\n",
    "t.reverseParentheses(s)"
   ]
  },
  {
   "cell_type": "markdown",
   "metadata": {},
   "source": [
    "### [移掉K位数字](https://leetcode-cn.com/problems/remove-k-digits/)"
   ]
  },
  {
   "cell_type": "markdown",
   "metadata": {},
   "source": [
    "### [删除字符串中的所有相邻重复项 II](https://leetcode-cn.com/problems/remove-all-adjacent-duplicates-in-string-ii/)"
   ]
  },
  {
   "cell_type": "markdown",
   "metadata": {},
   "source": [
    "### [股票价格跨度](https://leetcode-cn.com/problems/online-stock-span/)"
   ]
  },
  {
   "cell_type": "markdown",
   "metadata": {},
   "source": [
    "### [找出最具竞争力的子序列](https://leetcode-cn.com/problems/find-the-most-competitive-subsequence/)"
   ]
  },
  {
   "cell_type": "code",
   "execution_count": 260,
   "metadata": {
    "ExecuteTime": {
     "end_time": "2021-05-06T05:42:25.138790Z",
     "start_time": "2021-05-06T05:42:25.127788Z"
    }
   },
   "outputs": [],
   "source": [
    "class Solution:\n",
    "    def mostCompetitive(self, nums: list, k: int) -> list:\n",
    "        stack = []\n",
    "        i = 0 \n",
    "        while i<len(nums):\n",
    "            if stack == [] or (len(stack)<k and nums[i]>=stack[-1]) or len(stack)+ len(nums)-i == k:\n",
    "                stack.append(nums[i])\n",
    "            else:\n",
    "                while stack != [] and stack[-1]>nums[i] and len(stack)+ len(nums)-i > k:\n",
    "                    stack.pop()\n",
    "                if len(stack)<k:\n",
    "                    stack.append(nums[i])\n",
    "            i += 1\n",
    "        return stack"
   ]
  },
  {
   "cell_type": "code",
   "execution_count": 262,
   "metadata": {
    "ExecuteTime": {
     "end_time": "2021-05-06T06:19:54.833788Z",
     "start_time": "2021-05-06T06:19:54.812787Z"
    }
   },
   "outputs": [],
   "source": [
    "nums = [2,4,3,3,5,4,9,6]\n",
    "k = 4\n",
    "nums=[84,10,71,23,66,61,62,64,34,41,80,25,91,43,4,75,65,13,37,41,46,90,55,8,85,61,95,71]\n",
    "k=24\n",
    "t=Solution()\n",
    "s=t.mostCompetitive(nums, k)"
   ]
  },
  {
   "cell_type": "markdown",
   "metadata": {
    "ExecuteTime": {
     "end_time": "2021-05-06T08:06:31.259152Z",
     "start_time": "2021-05-06T08:06:31.251155Z"
    }
   },
   "source": [
    "### [逆波兰表达式求值](https://leetcode-cn.com/problems/evaluate-reverse-polish-notation/)"
   ]
  },
  {
   "cell_type": "code",
   "execution_count": 318,
   "metadata": {
    "ExecuteTime": {
     "end_time": "2021-05-06T08:16:38.308154Z",
     "start_time": "2021-05-06T08:16:38.298154Z"
    }
   },
   "outputs": [],
   "source": [
    "class Solution:\n",
    "    def evalRPN(self, tokens: list) -> int:\n",
    "        stack = []\n",
    "        for i in tokens:\n",
    "            if i not in '+-*/':\n",
    "                stack.append(int(i))\n",
    "            else:\n",
    "                p2 = stack.pop()\n",
    "                p1 = stack.pop()\n",
    "                if i == '+':\n",
    "                    stack.append(p1+p2)\n",
    "                elif i == '-':\n",
    "                    stack.append(p1-p2)\n",
    "                elif i == '*':\n",
    "                    stack.append(p1*p2)\n",
    "                elif i == '/':\n",
    "                    stack.append(int(p1/p2))\n",
    "        return stack[-1]"
   ]
  },
  {
   "cell_type": "code",
   "execution_count": 319,
   "metadata": {
    "ExecuteTime": {
     "end_time": "2021-05-06T08:16:38.463154Z",
     "start_time": "2021-05-06T08:16:38.451155Z"
    }
   },
   "outputs": [
    {
     "data": {
      "text/plain": [
       "22"
      ]
     },
     "execution_count": 319,
     "metadata": {},
     "output_type": "execute_result"
    }
   ],
   "source": [
    "tokens = [\"10\",\"6\",\"9\",\"3\",\"+\",\"-11\",\"*\",\"/\",\"*\",\"17\",\"+\",\"5\",\"+\"]\n",
    "t=Solution()\n",
    "t.evalRPN(tokens)"
   ]
  },
  {
   "cell_type": "markdown",
   "metadata": {},
   "source": [
    "### [索引处的解码字符串](https://leetcode-cn.com/problems/decoded-string-at-index/)"
   ]
  },
  {
   "cell_type": "code",
   "execution_count": 328,
   "metadata": {
    "ExecuteTime": {
     "end_time": "2021-05-06T09:46:37.442934Z",
     "start_time": "2021-05-06T09:46:37.434934Z"
    }
   },
   "outputs": [],
   "source": [
    "class Solution(object):#官方解法\n",
    "    def decodeAtIndex(self, S, K):\n",
    "        size = 0\n",
    "        # Find size = length of decoded string\n",
    "        for c in S:\n",
    "            if c.isdigit():\n",
    "                size *= int(c)\n",
    "            else:\n",
    "                size += 1\n",
    "\n",
    "        for c in reversed(S):\n",
    "            K %= size\n",
    "            if K == 0 and c.isalpha():\n",
    "                return c\n",
    "\n",
    "            if c.isdigit():\n",
    "                size /= int(c)\n",
    "            else:\n",
    "                size -= 1"
   ]
  },
  {
   "cell_type": "code",
   "execution_count": 327,
   "metadata": {
    "ExecuteTime": {
     "end_time": "2021-05-06T09:46:29.800936Z",
     "start_time": "2021-05-06T09:46:29.788969Z"
    }
   },
   "outputs": [
    {
     "data": {
      "text/plain": [
       "'h'"
      ]
     },
     "execution_count": 327,
     "metadata": {},
     "output_type": "execute_result"
    }
   ],
   "source": [
    "t=Solution()\n",
    "t.decodeAtIndex(S=\"ha22\", K=5)"
   ]
  },
  {
   "cell_type": "markdown",
   "metadata": {},
   "source": [
    "### [字符串解码](https://leetcode-cn.com/problems/decode-string/)"
   ]
  },
  {
   "cell_type": "code",
   "execution_count": 338,
   "metadata": {
    "ExecuteTime": {
     "end_time": "2021-05-07T03:43:34.969036Z",
     "start_time": "2021-05-07T03:43:34.949036Z"
    }
   },
   "outputs": [],
   "source": [
    "class Solution:\n",
    "    def decodeString(self, s: str) -> str:\n",
    "        stack = []\n",
    "        i = len(s)-1\n",
    "        while i>=0:\n",
    "            if s[i] !='[':\n",
    "                stack.append(s[i])\n",
    "                i -= 1 \n",
    "            else:\n",
    "                cur = ''\n",
    "                while stack[-1] !=']':\n",
    "                    elem = stack.pop()\n",
    "                    cur += elem\n",
    "                stack.pop()#弹出 ']'\n",
    "                \n",
    "                # 得到数字\n",
    "                num = ''\n",
    "                i -= 1\n",
    "                while s[i].isdigit():\n",
    "                    num += s[i]\n",
    "                    i -= 1\n",
    "                \n",
    "                stack.append(cur*int(num[::-1]))\n",
    "                \n",
    "        return ''.join(stack[::-1])               "
   ]
  },
  {
   "cell_type": "code",
   "execution_count": 342,
   "metadata": {
    "ExecuteTime": {
     "end_time": "2021-05-07T03:44:36.659647Z",
     "start_time": "2021-05-07T03:44:36.652612Z"
    }
   },
   "outputs": [
    {
     "data": {
      "text/plain": [
       "'accaccacc'"
      ]
     },
     "execution_count": 342,
     "metadata": {},
     "output_type": "execute_result"
    }
   ],
   "source": [
    "s = \"3[a2[c]]\"\n",
    "# \"accaccacc\"\n",
    "t=Solution()\n",
    "t.decodeString(s)"
   ]
  },
  {
   "cell_type": "markdown",
   "metadata": {},
   "source": [
    "### [ 每日温度](https://leetcode-cn.com/problems/daily-temperatures/)"
   ]
  },
  {
   "cell_type": "markdown",
   "metadata": {},
   "source": [
    "### [行星碰撞](https://leetcode-cn.com/problems/asteroid-collision/)"
   ]
  },
  {
   "cell_type": "markdown",
   "metadata": {},
   "source": [
    "# 队列"
   ]
  },
  {
   "cell_type": "markdown",
   "metadata": {},
   "source": [
    "队列：\n",
    "1. 保证元素**先进先出**的原则(first in first out)，简称FIFO原则；\n",
    "2. 只需要保证元素存入的时间顺序，不需要保存元素之间的任何顺序；\n",
    "3. 从实现角度看，最自然的实现队列的技术就是带尾指针的链表；\n",
    "4. 队列支持的操作：存入元素(出队、入队)、访问(最先入队的)元素、删除(第一个)元素;\n",
    "5. 队列是一种广度优先搜索对应的数据结构。"
   ]
  },
  {
   "cell_type": "markdown",
   "metadata": {},
   "source": [
    "## 队列的链接表实现"
   ]
  },
  {
   "cell_type": "code",
   "execution_count": 5,
   "metadata": {
    "ExecuteTime": {
     "end_time": "2021-04-25T09:29:21.126629Z",
     "start_time": "2021-04-25T09:29:21.112627Z"
    }
   },
   "outputs": [],
   "source": [
    "class LNode():\n",
    "    def __init__(self,elem,_next=None):\n",
    "        self.elem = elem \n",
    "        self.next = _next \n",
    "\n",
    "class QueueUnerflow(ValueError):\n",
    "    pass\n",
    "\n",
    "class LQueue():# 基于链表实现栈\n",
    "    def __init__(self):\n",
    "        self._top = None\n",
    "        self._end = None \n",
    "    \n",
    "    def is_empty(self):# 判断是否为空\n",
    "        return self._top is None\n",
    "    \n",
    "    def peek(self): # 访问最先入队的元素\n",
    "        if self._top is None:\n",
    "            raise StackUnerflow('LQueue is empty:LQueue.peek()')\n",
    "        return self._top.elem \n",
    "    \n",
    "    def enqueue(self,elem):# 元素入队\n",
    "        if self._top is None:\n",
    "            self._top = LNode(elem,self._top)   \n",
    "            self._end = self._top\n",
    "        else:\n",
    "            self._end.next = LNode(elem) \n",
    "            self._end = self._end.next\n",
    "    \n",
    "    def dequeue(self):# 元素出队\n",
    "        if self._top is None:\n",
    "            raise StackUnerflow('SStack is empty:SStack.pop()')\n",
    "        p = self._top \n",
    "        self._top = p.next \n",
    "        if self._top == None:\n",
    "            self._end = None \n",
    "        return p.elem"
   ]
  },
  {
   "cell_type": "code",
   "execution_count": 9,
   "metadata": {
    "ExecuteTime": {
     "end_time": "2021-04-25T09:30:20.304631Z",
     "start_time": "2021-04-25T09:30:20.293630Z"
    }
   },
   "outputs": [
    {
     "name": "stdout",
     "output_type": "stream",
     "text": [
      "2\n",
      "4\n",
      "5\n"
     ]
    },
    {
     "data": {
      "text/plain": [
       "(5, 5)"
      ]
     },
     "execution_count": 9,
     "metadata": {},
     "output_type": "execute_result"
    }
   ],
   "source": [
    "t=LQueue()\n",
    "t.enqueue(2)\n",
    "t.enqueue(4)\n",
    "t.enqueue(5)\n",
    "while not t.is_empty():\n",
    "    print(t.dequeue())\n",
    "t.enqueue(5)\n",
    "t.enqueue(6)\n",
    "t.enqueue(7)\n",
    "t.peek(),t.dequeue()"
   ]
  },
  {
   "cell_type": "markdown",
   "metadata": {},
   "source": [
    "## 队列的顺序表实现"
   ]
  },
  {
   "cell_type": "markdown",
   "metadata": {},
   "source": [
    "1. 将顺序表当做循环顺序表，起最后存储位置之后是最前的位置，形成一个环形；\n",
    "2. 队列满了以后需要扩充顺序表。"
   ]
  },
  {
   "cell_type": "markdown",
   "metadata": {},
   "source": [
    "## 队列的练习"
   ]
  },
  {
   "cell_type": "markdown",
   "metadata": {},
   "source": [
    "### [第 k 个数](https://leetcode-cn.com/problems/get-kth-magic-number-lcci/)"
   ]
  },
  {
   "cell_type": "code",
   "execution_count": 423,
   "metadata": {
    "ExecuteTime": {
     "end_time": "2021-05-08T06:56:50.657452Z",
     "start_time": "2021-05-08T06:56:50.643447Z"
    }
   },
   "outputs": [],
   "source": [
    "class Solution:\n",
    "    def getKthMagicNumber(self, k: int) -> int:\n",
    "        ans, a, b, c = [1], 0, 0, 0\n",
    "        for _ in range(k - 1):\n",
    "            ans.append(min(ans[a] * 3, ans[b] * 5, ans[c] * 7))\n",
    "            a += ans[-1] == ans[a] * 3\n",
    "            b += ans[-1] == ans[b] * 5\n",
    "            c += ans[-1] == ans[c] * 7\n",
    "#             print(ans,(a,b,c),min(ans[a] * 3, ans[b] * 5, ans[c] * 7))\n",
    "        return ans[-1]"
   ]
  },
  {
   "cell_type": "code",
   "execution_count": 424,
   "metadata": {
    "ExecuteTime": {
     "end_time": "2021-05-08T06:56:50.791445Z",
     "start_time": "2021-05-08T06:56:50.785451Z"
    }
   },
   "outputs": [
    {
     "data": {
      "text/plain": [
       "175"
      ]
     },
     "execution_count": 424,
     "metadata": {},
     "output_type": "execute_result"
    }
   ],
   "source": [
    "t=Solution()\n",
    "t.getKthMagicNumber(k=20)"
   ]
  },
  {
   "cell_type": "markdown",
   "metadata": {},
   "source": [
    "### [设计循环队列](https://leetcode-cn.com/problems/design-circular-queue/)"
   ]
  },
  {
   "cell_type": "code",
   "execution_count": 513,
   "metadata": {
    "ExecuteTime": {
     "end_time": "2021-05-08T09:34:29.471010Z",
     "start_time": "2021-05-08T09:34:29.457067Z"
    }
   },
   "outputs": [],
   "source": [
    "class MyCircularQueue(object):\n",
    "\n",
    "    def __init__(self, k):\n",
    "        self._elems = [None]*k\n",
    "        self.maxSize = k\n",
    "        self.head = 0\n",
    "        self.rear = 0\n",
    "        self.elemsNum= 0\n",
    "        \n",
    "\n",
    "    def enQueue(self, value: int) -> bool:\n",
    "        if self.elemsNum != self.maxSize:\n",
    "            self._elems[self.rear] = value \n",
    "            self.rear = (self.rear+1)%self.maxSize\n",
    "            self.elemsNum += 1 \n",
    "            return True\n",
    "        return False\n",
    "\n",
    "\n",
    "    def deQueue(self) -> bool:\n",
    "        if self.elemsNum == 0:\n",
    "            return False\n",
    "        self._elems[self.head] = None\n",
    "        self.head  = (self.head + 1)%self.maxSize\n",
    "        self.elemsNum -= 1\n",
    "        return True\n",
    "\n",
    "        \n",
    "    def Front(self) -> int:\n",
    "        if self.elemsNum == 0:\n",
    "            return -1 \n",
    "        return self._elems[self.head]\n",
    "\n",
    "\n",
    "    def Rear(self) -> int:\n",
    "        if self.elemsNum == 0:\n",
    "            return -1 \n",
    "        index =(self.rear-1+self.maxSize)%self.maxSize\n",
    "        return self._elems[index]\n",
    "\n",
    "\n",
    "    def isEmpty(self) -> bool:\n",
    "        return self.elemsNum == 0\n",
    "\n",
    "\n",
    "    def isFull(self) -> bool:\n",
    "        return self.elemsNum == self.maxSize"
   ]
  },
  {
   "cell_type": "code",
   "execution_count": 514,
   "metadata": {
    "ExecuteTime": {
     "end_time": "2021-05-08T09:34:30.373049Z",
     "start_time": "2021-05-08T09:34:30.362016Z"
    }
   },
   "outputs": [
    {
     "name": "stdout",
     "output_type": "stream",
     "text": [
      "True\n",
      "True\n",
      "True\n",
      "False\n",
      "3\n",
      "True\n",
      "True\n",
      "True\n",
      "4\n"
     ]
    }
   ],
   "source": [
    "circularQueue = MyCircularQueue(3)\n",
    "for i in range(1,5):\n",
    "    t = circularQueue.enQueue(i)#返回 true\n",
    "    print(t)\n",
    "\n",
    "t=circularQueue.Rear()#// 返回 3\n",
    "print(t)\n",
    "t=circularQueue.isFull()#// 返回 true\n",
    "print(t)\n",
    "t=circularQueue.deQueue()#// 返回 true\n",
    "print(t)\n",
    "t=circularQueue.enQueue(4)#// 返回 true\n",
    "print(t)\n",
    "t=circularQueue.Rear()#// 返回 4\n",
    "print(t)"
   ]
  },
  {
   "cell_type": "markdown",
   "metadata": {},
   "source": [
    "### [设计循环双端队列](https://leetcode-cn.com/problems/design-circular-deque/)"
   ]
  },
  {
   "cell_type": "code",
   "execution_count": 515,
   "metadata": {
    "ExecuteTime": {
     "end_time": "2021-05-08T09:34:33.439054Z",
     "start_time": "2021-05-08T09:34:33.420011Z"
    }
   },
   "outputs": [],
   "source": [
    "class MyCircularDeque(object):\n",
    "    \n",
    "    def __init__(self, k):\n",
    "        self._elems = [None]*k\n",
    "        self.maxSize = k\n",
    "        self.head = 0\n",
    "        self.rear = 0\n",
    "        self.elemsNum= 0\n",
    "        \n",
    "\n",
    "    def insertFront(self, value: int) -> bool:\n",
    "        \"\"\"\n",
    "        Adds an item at the front of Deque. Return true if the operation is successful.\n",
    "        \"\"\"\n",
    "        if self.elemsNum != self.maxSize:\n",
    "            self.head = (self.head-1+self.maxSize)%self.maxSize\n",
    "            self._elems[self.head] = value \n",
    "            self.elemsNum += 1 \n",
    "            return True\n",
    "        return False\n",
    "       \n",
    "        \n",
    "\n",
    "    def insertLast(self, value: int) -> bool:\n",
    "        \"\"\"\n",
    "        Adds an item at the rear of Deque. Return true if the operation is successful.\n",
    "        \"\"\"\n",
    "        if self.elemsNum != self.maxSize:\n",
    "            self._elems[self.rear] = value \n",
    "            self.rear = (self.rear+1)%self.maxSize\n",
    "            self.elemsNum += 1 \n",
    "            return True\n",
    "        return False\n",
    "        \n",
    "\n",
    "    def deleteFront(self) -> bool:\n",
    "        \"\"\"\n",
    "        Deletes an item from the front of Deque. Return true if the operation is successful.\n",
    "        \"\"\"\n",
    "        if self.elemsNum == 0:\n",
    "            return False\n",
    "        self._elems[self.head] = None\n",
    "        self.head  = (self.head + 1)%self.maxSize\n",
    "        self.elemsNum -= 1\n",
    "        return True\n",
    "\n",
    "        \n",
    "\n",
    "    def deleteLast(self) -> bool:\n",
    "        \"\"\"\n",
    "        Deletes an item from the rear of Deque. Return true if the operation is successful.\n",
    "        \"\"\"\n",
    "        if self.elemsNum == 0:\n",
    "            return False\n",
    "        index =(self.rear-1+self.maxSize)%self.maxSize\n",
    "        self._elems[index]=None \n",
    "        self.rear = index\n",
    "        self.elemsNum -= 1 \n",
    "        return True\n",
    "        \n",
    "\n",
    "    def getFront(self) -> int:\n",
    "        \"\"\"\n",
    "        Get the front item from the deque.\n",
    "        \"\"\"\n",
    "        if self.elemsNum == 0:\n",
    "            return -1 \n",
    "        return self._elems[self.head]\n",
    "        \n",
    "\n",
    "    def getRear(self) -> int:\n",
    "        \"\"\"\n",
    "        Get the last item from the deque.\n",
    "        \"\"\"\n",
    "        if self.elemsNum == 0:\n",
    "            return -1 \n",
    "        index =(self.rear-1+self.maxSize)%self.maxSize\n",
    "        return self._elems[index]\n",
    "        \n",
    "\n",
    "    def isEmpty(self) -> bool:\n",
    "        return self.elemsNum == 0\n",
    "\n",
    "\n",
    "    def isFull(self) -> bool:\n",
    "        return self.elemsNum == self.maxSize"
   ]
  },
  {
   "cell_type": "code",
   "execution_count": 516,
   "metadata": {
    "ExecuteTime": {
     "end_time": "2021-05-08T09:34:38.135011Z",
     "start_time": "2021-05-08T09:34:38.127011Z"
    }
   },
   "outputs": [
    {
     "name": "stdout",
     "output_type": "stream",
     "text": [
      "True\n",
      "True\n",
      "True\n",
      "False\n"
     ]
    }
   ],
   "source": [
    "s = MyCircularDeque(3)\n",
    "for i in [1,2]:\n",
    "    t = s.insertLast(i)#返回 true\n",
    "    print(t)\n",
    "for i in [3,4]:\n",
    "    t = s.insertFront(i)#返回 true\n",
    "    print(t)\n"
   ]
  }
 ],
 "metadata": {
  "hide_input": false,
  "kernelspec": {
   "display_name": "Python 3",
   "language": "python",
   "name": "python3"
  },
  "language_info": {
   "codemirror_mode": {
    "name": "ipython",
    "version": 3
   },
   "file_extension": ".py",
   "mimetype": "text/x-python",
   "name": "python",
   "nbconvert_exporter": "python",
   "pygments_lexer": "ipython3",
   "version": "3.7.3"
  },
  "toc": {
   "base_numbering": 1,
   "nav_menu": {},
   "number_sections": true,
   "sideBar": true,
   "skip_h1_title": false,
   "title_cell": "Table of Contents",
   "title_sidebar": "Contents",
   "toc_cell": false,
   "toc_position": {},
   "toc_section_display": true,
   "toc_window_display": true
  },
  "varInspector": {
   "cols": {
    "lenName": 16,
    "lenType": 16,
    "lenVar": 40
   },
   "kernels_config": {
    "python": {
     "delete_cmd_postfix": "",
     "delete_cmd_prefix": "del ",
     "library": "var_list.py",
     "varRefreshCmd": "print(var_dic_list())"
    },
    "r": {
     "delete_cmd_postfix": ") ",
     "delete_cmd_prefix": "rm(",
     "library": "var_list.r",
     "varRefreshCmd": "cat(var_dic_list()) "
    }
   },
   "types_to_exclude": [
    "module",
    "function",
    "builtin_function_or_method",
    "instance",
    "_Feature"
   ],
   "window_display": false
  }
 },
 "nbformat": 4,
 "nbformat_minor": 2
}
