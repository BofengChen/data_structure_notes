{
 "cells": [
  {
   "cell_type": "markdown",
   "metadata": {},
   "source": [
    "# 栈"
   ]
  },
  {
   "cell_type": "markdown",
   "metadata": {},
   "source": [
    "栈：\n",
    "1. 保证元素**后进先出**的原则(last in first out)，简称LIFO原则；\n",
    "2. 只需要保证元素存入的时间顺序，不需要保存元素之间的任何顺序；\n",
    "3. 从实现角度看，最自然的实现栈的技术就是线性表；\n",
    "4. 栈支持的操作：存入元素(进栈、入栈)、访问(最后一个)元素、删除(最后一个)元素。"
   ]
  },
  {
   "cell_type": "markdown",
   "metadata": {},
   "source": [
    "## 栈的线性表实现"
   ]
  },
  {
   "cell_type": "markdown",
   "metadata": {},
   "source": [
    "* 对于顺序表，后端的插入和删除是$O(1)$操作，所以应该用这一端作为栈顶；\n",
    "* 对于链表，前端的插入和删除是$O(1)$操作，所以应该用这一端作为栈顶。"
   ]
  },
  {
   "cell_type": "markdown",
   "metadata": {},
   "source": [
    "### 栈的顺序表实现"
   ]
  },
  {
   "cell_type": "markdown",
   "metadata": {},
   "source": [
    "list 满足了栈的全部需求，但是list本身一些操作是不符合栈的定义，而且本身还是一个list对象。所以，可以基于list作为底层的类，实现一个栈类。"
   ]
  },
  {
   "cell_type": "code",
   "execution_count": 6,
   "metadata": {
    "ExecuteTime": {
     "end_time": "2021-04-25T03:11:45.761312Z",
     "start_time": "2021-04-25T03:11:45.749127Z"
    }
   },
   "outputs": [],
   "source": [
    "class StackUnerflow(ValueError):\n",
    "    pass\n",
    "\n",
    "class SStack():# 基于顺序表实现栈\n",
    "    def __init__(self):\n",
    "        self._elems = []\n",
    "    \n",
    "    def is_empty(self):# 判断是否为空\n",
    "        return self._elems == []\n",
    "    \n",
    "    def top(self): # 访问栈顶元素\n",
    "        if self._elems == []:\n",
    "            raise StackUnerflow('SStack is empty:SStack.top()')\n",
    "        return self._elems.pop()\n",
    "    \n",
    "    def push(self,elem):# 元素入栈\n",
    "        self._elems.append(elem)\n",
    "    \n",
    "    def pop(self):\n",
    "        if self._elems == []:\n",
    "            raise StackUnerflow('SStack is empty:SStack.pop()')\n",
    "        return self._elems.pop()"
   ]
  },
  {
   "cell_type": "code",
   "execution_count": 8,
   "metadata": {
    "ExecuteTime": {
     "end_time": "2021-04-25T03:12:31.423751Z",
     "start_time": "2021-04-25T03:12:31.409754Z"
    }
   },
   "outputs": [
    {
     "name": "stdout",
     "output_type": "stream",
     "text": [
      "5\n",
      "4\n",
      "2\n"
     ]
    }
   ],
   "source": [
    "t=SStack()\n",
    "t.push(2)\n",
    "t.push(4)\n",
    "t.push(5)\n",
    "while not t.is_empty():\n",
    "    print(t.pop())"
   ]
  },
  {
   "cell_type": "markdown",
   "metadata": {},
   "source": [
    "### 栈的链表实现"
   ]
  },
  {
   "cell_type": "markdown",
   "metadata": {},
   "source": [
    "顺序表实现栈的缺点在于：\n",
    "1. 扩大存储区需要一次高代价的操作；\n",
    "2. 顺序表需要一块完整的存储区。\n",
    "\n",
    "链表在这两个问题上都有优势，缺点在于结点的链接开销以及结点在计算机内随意分布的操作开销。"
   ]
  },
  {
   "cell_type": "code",
   "execution_count": 15,
   "metadata": {
    "ExecuteTime": {
     "end_time": "2021-04-25T03:29:27.877817Z",
     "start_time": "2021-04-25T03:29:27.857508Z"
    }
   },
   "outputs": [],
   "source": [
    "class LNode():\n",
    "    def __init__(self,elem,_next=None):\n",
    "        self.elem = elem \n",
    "        self.next = _next \n",
    "\n",
    "class StackUnerflow(ValueError):\n",
    "    pass\n",
    "\n",
    "class LStack():# 基于链表实现栈\n",
    "    def __init__(self):\n",
    "        self._top = None \n",
    "    \n",
    "    def is_empty(self):# 判断是否为空\n",
    "        return self._top is None\n",
    "    \n",
    "    def top(self): # 访问栈顶元素\n",
    "        if self._top is None:\n",
    "            raise StackUnerflow('SStack is empty:SStack.top()')\n",
    "        return self._top.elem \n",
    "    \n",
    "    def push(self,elem):# 元素入栈\n",
    "        self._top = LNode(elem,self._top)\n",
    "    \n",
    "    def pop(self):\n",
    "        if self._top is None:\n",
    "            raise StackUnerflow('SStack is empty:SStack.pop()')\n",
    "        p = self._top \n",
    "        self._top = p.next         \n",
    "        return p.elem"
   ]
  },
  {
   "cell_type": "code",
   "execution_count": 16,
   "metadata": {
    "ExecuteTime": {
     "end_time": "2021-04-25T03:29:28.057839Z",
     "start_time": "2021-04-25T03:29:28.050818Z"
    }
   },
   "outputs": [
    {
     "name": "stdout",
     "output_type": "stream",
     "text": [
      "5\n",
      "4\n",
      "2\n"
     ]
    }
   ],
   "source": [
    "t=LStack()\n",
    "t.push(2)\n",
    "t.push(4)\n",
    "t.push(5)\n",
    "while not t.is_empty():\n",
    "    print(t.pop())"
   ]
  },
  {
   "cell_type": "markdown",
   "metadata": {},
   "source": [
    "# 队列"
   ]
  },
  {
   "cell_type": "markdown",
   "metadata": {},
   "source": [
    "队列：\n",
    "1. 保证元素**先进先出**的原则(first in first out)，简称FIFO原则；\n",
    "2. 只需要保证元素存入的时间顺序，不需要保存元素之间的任何顺序；\n",
    "3. 从实现角度看，最自然的实现队列的技术就是带尾指针的链表；\n",
    "4. 队列支持的操作：存入元素(出队、入队)、访问(最先入队的)元素、删除(第一个)元素。"
   ]
  },
  {
   "cell_type": "markdown",
   "metadata": {},
   "source": [
    "## 队列的链接表实现"
   ]
  },
  {
   "cell_type": "code",
   "execution_count": 5,
   "metadata": {
    "ExecuteTime": {
     "end_time": "2021-04-25T09:29:21.126629Z",
     "start_time": "2021-04-25T09:29:21.112627Z"
    }
   },
   "outputs": [],
   "source": [
    "class LNode():\n",
    "    def __init__(self,elem,_next=None):\n",
    "        self.elem = elem \n",
    "        self.next = _next \n",
    "\n",
    "class QueueUnerflow(ValueError):\n",
    "    pass\n",
    "\n",
    "class LQueue():# 基于链表实现栈\n",
    "    def __init__(self):\n",
    "        self._top = None\n",
    "        self._end = None \n",
    "    \n",
    "    def is_empty(self):# 判断是否为空\n",
    "        return self._top is None\n",
    "    \n",
    "    def peek(self): # 访问最先入队的元素\n",
    "        if self._top is None:\n",
    "            raise StackUnerflow('LQueue is empty:LQueue.peek()')\n",
    "        return self._top.elem \n",
    "    \n",
    "    def enqueue(self,elem):# 元素入队\n",
    "        if self._top is None:\n",
    "            self._top = LNode(elem,self._top)   \n",
    "            self._end = self._top\n",
    "        else:\n",
    "            self._end.next = LNode(elem) \n",
    "            self._end = self._end.next\n",
    "    \n",
    "    def dequeue(self):# 元素出队\n",
    "        if self._top is None:\n",
    "            raise StackUnerflow('SStack is empty:SStack.pop()')\n",
    "        p = self._top \n",
    "        self._top = p.next \n",
    "        if self._top == None:\n",
    "            self._end = None \n",
    "        return p.elem"
   ]
  },
  {
   "cell_type": "code",
   "execution_count": 9,
   "metadata": {
    "ExecuteTime": {
     "end_time": "2021-04-25T09:30:20.304631Z",
     "start_time": "2021-04-25T09:30:20.293630Z"
    }
   },
   "outputs": [
    {
     "name": "stdout",
     "output_type": "stream",
     "text": [
      "2\n",
      "4\n",
      "5\n"
     ]
    },
    {
     "data": {
      "text/plain": [
       "(5, 5)"
      ]
     },
     "execution_count": 9,
     "metadata": {},
     "output_type": "execute_result"
    }
   ],
   "source": [
    "t=LQueue()\n",
    "t.enqueue(2)\n",
    "t.enqueue(4)\n",
    "t.enqueue(5)\n",
    "while not t.is_empty():\n",
    "    print(t.dequeue())\n",
    "t.enqueue(5)\n",
    "t.enqueue(6)\n",
    "t.enqueue(7)\n",
    "t.peek(),t.dequeue()"
   ]
  },
  {
   "cell_type": "markdown",
   "metadata": {},
   "source": [
    "## 队列的顺序表实现"
   ]
  },
  {
   "cell_type": "markdown",
   "metadata": {},
   "source": [
    "1. 将顺序表当做循环顺序表，起最后存储位置之后是最前的位置，形成一个环形；\n",
    "2. 队列满了以后需要扩充顺序表。"
   ]
  },
  {
   "cell_type": "markdown",
   "metadata": {
    "ExecuteTime": {
     "end_time": "2020-03-12T10:53:21.642361Z",
     "start_time": "2020-03-12T10:53:21.522641Z"
    }
   },
   "source": [
    "## 案例"
   ]
  },
  {
   "cell_type": "markdown",
   "metadata": {},
   "source": [
    "### 正确字符串判断"
   ]
  },
  {
   "cell_type": "code",
   "execution_count": 1,
   "metadata": {
    "ExecuteTime": {
     "end_time": "2019-10-14T04:12:32.973019Z",
     "start_time": "2019-10-14T04:12:32.962040Z"
    }
   },
   "outputs": [],
   "source": [
    "def str_to_list(sample):\n",
    "    assert type(sample)==str\n",
    "    p = ['{}','[]','()']\n",
    "    strToInt = {}\n",
    "    for i in range(len(p)):\n",
    "        strToInt.update({p[i][0]: i+1, p[i][1]:-(i+1)})\n",
    "    \n",
    "    sample_list = [strToInt[_] for _ in sample]\n",
    "    return sample_list\n",
    "    \n",
    "\n",
    "def stack_right_str(sample):\n",
    "    if sample == '':\n",
    "        return True\n",
    "    elif len(sample)%2 != 0:\n",
    "        return False\n",
    "    else:\n",
    "        sample_list = str_to_list(sample)\n",
    "        stack_list = []\n",
    "        print('origin sample is',sample_list)\n",
    "        a = 0\n",
    "        while len(sample_list) != 0:\n",
    "            \n",
    "            end = sample_list.pop(-1)\n",
    "            \n",
    "            if len(stack_list) == 0 or stack_list[-1] != -end:\n",
    "                stack_list.append(end)\n",
    "            else:\n",
    "                stack_list.pop(-1)\n",
    "                \n",
    "            a += 1\n",
    "            step_k = 'step {}'.format(a)\n",
    "            print(step_k,stack_list)\n",
    "            print(step_k,sample_list)\n",
    "\n",
    "        if len(stack_list) !=0:\n",
    "            return False\n",
    "        else:\n",
    "            return True"
   ]
  },
  {
   "cell_type": "code",
   "execution_count": 3,
   "metadata": {
    "ExecuteTime": {
     "end_time": "2019-10-14T04:12:44.900130Z",
     "start_time": "2019-10-14T04:12:44.891157Z"
    }
   },
   "outputs": [
    {
     "name": "stdout",
     "output_type": "stream",
     "text": [
      "origin sample is [1, -1, 2, 1, 3, -3, -1, -2]\n",
      "step 1 [-2]\n",
      "step 1 [1, -1, 2, 1, 3, -3, -1]\n",
      "step 2 [-2, -1]\n",
      "step 2 [1, -1, 2, 1, 3, -3]\n",
      "step 3 [-2, -1, -3]\n",
      "step 3 [1, -1, 2, 1, 3]\n",
      "step 4 [-2, -1]\n",
      "step 4 [1, -1, 2, 1]\n",
      "step 5 [-2]\n",
      "step 5 [1, -1, 2]\n",
      "step 6 []\n",
      "step 6 [1, -1]\n",
      "step 7 [-1]\n",
      "step 7 [1]\n",
      "step 8 []\n",
      "step 8 []\n"
     ]
    },
    {
     "data": {
      "text/plain": [
       "True"
      ]
     },
     "execution_count": 3,
     "metadata": {},
     "output_type": "execute_result"
    }
   ],
   "source": [
    "stack_right_str('{}[{()}]')"
   ]
  },
  {
   "cell_type": "markdown",
   "metadata": {},
   "source": [
    "### 32-最长有效括号\n",
    "\n",
    "https://leetcode-cn.com/problems/longest-valid-parentheses/"
   ]
  }
 ],
 "metadata": {
  "hide_input": false,
  "kernelspec": {
   "display_name": "Python 3",
   "language": "python",
   "name": "python3"
  },
  "language_info": {
   "codemirror_mode": {
    "name": "ipython",
    "version": 3
   },
   "file_extension": ".py",
   "mimetype": "text/x-python",
   "name": "python",
   "nbconvert_exporter": "python",
   "pygments_lexer": "ipython3",
   "version": "3.7.3"
  },
  "toc": {
   "base_numbering": 1,
   "nav_menu": {},
   "number_sections": true,
   "sideBar": true,
   "skip_h1_title": false,
   "title_cell": "Table of Contents",
   "title_sidebar": "Contents",
   "toc_cell": false,
   "toc_position": {},
   "toc_section_display": true,
   "toc_window_display": true
  },
  "varInspector": {
   "cols": {
    "lenName": 16,
    "lenType": 16,
    "lenVar": 40
   },
   "kernels_config": {
    "python": {
     "delete_cmd_postfix": "",
     "delete_cmd_prefix": "del ",
     "library": "var_list.py",
     "varRefreshCmd": "print(var_dic_list())"
    },
    "r": {
     "delete_cmd_postfix": ") ",
     "delete_cmd_prefix": "rm(",
     "library": "var_list.r",
     "varRefreshCmd": "cat(var_dic_list()) "
    }
   },
   "types_to_exclude": [
    "module",
    "function",
    "builtin_function_or_method",
    "instance",
    "_Feature"
   ],
   "window_display": false
  }
 },
 "nbformat": 4,
 "nbformat_minor": 2
}
