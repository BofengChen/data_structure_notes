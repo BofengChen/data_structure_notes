{
 "cells": [
  {
   "cell_type": "markdown",
   "metadata": {},
   "source": [
    "树的一些重要特征：\n",
    "1. 一个非空树结构存在唯一的起始结点，称为树根(root);\n",
    "2. 非树根的树结点，有且只有一个前驱，可以有0或者多个后继；\n",
    "3. 从树根结点出发，可以到达任意一个结点；\n",
    "4. 结点之间不会形成循环关系，也就是说结点之间存在着一种序，但不是全序；\n",
    "5. 树的任意两个结点出发，通过后继关系可达的2个结点集合，或者互不相交，或者其中一个集合是另一个集合的子集。"
   ]
  },
  {
   "cell_type": "markdown",
   "metadata": {},
   "source": [
    "# 二叉树"
   ]
  },
  {
   "cell_type": "markdown",
   "metadata": {},
   "source": [
    "## 二叉树的概念和性质"
   ]
  },
  {
   "cell_type": "markdown",
   "metadata": {},
   "source": [
    "**二叉树的递归定义**：二叉树是结点的有穷集合。这个集合是下面两者之一：\n",
    "\n",
    "1. 空集；\n",
    "2. 有一个称为根结点的特殊结点，其余结点是这个根结点的左子树和右子树，两棵树并不相交。"
   ]
  },
  {
   "cell_type": "markdown",
   "metadata": {},
   "source": [
    "**二叉树的一些属性**：\n",
    "\n",
    "1. 不包含任何结点的二叉树称为**空树**，只包含一个结点二叉树是一棵**单点树**；\n",
    "\n",
    "2. 一棵二叉树的根节点和子树之间的关系是**父结点与子结点**的关系：\n",
    "    * 父结点与子结点的关系称为边，这个边是单向的父子关系；\n",
    "    * 基于同一个父结点的两个子结点称为兄弟结点；\n",
    "3. 一棵树的有些结点没有子结点，称为**树叶**；树中其余结点称为分支结点；\n",
    "4. 一个结点的子结点个数称为该结点的**度数**。一个结点的度数可能是0,1,2；\n",
    "5. 从祖先结点到任意一个子孙结点形成一条唯一的路径，路径上边的条数称为该路径的**长度**；\n",
    "6. 二叉树是一种层级结构，树根是最高层，定义为第0层；对于第k层的结点来说，子结点属于k+1层。\n",
    "7. 一个结点所在的层数等于从树根到该结点的路径的长度；一棵树的高度(深度)为这棵树的最大层数，即最长的一条路径。"
   ]
  },
  {
   "cell_type": "markdown",
   "metadata": {},
   "source": [
    "**二叉树的几个典型**：\n",
    "\n",
    "1. **满二叉树**：如果二叉树中所有分支结点的度数都是2，称为一棵满二叉树；\n",
    "\n",
    "2. **扩充二叉树**：对二叉树T加入足够多的结点，使其成为一棵满二叉树，称为扩充二叉树；原结点称为内部结点，新增结点称为外部结点；\n",
    "\n",
    "3. **完全二叉树**：对于一棵高度为h的二叉树，如果第i层结点数量为 $2^{i}(0\\leq i\\leq h-1)$。如果最下一层不满，所有结点都靠左排列，空位都在右边。称为完全二叉树。\n",
    "\n",
    "下面是3种二叉树的示例。"
   ]
  },
  {
   "cell_type": "markdown",
   "metadata": {},
   "source": [
    "<img src='picture\\tree_1.png'>    \n",
    "<img src='picture\\tree_2.png'>\n",
    "<img src='picture\\tree_3.png'>"
   ]
  },
  {
   "cell_type": "markdown",
   "metadata": {},
   "source": [
    "**二叉树的性质**：\n",
    "\n",
    "1. 在非空二叉树第i层中最多有 $2^i$ 个结点；\n",
    "\n",
    "2. 高度为 h 的二叉树最多有 $2^{h+1}-1$ 个结点($h \\geq 0$)；\n",
    "\n",
    "3. 对任何非空二叉树T，叶结点数量 $n_0$ 和 度数为 2 的结点数量 $n_2$ 的关系是：$n_0 = n_2 + 1$;\n",
    "\n",
    "4. 具有 n 个结点的完全二叉树的高度 $ h=\\lfloor \\log_2 n \\rfloor $ (向下取整)。\n",
    "\n",
    "5. 如果具有 n 个结点的完全二叉树，从 0 开始按层次按从左到右进行编号，对任一结点 $i(0\\leq i\\leq n-1)$ 有：\n",
    "\n",
    "    1. 序号为 0 的结点为根；\n",
    "    2. 对于 i>0,其父结点的编号为 (i-1)/2 (此处为整除);\n",
    "    3. 结点i的左结点编号为 $2\\times i +1\\quad if \\; (2\\times i +1<n)$;\n",
    "    4. 结点i的右结点编号为 $2\\times i +2\\quad if \\; (2\\times i +2<n)$。"
   ]
  },
  {
   "cell_type": "markdown",
   "metadata": {},
   "source": [
    "**证明性质5如下：**\n",
    "\n",
    "我们来证明结论C，其他结论可以通过C推导得出。\n",
    "\n",
    "假设完美二叉树第 $n(n\\geq 0)$ 层存在一个节点下标为 i，那么第 n 层剩余节点个数(包括i节点)为：\n",
    " $$k = (2^{n+1}-1)-i$$\n",
    " \n",
    " \n",
    "假设i节点左节点下标为 j，那么在第 n+1 层中 j 节点之前(不包括 j 节点)节点数为\n",
    "$$m = 2^{n+2-1}-2k=2^{n+1}-2k$$\n",
    "\n",
    "那么\n",
    "$$\\begin{split} \n",
    "j-i \n",
    "&=m+k\\\\\n",
    "&=2^{n+1}-2k+k\\\\\n",
    "&=2^{n+1}-k\\\\\n",
    "&=2^{n+1}-(2^{n+1}-i-1)\\\\\n",
    "&=i+1\n",
    "\\end{split}$$\n",
    "\n",
    "即  $$j=2i+1$$\n",
    "证明完毕\n"
   ]
  },
  {
   "cell_type": "markdown",
   "metadata": {},
   "source": [
    "## 二叉树的抽象数据类型"
   ]
  },
  {
   "cell_type": "markdown",
   "metadata": {},
   "source": [
    "定义：\n",
    "1. 构造操作，创建一棵新二叉树；\n",
    "\n",
    "2. 判断是否为一棵空二叉树；\n",
    "\n",
    "3. 求二叉树的结点个数；\n",
    "\n",
    "4. 获取二叉树根存储的数据；\n",
    "\n",
    "5. 获得左子树；\n",
    "\n",
    "6. 获得右子树；\n",
    "\n",
    "7. btree替换左子树;\n",
    "\n",
    "8. btree替换右子树;\n",
    "\n",
    "9. 遍历二叉树各结点的迭代器；\n",
    "\n",
    "10. 对二叉树的每一个结点执行操作op\n",
    "\n"
   ]
  },
  {
   "cell_type": "markdown",
   "metadata": {},
   "source": [
    "## 遍历二叉树"
   ]
  },
  {
   "cell_type": "markdown",
   "metadata": {},
   "source": [
    "关于遍历：\n",
    "1. 每一颗二叉树有唯一的根结点，可以从树根出发获取关于二叉树的全部信息，一般也用树根来代表一棵二叉树。获取基于从父结点可以找到左右子结点，左右子结点，如果度数不为0，可以继续下去；\n",
    "\n",
    "2. 二叉树的每个结点可能都保存了一些信息，要想获取这些信息，遍历二叉树是基本且重要的操作；很多复杂的二叉树操作都要基于遍历二叉树来实现；例如找到一个结点的父结点，类似于单链表找到上一结点。"
   ]
  },
  {
   "cell_type": "markdown",
   "metadata": {},
   "source": [
    "二叉树遍历的2种方式：\n",
    "\n",
    "1. **深度优先遍历**：顺着一条路径尽可能向前探索，必要时回溯。\n",
    "\n",
    "2. **广度优先遍历**：在所有路径上齐头并进。"
   ]
  },
  {
   "cell_type": "markdown",
   "metadata": {},
   "source": [
    "### 深度优先遍历"
   ]
  },
  {
   "cell_type": "markdown",
   "metadata": {},
   "source": [
    "深度遍历一棵二叉树，需要做三件事：遍历左子树(L)、遍历右子树(R)、访问根结点(D，可能会操作数据)。"
   ]
  },
  {
   "cell_type": "markdown",
   "metadata": {},
   "source": [
    "<img src='picture\\tree_4.png'>"
   ]
  },
  {
   "cell_type": "markdown",
   "metadata": {},
   "source": [
    "选择不同的执行顺序，就会得到三种不同的遍历顺序：\n",
    "\n",
    "1. 先根顺序(DLR顺序)；\n",
    "2. 后根顺序(LRD顺序)；\n",
    "3. 中根顺序(LDR顺序)，也称为对称序。"
   ]
  },
  {
   "cell_type": "markdown",
   "metadata": {},
   "source": [
    "以下面这棵树为例，来看下三种遍历顺序分别对应的遍历结点顺序：\n",
    "\n",
    "1. 先根： A B D H E I C F J K G \n",
    "2. 后根： H D I E B J K F G C A\n",
    "3. 中根： D H B E I A J F K C G  "
   ]
  },
  {
   "cell_type": "markdown",
   "metadata": {},
   "source": [
    "<img src='picture\\tree_5.png'>"
   ]
  },
  {
   "cell_type": "markdown",
   "metadata": {},
   "source": [
    "**命题** 如果知道了一棵二叉树的对称序列，又知道了另一个遍历序列(先根 or 后根)，就可以唯一缺的这棵二叉树。"
   ]
  },
  {
   "cell_type": "markdown",
   "metadata": {},
   "source": [
    "### 宽度优先遍历"
   ]
  },
  {
   "cell_type": "markdown",
   "metadata": {},
   "source": [
    "宽度优先遍历一棵二叉树是按照**路径长度**由近到远逐层遍历。常见的是从左到右遍历，所以宽度优先遍历又称为按层次顺序遍历。"
   ]
  },
  {
   "cell_type": "markdown",
   "metadata": {},
   "source": [
    "关于上面提到的二叉树，按宽度遍历的遍历顺序是：A B C D E F G H I J K "
   ]
  },
  {
   "cell_type": "markdown",
   "metadata": {},
   "source": [
    "## 二叉树的list实现"
   ]
  },
  {
   "cell_type": "markdown",
   "metadata": {},
   "source": [
    "简单看，二叉树的结点是一个三元组，存储的是左右子树和本结点的数据。可以通过python的list 和 tuple 来实现，区别在于是否需要变动子树和结点数据。\n",
    "\n",
    "下面考虑用list来实现二叉树，基本操作同样适用于tuple。"
   ]
  },
  {
   "cell_type": "markdown",
   "metadata": {},
   "source": [
    "**设计和实现**"
   ]
  },
  {
   "cell_type": "markdown",
   "metadata": {},
   "source": [
    "设计：\n",
    "\n",
    "1. 空树用None 表示；\n",
    "2. 非空二叉树用 {d,l,r} 三元组表示：\n",
    "    * d 表示存在根结点的数据；\n",
    "    * l 和 r 表示左右两棵子树，采用和整个二叉树同样结构的list表示。"
   ]
  },
  {
   "cell_type": "markdown",
   "metadata": {},
   "source": [
    "下面以一棵二叉树为例，来用list表示一棵二叉树：\n",
    "<img src='picture\\tree_6.png'>"
   ]
  },
  {
   "cell_type": "markdown",
   "metadata": {},
   "source": [
    "```python\n",
    "['A',\n",
    "\t['B',None,None],\n",
    "\t['C',\n",
    "\t\t['D',\n",
    "\t\t\t['F',None,None],\n",
    "\t\t\t['G',None,None]\n",
    "\t\t],\n",
    "\t['E',\n",
    "\t\t['I',None,None],\n",
    "\t\t['H',None,None]\n",
    "\t\t]\n",
    "\t]\n",
    "] \n",
    "\n",
    "```"
   ]
  },
  {
   "cell_type": "markdown",
   "metadata": {},
   "source": [
    "上述的对齐只是为了便于阅读。"
   ]
  },
  {
   "cell_type": "code",
   "execution_count": 1,
   "metadata": {
    "ExecuteTime": {
     "end_time": "2021-05-12T11:21:43.749354Z",
     "start_time": "2021-05-12T11:21:43.737355Z"
    }
   },
   "outputs": [],
   "source": [
    "def BinTree(data,left=None,right=None):\n",
    "    return [data,left,right]\n",
    "\n",
    "def is_empty_BinTree(btree):\n",
    "    return btree is None \n",
    "\n",
    "def root(btree):\n",
    "    return btree[0]\n",
    "\n",
    "def left(btree):\n",
    "    return btree[1]\n",
    "\n",
    "def right(btree):\n",
    "    return btree[2]\n",
    "\n",
    "def set_root(btree,data):\n",
    "    btree[0] = data \n",
    "\n",
    "def set_left(btree,left):\n",
    "    btree[1] = left \n",
    "    \n",
    "def set_right(btree,right):\n",
    "    btree[1] = right"
   ]
  },
  {
   "cell_type": "markdown",
   "metadata": {},
   "source": [
    "基于上述定义，可以构造任意复杂的二叉树，比如："
   ]
  },
  {
   "cell_type": "code",
   "execution_count": 2,
   "metadata": {
    "ExecuteTime": {
     "end_time": "2021-05-12T11:23:13.612638Z",
     "start_time": "2021-05-12T11:23:13.605605Z"
    }
   },
   "outputs": [],
   "source": [
    "t1=BinTree(2,BinTree(4),BinTree(8))"
   ]
  },
  {
   "cell_type": "markdown",
   "metadata": {},
   "source": [
    "相当于：[2,[4,None,None],[8,None,None]]"
   ]
  },
  {
   "cell_type": "code",
   "execution_count": null,
   "metadata": {},
   "outputs": [],
   "source": []
  }
 ],
 "metadata": {
  "kernelspec": {
   "display_name": "Python 3",
   "language": "python",
   "name": "python3"
  },
  "language_info": {
   "codemirror_mode": {
    "name": "ipython",
    "version": 3
   },
   "file_extension": ".py",
   "mimetype": "text/x-python",
   "name": "python",
   "nbconvert_exporter": "python",
   "pygments_lexer": "ipython3",
   "version": "3.7.3"
  },
  "toc": {
   "base_numbering": 1,
   "nav_menu": {},
   "number_sections": true,
   "sideBar": true,
   "skip_h1_title": false,
   "title_cell": "Table of Contents",
   "title_sidebar": "Contents",
   "toc_cell": false,
   "toc_position": {},
   "toc_section_display": true,
   "toc_window_display": true
  }
 },
 "nbformat": 4,
 "nbformat_minor": 2
}
