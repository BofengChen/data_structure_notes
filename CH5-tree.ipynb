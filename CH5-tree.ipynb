{
 "cells": [
  {
   "cell_type": "markdown",
   "metadata": {},
   "source": [
    "树的一些重要特征：\n",
    "1. 一个非空树结构存在唯一的起始结点，称为树根(root);\n",
    "2. 非树根的树结点，有且只有一个前驱，可以有0或者多个后继；\n",
    "3. 从树根结点出发，可以到达任意一个结点；\n",
    "4. 结点之间不会形成循环关系，也就是说结点之间存在着一种序，但不是全序；\n",
    "5. 树的任意两个结点出发，通过后继关系可达的2个结点集合，或者互不相交，或者其中一个集合是另一个集合的子集。"
   ]
  },
  {
   "cell_type": "markdown",
   "metadata": {},
   "source": [
    "# 二叉树"
   ]
  },
  {
   "cell_type": "markdown",
   "metadata": {},
   "source": [
    "## 二叉树的概念和性质"
   ]
  },
  {
   "cell_type": "markdown",
   "metadata": {},
   "source": [
    "**二叉树的递归定义**：二叉树是结点的有穷集合。这个集合是下面两者之一：\n",
    "\n",
    "1. 空集；\n",
    "2. 有一个称为根结点的特殊结点，其余结点是这个根结点的左子树和右子树，两棵树并不相交。"
   ]
  },
  {
   "cell_type": "markdown",
   "metadata": {},
   "source": [
    "**二叉树的一些属性**：\n",
    "\n",
    "1. 不包含任何结点的二叉树称为**空树**，只包含一个结点二叉树是一棵**单点树**；\n",
    "\n",
    "2. 一棵二叉树的根结点和子树之间的关系是**父结点与子结点**的关系：\n",
    "    * 父结点与子结点的关系称为边，这个边是单向的父子关系；\n",
    "    * 基于同一个父结点的两个子结点称为兄弟结点；\n",
    "3. 一棵树的有些结点没有子结点，称为**树叶**；树中其余结点称为分支结点；\n",
    "4. 一个结点的子结点个数称为该结点的**度数**。一个结点的度数可能是0,1,2；\n",
    "5. 从祖先结点到任意一个子孙结点形成一条唯一的路径，路径上边的条数称为该路径的**长度**；\n",
    "6. 二叉树是一种层级结构，树根是最高层，定义为第0层；对于第k层的结点来说，子结点属于k+1层。\n",
    "7. 一个结点所在的 **层数=长度**；一棵树的高度(深度)为这棵树的最大层数，即最长的一条路径。"
   ]
  },
  {
   "cell_type": "markdown",
   "metadata": {},
   "source": [
    "**二叉树的几个典型**：\n",
    "\n",
    "1. **满二叉树**：如果二叉树中所有分支结点的度数都是2，称为一棵满二叉树；\n",
    "\n",
    "2. **扩充二叉树**：对二叉树T加入足够多的结点，使其成为一棵满二叉树，称为扩充二叉树；原结点称为内部结点，新增结点称为外部结点；\n",
    "\n",
    "3. **完全二叉树**：对于一棵高度为h的二叉树，如果第i层结点数量为 $2^{i}(0\\leq i\\leq h-1)$。如果最下一层不满，所有结点都靠左排列，空位都在右边。称为完全二叉树。\n",
    "\n",
    "下面是3种二叉树的示例。"
   ]
  },
  {
   "cell_type": "markdown",
   "metadata": {},
   "source": [
    "<img src='picture\\tree_1.png'>    \n",
    "<img src='picture\\tree_2.png'>\n",
    "<img src='picture\\tree_3.png'>"
   ]
  },
  {
   "cell_type": "markdown",
   "metadata": {},
   "source": [
    "###  二叉树的性质\n",
    "\n",
    "1. 在非空二叉树第i层中最多有 $2^i$ 个结点；\n",
    "\n",
    "2. 高度为 h 的二叉树最多有 $2^{h+1}-1$ 个结点($h \\geq 0$)；\n",
    "\n",
    "3. 对任何非空二叉树T，叶结点数量 $n_0$ 和 度数为 2 的结点数量 $n_2$ 的关系是：$n_0 = n_2 + 1$;\n",
    "\n",
    "4. 具有 n 个结点的完全二叉树的高度 $ h=\\lfloor \\log_2 n \\rfloor $ (向下取整)。\n",
    "\n",
    "5. 如果具有 n 个结点的完全二叉树，从 0 开始按层次按从左到右进行编号，对任一结点 $i(0\\leq i\\leq n-1)$ 有：\n",
    "\n",
    "    1. 序号为 0 的结点为根；\n",
    "    2. 对于 i>0,其父结点的编号为 (i-1)/2 (此处为整除);\n",
    "    3. 结点i的左结点编号为 $2\\times i +1\\quad  (if \\; 2\\times i +1<n)$;\n",
    "    4. 结点i的右结点编号为 $2\\times i +2\\quad  (if \\; 2\\times i +2<n)$。"
   ]
  },
  {
   "cell_type": "markdown",
   "metadata": {},
   "source": [
    "**证明性质5如下：**\n",
    "\n",
    "我们来证明结论C，其他结论可以通过C推导得出。\n",
    "\n",
    "假设完美二叉树第 $n(n\\geq 0)$ 层存在一个节点下标为 i，那么第 n 层剩余节点个数(包括i节点)为：\n",
    " $$k = (2^{n+1}-1)-i$$\n",
    " \n",
    " \n",
    "假设i节点左节点下标为 j，那么在第 n+1 层中 j 节点之前(不包括 j 节点)节点数为\n",
    "$$m = 2^{n+2-1}-2k=2^{n+1}-2k$$\n",
    "\n",
    "那么\n",
    "$$\\begin{split} \n",
    "j-i \n",
    "&=m+k\\\\\n",
    "&=2^{n+1}-2k+k\\\\\n",
    "&=2^{n+1}-k\\\\\n",
    "&=2^{n+1}-(2^{n+1}-i-1)\\\\\n",
    "&=i+1\n",
    "\\end{split}$$\n",
    "\n",
    "即  $$j=2i+1$$\n",
    "证明完毕\n"
   ]
  },
  {
   "cell_type": "markdown",
   "metadata": {},
   "source": [
    "## 二叉树的抽象数据类型"
   ]
  },
  {
   "cell_type": "markdown",
   "metadata": {},
   "source": [
    "定义：\n",
    "1. 构造操作，创建一棵新二叉树；\n",
    "\n",
    "2. 判断是否为一棵空二叉树；\n",
    "\n",
    "3. 求二叉树的结点个数；\n",
    "\n",
    "4. 获取二叉树根存储的数据；\n",
    "\n",
    "5. 获得左子树；\n",
    "\n",
    "6. 获得右子树；\n",
    "\n",
    "7. btree替换左子树;\n",
    "\n",
    "8. btree替换右子树;\n",
    "\n",
    "9. 遍历二叉树各结点的迭代器；\n",
    "\n",
    "10. 对二叉树的每一个结点执行操作op\n",
    "\n"
   ]
  },
  {
   "cell_type": "markdown",
   "metadata": {},
   "source": [
    "## 遍历二叉树"
   ]
  },
  {
   "cell_type": "markdown",
   "metadata": {},
   "source": [
    "关于遍历：\n",
    "1. 每一颗二叉树有唯一的根结点，可以从树根出发获取关于二叉树的全部信息，一般也用树根来代表一棵二叉树。获取基于从父结点可以找到左右子结点，左右子结点，如果度数不为0，可以继续下去；\n",
    "\n",
    "2. 二叉树的每个结点可能都保存了一些信息，要想获取这些信息，遍历二叉树是基本且重要的操作；很多复杂的二叉树操作都要基于遍历二叉树来实现；例如找到一个结点的父结点，类似于单链表找到上一结点。"
   ]
  },
  {
   "cell_type": "markdown",
   "metadata": {},
   "source": [
    "二叉树遍历的2种方式：\n",
    "\n",
    "1. **深度优先遍历**：顺着一条路径尽可能向前探索，必要时回溯。\n",
    "\n",
    "2. **广度优先遍历**：在所有路径上齐头并进。"
   ]
  },
  {
   "cell_type": "markdown",
   "metadata": {},
   "source": [
    "### 深度优先遍历"
   ]
  },
  {
   "cell_type": "markdown",
   "metadata": {},
   "source": [
    "深度遍历一棵二叉树，需要做三件事：遍历左子树(L)、遍历右子树(R)、访问根结点(D，可能会操作数据)。"
   ]
  },
  {
   "cell_type": "markdown",
   "metadata": {},
   "source": [
    "<img src='picture\\tree_4.png'>"
   ]
  },
  {
   "cell_type": "markdown",
   "metadata": {},
   "source": [
    "选择不同的执行顺序，就会得到三种不同的遍历顺序：\n",
    "\n",
    "1. 先根顺序(DLR顺序)；\n",
    "2. 后根顺序(LRD顺序)；\n",
    "3. 中根顺序(LDR顺序)，也称为对称序。"
   ]
  },
  {
   "cell_type": "markdown",
   "metadata": {},
   "source": [
    "以下面这棵树为例，来看下三种遍历顺序分别对应的遍历结点顺序：\n",
    "\n",
    "1. 先根： A B D H E I C F J K G \n",
    "2. 后根： H D I E B J K F G C A\n",
    "3. 中根： D H B E I A J F K C G  "
   ]
  },
  {
   "cell_type": "markdown",
   "metadata": {},
   "source": [
    "<img src='picture\\tree_5.png'>"
   ]
  },
  {
   "cell_type": "markdown",
   "metadata": {},
   "source": [
    "**命题** 如果知道了一棵二叉树的对称序列，又知道了另一个遍历序列(先根 or 后根)，就可以唯一缺的这棵二叉树。"
   ]
  },
  {
   "cell_type": "markdown",
   "metadata": {},
   "source": [
    "### 宽度优先遍历"
   ]
  },
  {
   "cell_type": "markdown",
   "metadata": {},
   "source": [
    "宽度优先遍历一棵二叉树是按照**路径长度**由近到远逐层遍历。常见的是从左到右遍历，所以宽度优先遍历又称为按层次顺序遍历。"
   ]
  },
  {
   "cell_type": "markdown",
   "metadata": {},
   "source": [
    "关于上面提到的二叉树，按宽度遍历的遍历顺序是：A B C D E F G H I J K "
   ]
  },
  {
   "cell_type": "markdown",
   "metadata": {},
   "source": [
    "## 二叉树的list实现"
   ]
  },
  {
   "cell_type": "markdown",
   "metadata": {},
   "source": [
    "简单看，二叉树的结点是一个三元组，存储的是左右子树和本结点的数据。可以通过python的list 和 tuple 来实现，区别在于是否需要变动子树和结点数据。\n",
    "\n",
    "下面考虑用list来实现二叉树，基本操作同样适用于tuple。"
   ]
  },
  {
   "cell_type": "markdown",
   "metadata": {},
   "source": [
    "**设计和实现**"
   ]
  },
  {
   "cell_type": "markdown",
   "metadata": {},
   "source": [
    "设计：\n",
    "\n",
    "1. 空树用None 表示；\n",
    "2. 非空二叉树用 {d,l,r} 三元组表示：\n",
    "    * d 表示存在根结点的数据；\n",
    "    * l 和 r 表示左右两棵子树，采用和整个二叉树同样结构的list表示。"
   ]
  },
  {
   "cell_type": "markdown",
   "metadata": {},
   "source": [
    "下面以一棵二叉树为例，来用list表示一棵二叉树：\n",
    "<img src='picture\\tree_6.png'>"
   ]
  },
  {
   "cell_type": "markdown",
   "metadata": {},
   "source": [
    "```python\n",
    "['A',\n",
    "\t['B',None,None],\n",
    "\t['C',\n",
    "\t\t['D',\n",
    "\t\t\t['F',None,None],\n",
    "\t\t\t['G',None,None]\n",
    "\t\t],\n",
    "\t['E',\n",
    "\t\t['I',None,None],\n",
    "\t\t['H',None,None]\n",
    "\t\t]\n",
    "\t]\n",
    "] \n",
    "\n",
    "```"
   ]
  },
  {
   "cell_type": "markdown",
   "metadata": {},
   "source": [
    "上述的对齐只是为了便于阅读。"
   ]
  },
  {
   "cell_type": "code",
   "execution_count": 1,
   "metadata": {
    "ExecuteTime": {
     "end_time": "2021-05-12T11:21:43.749354Z",
     "start_time": "2021-05-12T11:21:43.737355Z"
    }
   },
   "outputs": [],
   "source": [
    "def BinTree(data,left=None,right=None):\n",
    "    return [data,left,right]\n",
    "\n",
    "def is_empty_BinTree(btree):\n",
    "    return btree is None \n",
    "\n",
    "def root(btree):\n",
    "    return btree[0]\n",
    "\n",
    "def left(btree):\n",
    "    return btree[1]\n",
    "\n",
    "def right(btree):\n",
    "    return btree[2]\n",
    "\n",
    "def set_root(btree,data):\n",
    "    btree[0] = data \n",
    "\n",
    "def set_left(btree,left):\n",
    "    btree[1] = left \n",
    "    \n",
    "def set_right(btree,right):\n",
    "    btree[1] = right"
   ]
  },
  {
   "cell_type": "markdown",
   "metadata": {},
   "source": [
    "基于上述定义，可以构造任意复杂的二叉树，比如："
   ]
  },
  {
   "cell_type": "code",
   "execution_count": 2,
   "metadata": {
    "ExecuteTime": {
     "end_time": "2021-05-12T11:23:13.612638Z",
     "start_time": "2021-05-12T11:23:13.605605Z"
    }
   },
   "outputs": [],
   "source": [
    "t1=BinTree(2,BinTree(4),BinTree(8))"
   ]
  },
  {
   "cell_type": "markdown",
   "metadata": {},
   "source": [
    "相当于：[2,[4,None,None],[8,None,None]]"
   ]
  },
  {
   "cell_type": "markdown",
   "metadata": {},
   "source": [
    "## 优先队列"
   ]
  },
  {
   "cell_type": "markdown",
   "metadata": {},
   "source": [
    "这种结构和二叉树没有直接关系，但是基于二叉树，可以做出一种高效实现，也可以当做二叉树的应用。"
   ]
  },
  {
   "cell_type": "markdown",
   "metadata": {},
   "source": [
    "概念：优先队列是一个有序集 $S=(D,\\leq)$，这里的 $\\leq$ 是 集合 D 上一种全序(非严格的)，表示元素之间的**优先级**。优先队列要求**优先级最高的元素先出/先用**。"
   ]
  },
  {
   "cell_type": "markdown",
   "metadata": {},
   "source": [
    "优先队列的操作包括：\n",
    "\n",
    "1. 创建、判断空、确定元素个数等；\n",
    "2. 插入、访问和弹出优先队列里最优先的元素。"
   ]
  },
  {
   "cell_type": "markdown",
   "metadata": {},
   "source": [
    "### 基于线性表的实现"
   ]
  },
  {
   "cell_type": "markdown",
   "metadata": {},
   "source": [
    "基于 插入和弹出的侧重点不同，有两种实现方案：\n",
    "\n",
    "1. 插入的时候按照元素的优先顺序插入，操作复杂度会高一些；访问的时候效率很高，可以直接取到优先级最高的元素；\n",
    "\n",
    "2. 插入的时候在list的尾端插入 或者 链表的头部 插入，操作复杂度低；访问的时候，操作复杂度高，需要去搜索优先级最高的元素。\n",
    "\n",
    "下面基于第一种方式来实现。"
   ]
  },
  {
   "cell_type": "markdown",
   "metadata": {},
   "source": [
    "**基于list实现优先队列**"
   ]
  },
  {
   "cell_type": "markdown",
   "metadata": {},
   "source": [
    "在下面的实现中，假设值更小的元素优先级更高。"
   ]
  },
  {
   "cell_type": "code",
   "execution_count": 9,
   "metadata": {
    "ExecuteTime": {
     "end_time": "2021-05-13T09:52:39.833171Z",
     "start_time": "2021-05-13T09:52:39.825167Z"
    }
   },
   "outputs": [],
   "source": [
    "class PrioQueueError(ValueError):\n",
    "    pass\n",
    "\n",
    "class PrioQue(object):\n",
    "    \n",
    "    def __init__(self,elist=[]):\n",
    "        self._elems = list(elist) # 防止直接引用 elist 避免共享\n",
    "        self._elems.sort(reverse=True) # 从大到小排列\n",
    "        \n",
    "    def enqueue(self,e):\n",
    "        i = len(self._elems) - 1 \n",
    "        while i>=0:\n",
    "            if e>=self._elems[i]:\n",
    "                i -= 1\n",
    "            else:\n",
    "                break \n",
    "        self._elems.insert(i+1,e)\n",
    "    \n",
    "    def is_empty(self):\n",
    "        return not self._elems\n",
    "    \n",
    "    def peek(self):\n",
    "        if self.is_empty():\n",
    "            raise PrioQueueError('in peek')\n",
    "        return self._elems[-1]\n",
    "    \n",
    "    def dequeue(self):\n",
    "        if self.is_empty():\n",
    "            raise PrioQueueError('in pop')\n",
    "        return self._elems.pop()"
   ]
  },
  {
   "cell_type": "markdown",
   "metadata": {},
   "source": [
    "以上方案，插入元素是 $O(n)$ 操作；访问是 $O(1)$ 操作。"
   ]
  },
  {
   "cell_type": "markdown",
   "metadata": {},
   "source": [
    "### 树形结构和堆"
   ]
  },
  {
   "cell_type": "markdown",
   "metadata": {},
   "source": [
    "上面按照线性表来存储和访问优先队列，就无法突破 $O(n)$ 操作。\n",
    "\n",
    "现在我们介绍一种新的数据存储结构堆，可以有效地降低 插入 或者 访问的操作时间。"
   ]
  },
  {
   "cell_type": "markdown",
   "metadata": {},
   "source": [
    "**堆的定义和性质**"
   ]
  },
  {
   "cell_type": "markdown",
   "metadata": {},
   "source": [
    "**堆**是结点里存储数据的**完全二叉树**，只不过数据需要满足**堆序**：任何结点都(按照指定的序) 先于或等于 子结点的数据。\n",
    "\n",
    "从堆的定义可以看到堆具有以下性质：\n",
    "1. 堆的任何一条路径，数据都是按照序(非严格)递减的；\n",
    "\n",
    "2. 堆中最优先的元素必然位于树根，也就是堆顶；\n",
    "\n",
    "3. 树上不同路径的元素，不关心其优先级。"
   ]
  },
  {
   "cell_type": "markdown",
   "metadata": {},
   "source": [
    "如果优先序是小元素优先，称为**小顶堆**；否则称为**大顶堆**。"
   ]
  },
  {
   "cell_type": "markdown",
   "metadata": {
    "ExecuteTime": {
     "end_time": "2021-05-13T07:43:39.305048Z",
     "start_time": "2021-05-13T07:43:39.298043Z"
    }
   },
   "source": [
    "一棵完全二叉树可以信息完全地存入一个连续的线性结构(连续表等)，同样一个堆也一样自然存入一个连续表，通过下标的逻辑关系(参考二叉树性质5)就可以访问对应的元素。"
   ]
  },
  {
   "cell_type": "markdown",
   "metadata": {},
   "source": [
    "**堆和完全二叉树的性质**：\n",
    "\n",
    "1. 在一个堆最后加入一个元素，它依然是一棵完全二叉树，但不一定是一个堆；\n",
    "\n",
    "2. 一个堆去掉堆顶，会形成左右子堆，二叉树的下标关系以及子堆的序关系依然存在；\n",
    "\n",
    "3. 对去掉堆顶的左右子堆，添加一个堆顶元素，依然是一棵完全二叉树，不一定是一个堆；\n",
    "\n",
    "4. 去掉堆的最后一个元素，剩下的依旧是一个堆。"
   ]
  },
  {
   "cell_type": "markdown",
   "metadata": {},
   "source": [
    "### 优先队列的堆实现"
   ]
  },
  {
   "cell_type": "markdown",
   "metadata": {},
   "source": [
    "解决堆插入的关键操作是：向上筛选；堆删除的关键操作是：向下筛选。"
   ]
  },
  {
   "cell_type": "markdown",
   "metadata": {},
   "source": [
    "**插入与向上筛选**\n",
    "\n",
    "根据上面提到的性质，在堆尾部加入一个元素，是一棵完全二叉树，为了恢复成一个堆，可以执行一次向上筛选操作。"
   ]
  },
  {
   "cell_type": "markdown",
   "metadata": {},
   "source": [
    "向上筛选的方法：\n",
    "\n",
    "    新加入的元素e和不断和其父结点进行比较，如果 e 小于 父结点，进行交换。通过这样的交换，e 不断上升，直到 e 的父结点 小于等于 e 或者 e 到达根结点为止。\n",
    "    \n",
    "    这时，经过 e 的所有路径上元素已经保持有序，已经将完全二叉树恢复成一个堆。\n",
    "    \n",
    "向上筛选操作中比较与交换操作次数不会超过该二叉树的高度，根据二叉树的性质，加入元素的操作可以在 $O(\\log n)$ 时间内完成。"
   ]
  },
  {
   "cell_type": "markdown",
   "metadata": {},
   "source": [
    "<img src='picture\\tree_7.png'>"
   ]
  },
  {
   "cell_type": "markdown",
   "metadata": {},
   "source": [
    "**弹出与向下筛选**"
   ]
  },
  {
   "cell_type": "markdown",
   "metadata": {},
   "source": [
    "因为堆顶元素就是优先级最高的元素，弹出后，剩下左右子堆。可以取二叉树尾端的元素作为树根，形成一棵新的完全二叉树。这个时候它还不是堆，可以通过**向下筛选**将完全二叉树变成一个堆。"
   ]
  },
  {
   "cell_type": "markdown",
   "metadata": {},
   "source": [
    "设左右子堆 A B 和 根元素 e 形成一棵完全二叉树，恢复堆的向下筛选方法：\n",
    "\n",
    "1. 用 e 和 A B 两个“子堆”的 顶元素比较，较小的元素作为树根：\n",
    "    * 若 e 不是最小的元素，最小元素必然是 A 或者 B 的根；假设是 A 的根最小，那么就将 A 移到堆顶，相当于删除了堆 A 的 顶元素；\n",
    "    * 下面考虑把 e 放入去掉顶元素的 A，这是规模更小的子问题；\n",
    "    * B 的根最小，可以同样处理。\n",
    "2. 如果某次比较中，e 已经最小，以它为顶的局部树已经成为堆，整个结构也成为堆；\n",
    "\n",
    "3. 或者 e 已经落到底，那么它自身形成一个堆，整个结构也成为堆。"
   ]
  },
  {
   "cell_type": "markdown",
   "metadata": {},
   "source": [
    "<img src='picture\\tree_8.png'>"
   ]
  },
  {
   "cell_type": "markdown",
   "metadata": {},
   "source": [
    "总结下优先队列弹出操作的实现，分为三大步骤：\n",
    "\n",
    "1. 弹出当时的堆顶；\n",
    "\n",
    "2. 从堆最后取一个元素作为完全二叉树的根；\n",
    "\n",
    "3. 执行一次向下筛选。\n",
    "\n",
    "前两步都是 $O(1)$ 操作；最后一步需要从完全二叉树的根开始，一步操作需要做2次比较，操作次数不超过树的高度，能够在 $O(\\log n)$ 时间内完成。"
   ]
  },
  {
   "cell_type": "markdown",
   "metadata": {},
   "source": [
    "### 基于堆的优先队列类"
   ]
  },
  {
   "cell_type": "code",
   "execution_count": 16,
   "metadata": {
    "ExecuteTime": {
     "end_time": "2021-05-17T07:33:13.770477Z",
     "start_time": "2021-05-17T07:33:13.748477Z"
    }
   },
   "outputs": [],
   "source": [
    "class PrioQueueError(ValueError):\n",
    "    pass\n",
    "\n",
    "class PrioQueue(object):\n",
    "    \n",
    "    def __init__(self,elist=[]):\n",
    "        self._elems = list(elist) # 防止直接引用 elist 避免共享\n",
    "        if elist:\n",
    "            self.buildheap()# 构建堆\n",
    "            \n",
    "    def is_empty(self):\n",
    "        return not self._elems\n",
    "    \n",
    "    def peek(self):\n",
    "        if self.is_empty():\n",
    "            raise PrioQueueError('in peek')\n",
    "        return self._elems[0]\n",
    "    \n",
    "    def enqueue(self,e):\n",
    "        self._elems.append(None) # 增加一个哑结点\n",
    "        self.siftup(e,len(self._elems)-1)\n",
    "        \n",
    "    \n",
    "    def siftup(self,e,last):# 向上筛选操作\n",
    "        elems,i,j = self._elems,last,(last-1)//2\n",
    "        \n",
    "        while j>=0 and e<elems[j]:\n",
    "            elems[i] = elems[j]\n",
    "            i,j = j, (j-1)//2\n",
    "        elems[i] = e\n",
    "            \n",
    "    \n",
    "    def dequeue(self):\n",
    "        if self.is_empty():\n",
    "            raise PrioQueueError('in dequeue')\n",
    "        elems = self._elems\n",
    "        e0 = elems[0]\n",
    "        e = elems.pop()\n",
    "        if len(elems)>0:\n",
    "            self.siftdown(e,0,len(elems))\n",
    "        return e0\n",
    "    \n",
    "    def siftdown(self,e,begin,end):# 向下筛选操作\n",
    "        \n",
    "        elems, i,j = self._elems,begin, 2*bedin + 1 #默认e 就是 elems[i]\n",
    "        while j<end:\n",
    "            if j+1<end and elems[j+1]<elems[j]: # 先比较2个子堆的顶元素的大小，取最小\n",
    "                j += 1\n",
    "            if e<elems[j]:\n",
    "                break \n",
    "            elems[i] = elems[j]\n",
    "            i,j = j,2*j+1\n",
    "        elems[i] = e \n",
    "        \n",
    "    def buildheap(self):\n",
    "        # 构建堆的操作：从下标 end//2开始，后面的表元素都是二叉树的叶结点，每一个已经是一个堆。\n",
    "        # 从二叉树的最下最右分支结点开始，向左一个个建堆，再上一层建堆，直到最后整体变成一个堆。\n",
    "        end = len(self._elems)\n",
    "        for i in range(end//2,-1,-1):\n",
    "            self.siftdown(self._elems[i],i,end)"
   ]
  },
  {
   "cell_type": "markdown",
   "metadata": {},
   "source": [
    "时间复杂度：\n",
    "* 创建堆的操作时间复杂度是 $O(n)$，只需要做1次；\n",
    "* 插入和弹出的操作时间复杂度是 $\\log(n)$。"
   ]
  },
  {
   "cell_type": "markdown",
   "metadata": {},
   "source": [
    "### 堆的应用：堆排序"
   ]
  },
  {
   "cell_type": "markdown",
   "metadata": {},
   "source": [
    "基于上面的构建和弹出操作，我们可以将一个无序的数组输出为一个有序的数组。"
   ]
  },
  {
   "cell_type": "code",
   "execution_count": 38,
   "metadata": {
    "ExecuteTime": {
     "end_time": "2021-05-18T06:17:31.647097Z",
     "start_time": "2021-05-18T06:17:31.632100Z"
    }
   },
   "outputs": [],
   "source": [
    "def heap_sort(elems):\n",
    "    \n",
    "    def siftdown(elems,e,begin,end):\n",
    "        i,j = begin,begin*2+1\n",
    "        while j<end:\n",
    "            if j+1<end and elems[j+1]<elems[j]:\n",
    "                j += 1 \n",
    "            if e<elems[j]:\n",
    "                break \n",
    "            elems[i] = elems[j]\n",
    "            i,j = j,j*2+1\n",
    "        elems[i] = e \n",
    "        \n",
    "    end = len(elems)\n",
    "    for i in range(end//2,-1,-1):#构建堆\n",
    "        siftdown(elems,elems[i],i,end)\n",
    "    for j in range(end-1,0,-1):# 弹出\n",
    "        e = elems[j]\n",
    "        elems[j] = elems[0]\n",
    "        siftdown(elems,e,0,j)\n",
    "    return elems"
   ]
  },
  {
   "cell_type": "code",
   "execution_count": 39,
   "metadata": {
    "ExecuteTime": {
     "end_time": "2021-05-18T06:17:31.803048Z",
     "start_time": "2021-05-18T06:17:31.798005Z"
    }
   },
   "outputs": [
    {
     "data": {
      "text/plain": [
       "[9, 8, 8, 6, 5, 4, 3]"
      ]
     },
     "execution_count": 39,
     "metadata": {},
     "output_type": "execute_result"
    }
   ],
   "source": [
    "heap_sort([4,5,3,6,8,9,8])"
   ]
  },
  {
   "cell_type": "markdown",
   "metadata": {},
   "source": [
    "第一个循环里，构建的操作时间复杂度是 $O(n)$；第二个循环里，按顺序弹出操作的时间复杂度是 $O(n\\log n)$"
   ]
  },
  {
   "cell_type": "markdown",
   "metadata": {
    "ExecuteTime": {
     "end_time": "2021-05-18T06:52:51.766769Z",
     "start_time": "2021-05-18T06:52:51.729772Z"
    }
   },
   "source": [
    "## 二叉树的类实现"
   ]
  },
  {
   "cell_type": "markdown",
   "metadata": {},
   "source": [
    "### 二叉树的结点类"
   ]
  },
  {
   "cell_type": "code",
   "execution_count": 1,
   "metadata": {
    "ExecuteTime": {
     "end_time": "2021-05-19T06:36:52.195396Z",
     "start_time": "2021-05-19T06:36:52.173401Z"
    }
   },
   "outputs": [],
   "source": [
    "class BinTNode(object):\n",
    "    \n",
    "    def __init__(self,data,left=None,right=None):\n",
    "        self.data = data \n",
    "        self.left = left \n",
    "        self.right = right "
   ]
  },
  {
   "cell_type": "code",
   "execution_count": 2,
   "metadata": {
    "ExecuteTime": {
     "end_time": "2021-05-19T06:44:41.329321Z",
     "start_time": "2021-05-19T06:44:41.321329Z"
    }
   },
   "outputs": [],
   "source": [
    "#一棵二叉树\n",
    "t=BinTNode(1,BinTNode(2),BinTNode(3))"
   ]
  },
  {
   "cell_type": "code",
   "execution_count": 6,
   "metadata": {
    "ExecuteTime": {
     "end_time": "2021-05-19T08:07:31.164949Z",
     "start_time": "2021-05-19T08:07:31.159926Z"
    }
   },
   "outputs": [],
   "source": [
    "def count_BinTNodes(t):# 统计树中结点的个数 \n",
    "    if t is None:\n",
    "        return 0 \n",
    "    return 1 + count_BinTNodes(t.left) + count_BinTNodes(t.right)\n",
    "\n",
    "def sum_BinTNodes(t): # 求各个结点存的数据的和\n",
    "    if t is None:\n",
    "        return 0 \n",
    "    return t.data + sum_BinTNodes(t.left) + sum_BinTNodes(t.right)"
   ]
  },
  {
   "cell_type": "code",
   "execution_count": 7,
   "metadata": {
    "ExecuteTime": {
     "end_time": "2021-05-19T08:07:31.341957Z",
     "start_time": "2021-05-19T08:07:31.336951Z"
    }
   },
   "outputs": [
    {
     "name": "stdout",
     "output_type": "stream",
     "text": [
      "3 6\n"
     ]
    }
   ],
   "source": [
    "print(count_BinTNodes(t),sum_BinTNodes(t))"
   ]
  },
  {
   "cell_type": "markdown",
   "metadata": {},
   "source": [
    "### 遍历算法"
   ]
  },
  {
   "cell_type": "markdown",
   "metadata": {},
   "source": [
    "**递归定义的遍历函数**"
   ]
  },
  {
   "cell_type": "markdown",
   "metadata": {},
   "source": [
    "按先根序遍历二叉树的递归函数\n",
    "\n",
    "```python\n",
    "def preorder(t,proc):#proc是具体的结点操作\n",
    "    if t is None:\n",
    "        return \n",
    "    proc(t.data)\n",
    "    preorder(t.left,proc)\n",
    "    preorder(t.right,proc)\n",
    "```\n",
    "\n",
    "下面是一个打印二叉树的例子"
   ]
  },
  {
   "cell_type": "code",
   "execution_count": 8,
   "metadata": {
    "ExecuteTime": {
     "end_time": "2021-05-19T08:24:36.583993Z",
     "start_time": "2021-05-19T08:24:36.578995Z"
    }
   },
   "outputs": [],
   "source": [
    "def print_BinTNodes(t):\n",
    "    if t is None:\n",
    "        print('^',end='')\n",
    "        return \n",
    "    print('('+str(t.data),end='')\n",
    "    print_BinTNodes(t.left)\n",
    "    print_BinTNodes(t.right)\n",
    "    print(')',end='')"
   ]
  },
  {
   "cell_type": "code",
   "execution_count": 9,
   "metadata": {
    "ExecuteTime": {
     "end_time": "2021-05-19T08:25:19.649648Z",
     "start_time": "2021-05-19T08:25:19.643651Z"
    }
   },
   "outputs": [
    {
     "name": "stdout",
     "output_type": "stream",
     "text": [
      "(1(2(5^^)^)(3^^))"
     ]
    }
   ],
   "source": [
    "t=BinTNode(1,BinTNode(2,BinTNode(5)),BinTNode(3))\n",
    "print_BinTNodes(t)"
   ]
  },
  {
   "cell_type": "markdown",
   "metadata": {},
   "source": [
    "**非递归的先根序遍历**\n",
    "\n",
    "```python\n",
    "def preorder_norec(t,proc):\n",
    "    s = SStack()\n",
    "    while t is not None or not s.is_empty():\n",
    "        while t is not None:\n",
    "            proc(t.data)\n",
    "            s.push(t.right)\n",
    "            t = t.left \n",
    "        t = s.pop()   \n",
    "    \n",
    "```\n",
    "时间复杂度是 $O(n)$;空间复杂度是 $O(\\log n)$"
   ]
  },
  {
   "cell_type": "markdown",
   "metadata": {},
   "source": [
    "**非递归的后根序遍历算法**\n",
    "\n",
    "```python \n",
    "def postorder_nonrec(t,proc):\n",
    "    s = SStack()\n",
    "    while t is not None or not s.is_empty():\n",
    "        while t is not None: # 下行循环，知道栈顶的两子树为空\n",
    "            s.push(t)\n",
    "            t = t.left if t.left is not None else t.right # 能左就左，否则向右一步到叶结点\n",
    "            \n",
    "        t = s.pop() # 栈顶是应访问结点\n",
    "        proc(t.data)\n",
    "        if not s.is_empty() and s.top().left == t: # 栈不空且当前结点是栈顶结点的左结点\n",
    "            t = s.top().right\n",
    "        else:\n",
    "            t = None # 没有右子树 或者右子树遍历完毕，强迫退栈\n",
    "            \n",
    "```"
   ]
  },
  {
   "cell_type": "markdown",
   "metadata": {},
   "source": [
    "### 二叉树类"
   ]
  },
  {
   "cell_type": "markdown",
   "metadata": {},
   "source": [
    "之前基于二叉树结点类构造的二叉树，很方便进行递归处理，但是不统一之处在于：用 None 表示空树，它不是一个 BinTNode ；另外，它不是一种良好封装的抽象数据类型。\n",
    "\n",
    "解决这些问题的办法是定义一个二叉树类。"
   ]
  },
  {
   "cell_type": "code",
   "execution_count": 11,
   "metadata": {
    "ExecuteTime": {
     "end_time": "2021-05-20T06:35:18.910416Z",
     "start_time": "2021-05-20T06:35:18.902426Z"
    }
   },
   "outputs": [],
   "source": [
    "class BinTree(object):\n",
    "    \n",
    "    def __init__(self):\n",
    "        self._root = None \n",
    "        \n",
    "    def is_empty(self):\n",
    "        return self._root is None\n",
    "    \n",
    "    def root(self):\n",
    "        return self._root\n",
    "    \n",
    "    def leftchild(self):\n",
    "        return self._root.left \n",
    "    \n",
    "    def rightchild(self):\n",
    "        return self._root.right \n",
    "    \n",
    "    def set_root(self,rootnode):\n",
    "        self._root = rootnode\n",
    "        \n",
    "    def set_left(self,leftnode):\n",
    "        self._root.left = leftnode\n",
    "    \n",
    "    def set_right(self,rightnode):\n",
    "        self._root.right = rightnode\n",
    "        \n",
    "    def preorder_elements(self):# 先根序遍历结点的数据\n",
    "        t,s = self._root,[]\n",
    "        while t is not None or not S:\n",
    "            s.append(t.right)\n",
    "            yield t.data \n",
    "            t = t.left \n",
    "        s.pop()\n",
    "        "
   ]
  },
  {
   "cell_type": "markdown",
   "metadata": {},
   "source": [
    "# 树和森林"
   ]
  },
  {
   "cell_type": "markdown",
   "metadata": {},
   "source": [
    "## 概念和性质 "
   ]
  },
  {
   "cell_type": "markdown",
   "metadata": {},
   "source": [
    "**树的定义：**\n",
    "\n",
    "一棵树是 $n (n\\geq 0)$ 个结点的有限集 T,当 T 非空时满足：\n",
    "\n",
    "   1. T中有且仅有一个特殊结点 r 称为树 T 的根；\n",
    "   2. 除根结点外的其余结点分为 $m (m\\geq 0)$  个互不相交的非空有限子集 $T_0,T_1,\\cdots,T_{m-1} $。每个 $T_i$ 为一棵非空树，是 r 的子树。\n",
    "   \n",
    "一棵树的子结点是否有序确定了树是有序树还是无序树，我们一般考虑有序树。\n",
    "\n",
    "**树的度数**：树中度数最大结点的度数。\n",
    "\n",
    "**k度完全树：** 除最下一层的分支结点中最右那个结点的度数可能小于 k 之外，其他结点的度数都为k。"
   ]
  },
  {
   "cell_type": "markdown",
   "metadata": {},
   "source": [
    "**树林的定义：** 0棵 或者 多棵树的集合称为树林。\n",
    "\n",
    "非空树是由树根及其子树树林构成的，而树林则由一组子树组成。"
   ]
  },
  {
   "cell_type": "markdown",
   "metadata": {},
   "source": [
    "**树林与二叉树的一一映射**\n",
    "\n",
    "1. 树林映射到一棵二叉树：\n",
    "\n",
    "    * 顺序连接 树林的根结点 或者 同一结点的各子结点，作为这些结点右分支的边；\n",
    "    \n",
    "    * 保留每个结点和第一个子结点的边作为该结点的左分支，删去这个结点到其他子结点的边。"
   ]
  },
  {
   "cell_type": "markdown",
   "metadata": {},
   "source": [
    "<img src='picture\\tree_9.png'>"
   ]
  },
  {
   "cell_type": "markdown",
   "metadata": {},
   "source": [
    "2. 二叉树到树林的转换：\n",
    "\n",
    "    * 对每个结点，在它与其左结点作为起点的向右路径上每个结点间增加一条边；\n",
    "    * 删除原二叉树中每个结点向右路径上的所有边。"
   ]
  },
  {
   "cell_type": "markdown",
   "metadata": {},
   "source": [
    "<img src='picture\\tree_10.png'>"
   ]
  },
  {
   "cell_type": "markdown",
   "metadata": {},
   "source": [
    "**树的性质**\n",
    "\n",
    "1. 度数为 k 的树中，第i层中最多有 $k^i$ 个结点；\n",
    "\n",
    "2. 度数为 k 高度为 h 的二叉树最多有 $\\frac{k^{h+1}-1}{k-1}$ 个结点($h \\geq 0$)；\n",
    "\n",
    "3. 具有 n 个结点的 k 度完全树的高度 $ h=\\lfloor \\log_k n \\rfloor $ (向下取整);\n",
    "\n",
    "4. n 个结点的树里有 n-1 条边。"
   ]
  },
  {
   "cell_type": "markdown",
   "metadata": {},
   "source": [
    "##  树的抽象数据类型"
   ]
  },
  {
   "cell_type": "markdown",
   "metadata": {},
   "source": [
    "定义：\n",
    "1. 构造操作，基于树根数据 和一组子树；\n",
    "\n",
    "2. 判断是否为一棵空树；\n",
    "\n",
    "3. 求树的结点个数；\n",
    "\n",
    "4. 获取树根存储的数据；\n",
    "\n",
    "5. 获得树中结点 node 的第一棵子树；\n",
    "\n",
    "6. 获得树中结点 node 的各子树的迭代器；\n",
    "\n",
    "7. tree取代原来第一棵子树;\n",
    "\n",
    "8. tree设置为第 i 棵子树，其他子树顺序后移;\n",
    "\n",
    "9. 遍历树各结点数据的迭代器；\n",
    "\n",
    "10. 对树的每一个结点执行操作op"
   ]
  },
  {
   "cell_type": "markdown",
   "metadata": {},
   "source": [
    "**树的遍历**\n",
    "\n",
    "与二叉树类似，见下图示例"
   ]
  },
  {
   "cell_type": "markdown",
   "metadata": {},
   "source": [
    "<img src='picture\\tree_11.png'>"
   ]
  },
  {
   "cell_type": "markdown",
   "metadata": {},
   "source": [
    "## 树的存储实现"
   ]
  },
  {
   "cell_type": "markdown",
   "metadata": {},
   "source": [
    "### 子结点引用表示"
   ]
  },
  {
   "cell_type": "markdown",
   "metadata": {},
   "source": [
    "树的最基本表示法就是子指针表示法：用一个数据单元表示结点，通过结点间的链接表示树结构。\n",
    "\n",
    "但有一个麻烦在于各个结点的度数可能差别很大，一种简单的考虑是只考虑结点度数不超过固定m的树。"
   ]
  },
  {
   "cell_type": "markdown",
   "metadata": {},
   "source": [
    "<img src='picture\\tree_12.png'>"
   ]
  },
  {
   "cell_type": "markdown",
   "metadata": {},
   "source": [
    "这样做最大的缺点是会出现大量空闲的结点引用域。"
   ]
  },
  {
   "cell_type": "markdown",
   "metadata": {},
   "source": [
    "### 父结点引用表示"
   ]
  },
  {
   "cell_type": "markdown",
   "metadata": {},
   "source": [
    "<img src='picture\\tree_13.png'>"
   ]
  },
  {
   "cell_type": "markdown",
   "metadata": {},
   "source": [
    "### 子结点表表示"
   ]
  },
  {
   "cell_type": "markdown",
   "metadata": {},
   "source": [
    "用一个连续表来存储树中各结点的信息，每个结点关联一个子结点表，记录树的结构。"
   ]
  },
  {
   "cell_type": "markdown",
   "metadata": {},
   "source": [
    "<img src='picture\\tree_14.png'>"
   ]
  },
  {
   "cell_type": "markdown",
   "metadata": {},
   "source": [
    "# 练习"
   ]
  },
  {
   "cell_type": "markdown",
   "metadata": {},
   "source": [
    "## [单值二叉树](https://leetcode-cn.com/problems/univalued-binary-tree/)"
   ]
  },
  {
   "cell_type": "code",
   "execution_count": 42,
   "metadata": {
    "ExecuteTime": {
     "end_time": "2021-05-21T08:12:15.771400Z",
     "start_time": "2021-05-21T08:12:15.765407Z"
    }
   },
   "outputs": [],
   "source": [
    "# Definition for a binary tree node.\n",
    "class TreeNode(object):\n",
    "    def __init__(self, x,left=None,right=None):\n",
    "        self.val = x\n",
    "        self.left = left\n",
    "        self.right = right\n",
    "\n",
    "class Solution(object):\n",
    "    def isUnivalTree(self, root: TreeNode) -> bool:\n",
    "        s = []\n",
    "        value = root.val \n",
    "        while (root is not None) or (s != []):# 先根遍历\n",
    "            while root is not None:\n",
    "                if root.val != value:\n",
    "                    return False \n",
    "                s.append(root.right)\n",
    "                root = root.left\n",
    "            root = s.pop()\n",
    "        return True "
   ]
  },
  {
   "cell_type": "code",
   "execution_count": 43,
   "metadata": {
    "ExecuteTime": {
     "end_time": "2021-05-21T08:12:15.940370Z",
     "start_time": "2021-05-21T08:12:15.934368Z"
    }
   },
   "outputs": [
    {
     "data": {
      "text/plain": [
       "False"
      ]
     },
     "execution_count": 43,
     "metadata": {},
     "output_type": "execute_result"
    }
   ],
   "source": [
    "# [1,1,1,1,1,null,1]\n",
    "left=TreeNode(2,TreeNode(5),TreeNode(2))\n",
    "right = TreeNode(2)\n",
    "root=TreeNode(2,left,right)\n",
    "t = Solution()\n",
    "t.isUnivalTree(root)"
   ]
  },
  {
   "cell_type": "markdown",
   "metadata": {},
   "source": [
    "## [两数之和 IV - 输入 BST](https://leetcode-cn.com/problems/two-sum-iv-input-is-a-bst/)"
   ]
  },
  {
   "cell_type": "markdown",
   "metadata": {},
   "source": [
    "BST 指的是二叉排序树：左结点的值 小于 结点的值 小于 右节点的值"
   ]
  },
  {
   "cell_type": "code",
   "execution_count": 17,
   "metadata": {
    "ExecuteTime": {
     "end_time": "2021-05-24T02:30:12.005522Z",
     "start_time": "2021-05-24T02:30:11.998488Z"
    }
   },
   "outputs": [],
   "source": [
    "# Definition for a binary tree node.\n",
    "class TreeNode:\n",
    "    def __init__(self, val=0, left=None, right=None):\n",
    "        self.val = val\n",
    "        self.left = left\n",
    "        self.right = right\n",
    "class Solution:\n",
    "    def findTarget(self, root: TreeNode, k: int) -> bool:\n",
    "        sort_lst = []\n",
    "        def middleorder(root):\n",
    "            if root:\n",
    "                middleorder(root.left)\n",
    "                sort_lst.append(root.val)\n",
    "                middleorder(root.right)\n",
    "        \n",
    "        middleorder(root)\n",
    "        l,r = 0,len(sort_lst)-1\n",
    "        \n",
    "        while l<r:\n",
    "            lv = sort_lst[l]\n",
    "            rv = sort_lst[r]\n",
    "            if lv + rv > k:\n",
    "                r -= 1\n",
    "            elif lv + rv < k:\n",
    "                l += 1\n",
    "            else:\n",
    "                return True\n",
    "        return False           "
   ]
  },
  {
   "cell_type": "code",
   "execution_count": 18,
   "metadata": {
    "ExecuteTime": {
     "end_time": "2021-05-24T02:30:12.214487Z",
     "start_time": "2021-05-24T02:30:12.205488Z"
    }
   },
   "outputs": [
    {
     "data": {
      "text/plain": [
       "False"
      ]
     },
     "execution_count": 18,
     "metadata": {},
     "output_type": "execute_result"
    }
   ],
   "source": [
    "left=TreeNode(3,TreeNode(2),TreeNode(4))\n",
    "right = TreeNode(6,None,TreeNode(7))\n",
    "root=TreeNode(5,left,right)\n",
    "k=28\n",
    "t = Solution()\n",
    "t.findTarget(root,k)"
   ]
  },
  {
   "cell_type": "markdown",
   "metadata": {},
   "source": [
    "## [对称二叉树](https://leetcode-cn.com/problems/symmetric-tree/)"
   ]
  },
  {
   "cell_type": "code",
   "execution_count": 28,
   "metadata": {
    "ExecuteTime": {
     "end_time": "2021-05-24T02:36:54.515221Z",
     "start_time": "2021-05-24T02:36:54.507254Z"
    }
   },
   "outputs": [],
   "source": [
    "# Definition for a binary tree node.\n",
    "class TreeNode:\n",
    "    def __init__(self, val=0, left=None, right=None):\n",
    "        self.val = val\n",
    "        self.left = left\n",
    "        self.right = right\n",
    "class Solution:\n",
    "    def isSymmetric(self, root: TreeNode) -> bool:\n",
    "        def compare_lr(left,right):\n",
    "            if left is None and right is None:\n",
    "                return True \n",
    "            if (left is None and right is not None) or (left is not None and right is None):\n",
    "                return False\n",
    "            if left.val != right.val:\n",
    "                return False \n",
    "            return compare_lr(left.left,right.right) and compare_lr(right.left,left.right)\n",
    "        return compare_lr(root.left,root.right)"
   ]
  },
  {
   "cell_type": "code",
   "execution_count": 29,
   "metadata": {
    "ExecuteTime": {
     "end_time": "2021-05-24T02:36:54.686223Z",
     "start_time": "2021-05-24T02:36:54.679254Z"
    }
   },
   "outputs": [
    {
     "data": {
      "text/plain": [
       "True"
      ]
     },
     "execution_count": 29,
     "metadata": {},
     "output_type": "execute_result"
    }
   ],
   "source": [
    "left=TreeNode(2,TreeNode(3),TreeNode(4))\n",
    "right = TreeNode(2,TreeNode(4),TreeNode(3))\n",
    "root=TreeNode(1,left,right)\n",
    "t = Solution()\n",
    "t.isSymmetric(root)"
   ]
  },
  {
   "cell_type": "markdown",
   "metadata": {},
   "source": [
    "## [从根到叶的二进制数之和](https://leetcode-cn.com/problems/sum-of-root-to-leaf-binary-numbers/)"
   ]
  },
  {
   "cell_type": "code",
   "execution_count": 33,
   "metadata": {
    "ExecuteTime": {
     "end_time": "2021-05-24T03:11:52.542224Z",
     "start_time": "2021-05-24T03:11:52.536251Z"
    }
   },
   "outputs": [],
   "source": [
    "# Definition for a binary tree node.\n",
    "class TreeNode:\n",
    "    def __init__(self, val=0, left=None, right=None):\n",
    "        self.val = val\n",
    "        self.left = left\n",
    "        self.right = right\n",
    "class Solution:\n",
    "    def sumRootToLeaf(self, root: TreeNode) -> int:\n",
    "        \n",
    "        def bin_sum(root,sum_r):\n",
    "            if root is None:\n",
    "                return 0\n",
    "            sum_r = sum_r*2 + root.val \n",
    "            if root.left is None and root.right is None:\n",
    "                return sum_r\n",
    "            return bin_sum(root.left,sum_r) + bin_sum(root.right,sum_r)\n",
    "        \n",
    "        return bin_sum(root,0)"
   ]
  },
  {
   "cell_type": "code",
   "execution_count": 34,
   "metadata": {
    "ExecuteTime": {
     "end_time": "2021-05-24T03:11:53.340245Z",
     "start_time": "2021-05-24T03:11:53.335247Z"
    }
   },
   "outputs": [
    {
     "data": {
      "text/plain": [
       "22"
      ]
     },
     "execution_count": 34,
     "metadata": {},
     "output_type": "execute_result"
    }
   ],
   "source": [
    "left=TreeNode(0,TreeNode(0),TreeNode(1))\n",
    "right = TreeNode(1,TreeNode(0),TreeNode(1))\n",
    "root=TreeNode(1,left,right)\n",
    "t = Solution()\n",
    "t.sumRootToLeaf(root)"
   ]
  },
  {
   "cell_type": "markdown",
   "metadata": {},
   "source": [
    "## [左叶子之和](https://leetcode-cn.com/problems/sum-of-left-leaves/)"
   ]
  },
  {
   "cell_type": "code",
   "execution_count": 82,
   "metadata": {
    "ExecuteTime": {
     "end_time": "2021-05-24T06:55:02.073969Z",
     "start_time": "2021-05-24T06:55:02.063968Z"
    }
   },
   "outputs": [],
   "source": [
    "# Definition for a binary tree node.\n",
    "class TreeNode:\n",
    "    def __init__(self, val=0, left=None, right=None):\n",
    "        self.val = val\n",
    "        self.left = left\n",
    "        self.right = right\n",
    "class Solution:\n",
    "    def sumOfLeftLeaves(self, root: TreeNode) -> int:\n",
    "        stack = []\n",
    "        res = []\n",
    "        while root is not None or stack != []:\n",
    "            while root is not None:\n",
    "                stack.append(root.right)\n",
    "                if root.left is not None and root.left.left is None and root.left.right is None:\n",
    "                    res.append(root.left.val)\n",
    "                root = root.left\n",
    "            root = stack.pop()\n",
    "        return sum(res)"
   ]
  },
  {
   "cell_type": "code",
   "execution_count": 83,
   "metadata": {
    "ExecuteTime": {
     "end_time": "2021-05-24T06:55:02.231965Z",
     "start_time": "2021-05-24T06:55:02.225965Z"
    }
   },
   "outputs": [
    {
     "data": {
      "text/plain": [
       "24"
      ]
     },
     "execution_count": 83,
     "metadata": {},
     "output_type": "execute_result"
    }
   ],
   "source": [
    "left=TreeNode(9)\n",
    "right = TreeNode(20,TreeNode(15),TreeNode(7))\n",
    "root=TreeNode(3,left,right)\n",
    "t = Solution()\n",
    "t.sumOfLeftLeaves(root)"
   ]
  },
  {
   "cell_type": "markdown",
   "metadata": {},
   "source": [
    "## [另一个树的子树](https://leetcode-cn.com/problems/subtree-of-another-tree/)"
   ]
  },
  {
   "cell_type": "markdown",
   "metadata": {
    "ExecuteTime": {
     "end_time": "2021-06-01T13:43:54.737765Z",
     "start_time": "2021-06-01T13:43:54.731768Z"
    }
   },
   "source": [
    "## [二叉树中第二小的节点](https://leetcode-cn.com/problems/second-minimum-node-in-a-binary-tree/)"
   ]
  },
  {
   "cell_type": "markdown",
   "metadata": {},
   "source": [
    "## [二叉搜索树中的搜索](https://leetcode-cn.com/problems/search-in-a-binary-search-tree/)"
   ]
  },
  {
   "cell_type": "markdown",
   "metadata": {},
   "source": [
    "## [相同的树](https://leetcode-cn.com/problems/same-tree/)"
   ]
  },
  {
   "cell_type": "markdown",
   "metadata": {},
   "source": [
    "## [二叉搜索树的范围和](https://leetcode-cn.com/problems/range-sum-of-bst/)"
   ]
  },
  {
   "cell_type": "markdown",
   "metadata": {},
   "source": [
    "## [路径总和&](https://leetcode-cn.com/problems/path-sum/)"
   ]
  },
  {
   "cell_type": "markdown",
   "metadata": {},
   "source": [
    "## [N 叉树的前序遍历](https://leetcode-cn.com/problems/n-ary-tree-preorder-traversal/)"
   ]
  },
  {
   "cell_type": "markdown",
   "metadata": {},
   "source": [
    "## [最小高度树](https://leetcode-cn.com/problems/minimum-height-tree-lcci/)"
   ]
  },
  {
   "cell_type": "code",
   "execution_count": 30,
   "metadata": {
    "ExecuteTime": {
     "end_time": "2021-06-07T09:46:18.753559Z",
     "start_time": "2021-06-07T09:46:18.745603Z"
    }
   },
   "outputs": [],
   "source": [
    "# Definition for a binary tree node.\n",
    "class TreeNode:\n",
    "    def __init__(self, x):\n",
    "        self.val = x\n",
    "        self.left = None\n",
    "        self.right = None\n",
    "\n",
    "class Solution:\n",
    "    def sortedArrayToBST(self, nums: list) -> TreeNode:\n",
    "\n",
    "        treeNode = None \n",
    "        for elem in nums:\n",
    "            new_node = TreeNode(elem)\n",
    "            if treeNode is not None and treeNode.left is not None and treeNode.right is None:\n",
    "                treeNode.right = new_node\n",
    "            else:            \n",
    "                new_node.left = treeNode\n",
    "                treeNode = new_node                \n",
    "            \n",
    "        return treeNode"
   ]
  },
  {
   "cell_type": "code",
   "execution_count": 35,
   "metadata": {
    "ExecuteTime": {
     "end_time": "2021-06-07T09:56:55.509036Z",
     "start_time": "2021-06-07T09:56:55.502082Z"
    }
   },
   "outputs": [],
   "source": [
    "# 递归写法\n",
    "class TreeNode:\n",
    "    def __init__(self, x):\n",
    "        self.val = x\n",
    "        self.left = None\n",
    "        self.right = None\n",
    "        \n",
    "class Solution:\n",
    "    def sortedArrayToBST(self, nums: list) -> TreeNode:\n",
    "        if nums == []:\n",
    "            return \n",
    "        mid_index = len(nums)//2\n",
    "        root = TreeNode(nums[mid_index])\n",
    "        root.left = self.sortedArrayToBST(nums[:mid_index])\n",
    "        root.right = self.sortedArrayToBST(nums[mid_index+1:])\n",
    "        \n",
    "        return root "
   ]
  },
  {
   "cell_type": "code",
   "execution_count": 36,
   "metadata": {
    "ExecuteTime": {
     "end_time": "2021-06-07T09:56:56.116708Z",
     "start_time": "2021-06-07T09:56:56.110754Z"
    }
   },
   "outputs": [],
   "source": [
    "nums=[-10,-3,0,5,9]\n",
    "t=Solution()\n",
    "treeNode=t.sortedArrayToBST(nums=nums)"
   ]
  },
  {
   "cell_type": "markdown",
   "metadata": {
    "ExecuteTime": {
     "end_time": "2021-06-08T03:29:46.732615Z",
     "start_time": "2021-06-08T03:29:46.727616Z"
    }
   },
   "source": [
    "## [二叉搜索树节点最小距离](https://leetcode-cn.com/problems/minimum-distance-between-bst-nodes/)"
   ]
  },
  {
   "cell_type": "markdown",
   "metadata": {},
   "source": [
    "## [合并二叉树](https://leetcode-cn.com/problems/merge-two-binary-trees/)"
   ]
  },
  {
   "cell_type": "code",
   "execution_count": 61,
   "metadata": {
    "ExecuteTime": {
     "end_time": "2021-06-08T06:25:55.407463Z",
     "start_time": "2021-06-08T06:25:55.396429Z"
    }
   },
   "outputs": [],
   "source": [
    "# Definition for a binary tree node.\n",
    "class TreeNode:\n",
    "    def __init__(self, val=0, left=None, right=None):\n",
    "        self.val = val\n",
    "        self.left = left\n",
    "        self.right = right\n",
    "class Solution:\n",
    "    def mergeTrees(self, root1: TreeNode, root2: TreeNode) -> TreeNode:\n",
    "            if root1 is None:\n",
    "                return root2 \n",
    "            if root2 is None:\n",
    "                return root1\n",
    "\n",
    "            root = TreeNode(root1.val+root2.val)\n",
    "            root.left = self.mergeTrees(root1.left,root2.left)\n",
    "            root.right  = self.mergeTrees(root1.right ,root2.right )  \n",
    "            return root"
   ]
  },
  {
   "cell_type": "code",
   "execution_count": 62,
   "metadata": {
    "ExecuteTime": {
     "end_time": "2021-06-08T06:25:55.571428Z",
     "start_time": "2021-06-08T06:25:55.565427Z"
    }
   },
   "outputs": [],
   "source": [
    "r1=TreeNode(1,TreeNode(3,TreeNode(5)),TreeNode(2))\n",
    "r2=TreeNode(2,TreeNode(1,None,TreeNode(4)),TreeNode(3,None,TreeNode(7)))\n",
    "t=Solution()\n",
    "s=t.mergeTrees(r1,r2)"
   ]
  },
  {
   "cell_type": "code",
   "execution_count": 63,
   "metadata": {
    "ExecuteTime": {
     "end_time": "2021-06-08T06:25:56.258704Z",
     "start_time": "2021-06-08T06:25:56.251710Z"
    }
   },
   "outputs": [
    {
     "name": "stdout",
     "output_type": "stream",
     "text": [
      "3\n",
      "4\n",
      "5\n",
      "4\n",
      "5\n",
      "7\n"
     ]
    }
   ],
   "source": [
    "stack =[]\n",
    "while s is not None or stack !=[]:\n",
    "    while s is not None:\n",
    "        print(s.val)\n",
    "        stack.append(s.right)\n",
    "        s = s.left\n",
    "    s = stack.pop()"
   ]
  },
  {
   "cell_type": "markdown",
   "metadata": {},
   "source": [
    "## [ 二叉树的最大深度](https://leetcode-cn.com/problems/maximum-depth-of-binary-tree/)"
   ]
  },
  {
   "cell_type": "markdown",
   "metadata": {},
   "source": [
    "## [N 叉树的最大深度](https://leetcode-cn.com/problems/maximum-depth-of-n-ary-tree/)"
   ]
  },
  {
   "cell_type": "code",
   "execution_count": 65,
   "metadata": {
    "ExecuteTime": {
     "end_time": "2021-06-08T07:13:25.275985Z",
     "start_time": "2021-06-08T07:13:25.269983Z"
    }
   },
   "outputs": [],
   "source": [
    "\"\"\"\n",
    "# Definition for a Node.\n",
    "class Node:\n",
    "    def __init__(self, val=None, children=None):\n",
    "        self.val = val\n",
    "        self.children = children\n",
    "\"\"\"\n",
    "class Solution(object):\n",
    "    def maxDepth(self, root):\n",
    "        \"\"\"\n",
    "        :type root: Node\n",
    "        :rtype: int\n",
    "        \"\"\"\n",
    "        if root is None: \n",
    "            return 0 \n",
    "        elif root.children == []:\n",
    "            return 1\n",
    "        else: \n",
    "            height = [self.maxDepth(c) for c in root.children]\n",
    "            return max(height) + 1 "
   ]
  },
  {
   "cell_type": "markdown",
   "metadata": {},
   "source": [
    "## [二叉树的最小深度?](https://leetcode-cn.com/problems/minimum-depth-of-binary-tree/)"
   ]
  },
  {
   "cell_type": "code",
   "execution_count": 67,
   "metadata": {
    "ExecuteTime": {
     "end_time": "2021-06-08T07:57:14.951298Z",
     "start_time": "2021-06-08T07:57:14.945296Z"
    }
   },
   "outputs": [],
   "source": [
    "# Definition for a binary tree node.\n",
    "# class TreeNode:\n",
    "#     def __init__(self, val=0, left=None, right=None):\n",
    "#         self.val = val\n",
    "#         self.left = left\n",
    "#         self.right = right\n",
    "class Solution:\n",
    "    def minDepth(self, root):\n",
    "        \"\"\"\n",
    "        :type root: TreeNode\n",
    "        :rtype: int\n",
    "        \"\"\"\n",
    "        if root:\n",
    "            if root.left and root.right:\n",
    "                return 1+min(self.minDepth(root.left),self.minDepth(root.right))\n",
    "            elif root.left:\n",
    "                return 1+self.minDepth(root.left)\n",
    "            elif root.right:\n",
    "                return 1+self.minDepth(root.right)\n",
    "            else:\n",
    "                return 1\n",
    "        else:\n",
    "            return 0"
   ]
  },
  {
   "cell_type": "markdown",
   "metadata": {},
   "source": [
    "## [二叉树的前序遍历](https://leetcode-cn.com/problems/binary-tree-preorder-traversal/)"
   ]
  },
  {
   "cell_type": "markdown",
   "metadata": {},
   "source": [
    "## [二叉树的后序遍历](https://leetcode-cn.com/problems/binary-tree-postorder-traversal/)"
   ]
  },
  {
   "cell_type": "markdown",
   "metadata": {},
   "source": [
    "## [二叉树的中序遍历](https://leetcode-cn.com/problems/binary-tree-inorder-traversal/)"
   ]
  },
  {
   "cell_type": "markdown",
   "metadata": {},
   "source": [
    "## [二叉树的所有路径](https://leetcode-cn.com/problems/binary-tree-paths/)"
   ]
  },
  {
   "cell_type": "code",
   "execution_count": 69,
   "metadata": {
    "ExecuteTime": {
     "end_time": "2021-06-08T11:54:56.948869Z",
     "start_time": "2021-06-08T11:54:56.935034Z"
    }
   },
   "outputs": [],
   "source": [
    "# Definition for a binary tree node.\n",
    "# class TreeNode:\n",
    "#     def __init__(self, val=0, left=None, right=None):\n",
    "#         self.val = val\n",
    "#         self.left = left\n",
    "#         self.right = right\n",
    "class Solution:\n",
    "    def binaryTreePaths(self, root: TreeNode) ->list:\n",
    "        res = []\n",
    "        def appendPath(root,path):\n",
    "            if root:\n",
    "                path += str(root.val)\n",
    "                if root.left is None and root.right is None:# 当前结点是叶结点\n",
    "                    res.append(path)\n",
    "                else:\n",
    "                    path += '->'\n",
    "                    appendPath(root.left,path)\n",
    "                    appendPath(root.right,path)\n",
    "        appendPath(root,'')\n",
    "        return res\n",
    "# class Solution:# 以列表形式返回路径\n",
    "#     def binaryTreePaths(self, root: TreeNode) -> List[str]:\n",
    "#         res = []\n",
    "#         def appendPath(root,path):\n",
    "#             if root:\n",
    "#                 path.append(root.val)\n",
    "#                 if root.left is None and root.right is None:# 当前结点是叶结点\n",
    "#                     res.append(path)\n",
    "#                 else:\n",
    "#                     appendPath(root.left,list(path))\n",
    "#                     appendPath(root.right,list(path))\n",
    "#         appendPath(root,[])\n",
    "#         return res "
   ]
  },
  {
   "cell_type": "markdown",
   "metadata": {},
   "source": [
    "## [叶子相似的树](https://leetcode-cn.com/problems/leaf-similar-trees/)"
   ]
  },
  {
   "cell_type": "markdown",
   "metadata": {},
   "source": [
    "## [翻转二叉树](https://leetcode-cn.com/problems/invert-binary-tree/)"
   ]
  },
  {
   "cell_type": "markdown",
   "metadata": {
    "ExecuteTime": {
     "end_time": "2021-06-08T12:22:08.795110Z",
     "start_time": "2021-06-08T12:22:08.786139Z"
    }
   },
   "source": [
    "## [递增顺序搜索树](https://leetcode-cn.com/problems/increasing-order-search-tree/)"
   ]
  },
  {
   "cell_type": "markdown",
   "metadata": {
    "ExecuteTime": {
     "end_time": "2021-06-08T12:22:09.624647Z",
     "start_time": "2021-06-08T12:22:09.614651Z"
    }
   },
   "source": [
    "## [二叉搜索树中的众数](https://leetcode-cn.com/problems/find-mode-in-binary-search-tree/)"
   ]
  },
  {
   "cell_type": "markdown",
   "metadata": {},
   "source": [
    "## [二叉树的直径](https://leetcode-cn.com/problems/diameter-of-binary-tree/)"
   ]
  },
  {
   "cell_type": "markdown",
   "metadata": {
    "ExecuteTime": {
     "end_time": "2021-06-10T02:44:19.043572Z",
     "start_time": "2021-06-10T02:44:19.009571Z"
    }
   },
   "source": [
    "## [二叉树的堂兄弟节点](https://leetcode-cn.com/problems/cousins-in-binary-tree/)"
   ]
  },
  {
   "cell_type": "markdown",
   "metadata": {
    "ExecuteTime": {
     "end_time": "2021-06-10T11:40:30.333692Z",
     "start_time": "2021-06-10T11:40:30.323686Z"
    }
   },
   "source": [
    "## [根据二叉树创建字符串](https://leetcode-cn.com/problems/construct-string-from-binary-tree/)"
   ]
  },
  {
   "cell_type": "markdown",
   "metadata": {},
   "source": [
    "## [平衡二叉树](https://leetcode-cn.com/problems/balanced-binary-tree/)"
   ]
  },
  {
   "cell_type": "markdown",
   "metadata": {},
   "source": [
    "## [二叉树的坡度](https://leetcode-cn.com/problems/binary-tree-tilt/)"
   ]
  },
  {
   "cell_type": "markdown",
   "metadata": {},
   "source": [
    "## [二叉树的层平均值](https://leetcode-cn.com/problems/average-of-levels-in-binary-tree/)"
   ]
  },
  {
   "cell_type": "markdown",
   "metadata": {
    "ExecuteTime": {
     "end_time": "2021-06-11T08:49:35.979265Z",
     "start_time": "2021-06-11T08:49:35.957263Z"
    }
   },
   "source": [
    "## [二叉搜索树的最近公共祖先](https://leetcode-cn.com/problems/lowest-common-ancestor-of-a-binary-search-tree/)"
   ]
  }
 ],
 "metadata": {
  "kernelspec": {
   "display_name": "Python 3",
   "language": "python",
   "name": "python3"
  },
  "language_info": {
   "codemirror_mode": {
    "name": "ipython",
    "version": 3
   },
   "file_extension": ".py",
   "mimetype": "text/x-python",
   "name": "python",
   "nbconvert_exporter": "python",
   "pygments_lexer": "ipython3",
   "version": "3.7.3"
  },
  "toc": {
   "base_numbering": 1,
   "nav_menu": {},
   "number_sections": true,
   "sideBar": true,
   "skip_h1_title": false,
   "title_cell": "Table of Contents",
   "title_sidebar": "Contents",
   "toc_cell": false,
   "toc_position": {
    "height": "100px",
    "left": "284px",
    "top": "133px",
    "width": "261px"
   },
   "toc_section_display": true,
   "toc_window_display": true
  }
 },
 "nbformat": 4,
 "nbformat_minor": 2
}
