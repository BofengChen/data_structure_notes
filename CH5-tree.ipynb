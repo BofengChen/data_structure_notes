{
 "cells": [
  {
   "cell_type": "markdown",
   "metadata": {},
   "source": [
    "树的一些重要特征：\n",
    "1. 一个非空树结构存在唯一的起始结点，称为树根(root);\n",
    "2. 非树根的树结点，有且只有一个前驱，可以有0或者多个后继；\n",
    "3. 从树根结点出发，可以到达任意一个结点；\n",
    "4. 结点之间不会形成循环关系，也就是说结点之间存在着一种序，但不是全序；\n",
    "5. 树的任意两个结点出发，通过后继关系可达的2个结点集合，或者互不相交，或者其中一个集合是另一个集合的子集。"
   ]
  },
  {
   "cell_type": "markdown",
   "metadata": {},
   "source": [
    "# 二叉树"
   ]
  },
  {
   "cell_type": "markdown",
   "metadata": {},
   "source": [
    "## 二叉树的概念和性质"
   ]
  },
  {
   "cell_type": "markdown",
   "metadata": {},
   "source": [
    "**二叉树的递归定义**：二叉树是结点的有穷集合。这个集合是下面两者之一：\n",
    "\n",
    "1. 空集；\n",
    "2. 有一个称为根结点的特殊结点，其余结点是这个根结点的左子树和右子树，两棵树并不相交。"
   ]
  },
  {
   "cell_type": "markdown",
   "metadata": {},
   "source": [
    "**二叉树的一些属性**：\n",
    "\n",
    "1. 不包含任何结点的二叉树称为**空树**，只包含一个结点二叉树是一棵**单点树**；\n",
    "\n",
    "2. 一棵二叉树的根结点和子树之间的关系是**父结点与子结点**的关系：\n",
    "    * 父结点与子结点的关系称为边，这个边是单向的父子关系；\n",
    "    * 基于同一个父结点的两个子结点称为兄弟结点；\n",
    "3. 一棵树的有些结点没有子结点，称为**树叶**；树中其余结点称为分支结点；\n",
    "4. 一个结点的子结点个数称为该结点的**度数**。一个结点的度数可能是0,1,2；\n",
    "5. 从祖先结点到任意一个子孙结点形成一条唯一的路径，路径上边的条数称为该路径的**长度**；\n",
    "6. 二叉树是一种层级结构，树根是最高层，定义为第0层；对于第k层的结点来说，子结点属于k+1层。\n",
    "7. 一个结点所在的 **层数=长度**；一棵树的高度(深度)为这棵树的最大层数，即最长的一条路径。"
   ]
  },
  {
   "cell_type": "markdown",
   "metadata": {},
   "source": [
    "**二叉树的几个典型**：\n",
    "\n",
    "1. **满二叉树**：如果二叉树中所有分支结点的度数都是2，称为一棵满二叉树；\n",
    "\n",
    "2. **扩充二叉树**：对二叉树T加入足够多的结点，使其成为一棵满二叉树，称为扩充二叉树；原结点称为内部结点，新增结点称为外部结点；\n",
    "\n",
    "3. **完全二叉树**：对于一棵高度为h的二叉树，如果第i层结点数量为 $2^{i}(0\\leq i\\leq h-1)$。如果最下一层不满，所有结点都靠左排列，空位都在右边。称为完全二叉树；\n",
    "\n",
    "4. **平衡二叉树**: 要么是一棵空树，要么满足：左右子树的高度相差不大于1。\n",
    "\n",
    "下面是3种二叉树的示例。"
   ]
  },
  {
   "cell_type": "markdown",
   "metadata": {},
   "source": [
    "<img src='picture\\tree_1.png'>    \n",
    "<img src='picture\\tree_2.png'>\n",
    "<img src='picture\\tree_3.png'>"
   ]
  },
  {
   "cell_type": "markdown",
   "metadata": {},
   "source": [
    "###  二叉树的性质\n",
    "\n",
    "1. 在非空二叉树第i层中最多有 $2^i$ 个结点；\n",
    "\n",
    "2. 高度为 h 的二叉树最多有 $2^{h+1}-1$ 个结点($h \\geq 0$)；\n",
    "\n",
    "3. 对任何非空二叉树T，叶结点数量 $n_0$ 和 度数为 2 的结点数量 $n_2$ 的关系是：$n_0 = n_2 + 1$;\n",
    "\n",
    "4. 具有 n 个结点的完全二叉树的高度 $ h=\\lfloor \\log_2 n \\rfloor $ (向下取整)。\n",
    "\n",
    "5. 如果具有 n 个结点的完全二叉树，从 0 开始按层次按从左到右进行编号，对任一结点 $i(0\\leq i\\leq n-1)$ 有：\n",
    "\n",
    "    1. 序号为 0 的结点为根；\n",
    "    2. 对于 i>0,其父结点的编号为 (i-1)/2 (此处为整除);\n",
    "    3. 结点i的左结点编号为 $2\\times i +1\\quad  (if \\; 2\\times i +1<n)$;\n",
    "    4. 结点i的右结点编号为 $2\\times i +2\\quad  (if \\; 2\\times i +2<n)$。"
   ]
  },
  {
   "cell_type": "markdown",
   "metadata": {},
   "source": [
    "**证明性质5如下：**\n",
    "\n",
    "我们来证明结论C，其他结论可以通过C推导得出。\n",
    "\n",
    "假设完美二叉树第 $n(n\\geq 0)$ 层存在一个节点下标为 i，那么第 n 层剩余节点个数(包括i节点)为：\n",
    " $$k = (2^{n+1}-1)-i$$\n",
    " \n",
    " \n",
    "假设i节点左节点下标为 j，那么在第 n+1 层中 j 节点之前(不包括 j 节点)节点数为\n",
    "$$m = 2^{n+2-1}-2k=2^{n+1}-2k$$\n",
    "\n",
    "那么\n",
    "$$\\begin{split} \n",
    "j-i \n",
    "&=m+k\\\\\n",
    "&=2^{n+1}-2k+k\\\\\n",
    "&=2^{n+1}-k\\\\\n",
    "&=2^{n+1}-(2^{n+1}-i-1)\\\\\n",
    "&=i+1\n",
    "\\end{split}$$\n",
    "\n",
    "即  $$j=2i+1$$\n",
    "证明完毕\n"
   ]
  },
  {
   "cell_type": "markdown",
   "metadata": {},
   "source": [
    "## 二叉树的抽象数据类型"
   ]
  },
  {
   "cell_type": "markdown",
   "metadata": {},
   "source": [
    "定义：\n",
    "1. 构造操作，创建一棵新二叉树；\n",
    "\n",
    "2. 判断是否为一棵空二叉树；\n",
    "\n",
    "3. 求二叉树的结点个数；\n",
    "\n",
    "4. 获取二叉树根存储的数据；\n",
    "\n",
    "5. 获得左子树；\n",
    "\n",
    "6. 获得右子树；\n",
    "\n",
    "7. btree替换左子树;\n",
    "\n",
    "8. btree替换右子树;\n",
    "\n",
    "9. 遍历二叉树各结点的迭代器；\n",
    "\n",
    "10. 对二叉树的每一个结点执行操作op\n",
    "\n"
   ]
  },
  {
   "cell_type": "markdown",
   "metadata": {},
   "source": [
    "## 遍历二叉树"
   ]
  },
  {
   "cell_type": "markdown",
   "metadata": {},
   "source": [
    "关于遍历：\n",
    "1. 每一颗二叉树有唯一的根结点，可以从树根出发获取关于二叉树的全部信息，一般也用树根来代表一棵二叉树。获取基于从父结点可以找到左右子结点，左右子结点，如果度数不为0，可以继续下去；\n",
    "\n",
    "2. 二叉树的每个结点可能都保存了一些信息，要想获取这些信息，遍历二叉树是基本且重要的操作；很多复杂的二叉树操作都要基于遍历二叉树来实现；例如找到一个结点的父结点，类似于单链表找到上一结点。"
   ]
  },
  {
   "cell_type": "markdown",
   "metadata": {},
   "source": [
    "二叉树遍历的2种方式：\n",
    "\n",
    "1. **深度优先遍历**：顺着一条路径尽可能向前探索，必要时回溯。\n",
    "\n",
    "2. **广度优先遍历**：在所有路径上齐头并进。"
   ]
  },
  {
   "cell_type": "markdown",
   "metadata": {},
   "source": [
    "### 深度优先遍历"
   ]
  },
  {
   "cell_type": "markdown",
   "metadata": {},
   "source": [
    "深度遍历一棵二叉树，需要做三件事：遍历左子树(L)、遍历右子树(R)、访问根结点(D，可能会操作数据)。"
   ]
  },
  {
   "cell_type": "markdown",
   "metadata": {},
   "source": [
    "<img src='picture\\tree_4.png'>"
   ]
  },
  {
   "cell_type": "markdown",
   "metadata": {},
   "source": [
    "选择不同的执行顺序，就会得到三种不同的遍历顺序：\n",
    "\n",
    "1. 先根顺序(DLR顺序)；\n",
    "2. 后根顺序(LRD顺序)；\n",
    "3. 中根顺序(LDR顺序)，也称为对称序。"
   ]
  },
  {
   "cell_type": "markdown",
   "metadata": {},
   "source": [
    "以下面这棵树为例，来看下三种遍历顺序分别对应的遍历结点顺序：\n",
    "\n",
    "1. 先根： A B D H E I C F J K G \n",
    "2. 后根： H D I E B J K F G C A\n",
    "3. 中根： D H B E I A J F K C G  "
   ]
  },
  {
   "cell_type": "markdown",
   "metadata": {},
   "source": [
    "<img src='picture\\tree_5.png'>"
   ]
  },
  {
   "cell_type": "markdown",
   "metadata": {},
   "source": [
    "**命题** 如果知道了一棵二叉树的对称序列，又知道了另一个遍历序列(先根 or 后根)，就可以唯一缺的这棵二叉树。"
   ]
  },
  {
   "cell_type": "markdown",
   "metadata": {},
   "source": [
    "### 宽度优先遍历"
   ]
  },
  {
   "cell_type": "markdown",
   "metadata": {},
   "source": [
    "宽度优先遍历一棵二叉树是按照**路径长度**由近到远逐层遍历。常见的是从左到右遍历，所以宽度优先遍历又称为按层次顺序遍历。"
   ]
  },
  {
   "cell_type": "markdown",
   "metadata": {},
   "source": [
    "关于上面提到的二叉树，按宽度遍历的遍历顺序是：A B C D E F G H I J K "
   ]
  },
  {
   "cell_type": "markdown",
   "metadata": {},
   "source": [
    "## 二叉树的list实现"
   ]
  },
  {
   "cell_type": "markdown",
   "metadata": {},
   "source": [
    "简单看，二叉树的结点是一个三元组，存储的是左右子树和本结点的数据。可以通过python的list 和 tuple 来实现，区别在于是否需要变动子树和结点数据。\n",
    "\n",
    "下面考虑用list来实现二叉树，基本操作同样适用于tuple。"
   ]
  },
  {
   "cell_type": "markdown",
   "metadata": {},
   "source": [
    "**设计和实现**"
   ]
  },
  {
   "cell_type": "markdown",
   "metadata": {},
   "source": [
    "设计：\n",
    "\n",
    "1. 空树用None 表示；\n",
    "2. 非空二叉树用 {d,l,r} 三元组表示：\n",
    "    * d 表示存在根结点的数据；\n",
    "    * l 和 r 表示左右两棵子树，采用和整个二叉树同样结构的list表示。"
   ]
  },
  {
   "cell_type": "markdown",
   "metadata": {},
   "source": [
    "下面以一棵二叉树为例，来用list表示一棵二叉树：\n",
    "<img src='picture\\tree_6.png'>"
   ]
  },
  {
   "cell_type": "markdown",
   "metadata": {},
   "source": [
    "```python\n",
    "['A',\n",
    "\t['B',None,None],\n",
    "\t['C',\n",
    "\t\t['D',\n",
    "\t\t\t['F',None,None],\n",
    "\t\t\t['G',None,None]\n",
    "\t\t],\n",
    "\t['E',\n",
    "\t\t['I',None,None],\n",
    "\t\t['H',None,None]\n",
    "\t\t]\n",
    "\t]\n",
    "] \n",
    "\n",
    "```"
   ]
  },
  {
   "cell_type": "markdown",
   "metadata": {},
   "source": [
    "上述的对齐只是为了便于阅读。"
   ]
  },
  {
   "cell_type": "code",
   "execution_count": 1,
   "metadata": {
    "ExecuteTime": {
     "end_time": "2021-05-12T11:21:43.749354Z",
     "start_time": "2021-05-12T11:21:43.737355Z"
    }
   },
   "outputs": [],
   "source": [
    "def BinTree(data,left=None,right=None):\n",
    "    return [data,left,right]\n",
    "\n",
    "def is_empty_BinTree(btree):\n",
    "    return btree is None \n",
    "\n",
    "def root(btree):\n",
    "    return btree[0]\n",
    "\n",
    "def left(btree):\n",
    "    return btree[1]\n",
    "\n",
    "def right(btree):\n",
    "    return btree[2]\n",
    "\n",
    "def set_root(btree,data):\n",
    "    btree[0] = data \n",
    "\n",
    "def set_left(btree,left):\n",
    "    btree[1] = left \n",
    "    \n",
    "def set_right(btree,right):\n",
    "    btree[1] = right"
   ]
  },
  {
   "cell_type": "markdown",
   "metadata": {},
   "source": [
    "基于上述定义，可以构造任意复杂的二叉树，比如："
   ]
  },
  {
   "cell_type": "code",
   "execution_count": 2,
   "metadata": {
    "ExecuteTime": {
     "end_time": "2021-05-12T11:23:13.612638Z",
     "start_time": "2021-05-12T11:23:13.605605Z"
    }
   },
   "outputs": [],
   "source": [
    "t1=BinTree(2,BinTree(4),BinTree(8))"
   ]
  },
  {
   "cell_type": "markdown",
   "metadata": {},
   "source": [
    "相当于：[2,[4,None,None],[8,None,None]]"
   ]
  },
  {
   "cell_type": "markdown",
   "metadata": {},
   "source": [
    "## 优先队列"
   ]
  },
  {
   "cell_type": "markdown",
   "metadata": {},
   "source": [
    "这种结构和二叉树没有直接关系，但是基于二叉树，可以做出一种高效实现，也可以当做二叉树的应用。"
   ]
  },
  {
   "cell_type": "markdown",
   "metadata": {},
   "source": [
    "概念：优先队列是一个有序集 $S=(D,\\leq)$，这里的 $\\leq$ 是 集合 D 上一种全序(非严格的)，表示元素之间的**优先级**。优先队列要求**优先级最高的元素先出/先用**。"
   ]
  },
  {
   "cell_type": "markdown",
   "metadata": {},
   "source": [
    "优先队列的操作包括：\n",
    "\n",
    "1. 创建、判断空、确定元素个数等；\n",
    "2. 插入、访问和弹出优先队列里最优先的元素。"
   ]
  },
  {
   "cell_type": "markdown",
   "metadata": {},
   "source": [
    "### 基于线性表的实现"
   ]
  },
  {
   "cell_type": "markdown",
   "metadata": {},
   "source": [
    "基于 插入和弹出的侧重点不同，有两种实现方案：\n",
    "\n",
    "1. 插入的时候按照元素的优先顺序插入，操作复杂度会高一些；访问的时候效率很高，可以直接取到优先级最高的元素；\n",
    "\n",
    "2. 插入的时候在list的尾端插入 或者 链表的头部 插入，操作复杂度低；访问的时候，操作复杂度高，需要去搜索优先级最高的元素。\n",
    "\n",
    "下面基于第一种方式来实现。"
   ]
  },
  {
   "cell_type": "markdown",
   "metadata": {},
   "source": [
    "**基于list实现优先队列**"
   ]
  },
  {
   "cell_type": "markdown",
   "metadata": {},
   "source": [
    "在下面的实现中，假设值更小的元素优先级更高。"
   ]
  },
  {
   "cell_type": "code",
   "execution_count": 1,
   "metadata": {
    "ExecuteTime": {
     "end_time": "2021-10-15T02:16:07.268420Z",
     "start_time": "2021-10-15T02:16:07.259454Z"
    }
   },
   "outputs": [],
   "source": [
    "class PrioQueueError(ValueError):\n",
    "    pass\n",
    "\n",
    "class PrioQue(object):\n",
    "    \n",
    "    def __init__(self,elist=[]):\n",
    "        self._elems = list(elist) # 防止直接引用 elist 避免共享\n",
    "        self._elems.sort(reverse=True) # 从大到小排列\n",
    "        \n",
    "    def enqueue(self,e):\n",
    "        i = len(self._elems) - 1 \n",
    "        while i>=0 and e>=self._elems[i]:\n",
    "                i -= 1\n",
    "        self._elems.insert(i+1,e)\n",
    "    \n",
    "    def is_empty(self):\n",
    "        return not self._elems\n",
    "    \n",
    "    def peek(self):\n",
    "        if self.is_empty():\n",
    "            raise PrioQueueError('in peek')\n",
    "        return self._elems[-1]\n",
    "    \n",
    "    def dequeue(self):\n",
    "        if self.is_empty():\n",
    "            raise PrioQueueError('in pop')\n",
    "        return self._elems.pop()"
   ]
  },
  {
   "cell_type": "markdown",
   "metadata": {},
   "source": [
    "以上方案，插入元素是 $O(n)$ 操作；访问是 $O(1)$ 操作。"
   ]
  },
  {
   "cell_type": "markdown",
   "metadata": {},
   "source": [
    "### 树形结构和堆"
   ]
  },
  {
   "cell_type": "markdown",
   "metadata": {},
   "source": [
    "上面按照线性表来存储和访问优先队列，就无法突破 $O(n)$ 操作。\n",
    "\n",
    "现在我们介绍一种新的数据存储结构堆，可以有效地降低 插入 或者 访问的操作时间。"
   ]
  },
  {
   "cell_type": "markdown",
   "metadata": {},
   "source": [
    "**堆的定义和性质**"
   ]
  },
  {
   "cell_type": "markdown",
   "metadata": {},
   "source": [
    "**堆**是结点里存储数据的**完全二叉树**，只不过数据需要满足**堆序**：任何结点都(按照指定的序) 先于或等于 子结点的数据。\n",
    "\n",
    "从堆的定义可以看到堆具有以下性质：\n",
    "1. 堆的任何一条路径，数据都是按照序(非严格)递减的；\n",
    "\n",
    "2. 堆中最优先的元素必然位于树根，也就是堆顶；\n",
    "\n",
    "3. 树上不同路径之间的元素，不关心其优先级。"
   ]
  },
  {
   "cell_type": "markdown",
   "metadata": {},
   "source": [
    "如果优先序是小元素优先，称为**小顶堆**；否则称为**大顶堆**。"
   ]
  },
  {
   "cell_type": "markdown",
   "metadata": {
    "ExecuteTime": {
     "end_time": "2021-05-13T07:43:39.305048Z",
     "start_time": "2021-05-13T07:43:39.298043Z"
    }
   },
   "source": [
    "一棵完全二叉树可以信息完全地存入一个连续的线性结构(连续表等)，同样一个堆也一样自然存入一个连续表，通过下标的逻辑关系(参考二叉树性质5)就可以访问对应的元素。"
   ]
  },
  {
   "cell_type": "markdown",
   "metadata": {},
   "source": [
    "**堆和完全二叉树的性质**：\n",
    "\n",
    "1. 在一个堆最后加入一个元素，它依然是一棵完全二叉树，但不一定是一个堆；\n",
    "\n",
    "2. 一个堆去掉堆顶，会形成左右子堆，二叉树的下标关系以及子堆的序关系依然存在；\n",
    "\n",
    "3. 对去掉堆顶的左右子堆，添加一个堆顶元素，依然是一棵完全二叉树，不一定是一个堆；\n",
    "\n",
    "4. 去掉堆的最后一个元素，剩下的依旧是一个堆。"
   ]
  },
  {
   "cell_type": "markdown",
   "metadata": {},
   "source": [
    "### 优先队列的堆实现"
   ]
  },
  {
   "cell_type": "markdown",
   "metadata": {},
   "source": [
    "解决堆插入的关键操作是：向上筛选；堆删除的关键操作是：向下筛选。"
   ]
  },
  {
   "cell_type": "markdown",
   "metadata": {},
   "source": [
    "**插入与向上筛选**\n",
    "\n",
    "根据上面提到的性质，在堆尾部加入一个元素，是一棵完全二叉树，为了恢复成一个堆，可以执行一次向上筛选操作。"
   ]
  },
  {
   "cell_type": "markdown",
   "metadata": {},
   "source": [
    "向上筛选的方法：\n",
    "\n",
    "    新加入的元素e和不断和其父结点进行比较，如果 e 小于 父结点，进行交换。通过这样的交换，e 不断上升，直到 e 的父结点 小于等于 e 或者 e 到达根结点为止。\n",
    "    \n",
    "    这时，经过 e 的所有路径上元素已经保持有序，已经将完全二叉树恢复成一个堆。\n",
    "    \n",
    "向上筛选操作中比较与交换操作次数不会超过该二叉树的高度，根据二叉树的性质，加入元素的操作可以在 $O(\\log n)$ 时间内完成。"
   ]
  },
  {
   "cell_type": "markdown",
   "metadata": {},
   "source": [
    "<img src='picture\\tree_7.png'>"
   ]
  },
  {
   "cell_type": "markdown",
   "metadata": {},
   "source": [
    "**弹出与向下筛选**"
   ]
  },
  {
   "cell_type": "markdown",
   "metadata": {},
   "source": [
    "因为堆顶元素就是优先级最高的元素，弹出后，剩下左右子堆。可以取二叉树尾端的元素作为树根，形成一棵新的完全二叉树。这个时候它还不是堆，可以通过**向下筛选**将完全二叉树变成一个堆。"
   ]
  },
  {
   "cell_type": "markdown",
   "metadata": {},
   "source": [
    "设左右子堆 A B 和 根元素 e 形成一棵完全二叉树，恢复堆的向下筛选方法：\n",
    "\n",
    "1. 用 e 和 A B 两个“子堆”的 顶元素比较，较小的元素作为树根：\n",
    "    * 若 e 不是最小的元素，最小元素必然是 A 或者 B 的根；假设是 A 的根最小，那么就将 A 移到堆顶，相当于删除了堆 A 的 顶元素；\n",
    "    * 下面考虑把 e 放入去掉顶元素的 A，这是规模更小的子问题；\n",
    "    * B 的根最小，可以同样处理。\n",
    "2. 如果某次比较中，e 已经最小，以它为顶的局部树已经成为堆，整个结构也成为堆；\n",
    "\n",
    "3. 或者 e 已经落到底，那么它自身形成一个堆，整个结构也成为堆。"
   ]
  },
  {
   "cell_type": "markdown",
   "metadata": {},
   "source": [
    "<img src='picture\\tree_8.png'>"
   ]
  },
  {
   "cell_type": "markdown",
   "metadata": {},
   "source": [
    "总结下优先队列弹出操作的实现，分为三大步骤：\n",
    "\n",
    "1. 弹出当时的堆顶；\n",
    "\n",
    "2. 从堆最后取一个元素作为完全二叉树的根；\n",
    "\n",
    "3. 执行一次向下筛选。\n",
    "\n",
    "前两步都是 $O(1)$ 操作；最后一步需要从完全二叉树的根开始，一步操作需要做2次比较，操作次数不超过树的高度，能够在 $O(\\log n)$ 时间内完成。"
   ]
  },
  {
   "cell_type": "markdown",
   "metadata": {},
   "source": [
    "### 基于堆的优先队列类"
   ]
  },
  {
   "cell_type": "code",
   "execution_count": 16,
   "metadata": {
    "ExecuteTime": {
     "end_time": "2021-05-17T07:33:13.770477Z",
     "start_time": "2021-05-17T07:33:13.748477Z"
    }
   },
   "outputs": [],
   "source": [
    "class PrioQueueError(ValueError):\n",
    "    pass\n",
    "\n",
    "class PrioQueue(object):\n",
    "    \n",
    "    def __init__(self,elist=[]):\n",
    "        self._elems = list(elist) # 防止直接引用 elist 避免共享\n",
    "        if elist:\n",
    "            self.buildheap()# 构建堆\n",
    "            \n",
    "    def is_empty(self):\n",
    "        return not self._elems\n",
    "    \n",
    "    def peek(self):\n",
    "        if self.is_empty():\n",
    "            raise PrioQueueError('in peek')\n",
    "        return self._elems[0]\n",
    "    \n",
    "    def enqueue(self,e):\n",
    "        self._elems.append(None) # 增加一个哑结点，来放置向上筛选过程中下移的元素\n",
    "        self.siftup(e,len(self._elems)-1)\n",
    "        \n",
    "    \n",
    "    def siftup(self,e,last):# 向上筛选操作\n",
    "        elems,i,j = self._elems,last,(last-1)//2 # last 初始值是 None \n",
    "        \n",
    "        while j>=0 and e<elems[j]:\n",
    "            elems[i] = elems[j]\n",
    "            i,j = j, (j-1)//2\n",
    "        elems[i] = e\n",
    "            \n",
    "    \n",
    "    def dequeue(self):\n",
    "        if self.is_empty():\n",
    "            raise PrioQueueError('in dequeue')\n",
    "        elems = self._elems\n",
    "        e0 = elems[0]\n",
    "        e = elems.pop()\n",
    "        if len(elems)>0:\n",
    "            self.siftdown(e,0,len(elems))\n",
    "        return e0\n",
    "    \n",
    "    def siftdown(self,e,begin,end):# 向下筛选操作\n",
    "        \n",
    "        elems, i,j = self._elems,begin, 2*bedin + 1 \n",
    "        while j<end:\n",
    "            if j+1<end and elems[j+1]<elems[j]: # 先比较2个子堆的顶元素的大小，取最小\n",
    "                j += 1\n",
    "            if e<elems[j]:\n",
    "                break \n",
    "            elems[i] = elems[j]\n",
    "            i,j = j,2*j+1\n",
    "        elems[i] = e \n",
    "        \n",
    "    def buildheap(self):\n",
    "        # 构建堆的操作：从下标 end//2开始，后面的表元素都是二叉树的叶结点，每一个已经是一个堆。\n",
    "        # 从二叉树的最下最右分支结点开始，向左一个个建堆，再上一层建堆，直到最后整体变成一个堆。\n",
    "        end = len(self._elems)\n",
    "        for i in range(end//2,-1,-1):\n",
    "            self.siftdown(self._elems[i],i,end)"
   ]
  },
  {
   "cell_type": "markdown",
   "metadata": {},
   "source": [
    "时间复杂度：\n",
    "* 创建堆的操作时间复杂度是 $O(n)$，只需要做1次；\n",
    "* 插入和弹出的操作时间复杂度是 $\\log(n)$。"
   ]
  },
  {
   "cell_type": "markdown",
   "metadata": {},
   "source": [
    "### 堆的应用：堆排序"
   ]
  },
  {
   "cell_type": "markdown",
   "metadata": {},
   "source": [
    "基于上面的构建和弹出操作，我们可以将一个无序的数组输出为一个有序的数组。"
   ]
  },
  {
   "cell_type": "code",
   "execution_count": 1,
   "metadata": {
    "ExecuteTime": {
     "end_time": "2021-06-18T08:54:10.663721Z",
     "start_time": "2021-06-18T08:54:10.587548Z"
    }
   },
   "outputs": [],
   "source": [
    "def heap_sort(elems):\n",
    "    \n",
    "    def siftdown(elems,e,begin,end):#从小到大\n",
    "        i,j = begin,begin*2+1\n",
    "        while j<end:\n",
    "            if j+1<end and elems[j+1]<elems[j]:\n",
    "                j += 1 \n",
    "            if e<elems[j]:\n",
    "                break \n",
    "            elems[i] = elems[j]\n",
    "            i,j = j,j*2+1\n",
    "        elems[i] = e \n",
    "        \n",
    "    end = len(elems)\n",
    "    for i in range(end//2,-1,-1):#构建小顶堆\n",
    "        siftdown(elems,elems[i],i,end)\n",
    "    for j in range(end-1,0,-1):# 弹出  # 为了保证序列是从大到小排列的\n",
    "        e = elems[j] #堆末元素放入根，进行向下操作\n",
    "        elems[j] = elems[0]# 堆顶放队尾\n",
    "        siftdown(elems,e,0,j)\n",
    "    return elems"
   ]
  },
  {
   "cell_type": "code",
   "execution_count": 2,
   "metadata": {
    "ExecuteTime": {
     "end_time": "2021-06-18T08:54:11.442649Z",
     "start_time": "2021-06-18T08:54:11.405648Z"
    }
   },
   "outputs": [
    {
     "data": {
      "text/plain": [
       "[9, 8, 8, 6, 5, 4, 3]"
      ]
     },
     "execution_count": 2,
     "metadata": {},
     "output_type": "execute_result"
    }
   ],
   "source": [
    "heap_sort([4,5,3,6,8,9,8])"
   ]
  },
  {
   "cell_type": "markdown",
   "metadata": {},
   "source": [
    "第一个循环里，构建的操作时间复杂度是 $O(n)$；第二个循环里，按顺序弹出操作的时间复杂度是 $O(n\\log n)$"
   ]
  },
  {
   "cell_type": "markdown",
   "metadata": {
    "ExecuteTime": {
     "end_time": "2021-05-18T06:52:51.766769Z",
     "start_time": "2021-05-18T06:52:51.729772Z"
    }
   },
   "source": [
    "## 二叉树的类实现"
   ]
  },
  {
   "cell_type": "markdown",
   "metadata": {},
   "source": [
    "### 二叉树的结点类"
   ]
  },
  {
   "cell_type": "code",
   "execution_count": 1,
   "metadata": {
    "ExecuteTime": {
     "end_time": "2021-05-19T06:36:52.195396Z",
     "start_time": "2021-05-19T06:36:52.173401Z"
    }
   },
   "outputs": [],
   "source": [
    "class BinTNode(object):\n",
    "    \n",
    "    def __init__(self,data,left=None,right=None):\n",
    "        self.data = data \n",
    "        self.left = left \n",
    "        self.right = right "
   ]
  },
  {
   "cell_type": "code",
   "execution_count": 2,
   "metadata": {
    "ExecuteTime": {
     "end_time": "2021-05-19T06:44:41.329321Z",
     "start_time": "2021-05-19T06:44:41.321329Z"
    }
   },
   "outputs": [],
   "source": [
    "#一棵二叉树\n",
    "t=BinTNode(1,BinTNode(2),BinTNode(3))"
   ]
  },
  {
   "cell_type": "code",
   "execution_count": 6,
   "metadata": {
    "ExecuteTime": {
     "end_time": "2021-05-19T08:07:31.164949Z",
     "start_time": "2021-05-19T08:07:31.159926Z"
    }
   },
   "outputs": [],
   "source": [
    "def count_BinTNodes(t):# 统计树中结点的个数 \n",
    "    if t is None:\n",
    "        return 0 \n",
    "    return 1 + count_BinTNodes(t.left) + count_BinTNodes(t.right)\n",
    "\n",
    "def sum_BinTNodes(t): # 求各个结点存的数据的和\n",
    "    if t is None:\n",
    "        return 0 \n",
    "    return t.data + sum_BinTNodes(t.left) + sum_BinTNodes(t.right)"
   ]
  },
  {
   "cell_type": "code",
   "execution_count": 7,
   "metadata": {
    "ExecuteTime": {
     "end_time": "2021-05-19T08:07:31.341957Z",
     "start_time": "2021-05-19T08:07:31.336951Z"
    }
   },
   "outputs": [
    {
     "name": "stdout",
     "output_type": "stream",
     "text": [
      "3 6\n"
     ]
    }
   ],
   "source": [
    "print(count_BinTNodes(t),sum_BinTNodes(t))"
   ]
  },
  {
   "cell_type": "markdown",
   "metadata": {},
   "source": [
    "### 遍历算法"
   ]
  },
  {
   "cell_type": "markdown",
   "metadata": {},
   "source": [
    "**递归定义的遍历函数**"
   ]
  },
  {
   "cell_type": "markdown",
   "metadata": {},
   "source": [
    "按先根序遍历二叉树的递归函数\n",
    "\n",
    "```python\n",
    "def preorder(t,proc):#proc是具体的结点操作\n",
    "    if t is None:\n",
    "        return \n",
    "    proc(t.data)\n",
    "    preorder(t.left,proc)\n",
    "    preorder(t.right,proc)\n",
    "```\n",
    "\n",
    "下面是一个打印二叉树的例子"
   ]
  },
  {
   "cell_type": "code",
   "execution_count": 8,
   "metadata": {
    "ExecuteTime": {
     "end_time": "2021-05-19T08:24:36.583993Z",
     "start_time": "2021-05-19T08:24:36.578995Z"
    }
   },
   "outputs": [],
   "source": [
    "def print_BinTNodes(t):\n",
    "    if t is None:\n",
    "        print('^',end='')\n",
    "        return \n",
    "    print('('+str(t.data),end='')\n",
    "    print_BinTNodes(t.left)\n",
    "    print_BinTNodes(t.right)\n",
    "    print(')',end='')"
   ]
  },
  {
   "cell_type": "code",
   "execution_count": 9,
   "metadata": {
    "ExecuteTime": {
     "end_time": "2021-05-19T08:25:19.649648Z",
     "start_time": "2021-05-19T08:25:19.643651Z"
    }
   },
   "outputs": [
    {
     "name": "stdout",
     "output_type": "stream",
     "text": [
      "(1(2(5^^)^)(3^^))"
     ]
    }
   ],
   "source": [
    "t=BinTNode(1,BinTNode(2,BinTNode(5)),BinTNode(3))\n",
    "print_BinTNodes(t)"
   ]
  },
  {
   "cell_type": "markdown",
   "metadata": {},
   "source": [
    "**非递归的先根序遍历**\n",
    "\n",
    "```python\n",
    "def preorder_norec(t,proc):\n",
    "    s = SStack()\n",
    "    while t is not None or not s.is_empty():\n",
    "        while t is not None:\n",
    "            proc(t.data)\n",
    "            s.push(t.right)\n",
    "            t = t.left \n",
    "        t = s.pop()   \n",
    "    \n",
    "```\n",
    "时间复杂度是 $O(n)$;空间复杂度是 $O(\\log n)$"
   ]
  },
  {
   "cell_type": "markdown",
   "metadata": {},
   "source": [
    "**非递归的后根序遍历算法**\n",
    "\n",
    "```python \n",
    "def postorder_nonrec(t,proc):\n",
    "    s = SStack()\n",
    "    while t is not None or not s.is_empty():\n",
    "        while t is not None: # 下行循环，知道栈顶的两子树为空\n",
    "            s.push(t)\n",
    "            t = t.left if t.left is not None else t.right # 能左就左，否则向右一步到叶结点\n",
    "            \n",
    "        t = s.pop() # 栈顶是应访问结点\n",
    "        proc(t.data)\n",
    "        if not s.is_empty() and s.top().left == t: # 栈不空且当前结点是栈顶结点的左结点\n",
    "            t = s.top().right\n",
    "        else:\n",
    "            t = None # 没有右子树 或者右子树遍历完毕，强迫退栈\n",
    "            \n",
    "```"
   ]
  },
  {
   "cell_type": "markdown",
   "metadata": {},
   "source": [
    "### 二叉树类"
   ]
  },
  {
   "cell_type": "markdown",
   "metadata": {},
   "source": [
    "之前基于二叉树结点类构造的二叉树，很方便进行递归处理，但是不统一之处在于：用 None 表示空树，它不是一个 BinTNode ；另外，它不是一种良好封装的抽象数据类型。\n",
    "\n",
    "解决这些问题的办法是定义一个二叉树类。"
   ]
  },
  {
   "cell_type": "code",
   "execution_count": 11,
   "metadata": {
    "ExecuteTime": {
     "end_time": "2021-05-20T06:35:18.910416Z",
     "start_time": "2021-05-20T06:35:18.902426Z"
    }
   },
   "outputs": [],
   "source": [
    "class BinTree(object):\n",
    "    \n",
    "    def __init__(self):\n",
    "        self._root = None \n",
    "        \n",
    "    def is_empty(self):\n",
    "        return self._root is None\n",
    "    \n",
    "    def root(self):\n",
    "        return self._root\n",
    "    \n",
    "    def leftchild(self):\n",
    "        return self._root.left \n",
    "    \n",
    "    def rightchild(self):\n",
    "        return self._root.right \n",
    "    \n",
    "    def set_root(self,rootnode):\n",
    "        self._root = rootnode\n",
    "        \n",
    "    def set_left(self,leftnode):\n",
    "        self._root.left = leftnode\n",
    "    \n",
    "    def set_right(self,rightnode):\n",
    "        self._root.right = rightnode\n",
    "        \n",
    "    def preorder_elements(self):# 先根序遍历结点的数据\n",
    "        t,s = self._root,[]\n",
    "        while t is not None or not S:\n",
    "            s.append(t.right)\n",
    "            yield t.data \n",
    "            t = t.left \n",
    "        s.pop()\n",
    "        "
   ]
  },
  {
   "cell_type": "markdown",
   "metadata": {},
   "source": [
    "# 二叉排序树"
   ]
  },
  {
   "cell_type": "markdown",
   "metadata": {},
   "source": [
    "## 定义和性质"
   ]
  },
  {
   "cell_type": "markdown",
   "metadata": {},
   "source": [
    "二叉排序树是一种在结点里存储数据的二叉树。一棵二叉排序树或者为空，或者满足下面性质：\n",
    "1. 根结点保存着一个数据项；\n",
    "2. 如果左(右)子树不空，左子树所有结点保存的值均小于(大于)根结点保存的值；\n",
    "3. 非空的左子树或右子树本身也是二叉排序树。\n",
    "\n",
    "显然：\n",
    "\n",
    "1. 二叉排序树也是一种递归结构；\n",
    "2. 二叉排序树中序遍历，得到的是按照值上升的序列。\n",
    "\n",
    "**性质**\n",
    "\n",
    "一棵结点里存储值的二叉树是二叉排序树，当且仅当按照中序遍历后得到的是一个递增序列。"
   ]
  },
  {
   "cell_type": "markdown",
   "metadata": {},
   "source": [
    "## 二叉排序树类"
   ]
  },
  {
   "cell_type": "code",
   "execution_count": 1,
   "metadata": {
    "ExecuteTime": {
     "end_time": "2021-07-28T13:25:06.828922Z",
     "start_time": "2021-07-28T13:25:06.796925Z"
    }
   },
   "outputs": [],
   "source": [
    "class BinTNode(object):\n",
    "    \n",
    "    def __init__(self,data,left=None,right=None):\n",
    "        self.data = data \n",
    "        self.left = left \n",
    "        self.right = right \n",
    "        \n",
    "class DictBinTree:\n",
    "    def __init__(self):\n",
    "        self._root = None\n",
    "        \n",
    "    def is_empty(self):\n",
    "        return self._root is None\n",
    "    \n",
    "    def search(self,key):\n",
    "        bt = self._root\n",
    "        while bt is not None:\n",
    "            entry = bt.data \n",
    "            if key<entry.key:\n",
    "                bt = bt.left \n",
    "            elif key>entry.key:\n",
    "                bt = bt.right\n",
    "            else:\n",
    "                return entry.value\n",
    "        return None \n",
    "    \n",
    "    def insert(self,key,value):\n",
    "        bt = self._root \n",
    "        if bt is None:\n",
    "            self._root.data = BinTNode(key,value)\n",
    "            return \n",
    "        \n",
    "        while True:\n",
    "            entry = bt.data \n",
    "            if key<entry.key:\n",
    "                if bt.left is None:\n",
    "                    bt.left.data = BinTNode(key,value)\n",
    "                    return \n",
    "                bt = bt.left \n",
    "            elif key>entry.key:\n",
    "                if bt.right is None:\n",
    "                    bt.right.data = BinTNode(key,value)\n",
    "                    return \n",
    "                bt = bt.right \n",
    "            else: # 如果key已经存在，替换\n",
    "                bt.data.vale = value\n",
    "                return \n",
    "        "
   ]
  },
  {
   "cell_type": "markdown",
   "metadata": {},
   "source": [
    "# 平衡二叉树"
   ]
  },
  {
   "cell_type": "markdown",
   "metadata": {},
   "source": [
    "二叉树要支持字典的检索操作，就要避免二叉树出现某种退化形式，出现超长的检索路径。最基本的追求就是：\n",
    "\n",
    "1. 要保证 $O(\\log n)$ 的检索效率，保证每一次检索在 $O(\\log n)$ 时间里完成，这就要求二叉树结构的高度始终维持在 $O(\\log n)$,或者$O(\\log n)$ 的常数倍；\n",
    "\n",
    "2. 还要保证插入和删除操作的性能，使他们的实际操作能够在一条路径上完成，保证 $O(\\log n)$ 的复杂度。"
   ]
  },
  {
   "cell_type": "markdown",
   "metadata": {},
   "source": [
    "下面主要介绍**平衡二叉排序树**，也称 AVL 树，由苏联的Georgy Adelson-Velsky 和 E.M.Landis发明，并以他们的名字命名。与之类似的结构还要红黑树，B树等。"
   ]
  },
  {
   "cell_type": "markdown",
   "metadata": {},
   "source": [
    "## 定义和性质"
   ]
  },
  {
   "cell_type": "markdown",
   "metadata": {},
   "source": [
    "平衡二叉排序树的定义如下：\n",
    "\n",
    "平衡二叉排序树或者是一棵空树，或者其左右子树也是平衡二叉排序树(递归结构)，如果用 H(T) 表示一棵树的高度，则左子树 LT 和 RT 满足：\n",
    "\n",
    "$$\\left|H(LT)-H(RT)\\right|<=1$$"
   ]
  },
  {
   "cell_type": "markdown",
   "metadata": {},
   "source": [
    "易见，这里的平衡是一种局部性质，可以通过局部信息描述。整棵树的平衡可以由各结点的平衡来刻画。结点平衡可以由平衡因子(Balance Factor,BF)来刻画。\n",
    "\n",
    "结点BF的定义如下：\n",
    "\n",
    "$$BF = 𝐻(𝐿𝑇)−𝐻(𝑅𝑇)$$\n",
    "\n",
    "根据平衡二叉排序树的定义可知，BF的取值集是 $\\{-1,0,1\\}$。"
   ]
  },
  {
   "cell_type": "markdown",
   "metadata": {},
   "source": [
    "下面是三棵平衡和非平衡二叉树的示意图，标注在结点旁边的数字是各个结点的BF.\n",
    "<img src='picture\\tree_15.png'>"
   ]
  },
  {
   "cell_type": "markdown",
   "metadata": {},
   "source": [
    "## AVL树类"
   ]
  },
  {
   "cell_type": "markdown",
   "metadata": {},
   "source": [
    "**基本定义**"
   ]
  },
  {
   "cell_type": "markdown",
   "metadata": {},
   "source": [
    "为了实现AVL树类，二叉树的每个结点都要增加一个对平衡因子BF的记录。下面我们创建一个AVL树类，主要研究插入操作的实现，并简单讨论下删除操作。"
   ]
  },
  {
   "cell_type": "markdown",
   "metadata": {},
   "source": [
    "首先把AVL结点类定义为二叉树结点类的一个子类，增加一个bf域，叶节点的bf值为0。"
   ]
  },
  {
   "cell_type": "code",
   "execution_count": 2,
   "metadata": {
    "ExecuteTime": {
     "end_time": "2021-09-01T03:33:32.177886Z",
     "start_time": "2021-09-01T03:33:32.166882Z"
    }
   },
   "outputs": [],
   "source": [
    "class BinTNode(object):\n",
    "    \n",
    "    def __init__(self,data,left=None,right=None):\n",
    "        self.data = data \n",
    "        self.left = left \n",
    "        self.right = right \n",
    "        \n",
    "class AVLNode(BinTNode):\n",
    "    def __init__(self,data):\n",
    "        BinTNode__init__(self,data)\n",
    "        self.bf = 0"
   ]
  },
  {
   "cell_type": "markdown",
   "metadata": {},
   "source": [
    "AVL树是一棵二叉排序树，将这个类定义为 DictBinTree 类的子类，所有不改变结构的方法都可以继承。但是插入和删除的方法需要重新定义，因为我们要考虑维护AVL树的平衡。"
   ]
  },
  {
   "cell_type": "code",
   "execution_count": 3,
   "metadata": {
    "ExecuteTime": {
     "end_time": "2021-09-01T03:39:18.973038Z",
     "start_time": "2021-09-01T03:39:18.959036Z"
    }
   },
   "outputs": [],
   "source": [
    "class DictBinTree:\n",
    "    def __init__(self):\n",
    "        self._root = None\n",
    "        \n",
    "    def is_empty(self):\n",
    "        return self._root is None\n",
    "    \n",
    "    def search(self,key):\n",
    "        bt = self._root\n",
    "        while bt is not None:\n",
    "            entry = bt.data \n",
    "            if key<entry.key:\n",
    "                bt = bt.left \n",
    "            elif key>entry.key:\n",
    "                bt = bt.right\n",
    "            else:\n",
    "                return entry.value\n",
    "        return None \n",
    "    \n",
    "    def insert(self,key,value):\n",
    "        bt = self._root \n",
    "        if bt is None:\n",
    "            self._root.data = BinTNode(key,value)\n",
    "            return \n",
    "        \n",
    "        while True:\n",
    "            entry = bt.data \n",
    "            if key<entry.key:\n",
    "                if bt.left is None:\n",
    "                    bt.left.data = BinTNode(key,value)\n",
    "                    return \n",
    "                bt = bt.left \n",
    "            elif key>entry.key:\n",
    "                if bt.right is None:\n",
    "                    bt.right.data = BinTNode(key,value)\n",
    "                    return \n",
    "                bt = bt.right \n",
    "            else: # 如果key已经存在，替换\n",
    "                bt.data.vale = value\n",
    "                return "
   ]
  },
  {
   "cell_type": "code",
   "execution_count": 4,
   "metadata": {
    "ExecuteTime": {
     "end_time": "2021-09-01T03:40:28.932151Z",
     "start_time": "2021-09-01T03:40:28.927156Z"
    }
   },
   "outputs": [],
   "source": [
    "class DivtAVL(DictBinTree):\n",
    "    def __init__(self):\n",
    "        DictBinTree.__init(self)"
   ]
  },
  {
   "cell_type": "markdown",
   "metadata": {},
   "source": [
    "## 插入操作的分析"
   ]
  },
  {
   "cell_type": "markdown",
   "metadata": {},
   "source": [
    "AVL树的插入操作：\n",
    "1. 根据关键码找到插入位置，插入结点；\n",
    "2. 插入后可能失衡(bf 不在 $\\{-1,0,1\\}$)范围内，需要通过调整来维持AVL树的平衡。"
   ]
  },
  {
   "cell_type": "markdown",
   "metadata": {},
   "source": [
    "**插入后的失衡和调整**\n",
    "\n",
    "* 如果在搜索插入位置过程中，所有**途径结点**的BF值都为 0，那么实际插入结点后不会引起AVL树的失衡，只需要修改途径结点的BF值为 1或者 -1；其他结点的BF 值不需要变；\n",
    "\n",
    "* 如果不是上面的情况，那么一定存在一棵包含实际插入点的最小BF非0树：\n",
    "    \n",
    "        包含新结点插入位置的、其根结点BF非0的最小子树。\n",
    "如果插入新结点后，结构调整和BF值修改都能在该子树的一条路径上完成，那么插入操作的复杂度将不超过 $O(\\log n)$。下面我们要说明，插入操作可以满足这个要求。\n",
    "\n"
   ]
  },
  {
   "cell_type": "markdown",
   "metadata": {},
   "source": [
    "假如插入结点所在的根结点BF非0的最小树，其根结点称为a，假设其左子树较高(右子树较高的情形类似)，如下图所示。\n",
    "\n",
    "1. 如果插入点在a的右子树，插入结点后只需要调整结点a之下到插入点路径上结点的BF值即可(根据a的选择，这些结点的BF值原来都为0)，将a的BF值改为0；由于以a为根结点的子树高度不变，对整棵树的平衡没有影响，插入操作完成。\n",
    "\n",
    "\n",
    "2. 如果插入点在a的左子树，这种情况必须想办法恢复a的平衡，并且要保证效率在 $O(\\log n)$。"
   ]
  },
  {
   "cell_type": "markdown",
   "metadata": {},
   "source": [
    "<img src='picture\\tree_16.png'>"
   ]
  },
  {
   "cell_type": "markdown",
   "metadata": {},
   "source": [
    "**失衡的类型**"
   ]
  },
  {
   "cell_type": "markdown",
   "metadata": {},
   "source": [
    "考虑到具体的恢复操作，分为四种情况处理：\n",
    "\n",
    "1. LL型调整(a的左子树更高，新结点插入在a的左子树的左子树)；\n",
    "2. LR型调整(a的左子树更高，新结点插入在a的左子树的右子树)；\n",
    "3. RR型调整(a的右子树更高，新结点插入在a的右子树的右子树)；\n",
    "4. RL型调整(a的右子树更高，新结点插入在a的右子树的左子树)。\n",
    "\n",
    "易见，后两种情况和前两种情况分别对应：\n",
    "* RR 对应 LL，插入在a的子树的外侧；\n",
    "* RL 对应 LR，插入在a的子树的内测。\n",
    "\n",
    "从后面的程序也可知，两组操作完全对称。下面讨论只需关心以a为根的这棵子树这棵树的其他部分无需考虑。"
   ]
  },
  {
   "cell_type": "markdown",
   "metadata": {},
   "source": [
    "**LL(RR)型调整**"
   ]
  },
  {
   "cell_type": "markdown",
   "metadata": {},
   "source": [
    "<img src='picture\\tree_17.png'>"
   ]
  },
  {
   "cell_type": "markdown",
   "metadata": {},
   "source": [
    "如上图所示：\n",
    "1. a的初始状态是：BF=1,左子树比右子树高，注意A,B,C是等高的；中序排列是： \n",
    "    * A b B a(root) C\n",
    "    \n",
    "    \n",
    "2. 插入点x在 a 的LL，此时a的BF=2。对应中序排列是： \n",
    "    * x  A b B a(root) C\n",
    "    \n",
    "    \n",
    "3. 我们通过调整要达到的目的是新树根的BF=0，基于上述的中序排列，我们可以左移树根到 b，使得新子树的BF=0。我们得到的中序排列是：\n",
    "    * x  A b(root) B a C\n",
    "    \n",
    "    对应的结构如图(3)所示。"
   ]
  },
  {
   "cell_type": "markdown",
   "metadata": {},
   "source": [
    "将 LL 型调整实现成AVL树类的一个静态方法(调整前结点已经插入到相应位置)：\n",
    "\n",
    "```python\n",
    "@staticmethod\n",
    "def LL(a,b):# a是最小bf非0的子树树根，b是左子树的根;返回的是新子树的根\n",
    "    a.left=b.right\n",
    "    b.right=a\n",
    "    a.bf=b.bf=0\n",
    "    return b\n",
    "    \n",
    "```"
   ]
  },
  {
   "cell_type": "markdown",
   "metadata": {},
   "source": [
    "对应的是RR型的失衡和调整：\n",
    "```python\n",
    "@staticmethod\n",
    "def RR(a,b):# a是最小bf非0的子树树根，b是右子树的根;返回的是新子树的根\n",
    "    a.right=b.left\n",
    "    b.left=a\n",
    "    a.bf=b.bf=0\n",
    "    return b\n",
    "    \n",
    "```"
   ]
  },
  {
   "cell_type": "markdown",
   "metadata": {},
   "source": [
    "**LR(RL)型的失衡和调整**"
   ]
  },
  {
   "cell_type": "markdown",
   "metadata": {},
   "source": [
    "<img src='picture\\tree_18.png'>"
   ]
  },
  {
   "cell_type": "markdown",
   "metadata": {},
   "source": [
    "如上图所示：\n",
    "1. a的初始状态是：BF=1,左子树比右子树高，注意A,以c为根的子树,D是等高的；中序排列是： \n",
    "    * A b B c C a(root) D\n",
    "    \n",
    "    \n",
    "2. 插入点x在 a 的LR(c的左子树或者右子树)，此时a的BF=2。对应中序排列是：\n",
    "    * 如果插入点在c的左子树(假设是左侧)：A b x B c C a(root) D；\n",
    "    * 如果插入点在c的右子树(假设是右侧)：A b B c C x a(root) D\n",
    "    \n",
    "    \n",
    "3. 我们通过调整要达到的目的是新树根的BF=0，基于上述的中序排列，我们可以左移树根到c，使得新子树的BF=0。我们得到的中序排列是：\n",
    "    \n",
    "    * 如果插入点在c的左子树(假设是左侧)：A b x B c(root) C a D；b,c,a对应的BF依次是：0,0,-1\n",
    "    * 如果插入点在c的右子树(假设是右侧)：A b B c(root) C x a D；b,c,a对应的BF依次是：1,0,0\n",
    "    \n",
    "    对应的结构如图(3)所示。"
   ]
  },
  {
   "cell_type": "markdown",
   "metadata": {},
   "source": [
    "将 LR 型调整实现成AVL树类的一个静态方法(调整前结点已经插入到相应位置)：\n",
    "\n",
    "```python\n",
    "@staticmethod\n",
    "def LR(a,b):# a是最小bf非0的子树树根，b是左子树的根;返回的是新子树的根\n",
    "    c = b.right \n",
    "    b.right,a.left = c.left,c.right \n",
    "    c.left,c.right = b, a \n",
    "    if c.bf == 0: #对应的树结构是：b(leaf) a(root)，即c插入后是b的叶结点，调整后是：b c(root) a\n",
    "        a.bf=b.bf = 0\n",
    "    elif c.bf == 1:#新结点在c的左子树\n",
    "        a.bf = -1 \n",
    "        b.bf = 0\n",
    "    else:       #新结点在c的右子树\n",
    "        a.bf = 0 \n",
    "        b.bf = 1\n",
    "    c.bf = 0\n",
    "    return c \n",
    "    \n",
    "```"
   ]
  },
  {
   "cell_type": "markdown",
   "metadata": {},
   "source": [
    "将 RL 型调整实现成AVL树类的一个静态方法(调整前结点已经插入到相应位置)：\n",
    "\n",
    "```python\n",
    "@staticmethod\n",
    "def RL(a,b):# a是最小bf非0的子树树根，b是右子树的根;返回的是新子树的根\n",
    "    c = b.left \n",
    "    b.left,a.right = c.right,c.left\n",
    "    c.left,c.right = a, b \n",
    "    if c.bf == 0: #对应的树结构是： a(root) b(leaf)，即c插入后是b的叶结点，调整后是：a c(root) b\n",
    "        a.bf=b.bf = 0\n",
    "    elif c.bf == 1:#新结点在c的左子树\n",
    "        a.bf = 0 \n",
    "        b.bf = -1\n",
    "    else:       #新结点在c的右子树\n",
    "        a.bf = 1 \n",
    "        b.bf = 0\n",
    "    c.bf = 0\n",
    "    return c \n",
    "    \n",
    "```"
   ]
  },
  {
   "cell_type": "markdown",
   "metadata": {},
   "source": [
    "## 插入操作的实现"
   ]
  },
  {
   "cell_type": "markdown",
   "metadata": {},
   "source": [
    "操作过程是：\n",
    "\n",
    "1. 查找新结点的插入位置，并在查找过程中记录遇到的最小bf非0子树的树根：\n",
    "    * 用变量 a 记录距插入位置最近的bf非0的子树根结点,由于可能需要修改这一子树，在过程中用pa记录a的父结点；如果不存在这样的结点a，那么a就是整棵树的树根；\n",
    "    * 如果在新结点插入后出现失衡(bf超出了$\\{-1,0,1\\}$的范围)，a就是失衡位置；\n",
    "    * 实际插入新结点。\n",
    "    \n",
    "    \n",
    "2. 修改从a的子结点到新结点的路径上各结点的bf：\n",
    "    * 由于 a 的定义，这一段路径上各个结点的bf=0;\n",
    "    * 用变量 p 从a的子结点开始遍历，如果新结点在p的左子树，p.bf=1;在p的右子树，p.bf=-1。\n",
    "    \n",
    "    \n",
    "3. 检查以a为根的子树是否失衡，失衡时进行调整：\n",
    "    * 如果a.bf==0,插入后不会失衡，简单修改平衡因子即可；\n",
    "    * 如果 a.bf == 1，按照 LL 或者 LR 进行调整；\n",
    "    * 如果 a.bf == -1，按照 RR 或者 RL 进行调整。\n",
    "    \n",
    "\n",
    "4. 连接调整好的子树，它要么直接作为整棵树的树根，或者作为 a 父结点相应方向的子结点。"
   ]
  },
  {
   "cell_type": "code",
   "execution_count": 7,
   "metadata": {
    "ExecuteTime": {
     "end_time": "2021-09-05T08:58:24.665902Z",
     "start_time": "2021-09-05T08:58:24.611858Z"
    }
   },
   "outputs": [],
   "source": [
    "class BinTNode(object):\n",
    "    \n",
    "    def __init__(self,data,left=None,right=None):\n",
    "        self.data = data \n",
    "        self.left = left \n",
    "        self.right = right \n",
    "        \n",
    "class AVLNode(BinTNode):\n",
    "    def __init__(self,data):\n",
    "        BinTNode__init__(self,data)\n",
    "        self.bf = 0\n",
    "\n",
    "class DivtAVL(DictBinTree):\n",
    "    def __init__(self):\n",
    "        DictBinTree.__init(self)\n",
    "    \n",
    "    @staticmethod\n",
    "    def LL(a,b):# a是最小bf非0的子树树根，b是左子树的根;返回的是新子树的根\n",
    "        a.left=b.right\n",
    "        b.right=a\n",
    "        a.bf=b.bf=0\n",
    "        return b\n",
    "    \n",
    "    @staticmethod\n",
    "    def RR(a,b):# a是最小bf非0的子树树根，b是右子树的根;返回的是新子树的根\n",
    "        a.right=b.left\n",
    "        b.left=a\n",
    "        a.bf=b.bf=0\n",
    "        return b\n",
    "    \n",
    "    @staticmethod\n",
    "    def LR(a,b):# a是最小bf非0的子树树根，b是左子树的根;返回的是新子树的根\n",
    "        c = b.right \n",
    "        b.right,a.left = c.left,c.right \n",
    "        c.left,c.right = b, a \n",
    "        if c.bf == 0: #对应的树结构是：b(leaf) a(root)，即c插入后是b的叶结点，调整后是：b c(root) a\n",
    "            a.bf=b.bf = 0\n",
    "        elif c.bf == 1:#新结点在c的左子树\n",
    "            a.bf = -1 \n",
    "            b.bf = 0\n",
    "        else:       #新结点在c的右子树\n",
    "            a.bf = 0 \n",
    "            b.bf = 1\n",
    "        c.bf = 0\n",
    "        return c \n",
    "    \n",
    "    @staticmethod\n",
    "    def RL(a,b):# a是最小bf非0的子树树根，b是右子树的根;返回的是新子树的根\n",
    "        c = b.left \n",
    "        b.left,a.right = c.right,c.left\n",
    "        c.left,c.right = a, b \n",
    "        if c.bf == 0: #对应的树结构是： a(root) b(leaf)，即c插入后是b的叶结点，调整后是：a c(root) b\n",
    "            a.bf=b.bf = 0\n",
    "        elif c.bf == 1:#新结点在c的左子树\n",
    "            a.bf = 0 \n",
    "            b.bf = -1\n",
    "        else:       #新结点在c的右子树\n",
    "            a.bf = 1 \n",
    "            b.bf = 0\n",
    "        c.bf = 0\n",
    "        return c\n",
    "    \n",
    "    \n",
    "\n",
    "    def insert(self,key,value):\n",
    "        a = p = self._root\n",
    "        if a is None:\n",
    "            self._root = AVLNode((key,value))\n",
    "            return \n",
    "        \n",
    "        pa = q = None   # 维持 pa,q为a,p的父结点\n",
    "        while p is not None:  # q作为p的父结点，主要是记录插入新结点的位置；随着p的迭代进行移动\n",
    "            if key == p.data.key: # 遇到相同的key，替换\n",
    "                p.data.value = value \n",
    "                return \n",
    "            if p.bf != 0: # a记录指针 p在迭代过程中的最后一个bf非0子树的树根，pa为a的父结点，此处通过q来得到\n",
    "                pa,a = q,p\n",
    "            q = p\n",
    "            if key<p.data.key:\n",
    "                p = p.left \n",
    "            else:\n",
    "                p = p.right \n",
    "        \n",
    "        # 上述循环我们得到了新结点的插入位置，即其父结点q；得到了离插入位置最近的bf非0的子树树根a 及其 父结点 pa\n",
    "        \n",
    "        #对结点进行插入，明确在a的左右\n",
    "        node = AVLNode((key,value))\n",
    "        if key < q.data.key:\n",
    "            q.left = node \n",
    "        else:\n",
    "            q.right = node \n",
    "        \n",
    "        if key<a.left:# p用于更新从a子结点b到新结点路径上的bf值\n",
    "            p = b = a.left \n",
    "            d = 1 \n",
    "        else:\n",
    "            p = b = a.right \n",
    "            d = -1 \n",
    "            \n",
    "        #修改从a子结点b到新结点路径上的bf值\n",
    "        while p != node:\n",
    "            if key<p.left:\n",
    "                p.bf = 1\n",
    "                p = p.left \n",
    "            else:\n",
    "                p.bf = -1 \n",
    "                p = p.right\n",
    "        \n",
    "        if a.bf == 0: # 不会失衡\n",
    "            a.bf = d\n",
    "            return \n",
    "        if a.bf == -d: # 新结点在较低的子树，不会失衡\n",
    "            a.bf = 0 \n",
    "            return \n",
    "        \n",
    "        # 新结点在较高的树，失衡，需要调整\n",
    "        if d == 1: # 新结点在a的左子树\n",
    "            if b.bf == 1:\n",
    "                b = DictAVL.LL(a,b)\n",
    "            else:\n",
    "                b = DictAVL.LR(a,b)\n",
    "        else:\n",
    "            if b.bf == -1:\n",
    "                b = DictAVL.RR(a,b)\n",
    "            else:\n",
    "                b = DictAVL.RL(a,b)\n",
    "        \n",
    "        # 连接调整后的子树b\n",
    "        if pa is None:\n",
    "            self._root = b \n",
    "        else:\n",
    "            if pa.left == a:\n",
    "                pa.left = b \n",
    "            else:\n",
    "                pa.right = b "
   ]
  },
  {
   "cell_type": "markdown",
   "metadata": {},
   "source": [
    "## 删除操作"
   ]
  },
  {
   "cell_type": "markdown",
   "metadata": {},
   "source": [
    "AVL 树中关键码的删除和插入操作类似，也是先确定结点并删除，而后调整结构恢复。"
   ]
  },
  {
   "cell_type": "markdown",
   "metadata": {},
   "source": [
    "# 动态多分支排序树"
   ]
  },
  {
   "cell_type": "markdown",
   "metadata": {},
   "source": [
    "## B树"
   ]
  },
  {
   "cell_type": "markdown",
   "metadata": {},
   "source": [
    "### 例子和定义"
   ]
  },
  {
   "cell_type": "markdown",
   "metadata": {},
   "source": [
    "**定义**\n",
    "\n",
    "一棵m阶 B树要么为空，要么满足以下特征：\n",
    "1. 树中分支结点的数量满足：\n",
    "    * 上限：分支结点里排序存放的关键码数量 $\\leq m-1$；\n",
    "    * 下限：根结点关键码数量 $\\geq 1$；其他结点关键码数量  $\\geq \\lfloor (m-1)/2 \\rfloor$;\n",
    "    * 所有叶结点都在同一层，仅用于表示检索失败，实际上不用表示(可以用None表示)\n",
    " \n",
    " \n",
    "2. 如果一个分支有 j 个关键码，就有 j+1 棵子树。假设关键码序列是$(k_0,k_1,\\cdots,k_{j-1})$，对应的子树序列是 $(p_0,p_1,\\cdots,p_{j-1},p_j)$，关键码 $k_i$ 和子树应用$p_{i-1},p_i$的关键码之间满足：\n",
    "$$keys(p_{i-1})\\leq k_i \\leq keys(p_i)$$\n",
    "\n",
    "其中 $keys(p_i)$ 表示 $p_i$ 所有关键码的集合。\n"
   ]
  },
  {
   "cell_type": "markdown",
   "metadata": {},
   "source": [
    "**例子**\n",
    "\n",
    "<img src='picture\\tree_19.png'>"
   ]
  },
  {
   "cell_type": "markdown",
   "metadata": {},
   "source": [
    "### 操作"
   ]
  },
  {
   "cell_type": "markdown",
   "metadata": {},
   "source": [
    "**检索**：基于关键码，从根出发，在遇到的分支结点内部通过二分法或者其他方法搜索关键码，如果找不到就转入可能存在该关键码的子树继续搜索，或者直到叶结点检索失败；\n",
    "\n",
    "\n",
    "**插入新数据**： 基于关键码找到应该插入的结点位置p。\n",
    "\n",
    "* 如果结点p关键码数量$< m-1$，直接按序插入；\n",
    "\n",
    "* 如果结点p 关键码数量达到 m-1，将 p的关键码 和 要插入的新关键码中比较大的一半放入新建的结点，居中的关键码插入父结点相应位置 (之所以一定要拿出居中关键码插入父结点，是为了满足B树定义的第2点)；\n",
    "    1. 如果父结点关键是数量也满了，就要继续向上进行分裂；\n",
    "    2. 如果传播到根结点，根结点的分裂导致这棵树升高一层。\n",
    "        \n",
    "        \n",
    "**删除**：基于关键码找到删除关键码所在的结点p，具体分几种情况：\n",
    "\n",
    "1. 如果p是最下层结点：\n",
    "    \n",
    "    * 如果结点中的关键码多于 $(m-1)/2$，直接删除并结束；\n",
    "    \n",
    "    * 如果结点p中关键码数量不足，看能否从兄弟结点调整一些关键码过来：\n",
    "    \n",
    "        1. 如果可行，可以考虑平均分配两个结点的关键码，并正确设置位于p的父结点里的关键码；\n",
    "        2. 如果p及其兄弟结点的关键码过少无法调整，可以将p与其中一个兄弟结点合并，这时位于父结点中的相关分割关键码也要拿到合并后的结点里。这种合并操作导致p的父结点里也少了一个关键码(相当于删除)。这也可能会导致起父结点与其兄弟结点关键码的调整，或者合并。\n",
    "        3. 这种结点合并可能导致一层层传播，有可能一直传播到根结点。极端情况，有可能让整棵树的高层降一层。\n",
    "        \n",
    "        \n",
    "        \n",
    "2. 如果要删除的关键码在上层的分支结点，就先找到其左子树的最右关键码(该关键码一定在最下层结点，设其为r)。把这个关键码复制到被删除关键码的位置。随后的工作等价于：\n",
    "      * 将最底层的r从原来的位置删除一样，直接删除、兄弟间调整 或者 结点合并。            "
   ]
  },
  {
   "cell_type": "markdown",
   "metadata": {},
   "source": [
    "**总结B树的设计原则：**\n",
    "\n",
    "1. 保持树形结构和结点中的关键码有序，用分支结点的关键码作为相应子树关键码的区分关键码，保证检索操作能正常进行；\n",
    "\n",
    "2. 保证树中从根到所有叶结点的路径等长，并保证分支节点的关键码数量在要求的范围内变化，并因此保证树的结构良好。"
   ]
  },
  {
   "cell_type": "markdown",
   "metadata": {},
   "source": [
    "## B+树"
   ]
  },
  {
   "cell_type": "markdown",
   "metadata": {},
   "source": [
    "### 例子和定义"
   ]
  },
  {
   "cell_type": "markdown",
   "metadata": {},
   "source": [
    "**定义**\n",
    "\n",
    "一棵m阶 B+树要么为空，要么满足以下特征：\n",
    "1. 树中分支结点的数量满足：\n",
    "    * 上限：分支结点里排序存放的关键码数量 $\\leq m$,对应的子树数量是m棵；\n",
    "    * 下限：根结点如果不是叶结点，关键码数量 $\\geq 2$；其他结点关键码数量  $\\geq \\lfloor m/2 \\rfloor$;\n",
    "    * 所有叶结点都在同一层，仅用于表示检索失败，实际上不用表示(可以用None表示)\n",
    " \n",
    " \n",
    "2. 关键码排序摆放，每一个关键码关联一棵子树，这个关键码等于子树根结点里的最大关键码。叶结点的每个关键码里关联着一个数据项的存储位置，数据项另行存储。"
   ]
  },
  {
   "cell_type": "markdown",
   "metadata": {},
   "source": [
    "通过定义可以看到 B+树和B树的不同：\n",
    "1. B+ 树分支结点里的关键码并不是子树的区分关键码，而是索引关键码；\n",
    "\n",
    "2. B+ 树分支结点的关键码并不关联数据项，只有叶结点才关联数据项。"
   ]
  },
  {
   "cell_type": "markdown",
   "metadata": {},
   "source": [
    "# 树和森林"
   ]
  },
  {
   "cell_type": "markdown",
   "metadata": {},
   "source": [
    "## 概念和性质 "
   ]
  },
  {
   "cell_type": "markdown",
   "metadata": {},
   "source": [
    "**树的定义：**\n",
    "\n",
    "一棵树是 $n (n\\geq 0)$ 个结点的有限集 T,当 T 非空时满足：\n",
    "\n",
    "   1. T中有且仅有一个特殊结点 r 称为树 T 的根；\n",
    "   2. 除根结点外的其余结点分为 $m (m\\geq 0)$  个互不相交的非空有限子集 $T_0,T_1,\\cdots,T_{m-1} $。每个 $T_i$ 为一棵非空树，是 r 的子树。\n",
    "   \n",
    "一棵树的子结点是否有序确定了树是有序树还是无序树，我们一般考虑有序树。\n",
    "\n",
    "**树的度数**：树中度数最大结点的度数。\n",
    "\n",
    "**k度完全树：** 除最下一层的分支结点中最右那个结点的度数可能小于 k 之外，其他结点的度数都为k。"
   ]
  },
  {
   "cell_type": "markdown",
   "metadata": {},
   "source": [
    "**树林的定义：** 0棵 或者 多棵树的集合称为树林。\n",
    "\n",
    "非空树是由树根及其子树树林构成的，而树林则由一组子树组成。"
   ]
  },
  {
   "cell_type": "markdown",
   "metadata": {},
   "source": [
    "**树林与二叉树的一一映射**\n",
    "\n",
    "1. 树林映射到一棵二叉树：\n",
    "\n",
    "    * 顺序连接 树林的根结点 或者 同一结点的各子结点，作为这些结点右分支的边；\n",
    "    \n",
    "    * 保留每个结点和第一个子结点的边作为该结点的左分支，删去这个结点到其他子结点的边。"
   ]
  },
  {
   "cell_type": "markdown",
   "metadata": {},
   "source": [
    "<img src='picture\\tree_9.png'>"
   ]
  },
  {
   "cell_type": "markdown",
   "metadata": {},
   "source": [
    "2. 二叉树到树林的转换：\n",
    "\n",
    "    * 对每个结点，在它与其左结点作为起点的向右路径上每个结点间增加一条边；\n",
    "    * 删除原二叉树中每个结点向右路径上的所有边。"
   ]
  },
  {
   "cell_type": "markdown",
   "metadata": {},
   "source": [
    "<img src='picture\\tree_10.png'>"
   ]
  },
  {
   "cell_type": "markdown",
   "metadata": {},
   "source": [
    "**树的性质**\n",
    "\n",
    "1. 度数为 k 的树中，第i层中最多有 $k^i$ 个结点；\n",
    "\n",
    "2. 度数为 k 高度为 h 的二叉树最多有 $\\frac{k^{h+1}-1}{k-1}$ 个结点($h \\geq 0$)；\n",
    "\n",
    "3. 具有 n 个结点的 k 度完全树的高度 $ h=\\lfloor \\log_k n \\rfloor $ (向下取整);\n",
    "\n",
    "4. n 个结点的树里有 n-1 条边。"
   ]
  },
  {
   "cell_type": "markdown",
   "metadata": {},
   "source": [
    "##  树的抽象数据类型"
   ]
  },
  {
   "cell_type": "markdown",
   "metadata": {},
   "source": [
    "定义：\n",
    "1. 构造操作，基于树根数据 和一组子树；\n",
    "\n",
    "2. 判断是否为一棵空树；\n",
    "\n",
    "3. 求树的结点个数；\n",
    "\n",
    "4. 获取树根存储的数据；\n",
    "\n",
    "5. 获得树中结点 node 的第一棵子树；\n",
    "\n",
    "6. 获得树中结点 node 的各子树的迭代器；\n",
    "\n",
    "7. tree取代原来第一棵子树;\n",
    "\n",
    "8. tree设置为第 i 棵子树，其他子树顺序后移;\n",
    "\n",
    "9. 遍历树各结点数据的迭代器；\n",
    "\n",
    "10. 对树的每一个结点执行操作op"
   ]
  },
  {
   "cell_type": "markdown",
   "metadata": {},
   "source": [
    "**树的遍历**\n",
    "\n",
    "与二叉树类似，见下图示例"
   ]
  },
  {
   "cell_type": "markdown",
   "metadata": {},
   "source": [
    "<img src='picture\\tree_11.png'>"
   ]
  },
  {
   "cell_type": "markdown",
   "metadata": {},
   "source": [
    "## 树的存储实现"
   ]
  },
  {
   "cell_type": "markdown",
   "metadata": {},
   "source": [
    "### 子结点引用表示"
   ]
  },
  {
   "cell_type": "markdown",
   "metadata": {},
   "source": [
    "树的最基本表示法就是子指针表示法：用一个数据单元表示结点，通过结点间的链接表示树结构。\n",
    "\n",
    "但有一个麻烦在于各个结点的度数可能差别很大，一种简单的考虑是只考虑结点度数不超过固定m的树。"
   ]
  },
  {
   "cell_type": "markdown",
   "metadata": {},
   "source": [
    "<img src='picture\\tree_12.png'>"
   ]
  },
  {
   "cell_type": "markdown",
   "metadata": {},
   "source": [
    "这样做最大的缺点是会出现大量空闲的结点引用域。"
   ]
  },
  {
   "cell_type": "markdown",
   "metadata": {},
   "source": [
    "### 父结点引用表示"
   ]
  },
  {
   "cell_type": "markdown",
   "metadata": {},
   "source": [
    "<img src='picture\\tree_13.png'>"
   ]
  },
  {
   "cell_type": "markdown",
   "metadata": {},
   "source": [
    "### 子结点表表示"
   ]
  },
  {
   "cell_type": "markdown",
   "metadata": {},
   "source": [
    "用一个连续表来存储树中各结点的信息，每个结点关联一个子结点表，记录树的结构。"
   ]
  },
  {
   "cell_type": "markdown",
   "metadata": {},
   "source": [
    "<img src='picture\\tree_14.png'>"
   ]
  },
  {
   "cell_type": "markdown",
   "metadata": {},
   "source": [
    "# 树的练习"
   ]
  },
  {
   "cell_type": "markdown",
   "metadata": {},
   "source": [
    "## [单值二叉树](https://leetcode-cn.com/problems/univalued-binary-tree/)"
   ]
  },
  {
   "cell_type": "code",
   "execution_count": 42,
   "metadata": {
    "ExecuteTime": {
     "end_time": "2021-05-21T08:12:15.771400Z",
     "start_time": "2021-05-21T08:12:15.765407Z"
    }
   },
   "outputs": [],
   "source": [
    "# Definition for a binary tree node.\n",
    "class TreeNode(object):\n",
    "    def __init__(self, x,left=None,right=None):\n",
    "        self.val = x\n",
    "        self.left = left\n",
    "        self.right = right\n",
    "\n",
    "class Solution(object):\n",
    "    def isUnivalTree(self, root: TreeNode) -> bool:\n",
    "        s = []\n",
    "        value = root.val \n",
    "        while (root is not None) or (s != []):# 先根遍历\n",
    "            while root is not None:\n",
    "                if root.val != value:\n",
    "                    return False \n",
    "                s.append(root.right)\n",
    "                root = root.left\n",
    "            root = s.pop()\n",
    "        return True "
   ]
  },
  {
   "cell_type": "code",
   "execution_count": 43,
   "metadata": {
    "ExecuteTime": {
     "end_time": "2021-05-21T08:12:15.940370Z",
     "start_time": "2021-05-21T08:12:15.934368Z"
    }
   },
   "outputs": [
    {
     "data": {
      "text/plain": [
       "False"
      ]
     },
     "execution_count": 43,
     "metadata": {},
     "output_type": "execute_result"
    }
   ],
   "source": [
    "# [1,1,1,1,1,null,1]\n",
    "left=TreeNode(2,TreeNode(5),TreeNode(2))\n",
    "right = TreeNode(2)\n",
    "root=TreeNode(2,left,right)\n",
    "t = Solution()\n",
    "t.isUnivalTree(root)"
   ]
  },
  {
   "cell_type": "markdown",
   "metadata": {},
   "source": [
    "## [两数之和 IV - 输入 BST](https://leetcode-cn.com/problems/two-sum-iv-input-is-a-bst/)"
   ]
  },
  {
   "cell_type": "markdown",
   "metadata": {},
   "source": [
    "BST 指的是二叉排序树：左结点的值 小于 结点的值 小于 右节点的值"
   ]
  },
  {
   "cell_type": "code",
   "execution_count": 17,
   "metadata": {
    "ExecuteTime": {
     "end_time": "2021-05-24T02:30:12.005522Z",
     "start_time": "2021-05-24T02:30:11.998488Z"
    }
   },
   "outputs": [],
   "source": [
    "# Definition for a binary tree node.\n",
    "class TreeNode:\n",
    "    def __init__(self, val=0, left=None, right=None):\n",
    "        self.val = val\n",
    "        self.left = left\n",
    "        self.right = right\n",
    "class Solution:\n",
    "    def findTarget(self, root: TreeNode, k: int) -> bool:\n",
    "        sort_lst = []\n",
    "        def middleorder(root):\n",
    "            if root:\n",
    "                middleorder(root.left)\n",
    "                sort_lst.append(root.val)\n",
    "                middleorder(root.right)\n",
    "        \n",
    "        middleorder(root)\n",
    "        l,r = 0,len(sort_lst)-1\n",
    "        \n",
    "        while l<r:\n",
    "            lv = sort_lst[l]\n",
    "            rv = sort_lst[r]\n",
    "            if lv + rv > k:\n",
    "                r -= 1\n",
    "            elif lv + rv < k:\n",
    "                l += 1\n",
    "            else:\n",
    "                return True\n",
    "        return False           "
   ]
  },
  {
   "cell_type": "code",
   "execution_count": 18,
   "metadata": {
    "ExecuteTime": {
     "end_time": "2021-05-24T02:30:12.214487Z",
     "start_time": "2021-05-24T02:30:12.205488Z"
    }
   },
   "outputs": [
    {
     "data": {
      "text/plain": [
       "False"
      ]
     },
     "execution_count": 18,
     "metadata": {},
     "output_type": "execute_result"
    }
   ],
   "source": [
    "left=TreeNode(3,TreeNode(2),TreeNode(4))\n",
    "right = TreeNode(6,None,TreeNode(7))\n",
    "root=TreeNode(5,left,right)\n",
    "k=28\n",
    "t = Solution()\n",
    "t.findTarget(root,k)"
   ]
  },
  {
   "cell_type": "markdown",
   "metadata": {},
   "source": [
    "## [对称二叉树](https://leetcode-cn.com/problems/symmetric-tree/)"
   ]
  },
  {
   "cell_type": "code",
   "execution_count": 28,
   "metadata": {
    "ExecuteTime": {
     "end_time": "2021-05-24T02:36:54.515221Z",
     "start_time": "2021-05-24T02:36:54.507254Z"
    }
   },
   "outputs": [],
   "source": [
    "# Definition for a binary tree node.\n",
    "class TreeNode:\n",
    "    def __init__(self, val=0, left=None, right=None):\n",
    "        self.val = val\n",
    "        self.left = left\n",
    "        self.right = right\n",
    "class Solution:\n",
    "    def isSymmetric(self, root: TreeNode) -> bool:\n",
    "        def compare_lr(left,right):\n",
    "            if left is None and right is None:\n",
    "                return True \n",
    "            if (left is None and right is not None) or (left is not None and right is None):\n",
    "                return False\n",
    "            if left.val != right.val:\n",
    "                return False \n",
    "            return compare_lr(left.left,right.right) and compare_lr(right.left,left.right)\n",
    "        return compare_lr(root.left,root.right)"
   ]
  },
  {
   "cell_type": "code",
   "execution_count": 29,
   "metadata": {
    "ExecuteTime": {
     "end_time": "2021-05-24T02:36:54.686223Z",
     "start_time": "2021-05-24T02:36:54.679254Z"
    }
   },
   "outputs": [
    {
     "data": {
      "text/plain": [
       "True"
      ]
     },
     "execution_count": 29,
     "metadata": {},
     "output_type": "execute_result"
    }
   ],
   "source": [
    "left=TreeNode(2,TreeNode(3),TreeNode(4))\n",
    "right = TreeNode(2,TreeNode(4),TreeNode(3))\n",
    "root=TreeNode(1,left,right)\n",
    "t = Solution()\n",
    "t.isSymmetric(root)"
   ]
  },
  {
   "cell_type": "markdown",
   "metadata": {},
   "source": [
    "## [从根到叶的二进制数之和](https://leetcode-cn.com/problems/sum-of-root-to-leaf-binary-numbers/)"
   ]
  },
  {
   "cell_type": "code",
   "execution_count": 33,
   "metadata": {
    "ExecuteTime": {
     "end_time": "2021-05-24T03:11:52.542224Z",
     "start_time": "2021-05-24T03:11:52.536251Z"
    }
   },
   "outputs": [],
   "source": [
    "# Definition for a binary tree node.\n",
    "class TreeNode:\n",
    "    def __init__(self, val=0, left=None, right=None):\n",
    "        self.val = val\n",
    "        self.left = left\n",
    "        self.right = right\n",
    "class Solution:\n",
    "    def sumRootToLeaf(self, root: TreeNode) -> int:\n",
    "        \n",
    "        def bin_sum(root,sum_r):\n",
    "            if root is None:\n",
    "                return 0\n",
    "            sum_r = sum_r*2 + root.val \n",
    "            if root.left is None and root.right is None:\n",
    "                return sum_r\n",
    "            return bin_sum(root.left,sum_r) + bin_sum(root.right,sum_r)\n",
    "        \n",
    "        return bin_sum(root,0)"
   ]
  },
  {
   "cell_type": "code",
   "execution_count": 34,
   "metadata": {
    "ExecuteTime": {
     "end_time": "2021-05-24T03:11:53.340245Z",
     "start_time": "2021-05-24T03:11:53.335247Z"
    }
   },
   "outputs": [
    {
     "data": {
      "text/plain": [
       "22"
      ]
     },
     "execution_count": 34,
     "metadata": {},
     "output_type": "execute_result"
    }
   ],
   "source": [
    "left=TreeNode(0,TreeNode(0),TreeNode(1))\n",
    "right = TreeNode(1,TreeNode(0),TreeNode(1))\n",
    "root=TreeNode(1,left,right)\n",
    "t = Solution()\n",
    "t.sumRootToLeaf(root)"
   ]
  },
  {
   "cell_type": "markdown",
   "metadata": {},
   "source": [
    "## [左叶子之和](https://leetcode-cn.com/problems/sum-of-left-leaves/)"
   ]
  },
  {
   "cell_type": "code",
   "execution_count": 82,
   "metadata": {
    "ExecuteTime": {
     "end_time": "2021-05-24T06:55:02.073969Z",
     "start_time": "2021-05-24T06:55:02.063968Z"
    }
   },
   "outputs": [],
   "source": [
    "# Definition for a binary tree node.\n",
    "class TreeNode:\n",
    "    def __init__(self, val=0, left=None, right=None):\n",
    "        self.val = val\n",
    "        self.left = left\n",
    "        self.right = right\n",
    "class Solution:\n",
    "    def sumOfLeftLeaves(self, root: TreeNode) -> int:\n",
    "        stack = []\n",
    "        res = []\n",
    "        while root is not None or stack != []:\n",
    "            while root is not None:\n",
    "                stack.append(root.right)\n",
    "                if root.left is not None and root.left.left is None and root.left.right is None:\n",
    "                    res.append(root.left.val)\n",
    "                root = root.left\n",
    "            root = stack.pop()\n",
    "        return sum(res)"
   ]
  },
  {
   "cell_type": "code",
   "execution_count": 83,
   "metadata": {
    "ExecuteTime": {
     "end_time": "2021-05-24T06:55:02.231965Z",
     "start_time": "2021-05-24T06:55:02.225965Z"
    }
   },
   "outputs": [
    {
     "data": {
      "text/plain": [
       "24"
      ]
     },
     "execution_count": 83,
     "metadata": {},
     "output_type": "execute_result"
    }
   ],
   "source": [
    "left=TreeNode(9)\n",
    "right = TreeNode(20,TreeNode(15),TreeNode(7))\n",
    "root=TreeNode(3,left,right)\n",
    "t = Solution()\n",
    "t.sumOfLeftLeaves(root)"
   ]
  },
  {
   "cell_type": "markdown",
   "metadata": {},
   "source": [
    "## [另一个树的子树](https://leetcode-cn.com/problems/subtree-of-another-tree/)"
   ]
  },
  {
   "cell_type": "markdown",
   "metadata": {
    "ExecuteTime": {
     "end_time": "2021-06-01T13:43:54.737765Z",
     "start_time": "2021-06-01T13:43:54.731768Z"
    }
   },
   "source": [
    "## [二叉树中第二小的节点](https://leetcode-cn.com/problems/second-minimum-node-in-a-binary-tree/)"
   ]
  },
  {
   "cell_type": "markdown",
   "metadata": {},
   "source": [
    "## [二叉搜索树中的搜索](https://leetcode-cn.com/problems/search-in-a-binary-search-tree/)"
   ]
  },
  {
   "cell_type": "markdown",
   "metadata": {},
   "source": [
    "## [相同的树](https://leetcode-cn.com/problems/same-tree/)"
   ]
  },
  {
   "cell_type": "markdown",
   "metadata": {},
   "source": [
    "## [二叉搜索树的范围和](https://leetcode-cn.com/problems/range-sum-of-bst/)"
   ]
  },
  {
   "cell_type": "markdown",
   "metadata": {},
   "source": [
    "## [路径总和&](https://leetcode-cn.com/problems/path-sum/)"
   ]
  },
  {
   "cell_type": "markdown",
   "metadata": {},
   "source": [
    "## [N 叉树的前序遍历](https://leetcode-cn.com/problems/n-ary-tree-preorder-traversal/)"
   ]
  },
  {
   "cell_type": "markdown",
   "metadata": {},
   "source": [
    "## [最小高度树](https://leetcode-cn.com/problems/minimum-height-tree-lcci/)"
   ]
  },
  {
   "cell_type": "code",
   "execution_count": 30,
   "metadata": {
    "ExecuteTime": {
     "end_time": "2021-06-07T09:46:18.753559Z",
     "start_time": "2021-06-07T09:46:18.745603Z"
    }
   },
   "outputs": [],
   "source": [
    "# Definition for a binary tree node.\n",
    "class TreeNode:\n",
    "    def __init__(self, x):\n",
    "        self.val = x\n",
    "        self.left = None\n",
    "        self.right = None\n",
    "\n",
    "class Solution:\n",
    "    def sortedArrayToBST(self, nums: list) -> TreeNode:\n",
    "\n",
    "        treeNode = None \n",
    "        for elem in nums:\n",
    "            new_node = TreeNode(elem)\n",
    "            if treeNode is not None and treeNode.left is not None and treeNode.right is None:\n",
    "                treeNode.right = new_node\n",
    "            else:            \n",
    "                new_node.left = treeNode\n",
    "                treeNode = new_node                \n",
    "            \n",
    "        return treeNode"
   ]
  },
  {
   "cell_type": "code",
   "execution_count": 35,
   "metadata": {
    "ExecuteTime": {
     "end_time": "2021-06-07T09:56:55.509036Z",
     "start_time": "2021-06-07T09:56:55.502082Z"
    }
   },
   "outputs": [],
   "source": [
    "# 递归写法\n",
    "class TreeNode:\n",
    "    def __init__(self, x):\n",
    "        self.val = x\n",
    "        self.left = None\n",
    "        self.right = None\n",
    "        \n",
    "class Solution:\n",
    "    def sortedArrayToBST(self, nums: list) -> TreeNode:\n",
    "        if nums == []:\n",
    "            return \n",
    "        mid_index = len(nums)//2\n",
    "        root = TreeNode(nums[mid_index])\n",
    "        root.left = self.sortedArrayToBST(nums[:mid_index])\n",
    "        root.right = self.sortedArrayToBST(nums[mid_index+1:])\n",
    "        \n",
    "        return root "
   ]
  },
  {
   "cell_type": "code",
   "execution_count": 36,
   "metadata": {
    "ExecuteTime": {
     "end_time": "2021-06-07T09:56:56.116708Z",
     "start_time": "2021-06-07T09:56:56.110754Z"
    }
   },
   "outputs": [],
   "source": [
    "nums=[-10,-3,0,5,9]\n",
    "t=Solution()\n",
    "treeNode=t.sortedArrayToBST(nums=nums)"
   ]
  },
  {
   "cell_type": "markdown",
   "metadata": {
    "ExecuteTime": {
     "end_time": "2021-06-08T03:29:46.732615Z",
     "start_time": "2021-06-08T03:29:46.727616Z"
    }
   },
   "source": [
    "## [二叉搜索树节点最小距离](https://leetcode-cn.com/problems/minimum-distance-between-bst-nodes/)"
   ]
  },
  {
   "cell_type": "markdown",
   "metadata": {},
   "source": [
    "## [合并二叉树](https://leetcode-cn.com/problems/merge-two-binary-trees/)"
   ]
  },
  {
   "cell_type": "code",
   "execution_count": 61,
   "metadata": {
    "ExecuteTime": {
     "end_time": "2021-06-08T06:25:55.407463Z",
     "start_time": "2021-06-08T06:25:55.396429Z"
    }
   },
   "outputs": [],
   "source": [
    "# Definition for a binary tree node.\n",
    "class TreeNode:\n",
    "    def __init__(self, val=0, left=None, right=None):\n",
    "        self.val = val\n",
    "        self.left = left\n",
    "        self.right = right\n",
    "class Solution:\n",
    "    def mergeTrees(self, root1: TreeNode, root2: TreeNode) -> TreeNode:\n",
    "            if root1 is None:\n",
    "                return root2 \n",
    "            if root2 is None:\n",
    "                return root1\n",
    "\n",
    "            root = TreeNode(root1.val+root2.val)\n",
    "            root.left = self.mergeTrees(root1.left,root2.left)\n",
    "            root.right  = self.mergeTrees(root1.right ,root2.right )  \n",
    "            return root"
   ]
  },
  {
   "cell_type": "code",
   "execution_count": 62,
   "metadata": {
    "ExecuteTime": {
     "end_time": "2021-06-08T06:25:55.571428Z",
     "start_time": "2021-06-08T06:25:55.565427Z"
    }
   },
   "outputs": [],
   "source": [
    "r1=TreeNode(1,TreeNode(3,TreeNode(5)),TreeNode(2))\n",
    "r2=TreeNode(2,TreeNode(1,None,TreeNode(4)),TreeNode(3,None,TreeNode(7)))\n",
    "t=Solution()\n",
    "s=t.mergeTrees(r1,r2)"
   ]
  },
  {
   "cell_type": "code",
   "execution_count": 63,
   "metadata": {
    "ExecuteTime": {
     "end_time": "2021-06-08T06:25:56.258704Z",
     "start_time": "2021-06-08T06:25:56.251710Z"
    }
   },
   "outputs": [
    {
     "name": "stdout",
     "output_type": "stream",
     "text": [
      "3\n",
      "4\n",
      "5\n",
      "4\n",
      "5\n",
      "7\n"
     ]
    }
   ],
   "source": [
    "stack =[]\n",
    "while s is not None or stack !=[]:\n",
    "    while s is not None:\n",
    "        print(s.val)\n",
    "        stack.append(s.right)\n",
    "        s = s.left\n",
    "    s = stack.pop()"
   ]
  },
  {
   "cell_type": "markdown",
   "metadata": {},
   "source": [
    "## [ 二叉树的最大深度](https://leetcode-cn.com/problems/maximum-depth-of-binary-tree/)"
   ]
  },
  {
   "cell_type": "markdown",
   "metadata": {},
   "source": [
    "## [N 叉树的最大深度](https://leetcode-cn.com/problems/maximum-depth-of-n-ary-tree/)"
   ]
  },
  {
   "cell_type": "code",
   "execution_count": 65,
   "metadata": {
    "ExecuteTime": {
     "end_time": "2021-06-08T07:13:25.275985Z",
     "start_time": "2021-06-08T07:13:25.269983Z"
    }
   },
   "outputs": [],
   "source": [
    "\"\"\"\n",
    "# Definition for a Node.\n",
    "class Node:\n",
    "    def __init__(self, val=None, children=None):\n",
    "        self.val = val\n",
    "        self.children = children\n",
    "\"\"\"\n",
    "class Solution(object):\n",
    "    def maxDepth(self, root):\n",
    "        \"\"\"\n",
    "        :type root: Node\n",
    "        :rtype: int\n",
    "        \"\"\"\n",
    "        if root is None: \n",
    "            return 0 \n",
    "        elif root.children == []:\n",
    "            return 1\n",
    "        else: \n",
    "            height = [self.maxDepth(c) for c in root.children]\n",
    "            return max(height) + 1 "
   ]
  },
  {
   "cell_type": "markdown",
   "metadata": {},
   "source": [
    "## [二叉树的最小深度?](https://leetcode-cn.com/problems/minimum-depth-of-binary-tree/)"
   ]
  },
  {
   "cell_type": "code",
   "execution_count": 67,
   "metadata": {
    "ExecuteTime": {
     "end_time": "2021-06-08T07:57:14.951298Z",
     "start_time": "2021-06-08T07:57:14.945296Z"
    }
   },
   "outputs": [],
   "source": [
    "# Definition for a binary tree node.\n",
    "# class TreeNode:\n",
    "#     def __init__(self, val=0, left=None, right=None):\n",
    "#         self.val = val\n",
    "#         self.left = left\n",
    "#         self.right = right\n",
    "class Solution:\n",
    "    def minDepth(self, root):\n",
    "        \"\"\"\n",
    "        :type root: TreeNode\n",
    "        :rtype: int\n",
    "        \"\"\"\n",
    "        if root:\n",
    "            if root.left and root.right:\n",
    "                return 1+min(self.minDepth(root.left),self.minDepth(root.right))\n",
    "            elif root.left:\n",
    "                return 1+self.minDepth(root.left)\n",
    "            elif root.right:\n",
    "                return 1+self.minDepth(root.right)\n",
    "            else:\n",
    "                return 1\n",
    "        else:\n",
    "            return 0"
   ]
  },
  {
   "cell_type": "markdown",
   "metadata": {},
   "source": [
    "## [二叉树的前序遍历](https://leetcode-cn.com/problems/binary-tree-preorder-traversal/)"
   ]
  },
  {
   "cell_type": "markdown",
   "metadata": {},
   "source": [
    "## [二叉树的后序遍历](https://leetcode-cn.com/problems/binary-tree-postorder-traversal/)"
   ]
  },
  {
   "cell_type": "markdown",
   "metadata": {},
   "source": [
    "## [二叉树的中序遍历](https://leetcode-cn.com/problems/binary-tree-inorder-traversal/)"
   ]
  },
  {
   "cell_type": "markdown",
   "metadata": {},
   "source": [
    "## [二叉树的所有路径](https://leetcode-cn.com/problems/binary-tree-paths/)"
   ]
  },
  {
   "cell_type": "code",
   "execution_count": 69,
   "metadata": {
    "ExecuteTime": {
     "end_time": "2021-06-08T11:54:56.948869Z",
     "start_time": "2021-06-08T11:54:56.935034Z"
    }
   },
   "outputs": [],
   "source": [
    "# Definition for a binary tree node.\n",
    "# class TreeNode:\n",
    "#     def __init__(self, val=0, left=None, right=None):\n",
    "#         self.val = val\n",
    "#         self.left = left\n",
    "#         self.right = right\n",
    "class Solution:\n",
    "    def binaryTreePaths(self, root: TreeNode) ->list:\n",
    "        res = []\n",
    "        def appendPath(root,path):\n",
    "            if root:\n",
    "                path += str(root.val)\n",
    "                if root.left is None and root.right is None:# 当前结点是叶结点\n",
    "                    res.append(path)\n",
    "                else:\n",
    "                    path += '->'\n",
    "                    appendPath(root.left,path)\n",
    "                    appendPath(root.right,path)\n",
    "        appendPath(root,'')\n",
    "        return res\n",
    "# class Solution:# 以列表形式返回路径\n",
    "#     def binaryTreePaths(self, root: TreeNode) -> List[str]:\n",
    "#         res = []\n",
    "#         def appendPath(root,path):\n",
    "#             if root:\n",
    "#                 path.append(root.val)\n",
    "#                 if root.left is None and root.right is None:# 当前结点是叶结点\n",
    "#                     res.append(path)\n",
    "#                 else:\n",
    "#                     appendPath(root.left,list(path))\n",
    "#                     appendPath(root.right,list(path))\n",
    "#         appendPath(root,[])\n",
    "#         return res "
   ]
  },
  {
   "cell_type": "markdown",
   "metadata": {},
   "source": [
    "## [叶子相似的树](https://leetcode-cn.com/problems/leaf-similar-trees/)"
   ]
  },
  {
   "cell_type": "markdown",
   "metadata": {},
   "source": [
    "## [翻转二叉树](https://leetcode-cn.com/problems/invert-binary-tree/)"
   ]
  },
  {
   "cell_type": "markdown",
   "metadata": {
    "ExecuteTime": {
     "end_time": "2021-06-08T12:22:08.795110Z",
     "start_time": "2021-06-08T12:22:08.786139Z"
    }
   },
   "source": [
    "## [递增顺序搜索树](https://leetcode-cn.com/problems/increasing-order-search-tree/)"
   ]
  },
  {
   "cell_type": "markdown",
   "metadata": {
    "ExecuteTime": {
     "end_time": "2021-06-08T12:22:09.624647Z",
     "start_time": "2021-06-08T12:22:09.614651Z"
    }
   },
   "source": [
    "## [二叉搜索树中的众数](https://leetcode-cn.com/problems/find-mode-in-binary-search-tree/)"
   ]
  },
  {
   "cell_type": "markdown",
   "metadata": {},
   "source": [
    "## [二叉树的直径](https://leetcode-cn.com/problems/diameter-of-binary-tree/)"
   ]
  },
  {
   "cell_type": "markdown",
   "metadata": {
    "ExecuteTime": {
     "end_time": "2021-06-10T02:44:19.043572Z",
     "start_time": "2021-06-10T02:44:19.009571Z"
    }
   },
   "source": [
    "## [二叉树的堂兄弟节点](https://leetcode-cn.com/problems/cousins-in-binary-tree/)"
   ]
  },
  {
   "cell_type": "markdown",
   "metadata": {
    "ExecuteTime": {
     "end_time": "2021-06-10T11:40:30.333692Z",
     "start_time": "2021-06-10T11:40:30.323686Z"
    }
   },
   "source": [
    "## [根据二叉树创建字符串](https://leetcode-cn.com/problems/construct-string-from-binary-tree/)"
   ]
  },
  {
   "cell_type": "markdown",
   "metadata": {},
   "source": [
    "## [平衡二叉树](https://leetcode-cn.com/problems/balanced-binary-tree/)"
   ]
  },
  {
   "cell_type": "markdown",
   "metadata": {},
   "source": [
    "## [二叉树的坡度](https://leetcode-cn.com/problems/binary-tree-tilt/)"
   ]
  },
  {
   "cell_type": "markdown",
   "metadata": {},
   "source": [
    "## [二叉树的层平均值](https://leetcode-cn.com/problems/average-of-levels-in-binary-tree/)"
   ]
  },
  {
   "cell_type": "markdown",
   "metadata": {
    "ExecuteTime": {
     "end_time": "2021-06-11T08:49:35.979265Z",
     "start_time": "2021-06-11T08:49:35.957263Z"
    }
   },
   "source": [
    "## [二叉搜索树的最近公共祖先](https://leetcode-cn.com/problems/lowest-common-ancestor-of-a-binary-search-tree/)"
   ]
  },
  {
   "cell_type": "markdown",
   "metadata": {},
   "source": [
    "# 堆的练习"
   ]
  },
  {
   "cell_type": "markdown",
   "metadata": {},
   "source": [
    "## [数据流中的第 K 大元素](https://leetcode-cn.com/problems/kth-largest-element-in-a-stream/)"
   ]
  },
  {
   "cell_type": "code",
   "execution_count": 127,
   "metadata": {
    "ExecuteTime": {
     "end_time": "2021-06-21T12:30:09.026051Z",
     "start_time": "2021-06-21T12:30:09.006043Z"
    }
   },
   "outputs": [],
   "source": [
    "class KthLargest(object):\n",
    "\n",
    "    def __init__(self, k: int, nums: list):\n",
    "        self._minHeap = []\n",
    "        self.k = k  \n",
    "        \n",
    "        # 先对nums前k个元素构建一个小顶堆\n",
    "        for i in range(min(k,len(nums))):\n",
    "            self.append_heap(nums[i])\n",
    "       \n",
    "        #超过k的部分，和堆顶比较后再确定是否加入\n",
    "        for j in nums[k:]:\n",
    "            if j>self._minHeap[0]:\n",
    "                self.replace_heap(j)\n",
    "                \n",
    "    def append_heap(self,val):\n",
    "        self._minHeap.append(val)\n",
    "        self.siftup(val,len(self._minHeap)-1)\n",
    "    def replace_heap(self,val):\n",
    "        self._minHeap[0] = val\n",
    "        self.siftdown(val,0,len(self._minHeap))\n",
    "        \n",
    "        \n",
    "    def siftup(self,e,last):# 向上筛选操作\n",
    "        elems,i,j = self._minHeap,last,(last-1)//2 # last 初始值是 None \n",
    "        \n",
    "        while j>=0 and e<elems[j]:\n",
    "            elems[i] = elems[j]\n",
    "            i,j = j, (j-1)//2\n",
    "        elems[i] = e\n",
    "    \n",
    "    def siftdown(self,e,begin,end):# 向下筛选操作\n",
    "        \n",
    "        elems, i,j = self._minHeap,begin, 2*begin + 1 \n",
    "        while j<end:\n",
    "            if j+1<end and elems[j+1]<elems[j]: # 先比较2个子堆的顶元素的大小，取最小\n",
    "                j += 1\n",
    "            if e<elems[j]:\n",
    "                break \n",
    "            elems[i] = elems[j]\n",
    "            i,j = j,2*j+1\n",
    "        elems[i] = e\n",
    "\n",
    "        \n",
    "    def add(self,val):\n",
    "        if len(self._minHeap)<self.k:\n",
    "            self.append_heap(val)\n",
    "        elif val>self._minHeap[0]:\n",
    "            self.replace_heap(val)\n",
    "        return self._minHeap[0]"
   ]
  },
  {
   "cell_type": "code",
   "execution_count": 128,
   "metadata": {
    "ExecuteTime": {
     "end_time": "2021-06-21T12:30:09.197929Z",
     "start_time": "2021-06-21T12:30:09.187045Z"
    }
   },
   "outputs": [
    {
     "name": "stdout",
     "output_type": "stream",
     "text": [
      "k max num is [4, 5, 5, 8, 8]\n"
     ]
    }
   ],
   "source": [
    "kclass = KthLargest(3,[4,5,8,2])\n",
    "res = []\n",
    "for j in [3,5,10,9,4]:\n",
    "    res.append(kclass.add(j))\n",
    "print('k max num is',res)"
   ]
  },
  {
   "cell_type": "markdown",
   "metadata": {},
   "source": [
    "## [最后一块石头的重量](https://leetcode-cn.com/problems/last-stone-weight/)"
   ]
  },
  {
   "cell_type": "code",
   "execution_count": 131,
   "metadata": {
    "ExecuteTime": {
     "end_time": "2021-06-21T13:22:59.547169Z",
     "start_time": "2021-06-21T13:22:59.526205Z"
    }
   },
   "outputs": [],
   "source": [
    "class Solution:\n",
    "    def siftdown(self,elems,e,begin,end):#小顶堆\n",
    "        i,j = begin,2*begin+1\n",
    "        while j<end:\n",
    "            if j+1<end and elems[j+1]<elems[j]:\n",
    "                j += 1\n",
    "            if e<elems[j]:\n",
    "                break \n",
    "            elems[i] = elems[j]\n",
    "            i,j = j,2*j+1\n",
    "        elems[i] = e\n",
    "\n",
    "    def sort_heap(self,elems):\n",
    "        # 建小顶堆\n",
    "        end = len(elems)\n",
    "        for i in range(end//2,-1,-1):\n",
    "            self.siftdown(elems,elems[i],i,end)\n",
    "        # 排序\n",
    "        for j in range(end-1,0,-1):\n",
    "            e = elems[j]\n",
    "            elems[j] = elems[0]\n",
    "            self.siftdown(elems,e,0,j)\n",
    "        return elems \n",
    "\n",
    "    def lastStoneWeight(self, stones: list) -> int:\n",
    "        while len(stones)>=2:\n",
    "            sort_elems = self.sort_heap(stones)\n",
    "            y,x = sort_elems[0:2]\n",
    "            stones = sort_elems[2:]\n",
    "            if x != y:\n",
    "                diff = y - x\n",
    "                stones.append(diff)\n",
    "        if len(stones) == 1:\n",
    "            return stones[0]\n",
    "        else:\n",
    "            return 0 \n",
    "\n"
   ]
  },
  {
   "cell_type": "code",
   "execution_count": 133,
   "metadata": {
    "ExecuteTime": {
     "end_time": "2021-06-21T13:42:47.426437Z",
     "start_time": "2021-06-21T13:42:47.392423Z"
    }
   },
   "outputs": [],
   "source": [
    "class Solution:\n",
    "    def siftdown(self,elems,e,begin,end):#大顶堆\n",
    "        i,j = begin,2*begin+1\n",
    "        while j<end:\n",
    "            if j+1<end and elems[j+1]>elems[j]:\n",
    "                j += 1\n",
    "            if e>elems[j]:\n",
    "                break \n",
    "            elems[i] = elems[j]\n",
    "            i,j = j,2*j+1\n",
    "        elems[i] = e\n",
    "        return elems \n",
    "    def siftup(self,elems,e,end):#大顶堆\n",
    "        i,j = end,(end-1)//2\n",
    "        while j>=0 and e>elems[j]:\n",
    "            elems[i] = elems[j]\n",
    "            i,j = j,(j-1)//2\n",
    "        elems[i] = e\n",
    "        return elems \n",
    "\n",
    "    def build_heap(self,elems):\n",
    "        # 建大顶堆\n",
    "        end = len(elems)\n",
    "        for i in range(end//2,-1,-1):\n",
    "            self.siftdown(elems,elems[i],i,end)\n",
    "        return elems\n",
    "            \n",
    "    def popheap(self,elems):\n",
    "        e0 = elems[0]\n",
    "        e = elems.pop()\n",
    "        if elems:\n",
    "            self.siftdown(elems,e,0,len(elems))\n",
    "        return e0\n",
    "\n",
    "    def lastStoneWeight(self, stones: list) -> int:\n",
    "        \n",
    "        elems = self.build_heap(stones)\n",
    "        stack = []\n",
    "        while elems:\n",
    "            if len(stack)<2:\n",
    "                e = self.popheap(elems)\n",
    "                stack.append(e)\n",
    "            else:\n",
    "                y,x = stack[0:2]\n",
    "                if y-x>0:\n",
    "                    elems.append(y-x)\n",
    "                    elems = self.siftup(elems,y-x,len(elems)-1)\n",
    "                stack = []\n",
    "        if len(stack) == 2:\n",
    "            return stack[0] -stack[1]\n",
    "        elif len(stack) == 1:\n",
    "            return stack[0]\n",
    "        else:\n",
    "            return 0"
   ]
  },
  {
   "cell_type": "markdown",
   "metadata": {},
   "source": [
    "## [最小的k个数](https://leetcode-cn.com/problems/zui-xiao-de-kge-shu-lcof/)"
   ]
  }
 ],
 "metadata": {
  "kernelspec": {
   "display_name": "Python 3 (ipykernel)",
   "language": "python",
   "name": "python3"
  },
  "language_info": {
   "codemirror_mode": {
    "name": "ipython",
    "version": 3
   },
   "file_extension": ".py",
   "mimetype": "text/x-python",
   "name": "python",
   "nbconvert_exporter": "python",
   "pygments_lexer": "ipython3",
   "version": "3.10.1"
  },
  "toc": {
   "base_numbering": 1,
   "nav_menu": {},
   "number_sections": true,
   "sideBar": true,
   "skip_h1_title": false,
   "title_cell": "Table of Contents",
   "title_sidebar": "Contents",
   "toc_cell": false,
   "toc_position": {
    "height": "100px",
    "left": "284px",
    "top": "133px",
    "width": "261px"
   },
   "toc_section_display": true,
   "toc_window_display": true
  }
 },
 "nbformat": 4,
 "nbformat_minor": 2
}
