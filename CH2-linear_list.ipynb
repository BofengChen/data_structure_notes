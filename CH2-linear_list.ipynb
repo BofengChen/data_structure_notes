{
 "cells": [
  {
   "cell_type": "markdown",
   "metadata": {},
   "source": [
    "# 线性表的概念"
   ]
  },
  {
   "cell_type": "markdown",
   "metadata": {},
   "source": [
    "集合 E 上的一个线性表就是 E 中有一组有穷个元素排成的序列 $L = (e_0,e_1,...,e_{n-1})$,其中 $e_i\\in E,n\\geq 0$。在一个表里包含0个或多个元素，序列中每个元素在表里有一个确定的位置，称为该元素的*下标*。 "
   ]
  },
  {
   "cell_type": "markdown",
   "metadata": {},
   "source": [
    "一个表具有如下性质：\n",
    "* 一个表中包含元素的个数称为这个表的长度。显然，空表的长度为0；\n",
    "\n",
    "\n",
    "* 表元素之间存在一个基本关系，称为**下一个**关系。对于表$L = (e_0,e_1,...,e_{n-1})$,下一个关系是二元组合 $\\{<e_0,e_1>,<e_1,e_2>,;;;<e_{n-2},e_{n-1}>\\}$。下一个关系是一种顺序关系，即线性关系，线性表是一种线性结构；\n",
    "\n",
    "\n",
    "* 在一个非空的线性表里，存在唯一的一个 *首元素* 和 *尾元素*，除了*首元素*之外，表中每个元素 e 有且仅有一个 *前驱元素*；同样地，除了尾元素之外的每个元素都有且仅有一个后继元素。"
   ]
  },
  {
   "cell_type": "markdown",
   "metadata": {},
   "source": [
    "# 线性表的操作"
   ]
  },
  {
   "cell_type": "markdown",
   "metadata": {},
   "source": [
    "线性表是一种数据结构，现在要考虑如何将其定义为一种抽象数据类型。线性表的实现者和使用者要从各自的角度考虑这种类型的问题：\n",
    "\n",
    "* 实现者角度，有2个问题需要考虑：\n",
    "    1. 如何为结构内部的数据设计一种合适的表示；\n",
    "    2. 如何提供一套有用且必要的操作，并有效实现这些操作。\n",
    "显然，这两个问题相互关联；\n",
    "\n",
    "\n",
    "* 使用者角度，线性表是一种有用的结构。需要考虑该结构提供了哪些操作，如何有效解决自己的问题，会对表的实现者提出一些要求。"
   ]
  },
  {
   "cell_type": "markdown",
   "metadata": {},
   "source": [
    "在设计、定义和使用所有的抽象数据类型时，都会遇到这两个不同的视角，即统一又有分工。"
   ]
  },
  {
   "cell_type": "markdown",
   "metadata": {},
   "source": [
    "下面，我们首先从**使用者**的角度，考虑一个线性数据结构应该提供哪些操作：\n",
    "\n",
    "1. (构造)首先，作为抽象类型的线性表是一组数据对象的集合，应该**提供创建线性表对象**的操作：\n",
    "    * 一种简单操作是创建空表对象，不需要提供其他信息；\n",
    "\n",
    "    * 如果需要创建包含一些元素的表，就要考虑如何为创建操作**提供初始元素序列**的问题。\n",
    "    \n",
    "    \n",
    "2. (解析)程序需要检查一个表，获取各方面信息，比如：判断一个表是否为空，考察其中元素个数(即表的长度)，检查一个表是否存在特定对象等。需要定义一些获取表中信息的解析操作；\n",
    "\n",
    "\n",
    "3. (变动)需要动态改变表的内容包括：\n",
    "\n",
    "    * 加入新的元素：\n",
    "        * 简单加入，只要求新元素加入表中；\n",
    "        * 定位加入要求把新元素存放到表中的确定位置。\n",
    "        \n",
    "    * 删除已有元素：\n",
    "        * 定位删除某位置的元素；\n",
    "        * 按内容删去特定元素：包括删除一个元素 或 删除等于某指定元素的所有元素问题等。\n",
    "        \n",
    "\n",
    "4. (组合)涉及一个或两个表的操作，例如表的组合操作、从已有表得到一个新表等；\n",
    "\n",
    "\n",
    "5. (遍历)涉及对表中每一个元素进行的操作。注意，这是一个**操作类**，任何一个对单个表元素的操作都可以延伸到对表中所有元素进行的操作。"
   ]
  },
  {
   "cell_type": "markdown",
   "metadata": {},
   "source": [
    "备注：\n",
    "\n",
    "* 4和5的操作都可以实现为**变动操作**，实际修改被操作的表，在该表上直接实现操作的效果；\n",
    "\n",
    "* 也可以实现为**非变动操作**，让操作总是建一个新表。\n",
    "\n",
    "具体如何设计，取决于实际需求。"
   ]
  },
  {
   "cell_type": "markdown",
   "metadata": {
    "ExecuteTime": {
     "end_time": "2020-08-23T09:43:32.822236Z",
     "start_time": "2020-08-23T09:43:32.813186Z"
    }
   },
   "source": [
    "# 线性表的实现模型"
   ]
  },
  {
   "cell_type": "markdown",
   "metadata": {},
   "source": [
    "具体实现数据结构，需要主要考虑2方面问题：\n",
    "\n",
    "1. 计算机内存的特点，以及保存元素和元素顺序信息的需要；\n",
    "\n",
    "\n",
    "2. 各种重要操作的效率。一个表的创建操作只执行一次，但可能被反复、多次地以各种方式使用，其中最频繁的操作通常包括表的性质判定、访问、加入、删除、遍历元素等。具体实现时，要特别考虑这些操作的实现效率。"
   ]
  },
  {
   "cell_type": "markdown",
   "metadata": {},
   "source": [
    "基于各方面考虑，人们提出2种基本的实现模型：\n",
    "\n",
    "1. 将表中元素顺序地存放在一大块连续的存储区里，这样实现的表也称为**顺序表(或者连续表)**。在这种实现里，元素间的顺序关系由它们的存储顺序自然表示；\n",
    "\n",
    "\n",
    "2. 将表元素存放在通过链接构造起来的一系列存储块里，这样实现的表称为**链接表**，简称**链表**。\n",
    "\n",
    "参考这两种基本实现模型，可以开发出一些不同的具体实现技术，根据具体情况和需要进行选择。下面我们分别讨论顺序表和链表的实现。"
   ]
  },
  {
   "cell_type": "markdown",
   "metadata": {},
   "source": [
    "# 顺序表的实现"
   ]
  },
  {
   "cell_type": "markdown",
   "metadata": {},
   "source": [
    "## 表的存储"
   ]
  },
  {
   "cell_type": "markdown",
   "metadata": {},
   "source": [
    "顺序表的基本存储方式：\n",
    "    \n",
    "    表中元素顺序存放在一片足够大的连续存储区里，首元素存入存储区的开始位置，其余元素顺序存放。元素之间的逻辑顺序通过存储区的物理位置隐式表示。"
   ]
  },
  {
   "cell_type": "markdown",
   "metadata": {},
   "source": [
    "存在两种情况：\n",
    "\n",
    "1. 表里存储元素类型相同，因此每个元素所需的存储量相同，可以在表里安排同样大小的存储空间。\n",
    "\n",
    "2. 表元素类型不同，大小不一，可以通过【将实际元素另外存储，在顺序表各单元位置保存相应元素的引用（链接）】来实现，每个链接所需要的存储量是相同的。\n",
    "\n",
    "这样，两种情况就可以统一对待。"
   ]
  },
  {
   "cell_type": "markdown",
   "metadata": {},
   "source": [
    "假设一个顺序表对象，元素存储在一片元素存储区，顺序表起始，即首元素 $e_0$ 的内存位置是 $Loc(e_0) = l_0$，假定每个元素所需的存储单元数为 c ，就可以得到任意一个元素 $e_i$ 的内存地址：\n",
    "\n",
    "$$Loc(e_i) = Loc(e_0) + c\\times i$$"
   ]
  },
  {
   "cell_type": "markdown",
   "metadata": {},
   "source": [
    "\n",
    "|物理地址<img width=100/>|逻辑地址|元素存储|\n",
    "|--|--|--|\n",
    "|$l_0$|0|$e_0$|\n",
    "|$l_0 + 1\\times c$|1|$e_1$|\n",
    "|$l_0 + 2\\times c$|2|$e_2$|\n",
    "|$\\vdots$|$\\vdots$|$\\vdots$|\n",
    "|$l_0 + (n-1)\\times c$|n-1|$e_{n-1}$|"
   ]
  },
  {
   "cell_type": "markdown",
   "metadata": {},
   "source": [
    "如果存储的是链接，那么【元素存储】的位置实际存储的是*元素对应的链接*，另外需要建立一个映射，实现【链接--->元素】的映射。"
   ]
  },
  {
   "cell_type": "markdown",
   "metadata": {},
   "source": [
    "**线性表的容量**\n",
    "\n",
    "\n",
    "线性表的重要性质是可以加入或删除元素，那么安排多大的存储区确定了容量，也确定了元素个数的上限。\n",
    "\n",
    "在建立顺序表时：\n",
    "\n",
    "1. 按建立时确定的元素个数分配存储，这种做法适合创建不变的顺序表，例如 tuple对象；\n",
    "2. 如果是变动表，必须区分表中当前元素的个数和存储区的容量。\n",
    "\n"
   ]
  },
  {
   "cell_type": "markdown",
   "metadata": {},
   "source": [
    "所以一个顺序表的完整信息如下图所示：\n",
    "\n",
    "|||\n",
    "|--|--|\n",
    "|容量|8|\n",
    "|元素个数|4|\n",
    "\n",
    "|逻辑地址|元素|\n",
    "|--|--|\n",
    "|0|1328|\n",
    "|1|693|\n",
    "|2|2529|\n",
    "|3|154|\n",
    "|4||\n",
    "|5||\n",
    "|6||\n",
    "|7||"
   ]
  },
  {
   "cell_type": "markdown",
   "metadata": {},
   "source": [
    "## 基本操作"
   ]
  },
  {
   "cell_type": "markdown",
   "metadata": {},
   "source": [
    "下面我们用max表示表的容量，num表示当前元素的个数。"
   ]
  },
  {
   "cell_type": "markdown",
   "metadata": {},
   "source": [
    "### 创建空表"
   ]
  },
  {
   "cell_type": "markdown",
   "metadata": {},
   "source": [
    "创建空表时，需要分配一块元素存储，记录表的容量并将元素计数值设置为0，即将 max 和 num 设置好，保证表的合法性。"
   ]
  },
  {
   "cell_type": "markdown",
   "metadata": {},
   "source": [
    "### 解析操作"
   ]
  },
  {
   "cell_type": "markdown",
   "metadata": {},
   "source": [
    "***\n",
    "**判断表的状态操作**\n",
    "\n",
    "1. 判断表空：num = 0\n",
    "\n",
    "2. 判断表满：num = max\n",
    "\n",
    "上述操作的复杂度都是 $O(1)$\n",
    "\n",
    "***"
   ]
  },
  {
   "cell_type": "markdown",
   "metadata": {},
   "source": [
    "***\n",
    "**访问给定下标 $i$ 的元素**\n",
    "\n",
    "1. 首先判断 i 是否满足：$0\\leq i \\leq num-1$，即表是否处于合法范围内；\n",
    "\n",
    "2. 其次，可以根据公式 $Loc(e_i) = Loc(e_0) + c\\times i$ 来确定具体位置，再取出元素的值。\n",
    "\n",
    "这个操作的复杂度不依赖于表中具体元素的个数，也是 $O(1)$ 操作。\n",
    "\n",
    "***"
   ]
  },
  {
   "cell_type": "markdown",
   "metadata": {},
   "source": [
    "***\n",
    "**遍历**\n",
    "\n",
    "1. 顺序访问表中元素时，只需要在遍历过程中用一个整数变量k记录此刻遍历到达的位置；\n",
    "\n",
    "2. 知道具体的k时，可以参照上面来访问给定下标 k 的元素。\n",
    "\n",
    "遍历操作的复杂度依赖于表的元素数量，复杂度为$O(n)$。\n",
    "***"
   ]
  },
  {
   "cell_type": "markdown",
   "metadata": {},
   "source": [
    "***\n",
    "**查找给定元素d的(第一次出现)位置**\n",
    "\n",
    "无其他信息时，只能通过顺序遍历来线性检索，找到时返回d在列表中的下标，结束循环；如果遍历结束未找到元素，可以返回一个特殊值(比如-1 或者 None)：\n",
    "\n",
    "```python\n",
    "def seartch_d(lst,d):\n",
    "    for i,element in enumerate(lst):\n",
    "        if element == d:\n",
    "            return i\n",
    "            break\n",
    "    else:\n",
    "        return -1\n",
    "```\n",
    "同样，这种接近遍历的复杂度也是 $O(n)$.\n",
    "\n",
    "另一个类似的查找是：\n",
    "\n",
    "1. 查找给定元素d在位置k之后的第一次出现的位置；\n",
    "\n",
    "2. 抽象来说是，给定一个条件，要求找到满足该条件的第一个元素。\n",
    "***"
   ]
  },
  {
   "cell_type": "code",
   "execution_count": 16,
   "metadata": {
    "ExecuteTime": {
     "end_time": "2020-09-03T23:51:40.066708Z",
     "start_time": "2020-09-03T23:51:40.058647Z"
    }
   },
   "outputs": [],
   "source": [
    "def seartch_d(lst,d):\n",
    "    for i,element in enumerate(lst):\n",
    "        if element == d:\n",
    "            return i\n",
    "            break\n",
    "    else:\n",
    "        return -1"
   ]
  },
  {
   "cell_type": "code",
   "execution_count": 18,
   "metadata": {
    "ExecuteTime": {
     "end_time": "2020-09-03T23:52:41.972218Z",
     "start_time": "2020-09-03T23:52:41.947214Z"
    }
   },
   "outputs": [
    {
     "data": {
      "text/plain": [
       "1"
      ]
     },
     "execution_count": 18,
     "metadata": {},
     "output_type": "execute_result"
    }
   ],
   "source": [
    "seartch_d(lst=[1,2,3],d=2)"
   ]
  },
  {
   "cell_type": "code",
   "execution_count": 19,
   "metadata": {
    "ExecuteTime": {
     "end_time": "2020-09-03T23:52:51.171382Z",
     "start_time": "2020-09-03T23:52:51.161605Z"
    }
   },
   "outputs": [
    {
     "data": {
      "text/plain": [
       "-1"
      ]
     },
     "execution_count": 19,
     "metadata": {},
     "output_type": "execute_result"
    }
   ],
   "source": [
    "seartch_d(lst=[1,2,3],d=4)"
   ]
  },
  {
   "cell_type": "markdown",
   "metadata": {},
   "source": [
    "上述的操作中除了`“访问第i个元素”`的复杂度是$O(1)$之外，剩余操作的复杂度都基于表的内容的查找和检索操作，复杂度都是$O(n)$。"
   ]
  },
  {
   "cell_type": "markdown",
   "metadata": {},
   "source": [
    "### 变动操作"
   ]
  },
  {
   "cell_type": "markdown",
   "metadata": {},
   "source": [
    "***\n",
    "**加入元素**\n",
    "\n",
    "新数据存入元素存储区的第i个单元：\n",
    "\n",
    "1. 首先检查i是否为合法位置，即 $0\\leq i \\leq num$（包括num，如果表不满），如果合法就可以插入；\n",
    "\n",
    "\n",
    "2. 通常情况下 i 的位置已经有数据（如果i 恰好为num,可以直接在尾端插入），要插入新数据，就要把原来的数据移走，移动的方式取决于是否要求保序：\n",
    "\n",
    "    a.如果不要求保序，可以将原来 i 位置的元素 放到 num 位置；腾出位置 i 放新元素，同时更新num的值，操作复杂度为 $O(1)$;\n",
    "    \n",
    "    b.如果要求保序，就需要把位置 i 之后的元素按顺序逐一下移，再把数据放入 i 的位置，更新num值，操作复杂度取决于要移动的元素个数，最坏和平均情况都是 $O(n)$。\n",
    "    \n",
    "插入元素的情况见下图：\n",
    " <img src='picture/liner_1.png'>\n",
    "***"
   ]
  },
  {
   "cell_type": "markdown",
   "metadata": {},
   "source": [
    "***\n",
    "**删除元素**\n",
    "***\n",
    "**删除位置i的数据**\n",
    "\n",
    "删除位置i的数据相当于在位置i加入元素的逆操作，性质类似：\n",
    "\n",
    "1. 首先检查i是否为合法位置，即 $0\\leq i \\leq num-1$，确认下标位置合法就可以删除；\n",
    "\n",
    "\n",
    "2. 通常情况下 i 的位置已经有数据，删除的方式取决于是否要求保序：\n",
    "\n",
    "    a.如果不要求保序，可以将原来 num-1 位置的元素 拷贝到 位置 i,覆盖原来的元素；操作复杂度为 $O(1)$;\n",
    "    \n",
    "    b.如果要求保序，就需要把位置 i 之后的元素按顺序逐一上移，删除后更新num值，操作复杂度最坏和平均情况都是 $O(n)$。\n",
    "    \n",
    "    c. 删除尾端元素非常简单，只需要将num值减1即可，原来尾端的元素不再位于合理的下标范围，相当于删除了。\n",
    "    \n",
    "删除元素的情况见下图：\n",
    "<img src='picture/liner_2.png'>\n",
    "***\n",
    "**基于条件的删除**\n",
    "\n",
    "1. 这种删除操作不是给定元素位置，而是删除给定数据项本身d或者符合条件的一系列元素；这种操作首先要通过前面**解析操作**里的方式找到这些元素，再进行删除；\n",
    "\n",
    "2. 一般需要通过循环来实现，循环逐个检查元素，查到符合条件的元素进行删除；这种一般是线性操作时间，时间复杂度是$O(n)$。\n",
    "***"
   ]
  },
  {
   "cell_type": "markdown",
   "metadata": {},
   "source": [
    "## 顺序表的结构"
   ]
  },
  {
   "cell_type": "markdown",
   "metadata": {},
   "source": [
    "一个顺序表包含两部分信息：表本身需要记录的信息（表的容量和元素个数），表中实际元素的集合。一个具体的数据结构要有一个对象的形态，那么问题就在于如何把上述两部分信息组织为一个顺序表的实际表示。"
   ]
  },
  {
   "cell_type": "markdown",
   "metadata": {},
   "source": [
    "***\n",
    "**两种基本实现方式**\n",
    "\n",
    "<img src='picture/liner_3.png'>\n",
    "\n",
    "**方式一**：将 表本身固有信息 和 元素集合 以**连续**的方式放在一起，见上图左。\n",
    "\n",
    "1. 优点：\n",
    "    * 实现方式比较紧凑，易于管理；\n",
    "    * 因为连续存放，从表对象L出发，根据下标访问元素，仍然可以沿用前面的公式，只不过整体平移 C 个单位，这里的C 是 表容量 max 和 表元素个数 num 的存储量大小。\n",
    "    \n",
    "2. 缺点：\n",
    "    * 因为这里的表元素 是表对象的一部分，所以会导致不同表对象的大小不一；\n",
    "    * 创建元素后对象就固定了，当插入元素超过 表容量时，由于表对象的两边可能有其他对象，不可能直接扩大其内存，只能重新创建一个容量更大的对象，但这是一个新对象，要修改当时使用原对象的全部位置，改用新对象，成本很高。\n",
    "    \n",
    "**方式二**：将 表本身固有信息 和 实际元素集合 以**分离**的方式分开存储，通过链接进行关联，见上图右。\n",
    "\n",
    "1. 优点：\n",
    "    * 表对象大小统一；\n",
    "    * 不同表的对象可以关联不同大小的元素存储区，但不会影响使用表的位置对表对象的引用；\n",
    "2. 缺点：\n",
    "    * 一个表通过多个独立的对象实现，创建和管理工作复杂一些；\n",
    "    * 基于下标的元素访问仍然只需要常量时间，但是要分两步：先从表对象找到元素存储区，再使用前面的公式计算存储位置。\n",
    "\n",
    "***"
   ]
  },
  {
   "cell_type": "markdown",
   "metadata": {},
   "source": [
    "***\n",
    "**动态顺序表的替换元素存储区**\n",
    "\n",
    "使用上面方式二来构建一个表对象的好处是，在表对象标识不变的情况下，可以为表对象更换元素存储区。因为这个优点，我们把采用方式二实现的顺序表叫**动态顺序表**。\n",
    "\n",
    "采用方式二这种分离技术实现，更换元素存储区过程如下：\n",
    "\n",
    "1. 另外申请一块更大的元素存储区（具体扩充过程的选择下文会介绍）；\n",
    "2. 把表中已有元素复制到新存储区；\n",
    "3. 改变表对象的元素区链接到新元素存储区；\n",
    "4. 实际加入新元素。\n",
    "***"
   ]
  },
  {
   "cell_type": "markdown",
   "metadata": {},
   "source": [
    "***\n",
    "**后端插入与存储区扩充的方式与优劣**\n",
    "\n",
    "**为什么是后端插入？**\n",
    "\n",
    "随着操作进行，动态顺序表大小从0逐渐扩大到n，插入元素时，后端插入时间开销更小：\n",
    "\n",
    "||单次插入时间|总时间开销|\n",
    "|--|--|--|\n",
    "|一般位置插入|$O(n)$|$O(n^2)$|\n",
    "|后端插入|$O(1)$|$O(n)$|"
   ]
  },
  {
   "cell_type": "markdown",
   "metadata": {},
   "source": [
    "**存储区扩充**\n",
    "\n",
    "虽然后端插入本身的时间复杂度是$O(1)$，但是当表的元素存储区被填满时，我们就需要**替换元素存储区**，我们需要思考的问题时，如何选择新存储区的大小，即扩充方式。\n",
    "\n",
    "**方式一**：线性扩充\n",
    "\n",
    "假设表对象从0不断扩充到n（假设n是10的倍数），每次线性扩充10个存储位置，第k次复制扩充需要复制的元素个数是 n +10*(k-1)，对应的总复制次数为：\n",
    "\n",
    "$$10+20+\\cdots+ 10\\times(\\frac{n}{10}-1) \\approx O(\\frac{n^2}{20})$$\n",
    "\n",
    "优缺点如下：\n",
    "1. 缺点：虽然每次后端插入的时间复杂度是$O(1)$，但是加入元素复制后，频繁的替换元素存储区会导致，一次插入操作的平均代价是$O(n^2)$；\n",
    "\n",
    "2. 优点：每次后端插入后元素存储区的最大空闲单元是9。\n",
    "\n",
    "**方式二**：指数型扩充\n",
    "\n",
    "表对象从0不断扩充到n（假设n是2的指数），按照 1,2,4,8，...方式扩充到n，对应总的复制次数为：\n",
    "\n",
    "$$ 1+2+4+\\cdots +\\frac{n}{2} = \\sum_{i=0}^{\\log_2{n/2}}2^i \\approx O(n)$$\n",
    "\n",
    "优缺点如下：\n",
    "1. 缺点：端插入后元素存储区的空闲单元差不多可以达到 n/2;\n",
    "\n",
    "2. 优点：如上述公式，后端插入的总时间复杂度是$O(n)$。\n",
    "\n",
    "对比两种策略，我们发现，方式二为了获得时间上的优势，需要付出空间上的代价。\n",
    "\n",
    "另外需要注意的问题是：后端插入的代价不统一，大多数可以在 $O(1)$ 时间内完成，但也会因为替换存储区出现高代价操作；随着表的增大，高代价操作的出现会更稀疏。\n",
    "\n",
    "**python 中的 list **\n",
    "\n",
    "python 中的 list 和 tuple 就采用了顺序表的实现技术，tuple是不变的表，因此不存在变动操作，其他方面和list 性质类似。\n",
    "\n",
    "python的官方实现中，**list就是一种采用了分离式技术实现的动态顺序表**。\n",
    "***"
   ]
  },
  {
   "cell_type": "markdown",
   "metadata": {},
   "source": [
    "# 链接表的实现"
   ]
  },
  {
   "cell_type": "markdown",
   "metadata": {},
   "source": [
    "如果程序需要巨大的线性表，采用顺序表实现就需要巨大块的连续存储空间，这个可能造成存储管理方面的困难。接下来我们考虑另一种常用实技术——基于链式结构，用链式关系表示元素之间的顺序关系。\n",
    "\n",
    "基于链式技术实现的线性表我们称为**链接表** 或者 **链表**。\n",
    "\n",
    "基本想法：\n",
    "\n",
    "1. 把表中元素分别存储在一批独立的存储块（称为表的结点）；\n",
    "\n",
    "2. 从任一结点可以找到下一个结点，在前一结点里用链接的方式显式记录与下一结点之间的关联。"
   ]
  },
  {
   "cell_type": "markdown",
   "metadata": {},
   "source": [
    "我们下面讨论最简单的**单链表**。"
   ]
  },
  {
   "cell_type": "markdown",
   "metadata": {},
   "source": [
    "## 单链表"
   ]
  },
  {
   "cell_type": "markdown",
   "metadata": {},
   "source": [
    "**单向链接表（下面简称单链表）** 的结点是一个二元组，如图左：\n",
    "\n",
    "* 表元素域elem保存作为表元素的数据项（或者其关联信息）；\n",
    "\n",
    "* 链接域 next 里保存着同一个表里下一结点的标识。\n",
    "\n",
    "最常见形式的单链表里，n个结点构成一条结点链，如下图所示。从引用首结点的变量（图中变量p）可以找到表的首结点，任一结点都可以找到下一结点。\n",
    "\n",
    "我们知道对首结点的引用变量，就可以找到这个表的所有信息，我们称这样的变量为**表头指针**。"
   ]
  },
  {
   "cell_type": "markdown",
   "metadata": {},
   "source": [
    "<img src='picture/liner_4.png'>"
   ]
  },
  {
   "cell_type": "markdown",
   "metadata": {},
   "source": [
    "总结下单链表：\n",
    "\n",
    "1. 一个单链表由一些具体的表结点构成；\n",
    "2. 每个结点是一个对象，有自己的标识，即该结点的链接；\n",
    "3. 结点之间通过链接建立单向顺序联系；\n",
    "4. 在最后一个结点设置**空链接**来表示表的结束(见上图)，如果表头指针的值是空链接，说明是空表。在python里可以使用`None`来表示。"
   ]
  },
  {
   "cell_type": "markdown",
   "metadata": {},
   "source": [
    "为方便讨论，我们定义一个简单的表结点类："
   ]
  },
  {
   "cell_type": "code",
   "execution_count": 1,
   "metadata": {
    "ExecuteTime": {
     "end_time": "2020-09-24T01:54:42.422029Z",
     "start_time": "2020-09-24T01:54:42.400070Z"
    }
   },
   "outputs": [],
   "source": [
    "class LNode:\n",
    "    def __init__(self,elem,next_=None):\n",
    "        self.elem = elem\n",
    "        self.next = next_"
   ]
  },
  {
   "cell_type": "markdown",
   "metadata": {},
   "source": [
    "备注：使用`next_`是为了避免和python标准函数`next`重名。"
   ]
  },
  {
   "cell_type": "markdown",
   "metadata": {},
   "source": [
    "## 头结点和头指针"
   ]
  },
  {
   "cell_type": "markdown",
   "metadata": {},
   "source": [
    "**头指针**：链表中第一个结点的存储位置叫做头指针，即上面提到的表头指针。\n",
    "\n",
    "**头结点**：在链表里，头结点也叫哑结点，是链表的第一个结点，是为了操作的统一与方便而设立的，放在第一个元素结点之前，其数据域一般无意义。\n",
    "\n",
    "**头结点** 的性质：\n",
    "\n",
    "1. 有了头结点后，在第一个元素结点前插入、删除的操作与其它结点的操作统一了；\n",
    "2. 首元结点也就是第一个元素的结点，它是头结点后边的第一个结点；\n",
    "3. 头结点不是链表所必需的；\n",
    "4. 为了使空链表与非空链表处理一致，我们通常设一个头结点；\n",
    "5. 带头结点与不带头结点初始化、插入、删除、输出操作都不一样，在遍历输出链表数据时，带头结点的判断条件是`while(head->next!=NULL)`，而不带头结点是`while(head!=NULL)`。\n",
    "\n",
    "**头指针** 的性质：\n",
    "\n",
    "1. 若链表有头结点，则头指针就是指向链表头结点的指针；\n",
    "2. 头指针具有标识作用，故常用头指针冠以链表的名字；\n",
    "3. 无论链表是否为空，头指针均不为空，头指针是链表的必要元素。"
   ]
  },
  {
   "cell_type": "markdown",
   "metadata": {},
   "source": [
    "下面两个图分别表示 带头结点 和 不带头结点 的链表：\n",
    "<img src='picture/liner_7.png'>\n",
    "<img src='picture/liner_8.png'>"
   ]
  },
  {
   "cell_type": "markdown",
   "metadata": {},
   "source": [
    "## 基本操作"
   ]
  },
  {
   "cell_type": "markdown",
   "metadata": {},
   "source": [
    "### 创建空表"
   ]
  },
  {
   "cell_type": "markdown",
   "metadata": {},
   "source": [
    "只需要把相应表头指针设置为空链接，在`python`里是None。"
   ]
  },
  {
   "cell_type": "markdown",
   "metadata": {},
   "source": [
    "### 解析操作"
   ]
  },
  {
   "cell_type": "markdown",
   "metadata": {},
   "source": [
    "***\n",
    "**判断表是否为空**\n",
    "\n",
    "将表头指针的值与空链接进行比较，python中就是检查相应变量是否为None。\n",
    "***"
   ]
  },
  {
   "cell_type": "markdown",
   "metadata": {
    "ExecuteTime": {
     "end_time": "2020-09-28T01:05:02.082649Z",
     "start_time": "2020-09-28T01:05:02.074677Z"
    }
   },
   "source": [
    "***\n",
    "**判断表是否满**\n",
    "\n",
    "一般而言，链表不会满，除非用完所有可用存储空间。\n",
    "***"
   ]
  },
  {
   "cell_type": "markdown",
   "metadata": {},
   "source": [
    "***\n",
    "**求表的长度**\n",
    "\n",
    "通过对表进行扫描遍历表中所有结点来完成计数："
   ]
  },
  {
   "cell_type": "code",
   "execution_count": 1,
   "metadata": {
    "ExecuteTime": {
     "end_time": "2020-09-30T01:14:40.334085Z",
     "start_time": "2020-09-30T01:14:40.293907Z"
    }
   },
   "outputs": [],
   "source": [
    "def length(head):\n",
    "    p,n =  head,0\n",
    "    while p is not None:\n",
    "        n +=1\n",
    "        p = p.next\n",
    "    return n"
   ]
  },
  {
   "cell_type": "markdown",
   "metadata": {},
   "source": [
    "备注：如果每次都使用以上的方式求链表长度，会导致重复和时间上的浪费。平衡这种情况的一个方法是，在链表的表头数字域存储链表的长度，每次在进行【变动操作】即对表进行删除或者增加元素时来维护这个计数。"
   ]
  },
  {
   "cell_type": "markdown",
   "metadata": {},
   "source": [
    "***"
   ]
  },
  {
   "cell_type": "markdown",
   "metadata": {},
   "source": [
    "**扫描与定位**"
   ]
  },
  {
   "cell_type": "markdown",
   "metadata": {},
   "source": [
    "插入和删除元素，定位元素，修改元素，逐个处理元素等情况，都需要检查链表的内容，需要检查表中一些或者全部结点。\n",
    "\n",
    "因为单链表只有一个方向的链接，只有表头指针是已知的，所以对表内容的解析只能从头指针开始沿着表逐步进行，这个过程称为链表的**扫描**，基本模式如下：\n",
    "\n",
    "```python \n",
    "p = head\n",
    "while p is not None and 还需继续的其他条件:\n",
    "    对p所指节点的数据做所需操作\n",
    "    p = p.next\n",
    "```\n",
    "\n",
    "循环继续或结束的条件视具体问题而定，辅助变量 p 称为**扫描指针**：\n",
    "\n",
    "1. 每个扫描循环必须用一个扫描指针作为控制变量\n",
    "2. 每次迭代前必须检查值是否是None,保证随后操作的合法性，与连续表的越界检查类似。"
   ]
  },
  {
   "cell_type": "markdown",
   "metadata": {},
   "source": [
    "上面表扫描模式是最一般的模式，下面介绍几个常用操作的实现。"
   ]
  },
  {
   "cell_type": "markdown",
   "metadata": {},
   "source": [
    "***\n",
    "**按下标定位**\n",
    "\n",
    "按python惯例，链表头结点的元素应看做下标0，其他元素依次排列。确定第 i 个元素所在结点的操作称为按下标**定位**，代码如下：\n",
    "\n",
    "```python\n",
    "p = head \n",
    "while p is not None and i>0:\n",
    "    i -= 1\n",
    "    p = p.next\n",
    "```\n",
    "\n",
    "循环结束有两种情况：扫描完所有情况没找到第i个元素或者当前p所指结点就是。可以通过 p 是否为 None 来区分。\n",
    "\n",
    "假如要删除第k个结点，可以先设i=k-1，循环检查 i 是 0 并且 p.next 不是 None 就可以执行删除。\n",
    "***"
   ]
  },
  {
   "cell_type": "markdown",
   "metadata": {},
   "source": [
    "***\n",
    "**按元素定位**：\n",
    "\n",
    "假设需要找到满足条件 pred 的元素，可以参照写出：\n",
    "\n",
    "```python\n",
    "p = head \n",
    "while p is not None and pred(p.elem):\n",
    "    p = p.next\n",
    "```\n",
    "\n",
    "循环结束时，要么 `p is None` 或者 `pred(p.elem) is True`。\n",
    "***"
   ]
  },
  {
   "cell_type": "markdown",
   "metadata": {},
   "source": [
    "### 变动操作"
   ]
  },
  {
   "cell_type": "markdown",
   "metadata": {},
   "source": [
    "#### 删除链表"
   ]
  },
  {
   "cell_type": "markdown",
   "metadata": {},
   "source": [
    "要丢弃链表里的每一个结点，具体实现和语言环境相关：\n",
    "\n",
    "1. 在C语言里，要通过明确的操作释放一个个结点所用的存储；\n",
    "\n",
    "2. 在python里，只需将表头指针赋值为None即可，解释器的存储管理系统会自动回收不用的存储。"
   ]
  },
  {
   "cell_type": "markdown",
   "metadata": {},
   "source": [
    "#### 插入元素"
   ]
  },
  {
   "cell_type": "markdown",
   "metadata": {},
   "source": [
    "插入元素有首端插入、尾端插入或定位插入，插入位置不同，复杂度会有所不同。需要注意的是，在链表里加入新元素，不需要移动原有数据，只需为新元素安排一个新结点，按照要求连在正确位置即可。"
   ]
  },
  {
   "cell_type": "markdown",
   "metadata": {},
   "source": [
    "一般情况下的元素插入，相比首端和尾端插入，会多一个**找到该位置之前那个结点**的操作，除此之外，插入新元素的操作是一致的。\n",
    "\n",
    "设变量 `pre` 已经指向要插入元素位置的前一结点，操作分三步：\n",
    "\n",
    "1. 创建一个新结点并存入数据；\n",
    "\n",
    "2. 把`pre`原本所指结点next域的值存入新结点，这个操作把新结点和pre之后的一段结点链接在一起；\n",
    "\n",
    "3. 修改 `pre` 的 `next` 域，指向新结点。\n",
    "\n",
    "以上三步操作见下图：\n",
    "\n",
    "<img src='picture/liner_5.png'>"
   ]
  },
  {
   "cell_type": "markdown",
   "metadata": {},
   "source": [
    "示例代码如下：\n",
    "```python \n",
    "q = LNode(13)\n",
    "q.next = pre.next\n",
    "pre.next = q\n",
    "```\n",
    "\n",
    "如果插入的是首元素，`pre`替换成 `head`即可。"
   ]
  },
  {
   "cell_type": "markdown",
   "metadata": {},
   "source": [
    "#### 删除元素 "
   ]
  },
  {
   "cell_type": "markdown",
   "metadata": {},
   "source": [
    "删除元素和插入元素类似，也需要定位到**删元素所在结点的前一结点**，在定位到以后：\n",
    "\n",
    "    假设前一结点是`pre`，修改`pre`的`next`域，指向删除被删结点的下一结点即可。\n",
    "\n",
    "示例代码：\n",
    "\n",
    "```python \n",
    "pre.next = pre.next.next\n",
    "```\n",
    "\n",
    "如果是head结点：\n",
    "```python \n",
    "head = head.next\n",
    "```\n",
    "\n",
    "\n",
    "显然，删除要确保被删结点是存在的，过程见下图：\n",
    "\n",
    "<img src='picture/liner_6.png'>"
   ]
  },
  {
   "cell_type": "markdown",
   "metadata": {},
   "source": [
    "备注：在其他语言里，需要自己释放存储，python会自动释放。"
   ]
  },
  {
   "cell_type": "markdown",
   "metadata": {},
   "source": [
    "### 链表操作的复杂度"
   ]
  },
  {
   "cell_type": "markdown",
   "metadata": {},
   "source": [
    "|操作|子操作|复杂度|\n",
    "|--|--|--|\n",
    "|创建空表||O(1)|\n",
    "|判断空表||O(1)|\n",
    "|求表长度||O(n)|\n",
    "|删除空表||O(1)|\n",
    "|插入元素|首端插入|T+O(1)|\n",
    "|插入元素|尾端插入|T+O(n)|\n",
    "|插入元素|定位插入|T+O(n)|\n",
    "|删除元素|首端删除|O(1)|\n",
    "|删除元素|尾端删除|O(n)|\n",
    "|删除元素|定位删除|O(n)|\n",
    "|删除元素|其他删除|O(n)|\n",
    "\n",
    "备注：\n",
    "\n",
    "1. 在python中删除空表是O(1)的时间，当然python做存储管理也需要时间；\n",
    "\n",
    "2. 插入元素时，T指的是创建新元素的时间；\n",
    "\n",
    "3. 尾端插入是因为单链表是单向的，所以必须要遍历找到最后结点；\n",
    "\n",
    "4. 其他删除一般要扫描整个表或者表的一部分。"
   ]
  },
  {
   "cell_type": "markdown",
   "metadata": {},
   "source": [
    "## 单链表的延伸"
   ]
  },
  {
   "cell_type": "markdown",
   "metadata": {},
   "source": [
    "### 循环单链表"
   ]
  },
  {
   "cell_type": "markdown",
   "metadata": {},
   "source": [
    "### 双链表和循环双链表"
   ]
  },
  {
   "cell_type": "markdown",
   "metadata": {},
   "source": [
    "## 单链表练习"
   ]
  },
  {
   "cell_type": "code",
   "execution_count": 2,
   "metadata": {
    "ExecuteTime": {
     "end_time": "2021-02-07T06:54:03.153159Z",
     "start_time": "2021-02-07T06:54:03.147165Z"
    }
   },
   "outputs": [],
   "source": [
    "#定义结点类\n",
    "class LNode:\n",
    "    def __init__(self,elem,next_=None):\n",
    "        self.elem = elem\n",
    "        self.next = next_\n",
    "        \n",
    "class LinkedListUnderflow(ValueError):\n",
    "    pass"
   ]
  },
  {
   "cell_type": "code",
   "execution_count": 2,
   "metadata": {
    "ExecuteTime": {
     "end_time": "2021-02-18T03:33:14.376617Z",
     "start_time": "2021-02-18T03:33:14.368616Z"
    },
    "scrolled": true
   },
   "outputs": [],
   "source": [
    "# 定义单链表类\n",
    "class LLNode:\n",
    "    def __init__(self):\n",
    "        '''初始化'''\n",
    "        self._head = None\n",
    "    \n",
    "    def is_empty(self):\n",
    "        return self._head is None\n",
    "    \n",
    "    def prepend(self,elem):\n",
    "        '''表头插入数据'''\n",
    "        self._head = LNode(elem,self._head)\n",
    "    \n",
    "    def pop(self):\n",
    "        '''删除表头结点并返回数据'''\n",
    "        if self.is_empty():#无结点，引发异常\n",
    "            raise LinkedListUnderflow('in pop')\n",
    "        e = self._head.elem\n",
    "        self._head = self._head.next\n",
    "        return e \n",
    "\n",
    "    def append(self,elem):\n",
    "        '''尾部插入元素'''\n",
    "        if self._head is None:\n",
    "            self._head = LNode(elem)\n",
    "            return \n",
    "        \n",
    "        p = LLNode._head\n",
    "        while p.next is not None:\n",
    "            p = p.next\n",
    "        p.next = LNode(elem)\n",
    "    \n",
    "    def pop_last(self):\n",
    "        '''删除尾部元素'''\n",
    "        if self._head is None:# 空表\n",
    "            raise LinkedListUnderflow('in pop')\n",
    "        \n",
    "        p = self._head\n",
    "        \n",
    "        if p.next is None:#表中只有一个元素\n",
    "            e = p.elem \n",
    "            self._head = None\n",
    "            return e \n",
    "        \n",
    "        while p.next.next is not None:\n",
    "            p = p.next \n",
    "        e = p.next.elem \n",
    "        p.next = None\n",
    "        return e          "
   ]
  },
  {
   "cell_type": "markdown",
   "metadata": {},
   "source": [
    "### [合并有序列表](https://leetcode-cn.com/problems/merge-two-sorted-lists/)"
   ]
  },
  {
   "cell_type": "markdown",
   "metadata": {},
   "source": [
    "愚蠢版本"
   ]
  },
  {
   "cell_type": "code",
   "execution_count": 4,
   "metadata": {
    "ExecuteTime": {
     "end_time": "2021-02-18T09:19:00.363133Z",
     "start_time": "2021-02-18T09:19:00.337116Z"
    }
   },
   "outputs": [],
   "source": [
    "class LinkedListUnderflow(ValueError):\n",
    "    pass\n",
    "\n",
    "\n",
    "class Node(object):\n",
    "\tdef __init__(self, val, next=None):\n",
    "\t\tself.val = val\n",
    "\t\tself.next = next\n",
    "\n",
    "\n",
    "class LLNode(object):\n",
    "\tdef __init__(self):\n",
    "\t\tself.head = None\n",
    "\n",
    "\tdef append(self, elem):\n",
    "\t\t'''尾部插入元素'''\n",
    "\t\tif self.head is None:\n",
    "\t\t\tself.head = Node(elem)\n",
    "\t\t\treturn\n",
    "\n",
    "\t\tp = LLNode.head\n",
    "\t\twhile p.next is not None:\n",
    "\t\t\tp = p.next\n",
    "\t\tp.next = Node(elem)\n",
    "\n",
    "\tdef lst_to_lnode(self, lst):\n",
    "\t\tself.head = Node(val=None)\n",
    "\t\tif lst:\n",
    "\t\t\tp = self.head\n",
    "\n",
    "\t\t\tfor i in lst:\n",
    "\t\t\t\tp.next = Node(val=i)\n",
    "\t\t\t\tp = p.next\n",
    "\t\treturn\n",
    "\n",
    "\tdef insertbyindex(self, elem, index):\n",
    "\t\tinsert_node = Node(elem)\n",
    "\t\tp = self.head\n",
    "\t\twhile p.next is not None and index > 0:\n",
    "\t\t\tp = p.next\n",
    "\t\t\tindex -= 1\n",
    "\t\tif p.next is None and index > 0:\n",
    "\t\t\traise LinkedListUnderflow('index out of range')\n",
    "\n",
    "\t\tinsert_node.next = p.next\n",
    "\t\tp.next = insert_node\n",
    "\t\treturn\n",
    "\n",
    "\n",
    "def lnode_to_lst(lnode):\n",
    "\tlst = []\n",
    "\tp = lnode.head\n",
    "\n",
    "\twhile p.next is not None:\n",
    "\t\tlst.append(p.next.val)\n",
    "\t\tp = p.next\n",
    "\treturn lst\n",
    "\n",
    "\n",
    "class Solution(object):\n",
    "\tdef mergeTwoLists(self, l1, l2):\n",
    "\t\t\"\"\"\n",
    "\t\t:type l1: ListNode\n",
    "\t\t:type l2: ListNode\n",
    "\t\t:rtype: ListNode\n",
    "\t\t\"\"\"\n",
    "\n",
    "\t\tindex = 0\n",
    "\t\tno_empty_list = []\n",
    "\t\tfor i in node_lst:\n",
    "\n",
    "\t\t\tif i.head.next is None:\n",
    "\t\t\t\tindex -= 1\n",
    "\t\t\telse:\n",
    "\t\t\t\tindex += 1\n",
    "\t\t\t\tno_empty_list.append(i)\n",
    "\t\tif index == -2:\n",
    "\t\t\treturn None\n",
    "\t\telif index == 0:\n",
    "\t\t\tlst = lnode_to_lst(no_empty_list[0])\n",
    "\t\t\treturn lst\n",
    "\t\telse:\n",
    "\t\t\tp1 = no_empty_list[0].head\n",
    "\t\t\tl2 = no_empty_list[1]\n",
    "\t\t\tp2 = l2.head\n",
    "\n",
    "\t\t\tindex = 0\n",
    "\t\t\twhile p1.next is not None:\n",
    "\t\t\t\twhile p2.next is not None and p1.next.val > p2.next.val:\n",
    "\t\t\t\t\tindex += 1\n",
    "\t\t\t\t\tp2 = p2.next\n",
    "\t\t\t\tl2.insertbyindex(p1.next.val, index)\n",
    "\t\t\t\tp1 = p1.next\n",
    "\t\t\tlst = lnode_to_lst(l2)\n",
    "\t\t\treturn lst"
   ]
  },
  {
   "cell_type": "code",
   "execution_count": 7,
   "metadata": {
    "ExecuteTime": {
     "end_time": "2021-02-18T09:22:51.610513Z",
     "start_time": "2021-02-18T09:22:51.605477Z"
    }
   },
   "outputs": [
    {
     "name": "stdout",
     "output_type": "stream",
     "text": [
      "[1, 1, 2, 3, 4, 4]\n"
     ]
    }
   ],
   "source": [
    "lst_com = [[1,2,4],[1,3,4]]\n",
    "# 将list转换为链表\n",
    "node_lst = []\n",
    "for i in lst_com:\n",
    "    lclass = LLNode()\n",
    "    lclass.lst_to_lnode(lst=i)\n",
    "    node_lst.append(lclass)\n",
    "            \n",
    "mergeClass = Solution()\n",
    "d=mergeClass.mergeTwoLists(*lst_com)\n",
    "print(d)"
   ]
  },
  {
   "cell_type": "markdown",
   "metadata": {},
   "source": [
    "聪明版本"
   ]
  },
  {
   "cell_type": "code",
   "execution_count": 86,
   "metadata": {
    "ExecuteTime": {
     "end_time": "2021-02-18T09:57:38.177844Z",
     "start_time": "2021-02-18T09:57:38.170811Z"
    }
   },
   "outputs": [],
   "source": [
    "class Node(object):\n",
    "\tdef __init__(self, val, next=None):\n",
    "\t\tself.val = val\n",
    "\t\tself.next = next\n",
    "\n",
    "\n",
    "class Solution(object):\n",
    "    def mergeTwoLists(self, l1, l2):\n",
    "        \"\"\"\n",
    "        :type l1: ListNode\n",
    "        :type l2: ListNode\n",
    "        :rtype: ListNode\n",
    "        \"\"\"\n",
    "        \n",
    "        res = Node(None)\n",
    "        node = res\n",
    "        p1 = l1.head.next\n",
    "        p2 = l2.head.next \n",
    "        while p1 and p2:\n",
    "            if p1.val<p2.val:\n",
    "                node.next,p1 = p1, p1.next \n",
    "            else:\n",
    "                node.next,p2 = p2, p2.next \n",
    "            node = node.next \n",
    "        if p1:\n",
    "            node.next = p1\n",
    "        if p2:\n",
    "            node.next = p2\n",
    "        return res.next"
   ]
  },
  {
   "cell_type": "code",
   "execution_count": 93,
   "metadata": {
    "ExecuteTime": {
     "end_time": "2021-02-18T09:58:46.545908Z",
     "start_time": "2021-02-18T09:58:46.539903Z"
    }
   },
   "outputs": [
    {
     "name": "stdout",
     "output_type": "stream",
     "text": [
      "1\n",
      "1\n",
      "2\n",
      "3\n",
      "4\n",
      "4\n",
      "5\n",
      "20\n"
     ]
    }
   ],
   "source": [
    "lst_com = [[1,2,4,5],[1,3,4,20]]\n",
    "# 将list转换为链表\n",
    "node_lst = []\n",
    "for i in lst_com:\n",
    "    lclass = LLNode()\n",
    "    lclass.lst_to_lnode(lst=i)\n",
    "    node_lst.append(lclass)\n",
    "\n",
    "s=Solution()\n",
    "node = s.mergeTwoLists(*node_lst)\n",
    "p = node\n",
    "while p is not None:\n",
    "    print(p.val)\n",
    "    p = p.next"
   ]
  },
  {
   "cell_type": "markdown",
   "metadata": {},
   "source": [
    "### [反转列表](https://leetcode-cn.com/problems/reverse-linked-list/submissions/)"
   ]
  },
  {
   "cell_type": "code",
   "execution_count": 13,
   "metadata": {
    "ExecuteTime": {
     "end_time": "2021-02-19T06:38:19.880497Z",
     "start_time": "2021-02-19T06:38:19.872492Z"
    }
   },
   "outputs": [],
   "source": [
    "class ListNode:\n",
    "    def __init__(self, val=0, next=None):\n",
    "        self.val = val\n",
    "        self.next = next\n",
    "\n",
    "class Solution:\n",
    "    def reverseList_v1(self, head):\n",
    "        \"\"\"\n",
    "        :type head: ListNode\n",
    "        :rtype: ListNode\n",
    "        \"\"\"\n",
    "        p, res = head, None\n",
    "        while p:\n",
    "            res, res.next, p = p, res, p.next\n",
    "        return res\n",
    "\n",
    "    def reverseList_v2(self, head):\n",
    "        \"\"\"\n",
    "        :type head: ListNode\n",
    "        :rtype: ListNode\n",
    "        更好理解的版本\n",
    "        \"\"\"\n",
    "        p,re = head,None \n",
    "        while p:\n",
    "            cur = p\n",
    "            p = p.next  \n",
    "            cur.next = res\n",
    "            res = cur \n",
    "        return res\n",
    "\n",
    "    def reverseList_v3(self, head: ListNode) -> ListNode:\n",
    "        p,res = head,None\n",
    "        while p:\n",
    "            pnext = p.next\n",
    "            p.next = res \n",
    "            res = p \n",
    "            p = pnext\n",
    "        return res\n",
    "    \n",
    "    def reverseList_v4(self, head: ListNode) -> ListNode:\n",
    "        def reverse(head,res):\n",
    "            p = head \n",
    "            if p:\n",
    "                pnext = p.next \n",
    "                p.next = res \n",
    "                return reverse(pnext,p)\n",
    "            else:\n",
    "                return res\n",
    "        return reverse(head,None)"
   ]
  },
  {
   "cell_type": "code",
   "execution_count": 14,
   "metadata": {
    "ExecuteTime": {
     "end_time": "2021-02-19T06:39:01.359421Z",
     "start_time": "2021-02-19T06:39:01.354387Z"
    }
   },
   "outputs": [
    {
     "name": "stdout",
     "output_type": "stream",
     "text": [
      "5\n",
      "4\n",
      "3\n",
      "2\n",
      "1\n"
     ]
    }
   ],
   "source": [
    "a = ListNode(1, ListNode(2, ListNode(3, ListNode(4, ListNode(5)))))\n",
    "s2=Solution()\n",
    "t=s2.reverseList_v1(a)\n",
    "while t:\n",
    "    print(t.val)\n",
    "    t = t.next"
   ]
  },
  {
   "cell_type": "markdown",
   "metadata": {},
   "source": [
    "前置条件：迭代指针：p = head、结果指针：res = none\n",
    "\n",
    "以1->2->3->4->5为例：\n",
    "\n",
    "过程：\n",
    "\n",
    "res:None\n",
    "\n",
    "第一层循环\n",
    "\n",
    "res:1->2->3->4->5 res = p\n",
    "\n",
    "res:1->None res.next = res\n",
    "\n",
    "p:2->3->4->5 p = p.next\n",
    "\n",
    "第二层循环\n",
    "\n",
    "res:2->3->4->5 res = p\n",
    "\n",
    "res:2->1->None res.next = res\n",
    "\n",
    "p:3->4->5 p = p.next\n",
    "\n",
    "第三层循环\n",
    "\n",
    "res:3->4->5 res = p\n",
    "\n",
    "res:3->2->1->None res.next = res\n",
    "\n",
    "p:4->5 p = p.next\n",
    "\n",
    "第四层循环\n",
    "\n",
    "res:4->5 res = p\n",
    "\n",
    "res:4->3->2->1->None res.next = res\n",
    "\n",
    "p:5 p = p.next\n",
    "\n",
    "第五层循环\n",
    "\n",
    "res:5 res = p\n",
    "\n",
    "res:5->4->3->2->1->None res.next = res\n",
    "\n",
    "p:None p = p.next\n",
    "\n",
    "end..."
   ]
  },
  {
   "cell_type": "markdown",
   "metadata": {},
   "source": [
    "### [反转链表  II](https://leetcode-cn.com/problems/reverse-linked-list-ii/submissions/)"
   ]
  },
  {
   "cell_type": "code",
   "execution_count": 15,
   "metadata": {
    "ExecuteTime": {
     "end_time": "2021-02-24T06:16:18.371239Z",
     "start_time": "2021-02-24T06:16:18.358240Z"
    },
    "code_folding": [],
    "run_control": {
     "marked": false
    }
   },
   "outputs": [],
   "source": [
    "class ListNode:\n",
    "    def __init__(self, val=0, next=None):\n",
    "        self.val = val\n",
    "        self.next = next\n",
    "class Solution:\n",
    "    def reverseBetween(self, head: ListNode, left: int, right: int) -> ListNode:\n",
    "        dummy_node = ListNode(-1)\n",
    "        dummy_node.next=head \n",
    "        pre = dummy_node\n",
    "        for _ in range(left-1):\n",
    "            pre = pre.next \n",
    "        \n",
    "        curr = pre.next \n",
    "        for _ in range(right-left):\n",
    "            pnext = curr.next\n",
    "            curr.next = pnext.next \n",
    "            pnext.next = pre.next \n",
    "            pre.next = pnext\n",
    "        return dummy_node.next"
   ]
  },
  {
   "cell_type": "code",
   "execution_count": 16,
   "metadata": {
    "ExecuteTime": {
     "end_time": "2021-02-24T06:16:26.717135Z",
     "start_time": "2021-02-24T06:16:26.712133Z"
    },
    "run_control": {
     "marked": true
    }
   },
   "outputs": [
    {
     "name": "stdout",
     "output_type": "stream",
     "text": [
      "1\n",
      "4\n",
      "3\n",
      "2\n",
      "5\n"
     ]
    }
   ],
   "source": [
    "a = ListNode(1, ListNode(2, ListNode(3, ListNode(4, ListNode(5)))))\n",
    "s2=Solution()\n",
    "t=s2.reverseBetween(a,2,4)\n",
    "while t:\n",
    "    print(t.val)\n",
    "    t = t.next"
   ]
  },
  {
   "cell_type": "markdown",
   "metadata": {},
   "source": [
    "### [删除有序列表中的重复元素](https://leetcode-cn.com/problems/remove-duplicates-from-sorted-list/)"
   ]
  },
  {
   "cell_type": "markdown",
   "metadata": {},
   "source": [
    "### [移除未排序链表的重复节点](https://leetcode-cn.com/problems/remove-duplicate-node-lcci/)"
   ]
  },
  {
   "cell_type": "markdown",
   "metadata": {},
   "source": [
    "### [分割列表](https://leetcode-cn.com/problems/partition-list/)"
   ]
  },
  {
   "cell_type": "code",
   "execution_count": 643,
   "metadata": {
    "ExecuteTime": {
     "end_time": "2021-02-22T11:09:10.264406Z",
     "start_time": "2021-02-22T11:09:10.256408Z"
    }
   },
   "outputs": [],
   "source": [
    "class ListNode:\n",
    "    def __init__(self, val=0, next=None):\n",
    "        self.val = val\n",
    "        self.next = next\n",
    "class Solution:\n",
    "    def partition(self, head: ListNode, x: int) -> ListNode:\n",
    "        node = ListNode(None,head) \n",
    "        slow = node\n",
    "        fast = node.next\n",
    "        target = node\n",
    "        a = 0\n",
    "        while fast:\n",
    "            if fast.val >= x:\n",
    "                a = 1 \n",
    "                slow = slow.next\n",
    "                \n",
    "            else:\n",
    "                if a == 0:\n",
    "                    target = target.next\n",
    "                    slow = slow.next\n",
    "                else:\n",
    "                    target.next = ListNode(fast.val,target.next)\n",
    "                    target = target.next\n",
    "                \n",
    "                slow.next = fast.next\n",
    "                \n",
    "            fast = fast.next \n",
    "        return node.next "
   ]
  },
  {
   "cell_type": "code",
   "execution_count": 645,
   "metadata": {
    "ExecuteTime": {
     "end_time": "2021-02-22T11:09:37.855829Z",
     "start_time": "2021-02-22T11:09:37.849831Z"
    }
   },
   "outputs": [
    {
     "name": "stdout",
     "output_type": "stream",
     "text": [
      "1\n",
      "0\n",
      "2\n",
      "2\n",
      "4\n",
      "3\n",
      "5\n"
     ]
    }
   ],
   "source": [
    "a = ListNode(1,  ListNode(0,ListNode(4, ListNode(3, ListNode(2, ListNode(5, ListNode(2)))))))\n",
    "s=Solution()\n",
    "t=s.partition(a,3)\n",
    "while t:\n",
    "    print(t.val)\n",
    "    t = t.next"
   ]
  },
  {
   "cell_type": "markdown",
   "metadata": {},
   "source": [
    "### [移除链表指定元素](https://leetcode-cn.com/problems/remove-linked-list-elements/comments/)"
   ]
  },
  {
   "cell_type": "markdown",
   "metadata": {},
   "source": [
    "不增设虚拟头结点"
   ]
  },
  {
   "cell_type": "code",
   "execution_count": 263,
   "metadata": {
    "ExecuteTime": {
     "end_time": "2021-02-19T07:45:34.016998Z",
     "start_time": "2021-02-19T07:45:34.010002Z"
    }
   },
   "outputs": [],
   "source": [
    "class ListNode:\n",
    "    def __init__(self, val=0, next=None):\n",
    "        self.val = val\n",
    "        self.next = next\n",
    "class Solution:\n",
    "    def removeElements(self, head: ListNode, val: int) -> ListNode:\n",
    "        node = head\n",
    "        new_head = ListNode(None)\n",
    "        s = new_head\n",
    "        while node:\n",
    "            \n",
    "            if node.val !=  val:\n",
    "                \n",
    "                s.next =  ListNode(node.val) \n",
    "                s = s.next \n",
    "        \n",
    "            node = node.next \n",
    "        return new_head.next\n",
    "                "
   ]
  },
  {
   "cell_type": "code",
   "execution_count": 267,
   "metadata": {
    "ExecuteTime": {
     "end_time": "2021-02-19T07:45:57.136582Z",
     "start_time": "2021-02-19T07:45:57.129557Z"
    }
   },
   "outputs": [
    {
     "name": "stdout",
     "output_type": "stream",
     "text": [
      "3\n",
      "4\n",
      "3\n"
     ]
    }
   ],
   "source": [
    "a = ListNode(6, ListNode(6, ListNode(6, ListNode(3, ListNode(4, ListNode(6, ListNode(3, ListNode(6,))))))))\n",
    "s=Solution()\n",
    "t=s.removeElements(a,6)\n",
    "while t:\n",
    "    print(t.val)\n",
    "    t = t.next"
   ]
  },
  {
   "cell_type": "markdown",
   "metadata": {},
   "source": [
    "增设头结点"
   ]
  },
  {
   "cell_type": "code",
   "execution_count": 273,
   "metadata": {
    "ExecuteTime": {
     "end_time": "2021-02-19T08:06:03.971283Z",
     "start_time": "2021-02-19T08:06:03.966287Z"
    }
   },
   "outputs": [],
   "source": [
    "class ListNode:\n",
    "    def __init__(self, val=0, next=None):\n",
    "        self.val = val\n",
    "        self.next = next\n",
    "class Solution_v2:\n",
    "    def removeElements(self, head: ListNode, val: int) -> ListNode:\n",
    "        new_head = ListNode(None,head)\n",
    "        node = new_head\n",
    "        \n",
    "        while node:\n",
    "            while node.next and node.next.val ==  val:\n",
    "                node.next = node.next.next\n",
    "            node = node.next \n",
    "        return new_head\n",
    "                "
   ]
  },
  {
   "cell_type": "code",
   "execution_count": 275,
   "metadata": {
    "ExecuteTime": {
     "end_time": "2021-02-19T08:06:11.534203Z",
     "start_time": "2021-02-19T08:06:11.526164Z"
    }
   },
   "outputs": [
    {
     "name": "stdout",
     "output_type": "stream",
     "text": [
      "3\n",
      "4\n",
      "3\n"
     ]
    }
   ],
   "source": [
    "a = ListNode(6, ListNode(6, ListNode(6, ListNode(3, ListNode(4, ListNode(6, ListNode(3, ListNode(6,))))))))\n",
    "s=Solution()\n",
    "t=s.removeElements(a,6)\n",
    "while t:\n",
    "    print(t.val)\n",
    "    t = t.next"
   ]
  },
  {
   "cell_type": "markdown",
   "metadata": {},
   "source": [
    "### [回文链表判断](https://leetcode-cn.com/problems/palindrome-linked-list/)"
   ]
  },
  {
   "cell_type": "code",
   "execution_count": 17,
   "metadata": {
    "ExecuteTime": {
     "end_time": "2021-02-20T03:40:23.641470Z",
     "start_time": "2021-02-20T03:40:23.625476Z"
    }
   },
   "outputs": [],
   "source": [
    "class ListNode:\n",
    "    def __init__(self, val=0, next=None):\n",
    "        self.val = val\n",
    "        self.next = next\n",
    "class Solution:\n",
    "    def isPalindrome(self, head: ListNode) -> bool:\n",
    "        stack = []\n",
    "        cur = head \n",
    "        while cur:\n",
    "            stack.append(cur.val)\n",
    "            cur = cur.next \n",
    "        while head and stack and head.val ==  stack.pop():\n",
    "            head = head.next \n",
    "        if head is None and stack == []:\n",
    "            return True \n",
    "        else:\n",
    "            return False "
   ]
  },
  {
   "cell_type": "code",
   "execution_count": 18,
   "metadata": {
    "ExecuteTime": {
     "end_time": "2021-02-20T03:40:24.198621Z",
     "start_time": "2021-02-20T03:40:24.185626Z"
    }
   },
   "outputs": [
    {
     "data": {
      "text/plain": [
       "True"
      ]
     },
     "execution_count": 18,
     "metadata": {},
     "output_type": "execute_result"
    }
   ],
   "source": [
    "a = ListNode(1, ListNode(2, ListNode(2, ListNode(1))))\n",
    "s=Solution()\n",
    "s.isPalindrome(a)"
   ]
  },
  {
   "cell_type": "markdown",
   "metadata": {},
   "source": [
    "### [链表相交](https://leetcode-cn.com/problems/intersection-of-two-linked-lists/)"
   ]
  },
  {
   "cell_type": "markdown",
   "metadata": {},
   "source": [
    "### [head未知时删除指定结点](https://leetcode-cn.com/problems/delete-node-in-a-linked-list/comments/)"
   ]
  },
  {
   "cell_type": "markdown",
   "metadata": {},
   "source": [
    "### [链表中间结点](https://leetcode-cn.com/problems/middle-of-the-linked-list/comments/)"
   ]
  },
  {
   "cell_type": "markdown",
   "metadata": {
    "ExecuteTime": {
     "end_time": "2021-02-19T15:29:00.748467Z",
     "start_time": "2021-02-19T15:29:00.735149Z"
    }
   },
   "source": [
    "### [二进制转十进制](https://leetcode-cn.com/problems/convert-binary-number-in-a-linked-list-to-integer/submissions/)"
   ]
  },
  {
   "cell_type": "markdown",
   "metadata": {},
   "source": [
    "### [从尾到头打印链表](https://leetcode-cn.com/problems/cong-wei-dao-tou-da-yin-lian-biao-lcof/submissions/)"
   ]
  },
  {
   "cell_type": "markdown",
   "metadata": {},
   "source": [
    "### [链表中倒数第k个节点](https://leetcode-cn.com/problems/lian-biao-zhong-dao-shu-di-kge-jie-dian-lcof/)"
   ]
  },
  {
   "cell_type": "markdown",
   "metadata": {
    "ExecuteTime": {
     "end_time": "2021-02-20T08:26:47.468094Z",
     "start_time": "2021-02-20T08:26:47.463094Z"
    }
   },
   "source": [
    "### [两数相加](https://leetcode-cn.com/problems/add-two-numbers/submissions/)"
   ]
  },
  {
   "cell_type": "code",
   "execution_count": 443,
   "metadata": {
    "ExecuteTime": {
     "end_time": "2021-02-20T08:55:49.624517Z",
     "start_time": "2021-02-20T08:55:49.613532Z"
    }
   },
   "outputs": [],
   "source": [
    "class ListNode:\n",
    "    def __init__(self, val=0, next=None):\n",
    "        self.val = val\n",
    "        self.next = next\n",
    "class Solution:    \n",
    "    def nodesAdd(self,head: ListNode)-> ListNode:\n",
    "        s = 0\n",
    "        index = 0\n",
    "        while head:\n",
    "            s += head.val*(10**index)\n",
    "            index += 1\n",
    "            head = head.next\n",
    "        return s \n",
    "        \n",
    "    def addTwoNumbers(self, l1: ListNode, l2: ListNode) -> ListNode: \n",
    "        s = self.nodesAdd(l1) + self.nodesAdd(l2)\n",
    "        if s == 0:\n",
    "            return ListNode(0)\n",
    "        new_node = ListNode(None)\n",
    "        curr = new_node\n",
    "        while s:\n",
    "            val = s % 10\n",
    "            s = s // 10\n",
    "            curr.next = ListNode(val)\n",
    "            curr = curr.next\n",
    "        return new_node.next    \n",
    "    \n",
    "    def addTwoNumbers_v2(self, l1: ListNode, l2: ListNode) -> ListNode:\n",
    "        \n",
    "        s = ListNode(None)\n",
    "        curr = s \n",
    "        last_div = 0\n",
    "        while (l1 or l2):\n",
    "            x = l1.val if l1 else 0 \n",
    "            y = l2.val if l2 else 0\n",
    "            sum_rev = last_div + x + y \n",
    "            last_div = sum_rev // 10 \n",
    "            curr.next = ListNode(sum_rev % 10)\n",
    "            curr = curr.next \n",
    "            \n",
    "            if l1 is not None:\n",
    "                l1 = l1.next  \n",
    "            if l2 is not None:\n",
    "                l2 = l2.next \n",
    "        if last_div>0:\n",
    "            curr.next = ListNode(last_div)\n",
    "        return s.next     "
   ]
  },
  {
   "cell_type": "code",
   "execution_count": 444,
   "metadata": {
    "ExecuteTime": {
     "end_time": "2021-02-20T08:55:50.296209Z",
     "start_time": "2021-02-20T08:55:50.291166Z"
    },
    "run_control": {
     "marked": true
    }
   },
   "outputs": [
    {
     "name": "stdout",
     "output_type": "stream",
     "text": [
      "true sum is 807\n",
      "7\n",
      "0\n",
      "8\n"
     ]
    }
   ],
   "source": [
    "a = ListNode(2, ListNode(4, ListNode(3)))\n",
    "b = ListNode(5, ListNode(6, ListNode(4)))\n",
    "print('true sum is',342+465)\n",
    "s=Solution()\n",
    "t=s.addTwoNumbers_v2(a,b)\n",
    "while t:\n",
    "    print(t.val)\n",
    "    t = t.next"
   ]
  },
  {
   "cell_type": "markdown",
   "metadata": {},
   "source": [
    "### [两数相加 II](https://leetcode-cn.com/problems/add-two-numbers-ii/submissions/)"
   ]
  },
  {
   "cell_type": "code",
   "execution_count": 166,
   "metadata": {
    "ExecuteTime": {
     "end_time": "2021-03-05T06:27:12.493511Z",
     "start_time": "2021-03-05T06:27:12.484513Z"
    }
   },
   "outputs": [],
   "source": [
    "class ListNode:\n",
    "    def __init__(self, x,next=None):\n",
    "        self.val = x\n",
    "        self.next = next\n",
    "\n",
    "class Solution:\n",
    "          \n",
    "    def to_lst(self,head):\n",
    "        lst = []\n",
    "        while head:\n",
    "            lst.append(head.val)\n",
    "            head = head.next\n",
    "        return lst\n",
    "        \n",
    "    def addTwoNumbers(self, l1: ListNode, l2: ListNode) -> ListNode:\n",
    "        lst1,lst2 = list(map(lambda x:self.to_lst(x),[l1,l2]))\n",
    "        last_div = 0\n",
    "        head = ListNode(None)\n",
    "        while lst1 or lst2 or last_div:\n",
    "            x = lst1.pop(-1) if lst1 else 0\n",
    "            y = lst2.pop(-1) if lst2 else 0\n",
    "            z = x+y+last_div\n",
    "            last_div,mod = z//10,z%10\n",
    "            \n",
    "            to_add = ListNode(mod)\n",
    "            to_add.next = head.next \n",
    "            head.next = to_add\n",
    "    \n",
    "        return head.next      "
   ]
  },
  {
   "cell_type": "code",
   "execution_count": 167,
   "metadata": {
    "ExecuteTime": {
     "end_time": "2021-03-05T06:27:12.803962Z",
     "start_time": "2021-03-05T06:27:12.796955Z"
    }
   },
   "outputs": [
    {
     "name": "stdout",
     "output_type": "stream",
     "text": [
      "true sum is 1242\n",
      "1\n",
      "2\n",
      "4\n",
      "2\n"
     ]
    }
   ],
   "source": [
    "a = ListNode(2, ListNode(4, ListNode(3)))\n",
    "b = ListNode(9, ListNode(9, ListNode(9)))\n",
    "print('true sum is',243+999)\n",
    "s=Solution()\n",
    "t=s.addTwoNumbers(a,b)\n",
    "while t:\n",
    "    print(t.val)\n",
    "    t = t.next"
   ]
  },
  {
   "cell_type": "markdown",
   "metadata": {},
   "source": [
    "### [删除倒数第k结点](https://leetcode-cn.com/problems/remove-nth-node-from-end-of-list/submissions/)"
   ]
  },
  {
   "cell_type": "code",
   "execution_count": 471,
   "metadata": {
    "ExecuteTime": {
     "end_time": "2021-02-20T09:35:19.439488Z",
     "start_time": "2021-02-20T09:35:19.433486Z"
    }
   },
   "outputs": [],
   "source": [
    "class ListNode:\n",
    "    def __init__(self, val=0, next=None):\n",
    "        self.val = val\n",
    "        self.next = next\n",
    "class Solution:\n",
    "    def removeNthFromEnd(self, head: ListNode, n: int) -> ListNode:\n",
    "        # 思路：相比找到倒数第N个结点，利用 next的特性，将每个环节都提前一个指针即可\n",
    "        fast,slow = head,head\n",
    "        \n",
    "        # 如果是倒数第一个，那么返回head.next \n",
    "        for _ in range(n):\n",
    "            if fast.next:\n",
    "                fast = fast.next \n",
    "            else:\n",
    "                return head.next \n",
    "            \n",
    "        while fast.next:\n",
    "            fast,slow = fast.next,slow.next \n",
    "            \n",
    "        slow.next = slow.next.next \n",
    "        return head "
   ]
  },
  {
   "cell_type": "code",
   "execution_count": 470,
   "metadata": {
    "ExecuteTime": {
     "end_time": "2021-02-20T09:34:59.564560Z",
     "start_time": "2021-02-20T09:34:59.560566Z"
    }
   },
   "outputs": [
    {
     "name": "stdout",
     "output_type": "stream",
     "text": [
      "4\n"
     ]
    }
   ],
   "source": [
    "a = ListNode(2, ListNode(4))\n",
    "s=Solution()\n",
    "t=s.removeNthFromEnd(a,2)\n",
    "while t:\n",
    "    print(t.val)\n",
    "    t = t.next"
   ]
  },
  {
   "cell_type": "markdown",
   "metadata": {},
   "source": [
    "### [合并2个链表](https://leetcode-cn.com/problems/merge-in-between-linked-lists/)"
   ]
  },
  {
   "cell_type": "code",
   "execution_count": 504,
   "metadata": {
    "ExecuteTime": {
     "end_time": "2021-02-20T10:56:25.447932Z",
     "start_time": "2021-02-20T10:56:25.436897Z"
    }
   },
   "outputs": [],
   "source": [
    "class ListNode:\n",
    "    def __init__(self, val=0, next=None):\n",
    "        self.val = val\n",
    "        self.next = next\n",
    "class Solution:\n",
    "    def mergeInBetween(self, list1: ListNode, a: int, b: int, list2: ListNode) -> ListNode:\n",
    "        new_l1 = list1\n",
    "        cur_b = new_l1\n",
    "        \n",
    "        index_b = -1\n",
    "        while cur_b:\n",
    "            index_b += 1\n",
    "            if index_b  ==  b:\n",
    "                cur2 = list2\n",
    "                while cur2.next:\n",
    "                    cur2 = cur2.next\n",
    "                cur2.next = cur_b.next\n",
    "            \n",
    "            cur_b = cur_b.next\n",
    "        \n",
    "        cur_a = new_l1\n",
    "        index_a = -1\n",
    "        while cur_a:\n",
    "            index_a +=1\n",
    "            if index_a == a-1:\n",
    "                cur_a.next = list2\n",
    "            cur_a = cur_a.next\n",
    "        return new_l1\n",
    "    \n",
    "    def mergeInBetween_v2(self, list1: ListNode, a: int, b: int, list2: ListNode) -> ListNode:\n",
    "        cur = list1\n",
    "        index = -1\n",
    "        while cur:\n",
    "            index +=1\n",
    "            if index == a-1:\n",
    "                cur1 = cur\n",
    "            if index == b:\n",
    "                cur2 = cur\n",
    "            cur = cur.next \n",
    "\n",
    "\n",
    "        cur1.next = list2\n",
    "        \n",
    "        cur_v2 = list2\n",
    "        while cur_v2.next:\n",
    "            cur_v2 = cur_v2.next \n",
    "        cur_v2.next = cur2.next\n",
    "        return list1"
   ]
  },
  {
   "cell_type": "code",
   "execution_count": 505,
   "metadata": {
    "ExecuteTime": {
     "end_time": "2021-02-20T10:56:25.814523Z",
     "start_time": "2021-02-20T10:56:25.803523Z"
    }
   },
   "outputs": [
    {
     "name": "stdout",
     "output_type": "stream",
     "text": [
      "0\n",
      "1\n",
      "99\n",
      "999\n",
      "5\n"
     ]
    }
   ],
   "source": [
    "a = ListNode(0, ListNode(1,ListNode(2,ListNode(3,ListNode(4,ListNode(5,))))))\n",
    "b = ListNode(99, ListNode(999))\n",
    "s=Solution()\n",
    "t=s.mergeInBetween_v2(a,2,4,b)\n",
    "while t:\n",
    "    print(t.val)\n",
    "    t = t.next"
   ]
  },
  {
   "cell_type": "markdown",
   "metadata": {},
   "source": [
    "### [ 删除排序链表中的重复元素 II](https://leetcode-cn.com/problems/remove-duplicates-from-sorted-list-ii/)"
   ]
  },
  {
   "cell_type": "code",
   "execution_count": 635,
   "metadata": {
    "ExecuteTime": {
     "end_time": "2021-02-22T10:18:23.580535Z",
     "start_time": "2021-02-22T10:18:23.574531Z"
    }
   },
   "outputs": [],
   "source": [
    "class ListNode:\n",
    "    def __init__(self, val=0, next=None):\n",
    "        self.val = val\n",
    "        self.next = next\n",
    "class Solution:\n",
    "    def deleteDuplicates(self, head: ListNode) -> ListNode:\n",
    "        node = ListNode(None,head) \n",
    "        slow = node\n",
    "        fast = node.next\n",
    "        while fast:\n",
    "            if fast.next and fast.val !=  fast.next.val:\n",
    "                slow = slow.next\n",
    "\n",
    "            while fast.next and fast.val  ==  fast.next.val:\n",
    "                fast.next = fast.next.next\n",
    "                slow.next = fast.next\n",
    "                           \n",
    "            \n",
    "            fast  = fast.next \n",
    "            \n",
    "            \n",
    "\n",
    "        return node.next "
   ]
  },
  {
   "cell_type": "code",
   "execution_count": 636,
   "metadata": {
    "ExecuteTime": {
     "end_time": "2021-02-22T10:18:24.072094Z",
     "start_time": "2021-02-22T10:18:24.067057Z"
    }
   },
   "outputs": [
    {
     "name": "stdout",
     "output_type": "stream",
     "text": [
      "2\n",
      "5\n"
     ]
    }
   ],
   "source": [
    "a = ListNode(1, ListNode(1, ListNode(1, ListNode(2, ListNode(3, ListNode(3, ListNode(4, ListNode(4,ListNode(5,)))))))))\n",
    "s=Solution()\n",
    "t=s.deleteDuplicates(a)\n",
    "while t:\n",
    "    print(t.val)\n",
    "    t = t.next"
   ]
  },
  {
   "cell_type": "markdown",
   "metadata": {},
   "source": [
    "### [两两交换链表结点](https://leetcode-cn.com/problems/swap-nodes-in-pairs/submissions/)"
   ]
  },
  {
   "cell_type": "code",
   "execution_count": 958,
   "metadata": {
    "ExecuteTime": {
     "end_time": "2021-02-24T08:03:21.484461Z",
     "start_time": "2021-02-24T08:03:21.478457Z"
    }
   },
   "outputs": [],
   "source": [
    "class ListNode:\n",
    "    def __init__(self, val=0, next=None):\n",
    "        self.val = val\n",
    "        self.next = next\n",
    "class Solution:\n",
    "    def swapPairs(self, head: ListNode) -> ListNode:\n",
    "        '''递归'''\n",
    "        if head is None or head.next is None:\n",
    "            return head \n",
    "        \n",
    "        new_head =  head.next \n",
    "        head.next = self.swapPairs(new_head.next)\n",
    "        new_head.next = head \n",
    "        return new_head\n",
    "    def swapPairs_v2(self, head: ListNode) -> ListNode:\n",
    "        '''指针调换'''\n",
    "        new_head = ListNode(None,head)\n",
    "        cur = new_head\n",
    "        \n",
    "        while cur and cur.next:\n",
    "            node1 = cur.next \n",
    "            node2 = cur.next.next \n",
    "            \n",
    "            cur.next = node2\n",
    "            node1.next = node2.next \n",
    "            node2.next = node1 \n",
    "            \n",
    "            cur = node1\n",
    "        return new_head.next\n",
    "            "
   ]
  },
  {
   "cell_type": "code",
   "execution_count": 957,
   "metadata": {
    "ExecuteTime": {
     "end_time": "2021-02-24T08:03:08.494235Z",
     "start_time": "2021-02-24T08:03:08.486201Z"
    }
   },
   "outputs": [
    {
     "name": "stdout",
     "output_type": "stream",
     "text": [
      "2\n",
      "1\n",
      "4\n",
      "3\n"
     ]
    }
   ],
   "source": [
    "a = ListNode(1, ListNode(2, ListNode(3, ListNode(4))))\n",
    "s=Solution()\n",
    "t=s.swapPairs_v2(a)\n",
    "while t:\n",
    "    print(t.val)\n",
    "    t = t.next"
   ]
  },
  {
   "cell_type": "markdown",
   "metadata": {},
   "source": [
    "### [交换链表中的节点](https://leetcode-cn.com/problems/swapping-nodes-in-a-linked-list/submissions/)"
   ]
  },
  {
   "cell_type": "code",
   "execution_count": 64,
   "metadata": {
    "ExecuteTime": {
     "end_time": "2021-03-04T02:50:09.176070Z",
     "start_time": "2021-03-04T02:50:09.163020Z"
    }
   },
   "outputs": [],
   "source": [
    "class ListNode:\n",
    "    def __init__(self, val=0, next=None):\n",
    "        self.val = val\n",
    "        self.next = next\n",
    "class Solution:\n",
    "    def swapNodes(self, head: ListNode, k: int) -> ListNode:\n",
    "        \n",
    "        new_head = ListNode(None,head)\n",
    "        \n",
    "        #求链表长度\n",
    "        cur = new_head.next\n",
    "        nodeLen = 0 \n",
    "        while cur:\n",
    "            nodeLen += 1\n",
    "            cur = cur.next \n",
    "        # k = nodeLen%k\n",
    "        if nodeLen ==  k and nodeLen == 1:\n",
    "            return head \n",
    "        if k > nodeLen/2 and k<= nodeLen:    \n",
    "            k = nodeLen - k + 1\n",
    "        elif k > nodeLen:\n",
    "            k = 2*k -nodeLen - 1\n",
    "        if k == 0:\n",
    "            return head \n",
    "\n",
    "        # 确定两个结点的距离，方便快慢指针的移动\n",
    "        dis = nodeLen - 2*k + 1 \n",
    "        dis1 = nodeLen - 2*k + 1 \n",
    "        \n",
    "        # 快慢指针移动到要交换结点的前一个结点\n",
    "        \n",
    "        # 先移动快指针dis步\n",
    "        pred_f = new_head\n",
    "       \n",
    "        while dis>0:\n",
    "            pred_f = pred_f.next \n",
    "            dis -= 1 \n",
    "        \n",
    "        pred_s = new_head\n",
    "        \n",
    "        # 快慢指针同时移动k-1步\n",
    "        k -= 1\n",
    "        while k>0:\n",
    "            pred_f = pred_f.next\n",
    "            pred_s = pred_s.next\n",
    "            k -= 1\n",
    "        \n",
    "        if dis1 ==  1:\n",
    "            node1 = pred_s.next \n",
    "            node2 = pred_s.next.next \n",
    "            \n",
    "            pred_s.next = node2\n",
    "            node1.next = node2.next\n",
    "            node2.next =node1\n",
    "            \n",
    "        else:\n",
    "\n",
    "            node1 = ListNode(pred_s.next.val) \n",
    "            node2 = ListNode(pred_f.next.val) \n",
    "\n",
    "            node2.next = pred_s.next.next\n",
    "            pred_s.next = node2\n",
    "\n",
    "            node1.next = pred_f.next.next \n",
    "            pred_f.next = node1 \n",
    "        return new_head.next   \n",
    "    def swapNodes_v2(self, head: ListNode, k: int) -> ListNode:\n",
    "        \"\"\"别人的解法\"\"\"\n",
    "        p,q,n = head,head,head \n",
    "        i = 1\n",
    "        while n:\n",
    "            if i<k:\n",
    "                p = p.next \n",
    "            if i>k:\n",
    "                q = q.next \n",
    "            n = n.next \n",
    "            i +=1\n",
    "\n",
    "        p.val,q.val = q.val,p.val\n",
    "        return head "
   ]
  },
  {
   "cell_type": "code",
   "execution_count": 65,
   "metadata": {
    "ExecuteTime": {
     "end_time": "2021-03-04T02:50:10.786413Z",
     "start_time": "2021-03-04T02:50:10.780421Z"
    }
   },
   "outputs": [
    {
     "name": "stdout",
     "output_type": "stream",
     "text": [
      "2\n",
      "1\n"
     ]
    }
   ],
   "source": [
    "# a = ListNode(1, ListNode(2, ListNode(3, ListNode(4))))\n",
    "a = ListNode(1, ListNode(2))\n",
    "s=Solution()\n",
    "t=s.swapNodes_v2(a,2)\n",
    "index = 10\n",
    "while t and index>0:\n",
    "    print(t.val)\n",
    "    t = t.next\n",
    "    index -=1 "
   ]
  },
  {
   "cell_type": "markdown",
   "metadata": {},
   "source": [
    "### [旋转链表](https://leetcode-cn.com/problems/rotate-list/)"
   ]
  },
  {
   "cell_type": "code",
   "execution_count": 970,
   "metadata": {
    "ExecuteTime": {
     "end_time": "2021-02-24T08:41:21.921221Z",
     "start_time": "2021-02-24T08:41:21.912219Z"
    },
    "run_control": {
     "marked": true
    }
   },
   "outputs": [],
   "source": [
    "# Definition for singly-linked list.\n",
    "class ListNode:\n",
    "    def __init__(self, val=0, next=None):\n",
    "        self.val = val\n",
    "        self.next = next\n",
    "class Solution:\n",
    "    def rotateRight(self, head: ListNode, k: int) -> ListNode:               \n",
    "       \n",
    "        if head is None or head.next is None:\n",
    "            return head\n",
    "        \n",
    "        nodes_len = 0 \n",
    "        cur = head\n",
    "        while cur:\n",
    "            nodes_len +=1\n",
    "            cur = cur.next \n",
    "        \n",
    "        if k%nodes_len == 0:\n",
    "            return head \n",
    "        \n",
    "        k1 = k%nodes_len\n",
    "        new_head = ListNode(None,head)\n",
    "        slow,fast = new_head,new_head\n",
    "        \n",
    "        while fast and k1>0:\n",
    "                fast = fast.next \n",
    "                k1 -= 1\n",
    "      \n",
    "        while fast.next:\n",
    "            slow = slow.next \n",
    "            fast = fast.next \n",
    "        \n",
    "        head_2 = slow.next \n",
    "        fast.next = new_head.next\n",
    "        slow.next  = None            \n",
    "        return head_2"
   ]
  },
  {
   "cell_type": "code",
   "execution_count": 971,
   "metadata": {
    "ExecuteTime": {
     "end_time": "2021-02-24T08:41:22.491511Z",
     "start_time": "2021-02-24T08:41:22.485555Z"
    }
   },
   "outputs": [
    {
     "name": "stdout",
     "output_type": "stream",
     "text": [
      "4\n",
      "5\n",
      "1\n",
      "2\n",
      "3\n"
     ]
    }
   ],
   "source": [
    "a = ListNode(1, ListNode(2, ListNode(3, ListNode(4,ListNode(5)))))\n",
    "s=Solution()\n",
    "t=s.rotateRight(a,2)\n",
    "while t:\n",
    "    print(t.val)\n",
    "    t = t.next"
   ]
  },
  {
   "cell_type": "markdown",
   "metadata": {},
   "source": [
    "### [重排列表](https://leetcode-cn.com/problems/reorder-list/submissions/)"
   ]
  },
  {
   "cell_type": "code",
   "execution_count": 1008,
   "metadata": {
    "ExecuteTime": {
     "end_time": "2021-02-25T02:57:39.196676Z",
     "start_time": "2021-02-25T02:57:39.176627Z"
    }
   },
   "outputs": [],
   "source": [
    "# Definition for singly-linked list.\n",
    "class ListNode:\n",
    "    def __init__(self, val=0, next=None):\n",
    "        self.val = val\n",
    "        self.next = next\n",
    "class Solution:\n",
    "    def reorderList_v2(self, head: ListNode) -> None:\n",
    "        \"\"\"\n",
    "        Do not return anything, modify head in-place instead.\n",
    "        该递归的时间复杂度太高，是O^2\n",
    "        \"\"\"\n",
    "        if head and head.next and head.next.next:\n",
    "            cur1 = head\n",
    "            slow,fast = head,head.next\n",
    "            while fast.next is not None:\n",
    "                fast = fast.next\n",
    "                slow = slow.next \n",
    "\n",
    "            slow.next = fast.next\n",
    "            fast.next = cur1.next\n",
    "            cur1.next = fast \n",
    "            \n",
    "            self.reorderList(cur1.next.next)\n",
    "   \n",
    "    def reorderList(self, head: ListNode) -> None:\n",
    "        \"\"\"\n",
    "        Do not return anything, modify head in-place instead.\n",
    "        \"\"\"\n",
    "        if head:\n",
    "                        \n",
    "            lst = []\n",
    "            node = head \n",
    "            while node:\n",
    "                lst.append(node)\n",
    "                node = node.next \n",
    "            \n",
    "            i,j = 0,len(lst)-1\n",
    "            while i<j:# 奇数个元素到此停止循环\n",
    "                lst[i].next = lst[j]\n",
    "                i += 1\n",
    "                        \n",
    "                if i == j:# 偶数个元素到此停止循环\n",
    "                    break \n",
    "                lst[j].next = lst[i]\n",
    "                j -= 1\n",
    "            lst[i].next = None"
   ]
  },
  {
   "cell_type": "code",
   "execution_count": 1006,
   "metadata": {
    "ExecuteTime": {
     "end_time": "2021-02-25T02:47:28.456180Z",
     "start_time": "2021-02-25T02:47:28.444178Z"
    }
   },
   "outputs": [
    {
     "name": "stdout",
     "output_type": "stream",
     "text": [
      "1\n",
      "6\n",
      "2\n",
      "5\n",
      "3\n",
      "4\n"
     ]
    }
   ],
   "source": [
    "a = ListNode(1, ListNode(2, ListNode(3, ListNode(4,ListNode(5,ListNode(6))))))\n",
    "s=Solution()\n",
    "s.reorderList(a)\n",
    "t=a\n",
    "while t:\n",
    "    print(t.val)\n",
    "    t = t.next"
   ]
  },
  {
   "cell_type": "markdown",
   "metadata": {},
   "source": [
    "### [设计链表](https://leetcode-cn.com/problems/design-linked-list/submissions/)"
   ]
  },
  {
   "cell_type": "code",
   "execution_count": 21,
   "metadata": {
    "ExecuteTime": {
     "end_time": "2021-03-03T11:55:16.975748Z",
     "start_time": "2021-03-03T11:55:16.965716Z"
    }
   },
   "outputs": [],
   "source": [
    "class ListNode:\n",
    "    def __init__(self, x):\n",
    "        self.val = x\n",
    "        self.next = None\n",
    "\n",
    "class MyLinkedList:\n",
    "    def __init__(self):\n",
    "        self.size = 0\n",
    "        self.head = ListNode(0)# 哑结点\n",
    "       \n",
    "\n",
    "    def get(self, index: int) -> int:\n",
    "        \n",
    "        if index<0 or index>=self.size:\n",
    "            return -1\n",
    "        \n",
    "        cur = self.head \n",
    "        \n",
    "        for _ in range(index+1):\n",
    "            cur = cur.next \n",
    "        return cur.val          \n",
    "            \n",
    "\n",
    "    def addAtHead(self, val: int) -> None:\n",
    "        \n",
    "        self.addAtIndex(0,val)\n",
    "        \n",
    "        \n",
    "\n",
    "    def addAtTail(self, val: int) -> None:\n",
    "        \n",
    "        self.addAtIndex(self.size,val)\n",
    "        \n",
    "\n",
    "    def addAtIndex(self, index: int, val: int) -> None:\n",
    "        \"\"\"在index对应节点前插入val：\n",
    "        如果index等于链表长度，在index-1节点后插入值；\n",
    "        如果 index<0,当做0；如果index超过链表长度，不插入\"\"\"\n",
    "        if index>self.size:\n",
    "            return \n",
    "        if index<0:\n",
    "            index = 0 \n",
    "        \n",
    "        self.size += 1\n",
    "        # 将结点n向前插入统一为结点n-1的向后插入\n",
    "        pred = self.head \n",
    "        for _ in range(index):\n",
    "            pred = pred.next \n",
    "            \n",
    "        # 进行插入操作\n",
    "        to_add = ListNode(val)\n",
    "        to_add.next = pred.next \n",
    "        pred.next = to_add             \n",
    "\n",
    "\n",
    "    def deleteAtIndex(self, index: int) -> None:\n",
    "        \"\"\"删除index对应节点的值：\n",
    "        如果index无效，则不删除\"\"\"\n",
    "        if index<0 or index>=self.size:\n",
    "            return \n",
    "        \n",
    "        self.size -= 1\n",
    "        pred = self.head \n",
    "        # 找到删除节点的前一结点\n",
    "        for _ in range(index):\n",
    "            pred = pred.next \n",
    "        # 连接被删除节点后的下一个结点\n",
    "        pred.next = pred.next.next "
   ]
  },
  {
   "cell_type": "code",
   "execution_count": 22,
   "metadata": {
    "ExecuteTime": {
     "end_time": "2021-03-03T11:55:17.442092Z",
     "start_time": "2021-03-03T11:55:17.432091Z"
    }
   },
   "outputs": [
    {
     "name": "stdout",
     "output_type": "stream",
     "text": [
      "1\n",
      "3\n",
      "4\n"
     ]
    },
    {
     "data": {
      "text/plain": [
       "3"
      ]
     },
     "execution_count": 22,
     "metadata": {},
     "output_type": "execute_result"
    }
   ],
   "source": [
    "linkedList = MyLinkedList()\n",
    "linkedList.addAtHead(1)\n",
    "linkedList.addAtTail(3)\n",
    "linkedList.addAtIndex(1,2)   #链表变为1-> 2-> 3\n",
    "linkedList.get(1)            #返回2\n",
    "linkedList.deleteAtIndex(1);  #现在链表是1-> 3\n",
    "\n",
    "linkedList.addAtIndex(2,4)\n",
    "cur = linkedList.head.next\n",
    "while cur:\n",
    "    print(cur.val)\n",
    "    cur = cur.next \n",
    "linkedList.get(1)            #返回3"
   ]
  },
  {
   "cell_type": "markdown",
   "metadata": {},
   "source": [
    "### [分隔链表](https://leetcode-cn.com/problems/split-linked-list-in-parts/)"
   ]
  },
  {
   "cell_type": "code",
   "execution_count": 105,
   "metadata": {
    "ExecuteTime": {
     "end_time": "2021-03-04T13:03:03.145398Z",
     "start_time": "2021-03-04T13:03:03.131369Z"
    }
   },
   "outputs": [],
   "source": [
    "class ListNode:\n",
    "    def __init__(self, x,next=None):\n",
    "        self.val = x\n",
    "        self.next = next\n",
    "\n",
    "class Solution:\n",
    "    def splitListToParts(self, root: ListNode, k: int) -> list:\n",
    "        nodes_list = []\n",
    "        \n",
    "        cur = root \n",
    "        n = 0 \n",
    "        while cur:\n",
    "            n +=1\n",
    "            cur = cur.next \n",
    "        \n",
    "        split_list = self.split_n_k(n,k)\n",
    "        head = root\n",
    "        for i in split_list:\n",
    "            if i>0:\n",
    "                head,nodes_list = self.split_nodes(head,i,nodes_list)\n",
    "            else:\n",
    "                nodes_list.append(None)\n",
    "        return nodes_list\n",
    "    \n",
    "    \n",
    "    def split_n_k(self,n,k):\n",
    "        div = n//k\n",
    "        mod = n%k\n",
    "        split_lst = [div]*k\n",
    "        for i in range(mod):\n",
    "            split_lst[i] += 1\n",
    "        return split_lst\n",
    "    \n",
    "    def split_nodes(self,head,k,nodes_list):\n",
    "             \n",
    "        cur = head \n",
    "        while cur is not None and k>1:\n",
    "            cur = cur.next \n",
    "            k -= 1\n",
    "        new_head = cur.next\n",
    "        if new_head is not None:\n",
    "            cur.next = None\n",
    "        nodes_list.append(head)\n",
    "        return new_head,nodes_list"
   ]
  },
  {
   "cell_type": "code",
   "execution_count": 106,
   "metadata": {
    "ExecuteTime": {
     "end_time": "2021-03-04T13:03:03.737371Z",
     "start_time": "2021-03-04T13:03:03.721364Z"
    }
   },
   "outputs": [
    {
     "data": {
      "text/plain": [
       "[[1], [2], [3], [4], [5], [6], [], [], []]"
      ]
     },
     "execution_count": 106,
     "metadata": {},
     "output_type": "execute_result"
    }
   ],
   "source": [
    "a = ListNode(1, ListNode(2, ListNode(3, ListNode(4,ListNode(5,ListNode(6))))))\n",
    "s=Solution()\n",
    "t = s.splitListToParts(a,9)\n",
    "def print_nodes(head):\n",
    "    lst = []\n",
    "    while head:\n",
    "        lst.append(head.val)\n",
    "        head =  head.next \n",
    "    return lst\n",
    "ss = []\n",
    "for i in t:\n",
    "    ss.append(print_nodes(i))\n",
    "ss  "
   ]
  },
  {
   "cell_type": "markdown",
   "metadata": {},
   "source": [
    "### [奇偶链表](https://leetcode-cn.com/problems/odd-even-linked-list/submissions/)"
   ]
  },
  {
   "cell_type": "code",
   "execution_count": 135,
   "metadata": {
    "ExecuteTime": {
     "end_time": "2021-03-04T13:45:46.016072Z",
     "start_time": "2021-03-04T13:45:46.010086Z"
    }
   },
   "outputs": [],
   "source": [
    "class ListNode:\n",
    "    def __init__(self, val=0, next=None):\n",
    "        self.val = val\n",
    "        self.next = next\n",
    "class Solution:\n",
    "    def oddEvenList(self, head: ListNode) -> ListNode:\n",
    "        if head is None:\n",
    "            return head \n",
    "        \n",
    "        evenhead = head.next\n",
    "        odd,even = head,evenhead\n",
    "        \n",
    "        while even and even.next:\n",
    "            odd.next = even.next \n",
    "            odd = odd.next \n",
    "            \n",
    "            even.next = odd.next \n",
    "            even = even.next \n",
    "        odd.next = evenhead\n",
    "        return head"
   ]
  },
  {
   "cell_type": "code",
   "execution_count": 137,
   "metadata": {
    "ExecuteTime": {
     "end_time": "2021-03-04T13:45:50.026035Z",
     "start_time": "2021-03-04T13:45:50.020071Z"
    }
   },
   "outputs": [
    {
     "name": "stdout",
     "output_type": "stream",
     "text": [
      "1\n",
      "3\n",
      "5\n",
      "2\n",
      "4\n",
      "6\n"
     ]
    }
   ],
   "source": [
    "a = ListNode(1, ListNode(2, ListNode(3, ListNode(4,ListNode(5,ListNode(6))))))\n",
    "s=Solution()\n",
    "s.oddEvenList(a)\n",
    "t=a\n",
    "while t:\n",
    "    print(t.val)\n",
    "    t = t.next"
   ]
  },
  {
   "cell_type": "markdown",
   "metadata": {
    "ExecuteTime": {
     "end_time": "2021-03-05T06:46:57.305161Z",
     "start_time": "2021-03-05T06:46:57.298165Z"
    }
   },
   "source": [
    "### [链表组件个数](https://leetcode-cn.com/problems/linked-list-components/submissions/)"
   ]
  },
  {
   "cell_type": "code",
   "execution_count": 226,
   "metadata": {
    "ExecuteTime": {
     "end_time": "2021-03-05T08:10:07.510556Z",
     "start_time": "2021-03-05T08:10:07.496552Z"
    }
   },
   "outputs": [],
   "source": [
    "class ListNode:\n",
    "    def __init__(self, val=0, next=None):\n",
    "        self.val = val\n",
    "        self.next = next\n",
    "\n",
    "class Solution:          \n",
    "                \n",
    "    def max_continueSubNodes(self, head: ListNode, G: list) -> int:\n",
    "        \"\"\"链表最长组件\"\"\"\n",
    "        index = 0\n",
    "        last_nodes = 0\n",
    "        while head or G:\n",
    "            while G and head and head.val in G:\n",
    "                val = head.val\n",
    "                index += 1\n",
    "                G.remove(val)\n",
    "                head = head.next \n",
    "            else:\n",
    "                if index>last_nodes:\n",
    "                    last_nodes = index\n",
    "                index = 0\n",
    "            if head:\n",
    "                head = head.next\n",
    "        \n",
    "        return last_nodes\n",
    "    \n",
    "    def numComponents(self, head: ListNode, G: list) -> int:\n",
    "        \"\"\"链表连续组件的个数\"\"\"\n",
    "        s,f = head,head.next \n",
    "        if f is None:\n",
    "            return 1 \n",
    "        index = 0\n",
    "        while s and f:\n",
    "            if (s.val in G) and (f.val not in G):\n",
    "                index += 1\n",
    "                print('index',index)\n",
    "            s = s.next \n",
    "            f = f.next \n",
    "        if f is None and s.val in G:\n",
    "            index += 1\n",
    "        return index \n",
    "                "
   ]
  },
  {
   "cell_type": "code",
   "execution_count": 227,
   "metadata": {
    "ExecuteTime": {
     "end_time": "2021-03-05T08:10:12.636981Z",
     "start_time": "2021-03-05T08:10:12.629938Z"
    }
   },
   "outputs": [
    {
     "data": {
      "text/plain": [
       "1"
      ]
     },
     "execution_count": 227,
     "metadata": {},
     "output_type": "execute_result"
    }
   ],
   "source": [
    "G = [0,1,2,3,4]\n",
    "a = ListNode(0, ListNode(1,ListNode(2, ListNode(3, ListNode(4)))))\n",
    "s=Solution()\n",
    "s.numComponents(a,G)"
   ]
  },
  {
   "cell_type": "markdown",
   "metadata": {},
   "source": [
    "### [链表中的下一个更大结点](https://leetcode-cn.com/problems/next-greater-node-in-linked-list/)"
   ]
  },
  {
   "cell_type": "code",
   "execution_count": 235,
   "metadata": {
    "ExecuteTime": {
     "end_time": "2021-03-05T08:56:45.032728Z",
     "start_time": "2021-03-05T08:56:45.022695Z"
    }
   },
   "outputs": [],
   "source": [
    "import copy as cp \n",
    "class ListNode:\n",
    "    def __init__(self, val=0, next=None):\n",
    "        self.val = val\n",
    "        self.next = next\n",
    "        \n",
    "class Solution:\n",
    "    def nextLargerNodes(self, head: ListNode) -> list:\n",
    "        resverseHead = self.reverseList(head)\n",
    "        s,f = resverseHead,resverseHead.next\n",
    "        lst = [0]\n",
    "        \n",
    "        while f:\n",
    "            if f.val<s.val:\n",
    "                lst.append(s.val)\n",
    "            elif f.val>=max(lst):\n",
    "                lst.append(0)\n",
    "            else:\n",
    "                lst_cp = cp.copy(lst) \n",
    "                while lst_cp and f.val>=lst_cp[-1]:\n",
    "                    lst_cp.pop(-1)\n",
    "                else:\n",
    "                    lst.append(lst_cp[-1])\n",
    "\n",
    "            f = f.next \n",
    "            s = s.next \n",
    "            \n",
    "        return lst[::-1]\n",
    "    def reverseList(self, head: ListNode) -> ListNode:\n",
    "        p,res = head,None\n",
    "        \n",
    "        while p:\n",
    "            res,res.next,p = p, res, p.next \n",
    "        return res"
   ]
  },
  {
   "cell_type": "code",
   "execution_count": 237,
   "metadata": {
    "ExecuteTime": {
     "end_time": "2021-03-05T08:56:50.291217Z",
     "start_time": "2021-03-05T08:56:50.283222Z"
    }
   },
   "outputs": [
    {
     "data": {
      "text/plain": [
       "[7, 0, 5, 5, 0]"
      ]
     },
     "execution_count": 237,
     "metadata": {},
     "output_type": "execute_result"
    }
   ],
   "source": [
    "a = ListNode(2, ListNode(7,ListNode(4, ListNode(3, ListNode(5)))))\n",
    "s=Solution()\n",
    "s.nextLargerNodes(a)"
   ]
  },
  {
   "cell_type": "markdown",
   "metadata": {},
   "source": [
    "### [从链表中删去总和值为零的连续节点](https://leetcode-cn.com/problems/remove-zero-sum-consecutive-nodes-from-linked-list/submissions/)"
   ]
  },
  {
   "cell_type": "code",
   "execution_count": 288,
   "metadata": {
    "ExecuteTime": {
     "end_time": "2021-03-08T03:52:33.208019Z",
     "start_time": "2021-03-08T03:52:33.191013Z"
    }
   },
   "outputs": [],
   "source": [
    "class ListNode:\n",
    "    def __init__(self, val=0, next=None):\n",
    "        self.val = val\n",
    "        self.next = next\n",
    "        \n",
    "class Solution:\n",
    "    def removeZeroSumSublists(self, head: ListNode) -> ListNode:\n",
    "        \n",
    "        nodesLst = []\n",
    "        nodesSumLst = []\n",
    "        \n",
    "        while head:\n",
    "            val = head.val\n",
    "            \n",
    "            if val != 0:           \n",
    "                # 判断是否入栈\n",
    "\n",
    "                index = self.findaccuNodes(nodesSumLst,val)\n",
    "                if index is None:\n",
    "                    # 入栈\n",
    "                    nodesLst.append(val)\n",
    "                    nodesSumLst = self.addVal(nodesSumLst,val)\n",
    "                else:\n",
    "                    # 出栈\n",
    "                    if index == 0:\n",
    "                        nodesLst,nodesSumLst = [],[]\n",
    "                    else:\n",
    "                        nodesLst = nodesLst[:index]\n",
    "                        diffSumVal = nodesSumLst[index]\n",
    "                        nodesSumLst = [i-diffSumVal for i in nodesSumLst[:index]]\n",
    "            head = head.next \n",
    "        \n",
    "        new_head = ListNode(None)\n",
    "        cur = new_head\n",
    "        if nodesLst:\n",
    "            for i in nodesLst:\n",
    "                cur.next = ListNode(i)\n",
    "                cur = cur.next \n",
    "            \n",
    "        return new_head.next\n",
    "    \n",
    "    def findaccuNodes(self,sumList,val):\n",
    "        for i,_ in enumerate(sumList):\n",
    "            if val + _ == 0:\n",
    "                return i\n",
    "        else:\n",
    "            return None \n",
    "    def addVal(self,sumList,val):\n",
    "        return [i + val for i in sumList] + [val]"
   ]
  },
  {
   "cell_type": "code",
   "execution_count": 290,
   "metadata": {
    "ExecuteTime": {
     "end_time": "2021-03-08T03:52:40.573750Z",
     "start_time": "2021-03-08T03:52:40.568778Z"
    }
   },
   "outputs": [
    {
     "name": "stdout",
     "output_type": "stream",
     "text": [
      "1\n",
      "-2\n"
     ]
    }
   ],
   "source": [
    "a = ListNode(1, ListNode(2, ListNode(3, ListNode(-5,ListNode(-2)))))\n",
    "s=Solution()\n",
    "t=s.removeZeroSumSublists(a)\n",
    "while t:\n",
    "    print(t.val)\n",
    "    t = t.next"
   ]
  },
  {
   "cell_type": "markdown",
   "metadata": {},
   "source": [
    "### [ 对链表进行插入排序](https://leetcode-cn.com/problems/insertion-sort-list/submissions/)"
   ]
  },
  {
   "cell_type": "code",
   "execution_count": 301,
   "metadata": {
    "ExecuteTime": {
     "end_time": "2021-03-09T09:16:56.441556Z",
     "start_time": "2021-03-09T09:16:56.435556Z"
    }
   },
   "outputs": [],
   "source": [
    "class ListNode:\n",
    "    def __init__(self, val=0, next=None):\n",
    "        self.val = val\n",
    "        self.next = next\n",
    "class Solution:\n",
    "    def insertionSortList(self, head: ListNode) -> ListNode:\n",
    "        if head is None or head.next is None:\n",
    "            return head \n",
    "        \n",
    "        dummy = ListNode(None,head)\n",
    "        lastSortNode = dummy.next\n",
    "        curr = dummy.next.next\n",
    "        \n",
    "        while curr:\n",
    "            if lastSortNode.val<=curr.val:\n",
    "                lastSortNode = lastSortNode.next\n",
    "            else:\n",
    "                prev = dummy \n",
    "                while prev.next.val< curr.val:\n",
    "                    prev = prev.next \n",
    "                    \n",
    "                lastSortNode.next = curr.next\n",
    "                curr.next = prev.next \n",
    "                prev.next = curr\n",
    "            curr = lastSortNode.next\n",
    "        return dummy.next"
   ]
  },
  {
   "cell_type": "code",
   "execution_count": 302,
   "metadata": {
    "ExecuteTime": {
     "end_time": "2021-03-09T09:16:56.699560Z",
     "start_time": "2021-03-09T09:16:56.694560Z"
    }
   },
   "outputs": [
    {
     "name": "stdout",
     "output_type": "stream",
     "text": [
      "1\n",
      "2\n",
      "3\n",
      "4\n"
     ]
    }
   ],
   "source": [
    "a = ListNode(4, ListNode(2, ListNode(1, ListNode(3))))\n",
    "s=Solution()\n",
    "t=s.insertionSortList(a)\n",
    "while t:\n",
    "    print(t.val)\n",
    "    t = t.next"
   ]
  },
  {
   "cell_type": "markdown",
   "metadata": {},
   "source": [
    "### [判断链表是否有环](https://leetcode-cn.com/problems/linked-list-cycle/submissions/)"
   ]
  },
  {
   "cell_type": "code",
   "execution_count": 14,
   "metadata": {
    "ExecuteTime": {
     "end_time": "2021-03-10T08:17:43.971796Z",
     "start_time": "2021-03-10T08:17:43.965764Z"
    },
    "run_control": {
     "marked": true
    }
   },
   "outputs": [],
   "source": [
    "class ListNode:\n",
    "    def __init__(self, x,nextN=None):\n",
    "        self.val = x\n",
    "        self.next = nextN\n",
    "\n",
    "class Solution:\n",
    "    def hasCycle(self, head: ListNode) -> bool:\n",
    "        if head is None or head.next is None:\n",
    "            return False\n",
    "        slow = head \n",
    "        fast = head.next \n",
    "        \n",
    "        while slow != fast:\n",
    "            if fast is None or fast.next is None:\n",
    "                return False\n",
    "            slow = slow.next \n",
    "            fast = fast.next.next \n",
    "        return True"
   ]
  },
  {
   "cell_type": "code",
   "execution_count": 16,
   "metadata": {
    "ExecuteTime": {
     "end_time": "2021-03-10T08:17:53.721516Z",
     "start_time": "2021-03-10T08:17:53.714517Z"
    }
   },
   "outputs": [
    {
     "data": {
      "text/plain": [
       "True"
      ]
     },
     "execution_count": 16,
     "metadata": {},
     "output_type": "execute_result"
    }
   ],
   "source": [
    "a = ListNode(3, ListNode(2, ListNode(0, ListNode(-4))))\n",
    "cur = a \n",
    "cycle_node = a.next\n",
    "while cur.next is not None:\n",
    "    cur = cur.next \n",
    "cur.next = cycle_node\n",
    "\n",
    "s=Solution()\n",
    "s.hasCycle(a)"
   ]
  },
  {
   "cell_type": "markdown",
   "metadata": {},
   "source": [
    "### [环形链表 II](https://leetcode-cn.com/problems/linked-list-cycle-ii/submissions/)"
   ]
  },
  {
   "cell_type": "code",
   "execution_count": 37,
   "metadata": {
    "ExecuteTime": {
     "end_time": "2021-03-10T09:24:18.835674Z",
     "start_time": "2021-03-10T09:24:18.828685Z"
    }
   },
   "outputs": [],
   "source": [
    "class ListNode:\n",
    "    def __init__(self, x,nextN=None):\n",
    "        self.val = x\n",
    "        self.next = nextN\n",
    "\n",
    "class Solution:\n",
    "    def detectCycle(self, head: ListNode)-> ListNode:\n",
    "        if head is None or head.next is None:\n",
    "            return None\n",
    "        slow = head \n",
    "        fast = head.next \n",
    "        \n",
    "        while slow != fast:\n",
    "            if fast is None or fast.next is None:\n",
    "                return None\n",
    "            slow = slow.next \n",
    "            fast = fast.next.next\n",
    "\n",
    "        ptr = head\n",
    "        slow = slow.next\n",
    "        while ptr != slow:\n",
    "            ptr = ptr.next \n",
    "            slow = slow.next \n",
    "        return ptr\n",
    "    def detectCycle_v2(self, head: ListNode)-> ListNode:\n",
    "        if head is None or head.next is None:\n",
    "            return None\n",
    "        s = set()\n",
    "        while head:\n",
    "            if head not in s:\n",
    "                s.add(head)\n",
    "            else:\n",
    "                return head \n",
    "            head = head.next \n",
    "        else:\n",
    "            return None"
   ]
  },
  {
   "cell_type": "code",
   "execution_count": 38,
   "metadata": {
    "ExecuteTime": {
     "end_time": "2021-03-10T09:24:23.638060Z",
     "start_time": "2021-03-10T09:24:23.630026Z"
    }
   },
   "outputs": [
    {
     "data": {
      "text/plain": [
       "2"
      ]
     },
     "execution_count": 38,
     "metadata": {},
     "output_type": "execute_result"
    }
   ],
   "source": [
    "a = ListNode(3, ListNode(2, ListNode(0, ListNode(-4))))\n",
    "cur = a \n",
    "cycle_node = a.next\n",
    "while cur.next is not None:\n",
    "    cur = cur.next \n",
    "cur.next = cycle_node\n",
    "\n",
    "s=Solution()\n",
    "t=s.detectCycle_v2(a)\n",
    "t.val"
   ]
  },
  {
   "cell_type": "code",
   "execution_count": null,
   "metadata": {},
   "outputs": [],
   "source": []
  }
 ],
 "metadata": {
  "kernelspec": {
   "display_name": "Python 3 (ipykernel)",
   "language": "python",
   "name": "python3"
  },
  "language_info": {
   "codemirror_mode": {
    "name": "ipython",
    "version": 3
   },
   "file_extension": ".py",
   "mimetype": "text/x-python",
   "name": "python",
   "nbconvert_exporter": "python",
   "pygments_lexer": "ipython3",
   "version": "3.10.1"
  },
  "toc": {
   "base_numbering": 1,
   "nav_menu": {},
   "number_sections": true,
   "sideBar": true,
   "skip_h1_title": false,
   "title_cell": "Table of Contents",
   "title_sidebar": "Contents",
   "toc_cell": false,
   "toc_position": {
    "height": "100px",
    "left": "61px",
    "top": "110px",
    "width": "457px"
   },
   "toc_section_display": true,
   "toc_window_display": true
  }
 },
 "nbformat": 4,
 "nbformat_minor": 2
}
