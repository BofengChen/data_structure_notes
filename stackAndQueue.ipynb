{
 "cells": [
  {
   "cell_type": "markdown",
   "metadata": {},
   "source": [
    "## 正确字符串判断"
   ]
  },
  {
   "cell_type": "code",
   "execution_count": 1,
   "metadata": {
    "ExecuteTime": {
     "end_time": "2019-10-14T04:12:32.973019Z",
     "start_time": "2019-10-14T04:12:32.962040Z"
    }
   },
   "outputs": [],
   "source": [
    "def str_to_list(sample):\n",
    "    assert type(sample)==str\n",
    "    p = ['{}','[]','()']\n",
    "    strToInt = {}\n",
    "    for i in range(len(p)):\n",
    "        strToInt.update({p[i][0]: i+1, p[i][1]:-(i+1)})\n",
    "    \n",
    "    sample_list = [strToInt[_] for _ in sample]\n",
    "    return sample_list\n",
    "    \n",
    "\n",
    "def stack_right_str(sample):\n",
    "    if sample == '':\n",
    "        return True\n",
    "    elif len(sample)%2 != 0:\n",
    "        return False\n",
    "    else:\n",
    "        sample_list = str_to_list(sample)\n",
    "        stack_list = []\n",
    "        print('origin sample is',sample_list)\n",
    "        a = 0\n",
    "        while len(sample_list) != 0:\n",
    "            \n",
    "            end = sample_list.pop(-1)\n",
    "            \n",
    "            if len(stack_list) == 0 or stack_list[-1] != -end:\n",
    "                stack_list.append(end)\n",
    "            else:\n",
    "                stack_list.pop(-1)\n",
    "                \n",
    "            a += 1\n",
    "            step_k = 'step {}'.format(a)\n",
    "            print(step_k,stack_list)\n",
    "            print(step_k,sample_list)\n",
    "\n",
    "        if len(stack_list) !=0:\n",
    "            return False\n",
    "        else:\n",
    "            return True"
   ]
  },
  {
   "cell_type": "code",
   "execution_count": 3,
   "metadata": {
    "ExecuteTime": {
     "end_time": "2019-10-14T04:12:44.900130Z",
     "start_time": "2019-10-14T04:12:44.891157Z"
    }
   },
   "outputs": [
    {
     "name": "stdout",
     "output_type": "stream",
     "text": [
      "origin sample is [1, -1, 2, 1, 3, -3, -1, -2]\n",
      "step 1 [-2]\n",
      "step 1 [1, -1, 2, 1, 3, -3, -1]\n",
      "step 2 [-2, -1]\n",
      "step 2 [1, -1, 2, 1, 3, -3]\n",
      "step 3 [-2, -1, -3]\n",
      "step 3 [1, -1, 2, 1, 3]\n",
      "step 4 [-2, -1]\n",
      "step 4 [1, -1, 2, 1]\n",
      "step 5 [-2]\n",
      "step 5 [1, -1, 2]\n",
      "step 6 []\n",
      "step 6 [1, -1]\n",
      "step 7 [-1]\n",
      "step 7 [1]\n",
      "step 8 []\n",
      "step 8 []\n"
     ]
    },
    {
     "data": {
      "text/plain": [
       "True"
      ]
     },
     "execution_count": 3,
     "metadata": {},
     "output_type": "execute_result"
    }
   ],
   "source": [
    "stack_right_str('{}[{()}]')"
   ]
  },
  {
   "cell_type": "code",
   "execution_count": null,
   "metadata": {},
   "outputs": [],
   "source": []
  }
 ],
 "metadata": {
  "hide_input": false,
  "kernelspec": {
   "display_name": "Python 3",
   "language": "python",
   "name": "python3"
  },
  "language_info": {
   "codemirror_mode": {
    "name": "ipython",
    "version": 3
   },
   "file_extension": ".py",
   "mimetype": "text/x-python",
   "name": "python",
   "nbconvert_exporter": "python",
   "pygments_lexer": "ipython3",
   "version": "3.7.3"
  },
  "toc": {
   "base_numbering": 1,
   "nav_menu": {},
   "number_sections": true,
   "sideBar": true,
   "skip_h1_title": false,
   "title_cell": "Table of Contents",
   "title_sidebar": "Contents",
   "toc_cell": false,
   "toc_position": {},
   "toc_section_display": true,
   "toc_window_display": true
  },
  "varInspector": {
   "cols": {
    "lenName": 16,
    "lenType": 16,
    "lenVar": 40
   },
   "kernels_config": {
    "python": {
     "delete_cmd_postfix": "",
     "delete_cmd_prefix": "del ",
     "library": "var_list.py",
     "varRefreshCmd": "print(var_dic_list())"
    },
    "r": {
     "delete_cmd_postfix": ") ",
     "delete_cmd_prefix": "rm(",
     "library": "var_list.r",
     "varRefreshCmd": "cat(var_dic_list()) "
    }
   },
   "types_to_exclude": [
    "module",
    "function",
    "builtin_function_or_method",
    "instance",
    "_Feature"
   ],
   "window_display": false
  }
 },
 "nbformat": 4,
 "nbformat_minor": 2
}
