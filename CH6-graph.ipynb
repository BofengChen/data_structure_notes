{
 "cells": [
  {
   "cell_type": "markdown",
   "metadata": {},
   "source": [
    "# 图的概念和性质"
   ]
  },
  {
   "cell_type": "markdown",
   "metadata": {},
   "source": [
    "## 定义和图示"
   ]
  },
  {
   "cell_type": "markdown",
   "metadata": {},
   "source": [
    "一个图是一个二元组 G = (V,E)。其中：\n",
    "* V 是非空有穷的顶点集合；\n",
    "* E是顶点与顶点之间的边的集合，$E \\subseteq V\\times V$；\n",
    "* V 的顶点也称为 图 G 的顶点；E 的边也称为 图 G 的边。"
   ]
  },
  {
   "cell_type": "markdown",
   "metadata": {},
   "source": [
    "图按照 **边是否有方向** 分为 有向图 和 无向图：\n",
    "* 用 $<v_i,v_j>$ 表示从 $v_i$ 到 $v_j$ 的有向边；用 $(v_i,v_j)$ 表示无向边。\n",
    "\n",
    "* 如果图G 里有 $<v_i,v_j>\\in E$, 称 $v_j$ 为 $v_i$ 的邻接点，称对应的边为邻接边(无向图里邻接关系是双向的)；\n",
    "\n",
    "* 不考虑点到自身的边，即 $<v_i,v_j>,i\\neq j$；两个顶点有且仅有唯一的一条边。\n"
   ]
  },
  {
   "cell_type": "markdown",
   "metadata": {},
   "source": [
    "<img src='picture\\graph_1.png'>"
   ]
  },
  {
   "cell_type": "markdown",
   "metadata": {},
   "source": [
    "## 概念和性质"
   ]
  },
  {
   "cell_type": "markdown",
   "metadata": {},
   "source": [
    "****"
   ]
  },
  {
   "cell_type": "markdown",
   "metadata": {},
   "source": [
    "### 完全图"
   ]
  },
  {
   "cell_type": "markdown",
   "metadata": {},
   "source": [
    "**完全图**：任何两个顶点之间都有边的图。有性质：\n",
    "* n 个顶点的完全无向图 有 $n\\times (n-1)/2$ 条边；\n",
    "* n 个顶点的完全有向图 有 $n\\times (n-1)$ 条边。\n",
    "\n",
    "由此我们可知，$|E| = O(|V|^2)$，即边的个数上界可能达到顶点的平方。"
   ]
  },
  {
   "cell_type": "markdown",
   "metadata": {},
   "source": [
    "<img src='picture\\graph_2.png'>"
   ]
  },
  {
   "cell_type": "markdown",
   "metadata": {},
   "source": [
    "****"
   ]
  },
  {
   "cell_type": "markdown",
   "metadata": {},
   "source": [
    "### 度"
   ]
  },
  {
   "cell_type": "markdown",
   "metadata": {},
   "source": [
    "**顶点的度** 指的是和顶点邻接的边的条数。对有向图的顶点，还分 入度 和 出度，分别表示以该顶点 为 始点 或者 终点的边的数量。"
   ]
  },
  {
   "cell_type": "markdown",
   "metadata": {},
   "source": [
    "**性质1** 无论对于有向图还是无向图，顶点数 n 、边数 e 和 顶点度数满足如下关系：\n",
    "\n",
    "$$e = \\frac{1}{2}\\sum_i D(v_i)$$\n",
    "\n",
    "其中 $D(v_i)$ 是 顶点 $v_i$ 的度数。这里要求对所有顶点的度数求和。"
   ]
  },
  {
   "cell_type": "markdown",
   "metadata": {},
   "source": [
    "****"
   ]
  },
  {
   "cell_type": "markdown",
   "metadata": {},
   "source": [
    "### 路径"
   ]
  },
  {
   "cell_type": "markdown",
   "metadata": {},
   "source": [
    "**路径**：如果存在顶点序列 $v_{i_0},v_{i_1},v_{i_2},\\dots,v_{i_m}$，使得 $(v_{i_0},v_{i_1}),(v_{i_1},v_{i_2}),\\dots,(v_{i_{m-1}},v_{i_m})\\in E$。则称 从顶点 $v_{i_0}$ 到 $v_{i_m}$ 存在路径，并称$<v_{i_0},v_{i_1},v_{i_2},\\dots,v_{i_m}>$ 是 从顶点 $v_{i_0}$ 到 $v_{i_m}$ 的一条路径。"
   ]
  },
  {
   "cell_type": "markdown",
   "metadata": {},
   "source": [
    "路径相关概念：\n",
    "* 路径的长度就是经过路径的边的数量；\n",
    "\n",
    "* 回路(环) 指的就是 起点 和 终点 相同的路径；\n",
    "\n",
    "* 如果除了 起点和终点其他顶点均不相同，称为 简单回路；\n",
    "\n",
    "* 简单路径 指的是 内部不包含回路的路径。"
   ]
  },
  {
   "cell_type": "markdown",
   "metadata": {},
   "source": [
    "**有根图**： 如果从某个顶点 v 到其他所有顶点均有路径，称 G 为有根图，称 v 为 G 的一个根。"
   ]
  },
  {
   "cell_type": "markdown",
   "metadata": {},
   "source": [
    "****"
   ]
  },
  {
   "cell_type": "markdown",
   "metadata": {},
   "source": [
    "### 连通图"
   ]
  },
  {
   "cell_type": "markdown",
   "metadata": {},
   "source": [
    "* **连通**：如果在无向图 G 中存在 从 $v_i$ 到 $v_j$ 的路径，则称 $v_i$ 到 $v_j$ 连通；\n",
    "\n",
    "* **连通无向图**：如果 图 G 中任意两个顶点都连通，称 G 为 连通无向图； \n",
    "\n",
    "* **强连通有向图**：如果 有向图 G 中任意两个顶点 从 $v_i$ 到 $v_j$ 连通 以及 从 $v_j$ 到 $v_i$ 连通 ，称 G 为 强连通有向图。"
   ]
  },
  {
   "cell_type": "markdown",
   "metadata": {},
   "source": [
    "完全无向图 都是连通无向图，完全有向图都是强连通有向图。但反过来不是，看如下图示。"
   ]
  },
  {
   "cell_type": "markdown",
   "metadata": {},
   "source": [
    "**性质**\n",
    "\n",
    "* 包含 n 个顶点的最小连通无向图 G 恰有  n-1 条边；\n",
    "\n",
    "* 包含 n 个顶点的最小有根图 G 恰有  n-1 条边；"
   ]
  },
  {
   "cell_type": "markdown",
   "metadata": {},
   "source": [
    "****"
   ]
  },
  {
   "cell_type": "markdown",
   "metadata": {},
   "source": [
    "### 子图和连通子图"
   ]
  },
  {
   "cell_type": "markdown",
   "metadata": {},
   "source": [
    "* **子图**： 对于 图 $G = (V,E)$ 和 $G^\\prime = (V^\\prime,E^\\prime)$，如果 $V^\\prime\\in V$ 并且 $E^\\prime\\in E$，则称 $G^\\prime$ 是 G 的一个子图；\n",
    "* **连通子图**：一个图可能不是连通图，但其子图可能是连通的，称子图为连通子图；\n",
    "* **极大连通子图**：一个图 G 的极大连通子图(连通分量)  $G^\\prime$ 是 G 的一个子图，并且不存在 真包含  $G^\\prime$ 的连通子图。"
   ]
  },
  {
   "cell_type": "markdown",
   "metadata": {},
   "source": [
    "下面是有向图 $G_1$ 的几个子图：\n",
    "\n",
    "<img src='picture\\graph_4.png'>"
   ]
  },
  {
   "cell_type": "markdown",
   "metadata": {},
   "source": [
    "****"
   ]
  },
  {
   "cell_type": "markdown",
   "metadata": {},
   "source": [
    "### 带权图和网络"
   ]
  },
  {
   "cell_type": "markdown",
   "metadata": {
    "ExecuteTime": {
     "end_time": "2021-06-22T09:15:07.214244Z",
     "start_time": "2021-06-22T09:15:07.194211Z"
    }
   },
   "source": [
    "图 G 的每条边都被赋予一个权值，则称图 G 为带权图；带权的 连通无向图称为 网络。"
   ]
  },
  {
   "cell_type": "markdown",
   "metadata": {},
   "source": [
    "<img src='picture\\graph_5.png'>"
   ]
  },
  {
   "cell_type": "markdown",
   "metadata": {},
   "source": [
    "## 图的抽象数据表示"
   ]
  },
  {
   "cell_type": "markdown",
   "metadata": {},
   "source": [
    "定义：\n",
    "1. 图构建操作，创建一个新图；\n",
    "\n",
    "2. 判断是否为一个空图；\n",
    "\n",
    "3. 获得这个图的顶点个数；\n",
    "\n",
    "4. 获得这个图的边数量；\n",
    "\n",
    "5. 获得这个图的顶点集合；\n",
    "\n",
    "6. 获得这个图的边集合；\n",
    "\n",
    "7. 将顶点 v 加入这个图;\n",
    "\n",
    "8. 将从 顶点 $v_1$ 到 $v_2$ 的边加入这个图;\n",
    "\n",
    "9. 获得 顶点 $v_1$ 到 $v_2$ 边有关的信息，无返回 None；\n",
    "\n",
    "10. 获得 顶点 v 的所有边；\n",
    "\n",
    "11. 检查顶点 v 的度。"
   ]
  },
  {
   "cell_type": "markdown",
   "metadata": {},
   "source": [
    "## 图的表示和实现"
   ]
  },
  {
   "cell_type": "markdown",
   "metadata": {},
   "source": [
    "### 邻接矩阵"
   ]
  },
  {
   "cell_type": "markdown",
   "metadata": {},
   "source": [
    "图的最基本表示法是邻接矩阵表示法，邻接矩阵是表示图中顶点间邻接关系的矩阵。\n",
    "\n",
    "对于n个顶点的图 G=(V,E),邻接矩阵是一个 $n\\times n$ 方阵。图中每个顶点（按顺序）对于矩阵的一行一列，矩阵元素表示图中的邻接关系，即边的相关信息。"
   ]
  },
  {
   "cell_type": "markdown",
   "metadata": {},
   "source": [
    "最简单的邻接矩阵是以 0/1 为元素的方阵。图 G 对应的邻接矩阵是"
   ]
  },
  {
   "cell_type": "markdown",
   "metadata": {},
   "source": [
    "\\begin{equation}\n",
    "A_{ij}=\\left \\{\n",
    "\\begin{array}{lr}\n",
    "1  & \\mbox{如果顶点 }v_i\\mbox{到} v_j \\mbox{有边}\\\\\n",
    "0  & \\mbox{如果顶点 }v_i\\mbox{到} v_j \\mbox{无边}\n",
    "\\end{array}\n",
    "\\right.\n",
    "\\end{equation}"
   ]
  },
  {
   "cell_type": "markdown",
   "metadata": {},
   "source": [
    "对于带权图，对应的邻接矩阵是\n",
    "\n",
    "\\begin{equation}\n",
    "A_{ij}=\\left \\{\n",
    "\\begin{array}{lr}\n",
    "w(i,j)  & \\mbox{如果顶点 }v_i\\mbox{到} v_j \\mbox{有边，且改边的权是}w(i,j)\\\\\n",
    "0  \\mbox{或 } \\infty & \\mbox{如果顶点}v_i\\mbox{到} v_j \\mbox{无边}\n",
    "\\end{array}\n",
    "\\right.\n",
    "\\end{equation}"
   ]
  },
  {
   "cell_type": "markdown",
   "metadata": {},
   "source": [
    "对于无边的情况，用 0 还是 $\\infty$ 表示要根据实际情况。"
   ]
  },
  {
   "cell_type": "markdown",
   "metadata": {},
   "source": [
    "<img src='picture\\graph_2.png'>"
   ]
  },
  {
   "cell_type": "markdown",
   "metadata": {},
   "source": [
    "$G_3,G_4$ 对应的邻接矩阵是：\n",
    "<img src='picture\\graph_6.png'>"
   ]
  },
  {
   "cell_type": "markdown",
   "metadata": {},
   "source": [
    "1. 易见，无向图的邻接矩阵是对称的，有向图不一定；\n",
    "2. 因为没有考虑自身到自身的边，所以对角线元素都是0；如果希望用邻接矩阵表示连通关系，对角线元素要设为1；\n",
    "3. 邻接矩阵标号为 i 的一行 和 一列 对应顶点 i，行对应于 它的出边，列对应于 它的入边。行/列 非零元素的个数 表示 它的 出度/入度。"
   ]
  },
  {
   "cell_type": "markdown",
   "metadata": {},
   "source": [
    "**邻接表示矩阵的缺点**"
   ]
  },
  {
   "cell_type": "markdown",
   "metadata": {},
   "source": [
    "图的邻接关系经常是比较稀疏的，即 顶点数量和 边数量 一般是线性关系，而不是平方关系，所以用邻接矩阵表示对 空间开销和程序的时间开销浪费非常大。\n",
    "\n",
    "为了降低这种浪费，提出了很多其他表示法，都可看做对邻接矩阵的压缩，比如：\n",
    "\n",
    "1. 邻接表表示法；\n",
    "2. 邻接多重表表示法；\n",
    "3. 图的十字链表表示。\n",
    "\n",
    "下面主要介绍邻接表表示。"
   ]
  },
  {
   "cell_type": "markdown",
   "metadata": {},
   "source": [
    "### 图的邻接表表示"
   ]
  },
  {
   "cell_type": "markdown",
   "metadata": {},
   "source": [
    "邻接表：为图中的每一个顶点关联一个记录邻边信息的表。这样 ，一个记录所有顶点的表 + 每个顶点关联的边表 就构成一个图的表示。\n",
    "\n",
    "具体实现可以通过链接表 或者 连续表。"
   ]
  },
  {
   "cell_type": "markdown",
   "metadata": {
    "run_control": {
     "marked": true
    }
   },
   "source": [
    "有向图 $G_7$ 的邻接表表示：\n",
    "<img src='picture\\graph_7.png'>"
   ]
  },
  {
   "cell_type": "markdown",
   "metadata": {},
   "source": [
    "# 图结构的python 实现"
   ]
  },
  {
   "cell_type": "markdown",
   "metadata": {
    "ExecuteTime": {
     "end_time": "2021-06-23T09:54:45.114143Z",
     "start_time": "2021-06-23T09:54:45.108158Z"
    }
   },
   "source": [
    "## 邻接矩阵实现"
   ]
  },
  {
   "cell_type": "code",
   "execution_count": 3,
   "metadata": {
    "ExecuteTime": {
     "end_time": "2021-06-28T02:49:48.027931Z",
     "start_time": "2021-06-28T02:49:48.013975Z"
    }
   },
   "outputs": [],
   "source": [
    "class Graph:\n",
    "    def __init__(self,mat,unconn=0):# mat是初始矩阵，unconn是顶点之间无边时的默认值\n",
    "        vnum = len(mat)\n",
    "        for x in mat: # 检查是否为方阵\n",
    "            if len(x) != vnum:\n",
    "                raise ValueError('argument for grpah')\n",
    "        self._mat = [mat[i][:] for i in range(len(vnum))]\n",
    "        self._unconn = unconn\n",
    "        self._vnum = vnum\n",
    "    \n",
    "    def vertex_num(self):#顶点数量\n",
    "        return self._vnum \n",
    "    \n",
    "    def _invaild(self,v):#检查顶点的下标是否无效\n",
    "        return v<0 or v>self._vnum \n",
    "    \n",
    "    def add_vertex(self):# 暂不支持增加顶点\n",
    "        raise valueError(\"adj-matrix dose not support 'add_vertex'\")\n",
    "    \n",
    "    def add_edge(self,vi,vj,val=1):#增加一条边\n",
    "        if self._invaild(vi) or self._invaild(vj):\n",
    "            raise valueError(str(vi) + ' or ' + str(vj) +\"is not a valid vertex.\")\n",
    "        self._mat[vi][vj] = val \n",
    "    \n",
    "    def get_edges(self,vi,vj):\n",
    "        if self._invaild(vi) or self._invaild(vj):\n",
    "            raise valueError(str(vi) + ' or ' + str(vj) +\"is not a valid vertex.\")\n",
    "        return self._mat[vi][vj]\n",
    "    \n",
    "    def out_edges(self,vi):#获取顶点的出边\n",
    "        if self._invaild(vi):\n",
    "            raise valueError(str(vi) + \"is not a valid vertex.\")\n",
    "        return self._out_edges(self._mat[vi],self._unconn)\n",
    "    \n",
    "    @staticmethod\n",
    "    def _out_edges(row,unconn):\n",
    "        edges = []\n",
    "        for j in range(len(row)):\n",
    "            if row[j]!=unconn:\n",
    "                res.append((j,row[j]))\n",
    "        return edges        \n",
    "    \n",
    "    def __str__(self):\n",
    "        return \"[\\n\" + \",\\n\".join([map(str,self._mat)]) + \"\\n]\" + \"\\nUnconnected: \" + str(self._unconn)"
   ]
  },
  {
   "cell_type": "markdown",
   "metadata": {},
   "source": [
    "## 邻接表实现"
   ]
  },
  {
   "cell_type": "code",
   "execution_count": 4,
   "metadata": {
    "ExecuteTime": {
     "end_time": "2021-06-28T06:33:32.565231Z",
     "start_time": "2021-06-28T06:33:32.547201Z"
    }
   },
   "outputs": [],
   "source": [
    "class GraphAL(Graph):\n",
    "    def __init__(self,mat=[],unconn=0):# mat是初始矩阵，unconn是顶点之间无边时的默认值\n",
    "        vnum = len(mat)\n",
    "        for x in mat: # 检查是否为方阵\n",
    "            if len(x) != vnum:\n",
    "                raise ValueError('argument for grpahAL')\n",
    "        self._mat = [Graph._out_edges(mat[i],unconn) for i in range(vnum)]\n",
    "        self._unconn = unconn\n",
    "        self._vnum = vnum\n",
    "        \n",
    "    def add_vertex(self):# 增加顶点\n",
    "        self._mat.append([])\n",
    "        self._vnum += 1 # 长度+1\n",
    "        return self._vnum - 1 # 返回下标\n",
    "    \n",
    "        \n",
    "    def add_edge(self,vi,vj,val=1):#增加一条边\n",
    "        if self._vnum == 0:\n",
    "            raise valueError(\"can not add edge to empty graph.\")\n",
    "        if self._invaild(vi) or self._invaild(vj):\n",
    "            raise valueError(str(vi) + ' or ' + str(vj) +\"is not a valid vertex.\")\n",
    "        \n",
    "        row = self._mat[vi]\n",
    "        i = 0 \n",
    "        while i<len(row):\n",
    "            if row[i][0] == vj: ## row存储的是tuple\n",
    "                self._mat[vi][i] = (vj,val)\n",
    "            if row[i][0] > vj:# vi连接的顶点序号是递增的，没找到的话，就增加边\n",
    "                break \n",
    "            i += 1\n",
    "        self._mat[vi].insert(i,(vj,val))\n",
    "    \n",
    "    def get_edges(self,vi,vj):\n",
    "        if self._invaild(vi) or self._invaild(vj):\n",
    "            raise valueError(str(vi) + ' or ' + str(vj) +\"is not a valid vertex.\")\n",
    "            \n",
    "        for i,val in self._mat[vi]:\n",
    "            if i == vj:\n",
    "                return val \n",
    "        return self._unconn\n",
    "    \n",
    "    def out_edges(self,vi):#获取顶点的出边\n",
    "        if self._invaild(vi):\n",
    "            raise valueError(str(vi) + \"is not a valid vertex.\")\n",
    "        return self._mat[vi]"
   ]
  },
  {
   "cell_type": "markdown",
   "metadata": {},
   "source": [
    "# 基本图算法"
   ]
  },
  {
   "cell_type": "markdown",
   "metadata": {},
   "source": [
    "## 图的遍历"
   ]
  },
  {
   "cell_type": "markdown",
   "metadata": {},
   "source": [
    "**深度优先遍历**"
   ]
  },
  {
   "cell_type": "markdown",
   "metadata": {},
   "source": [
    "步骤：\n",
    "\n",
    "1. 首先访问顶点v，将其标记为已访问；\n",
    "\n",
    "2. 检查 v 的邻接顶点，从中选一个尚未访问的顶点，从它出发继续进行深度优先搜索(递归)，不存在这种邻接顶点时回溯(邻接顶点排了某种序)；\n",
    "\n",
    "3. 反复上述操作，直到 v 的所有邻接顶点都已访问(递归);\n",
    "\n",
    "4. 如果 图中还有未被访问的顶点，选出一个未访问顶点，由它出发重复前述过程，直到图中所有顶点都被访问为止。"
   ]
  },
  {
   "cell_type": "markdown",
   "metadata": {},
   "source": [
    "下面是深度优先遍历的非递归算法，从 v0 出发访问所有可达顶点："
   ]
  },
  {
   "cell_type": "code",
   "execution_count": 5,
   "metadata": {
    "ExecuteTime": {
     "end_time": "2021-07-01T08:24:28.879889Z",
     "start_time": "2021-07-01T08:24:28.819892Z"
    }
   },
   "outputs": [],
   "source": [
    "def DFS_graph(graph,v0):\n",
    "    vnums = graph.vertex_num()\n",
    "    verlabels = [0]*vnums # 对访问过的节点进行标记\n",
    "    verlabels[0] = 1\n",
    "    dfs_seq =[v0] # 记录已经访问过的顶点\n",
    "    sstack =[]\n",
    "    sstack.append((0,graph.out_edges(v0)))\n",
    "\n",
    "    while sstack != []:\n",
    "        i,edges = sstack.pop()\n",
    "        if i<len(edges): # i 是有效的index\n",
    "            v,e = edges[i]\n",
    "            sstack.append((i+1,edges)) # 下次将访问 edges 的 第 i+1 条边\n",
    "            if verlabels[v] == 0: # 如果 v 没有被访问\n",
    "                verlabels[v] = 1\n",
    "                dfs_seq.append(v)\n",
    "                sstack.append((0,graph.out_edges(v)))\n",
    "    return dfs_seq"
   ]
  },
  {
   "cell_type": "markdown",
   "metadata": {},
   "source": [
    "* 时间复杂度：对于顶点集V 和 边集 E，上述算法最耗时的操作是构造所有顶点的出边，对于 Graph 对象，构造所有出边的总耗时是 $O(|V|^2)$，对于 GraphAL 来说，总耗时是 $O(|E|)$；\n",
    "\n",
    "* 空间复杂度：$O(|V|)$"
   ]
  },
  {
   "cell_type": "markdown",
   "metadata": {},
   "source": [
    "**宽度优先遍历**"
   ]
  },
  {
   "cell_type": "markdown",
   "metadata": {},
   "source": [
    "步骤：\n",
    "\n",
    "1. 首先访问顶点 $v_i$，将其标记为已访问；\n",
    "\n",
    "2. 依次访问 $v_i$ 的相邻顶点 $v_{i_0},v_{i_1},v_{i_2},\\dots,v_{i_{m-1}}$  ，再依次访问所有和 $v_{i_0},v_{i_1},v_{i_2},\\dots,v_{i_{m-1}}$ 相邻的未访问顶点，直到所有可达顶点都已被访问;\n",
    "\n",
    "3. 如果 图中还有未被访问的顶点，选出一个未访问顶点，由它出发按同样方式进行宽度搜索，直到图中所有顶点都被访问为止。"
   ]
  },
  {
   "cell_type": "markdown",
   "metadata": {},
   "source": [
    "## 生成树"
   ]
  },
  {
   "cell_type": "markdown",
   "metadata": {},
   "source": [
    "本小节只考虑 连通无向图 和 强连通有向图(实际只要求有根有向图)。"
   ]
  },
  {
   "cell_type": "markdown",
   "metadata": {},
   "source": [
    "**性质**  \n",
    "图 G 有 n 个顶点，必然可找到 图 G 中包含 n-1 条边的边集合，包含 从 v0 到其他所有顶点的路径。"
   ]
  },
  {
   "cell_type": "markdown",
   "metadata": {},
   "source": [
    "图 G 满足上述性质的 n-1 条边 和所有顶点 构成了 图 G 的一个子图T，因为不包含回路，所有也构成了以 v0 为顶点的一棵树。称 图 T 为 图 G 的一棵**生成树**。"
   ]
  },
  {
   "cell_type": "markdown",
   "metadata": {},
   "source": [
    "**遍历和生成树**"
   ]
  },
  {
   "cell_type": "markdown",
   "metadata": {},
   "source": [
    "同样，可以得到 DFS 生成树 和 BFS 生成树。"
   ]
  },
  {
   "cell_type": "markdown",
   "metadata": {},
   "source": [
    "**构造DFS生成树**"
   ]
  },
  {
   "cell_type": "code",
   "execution_count": 7,
   "metadata": {
    "ExecuteTime": {
     "end_time": "2021-07-01T11:20:46.228297Z",
     "start_time": "2021-07-01T11:20:46.220292Z"
    }
   },
   "outputs": [],
   "source": [
    "def dfs_forest(graph):\n",
    "    vnum = graph.vertex_num()\n",
    "    forest = [None]*vnum \n",
    "\n",
    "    def dfs(graph,v): # 递归函数，在递归中记录经过的边\n",
    "        nonlocal forest\n",
    "        for u,w in graph.out_edges(v):\n",
    "            if forest[u] is None:\n",
    "                forest[u] = (v,w) # 记录 u 的上一顶点 和对应边的权重 w\n",
    "                dfs(graph,u)\n",
    "\n",
    "    for v in range(vnum):\n",
    "        if forest[v] is None:\n",
    "            forest[v] = (v,0)\n",
    "            dfs(graph,v)\n",
    "    return forest"
   ]
  },
  {
   "cell_type": "markdown",
   "metadata": {},
   "source": [
    "# 最小生成树"
   ]
  },
  {
   "cell_type": "markdown",
   "metadata": {
    "ExecuteTime": {
     "end_time": "2021-07-01T11:34:22.475118Z",
     "start_time": "2021-07-01T11:34:22.441115Z"
    }
   },
   "source": [
    "下面主要讨论带权图上的计算问题和相关算法。\n",
    "\n",
    "最小生成树：\n",
    "\n",
    "* 将 G 一棵生成树的各条边的权值和 称为 该 生成树的权；\n",
    "* 权值最小的树称为最小生成树。"
   ]
  },
  {
   "cell_type": "markdown",
   "metadata": {},
   "source": [
    "## Kruskal 算法"
   ]
  },
  {
   "cell_type": "markdown",
   "metadata": {},
   "source": [
    "设 G = (V,E) 是一个网络，其中 $|V|=n$。Kruskal构造最小生成树的过程是：\n",
    "\n",
    "1. 初始时取 G 的所有 n 个顶点但没有任何边的孤立子图 T=(V,{})，每个顶点构成一个单独的连通分量，后面我们通过扩充 T 中连通分量的形式来生成 G 的最小生成树；\n",
    "\n",
    "2. 将边集合 E 按照边的权重递增排序，在构造最小生成树的过程中，检查集合E，找到满足下面条件的最小边 e 加入 T ：\n",
    "    * 边 e 的两个顶点在 T 中应属于不同的两个连通分量\n",
    "    \n",
    "   e 加入 T 后，两个连通分量因为 e 的连接变成一个连通分量。\n",
    "\n",
    "3. 每次操作使得 T 减少一个连通分量，不断将新的边加入 T,直到下面两种情况之一停止：\n",
    "    * T 中所有的顶点在一个连通分量里，这个连通分量构成了G的最小生成树；\n",
    "    * 如果得不到一个包含G所有顶点的连通分量，则原图不连通，没有最小生成树。算法得到的是 G 的最小连通树林。\n"
   ]
  },
  {
   "cell_type": "markdown",
   "metadata": {},
   "source": [
    "**一个例子**  \n",
    "\n",
    "初始状态见图1\n",
    "1. 先选择最短边 (b,d),将其加入 T 得到图2;\n",
    "\n",
    "2. 有 长度为5的 (a,b)(a,d)两条边可以选择，任选一条比如 (a,d) 可以得到图T的新状态；同时，因为另一条边加入T无法减少连通分量，所以抛弃不考虑(这也说明最小生成树不唯一);\n",
    "\n",
    "3. 选择下一条长度为6的最短边 (c,f) 加入 T;\n",
    "\n",
    "4. 随后选择长度为7的 (c,d)(b,g) 加入T;\n",
    "\n",
    "5. 随后选择长度为8的 (g,e) 加入T.\n",
    "\n",
    "6. 此时正剩下一个连通分量，完成。"
   ]
  },
  {
   "cell_type": "markdown",
   "metadata": {},
   "source": [
    "<img src='picture\\graph_8.png'>"
   ]
  },
  {
   "cell_type": "markdown",
   "metadata": {},
   "source": [
    "**算法实现中的问题**"
   ]
  },
  {
   "cell_type": "markdown",
   "metadata": {},
   "source": [
    "考虑 Kruskal算法的抽象实现\n",
    "```python\n",
    "T = (V,{})\n",
    "\n",
    "while T 中所含边数少于 n-1:\n",
    "    从 E 中选取最短边(u,v),将它从 E 中删除\n",
    "    if (u,v) 两端点属于 T 的不同连通分量：\n",
    "        将 (u,v) 加入 T  \n",
    "```"
   ]
  },
  {
   "cell_type": "markdown",
   "metadata": {},
   "source": [
    "算法实现过程有2个问题需要解决：\n",
    "\n",
    "1. 最短边的选取有以下几种方法：\n",
    "    * 从剩下的边里遍历选最短的边；\n",
    "    * 事先将 E 进行排序顺序选取；\n",
    "    * 生成一个优先队列\n",
    "2. 判断两个顶点是否属于同一连通分量：\n",
    "    * 方法一：每次判断从顶点到另一顶点是否可达，但这样效率很低；\n",
    "    * 方法二：为每个顶点维护一个关于该顶点所在连通分量的代表元，两个顶点的代表元如果相同，则属于同一个连通分量。\n",
    "    \n",
    "如果选取的边对应顶点不在同一个连通分量，该边加入T则减少了T内的连通分量。可以将边顶点所在的两个连通分量合二为一，方法之一就是将其中一个连通分量的代表元全部替换成另外一个连通分量的代表元。"
   ]
  },
  {
   "cell_type": "markdown",
   "metadata": {},
   "source": [
    "**算法的python实现**"
   ]
  },
  {
   "cell_type": "code",
   "execution_count": 11,
   "metadata": {
    "ExecuteTime": {
     "end_time": "2021-07-03T10:09:18.439164Z",
     "start_time": "2021-07-03T10:09:18.424123Z"
    }
   },
   "outputs": [],
   "source": [
    "def Kruskal(graph):\n",
    "    vnum = graph.vertex_num()\n",
    "    mst,egdes = [],[] # mst用来存储构造 最小生成树过程中加入的边；edges用来存储图G的所有边\n",
    "    refs = [i for i in range(vnum)] # refs用来存储各个顶点所在连通图的代表元下标，初始时各个顶点的代表元即自身\n",
    "    \n",
    "    for vi in range(vnum): # 添加图G所有的边\n",
    "        for v,e in graph.out_edges(vi):\n",
    "            edges.append((e,vi,v))\n",
    "    \n",
    "    edges.sort() # 将边按照权重的值排序\n",
    "    \n",
    "    for e,vi,v in edges:\n",
    "                \n",
    "        ref,old_ref = refs[vi],refs[v]\n",
    "        if ref != old_ref: \n",
    "            if len(mst)== len(vnum)-1: # 如果mst已经完成 n-1条边的添加，构造结束\n",
    "                break\n",
    "                \n",
    "            mst.append(e,vi,v) \n",
    "            \n",
    "            for i in range(vnum): # 改变 v 对应连通分量的代表元\n",
    "                if refs[i] == old_ref:\n",
    "                    refs[i] = ref \n",
    "    return mst "
   ]
  },
  {
   "cell_type": "markdown",
   "metadata": {},
   "source": [
    "算法的复杂度：\n",
    "* 时间复杂度为 $max(O(|E|\\log|E|),O(|V|^2))$;\n",
    "* 空间复杂度为 $O(|E|)$。"
   ]
  },
  {
   "cell_type": "markdown",
   "metadata": {},
   "source": [
    "## Prim算法"
   ]
  },
  {
   "cell_type": "markdown",
   "metadata": {},
   "source": [
    "**MST性质**\n",
    "\n",
    "最小生成树有一个重要的MST性质，叙述如下：\n",
    "设 G=(V,E) 是一个网络， U 是 V 的一个真子集。设 $e=(u,v)\\in E \\& u\\in U,v\\in V-U$(即e 的一端端点在 U里，另一端不在)，而且\n",
    "\n",
    "$$e=\\min\\{(u,v)\\} \\quad where\\quad (u,v)\\in E \\& u\\in U,v\\in V-U$$\n",
    "\n",
    "则 G 一定有一棵包含 e 的最小生成树。"
   ]
  },
  {
   "cell_type": "markdown",
   "metadata": {},
   "source": [
    "**Prime 算法基本思想**"
   ]
  },
  {
   "cell_type": "markdown",
   "metadata": {},
   "source": [
    "1. 从一个顶点出发，加入U;\n",
    "2. 利用MST性质，选取从该顶点出发的最短边，并且扩充最短边对应的顶点到集合U;\n",
    "3. 再对U中顶点，继续步骤2的操作。直至U中包含了网络的所有顶点。"
   ]
  },
  {
   "cell_type": "markdown",
   "metadata": {},
   "source": [
    "下面是一个例子：\n",
    "<img src='picture\\graph_9.png'>"
   ]
  },
  {
   "cell_type": "code",
   "execution_count": 2,
   "metadata": {
    "ExecuteTime": {
     "end_time": "2021-07-06T11:49:44.209675Z",
     "start_time": "2021-07-06T11:49:44.201680Z"
    }
   },
   "outputs": [],
   "source": [
    "def Prim(graph):\n",
    "    vnum = graph.vertex_num()\n",
    "    mst = [None]*vnum # 记录已经是子图T的顶点\n",
    "    candidate = [(0,0,0)] # mst 中顶点对应的候选最短边集合，(w,vi,vj)  # 备注：用list代替优先队列\n",
    "    count = 1\n",
    "    while count<vnum and candidate != []:\n",
    "        w,vi,vj = candidate.pop()\n",
    "        if mst[vj]: # 如果 vj已经在mst里，跳过\n",
    "            continue\n",
    "        mst[vj] = ((vi,vj),w) \n",
    "        count += 1 \n",
    "        for v,e in graph.out_edges(vj):\n",
    "            if mst[v] is None: # 如果 v 不在mst，则说明其是候选边\n",
    "                candidate.append((e,vj,v)) # vj表示已经加入mst的顶点，v表示还未加入的顶点\n",
    "                candidate.sort(reverse=True) # 按照边的权重从大到小排列保证候选集合每次pop的元素是最短边\n",
    "    return mst"
   ]
  },
  {
   "cell_type": "markdown",
   "metadata": {},
   "source": [
    "时间复杂度和空间复杂度分别是：$O(|E|\\log|E|)$，$O(|E|)$。"
   ]
  },
  {
   "cell_type": "markdown",
   "metadata": {},
   "source": [
    "# 最短路径"
   ]
  },
  {
   "cell_type": "markdown",
   "metadata": {},
   "source": [
    "本节讨论的是 带权有向图 或 带权无向图 的最短路径问题。"
   ]
  },
  {
   "cell_type": "markdown",
   "metadata": {},
   "source": [
    "**一些定义**：\n",
    "\n",
    "1. 从 顶点 v 到顶点 $v^{\\prime}$ 的一条路径上各边的权重之和称为 该路径的长度；\n",
    "\n",
    "2. 从 v 到 $v^{\\prime}$ 所有路径中长度最短的路径就是 从 v 到 $v^{\\prime}$ 的最短路径，最短路径的长度记为 $dis(v,v^\\prime)$，称之为 从 v 到 $v^{\\prime}$  的距离。"
   ]
  },
  {
   "cell_type": "markdown",
   "metadata": {},
   "source": [
    "最短路径问题分为：\n",
    "\n",
    "1. 单源点最短路径(从一个顶点出发到图中其他顶点的最短路径问题)；\n",
    "2. 所有顶点之间的最短路径问题。\n",
    "\n",
    "下面针对这两个问题会分别提出2个算法。"
   ]
  },
  {
   "cell_type": "markdown",
   "metadata": {},
   "source": [
    "## 单源点最短路径的 Dijkstra 算法"
   ]
  },
  {
   "cell_type": "markdown",
   "metadata": {},
   "source": [
    "**基本想法**"
   ]
  },
  {
   "cell_type": "markdown",
   "metadata": {},
   "source": [
    "Dijkstra 算法要求所有的边权重大于0。\n",
    "\n",
    "假设要找从 $v_0$ 到所有边的最短路径，基本想法和Prim算法的MST性质想法很接近：\n",
    "\n",
    "1. 将图 G 中的顶点集合 V 分为2个集合：已知最短路径的顶点集合 U 和 尚不知最短路径的顶点集合 V-U;\n",
    "2. 每次从 顶点集合 V-U 里找到一个**已经能确定最短路径的顶点**加入U,逐步扩充 U;\n",
    "3. 反复执行步骤 直到找到 从顶点 $v_0$ 到其他所有顶点的最短路径。"
   ]
  },
  {
   "cell_type": "markdown",
   "metadata": {},
   "source": [
    "剩下的问题是：*如何从 顶点集合 V-U 里找到下一个能确定最短路径的顶点？*"
   ]
  },
  {
   "cell_type": "markdown",
   "metadata": {},
   "source": [
    "首先我们定义任何一个顶点 v 到 $v_0$ 的统一度量，称为**已知距离(已知最短路径)**：\n",
    "\n",
    "\n",
    "\\begin{equation}\n",
    "cdis(v_0,v)=\\left \\{\n",
    "\\begin{array}{lr}\n",
    "dis(v_0,v)  & \\mbox{如果 }v\\in U\\\\\n",
    "\\min_{u\\in U \\& w(u,v) !=\\infty}\\{dis(v_0,u) + w(u,v)\\} & \\mbox{如果存在这样的u 并且} v\\in V-U\\\\\n",
    "\\infty  &\\mbox{其他}\n",
    "\\end{array}\n",
    "\\right.\n",
    "\\end{equation}\n"
   ]
  },
  {
   "cell_type": "markdown",
   "metadata": {},
   "source": [
    "**备注**\n",
    "\n",
    "中间这种情况的含义是：从顶点 $v_0$ 到 集合 U-V 中顶点 v 的已知距离是对 U 中的 u 进行遍历，找到最短的那个衔接点。"
   ]
  },
  {
   "cell_type": "markdown",
   "metadata": {},
   "source": [
    "**性质1**\n",
    "\n",
    "如果 $v\\prime$ 是 $\\min_{v\\in V-U}\\{cdis(v_0,v)\\}$ 对应的顶点，则有：\n",
    "\n",
    "$$dis(v_0,v\\prime) = cdis(v_0,v\\prime)$$\n",
    "\n",
    "**性质2**\n",
    "\n",
    "如果 $v\\prime$ 是 $v_0$ 到 v 最短路径 p 的前一个顶点，那么从路径 p 去掉 顶点 v 得到的路径$p\\prime$ 也是 $v_0$ 到 $v\\prime$ 的最短路径。\n",
    "\n",
    "换一句话说，一条最短路径的前面任何一段都是从 $v_0$ 到这段路径终点的最短路径。"
   ]
  },
  {
   "cell_type": "markdown",
   "metadata": {},
   "source": [
    "从性质可知，可以通过反复进行如下的操作来扩充U:\n",
    "\n",
    "1. 从 V-U 中找到 距 $v_0$ 已知距离最小的点 v 加入到 U;\n",
    "2. 因为 v 的加入，V-U 中某些顶点的 已知距离cdis 会变化，对 V-U 中的 已知距离cdis 进行更新。"
   ]
  },
  {
   "cell_type": "markdown",
   "metadata": {},
   "source": [
    "**一个例子**\n",
    "\n",
    "<img src='picture\\graph_10.png'>"
   ]
  },
  {
   "cell_type": "markdown",
   "metadata": {
    "ExecuteTime": {
     "end_time": "2021-07-08T02:44:37.534939Z",
     "start_time": "2021-07-08T02:44:37.512936Z"
    }
   },
   "source": [
    "边的说明：\n",
    "1. 灰色代表原图的边；\n",
    "2. 实线表示已经找到的某条最短路径的边；\n",
    "3. 短划线表示 U 和 V-U 之间的边界边；\n",
    "\n",
    "顶点的说明：\n",
    "1. '()' 里的数字表示已知距离；\n",
    "2. '[]' 里的数字表示最短路径。"
   ]
  },
  {
   "cell_type": "markdown",
   "metadata": {},
   "source": [
    "**算法的python实现**"
   ]
  },
  {
   "cell_type": "markdown",
   "metadata": {},
   "source": [
    "下面考虑如何得到 顶点 $v_0$ 到图 graph 各个顶点的最短路径。\n",
    "\n",
    "**问题1**：如何记录 顶点 $v_0$ 到各个顶点的最短路径？\n",
    "\n",
    "1. 根据上面的性质2，我们只需要记录 $v_0$ 到顶点 v 最短路径上的前一个顶点即可。这样我们就可以通过递归追溯找到经过这条路径的全部顶点。\n",
    "2. 假设顶点的个数是 vnum ,可以用一个长度为 vnum 的列表paths来记录，$paths[v] = (v\\prime,p)$，其中 $v\\prime$ 表示 $v_0$ 到 v 最短路径的前一个顶点，p对应的是 从 $v_0$ 到 $v\\prime$ 的最短路径；此外，用 path[v] = None 来表示 v 在 V-U 里。\n",
    "\n",
    "**问题2** V-U里顶点对应候选边的存储\n",
    "\n",
    "1. 求解最短路径的候选边集以 **路径长度** 作为key进行排序存入优先队列 cands，元素形式为 $(p,v,v\\prime)$，表示 从 $v_0$ 经过 v 到 $v\\prime$ 的已知距离为 p;\n",
    "\n",
    "2. 每次选出已知距离p最小的点 $v\\prime$，如果在 V-U 中，就将其加入 paths；并且将 经过 $v\\prime$ 可达的其他顶点及其长度 存入 cands;\n",
    "\n",
    "3. 如果 cands 已经存了到达某顶点的路径，但后来可能发现更短的路径，cands 会保证每次都是最短的p值被取出。"
   ]
  },
  {
   "cell_type": "markdown",
   "metadata": {},
   "source": [
    "算法的主体结构和 Prim算法很相似。"
   ]
  },
  {
   "cell_type": "code",
   "execution_count": 4,
   "metadata": {
    "ExecuteTime": {
     "end_time": "2021-07-08T07:21:20.355142Z",
     "start_time": "2021-07-08T07:21:20.342143Z"
    }
   },
   "outputs": [],
   "source": [
    "def Dijkstra_shortest_paths(graph,v0):\n",
    "    vnum = graph.vertex_num()\n",
    "    assert 0<=v0<vnum \n",
    "    paths = [None]*vnum \n",
    "    count = 0 \n",
    "    cands  = [(0,v0,v0)] # (p,vi,vj) 表示 v0 经过 vi 到 vj 的已知距离为p\n",
    "    while count<vnum and cands !=[]:\n",
    "        p,u,vmin = cands.pop() # (p,vi,vj) 表示 v0 经过 vi 到 vj 的已知距离为p，每次抛出的都是cands里按照p最小的元素 \n",
    "        if paths[vmin]:\n",
    "            continue\n",
    "        paths[vmin] = (u,p) # 记录新确定的最短路径\n",
    "        for v,e in graph.out_edges(vmin):\n",
    "            if paths[v] is not None:\n",
    "                cands.append(p+e,vmin,v) # 当vmin 加入 U 后对经过vmin的已知距离进行更新\n",
    "                cands.sort(reverse=True)\n",
    "        count += 1\n",
    "    return paths"
   ]
  },
  {
   "cell_type": "markdown",
   "metadata": {},
   "source": [
    "时间复杂度和空间复杂度分别是：$O(|E|\\log|E|)$，$O(|E|)$。"
   ]
  },
  {
   "cell_type": "markdown",
   "metadata": {},
   "source": [
    "## 任意顶点之间最短路径的 Floyd算法"
   ]
  },
  {
   "cell_type": "code",
   "execution_count": null,
   "metadata": {},
   "outputs": [],
   "source": []
  }
 ],
 "metadata": {
  "kernelspec": {
   "display_name": "Python 3",
   "language": "python",
   "name": "python3"
  },
  "language_info": {
   "codemirror_mode": {
    "name": "ipython",
    "version": 3
   },
   "file_extension": ".py",
   "mimetype": "text/x-python",
   "name": "python",
   "nbconvert_exporter": "python",
   "pygments_lexer": "ipython3",
   "version": "3.7.3"
  },
  "toc": {
   "base_numbering": 1,
   "nav_menu": {},
   "number_sections": true,
   "sideBar": true,
   "skip_h1_title": false,
   "title_cell": "Table of Contents",
   "title_sidebar": "Contents",
   "toc_cell": false,
   "toc_position": {
    "height": "calc(100% - 180px)",
    "left": "10px",
    "top": "150px",
    "width": "256px"
   },
   "toc_section_display": true,
   "toc_window_display": true
  }
 },
 "nbformat": 4,
 "nbformat_minor": 2
}
