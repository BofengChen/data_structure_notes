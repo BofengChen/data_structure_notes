{
 "cells": [
  {
   "cell_type": "markdown",
   "metadata": {},
   "source": [
    "# 图的概念和性质"
   ]
  },
  {
   "cell_type": "markdown",
   "metadata": {},
   "source": [
    "## 定义和图示"
   ]
  },
  {
   "cell_type": "markdown",
   "metadata": {},
   "source": [
    "一个图是一个二元组 G = (V,E)。其中：\n",
    "* V 是非空有穷的顶点集合；\n",
    "* E是顶点与顶点之间的边的集合，$E \\subseteq V\\times V$；\n",
    "* V 的顶点也称为 图 G 的顶点；E 的边也称为 图 G 的边。"
   ]
  },
  {
   "cell_type": "markdown",
   "metadata": {},
   "source": [
    "图按照 **边是否有方向** 分为 有向图 和 无向图：\n",
    "* 用 $<v_i,v_j>$ 表示从 $v_i$ 到 $v_j$ 的有向边；用 $(v_i,v_j)$ 表示无向边。\n",
    "\n",
    "* 如果图G 里有 $<v_i,v_j>\\in E$, 称 $v_j$ 为 $v_i$ 的邻接点，称对应的边为邻接边(无向图里邻接关系是双向的)；\n",
    "\n",
    "* 不考虑点到自身的边，即 $<v_i,v_j>,i\\neq j$；两个顶点有且仅有唯一的一条边。\n"
   ]
  },
  {
   "cell_type": "markdown",
   "metadata": {},
   "source": [
    "<img src='picture\\graph_1.png'>"
   ]
  },
  {
   "cell_type": "markdown",
   "metadata": {},
   "source": [
    "## 概念和性质"
   ]
  },
  {
   "cell_type": "markdown",
   "metadata": {},
   "source": [
    "****"
   ]
  },
  {
   "cell_type": "markdown",
   "metadata": {},
   "source": [
    "### 完全图"
   ]
  },
  {
   "cell_type": "markdown",
   "metadata": {},
   "source": [
    "**完全图**：任何两个顶点之间都有边的图。有性质：\n",
    "* n 个顶点的完全无向图 有 $n\\times (n-1)/2$ 条边；\n",
    "* n 个顶点的完全有向图 有 $n\\times (n-1)$ 条边。\n",
    "\n",
    "由此我们可知，$|E| = O(|V|^2)$，即边的个数上界可能达到顶点的平方。"
   ]
  },
  {
   "cell_type": "markdown",
   "metadata": {},
   "source": [
    "<img src='picture\\graph_2.png'>"
   ]
  },
  {
   "cell_type": "markdown",
   "metadata": {},
   "source": [
    "****"
   ]
  },
  {
   "cell_type": "markdown",
   "metadata": {},
   "source": [
    "### 度"
   ]
  },
  {
   "cell_type": "markdown",
   "metadata": {},
   "source": [
    "**顶点的度** 指的是和顶点邻接的边的条数。对有向图的顶点，还分 入度 和 出度，分别表示以该顶点 为 始点 或者 终点的边的数量。"
   ]
  },
  {
   "cell_type": "markdown",
   "metadata": {},
   "source": [
    "**性质1** 无论对于有向图还是无向图，顶点数 n 、边数 e 和 顶点度数满足如下关系：\n",
    "\n",
    "$$e = \\frac{1}{2}\\sum_i D(v_i)$$\n",
    "\n",
    "其中 $D(v_i)$ 是 顶点 $v_i$ 的度数。这里要求对所有顶点的度数求和。"
   ]
  },
  {
   "cell_type": "markdown",
   "metadata": {},
   "source": [
    "****"
   ]
  },
  {
   "cell_type": "markdown",
   "metadata": {},
   "source": [
    "### 路径"
   ]
  },
  {
   "cell_type": "markdown",
   "metadata": {},
   "source": [
    "**路径**：如果存在顶点序列 $v_{i_0},v_{i_1},v_{i_2},\\dots,v_{i_m}$，使得 $(v_{i_0},v_{i_1}),(v_{i_1},v_{i_2}),\\dots,(v_{i_{m-1}},v_{i_m})\\in E$。则称 从顶点 $v_{i_0}$ 到 $v_{i_m}$ 存在路径，并称$<v_{i_0},v_{i_1},v_{i_2},\\dots,v_{i_m}>$ 是 从顶点 $v_{i_0}$ 到 $v_{i_m}$ 的一条路径。"
   ]
  },
  {
   "cell_type": "markdown",
   "metadata": {},
   "source": [
    "路径相关概念：\n",
    "* 路径的长度就是经过路径的边的数量；\n",
    "\n",
    "* 回路(环) 指的就是 起点 和 终点 相同的路径；\n",
    "\n",
    "* 如果除了 起点和终点其他顶点均不相同，称为 简单回路；\n",
    "\n",
    "* 简单路径 指的是 内部不包含回路的路径。"
   ]
  },
  {
   "cell_type": "markdown",
   "metadata": {},
   "source": [
    "**有根图**： 如果从某个顶点 v 到其他所有顶点均有路径，称 G 为有根图，称 v 为 G 的一个根。"
   ]
  },
  {
   "cell_type": "markdown",
   "metadata": {},
   "source": [
    "****"
   ]
  },
  {
   "cell_type": "markdown",
   "metadata": {},
   "source": [
    "### 连通图"
   ]
  },
  {
   "cell_type": "markdown",
   "metadata": {},
   "source": [
    "* **连通**：如果在无向图 G 中存在 从 $v_i$ 到 $v_j$ 的路径，则称 $v_i$ 到 $v_j$ 连通；\n",
    "\n",
    "* **连通无向图**：如果 图 G 中任意两个顶点都连通，称 G 为 连通无向图； \n",
    "\n",
    "* **强连通有向图**：如果 有向图 G 中任意两个顶点 从 $v_i$ 到 $v_j$ 连通 以及 从 $v_j$ 到 $v_i$ 连通 ，称 G 为 强连通有向图。"
   ]
  },
  {
   "cell_type": "markdown",
   "metadata": {},
   "source": [
    "完全无向图 都是连通无向图，完全有向图都是强连通有向图。但反过来不是，看如下图示。"
   ]
  },
  {
   "cell_type": "markdown",
   "metadata": {},
   "source": [
    "**性质**\n",
    "\n",
    "* 包含 n 个顶点的最小连通无向图 G 恰有  n-1 条边；\n",
    "\n",
    "* 包含 n 个顶点的最小有根图 G 恰有  n-1 条边；"
   ]
  },
  {
   "cell_type": "markdown",
   "metadata": {},
   "source": [
    "****"
   ]
  },
  {
   "cell_type": "markdown",
   "metadata": {},
   "source": [
    "### 子图和连通子图"
   ]
  },
  {
   "cell_type": "markdown",
   "metadata": {},
   "source": [
    "* **子图**： 对于 图 $G = (V,E)$ 和 $G^\\prime = (V^\\prime,E^\\prime)$，如果 $V^\\prime\\in V$ 并且 $E^\\prime\\in E$，则称 $G^\\prime$ 是 G 的一个子图；\n",
    "* **连通子图**：一个图可能不是连通图，但其子图可能是连通的，称子图为连通子图；\n",
    "* **极大连通子图**：一个图 G 的极大连通子图(连通分量)  $G^\\prime$ 是 G 的一个子图，并且不存在 真包含  $G^\\prime$ 的连通子图。"
   ]
  },
  {
   "cell_type": "markdown",
   "metadata": {},
   "source": [
    "下面是有向图 $G_1$ 的几个子图：\n",
    "\n",
    "<img src='picture\\graph_4.png'>"
   ]
  },
  {
   "cell_type": "markdown",
   "metadata": {},
   "source": [
    "****"
   ]
  },
  {
   "cell_type": "markdown",
   "metadata": {},
   "source": [
    "### 带权图和网络"
   ]
  },
  {
   "cell_type": "markdown",
   "metadata": {
    "ExecuteTime": {
     "end_time": "2021-06-22T09:15:07.214244Z",
     "start_time": "2021-06-22T09:15:07.194211Z"
    }
   },
   "source": [
    "图 G 的每条边都被赋予一个权值，则称图 G 为带权图；带权的 连通无向图称为 网络。"
   ]
  },
  {
   "cell_type": "markdown",
   "metadata": {},
   "source": [
    "<img src='picture\\graph_5.png'>"
   ]
  },
  {
   "cell_type": "markdown",
   "metadata": {},
   "source": [
    "## 图的抽象数据表示"
   ]
  },
  {
   "cell_type": "markdown",
   "metadata": {},
   "source": [
    "定义：\n",
    "1. 图构建操作，创建一个新图；\n",
    "\n",
    "2. 判断是否为一个空图；\n",
    "\n",
    "3. 获得这个图的顶点个数；\n",
    "\n",
    "4. 获得这个图的边数量；\n",
    "\n",
    "5. 获得这个图的顶点集合；\n",
    "\n",
    "6. 获得这个图的边集合；\n",
    "\n",
    "7. 将顶点 v 加入这个图;\n",
    "\n",
    "8. 将从 顶点 $v_1$ 到 $v_2$ 的边加入这个图;\n",
    "\n",
    "9. 获得 顶点 $v_1$ 到 $v_2$ 边有关的信息，无返回 None；\n",
    "\n",
    "10. 获得 顶点 v 的所有边；\n",
    "\n",
    "11. 检查顶点 v 的度。"
   ]
  },
  {
   "cell_type": "markdown",
   "metadata": {},
   "source": [
    "## 图的表示和实现"
   ]
  },
  {
   "cell_type": "markdown",
   "metadata": {},
   "source": [
    "### 邻接矩阵"
   ]
  },
  {
   "cell_type": "markdown",
   "metadata": {},
   "source": [
    "图的最基本表示法是邻接矩阵表示法，邻接矩阵是表示图中顶点间邻接关系的矩阵。\n",
    "\n",
    "对于n个顶点的图 G=(V,E),邻接矩阵是一个 $n\\times n$ 方阵。图中每个顶点（按顺序）对于矩阵的一行一列，矩阵元素表示图中的邻接关系，即边的相关信息。"
   ]
  },
  {
   "cell_type": "markdown",
   "metadata": {},
   "source": [
    "最简单的邻接矩阵是以 0/1 为元素的方阵。图 G 对应的邻接矩阵是"
   ]
  },
  {
   "cell_type": "markdown",
   "metadata": {},
   "source": [
    "\\begin{equation}\n",
    "A_{ij}=\\left \\{\n",
    "\\begin{array}{lr}\n",
    "1  & \\mbox{如果顶点 }v_i\\mbox{到} v_j \\mbox{有边}\\\\\n",
    "0  & \\mbox{如果顶点 }v_i\\mbox{到} v_j \\mbox{无边}\n",
    "\\end{array}\n",
    "\\right.\n",
    "\\end{equation}"
   ]
  },
  {
   "cell_type": "markdown",
   "metadata": {},
   "source": [
    "对于带权图，对应的邻接矩阵是\n",
    "\n",
    "\\begin{equation}\n",
    "A_{ij}=\\left \\{\n",
    "\\begin{array}{lr}\n",
    "w(i,j)  & \\mbox{如果顶点 }v_i\\mbox{到} v_j \\mbox{有边，且改边的权是}w(i,j)\\\\\n",
    "0  \\mbox{或 } \\infty & \\mbox{如果顶点}v_i\\mbox{到} v_j \\mbox{无边}\n",
    "\\end{array}\n",
    "\\right.\n",
    "\\end{equation}"
   ]
  },
  {
   "cell_type": "markdown",
   "metadata": {},
   "source": [
    "对于无边的情况，用 0 还是 $\\infty$ 表示要根据实际情况。"
   ]
  },
  {
   "cell_type": "markdown",
   "metadata": {},
   "source": [
    "<img src='picture\\graph_2.png'>"
   ]
  },
  {
   "cell_type": "markdown",
   "metadata": {},
   "source": [
    "$G_3,G_4$ 对应的邻接矩阵是：\n",
    "<img src='picture\\graph_6.png'>"
   ]
  },
  {
   "cell_type": "markdown",
   "metadata": {},
   "source": [
    "1. 易见，无向图的邻接矩阵是对称的，有向图不一定；\n",
    "2. 因为没有考虑自身到自身的边，所以对角线元素都是0；如果希望用邻接矩阵表示连通关系，对角线元素要设为1；\n",
    "3. 邻接矩阵标号为 i 的一行 和 一列 对应顶点 i，行对应于 它的出边，列对应于 它的入边。行/列 非零元素的个数 表示 它的 出度/入度。"
   ]
  },
  {
   "cell_type": "markdown",
   "metadata": {},
   "source": [
    "**邻接表示矩阵的缺点**"
   ]
  },
  {
   "cell_type": "markdown",
   "metadata": {},
   "source": [
    "图的邻接关系经常是比较稀疏的，即 顶点数量和 边数量 一般是线性关系，而不是平方关系，所以用邻接矩阵表示对 空间开销和程序的时间开销浪费非常大。\n",
    "\n",
    "为了降低这种浪费，提出了很多其他表示法，都可看做对邻接矩阵的压缩，比如：\n",
    "\n",
    "1. 邻接表表示法；\n",
    "2. 邻接多重表表示法；\n",
    "3. 图的十字链表表示。\n",
    "\n",
    "下面主要介绍邻接表表示。"
   ]
  },
  {
   "cell_type": "markdown",
   "metadata": {},
   "source": [
    "### 图的邻接表表示"
   ]
  },
  {
   "cell_type": "markdown",
   "metadata": {},
   "source": [
    "邻接表：为图中的每一个顶点关联一个记录邻边信息的表。这样 ，一个记录所有顶点的表 + 每个顶点关联的边表 就构成一个图的表示。\n",
    "\n",
    "具体实现可以通过链接表 或者 连续表。"
   ]
  },
  {
   "cell_type": "markdown",
   "metadata": {
    "run_control": {
     "marked": true
    }
   },
   "source": [
    "有向图 $G_7$ 的邻接表表示：\n",
    "<img src='picture\\graph_7.png'>"
   ]
  },
  {
   "cell_type": "markdown",
   "metadata": {},
   "source": [
    "# 图结构的python 实现"
   ]
  },
  {
   "cell_type": "markdown",
   "metadata": {
    "ExecuteTime": {
     "end_time": "2021-06-23T09:54:45.114143Z",
     "start_time": "2021-06-23T09:54:45.108158Z"
    }
   },
   "source": [
    "## 邻接矩阵实现"
   ]
  },
  {
   "cell_type": "code",
   "execution_count": 3,
   "metadata": {
    "ExecuteTime": {
     "end_time": "2021-06-28T02:49:48.027931Z",
     "start_time": "2021-06-28T02:49:48.013975Z"
    }
   },
   "outputs": [],
   "source": [
    "class Graph:\n",
    "    def __init__(self,mat,unconn=0):# mat是初始矩阵，unconn是顶点之间无边时的默认值\n",
    "        vnum = len(mat)\n",
    "        for x in mat: # 检查是否为方阵\n",
    "            if len(x) != vnum:\n",
    "                raise ValueError('argument for grpah')\n",
    "        self._mat = [mat[i][:] for i in range(len(vnum))]\n",
    "        self._unconn = unconn\n",
    "        self._vnum = vnum\n",
    "    \n",
    "    def vertex_num(self):#顶点数量\n",
    "        return self._vnum \n",
    "    \n",
    "    def _invaild(self,v):#检查顶点的下标是否无效\n",
    "        return v<0 or v>self._vnum \n",
    "    \n",
    "    def add_vertex(self):# 暂不支持增加顶点\n",
    "        raise valueError(\"adj-matrix dose not support 'add_vertex'\")\n",
    "    \n",
    "    def add_edge(self,vi,vj,val=1):#增加一条边\n",
    "        if self._invaild(vi) or self._invaild(vj):\n",
    "            raise valueError(str(vi) + ' or ' + str(vj) +\"is not a valid vertex.\")\n",
    "        self._mat[vi][vj] = val \n",
    "    \n",
    "    def get_edges(self,vi,vj):\n",
    "        if self._invaild(vi) or self._invaild(vj):\n",
    "            raise valueError(str(vi) + ' or ' + str(vj) +\"is not a valid vertex.\")\n",
    "        return self._mat[vi][vj]\n",
    "    \n",
    "    def out_edges(self,vi):#获取顶点的出边\n",
    "        if self._invaild(vi):\n",
    "            raise valueError(str(vi) + \"is not a valid vertex.\")\n",
    "        return self._out_edges(self._mat[vi],self._unconn)\n",
    "    \n",
    "    @staticmethod\n",
    "    def _out_edges(row,unconn):\n",
    "        edges = []\n",
    "        for j in range(len(row)):\n",
    "            if row[j]!=unconn:\n",
    "                res.append((j,row[j]))\n",
    "        return edges        \n",
    "    \n",
    "    def __str__(self):\n",
    "        return \"[\\n\" + \",\\n\".join([map(str,self._mat)]) + \"\\n]\" + \"\\nUnconnected: \" + str(self._unconn)"
   ]
  },
  {
   "cell_type": "markdown",
   "metadata": {},
   "source": [
    "## 邻接表实现"
   ]
  },
  {
   "cell_type": "code",
   "execution_count": 4,
   "metadata": {
    "ExecuteTime": {
     "end_time": "2021-06-28T06:33:32.565231Z",
     "start_time": "2021-06-28T06:33:32.547201Z"
    }
   },
   "outputs": [],
   "source": [
    "class GraphAL(Graph):\n",
    "    def __init__(self,mat=[],unconn=0):# mat是初始矩阵，unconn是顶点之间无边时的默认值\n",
    "        vnum = len(mat)\n",
    "        for x in mat: # 检查是否为方阵\n",
    "            if len(x) != vnum:\n",
    "                raise ValueError('argument for grpahAL')\n",
    "        self._mat = [Graph._out_edges(mat[i],unconn) for i in range(vnum)]\n",
    "        self._unconn = unconn\n",
    "        self._vnum = vnum\n",
    "        \n",
    "    def add_vertex(self):# 增加顶点\n",
    "        self._mat.append([])\n",
    "        self._vnum += 1 # 长度+1\n",
    "        return self._vnum - 1 # 返回下标\n",
    "    \n",
    "        \n",
    "    def add_edge(self,vi,vj,val=1):#增加一条边\n",
    "        if self._vnum == 0:\n",
    "            raise valueError(\"can not add edge to empty graph.\")\n",
    "        if self._invaild(vi) or self._invaild(vj):\n",
    "            raise valueError(str(vi) + ' or ' + str(vj) +\"is not a valid vertex.\")\n",
    "        \n",
    "        row = self._mat[vi]\n",
    "        i = 0 \n",
    "        while i<len(row):\n",
    "            if row[i][0] == vj: ## row存储的是tuple\n",
    "                self._mat[vi][i] = (vj,val)\n",
    "            if row[i][0] > vj:# vi连接的顶点序号是递增的，没找到的话，就增加边\n",
    "                break \n",
    "            i += 1\n",
    "        self._mat[vi].insert(i,(vj,val))\n",
    "    \n",
    "    def get_edges(self,vi,vj):\n",
    "        if self._invaild(vi) or self._invaild(vj):\n",
    "            raise valueError(str(vi) + ' or ' + str(vj) +\"is not a valid vertex.\")\n",
    "            \n",
    "        for i,val in self._mat[vi]:\n",
    "            if i == vj:\n",
    "                return val \n",
    "        return self._unconn\n",
    "    \n",
    "    def out_edges(self,vi):#获取顶点的出边\n",
    "        if self._invaild(vi):\n",
    "            raise valueError(str(vi) + \"is not a valid vertex.\")\n",
    "        return self._mat[vi]"
   ]
  },
  {
   "cell_type": "markdown",
   "metadata": {},
   "source": [
    "# 基本图算法"
   ]
  },
  {
   "cell_type": "markdown",
   "metadata": {},
   "source": [
    "## 图的遍历"
   ]
  },
  {
   "cell_type": "markdown",
   "metadata": {},
   "source": [
    "**深度优先遍历**"
   ]
  },
  {
   "cell_type": "markdown",
   "metadata": {},
   "source": [
    "步骤：\n",
    "\n",
    "1. 首先访问顶点v，将其标记为已访问；\n",
    "\n",
    "2. 检查 v 的邻接顶点，从中选一个尚未访问的顶点，从它出发继续进行深度优先搜索(递归)，不存在这种邻接顶点时回溯(邻接顶点排了某种序)；\n",
    "\n",
    "3. 反复上述操作，直到 v 的所有邻接顶点都已访问(递归);\n",
    "\n",
    "4. 如果 图中还有未被访问的顶点，选出一个未访问顶点，由它出发重复前述过程，直到图中所有顶点都被访问为止。"
   ]
  },
  {
   "cell_type": "markdown",
   "metadata": {},
   "source": [
    "下面是深度优先遍历的非递归算法，从 v0 出发访问所有可达顶点："
   ]
  },
  {
   "cell_type": "code",
   "execution_count": 5,
   "metadata": {
    "ExecuteTime": {
     "end_time": "2021-07-01T08:24:28.879889Z",
     "start_time": "2021-07-01T08:24:28.819892Z"
    }
   },
   "outputs": [],
   "source": [
    "def DFS_graph(graph,v0):\n",
    "    vnums = graph.vertex_num()\n",
    "    verlabels = [0]*vnums # 对访问过的节点进行标记\n",
    "    verlabels[0] = 1\n",
    "    dfs_seq =[v0] # 记录已经访问过的顶点\n",
    "    sstack =[]\n",
    "    sstack.append((0,graph.out_edges(v0)))\n",
    "\n",
    "    while sstack != []:\n",
    "        i,edges = sstack.pop()\n",
    "        if i<len(edges): # i 是有效的index\n",
    "            v,e = edges[i]\n",
    "            sstack.append((i+1,edges)) # 下次将访问 edges 的 第 i+1 条边\n",
    "            if verlabels[v] == 0: # 如果 v 没有被访问\n",
    "                verlabels[v] = 1\n",
    "                dfs_seq.append(v)\n",
    "                sstack.append((0,graph.out_edges(v)))\n",
    "    return dfs_seq"
   ]
  },
  {
   "cell_type": "markdown",
   "metadata": {},
   "source": [
    "* 时间复杂度：对于顶点集V 和 边集 E，上述算法最耗时的操作是构造所有顶点的出边，对于 Graph 对象，构造所有出边的总耗时是 $O(|V|^2)$，对于 GraphAL 来说，总耗时是 $O(|E|)$；\n",
    "\n",
    "* 空间复杂度：$O(|V|)$"
   ]
  },
  {
   "cell_type": "markdown",
   "metadata": {},
   "source": [
    "**宽度优先遍历**"
   ]
  },
  {
   "cell_type": "markdown",
   "metadata": {},
   "source": [
    "步骤：\n",
    "\n",
    "1. 首先访问顶点 $v_i$，将其标记为已访问；\n",
    "\n",
    "2. 依次访问 $v_i$ 的相邻顶点 $v_{i_0},v_{i_1},v_{i_2},\\dots,v_{i_{m-1}}$  ，再依次访问所有和 $v_{i_0},v_{i_1},v_{i_2},\\dots,v_{i_{m-1}}$ 相邻的未访问顶点，直到所有可达顶点都已被访问;\n",
    "\n",
    "3. 如果 图中还有未被访问的顶点，选出一个未访问顶点，由它出发按同样方式进行宽度搜索，直到图中所有顶点都被访问为止。"
   ]
  },
  {
   "cell_type": "markdown",
   "metadata": {},
   "source": [
    "## 生成树"
   ]
  },
  {
   "cell_type": "markdown",
   "metadata": {},
   "source": [
    "本小节只考虑 连通无向图 和 强连通有向图(实际只要求有根有向图)。"
   ]
  },
  {
   "cell_type": "markdown",
   "metadata": {},
   "source": [
    "**性质**  \n",
    "图 G 有 n 个顶点，必然可找到 图 G 中包含 n-1 条边的边集合，包含 从 v0 到其他所有顶点的路径。"
   ]
  },
  {
   "cell_type": "markdown",
   "metadata": {},
   "source": [
    "图 G 满足上述性质的 n-1 条边 和所有顶点 构成了 图 G 的一个子图T，因为不包含回路，所有也构成了以 v0 为顶点的一棵树。称 图 T 为 图 G 的一棵**生成树**。"
   ]
  },
  {
   "cell_type": "markdown",
   "metadata": {},
   "source": [
    "**遍历和生成树**"
   ]
  },
  {
   "cell_type": "markdown",
   "metadata": {},
   "source": [
    "同样，可以得到 DFS 生成树 和 BFS 生成树。"
   ]
  },
  {
   "cell_type": "markdown",
   "metadata": {},
   "source": [
    "**构造DFS生成树**"
   ]
  },
  {
   "cell_type": "code",
   "execution_count": 7,
   "metadata": {
    "ExecuteTime": {
     "end_time": "2021-07-01T11:20:46.228297Z",
     "start_time": "2021-07-01T11:20:46.220292Z"
    }
   },
   "outputs": [],
   "source": [
    "def dfs_forest(graph):\n",
    "    vnum = graph.vertex_num()\n",
    "    forest = [None]*vnum \n",
    "\n",
    "    def dfs(graph,v): # 递归函数，在递归中记录经过的边\n",
    "        nonlocal forest\n",
    "        for u,w in graph.out_edges(v):\n",
    "            if forest[u] is None:\n",
    "                forest[u] = (v,w) # 记录 u 的上一顶点 和对应边的权重 w\n",
    "                dfs(graph,u)\n",
    "\n",
    "    for v in range(vnum):\n",
    "        if forest[v] is None:\n",
    "            forest[v] = (v,0)\n",
    "            dfs(graph,v)\n",
    "    return forest"
   ]
  },
  {
   "cell_type": "markdown",
   "metadata": {},
   "source": [
    "# 最小生成树"
   ]
  },
  {
   "cell_type": "code",
   "execution_count": null,
   "metadata": {},
   "outputs": [],
   "source": []
  }
 ],
 "metadata": {
  "kernelspec": {
   "display_name": "Python 3",
   "language": "python",
   "name": "python3"
  },
  "language_info": {
   "codemirror_mode": {
    "name": "ipython",
    "version": 3
   },
   "file_extension": ".py",
   "mimetype": "text/x-python",
   "name": "python",
   "nbconvert_exporter": "python",
   "pygments_lexer": "ipython3",
   "version": "3.7.3"
  },
  "toc": {
   "base_numbering": 1,
   "nav_menu": {},
   "number_sections": true,
   "sideBar": true,
   "skip_h1_title": false,
   "title_cell": "Table of Contents",
   "title_sidebar": "Contents",
   "toc_cell": false,
   "toc_position": {},
   "toc_section_display": true,
   "toc_window_display": true
  }
 },
 "nbformat": 4,
 "nbformat_minor": 2
}
