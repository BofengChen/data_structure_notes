{
 "cells": [
  {
   "cell_type": "markdown",
   "metadata": {},
   "source": [
    "## 算法复杂度"
   ]
  },
  {
   "cell_type": "markdown",
   "metadata": {},
   "source": [
    "算法的复杂度决定了算法的可用性，复杂度低的算法可以用于很大的实例，复杂度高的算法只能用于很小的实例，可用性有限。所以对解决问题的算法分析其算法复杂度可以决定算法本身的性能以及改善方向。\n",
    "\n",
    "算法复杂度分为 **时间复杂度 $T(n)$** 和 **空间复杂度 $S(n)$**。"
   ]
  },
  {
   "cell_type": "markdown",
   "metadata": {},
   "source": [
    "### 大O表示法"
   ]
  },
  {
   "cell_type": "markdown",
   "metadata": {},
   "source": [
    "对于单调的整数函数 f,如果存在一个整数函数 g 和实常数 c>0，使得对于充分大的 n 总有 $f(n)<c\\cdot g(n)$,就说 g 是 f 的一个**渐近函数**，记为\n",
    "\n",
    "$$f(n)=O(g(n))$$\n",
    "\n",
    "易见，$f(n)=O(g(n))$ 说明在趋向无穷的极限意义下，函数 f 的增长速度受到函数 g 的约束。"
   ]
  },
  {
   "cell_type": "markdown",
   "metadata": {},
   "source": [
    "把上述描述方式应用于算法的代价问题，假设存在函数 g ，使得算法 A 的处理规模为 n 的问题实例所用的时间 $T(n)=O(g(n))$,则称 $=O(g(n))$ 是算法 A 的**渐近时间复杂度**，简称**时间复杂度**。\n",
    "\n",
    "空间复杂度 $S(n)$ 定义类似。"
   ]
  },
  {
   "cell_type": "markdown",
   "metadata": {},
   "source": [
    "如果有 $T(n)=O(g(n))$，我们说函数 g(n) 是算法实际时间开销的一个上界，并不表示实际开销真正具有与 g(n) 同样的增长速度。"
   ]
  },
  {
   "cell_type": "markdown",
   "metadata": {},
   "source": [
    "### 算法复杂度分析"
   ]
  },
  {
   "cell_type": "markdown",
   "metadata": {},
   "source": [
    "在基本的循环程序中，涉及到顺序组合、条件分支和循环结构，其时间复杂度有以下规则：\n",
    "\n",
    "1. 基本操作：认为其时间复杂度是 $O(1)$；\n",
    "\n",
    "\n",
    "2. 加法规则(顺序复合)：如果算法是两个部分的顺序复合，其复杂性如下：\n",
    "\n",
    "$$T(n) = T_1(n) +  T_2(n) = O(g_1(n)) + O(g_2(n)) = O(\\max(g_1(n),g_2(n)))$$\n",
    "\n",
    "3. 乘法规则(循环结构)： 如果算法片段是一个循环体，循环体将执行 $T_1(n)$ 次，每次执行需要 $T_2(n)$ 时间，则\n",
    "\n",
    "$$T(n) = T_1(n) \\times T_2(n) = O(g_1(n)) \\times O(g_2(n)) = O(g_1(n)\\times g_2(n))$$\n",
    "\n",
    "4. 取最大规则(分支结构)： 如果算法是条件分支，两个分支的时间复杂性分别是 $T_1(n)$ 和 $T_2(n)$，则：\n",
    "\n",
    "$$T(n) = O(\\max(g_1(n),g_2(n)))$$"
   ]
  },
  {
   "cell_type": "markdown",
   "metadata": {},
   "source": [
    "### python 程序的复杂度"
   ]
  },
  {
   "cell_type": "markdown",
   "metadata": {},
   "source": [
    "**时间开销**\n",
    "\n",
    "python 中很多基本操作的时间复杂度不是常量时间：\n",
    "\n",
    "* 基本算术操作是 $O(1)$，逻辑运算是 $O(1)$；\n",
    "\n",
    "\n",
    "* 组合对象的操作有些是常量，有些不是：\n",
    "\n",
    "    * 复制和切片操作通常是 $O(n)$;\n",
    "    \n",
    "    * list 和 tuple 的元素访问和元素赋值，是常量时间；\n",
    "    \n",
    "    * dict 操作情况复杂，之后会详细讨论。\n",
    "    \n",
    "\n",
    "\n",
    "* 字符串应该看做是组合对象，许多操作不是常量时间；\n",
    "\n",
    "\n",
    "* 创建对象需要付出空间和时间，空间和时间代价都与对象大小有关；\n",
    "\n",
    "\n",
    "* 构造新的空结构（空表/空集合等）是常量时间操作，构造包含 n 个元素的操作，至少需要 $O(n)$ 的时间；\n",
    "\n",
    "\n",
    "* 一些 list 操作的效率： 表元素访问和元素修改是 $O(1)$ 的时间，但一般的加入/删除元素操作（即使只加入一个元素）也是 $O(n)$ 的时间；\n",
    "\n",
    "\n",
    "* 字典 dict 操作的效率：主要操作是加入新的关键码-值对和基于关键码值对查找关联值，它们最坏情况复杂度是 $O(n)$,平均复杂度是 $O(1)$。"
   ]
  },
  {
   "cell_type": "markdown",
   "metadata": {},
   "source": [
    "**空间开销**\n",
    "\n",
    "包含 n 个元素的集合或字典，至少需要占用 $O(n)$ 的存储空间。"
   ]
  },
  {
   "cell_type": "markdown",
   "metadata": {},
   "source": [
    "## 数据结构及其分类"
   ]
  },
  {
   "cell_type": "markdown",
   "metadata": {},
   "source": [
    "### 结构性数据结构"
   ]
  },
  {
   "cell_type": "markdown",
   "metadata": {},
   "source": [
    "数据结构是一个二元组\n",
    "\n",
    "$$D = (E,R)$$\n",
    "\n",
    "其中 E 是数据结构 D 的元素集合，是某个数据集合 $\\epsilon$ 的一个有穷子集， $R\\in E\\times E$ 是 D 的元素之间的某种关系。"
   ]
  },
  {
   "cell_type": "markdown",
   "metadata": {},
   "source": [
    "根据 R 的不同，总结出如下几种典型的数据结构：\n",
    "\n",
    "* **集合结构：** 对应的关系 R 是空集，也就是说数据元素之间没有明确关系。这样的数据结构也就是其元素的集合，这是最简单的一种数据结构；\n",
    "\n",
    "\n",
    "* **序列结构：** 数据元素之间有明确的先后关系（顺序关系 或者称之为 序关系），除了最后的元素外，每个元素都有一个唯一的后继元素，所有元素排列成一个线性序列，关系 R 就是这里的**线性顺序关系**。我们也称这种结构为**线性结构**。\n",
    "\n",
    "    序列结构还有一些变形，如 **环形结构** 和 $\\rho$  **形结构**。\n",
    "    \n",
    "    \n",
    "* **层次结构：** 数据元素分属于不同的层次，一个上层元素可以关联一个或者多个下层元素，关系 R 形成一种明确的层次性:只从上层到下层(通常也允许跨层)。\n",
    "\n",
    "    层次关系可以分为很多简单或者复杂的子类别。\n",
    "    \n",
    "    \n",
    "* **树形结构：** 层次结构中最简单的一种关系是**树形关系**，其特点是在一个树形结构中只有一个最上层数据元素，称为**根**，其余元素都是根的直接或间接关联的下层元素。\n",
    "\n",
    "\n",
    "* **图结构：** 数据元素之间可以有复杂的相互关系，数学领域中的“图”概念就是这类结构的抽象，因此人们把这样的结构称之为 **图结构**，把这样复杂的对象称为**图对象**。\n",
    "\n",
    "实际上，可以认为图结构包含了前面几类结构，把上面的结构看做图的受限模式。"
   ]
  },
  {
   "cell_type": "markdown",
   "metadata": {},
   "source": [
    "### 功能性数据结构"
   ]
  },
  {
   "cell_type": "markdown",
   "metadata": {},
   "source": [
    "除了上面提到的结构性数据结构，即元素之间存在某种特别的 R 关系的结构之外，还有一类是对元素的相互关系没有任何结构性要求，只要求实现比如 **存储、访问、删除等**功能性操作，我们称这一类为**功能性数据结构**。\n",
    "\n",
    "功能性数据结构包括**栈、队列、优先队列、字典等**。"
   ]
  },
  {
   "cell_type": "markdown",
   "metadata": {},
   "source": [
    "因为只有功能要求，这类数据结构可以采用任何技术实现。**实际中人们通常首先把这类结构映射到某种结构性的数据结构，之后采用相应的实现技术，有时也开发专门的实现技术。**"
   ]
  },
  {
   "cell_type": "markdown",
   "metadata": {},
   "source": [
    "### 算法和程序中的数据结构"
   ]
  },
  {
   "cell_type": "markdown",
   "metadata": {},
   "source": [
    "在算法和程序中，用数据结构存储信息，不仅要考虑如何把抽象的数据结构映射到计算机或者程序可以表达和操作的数据存储形式，还要考虑作用于具体数据结构的各种**操作**，比如**结构的建立、元素的访问、插入或者删除等一般性操作**。\n",
    "\n",
    "**数据结构上的操作需要通过算法来实现**。对复杂的数据结构，如树结构和图结构，存在许多非常有趣且有用的算法。"
   ]
  },
  {
   "cell_type": "markdown",
   "metadata": {},
   "source": [
    "## 抽象数据类型"
   ]
  },
  {
   "cell_type": "markdown",
   "metadata": {},
   "source": [
    "**抽象数据类型**的基本想法是把数据定义为抽象的对象集合，为它们定义可用的合法操作，并不暴露其内部实现的具体细节，不论是其数据的表示细节还是操作的实现细节。首先需要能**构造**这种对象，而后能**操作**它们。抽象数据类型提供的操作应该满足以下三种：\n",
    "\n",
    "1. **构造操作：** 基于一些已知的信息来定义和产生出这种类型的一个新对象。\n",
    "\n",
    "    例如基于一对整数来产生一个有理数对象；或者基于两个已有的有理数对象，产生一个表示它们之**和**的有理数对象；\n",
    "    \n",
    "\n",
    "2. **解析操作：** 从一个对象取得有用的信息，结果反映了被操作对象的某方面特性或属性，但结果并不是本类型的对象。\n",
    "\n",
    "    例如可能需要有两个操作，分别从一个有理数获取其分子或分母，操作的结果应该是整数类型的对象。\n",
    "    \n",
    "    \n",
    "3. **变动操作：** 这类操作修改被操作对象的内部状态，但操作不会改变对象的类型。\n",
    "\n",
    "    例如银行账户对象，应该提供检查余额和修改余额的操作等。"
   ]
  },
  {
   "cell_type": "markdown",
   "metadata": {},
   "source": [
    "在Python 中，`str,tuple,frozenset` 类型只提供了前两类操作，因此是一个不变数据类型；`list,set,dict`是可变数据类型。"
   ]
  },
  {
   "cell_type": "markdown",
   "metadata": {},
   "source": [
    "我们一般通过如下的方式来给出**抽象数据类型的描述**，以有理数抽象数据类型为例：\n",
    "***\n",
    "ADT Rational:    $\\qquad\\qquad\\qquad\\qquad$ # 定义有理数的抽象数据类型\n",
    "   1. Rational(int num,int den)  $\\qquad\\qquad$ # 构造有理数 num/den\n",
    "   2. +(Rational r1, Rational r2) $\\qquad\\quad$ # 求出表示 r1+r2 的有理数\n",
    "   3. -(Rational r1, Rational r2) $\\qquad\\quad$ # 求出表示 r1-r2 的有理数\n",
    "   4. $\\times$(Rational r1, Rational r2) $\\qquad\\quad$ # 求出表示 $r1\\times r2$ 的有理数\n",
    "   5. /(Rational r1, Rational r2) $\\qquad\\quad$ # 求出表示 r1/r2 的有理数\n",
    "   6. num(Rational r1)$\\qquad\\qquad\\quad$ # 取得有理数 r1 的分子\n",
    "   7. den(Rational r1)$\\qquad\\qquad\\quad$ # 取得有理数 r1 的分母\n",
    "   \n",
    "\n",
    "***"
   ]
  },
  {
   "cell_type": "markdown",
   "metadata": {},
   "source": [
    "这里的 `ADT` 含义是 `abstract data type`，ADT的定义部分主要描述了一组操作，操作包含两部分：\n",
    "\n",
    "* 用特殊标识符或特殊符号给出操作名和操作的参数表；\n",
    "\n",
    "\n",
    "* 用类似python 注释的形式给出操作的功能描述。"
   ]
  },
  {
   "cell_type": "markdown",
   "metadata": {},
   "source": [
    "上述定义的抽象数据类型名字是`Rational`，一共提供了7个操作：\n",
    "\n",
    "* 第一个是基本的构造对象的操作；\n",
    "\n",
    "* 第2-5 是基于 Raional 对象来生成构造新的 Rational 对象；\n",
    "\n",
    "* 第6-7 操作是解析操作，取得有理数对象的属性。"
   ]
  },
  {
   "cell_type": "markdown",
   "metadata": {},
   "source": [
    "**有理数类的python实现**"
   ]
  },
  {
   "cell_type": "code",
   "execution_count": 28,
   "metadata": {
    "ExecuteTime": {
     "end_time": "2019-06-20T09:26:19.167881Z",
     "start_time": "2019-06-20T09:26:19.088877Z"
    }
   },
   "outputs": [],
   "source": [
    "class Rational0:\n",
    "    @staticmethod\n",
    "    def _gcd(m,n):\n",
    "        if n==0:\n",
    "            m,n = n,m\n",
    "        while m!=0:\n",
    "            m,n = n%m,m\n",
    "        return n\n",
    "    \n",
    "    def __init__(self,num,den=1):\n",
    "        if not isinstance(num,int) or not isinstance(den, int):\n",
    "            raise TypeError\n",
    "        if den == 0:\n",
    "            raise ZeroDivisionError\n",
    "        \n",
    "        sign = 1\n",
    "        if num <0:\n",
    "            num,sign = -num, -sign\n",
    "        if den <0:\n",
    "            den,sign = -den, -sign\n",
    "        \n",
    "        g = Rational0._gcd(num,den)\n",
    "        self.num = sign*(num//g)\n",
    "        self.den = den//g\n",
    "        \n",
    "    def plus(self,another):\n",
    "        den = self.den*another.den\n",
    "        num = self.num*another.den + another.num*self.den\n",
    "        return Rational0(num,den)\n",
    "    \n",
    "    def print(self):\n",
    "        print('{}/{}'.format(self.num,self.den))"
   ]
  },
  {
   "cell_type": "code",
   "execution_count": 29,
   "metadata": {
    "ExecuteTime": {
     "end_time": "2019-06-20T09:26:19.844920Z",
     "start_time": "2019-06-20T09:26:19.833919Z"
    },
    "scrolled": true
   },
   "outputs": [
    {
     "name": "stdout",
     "output_type": "stream",
     "text": [
      "den is 3;num is 1\n"
     ]
    }
   ],
   "source": [
    "r1 = Rational0(1,3)\n",
    "print('den is {};num is {}'.format(r1.den,r1.num))"
   ]
  },
  {
   "cell_type": "code",
   "execution_count": 30,
   "metadata": {
    "ExecuteTime": {
     "end_time": "2019-06-20T09:26:20.324947Z",
     "start_time": "2019-06-20T09:26:20.318947Z"
    }
   },
   "outputs": [
    {
     "name": "stdout",
     "output_type": "stream",
     "text": [
      "1/3\n"
     ]
    }
   ],
   "source": [
    "r1.print()"
   ]
  },
  {
   "cell_type": "code",
   "execution_count": 31,
   "metadata": {
    "ExecuteTime": {
     "end_time": "2019-06-20T09:26:20.936982Z",
     "start_time": "2019-06-20T09:26:20.925982Z"
    }
   },
   "outputs": [
    {
     "name": "stdout",
     "output_type": "stream",
     "text": [
      "5/6\n"
     ]
    }
   ],
   "source": [
    "r1.plus(Rational0(1,2)).print()"
   ]
  },
  {
   "cell_type": "markdown",
   "metadata": {},
   "source": [
    "## Python  类"
   ]
  },
  {
   "cell_type": "markdown",
   "metadata": {},
   "source": [
    "### 静态方法和类方法\n",
    "\n",
    "在类的定义中，除了实例方法之外，还可以定义另外两类函数：\n",
    "\n",
    "* 静态方法：定义形式是在 `def`行前面加上`@staticmethod`。静态方法实际上就是定义在类内部的普通函数，不需要 `self` 参数。\n",
    "\n",
    "\n",
    "* 类方法：定义形式是在 `def`行前面加上`@classmethod`。这种方法必须有一个表示其调用类的参数，习惯以 `cls` 作为参数名，此外也可以加任意多的其他参数。人们通常用类方法实现与本类的所有对象有关的操作。"
   ]
  },
  {
   "cell_type": "markdown",
   "metadata": {},
   "source": [
    "下面这个例子定义的类功能是维护一个计数器，记录程序运行过程中创建该类的实例对象的个数。"
   ]
  },
  {
   "cell_type": "code",
   "execution_count": 5,
   "metadata": {
    "ExecuteTime": {
     "end_time": "2019-06-28T02:42:07.540886Z",
     "start_time": "2019-06-28T02:42:07.528886Z"
    }
   },
   "outputs": [],
   "source": [
    "class Countable:\n",
    "    counter = 0\n",
    "    \n",
    "    def __init__(self):\n",
    "        Countable.counter += 1\n",
    "    \n",
    "    @classmethod\n",
    "    def get_count(cls):\n",
    "        return Countable.counter"
   ]
  },
  {
   "cell_type": "code",
   "execution_count": 6,
   "metadata": {
    "ExecuteTime": {
     "end_time": "2019-06-28T02:42:07.855904Z",
     "start_time": "2019-06-28T02:42:07.848904Z"
    }
   },
   "outputs": [
    {
     "data": {
      "text/plain": [
       "3"
      ]
     },
     "execution_count": 6,
     "metadata": {},
     "output_type": "execute_result"
    }
   ],
   "source": [
    "x = Countable()\n",
    "y = Countable()\n",
    "z = Countable()\n",
    "Countable.get_count()"
   ]
  },
  {
   "cell_type": "markdown",
   "metadata": {},
   "source": [
    "### 类的继承与改写"
   ]
  },
  {
   "cell_type": "code",
   "execution_count": 13,
   "metadata": {
    "ExecuteTime": {
     "end_time": "2019-06-28T02:48:42.823495Z",
     "start_time": "2019-06-28T02:48:42.772492Z"
    }
   },
   "outputs": [],
   "source": [
    "class Person(object):\n",
    " \n",
    "    def __init__(self, name, age):\n",
    "        self.name = name\n",
    "        self.age = age\n",
    "        self.weight = 'weight'\n",
    " \n",
    "    def talk(self):\n",
    "        print(\"person is talking....\")\n",
    "        \n",
    "    def look(self):\n",
    "        print('person is looking....')\n",
    "        \n",
    "\n",
    "class Chinese(Person):\n",
    "    def __init__(self, name, age, language): # 先继承，再重构\n",
    "        Person.__init__(self, name, age)     #继承父类的构造方法\n",
    "        self.language = language             # 定义类的本身属性\n",
    "        print(self.name, self.age, self.weight, self.language)\n",
    "        \n",
    "    def talk(self):  # 子类 重构方法\n",
    "        print('%s is speaking chinese' % self.name)\n",
    "        \n",
    "    def walk(self):\n",
    "        print('is walking...')"
   ]
  },
  {
   "cell_type": "code",
   "execution_count": 14,
   "metadata": {
    "ExecuteTime": {
     "end_time": "2019-06-28T02:48:43.222518Z",
     "start_time": "2019-06-28T02:48:43.216518Z"
    }
   },
   "outputs": [
    {
     "name": "stdout",
     "output_type": "stream",
     "text": [
      "bigberg 22 weight Chinese\n",
      "bigberg is speaking chinese\n",
      "is walking...\n",
      "person is looking....\n"
     ]
    }
   ],
   "source": [
    "c = Chinese('bigberg', 22, 'Chinese')\n",
    "c.talk()\n",
    "c.walk()\n",
    "c.look()"
   ]
  },
  {
   "cell_type": "markdown",
   "metadata": {},
   "source": [
    "### 类的动态约束"
   ]
  },
  {
   "cell_type": "code",
   "execution_count": 18,
   "metadata": {
    "ExecuteTime": {
     "end_time": "2019-06-28T08:34:02.748023Z",
     "start_time": "2019-06-28T08:34:02.734022Z"
    }
   },
   "outputs": [],
   "source": [
    "class B:\n",
    "    def f(self):\n",
    "        self.g()\n",
    "    \n",
    "    def g(self):\n",
    "        print('B.g called!')\n",
    "        \n",
    "class C(B):\n",
    "    def g(self):\n",
    "        print('C.g called!')"
   ]
  },
  {
   "cell_type": "code",
   "execution_count": 19,
   "metadata": {
    "ExecuteTime": {
     "end_time": "2019-06-28T08:34:03.246051Z",
     "start_time": "2019-06-28T08:34:03.242051Z"
    }
   },
   "outputs": [
    {
     "name": "stdout",
     "output_type": "stream",
     "text": [
      "B.g called!\n"
     ]
    }
   ],
   "source": [
    "x = B()\n",
    "x.f()"
   ]
  },
  {
   "cell_type": "code",
   "execution_count": 20,
   "metadata": {
    "ExecuteTime": {
     "end_time": "2019-06-28T08:34:03.705078Z",
     "start_time": "2019-06-28T08:34:03.700077Z"
    }
   },
   "outputs": [
    {
     "name": "stdout",
     "output_type": "stream",
     "text": [
      "C.g called!\n"
     ]
    }
   ],
   "source": [
    "y = C()\n",
    "y.f()"
   ]
  },
  {
   "cell_type": "markdown",
   "metadata": {},
   "source": [
    "注意：当创建 C类实例 y 的时候，在 C 类中没有属性 f，所以会到 B 类里去寻找，但 B 类里的 f 返回的是 self.g 。\n",
    "\n",
    "在Python 中，此时的 self 还是在创建实例刚开始时的 C 类，所以此时的 self.g 会重新返回 C 类中定义的方法 C.g。我们称这个为**动态约束**。"
   ]
  }
 ],
 "metadata": {
  "hide_input": false,
  "kernelspec": {
   "display_name": "Python 3",
   "language": "python",
   "name": "python3"
  },
  "language_info": {
   "codemirror_mode": {
    "name": "ipython",
    "version": 3
   },
   "file_extension": ".py",
   "mimetype": "text/x-python",
   "name": "python",
   "nbconvert_exporter": "python",
   "pygments_lexer": "ipython3",
   "version": "3.7.3"
  },
  "toc": {
   "base_numbering": 1,
   "nav_menu": {},
   "number_sections": true,
   "sideBar": true,
   "skip_h1_title": false,
   "title_cell": "Table of Contents",
   "title_sidebar": "Contents",
   "toc_cell": false,
   "toc_position": {
    "height": "398px",
    "left": "1010.21px",
    "top": "146px",
    "width": "269.792px"
   },
   "toc_section_display": true,
   "toc_window_display": true
  },
  "varInspector": {
   "cols": {
    "lenName": 16,
    "lenType": 16,
    "lenVar": 40
   },
   "kernels_config": {
    "python": {
     "delete_cmd_postfix": "",
     "delete_cmd_prefix": "del ",
     "library": "var_list.py",
     "varRefreshCmd": "print(var_dic_list())"
    },
    "r": {
     "delete_cmd_postfix": ") ",
     "delete_cmd_prefix": "rm(",
     "library": "var_list.r",
     "varRefreshCmd": "cat(var_dic_list()) "
    }
   },
   "types_to_exclude": [
    "module",
    "function",
    "builtin_function_or_method",
    "instance",
    "_Feature"
   ],
   "window_display": false
  }
 },
 "nbformat": 4,
 "nbformat_minor": 2
}
