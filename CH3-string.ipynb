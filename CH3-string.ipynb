{
 "cells": [
  {
   "cell_type": "markdown",
   "metadata": {},
   "source": [
    "# 字符串的定义"
   ]
  },
  {
   "cell_type": "markdown",
   "metadata": {},
   "source": [
    "* 字符集：有穷的一组字符构成的带有序关系的集合；\n",
    "* 字符串：就是字符集里有限个元素的排列，可以看做一类特殊的线性表。"
   ]
  },
  {
   "cell_type": "markdown",
   "metadata": {},
   "source": [
    "# 字符串的相关概念"
   ]
  },
  {
   "cell_type": "markdown",
   "metadata": {},
   "source": [
    "1. 字符串的长度：字符串中字符的个数，空字符串的长度为0。下面用 |s|表示字符串s的长度；\n",
    "\n",
    "2. 字符在字符串的位置：字符串中字符顺序排列，从0开始计数，每个字符都有其确定位置或下标；\n",
    "\n",
    "3. 字符串相等：两个字符串长度相等且相应位置的字符相等；\n",
    "\n",
    "4. 字典序：字符串之间的一种序关系，简单说就是从左到右开始第一个不相等的字符决定了2个字符串的大小；如果都一致，则长度较短的字符串相对小；\n",
    "\n",
    "5. 字符串拼接：s1 + s2\n",
    "\n",
    "6. 子串关系： 称字符串 s1 是字符串 s2 的子串，如果满足： $s_2 = s + s_1 + s^{*}$;即 s1 和 s2 中的一个连续片段一致；\n",
    "    * 空字符串和本身都是字符串的子串；\n",
    "    * 子串可以多次出现，且下标可能会重叠，如 babb 相对于 babbabbbbabb.\n",
    "    \n",
    "7. 前缀和后缀：\n",
    "    * 前缀： $s_2 = s_1 + s^{*}$;\n",
    "    * 后缀： $s_2 = s^{*} + s_1$;\n",
    "   \n",
    "8. 串替换： 将字符串中明确下标范围的一段子串进行替换"
   ]
  },
  {
   "cell_type": "markdown",
   "metadata": {},
   "source": [
    "# 字符串匹配"
   ]
  },
  {
   "cell_type": "markdown",
   "metadata": {},
   "source": [
    "假设有两个字符串：\n",
    "    $$t=t_1t_2t_3\\dots t_{n-1}$$\n",
    "    $$p=p_1p_2p_3\\dots p_{m-1}$$\n",
    "字符串匹配就是在字符串t中查找和p相同字符串的过程，下面称t为**目标串**，p为**模式串**，一般情况下 m<<n."
   ]
  },
  {
   "cell_type": "markdown",
   "metadata": {},
   "source": [
    "字符串比较的基础是字符比较。\n",
    "\n",
    "* 如果从字符i开始，目标串的每一个字符都和模式串里的字符一致，则找到了一个匹配的模式串；\n",
    "\n",
    "* 如果比较过程中，遇到了一对不同的字符，说明目标串里从字符i开始的子串和模式串不匹配。串匹配算法的关键在两点：\n",
    "    1. 怎样选择开始比较的字符对；\n",
    "    2. 遇到不匹配的字符对时下一步怎么办\n",
    "    \n",
    "    对这两点的不同处理策略，形成了不同的字符串匹配算法。下面介绍朴素匹配算法和KMP匹配算法。"
   ]
  },
  {
   "cell_type": "markdown",
   "metadata": {},
   "source": [
    "## 朴素匹配算法"
   ]
  },
  {
   "cell_type": "markdown",
   "metadata": {},
   "source": [
    "最简单的朴素匹配算法，对以上2点的处理策略是：\n",
    "1. 从左往右依次比较；\n",
    "2. 发现不匹配，从**当初开始比较位置的下一位置**重新开始匹配"
   ]
  },
  {
   "cell_type": "code",
   "execution_count": 9,
   "metadata": {
    "ExecuteTime": {
     "end_time": "2021-03-10T13:41:03.766793Z",
     "start_time": "2021-03-10T13:41:03.753792Z"
    }
   },
   "outputs": [],
   "source": [
    "# 只匹配1次\n",
    "def naive_matching(t,p):\n",
    "    m,n = len(p),len(t)\n",
    "    i,j = 0,0\n",
    "    \n",
    "    while i<m and j<n:\n",
    "        if p[i] == t[j]: \n",
    "            i,j = i+1, j+1 # 字符匹配就一起前进 \n",
    "        else:\n",
    "            i,j = 0, j-(i-1) #如果不匹配，模式串从0开始，目标串从上次比较位置的下一个位置开始 j -(i-1)\n",
    "    if i == m:\n",
    "        return j-i\n",
    "    else:\n",
    "        return -1"
   ]
  },
  {
   "cell_type": "code",
   "execution_count": 10,
   "metadata": {
    "ExecuteTime": {
     "end_time": "2021-03-10T13:41:03.989750Z",
     "start_time": "2021-03-10T13:41:03.978875Z"
    }
   },
   "outputs": [
    {
     "data": {
      "text/plain": [
       "7"
      ]
     },
     "execution_count": 10,
     "metadata": {},
     "output_type": "execute_result"
    }
   ],
   "source": [
    "naive_matching(t='assmddmsmcd',p='smc')"
   ]
  },
  {
   "cell_type": "markdown",
   "metadata": {},
   "source": [
    "上面的朴素匹配算法效率很低，原因在于当发现不匹配时，模式串和目标串都要进行回溯。算法的复杂度是：$O(m\\times n)$。最糟糕的案例是：\n",
    "1. t = '00000000000000000000001'\n",
    "2. p = '001'\n",
    "\n",
    "效率低的原因在于：\n",
    "1. 把每次的字符匹配当成完全独立的操作，没有利用字符是有穷的特点，把字符当做随机出现的量；\n",
    "\n",
    "2. 也没有利用前面匹配过程中的有效信息。\n",
    "\n",
    "其他改进的算法都是在这个基础上利用字符的特点进行优化的。"
   ]
  },
  {
   "cell_type": "markdown",
   "metadata": {},
   "source": [
    "## KMP算法(无回溯串匹配算法)"
   ]
  },
  {
   "cell_type": "markdown",
   "metadata": {},
   "source": [
    "介绍参考：\n",
    "1. http://www.ruanyifeng.com/blog/2013/05/Knuth%E2%80%93Morris%E2%80%93Pratt_algorithm.html\n",
    "2. https://www.pythonf.cn/read/107379\n",
    "3. https://leetcode-cn.com/problems/implement-strstr/solution/kmp-suan-fa-xiang-jie-by-labuladong/"
   ]
  },
  {
   "cell_type": "code",
   "execution_count": 246,
   "metadata": {
    "ExecuteTime": {
     "end_time": "2021-03-23T09:29:32.490909Z",
     "start_time": "2021-03-23T09:29:32.481910Z"
    }
   },
   "outputs": [],
   "source": [
    "def pmt_table(s_str):\n",
    "    # s模式串\n",
    "    m,s,pmt = 0,-1,[-1]*len(s_str)\n",
    "\n",
    "    while m<len(s_str)-1:\n",
    "        if s == -1 or s_str[m] == s_str[s]:\n",
    "            m += 1\n",
    "            s += 1\n",
    "            pmt[m] = s \n",
    "        else:\n",
    "            s = pmt[s]\n",
    "    return pmt\n",
    "\n",
    "\n",
    "def kmp(m,s):\n",
    "    # m主串，s模式串\n",
    "    i,j = 0,0 \n",
    "    pmt = pmt_table(s)\n",
    "    while i<len(m) and j<len(s):\n",
    "        # 模式串循环结束，匹配成功；否则失败\n",
    "        if m[i] == s[j] or j== -1:\n",
    "            i,j = i+1,j+1\n",
    "        else:\n",
    "            j = pmt[j]\n",
    "    if j == len(s):\n",
    "        return i-j\n",
    "    return -1"
   ]
  },
  {
   "cell_type": "code",
   "execution_count": 120,
   "metadata": {
    "ExecuteTime": {
     "end_time": "2021-03-17T02:54:26.582023Z",
     "start_time": "2021-03-17T02:54:26.578022Z"
    }
   },
   "outputs": [
    {
     "data": {
      "text/plain": [
       "4"
      ]
     },
     "execution_count": 120,
     "metadata": {},
     "output_type": "execute_result"
    }
   ],
   "source": [
    "kmp('ababababc','ababc')"
   ]
  },
  {
   "cell_type": "code",
   "execution_count": 247,
   "metadata": {
    "ExecuteTime": {
     "end_time": "2021-03-23T09:29:58.769012Z",
     "start_time": "2021-03-23T09:29:58.761983Z"
    }
   },
   "outputs": [
    {
     "data": {
      "text/plain": [
       "0"
      ]
     },
     "execution_count": 247,
     "metadata": {},
     "output_type": "execute_result"
    }
   ],
   "source": [
    "kmp('ababc','ab')"
   ]
  },
  {
   "cell_type": "markdown",
   "metadata": {},
   "source": [
    "kmp算法的复杂度是：$O(m + n)$"
   ]
  },
  {
   "cell_type": "markdown",
   "metadata": {},
   "source": [
    "# 常见技巧"
   ]
  },
  {
   "cell_type": "markdown",
   "metadata": {},
   "source": [
    "## 状态自动机"
   ]
  },
  {
   "cell_type": "markdown",
   "metadata": {},
   "source": [
    "当处理一个正在不断输入过程中的字符串，要根据 程序目前的状态 $s^0$ 以及根据当前输入的字符 c 来决定程序的下一个状态 $s^1$。\n",
    "一般状态繁多，如果单纯通过 'if...else...'来写，会出现比较臃肿的代码，并且很可能还会遗漏一些状态。\n",
    "\n",
    "一种比较好的处理方式是，列出全部的 $s^0$ - c - $s^1$。下面通过一个例子来说明。"
   ]
  },
  {
   "cell_type": "markdown",
   "metadata": {},
   "source": [
    "题目：[字符串转换整数 (atoi)](https://leetcode-cn.com/problems/string-to-integer-atoi/)"
   ]
  },
  {
   "cell_type": "markdown",
   "metadata": {},
   "source": [
    "分析如下：\n",
    "1. 4种状态：start/end(开始/结束)、signed(当前输入字符是符号)、in_number(当前输入字符是数字)\n",
    "2. 将输入的字符分成4类：空格(' ')、符号( +/-)、数字(number)、其他(others)\n",
    "3. 从4种状态经过输入的4类字符，可以得到16个下一状态（都包含在4种状态之中）。我们一一列出如下：\n",
    "\n",
    "|状态\\字符|' '|+/-|number|others|\n",
    "|:--|:--|:--|:--|:--|\n",
    "|start|start|signed|in_number|end|\n",
    "|signed|end|end|in_number|end|\n",
    "|in_number|end|end|in_number|end|\n",
    "|end|end|end|end|end|\n",
    "\n",
    "我们只需要通过代码把这个过程实现即可"
   ]
  },
  {
   "cell_type": "code",
   "execution_count": 677,
   "metadata": {
    "ExecuteTime": {
     "end_time": "2021-03-26T06:08:27.356927Z",
     "start_time": "2021-03-26T06:08:27.334975Z"
    }
   },
   "outputs": [],
   "source": [
    "INT_MAX = 2 ** 31 - 1\n",
    "INT_MIN = -2 ** 31\n",
    "\n",
    "class Automachine():\n",
    "    def __init__(self):\n",
    "        self.state = 'start'\n",
    "        self.sign = 1\n",
    "        self.ans = 0\n",
    "        self.table = {'start':['start','signed','in_number','end'],\n",
    "                     'signed':['end','end','in_number','end'],\n",
    "                     'in_number':['end','end','in_number','end'],\n",
    "                     'end':['end','end','end','end']}\n",
    "    \n",
    "    def get_colSeq(self,c):\n",
    "        if c.isspace():\n",
    "            return 0\n",
    "        elif c == '-' or c=='+':\n",
    "            return 1\n",
    "        elif c.isdigit():\n",
    "            return 2\n",
    "        return 3\n",
    "    \n",
    "    def get(self,c):\n",
    "        self.state = self.table[self.state][self.get_colSeq(c)]\n",
    "        if self.state == 'in_number':\n",
    "            self.ans = self.ans*10 + int(c)\n",
    "            self.ans = min(self.ans,INT_MAX) if self.sign == 1 else min(self.ans,-INT_MIN)\n",
    "        elif self.state == 'signed':\n",
    "            self.sign = 1 if c == '+' else -1 \n",
    "    \n",
    "class Solution():\n",
    "    def myAtoi(self, s: str) -> int:\n",
    "        automachine = Automachine()\n",
    "        for c in s:\n",
    "            automachine.get(c)\n",
    "        \n",
    "        return automachine.ans*automachine.sign"
   ]
  },
  {
   "cell_type": "code",
   "execution_count": 678,
   "metadata": {
    "ExecuteTime": {
     "end_time": "2021-03-26T06:08:27.538935Z",
     "start_time": "2021-03-26T06:08:27.529966Z"
    }
   },
   "outputs": [
    {
     "data": {
      "text/plain": [
       "-5"
      ]
     },
     "execution_count": 678,
     "metadata": {},
     "output_type": "execute_result"
    }
   ],
   "source": [
    "s='-5-'\n",
    "t=Solution()\n",
    "t.myAtoi(s)"
   ]
  },
  {
   "cell_type": "markdown",
   "metadata": {},
   "source": [
    "# 字符串练习"
   ]
  },
  {
   "cell_type": "markdown",
   "metadata": {},
   "source": [
    "## [罗马数字转整数](https://leetcode-cn.com/problems/roman-to-integer/submissions/)"
   ]
  },
  {
   "cell_type": "code",
   "execution_count": 11,
   "metadata": {
    "ExecuteTime": {
     "end_time": "2021-03-16T11:51:51.767356Z",
     "start_time": "2021-03-16T11:51:51.760390Z"
    }
   },
   "outputs": [],
   "source": [
    "class Solution:\n",
    "    def romanToInt(self, s: str) -> int:\n",
    "        map_dict={'I':1,'V':5,'X':10,'L':50,'C':100,'D':500,'M':1000,'IV':4,'IX':9,'XL':40,'XC':90,'CD':400,'CM':900}\n",
    "        ten_binary = 0\n",
    "        i = 0\n",
    "        while i < len(s):\n",
    "            char = s[i]\n",
    "            slice_char = s[i:(i+2)]  \n",
    "            if slice_char in map_dict:\n",
    "                ten_binary += map_dict[slice_char]\n",
    "                i += 2\n",
    "            else:\n",
    "                ten_binary += map_dict[char]\n",
    "                i += 1\n",
    "        return ten_binary"
   ]
  },
  {
   "cell_type": "code",
   "execution_count": 12,
   "metadata": {
    "ExecuteTime": {
     "end_time": "2021-03-16T11:51:52.094966Z",
     "start_time": "2021-03-16T11:51:52.087960Z"
    }
   },
   "outputs": [
    {
     "data": {
      "text/plain": [
       "9"
      ]
     },
     "execution_count": 12,
     "metadata": {},
     "output_type": "execute_result"
    }
   ],
   "source": [
    "s=\"IX\"\n",
    "a=Solution()\n",
    "a.romanToInt(s)"
   ]
  },
  {
   "cell_type": "markdown",
   "metadata": {},
   "source": [
    "## [最长公共前缀](https://leetcode-cn.com/problems/longest-common-prefix/submissions/)"
   ]
  },
  {
   "cell_type": "code",
   "execution_count": 39,
   "metadata": {
    "ExecuteTime": {
     "end_time": "2021-03-16T12:50:32.030566Z",
     "start_time": "2021-03-16T12:50:31.999328Z"
    }
   },
   "outputs": [],
   "source": [
    "class Solution:\n",
    "    def longestCommonPrefix(self, strs: list) -> str:\n",
    "        if len(strs) == 0:\n",
    "            return ''\n",
    "        prefix,count = strs[0],len(strs)\n",
    "        \n",
    "        for i in range(1,count):\n",
    "            prefix = self.twolcp(prefix,strs[i])\n",
    "            if prefix == '':\n",
    "                break \n",
    "        return prefix\n",
    "        \n",
    "        \n",
    "    def twolcp(self,str1,str2):\n",
    "        length,index = min(len(str1),len(str2)),0\n",
    "        \n",
    "        while index<length and str1[index] == str2[index]:\n",
    "            index +=1\n",
    "        return str1[:index]\n",
    "    \n",
    "    def longestCommonPrefix_v2(self, strs: list) -> str:\n",
    "        if len(strs) == 0:\n",
    "            return ''\n",
    "        if len(strs) == 1:\n",
    "            return strs[0]\n",
    "        \n",
    "        s1,strs_1,common_prefix = strs[0],strs[1:],''\n",
    "        \n",
    "        bool_v = 1\n",
    "        for i in range(len(s1)):\n",
    "            s = s1[i]\n",
    "            for j in strs_1:\n",
    "                if len(j)<i+1 or s!=j[i]:\n",
    "                    bool_v = 0\n",
    "                    break \n",
    "            \n",
    "            if bool_v:\n",
    "                common_prefix += s1[i]\n",
    "            else:\n",
    "                break\n",
    "        return common_prefix"
   ]
  },
  {
   "cell_type": "code",
   "execution_count": 38,
   "metadata": {
    "ExecuteTime": {
     "end_time": "2021-03-16T12:49:13.790993Z",
     "start_time": "2021-03-16T12:49:13.777981Z"
    }
   },
   "outputs": [
    {
     "data": {
      "text/plain": [
       "'fl'"
      ]
     },
     "execution_count": 38,
     "metadata": {},
     "output_type": "execute_result"
    }
   ],
   "source": [
    "strs = [\"flower\",\"flow\",\"flight\"]\n",
    "# strs=['aa','a']\n",
    "a=Solution()\n",
    "a.longestCommonPrefix(strs)\n"
   ]
  },
  {
   "cell_type": "markdown",
   "metadata": {},
   "source": [
    "## [有效的括号](https://leetcode-cn.com/problems/valid-parentheses/submissions/)"
   ]
  },
  {
   "cell_type": "code",
   "execution_count": 78,
   "metadata": {
    "ExecuteTime": {
     "end_time": "2021-03-16T13:33:57.149936Z",
     "start_time": "2021-03-16T13:33:57.130933Z"
    }
   },
   "outputs": [],
   "source": [
    "class Solution:\n",
    "    def isValid(self, s: str) -> bool:\n",
    "        if len(s)%2 == 1:\n",
    "            return False\n",
    "        \n",
    "        maps = {')':'(',\"}\":\"{\",\"]\":\"[\"}\n",
    "        left_l = []\n",
    "        for i in s:\n",
    "            if i in maps:\n",
    "                if not left_l or left_l[-1] != maps[i]:\n",
    "                    return False\n",
    "                left_l.pop()\n",
    "            else:\n",
    "                left_l.append(i)\n",
    "   \n",
    "        return len(left_l) == 0\n",
    "            \n",
    "                \n",
    "        \n",
    "    def isValid_v2(self, s: str) -> bool:\n",
    "        if len(s)%2 == 1:\n",
    "            return False\n",
    "        \n",
    "        maps = {'(':1,')':-1,'{':2,'}':-2,'[':3,']':-3}\n",
    "        map_lst = [maps[i] for i in s]\n",
    "        left_l = []\n",
    "        for i in map_lst:\n",
    "            #入栈\n",
    "            if i>0:\n",
    "                left_l.append(i)\n",
    "            else:\n",
    "                if len(left_l) == 0:\n",
    "                    return False\n",
    "                elif i + left_l[-1] != 0:\n",
    "                    return False\n",
    "                else:\n",
    "                    left_l.pop(-1)\n",
    "        if len(left_l) == 0:\n",
    "            return True\n",
    "        else:\n",
    "            return False\n",
    "                "
   ]
  },
  {
   "cell_type": "code",
   "execution_count": 79,
   "metadata": {
    "ExecuteTime": {
     "end_time": "2021-03-16T13:33:57.421460Z",
     "start_time": "2021-03-16T13:33:57.411486Z"
    },
    "run_control": {
     "marked": true
    }
   },
   "outputs": [
    {
     "data": {
      "text/plain": [
       "True"
      ]
     },
     "execution_count": 79,
     "metadata": {},
     "output_type": "execute_result"
    }
   ],
   "source": [
    "s=\"{}{{[]}}\"\n",
    "a=Solution()\n",
    "a.isValid(s)"
   ]
  },
  {
   "cell_type": "code",
   "execution_count": null,
   "metadata": {},
   "outputs": [],
   "source": []
  },
  {
   "cell_type": "code",
   "execution_count": null,
   "metadata": {},
   "outputs": [],
   "source": [
    "class Solution:\n",
    "    def checkValidString(self, s: str) -> bool:\n",
    "        maps = {')':'('}\n",
    "        left = []\n",
    "        right = []\n",
    "        :\n",
    "            if i in maps:\n",
    "                if not left_l or left_l[-1] != maps[i]:\n",
    "                    return False\n",
    "                left_l.pop()\n",
    "            else:\n",
    "                left_l.append(i)\n",
    "   \n",
    "        return len(left_l) == 0\n",
    "        \n",
    "        "
   ]
  },
  {
   "cell_type": "markdown",
   "metadata": {},
   "source": [
    "## [机器人能否返回原点](https://leetcode-cn.com/problems/robot-return-to-origin/)"
   ]
  },
  {
   "cell_type": "code",
   "execution_count": 432,
   "metadata": {
    "ExecuteTime": {
     "end_time": "2021-03-18T13:04:19.463123Z",
     "start_time": "2021-03-18T13:04:19.456122Z"
    }
   },
   "outputs": [],
   "source": [
    "class Solution:\n",
    "    def judgeCircle(self, moves: str) -> bool:\n",
    "        x,y = 0,0\n",
    "        for i in moves:\n",
    "            if i == 'U':\n",
    "                x += 1\n",
    "            elif i == 'D':\n",
    "                x -= 1\n",
    "            elif i == 'L':\n",
    "                y += 1\n",
    "            elif i == 'R':\n",
    "                y -= 1\n",
    "        return x == y  == 0\n",
    "        \n",
    "    def judgeCircle_v2(self, moves: str) -> bool:\n",
    "        move_dict = {}\n",
    "        for i in moves:\n",
    "            move_dict[i] = move_dict.get(i,0) + 1\n",
    "            if move_dict[i]>len(moves)/2:\n",
    "                return False \n",
    "        return move_dict.get('U') == move_dict.get('D') and move_dict.get('L') == move_dict.get('R')"
   ]
  },
  {
   "cell_type": "code",
   "execution_count": 433,
   "metadata": {
    "ExecuteTime": {
     "end_time": "2021-03-18T13:04:20.025628Z",
     "start_time": "2021-03-18T13:04:20.019628Z"
    }
   },
   "outputs": [
    {
     "name": "stdout",
     "output_type": "stream",
     "text": [
      "UD True\n",
      "LL False\n"
     ]
    }
   ],
   "source": [
    "s=['UD','LL']\n",
    "a=Solution()\n",
    "for i in s:\n",
    "    print(i,a.judgeCircle(i))"
   ]
  },
  {
   "cell_type": "markdown",
   "metadata": {},
   "source": [
    "## [判断路径是否相交](https://leetcode-cn.com/problems/path-crossing/submissions/)"
   ]
  },
  {
   "cell_type": "code",
   "execution_count": 158,
   "metadata": {
    "ExecuteTime": {
     "end_time": "2021-03-23T06:49:01.480587Z",
     "start_time": "2021-03-23T06:49:01.474587Z"
    }
   },
   "outputs": [],
   "source": [
    "class Solution:\n",
    "    def isPathCrossing(self, path: str) -> bool:\n",
    "        x,y,j,res = 0,0,0,{(0,0)}\n",
    "        while j<len(path):\n",
    "            i = path[j]\n",
    "            if i == 'N':\n",
    "                x += 1\n",
    "            elif i == 'S':\n",
    "                x -= 1\n",
    "            elif i == 'E':\n",
    "                y += 1\n",
    "            elif i == 'W':\n",
    "                y -= 1\n",
    "    \n",
    "            if (x,y) not in res:\n",
    "                res.add((x,y))\n",
    "            else:\n",
    "                return True \n",
    "\n",
    "            j += 1\n",
    "        return False"
   ]
  },
  {
   "cell_type": "code",
   "execution_count": 159,
   "metadata": {
    "ExecuteTime": {
     "end_time": "2021-03-23T06:49:01.658588Z",
     "start_time": "2021-03-23T06:49:01.650586Z"
    }
   },
   "outputs": [
    {
     "data": {
      "text/plain": [
       "True"
      ]
     },
     "execution_count": 159,
     "metadata": {},
     "output_type": "execute_result"
    }
   ],
   "source": [
    "t=Solution()\n",
    "t.isPathCrossing(\"NESWW\")"
   ]
  },
  {
   "cell_type": "markdown",
   "metadata": {},
   "source": [
    "## [实现 strStr()](https://leetcode-cn.com/problems/implement-strstr/)"
   ]
  },
  {
   "cell_type": "code",
   "execution_count": 121,
   "metadata": {
    "ExecuteTime": {
     "end_time": "2021-03-17T02:54:44.861072Z",
     "start_time": "2021-03-17T02:54:44.851047Z"
    }
   },
   "outputs": [],
   "source": [
    "class Solution:\n",
    "   \n",
    "    def strStr(self, haystack: str, needle: str) -> int:\n",
    "        if needle == '':\n",
    "            return 0\n",
    "        \n",
    "        pmt_table = self.pmt(needle)\n",
    "        i,j = 0,0\n",
    "        while i<len(haystack) and j<len(needle):\n",
    "            if j == -1 or haystack[i] == needle[j]:\n",
    "                i,j = i+1, j+1\n",
    "            else:\n",
    "                j = pmt_table[j]\n",
    "        if j == len(needle):\n",
    "            return i - j \n",
    "       \n",
    "        return -1\n",
    "    \n",
    "    \n",
    "    def pmt(self,strs):\n",
    "        pmt_table = [-1]*len(strs)\n",
    "        m,s = 0,-1\n",
    "        \n",
    "        while m<len(strs)-1:\n",
    "            if s ==  -1 or strs[m] == strs[s]:\n",
    "                m,s = m+1, s+1\n",
    "                pmt_table[m] = s\n",
    "            else:\n",
    "                s = pmt_table[s]\n",
    "        return pmt_table"
   ]
  },
  {
   "cell_type": "code",
   "execution_count": 122,
   "metadata": {
    "ExecuteTime": {
     "end_time": "2021-03-17T02:54:45.545464Z",
     "start_time": "2021-03-17T02:54:45.539467Z"
    }
   },
   "outputs": [
    {
     "data": {
      "text/plain": [
       "2"
      ]
     },
     "execution_count": 122,
     "metadata": {},
     "output_type": "execute_result"
    }
   ],
   "source": [
    "haystack = \"hello\"\n",
    "needle = \"ll\"\n",
    "a=Solution()\n",
    "a.strStr(haystack,needle)"
   ]
  },
  {
   "cell_type": "markdown",
   "metadata": {},
   "source": [
    "## [外观数列](https://leetcode-cn.com/problems/count-and-say/)"
   ]
  },
  {
   "cell_type": "code",
   "execution_count": 141,
   "metadata": {
    "ExecuteTime": {
     "end_time": "2021-03-17T05:48:43.749736Z",
     "start_time": "2021-03-17T05:48:43.741738Z"
    }
   },
   "outputs": [],
   "source": [
    "class Solution:\n",
    "    def countAndSay(self, n: int) -> str:\n",
    "        for i in range(1,n+1):\n",
    "            if i == 1:\n",
    "                 re = '1'\n",
    "            else:\n",
    "                \n",
    "                a,re  = self.conti_str(re,'')\n",
    "        return re\n",
    "    \n",
    "    def conti_str(self,s,state_s):\n",
    "        length = len(s)\n",
    "        if length == 0:\n",
    "            return '',state_s\n",
    "        i = 0\n",
    "        cnt = 1\n",
    "        while i<length-1 and s[i+1] == s[i]:\n",
    "                cnt += 1\n",
    "                i += 1\n",
    "        state_s +=  str(cnt)+ s[i]\n",
    "        return self.conti_str(s[(i+1):],state_s)"
   ]
  },
  {
   "cell_type": "code",
   "execution_count": 143,
   "metadata": {
    "ExecuteTime": {
     "end_time": "2021-03-17T05:48:49.335634Z",
     "start_time": "2021-03-17T05:48:49.328611Z"
    }
   },
   "outputs": [
    {
     "data": {
      "text/plain": [
       "'1211'"
      ]
     },
     "execution_count": 143,
     "metadata": {},
     "output_type": "execute_result"
    }
   ],
   "source": [
    "a=Solution()\n",
    "a.countAndSay(4)"
   ]
  },
  {
   "cell_type": "markdown",
   "metadata": {
    "ExecuteTime": {
     "end_time": "2021-03-17T03:48:55.270719Z",
     "start_time": "2021-03-17T03:48:55.266718Z"
    }
   },
   "source": [
    "## [最后一个单词的长度](https://leetcode-cn.com/problems/length-of-last-word/)"
   ]
  },
  {
   "cell_type": "code",
   "execution_count": 177,
   "metadata": {
    "ExecuteTime": {
     "end_time": "2021-03-17T06:28:11.404446Z",
     "start_time": "2021-03-17T06:28:11.398446Z"
    }
   },
   "outputs": [],
   "source": [
    "class Solution:\n",
    "    def lengthOfLastWord(self, s: str) -> int:\n",
    "               \n",
    "        i,empty_bool, res =0,1,0\n",
    "        while i <len(s):\n",
    "            char = s[i]\n",
    "            if char != ' ':\n",
    "                if empty_bool == 1:\n",
    "                    res += 1\n",
    "                else:\n",
    "                    res = 1\n",
    "                    empty_bool = 1\n",
    "            else:\n",
    "                empty_bool = 0\n",
    "            i += 1\n",
    "        return res"
   ]
  },
  {
   "cell_type": "code",
   "execution_count": 178,
   "metadata": {
    "ExecuteTime": {
     "end_time": "2021-03-17T06:28:11.730249Z",
     "start_time": "2021-03-17T06:28:11.724216Z"
    }
   },
   "outputs": [
    {
     "data": {
      "text/plain": [
       "5"
      ]
     },
     "execution_count": 178,
     "metadata": {},
     "output_type": "execute_result"
    }
   ],
   "source": [
    "s=\"Hello World\"\n",
    "a=Solution()\n",
    "a.lengthOfLastWord(s)"
   ]
  },
  {
   "cell_type": "markdown",
   "metadata": {},
   "source": [
    "## [二进制求和](https://leetcode-cn.com/problems/add-binary/)"
   ]
  },
  {
   "cell_type": "code",
   "execution_count": 191,
   "metadata": {
    "ExecuteTime": {
     "end_time": "2021-03-17T06:52:02.147643Z",
     "start_time": "2021-03-17T06:52:02.138645Z"
    }
   },
   "outputs": [],
   "source": [
    "class Solution:\n",
    "    def addBinary(self, a: str, b: str) -> str:\n",
    "        a1,b1 = a[::-1],b[::-1]\n",
    "        \n",
    "        i,j,last_div,res = 0,0,0,''\n",
    "        while i<len(a1) or j<len(b1):\n",
    "            \n",
    "            x =int(a1[i])  if i<len(a1) else 0\n",
    "            y =int(b1[i])  if i<len(b1) else 0\n",
    "            xy_sum = x + y + last_div\n",
    "            last_div = xy_sum//2\n",
    "            res += str(xy_sum%2)\n",
    "            \n",
    "            i += 1\n",
    "            j += 1\n",
    "        if last_div == 1:\n",
    "            res += str(last_div)\n",
    "        return res[::-1] "
   ]
  },
  {
   "cell_type": "code",
   "execution_count": 193,
   "metadata": {
    "ExecuteTime": {
     "end_time": "2021-03-17T06:52:17.014664Z",
     "start_time": "2021-03-17T06:52:17.005663Z"
    }
   },
   "outputs": [
    {
     "data": {
      "text/plain": [
       "'100'"
      ]
     },
     "execution_count": 193,
     "metadata": {},
     "output_type": "execute_result"
    }
   ],
   "source": [
    "a = \"11\"\n",
    "b = \"1\"\n",
    "t=Solution()\n",
    "t.addBinary(a,b)"
   ]
  },
  {
   "cell_type": "markdown",
   "metadata": {},
   "source": [
    "## [字符串相加](https://leetcode-cn.com/problems/add-strings/submissions/)"
   ]
  },
  {
   "cell_type": "markdown",
   "metadata": {},
   "source": [
    "## [验证回文串](https://leetcode-cn.com/problems/valid-palindrome/)"
   ]
  },
  {
   "cell_type": "code",
   "execution_count": 217,
   "metadata": {
    "ExecuteTime": {
     "end_time": "2021-03-17T07:10:03.047503Z",
     "start_time": "2021-03-17T07:10:03.040489Z"
    }
   },
   "outputs": [],
   "source": [
    "class Solution:\n",
    "    def isPalindrome(self, s: str) -> bool:\n",
    "        import re \n",
    "        s1=''.join([i.lower() for i in re.findall('[a-zA-Z0-9]', s)])\n",
    "        length = len(s1)\n",
    "        first_part = s1[:length//2]\n",
    "        \n",
    "        if length%2 == 0:\n",
    "            second_part = s1[length//2:]\n",
    "        else:\n",
    "            second_part = s1[(length//2+1):]\n",
    "        return first_part == second_part[::-1]"
   ]
  },
  {
   "cell_type": "code",
   "execution_count": 222,
   "metadata": {
    "ExecuteTime": {
     "end_time": "2021-03-17T07:10:50.360545Z",
     "start_time": "2021-03-17T07:10:50.355546Z"
    }
   },
   "outputs": [
    {
     "data": {
      "text/plain": [
       "True"
      ]
     },
     "execution_count": 222,
     "metadata": {},
     "output_type": "execute_result"
    }
   ],
   "source": [
    "s=\"A man, a plan, a canal: Panama\"\n",
    "t=Solution()\n",
    "t.isPalindrome(s)"
   ]
  },
  {
   "cell_type": "markdown",
   "metadata": {},
   "source": [
    "## [验证回文字符串 Ⅱ](https://leetcode-cn.com/problems/valid-palindrome-ii/submissions/)"
   ]
  },
  {
   "cell_type": "code",
   "execution_count": 471,
   "metadata": {
    "ExecuteTime": {
     "end_time": "2021-03-19T02:26:52.121637Z",
     "start_time": "2021-03-19T02:26:52.114673Z"
    }
   },
   "outputs": [],
   "source": [
    "class Solution:\n",
    "    def validPalindrome(self, s: str) -> bool:\n",
    "        left,right = 0,len(s)-1\n",
    "        while left<right:\n",
    "            if s[left] == s[right]:\n",
    "                left += 1\n",
    "                right -= 1\n",
    "            else:              \n",
    "                return self.checkPalindrome(s,left+1,right) or self.checkPalindrome(s,left,right-1)\n",
    "        else:\n",
    "            return True\n",
    "        \n",
    "    def checkPalindrome(self,s,left,right):\n",
    "        while left<right:\n",
    "            if s[left] != s[right]:\n",
    "                return False\n",
    "            left += 1\n",
    "            right -= 1\n",
    "        return True"
   ]
  },
  {
   "cell_type": "code",
   "execution_count": 472,
   "metadata": {
    "ExecuteTime": {
     "end_time": "2021-03-19T02:26:52.323639Z",
     "start_time": "2021-03-19T02:26:52.315672Z"
    }
   },
   "outputs": [
    {
     "name": "stdout",
     "output_type": "stream",
     "text": [
      "aba True\n"
     ]
    }
   ],
   "source": [
    "s=['aba']\n",
    "t=Solution()\n",
    "for i in s:\n",
    "    print(i,t.validPalindrome(i))"
   ]
  },
  {
   "cell_type": "markdown",
   "metadata": {},
   "source": [
    "## [反转字符串](https://leetcode-cn.com/problems/reverse-string/submissions/)"
   ]
  },
  {
   "cell_type": "code",
   "execution_count": 227,
   "metadata": {
    "ExecuteTime": {
     "end_time": "2021-03-17T10:58:49.543649Z",
     "start_time": "2021-03-17T10:58:49.538649Z"
    }
   },
   "outputs": [],
   "source": [
    "class Solution:\n",
    "    def reverseString(self, s: list) -> None:\n",
    "        \"\"\"\n",
    "        Do not return anything, modify s in-place instead.\n",
    "        \"\"\"\n",
    "        left,right = 0,len(s)-1\n",
    "        while left<right:\n",
    "            s[right],s[left]=s[left],s[right]\n",
    "            left += 1\n",
    "            right -= 1\n",
    "        return s"
   ]
  },
  {
   "cell_type": "code",
   "execution_count": 229,
   "metadata": {
    "ExecuteTime": {
     "end_time": "2021-03-17T10:58:54.147519Z",
     "start_time": "2021-03-17T10:58:54.141522Z"
    }
   },
   "outputs": [
    {
     "data": {
      "text/plain": [
       "['o', 'l', 'l', 'e', 'h']"
      ]
     },
     "execution_count": 229,
     "metadata": {},
     "output_type": "execute_result"
    }
   ],
   "source": [
    "s=[\"h\",\"e\",\"l\",\"l\",\"o\"]\n",
    "t=Solution()\n",
    "t.reverseString(s)"
   ]
  },
  {
   "cell_type": "markdown",
   "metadata": {},
   "source": [
    "## [仅仅反转字母](https://leetcode-cn.com/problems/reverse-only-letters/submissions/)"
   ]
  },
  {
   "cell_type": "code",
   "execution_count": 701,
   "metadata": {
    "ExecuteTime": {
     "end_time": "2021-03-19T09:53:08.740245Z",
     "start_time": "2021-03-19T09:53:08.735250Z"
    }
   },
   "outputs": [],
   "source": [
    "class Solution:\n",
    "    def reverseOnlyLetters(self, S: str) -> str:\n",
    "        l,r = 0,len(S)-1\n",
    "        slst = list(S)\n",
    "        while l<r:\n",
    "            while l<r and not S[l].isalpha():\n",
    "                l += 1\n",
    "            while l<r and not S[r].isalpha():\n",
    "                r -= 1 \n",
    "            slst[r],slst[l] = slst[l],slst[r]\n",
    "            l += 1\n",
    "            r -= 1\n",
    "        return ''.join(slst) "
   ]
  },
  {
   "cell_type": "code",
   "execution_count": 702,
   "metadata": {
    "ExecuteTime": {
     "end_time": "2021-03-19T09:53:08.921282Z",
     "start_time": "2021-03-19T09:53:08.914254Z"
    }
   },
   "outputs": [
    {
     "data": {
      "text/plain": [
       "'7_28]'"
      ]
     },
     "execution_count": 702,
     "metadata": {},
     "output_type": "execute_result"
    }
   ],
   "source": [
    "S=\"7_28]\"\n",
    "t=Solution()\n",
    "t.reverseOnlyLetters(S)\n",
    "# 输出：\"j-Ih-gfE-dCba\"\n"
   ]
  },
  {
   "cell_type": "markdown",
   "metadata": {},
   "source": [
    "## [反转字符串中的元音字母](https://leetcode-cn.com/problems/reverse-vowels-of-a-string/)"
   ]
  },
  {
   "cell_type": "code",
   "execution_count": 240,
   "metadata": {
    "ExecuteTime": {
     "end_time": "2021-03-17T11:11:53.960744Z",
     "start_time": "2021-03-17T11:11:53.954703Z"
    }
   },
   "outputs": [],
   "source": [
    "class Solution:\n",
    "    def reverseVowels(self, s: str) -> str:\n",
    "        vowel = 'aeiouAEIOU'\n",
    "        s1 = list(s)\n",
    "        left,right = 0,len(s)-1\n",
    "        while left<right:\n",
    "            while left<right and s[left] not in vowel:\n",
    "                left += 1\n",
    "            while left<right and s[right] not in vowel:\n",
    "                right -= 1\n",
    "                         \n",
    "            s1[right],s1[left]=s1[left],s1[right]\n",
    "            left += 1\n",
    "            right -= 1\n",
    "        return ''.join(s1)"
   ]
  },
  {
   "cell_type": "code",
   "execution_count": 241,
   "metadata": {
    "ExecuteTime": {
     "end_time": "2021-03-17T11:11:54.817561Z",
     "start_time": "2021-03-17T11:11:54.808597Z"
    }
   },
   "outputs": [
    {
     "data": {
      "text/plain": [
       "'holle'"
      ]
     },
     "execution_count": 241,
     "metadata": {},
     "output_type": "execute_result"
    }
   ],
   "source": [
    "s='hello'\n",
    "t=Solution()\n",
    "t.reverseVowels(s)"
   ]
  },
  {
   "cell_type": "markdown",
   "metadata": {},
   "source": [
    "## [赎金信](https://leetcode-cn.com/problems/ransom-note/)"
   ]
  },
  {
   "cell_type": "code",
   "execution_count": 248,
   "metadata": {
    "ExecuteTime": {
     "end_time": "2021-03-18T05:59:17.162259Z",
     "start_time": "2021-03-18T05:59:17.158255Z"
    }
   },
   "outputs": [],
   "source": [
    "class Solution:\n",
    "    def canConstruct(self, ransomNote: str, magazine: str) -> bool:\n",
    "        mlist = list(magazine)\n",
    "        i = 0\n",
    "        while i< len(ransomNote) and ransomNote[i] in mlist:\n",
    "                mlist.remove(ransomNote[i])\n",
    "                i += 1\n",
    "        if i == len(ransomNote):\n",
    "            return True\n",
    "        return False"
   ]
  },
  {
   "cell_type": "code",
   "execution_count": 250,
   "metadata": {
    "ExecuteTime": {
     "end_time": "2021-03-18T05:59:28.473694Z",
     "start_time": "2021-03-18T05:59:28.466668Z"
    }
   },
   "outputs": [
    {
     "data": {
      "text/plain": [
       "True"
      ]
     },
     "execution_count": 250,
     "metadata": {},
     "output_type": "execute_result"
    }
   ],
   "source": [
    "ransomNote = 'aa'\n",
    "magazine = 'aba'\n",
    "t=Solution()\n",
    "t.canConstruct(ransomNote, magazine)"
   ]
  },
  {
   "cell_type": "markdown",
   "metadata": {},
   "source": [
    "## [字符串中的第一个唯一字符](https://leetcode-cn.com/problems/first-unique-character-in-a-string/)"
   ]
  },
  {
   "cell_type": "code",
   "execution_count": 268,
   "metadata": {
    "ExecuteTime": {
     "end_time": "2021-03-18T06:52:15.297811Z",
     "start_time": "2021-03-18T06:52:15.284813Z"
    }
   },
   "outputs": [],
   "source": [
    "class Solution:\n",
    "    def firstUniqChar(self, s: str) -> int:\n",
    "        if len(s) == 0:\n",
    "            return -1\n",
    "        slist = list(s)\n",
    "        unitstr = self.find_str(slist)\n",
    "        if unitstr == '':\n",
    "            return -1\n",
    "        for i in range(len(s)):\n",
    "            if s[i] == unitstr:\n",
    "                return i\n",
    "        \n",
    "    def find_str(self,slist):\n",
    "        if len(slist) == 0:\n",
    "            return ''\n",
    "        \n",
    "        char = slist[0]\n",
    "        slist = slist[1:]\n",
    "        if char not in slist:\n",
    "            return char \n",
    "        else:\n",
    "            slist = [i for i in slist if i != char]\n",
    "            return self.find_str(slist)"
   ]
  },
  {
   "cell_type": "code",
   "execution_count": 269,
   "metadata": {
    "ExecuteTime": {
     "end_time": "2021-03-18T06:52:15.741395Z",
     "start_time": "2021-03-18T06:52:15.733390Z"
    }
   },
   "outputs": [
    {
     "data": {
      "text/plain": [
       "-1"
      ]
     },
     "execution_count": 269,
     "metadata": {},
     "output_type": "execute_result"
    }
   ],
   "source": [
    "s = \"aadadaad\"\n",
    "t=Solution()\n",
    "t.firstUniqChar(s)"
   ]
  },
  {
   "cell_type": "markdown",
   "metadata": {},
   "source": [
    "## [字符串中的单词数](https://leetcode-cn.com/problems/number-of-segments-in-a-string/submissions/)"
   ]
  },
  {
   "cell_type": "code",
   "execution_count": 277,
   "metadata": {
    "ExecuteTime": {
     "end_time": "2021-03-18T07:39:04.000851Z",
     "start_time": "2021-03-18T07:39:03.994890Z"
    }
   },
   "outputs": [],
   "source": [
    "class Solution:\n",
    "    def countSegments(self, s: str) -> int:\n",
    "               \n",
    "        i,char_bool, index =0,0,0\n",
    "        while i <len(s):\n",
    "            char = s[i]\n",
    "            if char !=' ':\n",
    "                if char_bool == 0:\n",
    "                    index += 1\n",
    "                    char_bool = 1\n",
    "            else:\n",
    "                char_bool = 0\n",
    "            i += 1\n",
    "        return index"
   ]
  },
  {
   "cell_type": "code",
   "execution_count": 278,
   "metadata": {
    "ExecuteTime": {
     "end_time": "2021-03-18T07:39:07.320687Z",
     "start_time": "2021-03-18T07:39:07.316686Z"
    }
   },
   "outputs": [
    {
     "data": {
      "text/plain": [
       "5"
      ]
     },
     "execution_count": 278,
     "metadata": {},
     "output_type": "execute_result"
    }
   ],
   "source": [
    "s = \"Hello, my name is John\"\n",
    "t=Solution()\n",
    "t.countSegments(s)"
   ]
  },
  {
   "cell_type": "markdown",
   "metadata": {},
   "source": [
    "## [反转字符串中的单词 III](https://leetcode-cn.com/problems/reverse-words-in-a-string-iii/)"
   ]
  },
  {
   "cell_type": "code",
   "execution_count": 602,
   "metadata": {
    "ExecuteTime": {
     "end_time": "2021-03-19T07:39:36.171584Z",
     "start_time": "2021-03-19T07:39:36.165619Z"
    }
   },
   "outputs": [],
   "source": [
    "class Solution:\n",
    "    def reverseWords(self, s: str) -> str:\n",
    "               \n",
    "        i, unit_word,res =0,'',''\n",
    "        while i <len(s):\n",
    "            char = s[i]\n",
    "            if char !=' ':\n",
    "                unit_word += char\n",
    "            else:\n",
    "                res += unit_word[::-1] + char\n",
    "                unit_word = ''\n",
    "    \n",
    "            i += 1\n",
    "        res += unit_word[::-1]\n",
    "        return res"
   ]
  },
  {
   "cell_type": "code",
   "execution_count": 426,
   "metadata": {
    "ExecuteTime": {
     "end_time": "2021-03-18T12:46:16.978397Z",
     "start_time": "2021-03-18T12:46:16.972380Z"
    }
   },
   "outputs": [
    {
     "data": {
      "text/plain": [
       "\"s'teL ekat edoCteeL tsetnoc\""
      ]
     },
     "execution_count": 426,
     "metadata": {},
     "output_type": "execute_result"
    }
   ],
   "source": [
    "s = \"Let's take LeetCode contest\"\n",
    "t=Solution()\n",
    "t.reverseWords(s)"
   ]
  },
  {
   "cell_type": "markdown",
   "metadata": {},
   "source": [
    "## [重复的子字符串](https://leetcode-cn.com/problems/repeated-substring-pattern/submissions/)"
   ]
  },
  {
   "cell_type": "code",
   "execution_count": 373,
   "metadata": {
    "ExecuteTime": {
     "end_time": "2021-03-18T10:01:54.686081Z",
     "start_time": "2021-03-18T10:01:54.676083Z"
    }
   },
   "outputs": [],
   "source": [
    "class Solution:\n",
    "    def repeatedSubstringPattern(self, s: str) -> bool:\n",
    "        if len(s)<=1:\n",
    "            return False\n",
    "       \n",
    "        t = s + s\n",
    "        t1 = t[1:] + t[0]\n",
    "        m = self.kmp(t1,s)\n",
    "#         print(t1,s,m)\n",
    "        return m>=0 and m<len(s)-1\n",
    "            \n",
    "    def pmt_table(self,s_str):\n",
    "        # s模式串\n",
    "        m,s,pmt = 0,-1,[-1]*len(s_str)\n",
    "\n",
    "        while m<len(s_str)-1:\n",
    "            if s == -1 or s_str[m] == s_str[s]:\n",
    "                m += 1\n",
    "                s += 1\n",
    "                pmt[m] = s \n",
    "            else:\n",
    "                s = pmt[s]\n",
    "        return pmt\n",
    "\n",
    "\n",
    "    def kmp(self,m,s):\n",
    "        # m主串，s模式串\n",
    "        i,j = 0,0 \n",
    "        pmt = self.pmt_table(s)\n",
    "        while i<len(m) and j<len(s):\n",
    "            # 模式串循环结束，匹配成功；否则失败\n",
    "            if m[i] == s[j] or j== -1:\n",
    "                i,j = i+1,j+1\n",
    "            else:\n",
    "                j = pmt[j]\n",
    "        if j == len(s):\n",
    "            return i-j\n",
    "        return -1"
   ]
  },
  {
   "cell_type": "code",
   "execution_count": 374,
   "metadata": {
    "ExecuteTime": {
     "end_time": "2021-03-18T10:01:55.022647Z",
     "start_time": "2021-03-18T10:01:55.017631Z"
    }
   },
   "outputs": [
    {
     "data": {
      "text/plain": [
       "True"
      ]
     },
     "execution_count": 374,
     "metadata": {},
     "output_type": "execute_result"
    }
   ],
   "source": [
    "t=Solution()\n",
    "t.repeatedSubstringPattern(\"zzz\") "
   ]
  },
  {
   "cell_type": "markdown",
   "metadata": {
    "ExecuteTime": {
     "end_time": "2021-03-18T09:07:36.897344Z",
     "start_time": "2021-03-18T09:07:36.892320Z"
    }
   },
   "source": [
    "## [检测大写字母](https://leetcode-cn.com/problems/detect-capital/submissions/)"
   ]
  },
  {
   "cell_type": "code",
   "execution_count": 390,
   "metadata": {
    "ExecuteTime": {
     "end_time": "2021-03-18T11:28:37.713865Z",
     "start_time": "2021-03-18T11:28:37.707882Z"
    }
   },
   "outputs": [],
   "source": [
    "# 全部字母都是大写，比如\"USA\"。\n",
    "# 单词中所有字母都不是大写，比如\"leetcode\"。\n",
    "# 如果单词不只含有一个字母，只有首字母大写， 比如 \"Google\"。\n",
    "\n",
    "class Solution:\n",
    "    def detectCapitalUse(self, word: str) -> bool:\n",
    "        num = 0\n",
    "        for i in word:\n",
    "            if i.isupper():\n",
    "                num += 1\n",
    "            \n",
    "        word_len = len(word)\n",
    "        return word_len ==  num or num == 0 or (num == 1 and word[0].isupper())"
   ]
  },
  {
   "cell_type": "code",
   "execution_count": 391,
   "metadata": {
    "ExecuteTime": {
     "end_time": "2021-03-18T11:28:37.875168Z",
     "start_time": "2021-03-18T11:28:37.870166Z"
    }
   },
   "outputs": [
    {
     "name": "stdout",
     "output_type": "stream",
     "text": [
      "ABC True\n",
      "abc True\n",
      "Abc True\n",
      "aBC False\n"
     ]
    }
   ],
   "source": [
    "s = ['ABC','abc','Abc','aBC']\n",
    "t=Solution()\n",
    "for i in s:\n",
    "    print(i,t.detectCapitalUse(i)) "
   ]
  },
  {
   "cell_type": "markdown",
   "metadata": {
    "ExecuteTime": {
     "end_time": "2021-03-18T11:10:12.884269Z",
     "start_time": "2021-03-18T11:10:12.880271Z"
    }
   },
   "source": [
    "## [最长特殊序列 Ⅰ](https://leetcode-cn.com/problems/longest-uncommon-subsequence-i/submissions/)"
   ]
  },
  {
   "cell_type": "markdown",
   "metadata": {},
   "source": [
    "## [反转字符串 II](https://leetcode-cn.com/problems/reverse-string-ii/submissions/)"
   ]
  },
  {
   "cell_type": "code",
   "execution_count": 395,
   "metadata": {
    "ExecuteTime": {
     "end_time": "2021-03-18T11:55:26.187580Z",
     "start_time": "2021-03-18T11:55:26.179578Z"
    }
   },
   "outputs": [],
   "source": [
    "class Solution:\n",
    "    def reverseStr(self, s: str, k: int) -> str:\n",
    "        rest = ''\n",
    "        return self.rest_reverse(rest,s,k)\n",
    "        \n",
    "    def rest_reverse(self,rest,s,k):\n",
    "        \n",
    "        if len(s)<k:\n",
    "            rest += s[::-1]\n",
    "            return rest\n",
    "        else:\n",
    "            part1 = s[:k]\n",
    "            part2 = s[k:2*k]\n",
    "            s = s[2*k:]\n",
    "            rest += part1[::-1] + part2\n",
    "            return self.rest_reverse(rest,s,k)\n",
    "    \n",
    "    \n",
    "    def reverseStr_v2(self, s, k):\n",
    "        a = list(s)\n",
    "        for i in range(0, len(a), 2*k):\n",
    "            a[i:i+k] = reversed(a[i:i+k])\n",
    "        return \"\".join(a)"
   ]
  },
  {
   "cell_type": "code",
   "execution_count": 394,
   "metadata": {
    "ExecuteTime": {
     "end_time": "2021-03-18T11:49:09.699011Z",
     "start_time": "2021-03-18T11:49:09.693974Z"
    }
   },
   "outputs": [
    {
     "data": {
      "text/plain": [
       "'bacdfeg'"
      ]
     },
     "execution_count": 394,
     "metadata": {},
     "output_type": "execute_result"
    }
   ],
   "source": [
    "s = \"abcdefg\"\n",
    "k = 2\n",
    "   \n",
    "t=Solution()\n",
    "t.reverseStr(s,k)"
   ]
  },
  {
   "cell_type": "markdown",
   "metadata": {},
   "source": [
    "## [学生出勤记录 I](https://leetcode-cn.com/problems/student-attendance-record-i/submissions/)"
   ]
  },
  {
   "cell_type": "code",
   "execution_count": 412,
   "metadata": {
    "ExecuteTime": {
     "end_time": "2021-03-18T12:30:02.954956Z",
     "start_time": "2021-03-18T12:30:02.946954Z"
    }
   },
   "outputs": [],
   "source": [
    "class Solution:\n",
    "    def checkRecord(self, s: str) -> bool:\n",
    "        L_list = []\n",
    "        A_num = 0\n",
    "        index = 0\n",
    "        for i in s:\n",
    "            if i == 'A':\n",
    "                A_num += 1\n",
    "            if i ==  'L':\n",
    "                if len(L_list) == 0 :\n",
    "                    L_list.append(index)\n",
    "                else:\n",
    "                    if index - L_list[-1] == 1:\n",
    "                        L_list.append(index)\n",
    "                    else:\n",
    "                        L_list = [index]\n",
    "            if A_num>=2 or len(L_list)>=3:\n",
    "                return False\n",
    "            \n",
    "            index += 1\n",
    "\n",
    "        return A_num<2 and len(L_list)<3\n",
    "               "
   ]
  },
  {
   "cell_type": "code",
   "execution_count": 413,
   "metadata": {
    "ExecuteTime": {
     "end_time": "2021-03-18T12:30:03.408309Z",
     "start_time": "2021-03-18T12:30:03.402319Z"
    }
   },
   "outputs": [
    {
     "name": "stdout",
     "output_type": "stream",
     "text": [
      "PPALLP True\n",
      "PPALLL False\n"
     ]
    }
   ],
   "source": [
    "s=[\"PPALLP\",\"PPALLL\"]\n",
    "t=Solution()\n",
    "for i in s:\n",
    "    print(i,t.checkRecord(i))"
   ]
  },
  {
   "cell_type": "markdown",
   "metadata": {},
   "source": [
    "## [计数二进制子串](https://leetcode-cn.com/problems/count-binary-substrings/submissions/)"
   ]
  },
  {
   "cell_type": "code",
   "execution_count": 523,
   "metadata": {
    "ExecuteTime": {
     "end_time": "2021-03-19T05:58:07.429360Z",
     "start_time": "2021-03-19T05:58:07.415364Z"
    }
   },
   "outputs": [],
   "source": [
    "class Solution:\n",
    "    def countBinarySubstrings(self, s: str) -> int:\n",
    "        s1,s2 = 0,1\n",
    "        res = 0\n",
    "        for i in range(1,len(s)):\n",
    "            if s[i] == s[i-1]:\n",
    "                s2 += 1\n",
    "            else:\n",
    "                res += min(s1,s2)\n",
    "                s1 = s2\n",
    "                s2 = 1\n",
    "        res += min(s1,s2)\n",
    "        return res\n",
    "            \n",
    "    def countBinarySubstrings_v2(self, s: str) -> int:\n",
    "        str_map = {'0':'','1':''}\n",
    "        p = None\n",
    "        map_dict = {'0':'1','1':'0'}\n",
    "        cum_dict = {'0':0,'1':0}\n",
    "        res = []\n",
    "        for i in s:            \n",
    "            # cum的计算：入栈\n",
    "            num_cum = cum_dict[i]\n",
    "            reverse_cum = cum_dict[map_dict[i]]\n",
    "            if reverse_cum == 0 or (num_cum != 0 and num_cum<reverse_cum):\n",
    "                str_map[i] += i\n",
    "                cum_dict[i] += 1 \n",
    "            else:\n",
    "                str_map[i] = i \n",
    "                cum_dict[i] = 1\n",
    "            p = 0 if i == '0' else 1\n",
    "           \n",
    "            zero_cum,one_cum = cum_dict['0'],cum_dict['1']\n",
    "            zero_str,one_str = str_map['0'],str_map['1']\n",
    "            # 根据cum当前情况抽取符合情况的值\n",
    "            \n",
    "            if zero_cum != 0 and one_cum != 0:\n",
    "                if zero_cum< one_cum:\n",
    "                    strs = one_str[0:zero_cum] + zero_str\n",
    "                    \n",
    "                elif zero_cum > one_cum:\n",
    "                    strs = zero_str[0:one_cum] + one_str\n",
    "                else:\n",
    "                    if p == 1:\n",
    "                        strs = zero_str[0:one_cum] + one_str\n",
    "                        cum_dict['0'] = 0\n",
    "                    else:\n",
    "                        strs = one_str[0:zero_cum] + zero_str\n",
    "                        cum_dict['1'] = 0\n",
    "                        \n",
    "                        \n",
    "                res.append(strs)\n",
    "            \n",
    "        return len(res)      "
   ]
  },
  {
   "cell_type": "code",
   "execution_count": 524,
   "metadata": {
    "ExecuteTime": {
     "end_time": "2021-03-19T05:58:07.608041Z",
     "start_time": "2021-03-19T05:58:07.604039Z"
    },
    "scrolled": true
   },
   "outputs": [
    {
     "data": {
      "text/plain": [
       "6"
      ]
     },
     "execution_count": 524,
     "metadata": {},
     "output_type": "execute_result"
    }
   ],
   "source": [
    "s=\"00110011\"\n",
    "t=Solution()\n",
    "t.countBinarySubstrings(s)"
   ]
  },
  {
   "cell_type": "markdown",
   "metadata": {
    "ExecuteTime": {
     "end_time": "2021-03-19T06:04:29.220871Z",
     "start_time": "2021-03-19T06:04:29.214838Z"
    }
   },
   "source": [
    "## [转换成小写字母](https://leetcode-cn.com/problems/to-lower-case/submissions/)"
   ]
  },
  {
   "cell_type": "markdown",
   "metadata": {},
   "source": [
    "## [旋转数字](https://leetcode-cn.com/problems/rotated-digits/submissions/)"
   ]
  },
  {
   "cell_type": "code",
   "execution_count": 538,
   "metadata": {
    "ExecuteTime": {
     "end_time": "2021-03-19T06:31:38.896197Z",
     "start_time": "2021-03-19T06:31:38.888225Z"
    }
   },
   "outputs": [],
   "source": [
    "class Solution:\n",
    "    def rotatedDigits(self, N: int) -> int:\n",
    "        match_str = '2569'\n",
    "        not_match_str = '347'\n",
    "        res = 0\n",
    "        for i in range(2,N+1):\n",
    "            s = str(i)\n",
    "            res += all(char not in not_match_str for char in s) and any(char in match_str for char in s)\n",
    "        return res\n",
    "                    \n",
    "                    \n",
    "    def rotatedDigits_v2(self, N: int) -> int:\n",
    "        map_dict ={'0':'0','1':'1','8':'8','2':'5','5':'2','6':'9','9':'6'}\n",
    "        not_match_lst = '347'\n",
    "        \n",
    "        def rotatedN(N,num):\n",
    "            if N<=1:\n",
    "                return num \n",
    "            else:\n",
    "                s = str(N)\n",
    "                s1 = ''.join([map_dict.get(i,'') for i in s])\n",
    "                if len(s1)<len(s) or s1 == s:\n",
    "                    return rotatedN(N-1,num)\n",
    "                else:\n",
    "                    return rotatedN(N-1,num+1)\n",
    "        \n",
    "        return rotatedN(N,0)"
   ]
  },
  {
   "cell_type": "code",
   "execution_count": 539,
   "metadata": {
    "ExecuteTime": {
     "end_time": "2021-03-19T06:31:39.432063Z",
     "start_time": "2021-03-19T06:31:39.426048Z"
    }
   },
   "outputs": [
    {
     "data": {
      "text/plain": [
       "4"
      ]
     },
     "execution_count": 539,
     "metadata": {},
     "output_type": "execute_result"
    }
   ],
   "source": [
    "s=10\n",
    "t=Solution()\n",
    "t.rotatedDigits(s)"
   ]
  },
  {
   "cell_type": "markdown",
   "metadata": {},
   "source": [
    "## [唯一摩尔斯密码词](https://leetcode-cn.com/problems/unique-morse-code-words/)"
   ]
  },
  {
   "cell_type": "code",
   "execution_count": 553,
   "metadata": {
    "ExecuteTime": {
     "end_time": "2021-03-19T06:41:17.884774Z",
     "start_time": "2021-03-19T06:41:17.876790Z"
    }
   },
   "outputs": [],
   "source": [
    "class Solution:\n",
    "    def uniqueMorseRepresentations(self, words: list) -> int:\n",
    "        mos = [\".-\",\"-...\",\"-.-.\",\"-..\",\".\",\"..-.\",\"--.\",\"....\",\"..\",\".---\",\"-.-\",\".-..\",\"--\",\"-.\",\"---\",\".--.\",\"--.-\",\".-.\",\"...\",\"-\",\"..-\",\"...-\",\".--\",\"-..-\",\"-.--\",\"--..\"]\n",
    "        first = ord('a')\n",
    "        map_dict = {}\n",
    "        for i in range(26):\n",
    "            map_dict.update({chr(first + i):mos[i]})\n",
    "        s = set()\n",
    "        for word in words:\n",
    "            wordmos = ''.join([map_dict[i] for i in word])\n",
    "            s.add(wordmos)\n",
    "        return len(s)\n",
    "    "
   ]
  },
  {
   "cell_type": "code",
   "execution_count": 554,
   "metadata": {
    "ExecuteTime": {
     "end_time": "2021-03-19T06:41:18.641136Z",
     "start_time": "2021-03-19T06:41:18.635137Z"
    }
   },
   "outputs": [
    {
     "data": {
      "text/plain": [
       "2"
      ]
     },
     "execution_count": 554,
     "metadata": {},
     "output_type": "execute_result"
    }
   ],
   "source": [
    "words = [\"gin\", \"zen\", \"gig\", \"msg\"]\n",
    "t=Solution()\n",
    "t.uniqueMorseRepresentations(words)"
   ]
  },
  {
   "cell_type": "markdown",
   "metadata": {
    "ExecuteTime": {
     "end_time": "2021-03-19T06:39:53.189780Z",
     "start_time": "2021-03-19T06:39:53.184744Z"
    }
   },
   "source": [
    "## [最常见的单词](https://leetcode-cn.com/problems/most-common-word/submissions/)"
   ]
  },
  {
   "cell_type": "code",
   "execution_count": 603,
   "metadata": {
    "ExecuteTime": {
     "end_time": "2021-03-19T07:39:49.173787Z",
     "start_time": "2021-03-19T07:39:49.163790Z"
    }
   },
   "outputs": [],
   "source": [
    "class Solution:\n",
    "    def mostCommonWord(self, paragraph: str, banned: list) -> str:\n",
    "               \n",
    "        i, unit_word,res =0,'',{}\n",
    "        while i <len(paragraph):\n",
    "            char = paragraph[i]\n",
    "            if char.isalpha():\n",
    "                unit_word += char.lower()\n",
    "            elif unit_word:\n",
    "                if unit_word not in banned:\n",
    "                    res[unit_word] = res.get(unit_word,0) + 1\n",
    "                \n",
    "                unit_word = ''\n",
    "    \n",
    "            i += 1\n",
    "        if unit_word != '':\n",
    "            res[unit_word] = res.get(unit_word,0) + 1\n",
    "        max_str,cnt = None,0\n",
    "        for k in res:\n",
    "            if res[k]>cnt:\n",
    "                cnt = res[k]\n",
    "                max_str = k\n",
    "                \n",
    "        return max_str"
   ]
  },
  {
   "cell_type": "code",
   "execution_count": 604,
   "metadata": {
    "ExecuteTime": {
     "end_time": "2021-03-19T07:39:49.391787Z",
     "start_time": "2021-03-19T07:39:49.381825Z"
    }
   },
   "outputs": [
    {
     "data": {
      "text/plain": [
       "'b'"
      ]
     },
     "execution_count": 604,
     "metadata": {},
     "output_type": "execute_result"
    }
   ],
   "source": [
    "paragraph = \"a, a, a, a, b,b,b,c, c\"\n",
    "banned = [\"a\"]\n",
    "t=Solution()\n",
    "t.mostCommonWord(paragraph,banned)"
   ]
  },
  {
   "cell_type": "markdown",
   "metadata": {},
   "source": [
    "## [山羊拉丁文](https://leetcode-cn.com/problems/goat-latin/submissions/)"
   ]
  },
  {
   "cell_type": "code",
   "execution_count": 611,
   "metadata": {
    "ExecuteTime": {
     "end_time": "2021-03-19T07:55:00.553129Z",
     "start_time": "2021-03-19T07:55:00.547131Z"
    }
   },
   "outputs": [],
   "source": [
    "class Solution:\n",
    "    def toGoatLatin(self, S: str) -> str:\n",
    "        i, unit_word,res,index =0,'','',0\n",
    "        para = 'aeiou'\n",
    "        while i <len(S):\n",
    "            char = S[i]\n",
    "            if char.isalpha():\n",
    "                unit_word += char\n",
    "            elif unit_word:\n",
    "                index += 1\n",
    "                \n",
    "                first = unit_word[0].lower()\n",
    "                if first not in para:\n",
    "                    unit_word =  unit_word[1:] + unit_word[0] \n",
    "                unit_word += 'ma'+ 'a'*index\n",
    "                \n",
    "                res += unit_word + char\n",
    "                \n",
    "                unit_word = ''\n",
    "    \n",
    "            i += 1\n",
    "        \n",
    "        index += 1\n",
    "        first = unit_word[0].lower()\n",
    "        if first not in para:\n",
    "            unit_word =  unit_word[1:] + unit_word[0] \n",
    "        unit_word += 'ma'+ 'a'*indx\n",
    "\n",
    "        res += unit_word\n",
    "        return res   "
   ]
  },
  {
   "cell_type": "code",
   "execution_count": 612,
   "metadata": {
    "ExecuteTime": {
     "end_time": "2021-03-19T07:55:00.947414Z",
     "start_time": "2021-03-19T07:55:00.940455Z"
    }
   },
   "outputs": [
    {
     "name": "stdout",
     "output_type": "stream",
     "text": [
      "Latin\n"
     ]
    },
    {
     "data": {
      "text/plain": [
       "'Imaa peaksmaaa oatGmaaaa atinLmaaaa'"
      ]
     },
     "execution_count": 612,
     "metadata": {},
     "output_type": "execute_result"
    }
   ],
   "source": [
    "S=\"I speak Goat Latin\"\n",
    "t=Solution()\n",
    "t.toGoatLatin(S)"
   ]
  },
  {
   "cell_type": "markdown",
   "metadata": {},
   "source": [
    "## [亲密字符串](https://leetcode-cn.com/problems/buddy-strings/)"
   ]
  },
  {
   "cell_type": "code",
   "execution_count": 625,
   "metadata": {
    "ExecuteTime": {
     "end_time": "2021-03-19T08:25:31.736659Z",
     "start_time": "2021-03-19T08:25:31.730674Z"
    }
   },
   "outputs": [],
   "source": [
    "class Solution:\n",
    "    def buddyStrings(self, a: str, b: str) -> bool:\n",
    "        if len(a) != len(b):\n",
    "            return False\n",
    "        if a == b:\n",
    "            for i in range(len(a)-1):\n",
    "                if a[i] in a[(i+1):]:\n",
    "                    return True\n",
    "            return False\n",
    "        else:\n",
    "            alist,blist = list(a),list(b)\n",
    "            index = 0\n",
    "            turn_index = 0\n",
    "            for i in range(len(a)):\n",
    "                if a[i] != b[i]:\n",
    "                    index += 1\n",
    "                    if index == 1:\n",
    "                        turn_index = i\n",
    "                    \n",
    "                    if index == 2:\n",
    "                        alist[turn_index],alist[i] = alist[i],alist[turn_index]\n",
    "                        return alist == blist\n",
    "            return False  "
   ]
  },
  {
   "cell_type": "code",
   "execution_count": 624,
   "metadata": {
    "ExecuteTime": {
     "end_time": "2021-03-19T08:24:36.243580Z",
     "start_time": "2021-03-19T08:24:36.236544Z"
    }
   },
   "outputs": [
    {
     "data": {
      "text/plain": [
       "True"
      ]
     },
     "execution_count": 624,
     "metadata": {},
     "output_type": "execute_result"
    }
   ],
   "source": [
    "a='abcd'\n",
    "b='cbad'\n",
    "t=Solution()\n",
    "t.buddyStrings(a, b)"
   ]
  },
  {
   "cell_type": "markdown",
   "metadata": {},
   "source": [
    "## [特殊等价字符串组](https://leetcode-cn.com/problems/groups-of-special-equivalent-strings/submissions/)"
   ]
  },
  {
   "cell_type": "code",
   "execution_count": 672,
   "metadata": {
    "ExecuteTime": {
     "end_time": "2021-03-19T09:32:31.478332Z",
     "start_time": "2021-03-19T09:32:31.474300Z"
    }
   },
   "outputs": [],
   "source": [
    "class Solution:\n",
    "    from itertools import combinations\n",
    "    def numSpecialEquivGroups(self, A: list) -> int:\n",
    "        s = set()\n",
    "        for word in A:\n",
    "            s.add(''.join(sorted(word[::2]) + sorted(word[1::2])))\n",
    "        return len(s)   "
   ]
  },
  {
   "cell_type": "code",
   "execution_count": 674,
   "metadata": {
    "ExecuteTime": {
     "end_time": "2021-03-19T09:32:32.839300Z",
     "start_time": "2021-03-19T09:32:32.828301Z"
    }
   },
   "outputs": [
    {
     "data": {
      "text/plain": [
       "3"
      ]
     },
     "execution_count": 674,
     "metadata": {},
     "output_type": "execute_result"
    }
   ],
   "source": [
    "A=[\"abcd\",\"cdab\",\"cbad\",\"xyzz\",\"zzxy\",\"zzyx\"]\n",
    "# A=[\"abc\",\"acb\",\"bac\",\"bca\",\"cab\",\"cba\"]\n",
    "t=Solution()\n",
    "t.numSpecialEquivGroups(A)"
   ]
  },
  {
   "cell_type": "markdown",
   "metadata": {},
   "source": [
    "## [长按键入](https://leetcode-cn.com/problems/long-pressed-name/)"
   ]
  },
  {
   "cell_type": "code",
   "execution_count": 408,
   "metadata": {
    "ExecuteTime": {
     "end_time": "2021-03-24T09:24:23.208751Z",
     "start_time": "2021-03-24T09:24:23.200750Z"
    }
   },
   "outputs": [],
   "source": [
    "class Solution:\n",
    "    def isLongPressedName(self, name: str, typed: str) -> bool:\n",
    "        if len(typed)<len(name):\n",
    "            return False \n",
    "        i,j = 0,0 \n",
    "        while i<len(name) and j<len(typed):\n",
    "           \n",
    "            c1 = name[i]\n",
    "            c2 = typed[j]\n",
    "            \n",
    "            if c1 == c2:\n",
    "                i,j = i+1,j+1\n",
    "                \n",
    "            else:\n",
    "                if i-1>=0 and c2 == name[i-1]:\n",
    "                    j += 1\n",
    "                else:\n",
    "                    return False\n",
    "            \n",
    "        if j<len(typed):\n",
    "            return typed[j:] == name[-1]*(len(typed)-j)\n",
    "        elif i >= len(name) and j == len(typed):\n",
    "            return True\n",
    "        else:\n",
    "            return False"
   ]
  },
  {
   "cell_type": "code",
   "execution_count": 409,
   "metadata": {
    "ExecuteTime": {
     "end_time": "2021-03-24T09:24:23.395754Z",
     "start_time": "2021-03-24T09:24:23.387750Z"
    }
   },
   "outputs": [
    {
     "data": {
      "text/plain": [
       "True"
      ]
     },
     "execution_count": 409,
     "metadata": {},
     "output_type": "execute_result"
    }
   ],
   "source": [
    "name = \"pyplrz\"\n",
    "typed = \"ppyypllr\"\n",
    "name = \"alex\"\n",
    "typed=\"alexxr\"\n",
    "name=\"vtkgn\"\n",
    "typed=\"vttkgnn\"\n",
    "t=Solution()\n",
    "t.isLongPressedName(name, typed)"
   ]
  },
  {
   "cell_type": "markdown",
   "metadata": {},
   "source": [
    "## [独特的电子邮件地址](https://leetcode-cn.com/problems/unique-email-addresses/submissions/)"
   ]
  },
  {
   "cell_type": "code",
   "execution_count": 17,
   "metadata": {
    "ExecuteTime": {
     "end_time": "2021-03-22T06:21:49.686793Z",
     "start_time": "2021-03-22T06:21:49.680821Z"
    }
   },
   "outputs": [],
   "source": [
    "class Solution:\n",
    "    def numUniqueEmails(self, emails: list) -> int:\n",
    "        email_set = set()\n",
    "        for email in emails:\n",
    "            real_email = ''\n",
    "            lens,i = len(email),0\n",
    "            while i<lens:\n",
    "                s = email[i]\n",
    "                if s == '+' or s == '@':\n",
    "                    while email[i] != '@':\n",
    "                        i += 1\n",
    "                    real_email += email[i:]\n",
    "                    i = lens\n",
    "                elif s != '.':\n",
    "                    real_email += s\n",
    "               \n",
    "                i += 1\n",
    "        \n",
    "            email_set.add(real_email)\n",
    "        return len(email_set)"
   ]
  },
  {
   "cell_type": "code",
   "execution_count": 18,
   "metadata": {
    "ExecuteTime": {
     "end_time": "2021-03-22T06:21:49.909788Z",
     "start_time": "2021-03-22T06:21:49.902865Z"
    }
   },
   "outputs": [
    {
     "data": {
      "text/plain": [
       "1"
      ]
     },
     "execution_count": 18,
     "metadata": {},
     "output_type": "execute_result"
    }
   ],
   "source": [
    "emails = [\"test.email+alex@leetcode.com\",\"test.e.mail+bob.cathy@leetcode.com\",\"testemail+david@lee.tcode.com\"]\n",
    "emails= [\"test.email+alex@leetcode.com\", \"test.email@leetcode.com\"]\n",
    "t=Solution()\n",
    "t.numUniqueEmails(emails)"
   ]
  },
  {
   "cell_type": "markdown",
   "metadata": {
    "ExecuteTime": {
     "end_time": "2021-03-22T08:12:57.468416Z",
     "start_time": "2021-03-22T08:12:57.464454Z"
    }
   },
   "source": [
    " ## [字符串的最大公因子](https://leetcode-cn.com/problems/greatest-common-divisor-of-strings/)"
   ]
  },
  {
   "cell_type": "code",
   "execution_count": 55,
   "metadata": {
    "ExecuteTime": {
     "end_time": "2021-03-22T09:04:12.173608Z",
     "start_time": "2021-03-22T09:04:12.163608Z"
    }
   },
   "outputs": [],
   "source": [
    "class Solution:\n",
    "    def gcdOfStrings(self, str1: str, str2: str) -> str:\n",
    "        import math\n",
    "        candidate_len = math.gcd(len(str1), len(str2))\n",
    "        candidate = str1[: candidate_len]\n",
    "        if str1 + str2 == str2 + str1:\n",
    "            return candidate\n",
    "        return ''\n",
    "\n",
    "    def gcdOfStrings_v2(self, str1: str, str2: str) -> str:\n",
    "        l1,l2 = len(str1),len(str2)\n",
    "        if l1*l2 == 0:\n",
    "            return ''\n",
    "        gcd = self.gcd(l1,l2)        \n",
    "        gcds = str1[0:gcd]\n",
    "        strs = str1 + str2\n",
    "        i,l = 0,len(strs)\n",
    "        while i<l and strs[i:(i+gcd)] == gcds: \n",
    "                    i += gcd\n",
    "  \n",
    "        if i == l:\n",
    "            return gcds\n",
    "        else:\n",
    "            return ''\n",
    "                         \n",
    "    def gcd(self,m,n):\n",
    "        m,n = max(m,n),min(m,n)\n",
    "\n",
    "        if m%n == 0:\n",
    "            return n \n",
    "        else:\n",
    "            diff = m - n \n",
    "            m,n = max(n,m-n),min(n,m-n)        \n",
    "            return self.gcd(m,n)"
   ]
  },
  {
   "cell_type": "code",
   "execution_count": 56,
   "metadata": {
    "ExecuteTime": {
     "end_time": "2021-03-22T09:04:12.366638Z",
     "start_time": "2021-03-22T09:04:12.360605Z"
    }
   },
   "outputs": [
    {
     "data": {
      "text/plain": [
       "'A'"
      ]
     },
     "execution_count": 56,
     "metadata": {},
     "output_type": "execute_result"
    }
   ],
   "source": [
    "str1 = \"AA\"\n",
    "str2 = \"A\"\n",
    "t=Solution()\n",
    "t.gcdOfStrings(str1,str2)"
   ]
  },
  {
   "cell_type": "markdown",
   "metadata": {},
   "source": [
    "## [IP 地址无效化](https://leetcode-cn.com/problems/defanging-an-ip-address/)"
   ]
  },
  {
   "cell_type": "markdown",
   "metadata": {},
   "source": [
    "## [转变日期格式](https://leetcode-cn.com/problems/reformat-date/)"
   ]
  },
  {
   "cell_type": "markdown",
   "metadata": {},
   "source": [
    "## [ “气球” 的最大数量](https://leetcode-cn.com/problems/maximum-number-of-balloons/submissions/)"
   ]
  },
  {
   "cell_type": "code",
   "execution_count": 60,
   "metadata": {
    "ExecuteTime": {
     "end_time": "2021-03-22T09:45:23.598703Z",
     "start_time": "2021-03-22T09:45:23.592703Z"
    }
   },
   "outputs": [],
   "source": [
    "class Solution:\n",
    "    def maxNumberOfBalloons(self, text: str) -> int:\n",
    "        s = \"balloon\"\n",
    "        scnt = {}\n",
    "        for i in s:\n",
    "            if i not in scnt:\n",
    "                scnt[i] = [1,0]\n",
    "            else:\n",
    "                scnt[i][0] += 1\n",
    "        for j in text:\n",
    "            if j in scnt:\n",
    "                scnt[j][1] += 1\n",
    "        num = None\n",
    "        \n",
    "        for k in scnt:\n",
    "            num1 = scnt[k][1]//scnt[k][0]\n",
    "            if num is None or num1<num:\n",
    "                num = num1\n",
    "        return num "
   ]
  },
  {
   "cell_type": "code",
   "execution_count": 61,
   "metadata": {
    "ExecuteTime": {
     "end_time": "2021-03-22T09:45:23.753734Z",
     "start_time": "2021-03-22T09:45:23.747705Z"
    }
   },
   "outputs": [
    {
     "data": {
      "text/plain": [
       "2"
      ]
     },
     "execution_count": 61,
     "metadata": {},
     "output_type": "execute_result"
    }
   ],
   "source": [
    "text = \"loonbalxballpoon\"\n",
    "t=Solution()\n",
    "t.maxNumberOfBalloons(text)"
   ]
  },
  {
   "cell_type": "markdown",
   "metadata": {},
   "source": [
    "## [分割平衡字符串](https://leetcode-cn.com/problems/split-a-string-in-balanced-strings/solution/)"
   ]
  },
  {
   "cell_type": "markdown",
   "metadata": {},
   "source": [
    "## [解码字母到整数映射](https://leetcode-cn.com/problems/decrypt-string-from-alphabet-to-integer-mapping/)"
   ]
  },
  {
   "cell_type": "code",
   "execution_count": 79,
   "metadata": {
    "ExecuteTime": {
     "end_time": "2021-03-22T11:56:24.196718Z",
     "start_time": "2021-03-22T11:56:24.190721Z"
    }
   },
   "outputs": [],
   "source": [
    "class Solution:\n",
    "    def freqAlphabets(self, s: str) -> str:\n",
    "        def get(st):\n",
    "            return chr(int(st)+96)\n",
    "        \n",
    "        i,res = 0,''\n",
    "        while i<len(s):\n",
    "            if i+2<len(s) and s[i+2] == '#':\n",
    "                res += get(s[i:i+2])\n",
    "                i += 2\n",
    "            else:\n",
    "                res += get(s[i])\n",
    "            i += 1\n",
    "        return res \n",
    "   "
   ]
  },
  {
   "cell_type": "code",
   "execution_count": 80,
   "metadata": {
    "ExecuteTime": {
     "end_time": "2021-03-22T11:56:24.476756Z",
     "start_time": "2021-03-22T11:56:24.470719Z"
    }
   },
   "outputs": [
    {
     "data": {
      "text/plain": [
       "'jkab'"
      ]
     },
     "execution_count": 80,
     "metadata": {},
     "output_type": "execute_result"
    }
   ],
   "source": [
    "t=Solution()\n",
    "t.freqAlphabets(\"10#11#12\")"
   ]
  },
  {
   "cell_type": "markdown",
   "metadata": {},
   "source": [
    "## [删除回文子序列](https://leetcode-cn.com/problems/remove-palindromic-subsequences/submissions/)"
   ]
  },
  {
   "cell_type": "markdown",
   "metadata": {
    "ExecuteTime": {
     "end_time": "2021-03-22T12:46:55.605273Z",
     "start_time": "2021-03-22T12:46:55.597275Z"
    }
   },
   "source": [
    "## [上升下降字符串](https://leetcode-cn.com/problems/increasing-decreasing-string/submissions/)"
   ]
  },
  {
   "cell_type": "code",
   "execution_count": 102,
   "metadata": {
    "ExecuteTime": {
     "end_time": "2021-03-22T13:28:11.230595Z",
     "start_time": "2021-03-22T13:28:11.224596Z"
    }
   },
   "outputs": [],
   "source": [
    "class Solution:\n",
    "    def sortString(self, s: str) -> str:\n",
    "        ch = [0]*26\n",
    "        for i in s:\n",
    "            ch[ord(i)-ord('a')] += 1\n",
    "        res = ''\n",
    "        while len(res)<len(s):\n",
    "            for i in range(26):\n",
    "                if ch[i]:\n",
    "                    res += chr(i + ord('a'))\n",
    "                    ch[i] -= 1\n",
    "            for i in range(25,-1,-1):\n",
    "                if ch[i]:\n",
    "                    res += chr(i + ord('a'))\n",
    "                    ch[i] -= 1\n",
    "        return res"
   ]
  },
  {
   "cell_type": "code",
   "execution_count": 103,
   "metadata": {
    "ExecuteTime": {
     "end_time": "2021-03-22T13:28:11.393596Z",
     "start_time": "2021-03-22T13:28:11.387595Z"
    }
   },
   "outputs": [
    {
     "data": {
      "text/plain": [
       "'cdelotee'"
      ]
     },
     "execution_count": 103,
     "metadata": {},
     "output_type": "execute_result"
    }
   ],
   "source": [
    "s = \"leetcode\"\n",
    "t=Solution()\n",
    "t.sortString(s)\n",
    "# 输出：\"cdelotee\""
   ]
  },
  {
   "cell_type": "markdown",
   "metadata": {},
   "source": [
    "## [生成每种字符都是奇数个的字符串](https://leetcode-cn.com/problems/generate-a-string-with-characters-that-have-odd-counts/)"
   ]
  },
  {
   "cell_type": "markdown",
   "metadata": {},
   "source": [
    "## [数组中的字符串匹配](https://leetcode-cn.com/problems/string-matching-in-an-array/submissions/)"
   ]
  },
  {
   "cell_type": "markdown",
   "metadata": {},
   "source": [
    "## [重新格式化字符串](https://leetcode-cn.com/problems/reformat-the-string/submissions/)"
   ]
  },
  {
   "cell_type": "code",
   "execution_count": 112,
   "metadata": {
    "ExecuteTime": {
     "end_time": "2021-03-23T02:13:14.485540Z",
     "start_time": "2021-03-23T02:13:14.470543Z"
    }
   },
   "outputs": [],
   "source": [
    "class Solution:\n",
    "    def reformat(self, s: str) -> str:\n",
    "        s1,s2='',''\n",
    "        for i in s:\n",
    "            if 'a'<=i<='z':\n",
    "                s1 += i \n",
    "            else:\n",
    "                s2 += i \n",
    "        if abs(len(s1)-len(s2))>=2:\n",
    "            return ''\n",
    "        if len(s) == 2:\n",
    "            return s[::-1]\n",
    "\n",
    "        if len(s1)>len(s2):\n",
    "            m = s1[::-1]\n",
    "            n = s2[::-1]\n",
    "        else:\n",
    "            m = s2[::-1]\n",
    "            n = s1[::-1]\n",
    "        res = ''\n",
    "\n",
    "        for i in range(len(m)):\n",
    "            res += m[i]\n",
    "            if i<len(n):\n",
    "                res += n[i]\n",
    "        return res "
   ]
  },
  {
   "cell_type": "code",
   "execution_count": 115,
   "metadata": {
    "ExecuteTime": {
     "end_time": "2021-03-23T02:13:28.046702Z",
     "start_time": "2021-03-23T02:13:28.038730Z"
    }
   },
   "outputs": [
    {
     "data": {
      "text/plain": [
       "'2c1b0a'"
      ]
     },
     "execution_count": 115,
     "metadata": {},
     "output_type": "execute_result"
    }
   ],
   "source": [
    "s = \"a0b1c2\"\n",
    "t=Solution()\n",
    "t.reformat(s)"
   ]
  },
  {
   "cell_type": "markdown",
   "metadata": {},
   "source": [
    "## [ 分割字符串的最大得分](https://leetcode-cn.com/problems/maximum-score-after-splitting-a-string/submissions/)"
   ]
  },
  {
   "cell_type": "markdown",
   "metadata": {},
   "source": [
    "## [ 连续字符](https://leetcode-cn.com/problems/consecutive-characters/solution/)"
   ]
  },
  {
   "cell_type": "markdown",
   "metadata": {},
   "source": [
    "## [旅行终点站](https://leetcode-cn.com/problems/destination-city/solution/)"
   ]
  },
  {
   "cell_type": "code",
   "execution_count": 127,
   "metadata": {
    "ExecuteTime": {
     "end_time": "2021-03-23T06:06:33.783297Z",
     "start_time": "2021-03-23T06:06:33.772297Z"
    }
   },
   "outputs": [],
   "source": [
    "class Solution:\n",
    "    def destCity(self, paths: list) -> str:\n",
    "        l = []\n",
    "        r = []\n",
    "        for i in paths:\n",
    "            if i[0] not in r:\n",
    "                l.append(i[0])\n",
    "            else:\n",
    "                r.remove(i[0])\n",
    "            if i[1] not in l:\n",
    "                r.append(i[1])\n",
    "            else:\n",
    "                l.remove(i[1])\n",
    "        return r[0]"
   ]
  },
  {
   "cell_type": "code",
   "execution_count": 128,
   "metadata": {
    "ExecuteTime": {
     "end_time": "2021-03-23T06:06:33.968339Z",
     "start_time": "2021-03-23T06:06:33.958295Z"
    }
   },
   "outputs": [
    {
     "data": {
      "text/plain": [
       "'Sao Paulo'"
      ]
     },
     "execution_count": 128,
     "metadata": {},
     "output_type": "execute_result"
    }
   ],
   "source": [
    "s=[[\"London\",\"New York\"],[\"New York\",\"Lima\"],[\"Lima\",\"Sao Paulo\"]]\n",
    "t=Solution()\n",
    "t.destCity(s)"
   ]
  },
  {
   "cell_type": "markdown",
   "metadata": {},
   "source": [
    "## [检查单词是否为句中其他单词的前缀](https://leetcode-cn.com/problems/check-if-a-word-occurs-as-a-prefix-of-any-word-in-a-sentence/)"
   ]
  },
  {
   "cell_type": "markdown",
   "metadata": {},
   "source": [
    "## [ 千位分隔数](https://leetcode-cn.com/problems/thousand-separator/)"
   ]
  },
  {
   "cell_type": "markdown",
   "metadata": {
    "ExecuteTime": {
     "end_time": "2021-03-23T06:56:10.184836Z",
     "start_time": "2021-03-23T06:56:10.175835Z"
    }
   },
   "source": [
    "## [整理字符串](https://leetcode-cn.com/problems/make-the-string-great/)"
   ]
  },
  {
   "cell_type": "markdown",
   "metadata": {},
   "source": [
    "## [替换所有的问号](https://leetcode-cn.com/problems/replace-all-s-to-avoid-consecutive-repeating-characters/)"
   ]
  },
  {
   "cell_type": "code",
   "execution_count": 191,
   "metadata": {
    "ExecuteTime": {
     "end_time": "2021-03-23T08:05:35.179508Z",
     "start_time": "2021-03-23T08:05:35.161546Z"
    }
   },
   "outputs": [],
   "source": [
    "class Solution:\n",
    "    def modifyString(self, s: str) -> str:\n",
    "        lens,lst,z_ord = len(s),list(s),ord('z')\n",
    "        if lst[0] == '?':\n",
    "            if lens == 1:\n",
    "                return 'a'\n",
    "            else:\n",
    "                lst[0] = 'a' if lst[1] != 'a' else 'b'\n",
    "        for i in range(1,len(s)-1):\n",
    "            if lst[i] == '?':\n",
    "                maxs = max(ord(lst[i-1]),ord(lst[i+1]))\n",
    "                mins = min(ord(lst[i-1]),ord(lst[i+1]))\n",
    "                \n",
    "                if maxs + 1 <=z_ord:\n",
    "                    lst[i] = chr(maxs+1)\n",
    "                elif maxs - mins>1:\n",
    "                    lst[i] = chr(maxs-1)\n",
    "                else:\n",
    "                    lst[i] = chr(mins-1)\n",
    "        \n",
    "        if lst[-1] == '?':\n",
    "            if ord(lst[-2])+1<z_ord:\n",
    "                lst[-1] = chr(ord(lst[-2])+1)\n",
    "            else:\n",
    "                lst[-1] = chr(ord(lst[-2])-1)\n",
    "        return ''.join(lst)"
   ]
  },
  {
   "cell_type": "code",
   "execution_count": 192,
   "metadata": {
    "ExecuteTime": {
     "end_time": "2021-03-23T08:05:35.409508Z",
     "start_time": "2021-03-23T08:05:35.397511Z"
    }
   },
   "outputs": [
    {
     "data": {
      "text/plain": [
       "'jrqghib'"
      ]
     },
     "execution_count": 192,
     "metadata": {},
     "output_type": "execute_result"
    }
   ],
   "source": [
    "s = \"j?qg??b\"\n",
    "t=Solution()\n",
    "t.modifyString(s)"
   ]
  },
  {
   "cell_type": "markdown",
   "metadata": {},
   "source": [
    "## [重新排列单词间的空格](https://leetcode-cn.com/problems/rearrange-spaces-between-words/submissions/)"
   ]
  },
  {
   "cell_type": "code",
   "execution_count": 231,
   "metadata": {
    "ExecuteTime": {
     "end_time": "2021-03-23T08:46:54.827808Z",
     "start_time": "2021-03-23T08:46:54.819809Z"
    }
   },
   "outputs": [],
   "source": [
    "class Solution:\n",
    "    def reorderSpaces(self, text: str) -> str:\n",
    "        if len(text) == 1 and text !=' ':\n",
    "            return text\n",
    "        cnt,lst,word = 0,[],''\n",
    "        for i in range(len(text)-1):\n",
    "            \n",
    "            char = text[i]\n",
    "            if char == ' ':\n",
    "                cnt += 1\n",
    "            if char != ' ':\n",
    "                word += char \n",
    "                if text[i+1] == ' ':\n",
    "                    lst.append(word)\n",
    "                    word = ''\n",
    "                    \n",
    "        if text[-1] == ' ':\n",
    "            cnt += 1\n",
    "        else:\n",
    "            word += text[-1]\n",
    "            lst.append(word)\n",
    "        if len(lst) == 1:\n",
    "            return ''.join(lst) + ' '*cnt \n",
    "        unit = cnt//(len(lst)-1)\n",
    "        rest = cnt%(len(lst)-1)\n",
    "        res = (' '*unit).join(lst) + ' '*rest\n",
    "        return res      "
   ]
  },
  {
   "cell_type": "code",
   "execution_count": 232,
   "metadata": {
    "ExecuteTime": {
     "end_time": "2021-03-23T08:46:54.990809Z",
     "start_time": "2021-03-23T08:46:54.984811Z"
    }
   },
   "outputs": [
    {
     "data": {
      "text/plain": [
       "'walks  udp  package  into  bar  a '"
      ]
     },
     "execution_count": 232,
     "metadata": {},
     "output_type": "execute_result"
    }
   ],
   "source": [
    "text=\"  walks  udp package   into  bar a\"\n",
    "t=Solution()\n",
    "t.reorderSpaces(text)"
   ]
  },
  {
   "cell_type": "markdown",
   "metadata": {
    "ExecuteTime": {
     "end_time": "2021-03-23T08:39:28.515212Z",
     "start_time": "2021-03-23T08:39:28.503208Z"
    }
   },
   "source": [
    "## [括号的最大嵌套深度 ](https://leetcode-cn.com/problems/maximum-nesting-depth-of-the-parentheses/)"
   ]
  },
  {
   "cell_type": "code",
   "execution_count": 243,
   "metadata": {
    "ExecuteTime": {
     "end_time": "2021-03-23T09:04:56.647714Z",
     "start_time": "2021-03-23T09:04:56.641715Z"
    }
   },
   "outputs": [],
   "source": [
    "class Solution:\n",
    "    def maxDepth(self, s: str) -> int:\n",
    "        \n",
    "        if len(s) == 0:\n",
    "            return 0 \n",
    "        j,cur_cnt = 0,0\n",
    "        num = 0\n",
    "        while j<len(s):\n",
    "            i = s[j]\n",
    "            \n",
    "            if i == '(':\n",
    "                cur_cnt += 1\n",
    "                num = max(num,cur_cnt)\n",
    "            elif i == ')':\n",
    "                cur_cnt -= 1\n",
    "            j += 1\n",
    "        return num\n"
   ]
  },
  {
   "cell_type": "code",
   "execution_count": 244,
   "metadata": {
    "ExecuteTime": {
     "end_time": "2021-03-23T09:04:56.798716Z",
     "start_time": "2021-03-23T09:04:56.791719Z"
    }
   },
   "outputs": [
    {
     "data": {
      "text/plain": [
       "3"
      ]
     },
     "execution_count": 244,
     "metadata": {},
     "output_type": "execute_result"
    }
   ],
   "source": [
    "s = \"(1+(2*3)+((8)/4))+1\"\n",
    "t=Solution()\n",
    "t.maxDepth(s)"
   ]
  },
  {
   "cell_type": "markdown",
   "metadata": {
    "ExecuteTime": {
     "end_time": "2021-03-23T09:18:13.914652Z",
     "start_time": "2021-03-23T09:18:13.911655Z"
    }
   },
   "source": [
    "## [两个相同字符之间的最长子字符串](https://leetcode-cn.com/problems/largest-substring-between-two-equal-characters/submissions/)"
   ]
  },
  {
   "cell_type": "markdown",
   "metadata": {
    "ExecuteTime": {
     "end_time": "2021-03-23T09:40:54.828856Z",
     "start_time": "2021-03-23T09:40:54.818834Z"
    }
   },
   "source": [
    "## [最大重复子字符串](https://leetcode-cn.com/problems/maximum-repeating-substring/submissions/)"
   ]
  },
  {
   "cell_type": "markdown",
   "metadata": {
    "ExecuteTime": {
     "end_time": "2021-03-23T09:40:54.994833Z",
     "start_time": "2021-03-23T09:40:54.984837Z"
    }
   },
   "source": [
    "## [统计一致字符串的数目](https://leetcode-cn.com/problems/count-the-number-of-consistent-strings/submissions/)"
   ]
  },
  {
   "cell_type": "markdown",
   "metadata": {},
   "source": [
    "## [设计 Goal 解析器](https://leetcode-cn.com/problems/goal-parser-interpretation/submissions/)"
   ]
  },
  {
   "cell_type": "markdown",
   "metadata": {},
   "source": [
    "## [重新格式化电话号码](https://leetcode-cn.com/problems/reformat-phone-number/solution/)"
   ]
  },
  {
   "cell_type": "markdown",
   "metadata": {},
   "source": [
    "## [判断字符串的两半是否相似](https://leetcode-cn.com/problems/determine-if-string-halves-are-alike/submissions/)"
   ]
  },
  {
   "cell_type": "markdown",
   "metadata": {},
   "source": [
    "## [替换隐藏数字得到的最晚时间](https://leetcode-cn.com/problems/latest-time-by-replacing-hidden-digits/submissions/)"
   ]
  },
  {
   "cell_type": "markdown",
   "metadata": {
    "ExecuteTime": {
     "end_time": "2021-03-23T12:09:27.176616Z",
     "start_time": "2021-03-23T12:09:27.152614Z"
    }
   },
   "source": [
    "## [最长的美好子字符串](https://leetcode-cn.com/problems/longest-nice-substring/)"
   ]
  },
  {
   "cell_type": "markdown",
   "metadata": {},
   "source": [
    "## [交替合并字符串](https://leetcode-cn.com/problems/merge-strings-alternately/)"
   ]
  },
  {
   "cell_type": "code",
   "execution_count": 276,
   "metadata": {
    "ExecuteTime": {
     "end_time": "2021-03-23T12:43:32.323390Z",
     "start_time": "2021-03-23T12:43:32.316373Z"
    }
   },
   "outputs": [],
   "source": [
    "class Solution:\n",
    "    def longestNiceSubstring(self, s: str) -> str:\n",
    "        \n",
    "        res = ''\n",
    "        return self.findlonlyword(s,res)\n",
    "                \n",
    "  \n",
    "    \n",
    "    def findlonlyword(self,s,res):\n",
    "        if len(s)<2:\n",
    "            return res\n",
    "        i = 0\n",
    "        while i<len(s):\n",
    "            p = s[i]\n",
    "            p1 = p.upper()  if p.islower() else p.lower()\n",
    "            if p1 in s:\n",
    "                i+=1\n",
    "            else:\n",
    "                res1 = self.findlonlyword(s[:i],res)\n",
    "                res2 = self.findlonlyword(s[i+1:],res)\n",
    "                if len(res1)>=len(res2):\n",
    "                    res = res1\n",
    "                else:\n",
    "                    res = res2\n",
    "                return  res\n",
    "        if i == len(s) and len(s)>len(res):\n",
    "            res = s\n",
    "        return res      "
   ]
  },
  {
   "cell_type": "code",
   "execution_count": 277,
   "metadata": {
    "ExecuteTime": {
     "end_time": "2021-03-23T12:43:32.483378Z",
     "start_time": "2021-03-23T12:43:32.479348Z"
    }
   },
   "outputs": [
    {
     "data": {
      "text/plain": [
       "'dD'"
      ]
     },
     "execution_count": 277,
     "metadata": {},
     "output_type": "execute_result"
    }
   ],
   "source": [
    "s =\"dDzeE\"\n",
    "t=Solution()\n",
    "t.longestNiceSubstring(s)"
   ]
  },
  {
   "cell_type": "markdown",
   "metadata": {},
   "source": [
    "## [字符串中第二大的数字](https://leetcode-cn.com/problems/second-largest-digit-in-a-string/submissions/)"
   ]
  },
  {
   "cell_type": "markdown",
   "metadata": {},
   "source": [
    "## [仅执行一次字符串交换能否使两个字符串相等](https://leetcode-cn.com/problems/check-if-one-string-swap-can-make-strings-equal/)"
   ]
  },
  {
   "cell_type": "markdown",
   "metadata": {},
   "source": [
    "## [字符串压缩](https://leetcode-cn.com/problems/compress-string-lcci/)"
   ]
  },
  {
   "cell_type": "code",
   "execution_count": 310,
   "metadata": {
    "ExecuteTime": {
     "end_time": "2021-03-23T13:58:01.566994Z",
     "start_time": "2021-03-23T13:58:01.559994Z"
    }
   },
   "outputs": [],
   "source": [
    "class Solution:\n",
    "    def compressString(self, S: str) -> str:\n",
    "        if not S:\n",
    "            return \"\"\n",
    "        ch = S[0]\n",
    "        ans = ''\n",
    "        cnt = 0\n",
    "        for c in S:\n",
    "            if c == ch:\n",
    "                cnt += 1\n",
    "            else:\n",
    "                ans += ch + str(cnt)\n",
    "                ch = c\n",
    "                cnt = 1\n",
    "        ans += ch + str(cnt)\n",
    "        return ans if len(ans) < len(S) else S"
   ]
  },
  {
   "cell_type": "code",
   "execution_count": 311,
   "metadata": {
    "ExecuteTime": {
     "end_time": "2021-03-23T13:58:01.817975Z",
     "start_time": "2021-03-23T13:58:01.809996Z"
    }
   },
   "outputs": [
    {
     "data": {
      "text/plain": [
       "'bbbaac'"
      ]
     },
     "execution_count": 311,
     "metadata": {},
     "output_type": "execute_result"
    }
   ],
   "source": [
    "S=\"bbbaac\"\n",
    "t=Solution()\n",
    "t.compressString(S)"
   ]
  },
  {
   "cell_type": "markdown",
   "metadata": {},
   "source": [
    "## [回文排列](https://leetcode-cn.com/problems/palindrome-permutation-lcci/submissions/)"
   ]
  },
  {
   "cell_type": "code",
   "execution_count": 327,
   "metadata": {
    "ExecuteTime": {
     "end_time": "2021-03-24T06:03:14.072345Z",
     "start_time": "2021-03-24T06:03:14.059348Z"
    }
   },
   "outputs": [],
   "source": [
    "class Solution:\n",
    "    def canPermutePalindrome(self, s: str) -> bool:\n",
    "        m = {}\n",
    "        for i in s:\n",
    "            m[i] = m.get(i,0)+ 1\n",
    "        p = 0 \n",
    "        \n",
    "        for k in m:\n",
    "            if m[k]%2 == 1:   \n",
    "                p += 1\n",
    "            if p==2:\n",
    "                return False\n",
    "        return p<2"
   ]
  },
  {
   "cell_type": "code",
   "execution_count": 328,
   "metadata": {
    "ExecuteTime": {
     "end_time": "2021-03-24T06:03:14.234346Z",
     "start_time": "2021-03-24T06:03:14.226350Z"
    }
   },
   "outputs": [
    {
     "data": {
      "text/plain": [
       "True"
      ]
     },
     "execution_count": 328,
     "metadata": {},
     "output_type": "execute_result"
    }
   ],
   "source": [
    "s=\"tactcoa\"\n",
    "t=Solution()\n",
    "t.canPermutePalindrome(s)"
   ]
  },
  {
   "cell_type": "markdown",
   "metadata": {
    "ExecuteTime": {
     "end_time": "2021-03-24T11:50:51.594913Z",
     "start_time": "2021-03-24T11:50:51.589951Z"
    }
   },
   "source": [
    "## [重新排列日志文件](https://leetcode-cn.com/problems/reorder-data-in-log-files/submissions/)"
   ]
  },
  {
   "cell_type": "markdown",
   "metadata": {},
   "source": [
    "## [无重复字符的最长子串](https://leetcode-cn.com/problems/longest-substring-without-repeating-characters/)"
   ]
  },
  {
   "cell_type": "code",
   "execution_count": 456,
   "metadata": {
    "ExecuteTime": {
     "end_time": "2021-03-24T13:17:32.492829Z",
     "start_time": "2021-03-24T13:17:32.482830Z"
    }
   },
   "outputs": [],
   "source": [
    "class Solution:\n",
    "    def lengthOfLongestSubstring(self, s: str) -> int:\n",
    "        # 哈希集合是为了记录无重复的子字符串\n",
    "        substr = set()\n",
    "        n = len(s)\n",
    "        # rk = -1 是相当于在字符串左指针的左侧\n",
    "        rk,ans = -1,0 \n",
    "        for i in range(len(s)):\n",
    "            if i !=0:\n",
    "                substr.remove(s[i-1])\n",
    "            # 向右移动\n",
    "            while rk+1<n and s[rk+1] not in substr:\n",
    "                substr.add(s[rk+1])\n",
    "                rk += 1\n",
    "#             从i到rk是从i开始的最长无重复子字符串\n",
    "            ans = max(ans,rk-i+1)\n",
    "        return ans \n",
    "        \n",
    "    def lengthOfLongestSubstring_v2(self, s: str) -> int:\n",
    "        if len(s) <= 1:\n",
    "            return len(s)\n",
    "        num = 0\n",
    "        res,his_lst ='',list(range(len(s)))\n",
    "        while len(his_lst)>0:\n",
    "            i = his_lst[0]\n",
    "            \n",
    "            while i<len(s):\n",
    "                if i in his_lst:\n",
    "                    his_lst.remove(i)\n",
    "\n",
    "                while i<len(s) and s[i] not in res:\n",
    "                    res += s[i]\n",
    "                    i += 1\n",
    "\n",
    "                num = max(num,len(res))\n",
    "                res = ''\n",
    "        return num  "
   ]
  },
  {
   "cell_type": "code",
   "execution_count": 457,
   "metadata": {
    "ExecuteTime": {
     "end_time": "2021-03-24T13:17:32.668827Z",
     "start_time": "2021-03-24T13:17:32.662835Z"
    }
   },
   "outputs": [
    {
     "data": {
      "text/plain": [
       "5"
      ]
     },
     "execution_count": 457,
     "metadata": {},
     "output_type": "execute_result"
    }
   ],
   "source": [
    "s=\"bbcdef\"\n",
    "t=Solution()\n",
    "t.lengthOfLongestSubstring(s)"
   ]
  },
  {
   "cell_type": "markdown",
   "metadata": {},
   "source": [
    "## [Z 字形变换](https://leetcode-cn.com/problems/zigzag-conversion/submissions/)"
   ]
  },
  {
   "cell_type": "code",
   "execution_count": 602,
   "metadata": {
    "ExecuteTime": {
     "end_time": "2021-03-25T08:42:11.727032Z",
     "start_time": "2021-03-25T08:42:11.716998Z"
    }
   },
   "outputs": [],
   "source": [
    "class Solution:\n",
    "    def convert(self, s: str, numRows: int) -> str:\n",
    "        if numRows<2:\n",
    "            return s \n",
    "        res = ['']*numRows\n",
    "        i,direction = 0,-1\n",
    "        for c in s:\n",
    "            res[i] += c\n",
    "            if i == 0 or i == numRows-1:\n",
    "                direction = -direction\n",
    "            i += direction\n",
    "        return ''.join(res)\n",
    "    \n",
    "    \n",
    "    def convert_v2(self, s: str, numRows: int) -> str:\n",
    "        if numRows<=1:\n",
    "            return s\n",
    "        p,ni,i = 0,0,0\n",
    "        lst = ['']*numRows\n",
    "        while i<len(s):\n",
    "            while i<len(s) and p==0 and ni<=numRows-1:\n",
    "                lst[ni] += s[i]\n",
    "                ni,i = ni+1,i+1\n",
    "            ni,p= ni-1,1\n",
    "            \n",
    "            if p == 1 and ni == 0:\n",
    "                i += 1\n",
    "                \n",
    "            while i<len(s) and p == 1 and ni>0:\n",
    "                ni,i = ni-1,i+1          \n",
    "                lst[ni] += s[i]\n",
    "            ni,p = ni+1,0            \n",
    "        return ''.join(res)"
   ]
  },
  {
   "cell_type": "code",
   "execution_count": 603,
   "metadata": {
    "ExecuteTime": {
     "end_time": "2021-03-25T08:42:11.897001Z",
     "start_time": "2021-03-25T08:42:11.891025Z"
    }
   },
   "outputs": [
    {
     "data": {
      "text/plain": [
       "'PAHNAPLSIIGYIR'"
      ]
     },
     "execution_count": 603,
     "metadata": {},
     "output_type": "execute_result"
    }
   ],
   "source": [
    "s = \"PAYPALISHIRING\"\n",
    "# s='AB'\n",
    "numRows = 3\n",
    "t=Solution()\n",
    "t.convert(s, numRows)"
   ]
  },
  {
   "cell_type": "markdown",
   "metadata": {},
   "source": [
    "## [字符串转换整数 (atoi)](https://leetcode-cn.com/problems/string-to-integer-atoi/submissions/)"
   ]
  },
  {
   "cell_type": "code",
   "execution_count": 679,
   "metadata": {
    "ExecuteTime": {
     "end_time": "2021-03-26T06:09:35.889929Z",
     "start_time": "2021-03-26T06:09:35.866966Z"
    }
   },
   "outputs": [],
   "source": [
    "INT_MAX = 2 ** 31 - 1\n",
    "INT_MIN = -2 ** 31\n",
    "\n",
    "class Automachine():\n",
    "    def __init__(self):\n",
    "        self.state = 'start'\n",
    "        self.sign = 1\n",
    "        self.ans = 0\n",
    "        self.table = {'start':['start','signed','in_number','end'],\n",
    "                     'signed':['end','end','in_number','end'],\n",
    "                     'in_number':['end','end','in_number','end'],\n",
    "                     'end':['end','end','end','end']}\n",
    "    \n",
    "    def get_colSeq(self,c):\n",
    "        if c.isspace():\n",
    "            return 0\n",
    "        elif c == '-' or c=='+':\n",
    "            return 1\n",
    "        elif c.isdigit():\n",
    "            return 2\n",
    "        return 3\n",
    "    \n",
    "    def get(self,c):\n",
    "        self.state = self.table[self.state][self.get_colSeq(c)]\n",
    "        if self.state == 'in_number':\n",
    "            self.ans = self.ans*10 + int(c)\n",
    "            self.ans = min(self.ans,INT_MAX) if self.sign == 1 else min(self.ans,-INT_MIN)\n",
    "        elif self.state == 'signed':\n",
    "            self.sign = 1 if c == '+' else -1 \n",
    "    \n",
    "class Solution():\n",
    "    def myAtoi(self, s: str) -> int:\n",
    "        automachine = Automachine()\n",
    "        for c in s:\n",
    "            automachine.get(c)\n",
    "        \n",
    "        return automachine.ans*automachine.sign"
   ]
  },
  {
   "cell_type": "code",
   "execution_count": 680,
   "metadata": {
    "ExecuteTime": {
     "end_time": "2021-03-26T06:09:37.126325Z",
     "start_time": "2021-03-26T06:09:37.110332Z"
    }
   },
   "outputs": [],
   "source": [
    "class Solution:\n",
    "    def myAtoi(self, s: str) -> int:\n",
    "        if len(s) == 0:\n",
    "            return 0\n",
    "        left,right = - 2**31,2**31-1\n",
    "\n",
    "        res = ''\n",
    "        p = None\n",
    "        while len(s)>=1 and s[0] == ' ':\n",
    "            s = s[1:]\n",
    "        if len(s)>=1 and s[0] in '-+':\n",
    "            p = s[0]\n",
    "            s = s[1:]\n",
    "        else:\n",
    "            p = '+'\n",
    "            \n",
    "        if len(s) == 0:\n",
    "            return 0\n",
    "\n",
    "        for i in s:\n",
    "            if i == '0' and res == '':\n",
    "                continue\n",
    "            elif '0'<=i and i<='9':\n",
    "                res += i \n",
    "            else:\n",
    "                break \n",
    "        if res == '':\n",
    "            return 0 \n",
    "        if p == '-':\n",
    "            num = max(-int(res),left)\n",
    "        else:\n",
    "            num = min(int(res),right)\n",
    "                   \n",
    "        return num"
   ]
  },
  {
   "cell_type": "code",
   "execution_count": 681,
   "metadata": {
    "ExecuteTime": {
     "end_time": "2021-03-26T06:09:38.206948Z",
     "start_time": "2021-03-26T06:09:38.199042Z"
    }
   },
   "outputs": [
    {
     "data": {
      "text/plain": [
       "-5"
      ]
     },
     "execution_count": 681,
     "metadata": {},
     "output_type": "execute_result"
    }
   ],
   "source": [
    "# s = \"   +0 123\"\n",
    "s=\"-000000000000001\"\n",
    "s='-5-'\n",
    "# s=\" \"\n",
    "t=Solution()\n",
    "t.myAtoi(s)\n",
    "# 输出：-2147483648"
   ]
  },
  {
   "cell_type": "markdown",
   "metadata": {},
   "source": [
    "## [整数转罗马数字](https://leetcode-cn.com/problems/integer-to-roman/submissions/)"
   ]
  },
  {
   "cell_type": "code",
   "execution_count": 95,
   "metadata": {
    "ExecuteTime": {
     "end_time": "2021-03-30T10:09:45.158401Z",
     "start_time": "2021-03-30T10:09:45.145366Z"
    }
   },
   "outputs": [],
   "source": [
    "class Solution:\n",
    "    \n",
    "    def intToRoman(self, num: int) -> str:\n",
    "        digits = [(1000, \"M\"), (900, \"CM\"), (500, \"D\"), (400, \"CD\"), (100, \"C\"), (90, \"XC\"), \n",
    "          (50, \"L\"), (40, \"XL\"), (10, \"X\"), (9, \"IX\"), (5, \"V\"), (4, \"IV\"), (1, \"I\")]\n",
    "        map_lst = []\n",
    "        for k,rom in digits:\n",
    "            if num == 0:\n",
    "                break \n",
    "            count,num = divmod(num,k)\n",
    "            map_lst.append(rom*count)\n",
    "        return ''.join(map_lst)\n",
    "              \n",
    "\n",
    "    def intToRoman_v2(self, num: int) -> str:\n",
    "        map_dict = {1: 'I', 5: 'V', 10: 'X', 50: 'L', 100: 'C', 500: 'D',\n",
    "                    1000: 'M', 4: 'IV', 9: 'IX', 40: 'XL', 90: 'XC', 400: 'CD', 900: 'CM'}\n",
    "        unit_lst = [1,4,5,9,10,40,50,90,100,400,500,900,1000]\n",
    "        i,index,div = -1,0,num\n",
    "        res = ''\n",
    "        while div>0:  \n",
    "            div,mod = divmod(div,10)\n",
    "            mod = mod*(10**index)\n",
    "            index += 1   \n",
    "            \n",
    "            while i+1<len(unit_lst) and mod>=unit_lst[i+1]:\n",
    "                i += 1\n",
    "            unit = unit_lst[i]\n",
    "            \n",
    "            j = i\n",
    "            while j>0 and (mod%unit)<unit_lst[j]:\n",
    "                j -=  1\n",
    "            pre_unit = 1 if j<1 else unit_lst[j]\n",
    "            \n",
    "            a,b = divmod(mod,unit)\n",
    "            b = b//pre_unit\n",
    "\n",
    "            res  = map_dict[unit]*a + map_dict[pre_unit]*b + res\n",
    "        return res"
   ]
  },
  {
   "cell_type": "code",
   "execution_count": 96,
   "metadata": {
    "ExecuteTime": {
     "end_time": "2021-03-30T10:09:45.727365Z",
     "start_time": "2021-03-30T10:09:45.721365Z"
    }
   },
   "outputs": [
    {
     "data": {
      "text/plain": [
       "'MCMLXXXIV'"
      ]
     },
     "execution_count": 96,
     "metadata": {},
     "output_type": "execute_result"
    }
   ],
   "source": [
    "t=Solution()\n",
    "t.intToRoman(1984)"
   ]
  },
  {
   "cell_type": "markdown",
   "metadata": {},
   "source": [
    "## [电话号码的字母组合](https://leetcode-cn.com/problems/letter-combinations-of-a-phone-number/submissions/)"
   ]
  },
  {
   "cell_type": "code",
   "execution_count": 118,
   "metadata": {
    "ExecuteTime": {
     "end_time": "2021-03-30T11:41:16.136183Z",
     "start_time": "2021-03-30T11:41:16.128179Z"
    }
   },
   "outputs": [],
   "source": [
    "map_dict = {'2':'abc','3':'def','4':'ghi','5':'jkl','6':'mno','7':'pqrs','8':'tuv','9':'wxyz'}\n",
    "class Solution:\n",
    "    def letterCombinations(self, digits: str) -> list:\n",
    "        from functools import reduce\n",
    "        if len(digits)<=1:\n",
    "            return list(map_dict.get(digits,''))\n",
    "        \n",
    "        char_lst = [map_dict[i] for i in digits]\n",
    "        return reduce(lambda x,y:self.product_twolst(x,y),char_lst)\n",
    "        \n",
    "    \n",
    "    def product_twolst(self,lst1,lst2):\n",
    "        from itertools import product\n",
    "        return [''.join(i) for i in product(lst1,lst2)]"
   ]
  },
  {
   "cell_type": "code",
   "execution_count": 120,
   "metadata": {
    "ExecuteTime": {
     "end_time": "2021-03-30T12:23:59.732229Z",
     "start_time": "2021-03-30T12:23:59.721190Z"
    }
   },
   "outputs": [],
   "source": [
    "t=Solution()\n",
    "s=t.letterCombinations('2345')"
   ]
  },
  {
   "cell_type": "markdown",
   "metadata": {},
   "source": [
    "## [字符串相乘](https://leetcode-cn.com/problems/multiply-strings/)"
   ]
  },
  {
   "cell_type": "code",
   "execution_count": 121,
   "metadata": {
    "ExecuteTime": {
     "end_time": "2021-03-30T12:28:24.817462Z",
     "start_time": "2021-03-30T12:28:24.811459Z"
    }
   },
   "outputs": [],
   "source": [
    "class Solution:\n",
    "    def multiply(self, num1: str, num2: str) -> str:\n",
    "        n1,n2 = num1[::-1],num2[::-1]\n",
    "        n1_lst = [int(n1[i])*(10**i) for i in range(len(n1))]\n",
    "        n2_lst = [int(n2[i])*(10**i) for i in range(len(n2))]\n",
    "        from itertools import product\n",
    "        \n",
    "        ans = 0\n",
    "        for x,y in product(n1_lst,n2_lst):\n",
    "            ans +=  x*y\n",
    "        return ans \n",
    "           "
   ]
  },
  {
   "cell_type": "code",
   "execution_count": 123,
   "metadata": {
    "ExecuteTime": {
     "end_time": "2021-03-30T12:28:51.471782Z",
     "start_time": "2021-03-30T12:28:51.465738Z"
    }
   },
   "outputs": [
    {
     "data": {
      "text/plain": [
       "24600"
      ]
     },
     "execution_count": 123,
     "metadata": {},
     "output_type": "execute_result"
    }
   ],
   "source": [
    "t=Solution()\n",
    "t.multiply('123','200')"
   ]
  },
  {
   "cell_type": "markdown",
   "metadata": {
    "ExecuteTime": {
     "end_time": "2021-03-30T12:37:52.972434Z",
     "start_time": "2021-03-30T12:37:52.966432Z"
    }
   },
   "source": [
    "## [字母异位词分组](https://leetcode-cn.com/problems/group-anagrams/)"
   ]
  },
  {
   "cell_type": "markdown",
   "metadata": {},
   "source": [
    "## [翻转字符串里的单词](https://leetcode-cn.com/problems/reverse-words-in-a-string/)"
   ]
  },
  {
   "cell_type": "code",
   "execution_count": 139,
   "metadata": {
    "ExecuteTime": {
     "end_time": "2021-03-30T13:19:29.849249Z",
     "start_time": "2021-03-30T13:19:29.841228Z"
    }
   },
   "outputs": [],
   "source": [
    "class Solution:\n",
    "    def reverseWords(self, s: str) -> str:\n",
    "        st = [i for i in s.split(' ') if ' ' not  in i and i !='']\n",
    "        print(st)\n",
    "        return ' '.join(st[::-1])\n",
    "\n",
    "    def reverseWords_V2(self, s: str) -> str:\n",
    "        # 使用双端队列\n",
    "        left, right = 0, len(s) - 1\n",
    "        # 去掉字符串开头的空白字符\n",
    "        while left <= right and s[left] == ' ':\n",
    "            left += 1\n",
    "        \n",
    "        # 去掉字符串末尾的空白字符\n",
    "        while left <= right and s[right] == ' ':\n",
    "            right -= 1\n",
    "            \n",
    "        d, word = collections.deque(), []\n",
    "        # 将单词 push 到队列的头部\n",
    "        while left <= right:\n",
    "            if s[left] == ' ' and word:\n",
    "                d.appendleft(''.join(word))\n",
    "                word = []\n",
    "            elif s[left] != ' ':\n",
    "                word.append(s[left])\n",
    "            left += 1\n",
    "        d.appendleft(''.join(word))\n",
    "        \n",
    "        return ' '.join(d)"
   ]
  },
  {
   "cell_type": "code",
   "execution_count": 137,
   "metadata": {
    "ExecuteTime": {
     "end_time": "2021-03-30T13:13:11.952244Z",
     "start_time": "2021-03-30T13:13:11.947275Z"
    }
   },
   "outputs": [
    {
     "name": "stdout",
     "output_type": "stream",
     "text": [
      "['hello', 'world']\n"
     ]
    },
    {
     "data": {
      "text/plain": [
       "'world hello'"
      ]
     },
     "execution_count": 137,
     "metadata": {},
     "output_type": "execute_result"
    }
   ],
   "source": [
    "t=Solution()\n",
    "t.reverseWords(\"  hello world  \")"
   ]
  },
  {
   "cell_type": "markdown",
   "metadata": {},
   "source": [
    "## [比较版本号](https://leetcode-cn.com/problems/compare-version-numbers/)"
   ]
  },
  {
   "cell_type": "code",
   "execution_count": 196,
   "metadata": {
    "ExecuteTime": {
     "end_time": "2021-03-31T04:02:24.423010Z",
     "start_time": "2021-03-31T04:02:24.417010Z"
    }
   },
   "outputs": [],
   "source": [
    "# class Solution:\n",
    "#     def compareVersion(self, version1: str, version2: str) -> int:\n",
    "#         s1 = [int(i) for i in version1.split('.')]\n",
    "#         s2 = [int(i) for i in version2.split('.')]\n",
    "#         i,j = 0,0\n",
    "#         while i<len(s1) or j<len(s2):\n",
    "#             x = s1[i] if i<len(s1) else 0\n",
    "#             y = s2[j] if j<len(s2) else 0\n",
    "#             if x > y:\n",
    "#                 return 1\n",
    "#             elif x<y:\n",
    "#                 return -1 \n",
    "            \n",
    "#             i+= 1\n",
    "#             j+= 1\n",
    "#         return 0         \n",
    "\n",
    "class Solution:\n",
    "    def compareVersion(self, version1: str, version2: str) -> int:\n",
    "        p1,p2 = 0,0\n",
    "        l1,l2 = len(version1),len(version2)\n",
    "        while p1<l1 or p2<l2:\n",
    "            num1,p1 = self.getNextBlock(version1,l1,p1)\n",
    "            num2,p2 = self.getNextBlock(version2,l2,p2)\n",
    "            if num1 != num2:\n",
    "                return 1 if num1>num2 else -1\n",
    "        return 0\n",
    "          \n",
    "    def getNextBlock(self,version,length,p):\n",
    "        if p>length-1:\n",
    "            return 0,p\n",
    "        end = p \n",
    "        while end<length and version[end] != '.':\n",
    "            end += 1\n",
    "        num = int(version[p:end]) if end != length else int(version[p:length])\n",
    "        p = end + 1\n",
    "        return num,p"
   ]
  },
  {
   "cell_type": "code",
   "execution_count": 197,
   "metadata": {
    "ExecuteTime": {
     "end_time": "2021-03-31T04:02:24.632045Z",
     "start_time": "2021-03-31T04:02:24.626020Z"
    }
   },
   "outputs": [
    {
     "data": {
      "text/plain": [
       "1"
      ]
     },
     "execution_count": 197,
     "metadata": {},
     "output_type": "execute_result"
    }
   ],
   "source": [
    "version1 = \"1.0.1\"\n",
    "version2 = \"1\"\n",
    "t=Solution()\n",
    "t.compareVersion(version1,version2)"
   ]
  },
  {
   "cell_type": "markdown",
   "metadata": {
    "ExecuteTime": {
     "end_time": "2021-03-31T02:13:13.289552Z",
     "start_time": "2021-03-31T02:13:13.283551Z"
    }
   },
   "source": [
    "## [基本计算器 II](https://leetcode-cn.com/problems/basic-calculator-ii/)"
   ]
  },
  {
   "cell_type": "code",
   "execution_count": 298,
   "metadata": {
    "ExecuteTime": {
     "end_time": "2021-04-01T02:34:19.435331Z",
     "start_time": "2021-04-01T02:34:19.425300Z"
    }
   },
   "outputs": [],
   "source": [
    "class Solution:\n",
    "    def calculate(self, s: str) -> int:\n",
    "        cal_lst = ['*','/','-','+']\n",
    "        map_dict = {'+':1,'-':-1}\n",
    "        \n",
    "        last_sum,now_value = 0,0\n",
    "        p,num,last_cal = 0,'',None\n",
    "        \n",
    "        while p<len(s):\n",
    "            # 入栈\n",
    "            while p<len(s) and s[p]>='0' and s[p]<='9':\n",
    "                num += s[p]\n",
    "                p += 1\n",
    "                \n",
    "            if num !='':\n",
    "                num = int(num)\n",
    "                if last_cal in cal_lst:\n",
    "                    if last_cal == '-' or last_cal == '+':\n",
    "                        last_sum += now_value\n",
    "                        now_value = map_dict[last_cal]*num   \n",
    "                    elif last_cal=='*' or last_cal == '/':\n",
    "                        sign = -1 if now_value<0 else 1\n",
    "                        now_value = now_value*num if last_cal == '*' else sign*(abs(now_value)//num)\n",
    "                else:\n",
    "                    last_sum += now_value\n",
    "                    now_value = num \n",
    "                num = ''\n",
    "            \n",
    "            if p<len(s) and s[p] in cal_lst:\n",
    "                last_cal = s[p]\n",
    "                   \n",
    "            p += 1\n",
    "            \n",
    "        last_sum += now_value \n",
    "        return  last_sum"
   ]
  },
  {
   "cell_type": "code",
   "execution_count": 299,
   "metadata": {
    "ExecuteTime": {
     "end_time": "2021-04-01T02:34:19.912430Z",
     "start_time": "2021-04-01T02:34:19.904301Z"
    }
   },
   "outputs": [
    {
     "data": {
      "text/plain": [
       "13"
      ]
     },
     "execution_count": 299,
     "metadata": {},
     "output_type": "execute_result"
    }
   ],
   "source": [
    "s=\"14-3/2\"\n",
    "t=Solution()\n",
    "t.calculate(s)"
   ]
  },
  {
   "cell_type": "markdown",
   "metadata": {},
   "source": [
    "## [去除重复字母](https://leetcode-cn.com/problems/remove-duplicate-letters/)"
   ]
  },
  {
   "cell_type": "code",
   "execution_count": 315,
   "metadata": {
    "ExecuteTime": {
     "end_time": "2021-04-06T03:02:57.464838Z",
     "start_time": "2021-04-06T03:02:57.459841Z"
    }
   },
   "outputs": [],
   "source": [
    "class Solution():\n",
    "    import collections\n",
    "    def removeDuplicateLetters(self,s):\n",
    "        res=[]\n",
    "        # freq[c] 表示之后时间里c会出现的次数 初始化为每个字母的频数 遍历过程中减小\n",
    "        freq=collections.Counter(s)\n",
    "        for c in s:\n",
    "            # c不在res中时再考虑是否添加\n",
    "            if c not in res:\n",
    "                # 添加前查看是否pop 注意这里是while \n",
    "                while len(res)>0 and c<res[-1] and freq[res[-1]]>0:\n",
    "                    res.pop()\n",
    "                res.append(c)\n",
    "            # 无论是否添加c 它之后出现的频数都-1\n",
    "            freq[c]-=1\n",
    "        return ''.join(res)"
   ]
  },
  {
   "cell_type": "code",
   "execution_count": 316,
   "metadata": {
    "ExecuteTime": {
     "end_time": "2021-04-06T03:02:57.677835Z",
     "start_time": "2021-04-06T03:02:57.664842Z"
    },
    "run_control": {
     "marked": true
    }
   },
   "outputs": [
    {
     "data": {
      "text/plain": [
       "'abc'"
      ]
     },
     "execution_count": 316,
     "metadata": {},
     "output_type": "execute_result"
    }
   ],
   "source": [
    "s=\"bcabc\"\n",
    "t=Solution()\n",
    "t.removeDuplicateLetters(s)"
   ]
  },
  {
   "cell_type": "markdown",
   "metadata": {},
   "source": [
    "## [压缩字符串](https://leetcode-cn.com/problems/string-compression/)"
   ]
  },
  {
   "cell_type": "code",
   "execution_count": 333,
   "metadata": {
    "ExecuteTime": {
     "end_time": "2021-04-06T10:49:17.755851Z",
     "start_time": "2021-04-06T10:49:17.749893Z"
    }
   },
   "outputs": [],
   "source": [
    "# class Solution(object):\n",
    "#     def compress(self, chars):\n",
    "#         res = []\n",
    "#         ans = 1\n",
    "#         for i in range(len(chars)-1):\n",
    "#             s=chars[i]\n",
    "#             s_next = chars[i+1]\n",
    "#             if s == s_next:\n",
    "#                 ans += 1\n",
    "#             else:\n",
    "#                 res.append(s)\n",
    "#                 if ans>1:\n",
    "#                     res.extend(str(ans))\n",
    "#                 ans = 1\n",
    "                \n",
    "#         res.append(s)\n",
    "#         if ans>1:\n",
    "#             res.extend(str(ans))\n",
    "#         chars = res \n",
    "#         return len(res)\n",
    "\n",
    "class Solution:\n",
    "    def compress(self, chars:list) -> int:\n",
    "        stack = []\n",
    "        chars.append('EOF')\n",
    "        current = 0\n",
    "        while current != 'EOF':\n",
    "            current = chars.pop(0)\n",
    "            stack.append(current)\n",
    "            if len(set(stack)) > 1:\n",
    "                next = stack.pop()\n",
    "                chars.append(stack[0])\n",
    "                if len(stack) > 1:\n",
    "                    chars.extend(list(str(len(stack))))\n",
    "                stack = [next]\n",
    "        return len(chars)"
   ]
  },
  {
   "cell_type": "code",
   "execution_count": 334,
   "metadata": {
    "ExecuteTime": {
     "end_time": "2021-04-06T10:49:18.010882Z",
     "start_time": "2021-04-06T10:49:18.001848Z"
    }
   },
   "outputs": [
    {
     "data": {
      "text/plain": [
       "6"
      ]
     },
     "execution_count": 334,
     "metadata": {},
     "output_type": "execute_result"
    }
   ],
   "source": [
    "chars=[\"a\",\"a\",\"b\",\"b\",\"c\",\"c\",\"c\"]\n",
    "t=Solution()\n",
    "t.compress(chars)"
   ]
  },
  {
   "cell_type": "markdown",
   "metadata": {
    "ExecuteTime": {
     "end_time": "2021-04-06T09:17:15.702685Z",
     "start_time": "2021-04-06T09:17:15.696651Z"
    }
   },
   "source": [
    "## [验证IP地址](https://leetcode-cn.com/problems/validate-ip-address/)"
   ]
  },
  {
   "cell_type": "code",
   "execution_count": 424,
   "metadata": {
    "ExecuteTime": {
     "end_time": "2021-04-07T06:18:14.677128Z",
     "start_time": "2021-04-07T06:18:14.666169Z"
    }
   },
   "outputs": [],
   "source": [
    "class Solution:\n",
    "    def validIPAddress(self, IP: str) -> str:\n",
    "        if '.' not in IP and ':' in IP:\n",
    "            return self.ipv6(IP)\n",
    "        elif ':' not in IP and '.' in IP:\n",
    "            return self.ipv4(IP)\n",
    "        else:\n",
    "            return \"Neither\"\n",
    "        \n",
    "    \n",
    "    def ipv6(self,ip):\n",
    "        i = 0\n",
    "        cur_ans = ''\n",
    "        index = 0\n",
    "        while i<len(ip):\n",
    "            cur = ip[i] \n",
    "            if cur.lower()<='z' and cur.lower() >'f':\n",
    "                return \"Neither\"\n",
    "            if cur != ':':\n",
    "                cur_ans += cur \n",
    "            else:\n",
    "                if len(cur_ans)>4 or len(cur_ans) == 0:\n",
    "                    return \"Neither\"\n",
    "                \n",
    "                cur_ans = ''\n",
    "                index += 1\n",
    "            i += 1\n",
    "        \n",
    "        if index!=7:\n",
    "            return \"Neither\"\n",
    "        if len(cur_ans)>4 or len(cur_ans) == 0:\n",
    "            return \"Neither\"\n",
    "        return \"IPv6\"\n",
    "        \n",
    "        \n",
    "    def ipv4(self,ip):\n",
    "        i = 0\n",
    "        cur_ans = ''\n",
    "        index = 0\n",
    "        while i<len(ip):\n",
    "            cur = ip[i] \n",
    "            if cur>='0' and cur<='9':\n",
    "                cur_ans += cur \n",
    "            elif cur == '.':                            \n",
    "                if len(cur_ans) == 0  or not 0<=int(cur_ans)<=255 or len(str(int(cur_ans))) != len(cur_ans):\n",
    "                    return \"Neither\"\n",
    "                cur_ans = ''\n",
    "                index += 1                \n",
    "            else:\n",
    "                return \"Neither\"\n",
    "            i += 1\n",
    "        if index!=3:\n",
    "            return \"Neither\"\n",
    "        if len(cur_ans) == 0  or not 0<=int(cur_ans)<=255 or len(str(int(cur_ans))) != len(cur_ans):\n",
    "            return \"Neither\"\n",
    "        \n",
    "        return \"IPv4\""
   ]
  },
  {
   "cell_type": "code",
   "execution_count": 423,
   "metadata": {
    "ExecuteTime": {
     "end_time": "2021-04-07T06:17:36.896305Z",
     "start_time": "2021-04-07T06:17:36.891323Z"
    }
   },
   "outputs": [
    {
     "data": {
      "text/plain": [
       "'Neither'"
      ]
     },
     "execution_count": 423,
     "metadata": {},
     "output_type": "execute_result"
    }
   ],
   "source": [
    "IP =\"1.0.1.\"\n",
    "t=Solution()\n",
    "t.validIPAddress(IP)"
   ]
  },
  {
   "cell_type": "markdown",
   "metadata": {},
   "source": [
    "## [最长特殊序列 II](https://leetcode-cn.com/problems/longest-uncommon-subsequence-ii/)"
   ]
  },
  {
   "cell_type": "code",
   "execution_count": 512,
   "metadata": {
    "ExecuteTime": {
     "end_time": "2021-04-08T02:47:58.717054Z",
     "start_time": "2021-04-08T02:47:58.694197Z"
    },
    "run_control": {
     "marked": true
    }
   },
   "outputs": [],
   "source": [
    "class Solution:\n",
    "    def findLUSlength(self, strs: list) -> int:\n",
    "        ans = -1\n",
    "        s=sorted(strs,key=len)\n",
    "        i = 0 \n",
    "        while len(s)>0:\n",
    "            sub = s[0]\n",
    "            rest = s[1:]\n",
    "            j = 0\n",
    "            while j<len(rest) and self.subStrs(sub,rest[j])==0:\n",
    "                mark = self.subStrs(sub,rest[j])\n",
    "                j += 1\n",
    "            \n",
    "            if j == len(rest):# 是独特子序列，将同等长度的字符串不需要判断，过滤掉\n",
    "                ans = len(sub)\n",
    "                s = [i for i in rest if len(i)>ans]\n",
    "            else: #非独特子序列，将该元素以及相等元素过滤掉\n",
    "                s = [i for i in rest if i!=sub]                   \n",
    "        return ans \n",
    "    \n",
    "    def subStrs(self,son,father):\n",
    "        i,j = 0,0\n",
    "        while i<len(son) and j<len(father):\n",
    "            s1 = son[i]\n",
    "            s2 = father[j]\n",
    "            if s1 == s2:\n",
    "                i = i+1\n",
    "                j = j+1\n",
    "            elif s1 != s2:\n",
    "                j = j+1\n",
    "        if i<len(son):# 非子序列\n",
    "            return 0 \n",
    "        else:\n",
    "            return 1"
   ]
  },
  {
   "cell_type": "code",
   "execution_count": 513,
   "metadata": {
    "ExecuteTime": {
     "end_time": "2021-04-08T02:47:59.431044Z",
     "start_time": "2021-04-08T02:47:59.418050Z"
    }
   },
   "outputs": [
    {
     "data": {
      "text/plain": [
       "1"
      ]
     },
     "execution_count": 513,
     "metadata": {},
     "output_type": "execute_result"
    }
   ],
   "source": [
    "strs=[\"aabbcc\", \"aabbcc\",\"c\",\"e\"]\n",
    "t=Solution()\n",
    "t.findLUSlength(strs)"
   ]
  },
  {
   "cell_type": "markdown",
   "metadata": {},
   "source": [
    "## [复数乘法](https://leetcode-cn.com/problems/complex-number-multiplication/)"
   ]
  },
  {
   "cell_type": "code",
   "execution_count": 595,
   "metadata": {
    "ExecuteTime": {
     "end_time": "2021-04-08T05:11:51.769010Z",
     "start_time": "2021-04-08T05:11:51.751968Z"
    }
   },
   "outputs": [],
   "source": [
    "class Solution:\n",
    "    def complexNumberMultiply(self, a: str, b: str) -> str:\n",
    "        a = self.complexNumber(a)\n",
    "        b =self.complexNumber(b)\n",
    "        res_x = a[0]*b[0]-a[1]*b[1]\n",
    "        res_y = a[0]*b[1]+a[1]*b[0]\n",
    "        union_sign = '+'\n",
    "        return str(res_x) + union_sign + str(res_y) +'i'\n",
    "    def complexNumber(self,comp):\n",
    "        i = 0\n",
    "        res = []\n",
    "        ans = ''\n",
    "        while i<len(comp):\n",
    "            while i<len(comp) and comp[i] not in ['+','i']:\n",
    "                ans += comp[i]\n",
    "                i += 1\n",
    "            else:\n",
    "                if ans !='':\n",
    "                    res.append(int(ans))\n",
    "                ans = ''\n",
    "            i += 1\n",
    "        return res\n",
    "    \n",
    "#     def complexNumber(self,comp):\n",
    "#         j = len(comp)-2\n",
    "#         x,y = '',''\n",
    "#         x_sign,y_sign = None,None\n",
    "#         while j>-1:\n",
    "#             while y_sign is None and comp[j]>='0' and comp[j]<='9':\n",
    "#                 y = comp[j] + y \n",
    "#                 j -= 1\n",
    "#             while j>-1 and comp[j] in ['+','-']:\n",
    "#                 if y_sign!=-1 and x == '':\n",
    "#                     y_sign = 1 if comp[j] =='+' else -1\n",
    "#                 elif x != '':\n",
    "#                     x_sign = 1 if comp[j] =='+' else -1\n",
    "#                 j -= 1\n",
    "                \n",
    "#             while j>-1 and y_sign is not None and  comp[j]>='0' and comp[j]<='9':\n",
    "#                 x  = comp[j] + x \n",
    "#                 j -= 1\n",
    "\n",
    "#         x_sign = 1 if x_sign is None else x_sign\n",
    "#         return (x_sign*int(x),y_sign*int(y))\n",
    "    "
   ]
  },
  {
   "cell_type": "code",
   "execution_count": 597,
   "metadata": {
    "ExecuteTime": {
     "end_time": "2021-04-08T05:14:18.528742Z",
     "start_time": "2021-04-08T05:14:18.518950Z"
    }
   },
   "outputs": [
    {
     "data": {
      "text/plain": [
       "'-1+-7i'"
      ]
     },
     "execution_count": 597,
     "metadata": {},
     "output_type": "execute_result"
    }
   ],
   "source": [
    "a=\"3+-4i\"\n",
    "b=\"1+-1i\"\n",
    "t=Solution()\n",
    "t.complexNumberMultiply(a, b)"
   ]
  },
  {
   "cell_type": "markdown",
   "metadata": {},
   "source": [
    "## [最小时间差](https://leetcode-cn.com/problems/minimum-time-difference/)"
   ]
  },
  {
   "cell_type": "markdown",
   "metadata": {},
   "source": [
    "## [下一个更大元素 III](https://leetcode-cn.com/problems/next-greater-element-iii/)"
   ]
  },
  {
   "cell_type": "code",
   "execution_count": 642,
   "metadata": {
    "ExecuteTime": {
     "end_time": "2021-04-08T07:12:58.575534Z",
     "start_time": "2021-04-08T07:12:58.567532Z"
    }
   },
   "outputs": [],
   "source": [
    "class Solution:\n",
    "    def nextGreaterElement(self, n: int) -> int:\n",
    "        ns = str(n)\n",
    "        j = len(ns)-1\n",
    "        res = None\n",
    "        while j>0:\n",
    "            i= j-1\n",
    "            while i>=0 and ns[i]>ns[j]:\n",
    "                i -= 1\n",
    "            if i != -1:\n",
    "                ns_lst = list(ns)\n",
    "                ns_lst[i],ns_lst[j] = ns_lst[j],ns_lst[i]\n",
    "                l = ns_lst[:i+1]\n",
    "                r = sorted(ns_lst[i+1:])\n",
    "                new_n = int(''.join(l+r))\n",
    "                if new_n>n and new_n<=2**31-1:\n",
    "                    if res is None:\n",
    "                        res = new_n\n",
    "                    else:\n",
    "                        res = min(res,new_n)\n",
    "                \n",
    "            j -= 1\n",
    "        if res is None:\n",
    "            return -1\n",
    "        return res            \n",
    "                "
   ]
  },
  {
   "cell_type": "code",
   "execution_count": 640,
   "metadata": {
    "ExecuteTime": {
     "end_time": "2021-04-08T07:07:08.684793Z",
     "start_time": "2021-04-08T07:07:08.678790Z"
    }
   },
   "outputs": [
    {
     "data": {
      "text/plain": [
       "1243"
      ]
     },
     "execution_count": 640,
     "metadata": {},
     "output_type": "execute_result"
    }
   ],
   "source": [
    "n=1234\n",
    "t=Solution()\n",
    "t.nextGreaterElement(n) "
   ]
  },
  {
   "cell_type": "code",
   "execution_count": 654,
   "metadata": {
    "ExecuteTime": {
     "end_time": "2021-04-08T08:21:20.061782Z",
     "start_time": "2021-04-08T08:21:20.053823Z"
    }
   },
   "outputs": [],
   "source": [
    "class Solution:\n",
    "    def findDuplicate(self, paths: list) -> list:\n",
    "        map_dict = dict()\n",
    "        for s in paths:\n",
    "            s = s.split(' ')\n",
    "            path = s[0]\n",
    "            s1=['/'.join([path,i]) for i in s[1:]]\n",
    "            for i in s1:\n",
    "                val = i.split('(')[0]\n",
    "                key = i.split('(')[1].split(')')[0]\n",
    "                map_dict[key] = map_dict.get(key,[]) + [val]\n",
    "            res = [i for i in list(map_dict.values()) if len(i)>=2]\n",
    "        return res\n",
    "            "
   ]
  },
  {
   "cell_type": "code",
   "execution_count": 655,
   "metadata": {
    "ExecuteTime": {
     "end_time": "2021-04-08T08:21:20.204783Z",
     "start_time": "2021-04-08T08:21:20.199816Z"
    }
   },
   "outputs": [
    {
     "data": {
      "text/plain": [
       "[['root/a/1.txt', 'root/c/3.txt'],\n",
       " ['root/a/2.txt', 'root/c/d/4.txt', 'root/4.txt']]"
      ]
     },
     "execution_count": 655,
     "metadata": {},
     "output_type": "execute_result"
    }
   ],
   "source": [
    "paths=[\"root/a 1.txt(abcd) 2.txt(efgh)\", \"root/c 3.txt(abcd)\", \"root/c/d 4.txt(efgh)\", \"root 4.txt(efgh)\"]\n",
    "t=Solution()\n",
    "t.findDuplicate(paths)"
   ]
  },
  {
   "cell_type": "markdown",
   "metadata": {},
   "source": [
    "## [重复叠加字符串匹配](https://leetcode-cn.com/problems/repeated-string-match/)"
   ]
  },
  {
   "cell_type": "code",
   "execution_count": 696,
   "metadata": {
    "ExecuteTime": {
     "end_time": "2021-04-15T06:56:50.870785Z",
     "start_time": "2021-04-15T06:56:50.858781Z"
    },
    "run_control": {
     "marked": true
    }
   },
   "outputs": [],
   "source": [
    "class Solution:\n",
    "    def repeatedStringMatch(self, a: str, b: str) -> int:\n",
    "        n = 0 \n",
    "        while b not in a*n and (len(a)*n<=2*len(b) or n<2):\n",
    "            n += 1\n",
    "        if b in a*n:\n",
    "            return n \n",
    "        else:\n",
    "            return -1"
   ]
  },
  {
   "cell_type": "code",
   "execution_count": 660,
   "metadata": {
    "ExecuteTime": {
     "end_time": "2021-04-08T09:44:18.007396Z",
     "start_time": "2021-04-08T09:44:18.000361Z"
    }
   },
   "outputs": [
    {
     "data": {
      "text/plain": [
       "3"
      ]
     },
     "execution_count": 660,
     "metadata": {},
     "output_type": "execute_result"
    }
   ],
   "source": [
    "a = \"abcd\"\n",
    "b = \"cdabcdab\"\n",
    "t=Solution()\n",
    "t.repeatedStringMatch(a, b)"
   ]
  },
  {
   "cell_type": "markdown",
   "metadata": {},
   "source": [
    "## [删除注释](https://leetcode-cn.com/problems/remove-comments/)"
   ]
  },
  {
   "cell_type": "code",
   "execution_count": 694,
   "metadata": {
    "ExecuteTime": {
     "end_time": "2021-04-15T06:56:28.973895Z",
     "start_time": "2021-04-15T06:56:28.949937Z"
    }
   },
   "outputs": [],
   "source": [
    "class Solution(object):\n",
    "    def removeComments(self, source):\n",
    "        in_block = False\n",
    "        ans = []\n",
    "        for line in source:\n",
    "            i = 0\n",
    "            if not in_block:\n",
    "                newline = []\n",
    "            while i < len(line):\n",
    "                if line[i:i+2] == '/*' and not in_block:\n",
    "                    in_block = True\n",
    "                    i += 1\n",
    "                elif line[i:i+2] == '*/' and in_block:\n",
    "                    in_block = False\n",
    "                    i += 1\n",
    "                elif not in_block and line[i:i+2] == '//':\n",
    "                    break\n",
    "                elif not in_block:\n",
    "                    newline.append(line[i])\n",
    "                i += 1\n",
    "            if newline and not in_block:\n",
    "                ans.append(\"\".join(newline))\n",
    "\n",
    "        return ans"
   ]
  },
  {
   "cell_type": "code",
   "execution_count": 695,
   "metadata": {
    "ExecuteTime": {
     "end_time": "2021-04-15T06:56:29.681922Z",
     "start_time": "2021-04-15T06:56:29.667930Z"
    }
   },
   "outputs": [
    {
     "data": {
      "text/plain": [
       "['struct Node{', '    ', '    int size;', '    int val;', '};']"
      ]
     },
     "execution_count": 695,
     "metadata": {},
     "output_type": "execute_result"
    }
   ],
   "source": [
    "source = [\"/*Test program */\", \"int main()\", \"{ \", \"  // variable declaration \", \"int a, b, c;\", \"/* This is a test\", \"   multiline  \", \"   comment for \", \"   testing */\", \"a = b + c;\", \"}\"]\n",
    "source=[\"struct Node{\", \"    /*/ declare members;/**/\", \"    int size;\", \"    /**/int val;\", \"};\"]\n",
    "t=Solution()\n",
    "t.removeComments(source)"
   ]
  },
  {
   "cell_type": "markdown",
   "metadata": {},
   "source": [
    "## [自定义字符串排序](https://leetcode-cn.com/problems/custom-sort-string/)"
   ]
  },
  {
   "cell_type": "code",
   "execution_count": 733,
   "metadata": {
    "ExecuteTime": {
     "end_time": "2021-04-19T06:58:28.923114Z",
     "start_time": "2021-04-19T06:58:28.916116Z"
    }
   },
   "outputs": [],
   "source": [
    "class Solution:\n",
    "    def customSortString(self, S: str, T: str) -> str:\n",
    "        sort = list(S)\n",
    "        ans = ['']*len(sort)\n",
    "        notins = ''\n",
    "        for i in T:\n",
    "            if i in S:\n",
    "                j = 0\n",
    "                while i != sort[j]:\n",
    "                    j += 1\n",
    "                ans[j] += i \n",
    "            else:\n",
    "                notins += i \n",
    "        res = ''.join(ans)+notins\n",
    "        return res                 "
   ]
  },
  {
   "cell_type": "code",
   "execution_count": 732,
   "metadata": {
    "ExecuteTime": {
     "end_time": "2021-04-19T06:58:21.865020Z",
     "start_time": "2021-04-19T06:58:21.851024Z"
    }
   },
   "outputs": [
    {
     "data": {
      "text/plain": [
       "'cebfaaaad'"
      ]
     },
     "execution_count": 732,
     "metadata": {},
     "output_type": "execute_result"
    }
   ],
   "source": [
    "S = \"cebfa\"\n",
    "T = \"efaaaabcd\"\n",
    "t=Solution()\n",
    "t.customSortString(S,T)"
   ]
  },
  {
   "cell_type": "markdown",
   "metadata": {},
   "source": [
    "## [情感丰富的文字](https://leetcode-cn.com/problems/expressive-words/)"
   ]
  },
  {
   "cell_type": "code",
   "execution_count": 772,
   "metadata": {
    "ExecuteTime": {
     "end_time": "2021-04-19T08:54:20.142138Z",
     "start_time": "2021-04-19T08:54:20.130109Z"
    }
   },
   "outputs": [],
   "source": [
    "class Solution:\n",
    "    def expressiveWords(self, S: str, words: list) -> int:\n",
    "        ans = 0 \n",
    "        S_cnt = self.wordsCounts(S)\n",
    "        for word in words:\n",
    "            word_cnt = self.wordsCounts(word)\n",
    "            ans += self.compare(S_cnt,word_cnt)\n",
    "        return ans        \n",
    "    \n",
    "    def wordsCounts(self,s):\n",
    "        import itertools\n",
    "        return [(k, len(list(grp))) for k, grp in itertools.groupby(s)]\n",
    "   \n",
    "    def compare(self,S,l):\n",
    "        if len(S)!=len(l):\n",
    "            return 0\n",
    "        i = 0 \n",
    "        while i<len(S):\n",
    "            s1,s2=S[i],l[i]\n",
    "            if not (s1[0] == s2[0] and (s1[1] == s2[1] or (s1[1]>=3 and s1[1]>s2[1]))):       \n",
    "                return 0 \n",
    "            i += 1\n",
    "        return 1"
   ]
  },
  {
   "cell_type": "code",
   "execution_count": 774,
   "metadata": {
    "ExecuteTime": {
     "end_time": "2021-04-19T08:54:33.708755Z",
     "start_time": "2021-04-19T08:54:33.702749Z"
    }
   },
   "outputs": [
    {
     "data": {
      "text/plain": [
       "3"
      ]
     },
     "execution_count": 774,
     "metadata": {},
     "output_type": "execute_result"
    }
   ],
   "source": [
    "S=\"dddiiiinnssssssoooo\"\n",
    "words=[\"dinnssoo\",\"ddinso\",\"ddiinnso\",\"ddiinnssoo\",\"ddiinso\",\"dinsoo\",\"ddiinsso\",\"dinssoo\",\"dinso\"]\n",
    "# S=\"le\"\n",
    "# words=[\"lee\"]\n",
    "t = Solution()\n",
    "t.expressiveWords(S,words)"
   ]
  },
  {
   "cell_type": "code",
   "execution_count": 771,
   "metadata": {
    "ExecuteTime": {
     "end_time": "2021-04-19T08:53:24.544193Z",
     "start_time": "2021-04-19T08:53:24.538110Z"
    }
   },
   "outputs": [
    {
     "data": {
      "text/plain": [
       "[('a', 2), ('b', 3), ('c', 3), ('a', 5)]"
      ]
     },
     "execution_count": 771,
     "metadata": {},
     "output_type": "execute_result"
    }
   ],
   "source": [
    "import itertools\n",
    "S=\"aabbbcccaaaaa\"\n",
    "[(k, len(list(grp))) for k, grp in itertools.groupby(S)]"
   ]
  },
  {
   "cell_type": "markdown",
   "metadata": {
    "ExecuteTime": {
     "end_time": "2021-04-19T09:29:17.379266Z",
     "start_time": "2021-04-19T09:29:17.375292Z"
    }
   },
   "source": [
    "## [隐藏个人信息](https://leetcode-cn.com/problems/masking-personal-information/)"
   ]
  },
  {
   "cell_type": "code",
   "execution_count": 798,
   "metadata": {
    "ExecuteTime": {
     "end_time": "2021-04-19T09:41:53.965674Z",
     "start_time": "2021-04-19T09:41:53.958674Z"
    }
   },
   "outputs": [],
   "source": [
    "class Solution:\n",
    "    def maskPII(self, S: str) -> str:\n",
    "        if '@' in S:\n",
    "            return self.email_encode(S)\n",
    "        else:\n",
    "            return self.phoneNumberEncode(S)\n",
    "        \n",
    "    def email_encode(self,s):\n",
    "        new_s = ''\n",
    "        for i in s:\n",
    "            if i.isupper():\n",
    "                new_s += i.lower()\n",
    "            else:\n",
    "                new_s += i\n",
    "                \n",
    "        a,b = new_s.split('@')\n",
    "        return '@'.join([a[0] + '*****' + a[-1],b])\n",
    "    \n",
    "    def phoneNumberEncode(self,s):\n",
    "        new_s = ''\n",
    "        for i in s:\n",
    "            if '0'<=i<='9':\n",
    "                new_s += i \n",
    "        basic_encode = '***-***-' + new_s[-4:] \n",
    "        if len(new_s)>10:\n",
    "            return '+'+ '*'*(len(new_s)%10) + '-' + basic_encode\n",
    "        else:\n",
    "            return basic_encode\n",
    "      "
   ]
  },
  {
   "cell_type": "code",
   "execution_count": 799,
   "metadata": {
    "ExecuteTime": {
     "end_time": "2021-04-19T09:41:54.110707Z",
     "start_time": "2021-04-19T09:41:54.105707Z"
    }
   },
   "outputs": [
    {
     "data": {
      "text/plain": [
       "'+**-***-***-5678'"
      ]
     },
     "execution_count": 799,
     "metadata": {},
     "output_type": "execute_result"
    }
   ],
   "source": [
    "S=\"LeetCode@LeetCode.com\"\n",
    "S=\"86-(10)12345678\"\n",
    "t=Solution()\n",
    "t.maskPII(S)"
   ]
  },
  {
   "cell_type": "markdown",
   "metadata": {},
   "source": [
    "## [字符串中的查找与替换](https://leetcode-cn.com/problems/find-and-replace-in-string/)"
   ]
  },
  {
   "cell_type": "code",
   "execution_count": 30,
   "metadata": {
    "ExecuteTime": {
     "end_time": "2021-04-20T05:57:03.941342Z",
     "start_time": "2021-04-20T05:57:03.935342Z"
    }
   },
   "outputs": [],
   "source": [
    "class Solution:\n",
    "    def findReplaceString(self, S: str, indexes: list, sources: list, targets: list) -> str:\n",
    "        for i in range(len(indexes)):\n",
    "            \n",
    "            begin_index = indexes[i]\n",
    "            source = sources[i]\n",
    "            if S[begin_index:begin_index+len(source)] == source:\n",
    "                p1 = S[:begin_index]\n",
    "                p2 = targets[i]\n",
    "                p3 = S[begin_index+len(source):]\n",
    "                S = p1 + p2 + p3 \n",
    "                                   \n",
    "                indexes[i+1:] = [j + (len(p2)-len(source))*(j-indexes[i]>0) for j in indexes[i+1:]]\n",
    "        return S      "
   ]
  },
  {
   "cell_type": "code",
   "execution_count": 31,
   "metadata": {
    "ExecuteTime": {
     "end_time": "2021-04-20T05:57:04.174340Z",
     "start_time": "2021-04-20T05:57:04.163352Z"
    }
   },
   "outputs": [
    {
     "data": {
      "text/plain": [
       "'vbfrssozp'"
      ]
     },
     "execution_count": 31,
     "metadata": {},
     "output_type": "execute_result"
    }
   ],
   "source": [
    "S = \"abcd\"\n",
    "indexes = [0,2]\n",
    "sources = [\"ab\",\"ec\"]\n",
    "targets = [\"eee\",\"ffff\"]\n",
    "\n",
    "S=\"vmokgggqzp\"\n",
    "indexes =[3,5,1]\n",
    "sources =[\"kg\",\"ggq\",\"mo\"]\n",
    "targets =[\"s\",\"so\",\"bfr\"]\n",
    "\n",
    "t=Solution()\n",
    "t.findReplaceString(S, indexes, sources, targets)"
   ]
  },
  {
   "cell_type": "markdown",
   "metadata": {},
   "source": [
    "## [字母移位](https://leetcode-cn.com/problems/shifting-letters/)"
   ]
  },
  {
   "cell_type": "code",
   "execution_count": 116,
   "metadata": {
    "ExecuteTime": {
     "end_time": "2021-04-20T09:58:04.308905Z",
     "start_time": "2021-04-20T09:58:04.301913Z"
    }
   },
   "outputs": [],
   "source": [
    "class Solution:\n",
    "    def shiftingLetters(self, S: str, shifts: list) -> str:\n",
    "        import numpy as np\n",
    "        s2=np.cumsum(shifts[::-1])[::-1]\n",
    "        s1 = [i%26 for i in s2]\n",
    "        ans =''\n",
    "        for i in range(len(s1)):\n",
    "            shift_s = ord(S[i])+ s1[i]\n",
    "            if shift_s>ord('z'):\n",
    "                shift_s = shift_s-ord('z') + ord('a')-1\n",
    "            ans += chr(shift_s)\n",
    "        return ans"
   ]
  },
  {
   "cell_type": "code",
   "execution_count": 117,
   "metadata": {
    "ExecuteTime": {
     "end_time": "2021-04-20T09:58:04.458902Z",
     "start_time": "2021-04-20T09:58:04.452904Z"
    }
   },
   "outputs": [
    {
     "data": {
      "text/plain": [
       "'rul'"
      ]
     },
     "execution_count": 117,
     "metadata": {},
     "output_type": "execute_result"
    }
   ],
   "source": [
    "S = \"\"\n",
    "shifts = [52]\n",
    "S=\"ruu\"\n",
    "# \"rul\"\n",
    "shifts =[26,9,17]\n",
    "t=Solution()\n",
    "t.shiftingLetters(S, shifts) "
   ]
  },
  {
   "cell_type": "markdown",
   "metadata": {
    "ExecuteTime": {
     "end_time": "2021-04-20T09:55:22.150197Z",
     "start_time": "2021-04-20T09:55:22.145189Z"
    }
   },
   "source": [
    "## [查找和替换模式](https://leetcode-cn.com/problems/find-and-replace-pattern/)"
   ]
  },
  {
   "cell_type": "code",
   "execution_count": 134,
   "metadata": {
    "ExecuteTime": {
     "end_time": "2021-04-21T06:39:55.410788Z",
     "start_time": "2021-04-21T06:39:55.403835Z"
    }
   },
   "outputs": [],
   "source": [
    "class Solution:\n",
    "    def findAndReplacePattern(self, words: list, pattern: str) -> list:\n",
    "        return list(filter(lambda x:self.matchWord(x,pattern),words))\n",
    "    \n",
    "    def matchWord(self,word,pattern):\n",
    "        if len(word)!= len(pattern):\n",
    "            return False\n",
    "        w_list = list(word)\n",
    "        map_dict = {}\n",
    "        for i in range(len(word)):\n",
    "            s = word[i]\n",
    "            p = pattern[i]\n",
    "            if p in map_dict and map_dict[p] != s or (p not in map_dict and s in map_dict.values()):\n",
    "                return False\n",
    "            if p not in map_dict:\n",
    "                map_dict[p] = s\n",
    "            w_list[i] = p\n",
    "        return ''.join(w_list) == pattern"
   ]
  },
  {
   "cell_type": "code",
   "execution_count": 135,
   "metadata": {
    "ExecuteTime": {
     "end_time": "2021-04-21T06:39:55.577790Z",
     "start_time": "2021-04-21T06:39:55.571792Z"
    }
   },
   "outputs": [
    {
     "data": {
      "text/plain": [
       "['mee', 'aqq']"
      ]
     },
     "execution_count": 135,
     "metadata": {},
     "output_type": "execute_result"
    }
   ],
   "source": [
    "words = [\"abc\",\"deq\",\"mee\",\"aqq\",\"dkd\",\"ccc\"]\n",
    "pattern = \"abb\"\n",
    "t=Solution()\n",
    "t.findAndReplacePattern(words,pattern)"
   ]
  },
  {
   "cell_type": "markdown",
   "metadata": {},
   "source": [
    "## [单词子集](https://leetcode-cn.com/problems/word-subsets/)"
   ]
  },
  {
   "cell_type": "code",
   "execution_count": 154,
   "metadata": {
    "ExecuteTime": {
     "end_time": "2021-04-21T07:42:55.748079Z",
     "start_time": "2021-04-21T07:42:55.736006Z"
    }
   },
   "outputs": [],
   "source": [
    "import collections\n",
    "class Solution:\n",
    "    def wordSubsets(self, A: list, B: list) -> list:\n",
    "        cnt_map_lst = [collections.Counter(i) for i in B]\n",
    "        max_dict ={}\n",
    "        for map_dict in cnt_map_lst:\n",
    "            for j in map_dict:\n",
    "                if j not in max_dict or (j in max_dict and max_dict[j]<map_dict[j]):\n",
    "                    max_dict[j] = map_dict[j]\n",
    "        \n",
    "        ans = []\n",
    "       \n",
    "        for word in A:\n",
    "            if self.submatch(word,max_dict):\n",
    "                ans.append(word)\n",
    "        return ans \n",
    "    def submatch(self,word,B_cnt_map):\n",
    "        word_cnt = collections.Counter(word)\n",
    "        return all([x in word_cnt and B_cnt_map[x]<=word_cnt[x]  for x in B_cnt_map])"
   ]
  },
  {
   "cell_type": "code",
   "execution_count": 155,
   "metadata": {
    "ExecuteTime": {
     "end_time": "2021-04-21T07:42:55.925729Z",
     "start_time": "2021-04-21T07:42:55.919725Z"
    }
   },
   "outputs": [
    {
     "data": {
      "text/plain": [
       "['google', 'leetcode']"
      ]
     },
     "execution_count": 155,
     "metadata": {},
     "output_type": "execute_result"
    }
   ],
   "source": [
    "A=[\"amazon\",\"apple\",\"facebook\",\"google\",\"leetcode\"]\n",
    "B=[\"lo\",\"eo\"]\n",
    "t=Solution()\n",
    "t.wordSubsets(A,B)"
   ]
  },
  {
   "cell_type": "markdown",
   "metadata": {},
   "source": [
    "## [检查替换后的词是否有效](https://leetcode-cn.com/problems/check-if-word-is-valid-after-substitutions/)"
   ]
  },
  {
   "cell_type": "code",
   "execution_count": 167,
   "metadata": {
    "ExecuteTime": {
     "end_time": "2021-04-21T09:04:34.827750Z",
     "start_time": "2021-04-21T09:04:34.822750Z"
    }
   },
   "outputs": [],
   "source": [
    "class Solution(object):\n",
    "    def isValid(self, s):\n",
    "        \"\"\"\n",
    "        :type s: str\n",
    "        :rtype: bool\n",
    "        \"\"\"\n",
    "        left_stack =[]\n",
    "        for i in s:\n",
    "            if i == 'c':\n",
    "                if len(left_stack)<2 or ''.join(left_stack[-2:]) !='ab':\n",
    "                    return False \n",
    "                else:\n",
    "                    left_stack.pop()\n",
    "                    left_stack.pop()\n",
    "            else:\n",
    "                left_stack.append(i)\n",
    "        return len(left_stack) == 0"
   ]
  },
  {
   "cell_type": "code",
   "execution_count": 168,
   "metadata": {
    "ExecuteTime": {
     "end_time": "2021-04-21T09:04:35.667539Z",
     "start_time": "2021-04-21T09:04:35.661485Z"
    }
   },
   "outputs": [
    {
     "data": {
      "text/plain": [
       "True"
      ]
     },
     "execution_count": 168,
     "metadata": {},
     "output_type": "execute_result"
    }
   ],
   "source": [
    "s = \"abcabcababcc\"\n",
    "t=Solution()\n",
    "t.isValid(s)"
   ]
  },
  {
   "cell_type": "markdown",
   "metadata": {
    "ExecuteTime": {
     "end_time": "2021-04-21T09:28:08.851008Z",
     "start_time": "2021-04-21T09:28:08.845975Z"
    }
   },
   "source": [
    "##  [驼峰式匹配](https://leetcode-cn.com/problems/camelcase-matching/)"
   ]
  },
  {
   "cell_type": "code",
   "execution_count": 209,
   "metadata": {
    "ExecuteTime": {
     "end_time": "2021-04-21T12:30:09.563229Z",
     "start_time": "2021-04-21T12:30:09.552231Z"
    }
   },
   "outputs": [],
   "source": [
    "class Solution:\n",
    "    def camelMatch(self, queries: list, pattern: str) -> list:\n",
    "        return [self.wordMatch(i,pattern) for i in queries]\n",
    "    def wordMatch(self,word,pattern):\n",
    "        i,j = 0,0 \n",
    "        while j<len(pattern) and i<len(word):\n",
    "            while i<len(word) and word[i].islower() and word[i]!=pattern[j]:\n",
    "                i += 1\n",
    "            if i<len(word) and word[i].isupper() and word[i]!=pattern[j]:\n",
    "                break \n",
    "            if j<len(pattern) and i<len(word):\n",
    "                i += 1\n",
    "                j += 1\n",
    "                \n",
    "        if j<len(pattern):\n",
    "            return False \n",
    "        if i<len(word):\n",
    "            return all([i.islower() for i in word[i+1:]])\n",
    "        return True"
   ]
  },
  {
   "cell_type": "code",
   "execution_count": 210,
   "metadata": {
    "ExecuteTime": {
     "end_time": "2021-04-21T12:30:09.827422Z",
     "start_time": "2021-04-21T12:30:09.821419Z"
    }
   },
   "outputs": [
    {
     "data": {
      "text/plain": [
       "[False, False, True]"
      ]
     },
     "execution_count": 210,
     "metadata": {},
     "output_type": "execute_result"
    }
   ],
   "source": [
    "queries = [\"FooBar\",\"FooBarTest\",\"FootBall\",\"FrameBuffer\",\"ForceFeedBack\"]\n",
    "pattern = \"FoBaT\"\n",
    "queries =[\"CompetitiveProgramming\",\"CounterPick\",\"ControlPanel\"]\n",
    "pattern=\"CooP\"\n",
    "t=Solution()\n",
    "t.camelMatch(queries,pattern)"
   ]
  },
  {
   "cell_type": "code",
   "execution_count": 174,
   "metadata": {
    "ExecuteTime": {
     "end_time": "2021-04-21T09:41:06.194788Z",
     "start_time": "2021-04-21T09:41:06.190789Z"
    }
   },
   "outputs": [
    {
     "data": {
      "text/plain": [
       "True"
      ]
     },
     "execution_count": 174,
     "metadata": {},
     "output_type": "execute_result"
    }
   ],
   "source": []
  },
  {
   "cell_type": "markdown",
   "metadata": {},
   "source": [
    "## [比较字符串最小字母出现频次](https://leetcode-cn.com/problems/compare-strings-by-frequency-of-the-smallest-character/)"
   ]
  },
  {
   "cell_type": "code",
   "execution_count": 227,
   "metadata": {
    "ExecuteTime": {
     "end_time": "2021-04-23T02:59:45.967168Z",
     "start_time": "2021-04-23T02:59:45.959199Z"
    }
   },
   "outputs": [],
   "source": [
    "class Solution:\n",
    "    def numSmallerByFrequency(self, queries: list, words: list) ->list:\n",
    "        ans_lst = []\n",
    "        q = []\n",
    "        words_lst = []\n",
    "        for i in queries:\n",
    "            q.append(self.calculator(i))\n",
    "        for j in words:\n",
    "            words_lst.append(self.calculator(j))\n",
    "\n",
    "        w = sorted(words_lst)\n",
    "        i = 0 \n",
    "        ans_lst = []\n",
    "        while i<len(q):\n",
    "            cnt1 = q[i]\n",
    "            count = 0\n",
    "            for j in range(len(w)):\n",
    "                cnt2 = w[j] \n",
    "                if cnt2>cnt1:\n",
    "                    break\n",
    "                count += 1\n",
    "            ans_lst.append(len(w)-count)   \n",
    "            i += 1          \n",
    "        return ans_lst\n",
    "\n",
    "    \n",
    "    def calculator(self,s):\n",
    "        import collections\n",
    "        cnt_dict = collections.Counter(s)\n",
    "        word,cnt = '',0\n",
    "        for i in cnt_dict:\n",
    "            if word == '' or (i<word):\n",
    "                word,cnt = i,cnt_dict[i]\n",
    "        return cnt "
   ]
  },
  {
   "cell_type": "code",
   "execution_count": 228,
   "metadata": {
    "ExecuteTime": {
     "end_time": "2021-04-23T02:59:46.131202Z",
     "start_time": "2021-04-23T02:59:46.124173Z"
    }
   },
   "outputs": [
    {
     "data": {
      "text/plain": [
       "[6, 5, 0, 6, 11, 11, 11, 8, 11, 0, 6, 6]"
      ]
     },
     "execution_count": 228,
     "metadata": {},
     "output_type": "execute_result"
    }
   ],
   "source": [
    "queries=[\"aabbabbb\",\"abbbabaa\",\"aabbbabaa\",\"aabba\",\"abb\",\"a\",\"ba\",\"aa\",\"ba\",\"baabbbaaaa\",\"babaa\",\"bbbbabaa\"]\n",
    "# queries=[\"aabbbabaa\"]\n",
    "words=[\"b\",\"aaaba\",\"aaaabba\",\"aa\",\"aabaabab\",\"aabbaaabbb\",\"ababb\",\"bbb\",\"aabbbabb\",\"aab\",\"bbaaababba\",\"baaaaa\"]\n",
    "t=Solution()\n",
    "t.numSmallerByFrequency(queries, words)"
   ]
  },
  {
   "cell_type": "markdown",
   "metadata": {},
   "source": [
    "## [?构建回文串检测](https://leetcode-cn.com/problems/can-make-palindrome-from-substring/)"
   ]
  },
  {
   "cell_type": "code",
   "execution_count": 240,
   "metadata": {
    "ExecuteTime": {
     "end_time": "2021-04-23T03:55:02.748169Z",
     "start_time": "2021-04-23T03:55:02.741170Z"
    }
   },
   "outputs": [],
   "source": [
    "class Solution:\n",
    "    def canMakePaliQueries(self, s: str, queries: list) -> list:\n",
    "        ans = []\n",
    "        for lst in queries:\n",
    "            sub_s = s[lst[0]:lst[1]+1]\n",
    "            k = lst[-1]\n",
    "            sub_ans = self.wordReplace(sub_s,k)\n",
    "            ans.append(sub_ans)\n",
    "        return ans \n",
    "    def wordReplace(self,s,k):\n",
    "        import collections\n",
    "        t = collections.Counter(s)\n",
    "        res = 0\n",
    "        for i in t:\n",
    "            r = t[i]%2\n",
    "            if r == 1:\n",
    "                res += 1\n",
    "        return res - 2*k<=1"
   ]
  },
  {
   "cell_type": "code",
   "execution_count": 266,
   "metadata": {
    "ExecuteTime": {
     "end_time": "2021-04-23T07:49:57.290778Z",
     "start_time": "2021-04-23T07:49:57.279742Z"
    }
   },
   "outputs": [],
   "source": [
    "class Solution:\n",
    "    def canMakePaliQueries(self, s: str, queries: list) -> list:\n",
    "        dp = [0]\n",
    "        cur = 0\n",
    "        # dp中第i个数表示s中前i个字符中出现的字符的奇偶数，1表示对应的字符出现奇数次，0表示对应字符出现偶数次或者未出现\n",
    "        for t in s:\n",
    "            cur ^= 1 << (ord(t) - ord('a'))\n",
    "            dp.append(cur)\n",
    "           \n",
    "        res = []\n",
    "        for (x, y, k) in queries:\n",
    "            temp = dp[y+1] ^ dp[x]  # 对前面x个中某些字符出现次数异或前面y个字符出现次数刚好表示从x到y中字符出现的奇偶数\n",
    "            # 统计二进制中1出现的次数\n",
    "            t = 0\n",
    "            while temp != 0:\n",
    "                if temp % 2 == 1:\n",
    "                    t += 1\n",
    "                temp = temp // 2\n",
    "            # 对奇数字符个数/2，向下取整\n",
    "            t = t // 2\n",
    "            res.append(False) if t > k else res.append(True)\n",
    "        return res"
   ]
  },
  {
   "cell_type": "markdown",
   "metadata": {},
   "source": [
    "## [字符的最短距离](https://leetcode-cn.com/problems/shortest-distance-to-a-character/)"
   ]
  },
  {
   "cell_type": "markdown",
   "metadata": {},
   "source": [
    "## [*增减字符串匹配](https://leetcode-cn.com/problems/di-string-match/)"
   ]
  },
  {
   "cell_type": "markdown",
   "metadata": {},
   "source": [
    "## [验证外星语词典](https://leetcode-cn.com/problems/verifying-an-alien-dictionary/)"
   ]
  },
  {
   "cell_type": "markdown",
   "metadata": {},
   "source": [
    "## [*句子中的有效单词数](https://leetcode-cn.com/problems/number-of-valid-words-in-a-sentence/)"
   ]
  },
  {
   "cell_type": "markdown",
   "metadata": {
    "ExecuteTime": {
     "end_time": "2021-12-22T04:09:11.680117Z",
     "start_time": "2021-12-22T04:09:11.656551Z"
    }
   },
   "source": [
    "\n",
    "链接：https://leetcode-cn.com/problems/number-of-valid-words-in-a-sentence/solution/python-zheng-ze-biao-da-shi-by-wushaobei-wgx9/"
   ]
  },
  {
   "cell_type": "markdown",
   "metadata": {},
   "source": [
    "## [* Excel表列名称](https://leetcode-cn.com/problems/excel-sheet-column-title/)"
   ]
  },
  {
   "cell_type": "code",
   "execution_count": null,
   "metadata": {},
   "outputs": [],
   "source": []
  }
 ],
 "metadata": {
  "kernelspec": {
   "display_name": "Python 3",
   "language": "python",
   "name": "python3"
  },
  "language_info": {
   "codemirror_mode": {
    "name": "ipython",
    "version": 3
   },
   "file_extension": ".py",
   "mimetype": "text/x-python",
   "name": "python",
   "nbconvert_exporter": "python",
   "pygments_lexer": "ipython3",
   "version": "3.7.3"
  },
  "toc": {
   "base_numbering": 1,
   "nav_menu": {},
   "number_sections": true,
   "sideBar": true,
   "skip_h1_title": false,
   "title_cell": "Table of Contents",
   "title_sidebar": "Contents",
   "toc_cell": false,
   "toc_position": {
    "height": "276px",
    "left": "969px",
    "top": "110px",
    "width": "191px"
   },
   "toc_section_display": true,
   "toc_window_display": true
  }
 },
 "nbformat": 4,
 "nbformat_minor": 2
}
