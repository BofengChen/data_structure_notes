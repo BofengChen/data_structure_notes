{
 "cells": [
  {
   "cell_type": "markdown",
   "metadata": {},
   "source": [
    "# 问题和性质"
   ]
  },
  {
   "cell_type": "markdown",
   "metadata": {},
   "source": [
    "## 排序问题的定义"
   ]
  },
  {
   "cell_type": "markdown",
   "metadata": {},
   "source": [
    "对具有序关系 $\\leq$的集合S，一个排序算法 $sort:S\\rightarrow S$ 对 S 的任意元素序列 s，满足\n",
    "\n",
    "$$s^{\\prime}= sort(s),s^{\\prime}\\subseteq S$$\n",
    "\n",
    "并且 $s^{\\prime}$的任意2个元素 e 和 $e^{\\prime}$ 满足：\n",
    "\n",
    "$$loc_{s^{\\prime}}(e)\\leq loc_{s^{\\prime}}(e^{\\prime}) \\Longleftrightarrow e\\leq e^{\\prime}$$\n",
    "\n",
    "其中 $loc_{s^{\\prime}}(e)$ 为 e 在序列 $s^{\\prime}$ 里的位置。"
   ]
  },
  {
   "cell_type": "markdown",
   "metadata": {},
   "source": [
    "**内排序与外排序**\n",
    "\n",
    "1. 内排序：如果待排序的记录都保持在内存，称为内排序；\n",
    "\n",
    "2. 针对外存(磁盘、磁带等)数据的排序工作称为外排序。\n",
    "\n",
    "本章主要讨论内排序算法，其中的**归并排序算法**是大多数外排序算法的基础。"
   ]
  },
  {
   "cell_type": "markdown",
   "metadata": {},
   "source": [
    "## 排序的操作、性质和评价"
   ]
  },
  {
   "cell_type": "markdown",
   "metadata": {},
   "source": [
    "假设我们需要排序的是：$S = \\{R_0,R_1,\\cdots,R_{n-1}\\}$，其中 $R_i$ 的关键码是 $K_i$，我们按照 关键码对元素进行排序。\n",
    "\n",
    "**排序的基本操作：**\n",
    "\n",
    "1. 比较关键码的操作，通过比较来确定数据记录的顺序；\n",
    "2. 移动数据记录的操作，用于调整数据记录的位置 或 顺序。\n",
    "\n",
    "\n",
    "**排序的时间复杂度和空间复杂度：**\n",
    "\n",
    "1. 时间复杂度：理论研究，基于关键码的排序操作，任何排序算法的复杂度都不可能优于 $O(\\log n\\log n)$；\n",
    "\n",
    "2. 空间复杂度：排序算法的空间复杂度，只要是关注在执行算法过程中所需要的临时辅助空间。\n",
    "\n",
    "备注：在执行排序算法时，人们特别关注算法的空间复杂度是不是常量的。常量的开销说明，排序可以在原表里完成，只需要几个变量作为操作中的临时存储。具有这种性质的排序算法称为**原地排序算法**。\n",
    "\n",
    "**排序算法的性质：**\n",
    "\n",
    "1. 稳定性：对待排序的序列 S 中关键码相等的两个元素 $R_i,R_j$，在排序之后保持 $R_i,R_j$ 的前后顺序不变。就称这个算法是稳定的；\n",
    "\n",
    "2. 适应性：如果一个排序算法对接近有序的序列工作地更快，时间复杂度更低，就称这种算法具有适应性。"
   ]
  },
  {
   "cell_type": "markdown",
   "metadata": {},
   "source": [
    "## 排序算法的分类"
   ]
  },
  {
   "cell_type": "markdown",
   "metadata": {},
   "source": [
    "把经典的排序算法按照基本操作方式或特点进行如下分类：\n",
    "1. 插入排序；\n",
    "2. 选择排序；\n",
    "3. 交换排序；\n",
    "4. 分配排序；\n",
    "5. 归并排序；\n",
    "6. 外部排序。"
   ]
  },
  {
   "cell_type": "markdown",
   "metadata": {},
   "source": [
    "**记录结构**"
   ]
  },
  {
   "cell_type": "markdown",
   "metadata": {},
   "source": [
    "在之后章节讨论各种排序算法时，使用的示例数据结构就是一个表。假定表中元素是下面定义的record类的对象：\n",
    "```python\n",
    "class record:\n",
    "    def __init__(self,key,datum):\n",
    "        self.key=key \n",
    "        self.datum=datum\n",
    "```\n",
    "\n",
    "另外，我们假定key排序所需的 $>,<,\\geq,\\leq$ 都已经有定义。并且只考虑 $\\leq$，即递增顺序排序问题。"
   ]
  },
  {
   "cell_type": "markdown",
   "metadata": {},
   "source": [
    "# 简单排序算法"
   ]
  },
  {
   "cell_type": "markdown",
   "metadata": {},
   "source": [
    "## 插入排序"
   ]
  },
  {
   "cell_type": "markdown",
   "metadata": {},
   "source": [
    "对一个连续列表，入下图所示，左侧表示已经排序部分；右侧(包含d)代表未排序部分。插入排序就是：\n",
    "1. 对于未排序部分，从左到右依次处理未排序元素，每次只考虑最左端的元素d;\n",
    "2. 将元素d从列表中取出，这样列表里就多了一个空位；\n",
    "3. 通过d与已排序部分从右往左挨个比较，如果比d大就向右平移1个单位；否则d就插入当下的空位；\n",
    "4. 循环未排序部分，重复以上过程即完成排序。\n",
    "<img src='picture\\sort_1.png'>"
   ]
  },
  {
   "cell_type": "code",
   "execution_count": 5,
   "metadata": {
    "ExecuteTime": {
     "end_time": "2021-09-15T08:09:45.532115Z",
     "start_time": "2021-09-15T08:09:45.523121Z"
    }
   },
   "outputs": [],
   "source": [
    "class record:\n",
    "    def __init__(self,key,datum):\n",
    "        self.key=key \n",
    "        self.datum=datum\n",
    "        \n",
    "def insert_sort(lst):\n",
    "    for i in range(1,len(lst)):# 默认第一个元素已经排好序\n",
    "        x = lst[i]\n",
    "        j = i\n",
    "        while j>0 and lst[j-1].key>x.key: \n",
    "            lst[j] = lst[j-1] # 如果 j-1位置元素更大，就往后移\n",
    "            j -= 1 \n",
    "        lst[j] = x # 因为是基于lst原地修改的，所以不需要返回lst  "
   ]
  },
  {
   "cell_type": "code",
   "execution_count": 7,
   "metadata": {
    "ExecuteTime": {
     "end_time": "2021-09-15T08:09:54.460661Z",
     "start_time": "2021-09-15T08:09:54.451617Z"
    }
   },
   "outputs": [
    {
     "name": "stdout",
     "output_type": "stream",
     "text": [
      "2\n",
      "3\n",
      "5\n",
      "8\n",
      "8\n",
      "10\n",
      "66\n"
     ]
    }
   ],
   "source": [
    "a = [3,5,2,8,10,8,66]\n",
    "lst = [record(i,i) for i in a]\n",
    "insert_sort(lst)\n",
    "for j in lst:\n",
    "    print(j.key)"
   ]
  },
  {
   "cell_type": "markdown",
   "metadata": {},
   "source": [
    "**时间和空间复杂度**\n",
    "\n",
    "空间复杂度：因为只用到了几个临时变量，所以复杂度是 $O(1)$。\n",
    "\n",
    "**时间复杂度：**\n",
    "\n",
    "外层循环：外层循环执行次数就是 n-1 次；\n",
    "\n",
    "内层循环： 执行次数和实际情况有关。变量j的初始值从 1 逐渐增加到 n-1：\n",
    "\n",
    "    a. 最坏情况是 $lst[j-1].key>x.key$ 总是失败，也就是说，每次处理的元素比已经排序的所有部分小，这个元素就会移到最前面，执行次数就是 j，结合外层循环，插入算法总执行次数为：\n",
    "$$1 + 2 + \\cdots + (n-1) = n\\times (n-1)/2 $$\n",
    "    \n",
    "    b. 最好情况是 被处理元素大于已排序部分，内层循环体不执行；\n",
    "\n",
    "经过以上分析，可知：\n",
    "\n",
    "1. 关键码比较次数：最少是 n-1(对应的是内层循环不执行)，最多是 $n\\times (n-1)/2 $;\n",
    "\n",
    "2. 记录移动次数：包括内层循环外面的2次(取放被处理元素),最少是 $2(n-1)$，最多是 $2(n-1) + n\\times (n-1)/2$。\n",
    "\n",
    "所以最坏情况的时间复杂度是 $O(n^2)$，最好情况是 $O(n)$,说明这个算法具有适应性；同时根据代码逻辑也可知算法具有稳定性。\n",
    "\n",
    "平均意义下，时间复杂度是 $O(n^2)$。"
   ]
  },
  {
   "cell_type": "markdown",
   "metadata": {},
   "source": [
    "**插入排序的变形**\n",
    "\n",
    "在检索元素的插入位置，可以从原来的顺序检索变成二分法检索，原因在于前面的部分是排好序的，适合二分法；即便如此，找到位置后还是要顺序移动元素，这还是需要线性时间。\n",
    "\n",
    "另外，二分法要注意稳定性，即遇到相同的关键码，要保证插入位置在其后面。"
   ]
  },
  {
   "cell_type": "code",
   "execution_count": 83,
   "metadata": {
    "ExecuteTime": {
     "end_time": "2021-09-16T07:32:39.877743Z",
     "start_time": "2021-09-16T07:32:39.870741Z"
    },
    "run_control": {
     "marked": true
    }
   },
   "outputs": [],
   "source": [
    "class record:\n",
    "    def __init__(self,key,datum):\n",
    "        self.key=key \n",
    "        self.datum=datum\n",
    "        \n",
    "def insert_sort(lst):   \n",
    "    for i in range(1,len(lst)):# 默认第一个元素已经排好序\n",
    "        x = lst[i]           \n",
    "        left,right = 0,i-1\n",
    "        while left<=right:\n",
    "            midd = int((left+right)/2)\n",
    "            y = lst[midd]\n",
    "            if y.key<= x.key: \n",
    "                left = midd+1 # 保证稳定性，不影响原来元素的序\n",
    "            else:\n",
    "                right = midd-1 \n",
    "        j = i-1\n",
    "        while j>=left: # 进行数据记录的倒序移动\n",
    "            lst[j+1] = lst[j]\n",
    "            j -= 1\n",
    "        lst[left] = x"
   ]
  },
  {
   "cell_type": "code",
   "execution_count": 84,
   "metadata": {
    "ExecuteTime": {
     "end_time": "2021-09-16T07:32:40.053786Z",
     "start_time": "2021-09-16T07:32:40.048752Z"
    }
   },
   "outputs": [
    {
     "name": "stdout",
     "output_type": "stream",
     "text": [
      "1\n",
      "2\n",
      "3\n",
      "5\n",
      "8\n",
      "8\n",
      "10\n",
      "66\n"
     ]
    }
   ],
   "source": [
    "a = [3,5,2,1,10,8,66,8]\n",
    "lst = [record(i,i) for i in a]\n",
    "insert_sort(lst)\n",
    "for j in lst:\n",
    "    print(j.key)"
   ]
  },
  {
   "cell_type": "markdown",
   "metadata": {},
   "source": [
    "其他：\n",
    "[ 对链表进行插入排序](https://leetcode-cn.com/problems/insertion-sort-list/submissions/)"
   ]
  },
  {
   "cell_type": "markdown",
   "metadata": {},
   "source": [
    "## 选择排序"
   ]
  },
  {
   "cell_type": "markdown",
   "metadata": {},
   "source": [
    "选择排序的基本思想：\n",
    "\n",
    "1. 维护所有数据中最小的i个已排序序列；\n",
    "\n",
    "2. 每次从剩余未排序部分中选取关键码最小的数据，将其放在已排序序列的后面，作为第i+1个已排序元素；\n",
    "\n",
    "3. 以空序列作为最开始的已排序序列，循环执行上述步骤，直到未排序部分里只剩下1个未排序元素时(它必然是最大元素)，直接将其放在已排序序列的最后。\n",
    "\n",
    "<img src='picture\\sort_2.png'>"
   ]
  },
  {
   "cell_type": "markdown",
   "metadata": {},
   "source": [
    "**直接选择排序**"
   ]
  },
  {
   "cell_type": "markdown",
   "metadata": {},
   "source": [
    "当找到最小数据时，如何腾出已排序部分后面的位置？一种比较直接的做法是：将已排序部分后面的元素和最小元素进行交换。交换时可能会破坏算法的稳定性。原因如下：\n",
    "\n",
    "1. 最小元素放在已排序部分后面，不会影响稳定性，因为最小元素肯定比之前的已排序部分都大；\n",
    "2. 已排序部分后面的元素放到最小元素原来的位置，可能会越过关键码相同的元素，这样在下次选取以该关键码为最小值的元素时，就会选择被越过的关键码相同的元素，这就导致了算法的不稳定性。\n",
    "\n",
    "如果想要保持稳定性，优化的方法在于：\n",
    "\n",
    "    类似上面的插入排序，先取出最小元素，然后对未排序元素到最小元素之间的部分顺序移动，再将最小元素放在已排序部分的后面。"
   ]
  },
  {
   "cell_type": "code",
   "execution_count": 10,
   "metadata": {
    "ExecuteTime": {
     "end_time": "2021-09-18T07:27:13.787279Z",
     "start_time": "2021-09-18T07:27:13.780276Z"
    }
   },
   "outputs": [],
   "source": [
    "class record:\n",
    "    def __init__(self,key,datum):\n",
    "        self.key=key \n",
    "        self.datum=datum\n",
    "        \n",
    "def select_sort(lst):   \n",
    "    for i in range(len(lst)-1):# 最后一个元素必然最大\n",
    "        min_index = i\n",
    "        for j in range(i,len(lst)):\n",
    "            if lst[j].key<lst[min_index].key:\n",
    "                min_index = j \n",
    "\n",
    "        if i != min_index:\n",
    "            lst[min_index],lst[i] = lst[i],lst[min_index]"
   ]
  },
  {
   "cell_type": "code",
   "execution_count": 11,
   "metadata": {
    "ExecuteTime": {
     "end_time": "2021-09-18T07:27:13.938922Z",
     "start_time": "2021-09-18T07:27:13.931956Z"
    }
   },
   "outputs": [
    {
     "name": "stdout",
     "output_type": "stream",
     "text": [
      "1\n",
      "2\n",
      "3\n",
      "5\n",
      "8\n",
      "8\n",
      "10\n",
      "66\n"
     ]
    }
   ],
   "source": [
    "a = [3,5,2,1,10,8,66,8]\n",
    "lst = [record(i,i) for i in a]\n",
    "select_sort(lst)\n",
    "for j in lst:\n",
    "    print(j.key)"
   ]
  },
  {
   "cell_type": "markdown",
   "metadata": {},
   "source": [
    "算法的空间复杂度是$O(1)$;\n",
    "\n",
    "元素比较的次数是固定的，是$n\\times (n-1)/2$；记录的次数取决于实际情况，在 0 到 $2\\times (n-1)$。综合可知，平均时间复杂度和最坏时间复杂度都是 $O(n^2)$。"
   ]
  },
  {
   "cell_type": "markdown",
   "metadata": {
    "run_control": {
     "marked": true
    }
   },
   "source": [
    "从时间复杂度也可以看出，直接选择排序算法的实际平均排序效率是低于插入排序算法，所以很少实际使用。"
   ]
  },
  {
   "cell_type": "markdown",
   "metadata": {},
   "source": [
    "**提高选择的效率**"
   ]
  },
  {
   "cell_type": "markdown",
   "metadata": {},
   "source": [
    "直接选择排序算法效率低的原因是，每个元素都要从头开始顺序比较，没有利用上一次排序时的“记忆”。优化的方法就是之前提到的原位排序算法(空间复杂度为常数)堆排序，做到了时间复杂度的理论最优值$O(n\\log n)$。但是堆排序算法没有稳定性和适应性。"
   ]
  },
  {
   "cell_type": "markdown",
   "metadata": {},
   "source": [
    "## 交换排序"
   ]
  },
  {
   "cell_type": "markdown",
   "metadata": {},
   "source": [
    "交换排序的基本思路是：一个序列如果没有完全排序，说明里面存在**逆序对**。交换发现的逆序对，就能更靠近良好排序序列；通过不断减少序列中的逆序，最终可以得到排序序列。采用不同的**确定逆序方法和交换逆序方法**，可以得到不同的**交换排序方法**。\n",
    "\n",
    "起泡排序便是其中一种。"
   ]
  },
  {
   "cell_type": "markdown",
   "metadata": {},
   "source": [
    "**起泡排序**"
   ]
  },
  {
   "cell_type": "markdown",
   "metadata": {},
   "source": [
    "起泡排序的步骤：\n",
    "\n",
    "1. 从序列的第一个数据下标开始，每个元素从左往右依次与相邻元素进行比较，如果发现是逆序，就交换；\n",
    "2. 反复进行上述步骤直到序列不存在逆序，即完全有序。\n",
    "\n",
    "示例如下：\n",
    "<img src='picture\\sort_3.png'>"
   ]
  },
  {
   "cell_type": "markdown",
   "metadata": {},
   "source": [
    "通过起泡排序的步骤，可知：\n",
    "\n",
    "1. 每一遍检查可以把一个最大元素交换到位，一些较大元素可以右移一段，可能移动很远；\n",
    "\n",
    "2. 从左到右比较，导致从右到左换位的小元素每次只左移一个单位，个别距离目标位置很远的元素，可能延误整个排序进度。\n",
    "\n",
    "3. 在每一遍检查的过程中，表的末端积累的是越来越多排好序的大元素；每编扫描，这段元素增加一个，经过n-1编扫描一定可以完成排序；\n",
    "\n",
    "4. 每做一遍扫描，扫描的范围可以缩短一项(末端的大元素)。"
   ]
  },
  {
   "cell_type": "code",
   "execution_count": 24,
   "metadata": {
    "ExecuteTime": {
     "end_time": "2021-09-18T08:43:56.438868Z",
     "start_time": "2021-09-18T08:43:56.429870Z"
    }
   },
   "outputs": [],
   "source": [
    "class record:\n",
    "    def __init__(self,key,datum):\n",
    "        self.key=key \n",
    "        self.datum=datum\n",
    "        \n",
    "def bubble_sort(lst):   \n",
    "    a = 0 \n",
    "    for i in range(len(lst)):\n",
    "        a += 1\n",
    "        for j in range(1,len(lst)-i):\n",
    "            if lst[j].key<lst[j-1].key:\n",
    "                lst[j],lst[j-1] = lst[j-1],lst[j]\n",
    "    print('循环次数',a)"
   ]
  },
  {
   "cell_type": "code",
   "execution_count": 25,
   "metadata": {
    "ExecuteTime": {
     "end_time": "2021-09-18T08:43:56.913907Z",
     "start_time": "2021-09-18T08:43:56.903906Z"
    }
   },
   "outputs": [
    {
     "name": "stdout",
     "output_type": "stream",
     "text": [
      "循环次数 8\n",
      "1\n",
      "2\n",
      "3\n",
      "5\n",
      "8\n",
      "8\n",
      "10\n",
      "66\n"
     ]
    }
   ],
   "source": [
    "a = [3,5,2,1,10,8,66,8]\n",
    "lst = [record(i,i) for i in a]\n",
    "bubble_sort(lst)\n",
    "for j in lst:\n",
    "    print(j.key)\n"
   ]
  },
  {
   "cell_type": "markdown",
   "metadata": {},
   "source": [
    "**算法的改进**\n",
    "\n",
    "只有在被排序表的最小元素在序列最末端，起泡排序才需要做满 n-1 遍。其他情况不需要这么多次，如果发现排序完成可以早点结束。"
   ]
  },
  {
   "cell_type": "code",
   "execution_count": 22,
   "metadata": {
    "ExecuteTime": {
     "end_time": "2021-09-18T08:43:14.807798Z",
     "start_time": "2021-09-18T08:43:14.801792Z"
    }
   },
   "outputs": [],
   "source": [
    "class record:\n",
    "    def __init__(self,key,datum):\n",
    "        self.key=key \n",
    "        self.datum=datum\n",
    "        \n",
    "def bubble_sort_v2(lst): \n",
    "    a = 0\n",
    "    for i in range(len(lst)):\n",
    "        a += 1 \n",
    "        found = False\n",
    "        for j in range(1,len(lst)-i):\n",
    "            if lst[j].key<lst[j-1].key:\n",
    "                lst[j],lst[j-1] = lst[j-1],lst[j]\n",
    "                found = True\n",
    "        if not found:\n",
    "            break \n",
    "    print('循环次数',a)"
   ]
  },
  {
   "cell_type": "code",
   "execution_count": 23,
   "metadata": {
    "ExecuteTime": {
     "end_time": "2021-09-18T08:43:14.988905Z",
     "start_time": "2021-09-18T08:43:14.982901Z"
    }
   },
   "outputs": [
    {
     "name": "stdout",
     "output_type": "stream",
     "text": [
      "循环次数 4\n",
      "1\n",
      "2\n",
      "3\n",
      "5\n",
      "8\n",
      "8\n",
      "10\n",
      "66\n"
     ]
    }
   ],
   "source": [
    "a = [3,5,2,1,10,8,66,8]\n",
    "lst = [record(i,i) for i in a]\n",
    "bubble_sort_v2(lst)\n",
    "for j in lst:\n",
    "    print(j.key)"
   ]
  },
  {
   "cell_type": "markdown",
   "metadata": {},
   "source": [
    "这样做提高了效率，而且使得算法有了效率。"
   ]
  },
  {
   "cell_type": "markdown",
   "metadata": {},
   "source": [
    "起泡排序的时间复杂度：$O(n^2)$；空间复杂度：$O(1)$"
   ]
  },
  {
   "cell_type": "markdown",
   "metadata": {},
   "source": [
    "试验表明，起泡排序的实际效果劣于时间复杂度相同的插入排序，原因可能有二：\n",
    "\n",
    "1. 排序过程中的赋值操作比较多，累积起来代价比较大；\n",
    "\n",
    "2. 一些距离目标位置很远的小元素可能会拖累整个算法。\n",
    "\n",
    "改善第2点，可以通过下一节要介绍的快速排序；另一种是交错起泡，具体做法是一遍从左到右扫描，下一遍从右到左，交错进行。如下图所示：\n",
    "\n",
    "<img src='picture\\sort_4.png'>"
   ]
  },
  {
   "cell_type": "markdown",
   "metadata": {},
   "source": [
    "## 快速排序"
   ]
  },
  {
   "cell_type": "markdown",
   "metadata": {},
   "source": [
    "快速排序是一种注明的排序算法，作为最早的采用递归方式描述的一种优美算法，展示了递归描述形式的威力。在各种基于关键码排序的内排序算法中，快速排序是实践中平均速度最快的算法之一。\n",
    "\n",
    "快速排序实现中也采用了发现逆序和交换记录位置的的方法，但算法中最本质的思想是划分，即按某种标准把数据分为“大数据”和“小数据”，并通过递归不断划分，最终得到一个排序的序列。基本过程是：\n",
    "\n",
    "1. 选择一种标准，把被排序序列中的记录按照这种标准分成大小两组。从整体看，这两组之间的相对顺序已定，较小一组的记录应该排在前面；\n",
    "\n",
    "2. 采用1中的方式，递归地划分上述2组数据记录，并不断递归下去；\n",
    "\n",
    "3. 递归划分使得每个数据块越来越小，直到每个小组中仅包含一个元素时，划分结束。排序工作完成。"
   ]
  },
  {
   "cell_type": "markdown",
   "metadata": {},
   "source": [
    "快速排序有多种实现方法，下面主要介绍基于顺序表的实现。"
   ]
  },
  {
   "cell_type": "markdown",
   "metadata": {},
   "source": [
    "### 快速排序的表实现"
   ]
  },
  {
   "cell_type": "markdown",
   "metadata": {},
   "source": [
    "**划分标准和移动方式**\n",
    "\n",
    "顺序表里数据不同的划分标准和移动方式定义了不同的快速排序算法。\n",
    "\n",
    "* 移动方式：为了降低算法的空间复杂度，我们希望尽可能在原表内实现数据的移动。通过表内移动将数据分成两组，大的一组移动到表右边，小的一组移动到表左边，全部的递归完成时表中记录自然有序；\n",
    "\n",
    "\n",
    "* 划分标准：现在考虑最简单的划分方式，取序列中第一个元素作为划分序列的元素，以其关键码来划分记录，将小于关键码的放在表的左边，大于关键码的放在表的右边。划分完成后表内小数据和大数据两组之间会留下一个空位，这就是作为比较标准的元素的正确位置，随后的操作中不需要改变它。\n",
    "\n",
    "\n",
    "备注：\n",
    "\n",
    "    上述的划分标准有时候可以导致排序的低效。有人提出“三者取中”的原则：每次划分前比较分段中的第一个、最后一个、位置居中的三个元素的关键码，取关键码居中的元素和第一个元素交换位置，而后基于这个首位置的关键码进行划分。这种做法可以减小最坏情况出现的概率。"
   ]
  },
  {
   "cell_type": "markdown",
   "metadata": {},
   "source": [
    "**单次划分的实现**"
   ]
  },
  {
   "cell_type": "markdown",
   "metadata": {},
   "source": [
    "现在考虑一段记录，初始状态如 (a) 所示：\n",
    "\n",
    "   * 取出第一个元素 R，其关键码是 K，这时会留出一个空位。部分已经分好 $\\leq R$的小数据排在序列的左侧；$\\geq R$ 的大数据放在序列的右端。中间是未进行划分的数据。假设未划分部分序列的第一个和最后一个位置为i和j。\n",
    "   \n",
    "1. 现在交替进行如下操作：\n",
    "\n",
    "    1. 如图 b所示，从j开始从右向左寻找第一个关键码小于 K 的数据(j 不断减小)，找到后将其存入i所指的空位。此时，j对应位置为空，i 增加 1 指向下一个待检查的记录；\n",
    "\n",
    "    2. 如图 c 所示，从i开始从左向右寻找第一个关键码大于 K 的数据(i 不断增加)，找到后将其加入 上一轮结束时j所指的空位。此时，i对应位置为空， j 减小 1指向下一个待检查的记录；\n",
    "   \n",
    "   \n",
    "2. 重复交替进行上述两套操作，直到 i 不再小于 j 为止( 2个操作里 j 不断减小， i 不断增加)。\n",
    "\n",
    "\n",
    "3. 划分结束时 i和j相等，指向空位，将记录 R 存入空位。一次划分完成。"
   ]
  },
  {
   "cell_type": "markdown",
   "metadata": {},
   "source": [
    "<img src='picture\\sort_5.png'>"
   ]
  },
  {
   "cell_type": "markdown",
   "metadata": {},
   "source": [
    "划分完成后，对2边的子序列按上述的同样方式递归处理。由于要执行两个递归，快速排序算法的执行形成了一种二叉树形式的递归调用。"
   ]
  },
  {
   "cell_type": "markdown",
   "metadata": {},
   "source": [
    "### 程序实现"
   ]
  },
  {
   "cell_type": "code",
   "execution_count": 5,
   "metadata": {
    "ExecuteTime": {
     "end_time": "2021-09-26T08:42:24.518742Z",
     "start_time": "2021-09-26T08:42:24.505741Z"
    }
   },
   "outputs": [],
   "source": [
    "class record:\n",
    "    def __init__(self,key,datum):\n",
    "        self.key=key \n",
    "        self.datum=datum\n",
    "        \n",
    "def quick_sort(lst):\n",
    "    qsort_rec(lst,0,len(lst)-1)\n",
    "\n",
    "def qsort_rec(lst,l,r):\n",
    "    if l>=r:\n",
    "        return \n",
    "    i,j = l,r\n",
    "    R = lst[i]\n",
    "    while i<j:\n",
    "        while i<j and lst[j].key>=R.key:\n",
    "            j -= 1\n",
    "        if i<j:\n",
    "            lst[i] = lst[j]\n",
    "            i += 1 \n",
    "        while i<j and lst[i].key<=R.key:\n",
    "            i += 1 \n",
    "        if i<j:\n",
    "            lst[j] = lst[i]\n",
    "            j -= 1 \n",
    "    lst[i] = R \n",
    "    qsort_rec(lst,l,i-1)\n",
    "    qsort_rec(lst,i+1,r)"
   ]
  },
  {
   "cell_type": "code",
   "execution_count": 8,
   "metadata": {
    "ExecuteTime": {
     "end_time": "2021-09-26T08:44:04.305123Z",
     "start_time": "2021-09-26T08:44:04.298165Z"
    }
   },
   "outputs": [
    {
     "name": "stdout",
     "output_type": "stream",
     "text": [
      "1\n",
      "2\n",
      "3\n",
      "5\n",
      "8\n",
      "8\n",
      "10\n",
      "66\n",
      "100\n"
     ]
    }
   ],
   "source": [
    "a = [100,3,5,2,1,10,8,66,8]\n",
    "lst = [record(i,i) for i in a]\n",
    "quick_sort(lst)\n",
    "for j in lst:\n",
    "    print(j.key)"
   ]
  },
  {
   "cell_type": "markdown",
   "metadata": {},
   "source": [
    "**算法的复杂度**\n",
    "\n",
    "上述排序的时间复杂度：\n",
    "\n",
    "1. 当序列是升序或者降序时，需要的时间复杂度是 $O(n^2)$；\n",
    "2. 平均时间复杂度是 $O(n\\log n)$。\n",
    "\n",
    "抽象看，快速排序产生的划分结构，可以看做以枢轴记录为根，以两个划分分段递归划分的结果作为左右子树的一棵二叉树。\n",
    "\n",
    "空间复杂度：最坏是 $O(n^2)$,可以做到 $O(\\log n)$"
   ]
  },
  {
   "cell_type": "markdown",
   "metadata": {},
   "source": [
    "## 归并排序"
   ]
  },
  {
   "cell_type": "markdown",
   "metadata": {},
   "source": [
    "### 定义"
   ]
  },
  {
   "cell_type": "markdown",
   "metadata": {},
   "source": [
    "归并是一种典型的序列操作，把两个或者多个有序的序列合并在一起成为一个有序序列。基于归并的思想也可以实现排序，称为**归并排序**。基本方法如下：\n",
    "\n",
    "1. 初始时把 待排序序列的 n 个元素看成 n 个有序子序列，每个子序列长度均为1；\n",
    "2. 把当时序列组里的有序子序列两两归并，完成一遍后序列组里的排序子序列数量减半，每个子序列长度加倍；\n",
    "3. 对加长的子序列重复步骤2，最终得到一个长度为n的有序序列。\n",
    "\n",
    "\n",
    "这种归并排序成为**二路归并排序**，每次都是把2个有序子序列归并成1个。也可以考虑三路归并排序或者多路。"
   ]
  },
  {
   "cell_type": "markdown",
   "metadata": {},
   "source": [
    "一个例子如下：\n",
    "<img src='picture\\sort_6.png'>"
   ]
  },
  {
   "cell_type": "markdown",
   "metadata": {},
   "source": [
    "**归并排序的特点**\n",
    "\n",
    "归并排序是一种顺序性操作，很适合处理存在磁盘等外存的大量数据。"
   ]
  },
  {
   "cell_type": "markdown",
   "metadata": {},
   "source": [
    "### 算法实现"
   ]
  },
  {
   "cell_type": "markdown",
   "metadata": {},
   "source": [
    "**算法使用的空间**\n",
    "\n",
    "之前的算法会考虑原地存储的情况，归并排序要实现原地存储有点复杂，替代性解决方案就是开辟一个和原表同样大小的存储空间，将每次归并排序后的结果存储进去；\n",
    "\n",
    "一遍归并排序完成后，原来的表已经闲置为空了，可以将第二遍归并排序的结果再放回去，这样交替进行，最终可以实现归并排序。空间代价是 $O(n)$。"
   ]
  },
  {
   "cell_type": "markdown",
   "metadata": {},
   "source": [
    "**算法的实现**\n",
    "\n",
    "归并排序算法通过三次来实现(需要一个和原表大小相同的辅助表)：\n",
    "\n",
    "1. 最下层：实现表中相邻2个有序子序列的归并，将归并后的有序子序列存入另一个有序表的相同位置；\n",
    "\n",
    "2. 中间层：对序列里的这种成对子序列执行步骤1，对序列完成一次完整的归并；\n",
    "\n",
    "3. 最高层：在原表和辅助表之间交替进行上述操作，直到整个表里只有一个有序序列时排序完成。\n",
    "\n",
    "\n",
    "备注：一般情况下被处理的表里元素数量不是2的幂，所以要考虑表尾端不规则的情况。"
   ]
  },
  {
   "cell_type": "code",
   "execution_count": 14,
   "metadata": {
    "ExecuteTime": {
     "end_time": "2021-09-27T07:54:02.665516Z",
     "start_time": "2021-09-27T07:54:02.654513Z"
    },
    "run_control": {
     "marked": true
    }
   },
   "outputs": [],
   "source": [
    "class record:\n",
    "    def __init__(self,key,datum):\n",
    "        self.key=key \n",
    "        self.datum=datum\n",
    "        \n",
    "def merge_sort(lst):\n",
    "    sliceLen = 1\n",
    "    lstLen = len(lst)\n",
    "    templst = [None]*lstLen\n",
    "    while sliceLen<lstLen:\n",
    "        merge_pass(lst,templst,sliceLen,lstLen)\n",
    "        sliceLen*=2\n",
    "        merge_pass(templst,lst,sliceLen,lstLen) # 结果存回原位\n",
    "        sliceLen*=2\n",
    "        \n",
    "def merge_pass(lfrom,lto,sliceLen,lstLen):\n",
    "    i = 0 \n",
    "    while i + 2*sliceLen<lstLen: # 归并长度为 sliceLen 的2段序列\n",
    "        merge(lfrom,lto,i,i+sliceLen,i+2*sliceLen)\n",
    "        i += 2*sliceLen\n",
    "    if i + sliceLen < lstLen: # 归并2段有序序列，第二段序列长度小于 sliceLen\n",
    "        merge(lfrom,lto,i,i + sliceLen,lstLen)\n",
    "    else:\n",
    "        for j in range(i,lstLen): # 只剩下最后一个长度小于sliceLen的有序序列，复制到辅助表\n",
    "            lto[j] = lfrom[j]\n",
    "    \n",
    "def merge(lfrom,lto,low,mid,high):\n",
    "    i,j = low,mid \n",
    "    k = low \n",
    "    \n",
    "    while i<mid and j<high:\n",
    "        if lfrom[i].key<=lfrom[j].key:       # 取较小的元素存入辅助表lto的相同位置\n",
    "            lto[k] = lfrom[i]\n",
    "            i += 1\n",
    "        else:\n",
    "            lto[k] = lfrom[j]\n",
    "            j += 1\n",
    "        k += 1 \n",
    "    while i<mid: # 复制序列1的剩余记录\n",
    "        lto[k] = lfrom[i]\n",
    "        i += 1\n",
    "        k += 1\n",
    "    while j<high: # 复制序列2的剩余记录\n",
    "        lto[k] = lfrom[j]\n",
    "        j += 1\n",
    "        k += 1"
   ]
  },
  {
   "cell_type": "code",
   "execution_count": 15,
   "metadata": {
    "ExecuteTime": {
     "end_time": "2021-09-27T07:54:02.845574Z",
     "start_time": "2021-09-27T07:54:02.837564Z"
    }
   },
   "outputs": [
    {
     "name": "stdout",
     "output_type": "stream",
     "text": [
      "1\n",
      "2\n",
      "3\n",
      "5\n",
      "8\n",
      "8\n",
      "10\n",
      "66\n",
      "99\n",
      "100\n"
     ]
    }
   ],
   "source": [
    "a = [100,3,99,5,2,1,10,8,66,8]\n",
    "lst = [record(i,i) for i in a]\n",
    "merge_sort(lst)\n",
    "for j in lst:\n",
    "    print(j.key)"
   ]
  },
  {
   "cell_type": "markdown",
   "metadata": {},
   "source": [
    "**算法复杂度分析**\n",
    "\n",
    "1. 时间复杂度：归并的次数不会多于 $\\log_2 n +1$，每次归并的比较次数为 $O(n)$，所以复杂度是 $O(n\\log_2 n)$;\n",
    "2. 空间复杂度：因为用了复制表，所以复杂度是 $O(n)$。"
   ]
  },
  {
   "cell_type": "markdown",
   "metadata": {},
   "source": [
    "**稳定性和适应性**\n",
    "\n",
    "算法具有稳定性，但不具有适应性，归并的次数是固定的，但也可以在比较前对归并的子序列进行前置判断来降低归并次数。"
   ]
  },
  {
   "cell_type": "markdown",
   "metadata": {},
   "source": [
    "# 其他排序方法"
   ]
  },
  {
   "cell_type": "markdown",
   "metadata": {},
   "source": [
    "## 分配排序和基数排序"
   ]
  },
  {
   "cell_type": "markdown",
   "metadata": {
    "ExecuteTime": {
     "end_time": "2021-09-29T03:42:59.963374Z",
     "start_time": "2021-09-29T03:42:59.942368Z"
    }
   },
   "source": [
    "前面介绍的是基于关键码的排序，本节介绍有关排序的另一种想法，它并不基于关键码比较，是基于一种固定位置的分配和收集。"
   ]
  },
  {
   "cell_type": "markdown",
   "metadata": {},
   "source": [
    "### 分配与排序"
   ]
  },
  {
   "cell_type": "markdown",
   "metadata": {},
   "source": [
    "如果关键码只有很少几个不同的值，存在一种简单直观的排序方法：\n",
    "\n",
    "1. 为每个关键码设定一个桶(即是可以容纳多个元素的的容器，例如用连续表或者链表);\n",
    "\n",
    "2. 排序时简单地根据关键码把数据放入相应桶中；\n",
    "\n",
    "3. 存入所有数据后，按照关键码顺序收集各个桶中的数据，就得到了排序序列。\n",
    "\n",
    "例如关键码取值整数0~9，只需要10个桶就可以完成排序。做一遍分配，做一遍收集。"
   ]
  },
  {
   "cell_type": "markdown",
   "metadata": {},
   "source": [
    "### 多轮分配和排序"
   ]
  },
  {
   "cell_type": "markdown",
   "metadata": {},
   "source": [
    "上述的分配排序是基于单个维度的关键码，同样的关键码个数对应桶的数量有限；我们可以通过多维的元组来扩充其能力。然后通过多轮分配(每一轮是一个维度)和收集，完成以这种元组为关键码的排序工作。\n",
    "\n",
    "抽象看，这种元组关键码类似于“字符串”。关键码元组的每个元素就是一个字符，关键码相当于字符串，自然序就是这种串的字典序。"
   ]
  },
  {
   "cell_type": "markdown",
   "metadata": {},
   "source": [
    "**一个例子**"
   ]
  },
  {
   "cell_type": "markdown",
   "metadata": {},
   "source": [
    "考虑以三元组 (a,a,a) 为关键码的序列，其中a的取值范围为 $\\{0,1,2,3\\}$。考虑下面待排序的关键码序列：\n",
    "<img src='picture\\sort_7.png'>"
   ]
  },
  {
   "cell_type": "markdown",
   "metadata": {},
   "source": [
    "因为关键码是固定长度的三元组，关键码中的每个元素取值也很少，可以用分配排序完成针对一个元组元素的排序，然后通过多轮分配排序和收集完成排序。具体有两种分配排序方法。"
   ]
  },
  {
   "cell_type": "markdown",
   "metadata": {},
   "source": [
    "1. 从最高位(左侧)开始考虑关键码的元素，称为 **高位优先方法**。\n",
    "\n",
    "    * 按这种方法处理一遍，得到下面的序列；\n",
    "    * 然后要对每个分桶，按照关键码的第二位置元素再进行第二轮分配排序，会出现子桶；\n",
    "    * 再对子序列的子序列再排序，最终可以实现整个序列的排序。比较麻烦的是，要考虑越来越多的子序列，要记录相关信息。\n",
    "<img src='picture\\sort_8.png'>\n"
   ]
  },
  {
   "cell_type": "markdown",
   "metadata": {},
   "source": [
    "2. 从最低位开始，称为 **低位优先方法**。\n",
    "\n",
    "    * 这时将数据按照关键码元组的最后一位的顺序收集，实现了关键码的分段有序，每一段集合里的元素是整体低于下一段的。如下图左所示；\n",
    "    * 然后按照关键码元组的倒数第二位对关键码进行分配和收集，这时关键码元组按照后两位是递增分段有序的，如下图右所示；\n",
    "    * 我们最后再按照最高位进行一次分配和收集，就可以完成整体的排序。\n",
    "    \n",
    "    \n",
    "<img src='picture\\sort_9.png'>"
   ]
  },
  {
   "cell_type": "markdown",
   "metadata": {},
   "source": [
    "由上面的分析可知，采用最低位优先方法，更加规范和简单。下面考虑这种方法的实现。\n",
    "\n",
    "如果关键码的每位都是数字，上述关键码元组就像是按某种进制(以某个数为基数，比如10)表示的一个整数。排序过程就是从低位到高位逐步进行分配和收集的过程。处理过程就像按基数逐位处理，因此这种多轮分配排序也称为**基数排序**。"
   ]
  },
  {
   "cell_type": "markdown",
   "metadata": {},
   "source": [
    "**低位优先的算法实现**"
   ]
  },
  {
   "cell_type": "markdown",
   "metadata": {},
   "source": [
    "做2点约定：\n",
    "1. 关键码对应的元素存储在顺序表里，在python里是list;\n",
    "2. 第j个关键码元组 $k^j = (x_0^j,x_1^j,\\cdots,x_{d-1}^j)$的元素都是基于10进制的，取值范围是 ：0$\\leq x_i^j \\leq r-1,0\\leq i\\leq d-1$"
   ]
  },
  {
   "cell_type": "code",
   "execution_count": 21,
   "metadata": {
    "ExecuteTime": {
     "end_time": "2021-09-29T10:00:33.645174Z",
     "start_time": "2021-09-29T10:00:33.635180Z"
    }
   },
   "outputs": [],
   "source": [
    "def radix_sort(lst,d):\n",
    "    rlists = [[] for i in range(10)]\n",
    "    for m in range(-1,-d-1,-1):\n",
    "        for j in range(len(lst)):\n",
    "            rlists[lst[j][m]].append(lst[j])\n",
    "        j = 0 \n",
    "        for i in range(10):\n",
    "            tmp = rlists[i]\n",
    "            for _ in range(len(tmp)):\n",
    "                lst[j] = tmp[_]\n",
    "                j += 1\n",
    "            rlists[i].clear()"
   ]
  },
  {
   "cell_type": "code",
   "execution_count": 23,
   "metadata": {
    "ExecuteTime": {
     "end_time": "2021-09-29T10:00:40.926195Z",
     "start_time": "2021-09-29T10:00:40.912196Z"
    }
   },
   "outputs": [
    {
     "data": {
      "text/plain": [
       "[(0, 2, 3), (1, 1, 3), (1, 3, 0), (2, 1, 0), (3, 2, 1), (3, 2, 2)]"
      ]
     },
     "execution_count": 23,
     "metadata": {},
     "output_type": "execute_result"
    }
   ],
   "source": [
    "lst=[(0,2,3),(1,3,0),(3,2,1),(1,1,3),(3,2,2),(2,1,0)]\n",
    "radix_sort(lst,3)\n",
    "lst"
   ]
  },
  {
   "cell_type": "markdown",
   "metadata": {},
   "source": [
    "算法的时间复杂度是 $O(d\\times (n+r))$；空间复杂度取决于clear的实现方法，如果clear是简单为表换一块空表存储区，复杂度是 $O(n)$,如果只是将表的长度置为 0,复杂度可能会达到 $O(m\\times n)$。"
   ]
  },
  {
   "cell_type": "markdown",
   "metadata": {},
   "source": [
    "## 一些与排序有关的问题"
   ]
  },
  {
   "cell_type": "markdown",
   "metadata": {},
   "source": [
    "**混成方法**"
   ]
  },
  {
   "cell_type": "markdown",
   "metadata": {},
   "source": [
    "除了上述我们提到的简单排序算法(插入排序、选择排序、交换排序)和复杂排序算法(快速排序、归并排序、堆排序)之外，还可以采用多种算法的结合，我们称为**混成方法**：\n",
    "\n",
    "1. 在快速排序中，序列被划分为越来越短的序列。对于短序列，采用简单插入排序的实际效果可能会好于快速排序；\n",
    "2. 对元素比较少的序列，比如长度为8的序列，可能采用插入排序会比归并排序效果更好。"
   ]
  },
  {
   "cell_type": "markdown",
   "metadata": {},
   "source": [
    "python中的排序函数 sort，就是一种混成式排序算法，称为Timsort,可以翻译为 **蒂姆排序**。\n",
    "\n",
    "蒂姆排序是基于归并排序的稳定排序算法。结合使用了归并排序和插入排序，最坏的时间复杂度是 $O(n\\log n)$,具有适应性；空间复杂度是 $O(n)$。试验表明，**蒂姆排序的平均性能好于快速排序，是目前实际表现最好的排序算法**。"
   ]
  },
  {
   "cell_type": "markdown",
   "metadata": {},
   "source": [
    "**稳定性问题**"
   ]
  },
  {
   "cell_type": "markdown",
   "metadata": {},
   "source": [
    "实际上任何一种算法，对于序列中的数据 $R_i$，起关键码是 $k_i$，可以通过 $(k_i,i)$来扩展关键码，其中 i 是数据在序列中的下标。在 $k_i$相同时，可以比较下标。通过这种方式，序列中数据的关键码具有了唯一性。\n",
    "\n",
    "这种方法具有普适性。但是相应的代价是：需要扫描修改数据的关键码，排序时增加了比较的开销；另外也需要为每一个数据元素增加一个下标，空间开销是 $O(n)$。"
   ]
  },
  {
   "cell_type": "markdown",
   "metadata": {},
   "source": [
    "# 几种排序算法的比较"
   ]
  },
  {
   "attachments": {},
   "cell_type": "markdown",
   "metadata": {},
   "source": [
    "<img src='picture\\sort_10.png'>"
   ]
  },
  {
   "cell_type": "markdown",
   "metadata": {},
   "source": [
    "1. 平均时间上看：\n",
    "\n",
    "    * 实践中快速排序非常快，但是最坏情况有 $O(n^2)$复杂度，不如归并排序；\n",
    "    * 序列长度n较大时归并排序通常比堆排序更快，但实际需要很大的辅助空间；\n",
    "    * 蒂姆排序在实际应用中处于最优地位，缺点是需要 $O(n)$ 的辅助空间。\n",
    "    \n",
    "2. 稳定性：\n",
    "\n",
    "    * 简单排序算法大多是稳定的，但大部分时间性能好的排序算法都不稳定，如快速排序、堆排序等。\n",
    "    * 一般来说，只做相邻记录关键码的比较和局部调整容易得到稳定性；\n",
    "    * 高效排序算法中，只有归并排序能很自然得到稳定性，蒂姆排序的最主要操作是归并排序，结合其他技术，得到了很好的效果；\n",
    "    * 稳定性是具体算法实现的性质，采用同一种排序算法，可以做出稳定实现和不稳定实现。"
   ]
  }
 ],
 "metadata": {
  "kernelspec": {
   "display_name": "Python 3",
   "language": "python",
   "name": "python3"
  },
  "language_info": {
   "codemirror_mode": {
    "name": "ipython",
    "version": 3
   },
   "file_extension": ".py",
   "mimetype": "text/x-python",
   "name": "python",
   "nbconvert_exporter": "python",
   "pygments_lexer": "ipython3",
   "version": "3.7.3"
  },
  "toc": {
   "base_numbering": 1,
   "nav_menu": {},
   "number_sections": true,
   "sideBar": true,
   "skip_h1_title": false,
   "title_cell": "Table of Contents",
   "title_sidebar": "Contents",
   "toc_cell": false,
   "toc_position": {},
   "toc_section_display": true,
   "toc_window_display": true
  }
 },
 "nbformat": 4,
 "nbformat_minor": 2
}
