{
 "cells": [
  {
   "cell_type": "markdown",
   "metadata": {},
   "source": [
    "# 问题和性质"
   ]
  },
  {
   "cell_type": "markdown",
   "metadata": {},
   "source": [
    "## 排序问题的定义"
   ]
  },
  {
   "cell_type": "markdown",
   "metadata": {},
   "source": [
    "对具有序关系 $\\leq$的集合S，一个排序算法 $sort:S\\rightarrow S$ 对 S 的任意元素序列 s，满足\n",
    "\n",
    "$$s^{\\prime}= sort(s),s^{\\prime}\\subseteq S$$\n",
    "\n",
    "并且 $s^{\\prime}$的任意2个元素 e 和 $e^{\\prime}$ 满足：\n",
    "\n",
    "$$loc_{s^{\\prime}}(e)\\leq loc_{s^{\\prime}}(e^{\\prime}) \\Longleftrightarrow e\\leq e^{\\prime}$$\n",
    "\n",
    "其中 $loc_{s^{\\prime}}(e)$ 为 e 在序列 $s^{\\prime}$ 里的位置。"
   ]
  },
  {
   "cell_type": "markdown",
   "metadata": {},
   "source": [
    "**内排序与外排序**\n",
    "\n",
    "1. 内排序：如果待排序的记录都保持在内存，称为内排序；\n",
    "\n",
    "2. 针对外存(磁盘、磁带等)数据的排序工作称为外排序。\n",
    "\n",
    "本章主要讨论内排序算法，其中的**归并排序算法**是大多数外排序算法的基础。"
   ]
  },
  {
   "cell_type": "markdown",
   "metadata": {},
   "source": [
    "## 排序的操作、性质和评价"
   ]
  },
  {
   "cell_type": "markdown",
   "metadata": {},
   "source": [
    "假设我们需要排序的是：$S = \\{R_0,R_1,\\cdots,R_{n-1}\\}$，其中 $R_i$ 的关键码是 $K_i$，我们按照 关键码对元素进行排序。\n",
    "\n",
    "**排序的基本操作：**\n",
    "\n",
    "1. 比较关键码的操作，通过比较来确定数据记录的顺序；\n",
    "2. 移动数据记录的操作，用于调整数据记录的位置 或 顺序。\n",
    "\n",
    "\n",
    "**排序的时间复杂度和空间复杂度：**\n",
    "\n",
    "1. 时间复杂度：理论研究，基于关键码的排序操作，任何排序算法的复杂度都不可能优于 $O(\\log n\\log n)$；\n",
    "\n",
    "2. 空间复杂度：排序算法的空间复杂度，只要是关注在执行算法过程中所需要的临时辅助空间。\n",
    "\n",
    "备注：在执行排序算法时，人们特别关注算法的空间复杂度是不是常量的。常量的开销说明，排序可以在原表里完成，只需要几个变量作为操作中的临时存储。具有这种性质的排序算法称为**原地排序算法**。\n",
    "\n",
    "**排序算法的性质：**\n",
    "\n",
    "1. 稳定性：对待排序的序列 S 中关键码相等的两个元素 $R_i,R_j$，在排序之后保持 $R_i,R_j$ 的前后顺序不变。就称这个算法是稳定的；\n",
    "\n",
    "2. 适应性：如果一个排序算法对接近有序的序列工作地更快，时间复杂度更低，就称这种算法具有适应性。"
   ]
  },
  {
   "cell_type": "markdown",
   "metadata": {},
   "source": [
    "## 排序算法的分类"
   ]
  },
  {
   "cell_type": "markdown",
   "metadata": {},
   "source": [
    "把经典的排序算法按照基本操作方式或特点进行如下分类：\n",
    "1. 插入排序；\n",
    "2. 选择排序；\n",
    "3. 交换排序；\n",
    "4. 分配排序；\n",
    "5. 归并排序；\n",
    "6. 外部排序。"
   ]
  },
  {
   "cell_type": "markdown",
   "metadata": {},
   "source": [
    "**记录结构**"
   ]
  },
  {
   "cell_type": "markdown",
   "metadata": {},
   "source": [
    "在之后章节讨论各种排序算法时，使用的示例数据结构就是一个表。假定表中元素是下面定义的record类的对象：\n",
    "```python\n",
    "class record:\n",
    "    def __init__(self,key,datum):\n",
    "        self.key=key \n",
    "        self.datum=datum\n",
    "```\n",
    "\n",
    "另外，我们假定key排序所需的 $>,<,\\geq,\\leq$ 都已经有定义。并且只考虑 $\\leq$，即递增顺序排序问题。"
   ]
  },
  {
   "cell_type": "markdown",
   "metadata": {},
   "source": [
    "# 简单排序算法"
   ]
  },
  {
   "cell_type": "markdown",
   "metadata": {},
   "source": [
    "## 二分法"
   ]
  },
  {
   "cell_type": "markdown",
   "metadata": {},
   "source": [
    "****\n",
    "查找确定元素"
   ]
  },
  {
   "cell_type": "code",
   "execution_count": 26,
   "metadata": {},
   "outputs": [],
   "source": [
    "def bi_search(lst,target):\n",
    "    left = 0 \n",
    "    right = len(lst)-1\n",
    "    while left<=right:\n",
    "        mid = left+(right-left>>1)\n",
    "        if lst[mid] == target:\n",
    "            return mid \n",
    "        elif lst[mid]<target:\n",
    "            left = mid + 1\n",
    "        else:\n",
    "            right = mid - 1\n",
    "    return -1 "
   ]
  },
  {
   "cell_type": "code",
   "execution_count": 27,
   "metadata": {},
   "outputs": [
    {
     "name": "stdout",
     "output_type": "stream",
     "text": [
      "0 0\n",
      "2 2\n",
      "4 4\n",
      "6 6\n"
     ]
    }
   ],
   "source": [
    "lst = [1,3,5,7,9,20,22]\n",
    "for i in range(0,len(lst),2):\n",
    "    res = bi_search(lst,lst[i])\n",
    "    print(res,i)"
   ]
  },
  {
   "cell_type": "markdown",
   "metadata": {},
   "source": [
    "****\n",
    "查找左侧边界"
   ]
  },
  {
   "cell_type": "code",
   "execution_count": 36,
   "metadata": {},
   "outputs": [],
   "source": [
    "def bi_search_left(lst,target):\n",
    "    left = 0\n",
    "    right = len(lst)\n",
    "    while left<right:\n",
    "        mid = left + (right-left>>1)\n",
    "        if lst[mid] == target:\n",
    "            right = mid  \n",
    "        elif lst[mid]<target:\n",
    "            left = mid + 1\n",
    "        else:\n",
    "            right = mid \n",
    "    if lst[left]!=target:\n",
    "        return -1\n",
    "    return left"
   ]
  },
  {
   "cell_type": "code",
   "execution_count": 38,
   "metadata": {},
   "outputs": [
    {
     "name": "stdout",
     "output_type": "stream",
     "text": [
      "0 0\n",
      "1 2\n",
      "4 4\n"
     ]
    }
   ],
   "source": [
    "lst = [2,3,3,4,5,6]\n",
    "for i in range(0,len(lst),2):\n",
    "    res = bi_search_left(lst,lst[i])\n",
    "    print(res,i)"
   ]
  },
  {
   "cell_type": "code",
   "execution_count": 40,
   "metadata": {},
   "outputs": [
    {
     "data": {
      "text/plain": [
       "-1"
      ]
     },
     "execution_count": 40,
     "metadata": {},
     "output_type": "execute_result"
    }
   ],
   "source": [
    "res = bi_search_left(lst,1)\n",
    "res"
   ]
  },
  {
   "cell_type": "markdown",
   "metadata": {},
   "source": [
    "****\n",
    "寻找右侧边界"
   ]
  },
  {
   "cell_type": "code",
   "execution_count": 64,
   "metadata": {},
   "outputs": [],
   "source": [
    "def bi_search_right(lst,target):\n",
    "    left = 0\n",
    "    right = len(lst)\n",
    "    while left<right:\n",
    "        mid = left + (right-left>>1)\n",
    "        if lst[mid] == target:\n",
    "            left = mid + 1 \n",
    "        elif lst[mid]<target:\n",
    "            left = mid + 1\n",
    "        else:\n",
    "            right = mid \n",
    "    if (left == len(lst) and lst[left-1]!=target) or (left == 0 and lst[left]!=target):\n",
    "        return -1\n",
    "    \n",
    "    return left-1"
   ]
  },
  {
   "cell_type": "code",
   "execution_count": 65,
   "metadata": {},
   "outputs": [
    {
     "name": "stdout",
     "output_type": "stream",
     "text": [
      "-1 1\n",
      "0 2\n",
      "2 3\n",
      "5 6\n",
      "-1 10\n"
     ]
    }
   ],
   "source": [
    "lst = [2,3,3,4,5,6]\n",
    "for i in [1,2,3,6,10]:\n",
    "    res = bi_search_right(lst,i)\n",
    "    print(res,i)"
   ]
  },
  {
   "cell_type": "markdown",
   "metadata": {},
   "source": [
    "寻找不超过n的最大平方数："
   ]
  },
  {
   "cell_type": "code",
   "execution_count": 24,
   "metadata": {},
   "outputs": [],
   "source": [
    "def find_max_sqrt(n):# 等价于寻找右侧边界(必然存在)\n",
    "    if n<0:\n",
    "        return -1\n",
    "    left = 0\n",
    "    right = n+1\n",
    "    while left<right:\n",
    "        mid = left + (right-left>>1)\n",
    "        if mid**2 == n:\n",
    "            left = mid + 1 \n",
    "        elif mid**2>n:\n",
    "            right = mid \n",
    "        elif mid**2<n:\n",
    "            left = mid + 1\n",
    "    return left-1"
   ]
  },
  {
   "cell_type": "code",
   "execution_count": 25,
   "metadata": {},
   "outputs": [
    {
     "name": "stdout",
     "output_type": "stream",
     "text": [
      "0 0\n",
      "1 1\n",
      "1 2\n",
      "1 3\n",
      "2 4\n",
      "2 5\n",
      "2 6\n",
      "2 7\n",
      "2 8\n",
      "3 9\n",
      "3 10\n",
      "3 11\n",
      "3 12\n",
      "3 13\n",
      "3 14\n",
      "3 15\n",
      "4 16\n"
     ]
    }
   ],
   "source": [
    "for i in range(17):\n",
    "    res = find_max_sqrt(i)\n",
    "    print(res,i)"
   ]
  },
  {
   "cell_type": "code",
   "execution_count": null,
   "metadata": {},
   "outputs": [],
   "source": []
  },
  {
   "cell_type": "code",
   "execution_count": null,
   "metadata": {},
   "outputs": [],
   "source": []
  },
  {
   "cell_type": "code",
   "execution_count": null,
   "metadata": {},
   "outputs": [],
   "source": []
  },
  {
   "cell_type": "markdown",
   "metadata": {},
   "source": [
    "## 插入排序"
   ]
  },
  {
   "cell_type": "markdown",
   "metadata": {},
   "source": [
    "对一个连续列表，如下图所示，左侧表示已经排序部分；右侧(包含d)代表未排序部分。插入排序就是：\n",
    "1. 对于未排序部分，从左到右依次处理未排序元素，每次只考虑最左端的元素d;\n",
    "2. 将元素d从列表中取出，这样列表里就多了一个空位；\n",
    "3. 通过d与已排序部分从右往左挨个比较，如果比d大就向右平移1个单位；否则d就插入当下的空位；\n",
    "4. 循环未排序部分，重复以上过程即完成排序。\n",
    "<img src='picture\\sort_1.png'>"
   ]
  },
  {
   "cell_type": "code",
   "execution_count": 5,
   "metadata": {
    "ExecuteTime": {
     "end_time": "2021-09-15T08:09:45.532115Z",
     "start_time": "2021-09-15T08:09:45.523121Z"
    }
   },
   "outputs": [],
   "source": [
    "class record:\n",
    "    def __init__(self,key,datum):\n",
    "        self.key=key \n",
    "        self.datum=datum\n",
    "        \n",
    "def insert_sort(lst):\n",
    "    for i in range(1,len(lst)):# 默认第一个元素已经排好序\n",
    "        x = lst[i]# 此处默认list长度>=2\n",
    "        j = i\n",
    "        while j>0 and lst[j-1].key>x.key: \n",
    "            lst[j] = lst[j-1] # 如果 j-1位置元素更大，就往后移\n",
    "            j -= 1 \n",
    "        lst[j] = x # 因为是基于lst原地修改的，所以不需要返回lst  "
   ]
  },
  {
   "cell_type": "code",
   "execution_count": 7,
   "metadata": {
    "ExecuteTime": {
     "end_time": "2021-09-15T08:09:54.460661Z",
     "start_time": "2021-09-15T08:09:54.451617Z"
    }
   },
   "outputs": [
    {
     "name": "stdout",
     "output_type": "stream",
     "text": [
      "2\n",
      "3\n",
      "5\n",
      "8\n",
      "8\n",
      "10\n",
      "66\n"
     ]
    }
   ],
   "source": [
    "a = [3,5,2,8,10,8,66]\n",
    "lst = [record(i,i) for i in a]\n",
    "insert_sort(lst)\n",
    "for j in lst:\n",
    "    print(j.key)"
   ]
  },
  {
   "cell_type": "markdown",
   "metadata": {},
   "source": [
    "**时间和空间复杂度**\n",
    "\n",
    "空间复杂度：因为只用到了几个临时变量，所以复杂度是 $O(1)$。\n",
    "\n",
    "**时间复杂度：**\n",
    "\n",
    "外层循环：外层循环执行次数就是 n-1 次；\n",
    "\n",
    "内层循环： 执行次数和实际情况有关。变量j的初始值从 1 逐渐增加到 n-1：\n",
    "\n",
    "    a. 最坏情况是 lst[j-1].key>x.key 总是失败，也就是说，每次处理的元素比已经排序的所有部分小，这个元素就会移到最前面，执行次数就是 j，结合外层循环，插入算法总执行次数为：\n",
    "$$1 + 2 + \\cdots + (n-1) = n\\times (n-1)/2 $$\n",
    "    \n",
    "    b. 最好情况是 被处理元素大于已排序部分，内层循环体不执行；\n",
    "\n",
    "经过以上分析，可知：\n",
    "\n",
    "1. 关键码比较次数：最少是 n-1(对应的是内层循环不执行)，最多是 $n\\times (n-1)/2 $;\n",
    "\n",
    "2. 记录移动次数：包括内层循环外面的2次(取放被处理元素),最少是 $2(n-1)$，最多是 $2(n-1) + n\\times (n-1)/2$。\n",
    "\n",
    "所以最坏情况的时间复杂度是 $O(n^2)$，最好情况是 $O(n)$,说明这个算法具有适应性；同时根据代码逻辑也可知算法具有稳定性。\n",
    "\n",
    "平均意义下，时间复杂度是 $O(n^2)$。"
   ]
  },
  {
   "cell_type": "markdown",
   "metadata": {},
   "source": [
    "**插入排序的变形**\n",
    "\n",
    "在检索元素的插入位置，可以从原来的顺序检索变成二分法检索，原因在于前面的部分是排好序的，适合二分法；即便如此，找到位置后还是要顺序移动元素，这还是需要线性时间。\n",
    "\n",
    "另外，二分法要注意稳定性，即遇到相同的关键码，要保证插入位置在其后面。"
   ]
  },
  {
   "cell_type": "code",
   "execution_count": 83,
   "metadata": {
    "ExecuteTime": {
     "end_time": "2021-09-16T07:32:39.877743Z",
     "start_time": "2021-09-16T07:32:39.870741Z"
    },
    "run_control": {
     "marked": true
    }
   },
   "outputs": [],
   "source": [
    "class record:\n",
    "    def __init__(self,key,datum):\n",
    "        self.key=key \n",
    "        self.datum=datum\n",
    "        \n",
    "def insert_sort(lst):   \n",
    "    for i in range(1,len(lst)):# 默认第一个元素已经排好序\n",
    "        x = lst[i]           \n",
    "        left,right = 0,i-1\n",
    "        while left<=right:\n",
    "            midd = int((left+right)/2)\n",
    "            y = lst[midd]\n",
    "            if y.key<= x.key: \n",
    "                left = midd+1 # 保证稳定性，不影响原来元素的序\n",
    "            else:\n",
    "                right = midd-1 \n",
    "        j = i-1\n",
    "        while j>=left: # 进行数据记录的倒序移动\n",
    "            lst[j+1] = lst[j]\n",
    "            j -= 1\n",
    "        lst[left] = x"
   ]
  },
  {
   "cell_type": "code",
   "execution_count": 84,
   "metadata": {
    "ExecuteTime": {
     "end_time": "2021-09-16T07:32:40.053786Z",
     "start_time": "2021-09-16T07:32:40.048752Z"
    }
   },
   "outputs": [
    {
     "name": "stdout",
     "output_type": "stream",
     "text": [
      "1\n",
      "2\n",
      "3\n",
      "5\n",
      "8\n",
      "8\n",
      "10\n",
      "66\n"
     ]
    }
   ],
   "source": [
    "a = [3,5,2,1,10,8,66,8]\n",
    "lst = [record(i,i) for i in a]\n",
    "insert_sort(lst)\n",
    "for j in lst:\n",
    "    print(j.key)"
   ]
  },
  {
   "cell_type": "markdown",
   "metadata": {},
   "source": [
    "其他：\n",
    "[ 对链表进行插入排序](https://leetcode-cn.com/problems/insertion-sort-list/submissions/)"
   ]
  },
  {
   "cell_type": "markdown",
   "metadata": {},
   "source": [
    "## 选择排序"
   ]
  },
  {
   "cell_type": "markdown",
   "metadata": {},
   "source": [
    "选择排序的基本思想：\n",
    "\n",
    "1. 维护所有数据中最小的i个已排序序列；\n",
    "\n",
    "2. 每次从剩余未排序部分中选取关键码最小的数据，将其放在已排序序列的后面，作为第i+1个已排序元素；\n",
    "\n",
    "3. 以空序列作为最开始的已排序序列，循环执行上述步骤，直到未排序部分里只剩下1个未排序元素时(它必然是最大元素)，直接将其放在已排序序列的最后。\n",
    "\n",
    "<img src='picture\\sort_2.png'>"
   ]
  },
  {
   "cell_type": "markdown",
   "metadata": {},
   "source": [
    "**直接选择排序**"
   ]
  },
  {
   "cell_type": "markdown",
   "metadata": {},
   "source": [
    "当找到最小数据时，如何腾出已排序部分后面的位置？一种比较直接的做法是：将已排序部分后面的元素和最小元素进行交换。交换时可能会破坏算法的稳定性。原因如下：\n",
    "\n",
    "1. 最小元素放在已排序部分后面，不会影响稳定性，因为最小元素肯定比之前的已排序部分都大；\n",
    "2. 已排序部分后面的元素放到最小元素原来的位置，可能会越过关键码相同的元素，这样在下次选取以该关键码为最小值的元素时，就会选择被越过的关键码相同的元素，这就导致了算法的不稳定性。\n",
    "\n",
    "如果想要保持稳定性，优化的方法在于：\n",
    "\n",
    "    类似上面的插入排序，先取出最小元素，然后对未排序元素到最小元素之间的部分顺序移动，再将最小元素放在已排序部分的后面。"
   ]
  },
  {
   "cell_type": "code",
   "execution_count": 45,
   "metadata": {
    "ExecuteTime": {
     "end_time": "2021-09-18T07:27:13.787279Z",
     "start_time": "2021-09-18T07:27:13.780276Z"
    }
   },
   "outputs": [],
   "source": [
    "class record:\n",
    "    def __init__(self,key,datum):\n",
    "        self.key=key \n",
    "        self.datum=datum\n",
    "        \n",
    "def select_sort(lst):   \n",
    "    for i in range(len(lst)-1):# 最后一个元素必然最大\n",
    "        min_index = i\n",
    "        for j in range(i+1,len(lst)):\n",
    "            if lst[j].key<lst[min_index].key:\n",
    "                min_index = j \n",
    "\n",
    "        if i != min_index:\n",
    "            lst[min_index],lst[i] = lst[i],lst[min_index]"
   ]
  },
  {
   "cell_type": "code",
   "execution_count": 46,
   "metadata": {
    "ExecuteTime": {
     "end_time": "2021-09-18T07:27:13.938922Z",
     "start_time": "2021-09-18T07:27:13.931956Z"
    }
   },
   "outputs": [
    {
     "name": "stdout",
     "output_type": "stream",
     "text": [
      "1\n",
      "2\n",
      "3\n",
      "5\n",
      "8\n",
      "8\n",
      "10\n",
      "66\n"
     ]
    }
   ],
   "source": [
    "a = [3,5,2,1,10,8,66,8]\n",
    "lst = [record(i,i) for i in a]\n",
    "select_sort(lst)\n",
    "for j in lst:\n",
    "    print(j.key)"
   ]
  },
  {
   "cell_type": "markdown",
   "metadata": {},
   "source": [
    "算法的空间复杂度是$O(1)$;\n",
    "\n",
    "元素比较的次数是固定的，是$n\\times (n-1)/2$；记录的次数取决于实际情况，在 0 到 $2\\times (n-1)$。综合可知，平均时间复杂度和最坏时间复杂度都是 $O(n^2)$。"
   ]
  },
  {
   "cell_type": "markdown",
   "metadata": {
    "run_control": {
     "marked": true
    }
   },
   "source": [
    "从时间复杂度也可以看出，直接选择排序算法的实际平均排序效率是低于插入排序算法，所以很少实际使用。"
   ]
  },
  {
   "cell_type": "markdown",
   "metadata": {},
   "source": [
    "**提高选择的效率**"
   ]
  },
  {
   "cell_type": "markdown",
   "metadata": {},
   "source": [
    "直接选择排序算法效率低的原因是，每个元素都要从头开始顺序比较，没有利用上一次排序时的“记忆”。优化的方法就是之前提到的原位排序算法(空间复杂度为常数)堆排序，做到了时间复杂度的理论最优值$O(n\\log n)$。但是堆排序算法没有稳定性和适应性。"
   ]
  },
  {
   "cell_type": "markdown",
   "metadata": {},
   "source": [
    "## 交换排序"
   ]
  },
  {
   "cell_type": "markdown",
   "metadata": {},
   "source": [
    "交换排序的基本思路是：一个序列如果没有完全排序，说明里面存在**逆序对**。交换发现的逆序对，就能更靠近良好排序序列；通过不断减少序列中的逆序，最终可以得到排序序列。采用不同的**确定逆序方法和交换逆序方法**，可以得到不同的**交换排序方法**。\n",
    "\n",
    "起泡排序便是其中一种。"
   ]
  },
  {
   "cell_type": "markdown",
   "metadata": {},
   "source": [
    "**起泡排序**"
   ]
  },
  {
   "cell_type": "markdown",
   "metadata": {},
   "source": [
    "起泡排序的步骤：\n",
    "\n",
    "1. 从序列的第一个数据下标开始，每个元素从左往右依次与相邻元素进行比较，如果发现是逆序，就交换；\n",
    "2. 反复进行上述步骤直到序列不存在逆序，即完全有序。\n",
    "\n",
    "示例如下：\n",
    "<img src='picture\\sort_3.png'>"
   ]
  },
  {
   "cell_type": "markdown",
   "metadata": {},
   "source": [
    "通过起泡排序的步骤，可知：\n",
    "\n",
    "1. 每一遍检查可以把一个最大元素交换到位，一些较大元素可以右移一段，可能移动很远；\n",
    "\n",
    "2. 从左到右比较，导致从右到左换位的小元素每次只左移一个单位，个别距离目标位置很远的元素，可能延误整个排序进度。\n",
    "\n",
    "3. 在每一遍检查的过程中，表的末端积累的是越来越多排好序的大元素；每次扫描，这段元素增加一个，经过n-1次扫描一定可以完成排序；\n",
    "\n",
    "4. 每做一遍扫描，扫描的范围可以缩短一项(末端的大元素)。"
   ]
  },
  {
   "cell_type": "code",
   "execution_count": 24,
   "metadata": {
    "ExecuteTime": {
     "end_time": "2021-09-18T08:43:56.438868Z",
     "start_time": "2021-09-18T08:43:56.429870Z"
    }
   },
   "outputs": [],
   "source": [
    "class record:\n",
    "    def __init__(self,key,datum):\n",
    "        self.key=key \n",
    "        self.datum=datum\n",
    "        \n",
    "def bubble_sort(lst):   \n",
    "    a = 0 \n",
    "    for i in range(len(lst)):\n",
    "        a += 1\n",
    "        for j in range(1,len(lst)-i):\n",
    "            if lst[j].key<lst[j-1].key:\n",
    "                lst[j],lst[j-1] = lst[j-1],lst[j]\n",
    "    print('循环次数',a)"
   ]
  },
  {
   "cell_type": "code",
   "execution_count": 25,
   "metadata": {
    "ExecuteTime": {
     "end_time": "2021-09-18T08:43:56.913907Z",
     "start_time": "2021-09-18T08:43:56.903906Z"
    }
   },
   "outputs": [
    {
     "name": "stdout",
     "output_type": "stream",
     "text": [
      "循环次数 8\n",
      "1\n",
      "2\n",
      "3\n",
      "5\n",
      "8\n",
      "8\n",
      "10\n",
      "66\n"
     ]
    }
   ],
   "source": [
    "a = [3,5,2,1,10,8,66,8]\n",
    "lst = [record(i,i) for i in a]\n",
    "bubble_sort(lst)\n",
    "for j in lst:\n",
    "    print(j.key)\n"
   ]
  },
  {
   "cell_type": "markdown",
   "metadata": {},
   "source": [
    "**算法的改进**\n",
    "\n",
    "只有在被排序表的最小元素在序列最末端，起泡排序才需要做满 n-1 遍。其他情况不需要这么多次，如果发现排序完成可以早点结束。"
   ]
  },
  {
   "cell_type": "code",
   "execution_count": 22,
   "metadata": {
    "ExecuteTime": {
     "end_time": "2021-09-18T08:43:14.807798Z",
     "start_time": "2021-09-18T08:43:14.801792Z"
    }
   },
   "outputs": [],
   "source": [
    "class record:\n",
    "    def __init__(self,key,datum):\n",
    "        self.key=key \n",
    "        self.datum=datum\n",
    "        \n",
    "def bubble_sort_v2(lst): \n",
    "    a = 0\n",
    "    for i in range(len(lst)):\n",
    "        a += 1 \n",
    "        found = False\n",
    "        for j in range(1,len(lst)-i):\n",
    "            if lst[j].key<lst[j-1].key:\n",
    "                lst[j],lst[j-1] = lst[j-1],lst[j]\n",
    "                found = True\n",
    "        if not found:\n",
    "            break  \n",
    "    print('循环次数',a)"
   ]
  },
  {
   "cell_type": "code",
   "execution_count": 23,
   "metadata": {
    "ExecuteTime": {
     "end_time": "2021-09-18T08:43:14.988905Z",
     "start_time": "2021-09-18T08:43:14.982901Z"
    }
   },
   "outputs": [
    {
     "name": "stdout",
     "output_type": "stream",
     "text": [
      "循环次数 4\n",
      "1\n",
      "2\n",
      "3\n",
      "5\n",
      "8\n",
      "8\n",
      "10\n",
      "66\n"
     ]
    }
   ],
   "source": [
    "a = [3,5,2,1,10,8,66,8]\n",
    "lst = [record(i,i) for i in a]\n",
    "bubble_sort_v2(lst)\n",
    "for j in lst:\n",
    "    print(j.key)"
   ]
  },
  {
   "cell_type": "markdown",
   "metadata": {},
   "source": [
    "这样做提高了效率，而且使得算法有了效率。"
   ]
  },
  {
   "cell_type": "markdown",
   "metadata": {},
   "source": [
    "起泡排序的时间复杂度：$O(n^2)$；空间复杂度：$O(1)$"
   ]
  },
  {
   "cell_type": "markdown",
   "metadata": {},
   "source": [
    "试验表明，起泡排序的实际效果劣于时间复杂度相同的插入排序，原因可能有二：\n",
    "\n",
    "1. 排序过程中的赋值操作比较多，累积起来代价比较大；\n",
    "\n",
    "2. 一些距离目标位置很远的小元素可能会拖累整个算法。\n",
    "\n",
    "改善第2点，可以通过下一节要介绍的快速排序；另一种是交错起泡，具体做法是一遍从左到右扫描，下一遍从右到左，交错进行。如下图所示：\n",
    "\n",
    "<img src='picture\\sort_4.png'>"
   ]
  },
  {
   "cell_type": "markdown",
   "metadata": {},
   "source": [
    "## 快速排序"
   ]
  },
  {
   "cell_type": "markdown",
   "metadata": {},
   "source": [
    "快速排序是一种著名的排序算法，作为最早的采用递归方式描述的一种优美算法，展示了递归描述形式的威力。在各种基于关键码排序的内排序算法中，快速排序是实践中平均速度最快的算法之一。\n",
    "\n",
    "快速排序实现中也采用了发现逆序和交换记录位置的的方法，但算法中最本质的思想是划分，即按某种标准把数据分为“大数据”和“小数据”，并通过递归不断划分，最终得到一个排序的序列。基本过程是：\n",
    "\n",
    "1. 选择一种标准，把被排序序列中的记录按照这种标准分成大小两组。从整体看，这两组之间的相对顺序已定，较小一组的记录应该排在前面；\n",
    "\n",
    "2. 采用1中的方式，递归地划分上述2组数据记录，并不断递归下去；\n",
    "\n",
    "3. 递归划分使得每个数据块越来越小，直到每个小组中仅包含一个元素时，划分结束。排序工作完成。"
   ]
  },
  {
   "cell_type": "markdown",
   "metadata": {},
   "source": [
    "快速排序有多种实现方法，下面主要介绍基于顺序表的实现。"
   ]
  },
  {
   "cell_type": "markdown",
   "metadata": {},
   "source": [
    "### 快速排序的表实现"
   ]
  },
  {
   "cell_type": "markdown",
   "metadata": {},
   "source": [
    "**划分标准和移动方式**\n",
    "\n",
    "顺序表里数据不同的划分标准和移动方式定义了不同的快速排序算法。\n",
    "\n",
    "* 移动方式：为了降低算法的空间复杂度，我们希望尽可能在原表内实现数据的移动。通过表内移动将数据分成两组，大的一组移动到表右边，小的一组移动到表左边，全部的递归完成时表中记录自然有序；\n",
    "\n",
    "\n",
    "* 划分标准：现在考虑最简单的划分方式，取序列中第一个元素作为划分序列的元素，以其关键码来划分记录，将小于关键码的放在表的左边，大于关键码的放在表的右边。划分完成后表内小数据和大数据两组之间会留下一个空位，这就是作为比较标准的元素的正确位置，随后的操作中不需要改变它。\n",
    "\n",
    "\n",
    "备注：\n",
    "\n",
    "    上述的划分标准有时候可以导致排序的低效。有人提出“三者取中”的原则：每次划分前比较分段中的第一个、最后一个、位置居中的三个元素的关键码，取关键码居中的元素和第一个元素交换位置，而后基于这个首位置的关键码进行划分。这种做法可以减小最坏情况出现的概率。"
   ]
  },
  {
   "cell_type": "markdown",
   "metadata": {},
   "source": [
    "**单次划分的实现**"
   ]
  },
  {
   "cell_type": "markdown",
   "metadata": {},
   "source": [
    "现在考虑一段记录，初始状态如 (a) 所示：\n",
    "\n",
    "   * 取出第一个元素 R，其关键码是 K，这时会留出一个空位。部分已经分好 $\\leq R$的小数据排在序列的左侧；$\\geq R$ 的大数据放在序列的右端。中间是未进行划分的数据。假设未划分部分序列的第一个和最后一个位置为 i (此时位置 i 存放的就是元素 R) 和 j。\n",
    "   \n",
    "1. 现在交替进行如下操作：\n",
    "\n",
    "    1. 如图 b所示，从 j 开始从右向左寻找第一个关键码小于 K 的数据(j 不断减小)，找到后将其存入 i 所指的空位。此时，j 对应位置为空，i 增加 1 指向下一个待检查的记录；\n",
    "\n",
    "    2. 如图 c 所示，从 i 开始从左向右寻找第一个关键码大于 K 的数据(i 不断增加)，找到后将其加入 上一轮结束时 j 所指的空位。此时，i对应位置为空， j 减小 1指向下一个待检查的记录；\n",
    "   \n",
    "   \n",
    "2. 重复交替进行上述两套操作，直到 i 不再小于 j 为止( 2个操作里 j 不断减小， i 不断增加)。\n",
    "\n",
    "\n",
    "3. 划分结束时 i和j相等，指向空位，将记录 R 存入空位。一次划分完成。"
   ]
  },
  {
   "cell_type": "markdown",
   "metadata": {},
   "source": [
    "<img src='picture\\sort_5.png'>"
   ]
  },
  {
   "cell_type": "markdown",
   "metadata": {},
   "source": [
    "划分完成后，对两边的子序列按上述的同样方式递归处理。由于要执行两个递归，快速排序算法的执行形成了一种二叉树形式的递归调用。"
   ]
  },
  {
   "cell_type": "markdown",
   "metadata": {},
   "source": [
    "### 程序实现"
   ]
  },
  {
   "cell_type": "code",
   "execution_count": 5,
   "metadata": {
    "ExecuteTime": {
     "end_time": "2021-09-26T08:42:24.518742Z",
     "start_time": "2021-09-26T08:42:24.505741Z"
    }
   },
   "outputs": [],
   "source": [
    "class record:\n",
    "    def __init__(self,key,datum):\n",
    "        self.key=key \n",
    "        self.datum=datum\n",
    "        \n",
    "def quick_sort(lst):\n",
    "    qsort_rec(lst,0,len(lst)-1)\n",
    "\n",
    "def qsort_rec(lst,l,r):\n",
    "    if l>=r:\n",
    "        return \n",
    "    i,j = l,r\n",
    "    R = lst[i]\n",
    "    while i<j:\n",
    "        while i<j and lst[j].key>=R.key:\n",
    "            j -= 1\n",
    "        if i<j:\n",
    "            lst[i] = lst[j]\n",
    "            i += 1 \n",
    "        while i<j and lst[i].key<=R.key:\n",
    "            i += 1 \n",
    "        if i<j:\n",
    "            lst[j] = lst[i]\n",
    "            j -= 1 \n",
    "    lst[i] = R \n",
    "    qsort_rec(lst,l,i-1)\n",
    "    qsort_rec(lst,i+1,r)"
   ]
  },
  {
   "cell_type": "code",
   "execution_count": 8,
   "metadata": {
    "ExecuteTime": {
     "end_time": "2021-09-26T08:44:04.305123Z",
     "start_time": "2021-09-26T08:44:04.298165Z"
    }
   },
   "outputs": [
    {
     "name": "stdout",
     "output_type": "stream",
     "text": [
      "1\n",
      "2\n",
      "3\n",
      "5\n",
      "8\n",
      "8\n",
      "10\n",
      "66\n",
      "100\n"
     ]
    }
   ],
   "source": [
    "a = [100,3,5,2,1,10,8,66,8]\n",
    "lst = [record(i,i) for i in a]\n",
    "quick_sort(lst)\n",
    "for j in lst:\n",
    "    print(j.key)"
   ]
  },
  {
   "cell_type": "markdown",
   "metadata": {},
   "source": [
    "**算法的复杂度**\n",
    "\n",
    "上述排序的时间复杂度：\n",
    "\n",
    "1. 当序列是完全逆序时，需要的时间复杂度是 $O(n^2)$；\n",
    "2. 平均时间复杂度是 $O(n\\log n)$。\n",
    "\n",
    "抽象看，快速排序产生的划分结构，可以看做以枢轴记录为根，以两个划分分段递归划分的结果作为左右子树的一棵搜索二叉树。\n",
    "\n",
    "空间复杂度：最坏是 $O(n^2)$,可以做到 $O(\\log n)$"
   ]
  },
  {
   "cell_type": "markdown",
   "metadata": {},
   "source": [
    "## 归并排序"
   ]
  },
  {
   "cell_type": "markdown",
   "metadata": {},
   "source": [
    "### 定义"
   ]
  },
  {
   "cell_type": "markdown",
   "metadata": {},
   "source": [
    "归并是一种典型的序列操作，把两个或者多个有序的序列合并在一起成为一个有序序列。基于归并的思想也可以实现排序，称为**归并排序**。基本方法如下：\n",
    "\n",
    "1. 初始时把 待排序序列的 n 个元素看成 n 个有序子序列，每个子序列长度均为1；\n",
    "2. 把当时序列组里的有序子序列两两归并，完成一遍后序列组里的排序子序列数量减半，每个子序列长度加倍；\n",
    "3. 对加长的子序列重复步骤2，最终得到一个长度为n的有序序列。\n",
    "\n",
    "\n",
    "这种归并排序成为**二路归并排序**，每次都是把2个有序子序列归并成1个。也可以考虑三路归并排序或者多路。"
   ]
  },
  {
   "cell_type": "markdown",
   "metadata": {},
   "source": [
    "一个例子如下：\n",
    "<img src='picture\\sort_6.png'>"
   ]
  },
  {
   "cell_type": "markdown",
   "metadata": {},
   "source": [
    "**归并排序的特点**\n",
    "\n",
    "归并排序是一种顺序性操作，很适合处理存在磁盘等外存的大量数据。"
   ]
  },
  {
   "cell_type": "markdown",
   "metadata": {},
   "source": [
    "### 算法实现"
   ]
  },
  {
   "cell_type": "markdown",
   "metadata": {},
   "source": [
    "**算法使用的空间**\n",
    "\n",
    "之前的算法会考虑原地存储的情况，归并排序要实现原地存储有点复杂，替代性解决方案就是开辟一个和原表同样大小的存储空间，将每次归并排序后的结果存储进去；\n",
    "\n",
    "一遍归并排序完成后，原来的表已经闲置为空了，可以将第二遍归并排序的结果再放回去，这样交替进行，最终可以实现归并排序。空间代价是 $O(n)$。"
   ]
  },
  {
   "cell_type": "markdown",
   "metadata": {},
   "source": [
    "**算法的实现**\n",
    "\n",
    "归并排序算法通过三层来实现(需要一个和原表大小相同的辅助表)：\n",
    "\n",
    "1. 最下层：实现表中相邻2个有序子序列的归并，将归并后的有序子序列存入另一个有序表的相同位置；\n",
    "\n",
    "2. 中间层：对序列里的这种成对子序列执行步骤1，对序列完成一次完整的归并；\n",
    "\n",
    "3. 最高层：在原表和辅助表之间交替进行上述操作，直到整个表里只有一个有序序列时排序完成。\n",
    "\n",
    "\n",
    "备注：一般情况下被处理的表里元素数量不是2的幂，所以要考虑表尾端不规则的情况。"
   ]
  },
  {
   "cell_type": "code",
   "execution_count": 14,
   "metadata": {
    "ExecuteTime": {
     "end_time": "2021-09-27T07:54:02.665516Z",
     "start_time": "2021-09-27T07:54:02.654513Z"
    },
    "run_control": {
     "marked": true
    }
   },
   "outputs": [],
   "source": [
    "class record:\n",
    "    def __init__(self,key,datum):\n",
    "        self.key=key \n",
    "        self.datum=datum\n",
    "        \n",
    "def merge_sort(lst):\n",
    "    sliceLen = 1\n",
    "    lstLen = len(lst)\n",
    "    templst = [None]*lstLen\n",
    "    while sliceLen<lstLen:\n",
    "        merge_pass(lst,templst,sliceLen,lstLen)\n",
    "        sliceLen*=2\n",
    "        merge_pass(templst,lst,sliceLen,lstLen) # 结果存回原位\n",
    "        sliceLen*=2\n",
    "        \n",
    "def merge_pass(lfrom,lto,sliceLen,lstLen):\n",
    "    i = 0 \n",
    "    while i + 2*sliceLen<lstLen: # 归并长度为 sliceLen 的2段序列\n",
    "        merge(lfrom,lto,i,i+sliceLen,i+2*sliceLen)\n",
    "        i += 2*sliceLen\n",
    "    if i + sliceLen < lstLen: # 归并2段有序序列，第二段序列长度小于 sliceLen\n",
    "        merge(lfrom,lto,i,i + sliceLen,lstLen)\n",
    "    else:\n",
    "        for j in range(i,lstLen): # 只剩下最后一个长度小于sliceLen的有序序列，复制到辅助表\n",
    "            lto[j] = lfrom[j]\n",
    "    \n",
    "def merge(lfrom,lto,low,mid,high):\n",
    "    i,j = low,mid # 开始的起点\n",
    "    k = low \n",
    "    \n",
    "    while i<mid and j<high:\n",
    "        if lfrom[i].key<=lfrom[j].key:       # 取较小的元素存入辅助表lto的相同位置\n",
    "            lto[k] = lfrom[i]\n",
    "            i += 1\n",
    "        else:\n",
    "            lto[k] = lfrom[j]\n",
    "            j += 1\n",
    "        k += 1 \n",
    "    while i<mid: # 复制序列1的剩余记录\n",
    "        lto[k] = lfrom[i]\n",
    "        i += 1\n",
    "        k += 1\n",
    "    while j<high: # 复制序列2的剩余记录\n",
    "        lto[k] = lfrom[j]\n",
    "        j += 1\n",
    "        k += 1"
   ]
  },
  {
   "cell_type": "code",
   "execution_count": 15,
   "metadata": {
    "ExecuteTime": {
     "end_time": "2021-09-27T07:54:02.845574Z",
     "start_time": "2021-09-27T07:54:02.837564Z"
    }
   },
   "outputs": [
    {
     "name": "stdout",
     "output_type": "stream",
     "text": [
      "1\n",
      "2\n",
      "3\n",
      "5\n",
      "8\n",
      "8\n",
      "10\n",
      "66\n",
      "99\n",
      "100\n"
     ]
    }
   ],
   "source": [
    "a = [100,3,99,5,2,1,10,8,66,8]\n",
    "lst = [record(i,i) for i in a]\n",
    "merge_sort(lst)\n",
    "for j in lst:\n",
    "    print(j.key)"
   ]
  },
  {
   "cell_type": "markdown",
   "metadata": {},
   "source": [
    "**算法复杂度分析**\n",
    "\n",
    "1. 时间复杂度：归并的次数不会多于 $\\log_2 n +1$，每次归并的比较次数为 $O(n)$，所以复杂度是 $O(n\\log_2 n)$;\n",
    "2. 空间复杂度：因为用了复制表，所以复杂度是 $O(n)$。"
   ]
  },
  {
   "cell_type": "markdown",
   "metadata": {},
   "source": [
    "**稳定性和适应性**\n",
    "\n",
    "算法具有稳定性，但不具有适应性，归并的次数是固定的，但也可以在比较前对归并的子序列进行前置判断来降低归并次数。"
   ]
  },
  {
   "cell_type": "markdown",
   "metadata": {},
   "source": [
    "# 其他排序方法"
   ]
  },
  {
   "cell_type": "markdown",
   "metadata": {},
   "source": [
    "## 分配排序和基数排序"
   ]
  },
  {
   "cell_type": "markdown",
   "metadata": {
    "ExecuteTime": {
     "end_time": "2021-09-29T03:42:59.963374Z",
     "start_time": "2021-09-29T03:42:59.942368Z"
    }
   },
   "source": [
    "前面介绍的是基于关键码的排序，本节介绍有关排序的另一种想法，它并不基于关键码比较，是基于一种固定位置的分配和收集。"
   ]
  },
  {
   "cell_type": "markdown",
   "metadata": {},
   "source": [
    "### 分配与排序"
   ]
  },
  {
   "cell_type": "markdown",
   "metadata": {},
   "source": [
    "如果关键码只有很少几个不同的值，存在一种简单直观的排序方法：\n",
    "\n",
    "1. 为每个关键码设定一个桶(即是可以容纳多个元素的的容器，例如用连续表或者链表);\n",
    "\n",
    "2. 排序时简单地根据关键码把数据放入相应桶中；\n",
    "\n",
    "3. 存入所有数据后，按照关键码顺序收集各个桶中的数据，就得到了排序序列。\n",
    "\n",
    "例如关键码取值整数0~9，只需要10个桶就可以完成排序。做一遍分配，做一遍收集。"
   ]
  },
  {
   "cell_type": "markdown",
   "metadata": {},
   "source": [
    "### 多轮分配和排序"
   ]
  },
  {
   "cell_type": "markdown",
   "metadata": {},
   "source": [
    "上述的分配排序是基于单个维度的关键码，同样的关键码个数对应桶的数量有限；我们可以通过多维的元组来扩充其能力。然后通过多轮分配(每一轮是一个维度)和收集，完成以这种元组为关键码的排序工作。\n",
    "\n",
    "抽象看，这种元组关键码类似于“字符串”。关键码元组的每个元素就是一个字符，关键码相当于字符串，自然序就是这种串的字典序。"
   ]
  },
  {
   "cell_type": "markdown",
   "metadata": {},
   "source": [
    "**一个例子**"
   ]
  },
  {
   "cell_type": "markdown",
   "metadata": {},
   "source": [
    "考虑以三元组 (a,a,a) 为关键码的序列，其中a的取值范围为 $\\{0,1,2,3\\}$。考虑下面待排序的关键码序列：\n",
    "<img src='picture\\sort_7.png'>"
   ]
  },
  {
   "cell_type": "markdown",
   "metadata": {},
   "source": [
    "因为关键码是固定长度的三元组，关键码中的每个元素取值也很少，可以用分配排序完成针对一个元组元素的排序，然后通过多轮分配排序和收集完成排序。具体有两种分配排序方法。"
   ]
  },
  {
   "cell_type": "markdown",
   "metadata": {},
   "source": [
    "1. 从最高位(左侧)开始考虑关键码的元素，称为 **高位优先方法**。\n",
    "\n",
    "    * 按这种方法处理一遍，得到下面的序列；\n",
    "    * 然后要对每个分桶，按照关键码的第二位置元素再进行第二轮分配排序，会出现子桶；\n",
    "    * 再对子序列的子序列再排序，最终可以实现整个序列的排序。比较麻烦的是，要考虑越来越多的子序列，要记录相关信息。\n",
    "<img src='picture\\sort_8.png'>\n"
   ]
  },
  {
   "cell_type": "markdown",
   "metadata": {},
   "source": [
    "2. 从最低位开始，称为 **低位优先方法**。\n",
    "\n",
    "    * 这时将数据按照关键码元组的最后一位的顺序收集，实现了关键码的分段有序，每一段集合里的元素是整体低于下一段的(意思是，如果前两位相等的情况下)。如下图左所示；\n",
    "    * 然后按照关键码元组的倒数第二位对关键码进行分配和收集，这时关键码元组按照后两位是递增分段有序的，如下图右所示；\n",
    "    * 我们最后再按照最高位进行一次分配和收集，就可以完成整体的排序。\n",
    "    \n",
    "    \n",
    "<img src='picture\\sort_9.png'>"
   ]
  },
  {
   "cell_type": "markdown",
   "metadata": {},
   "source": [
    "由上面的分析可知，采用最低位优先方法，更加规范和简单。下面考虑这种方法的实现。\n",
    "\n",
    "如果关键码的每位都是数字，上述关键码元组就像是按某种进制(以某个数为基数，比如10)表示的一个整数。排序过程就是从低位到高位逐步进行分配和收集的过程。处理过程就像按基数逐位处理，因此这种多轮分配排序也称为**基数排序**。"
   ]
  },
  {
   "cell_type": "markdown",
   "metadata": {},
   "source": [
    "**低位优先的算法实现**"
   ]
  },
  {
   "cell_type": "markdown",
   "metadata": {},
   "source": [
    "做2点约定：\n",
    "1. 关键码对应的元素存储在顺序表里，在python里是list;\n",
    "2. 第j个关键码元组 $k^j = (x_0^j,x_1^j,\\cdots,x_{d-1}^j)$的元素都是基于10进制的，取值范围是 ：0$\\leq x_i^j \\leq r-1,0\\leq i\\leq d-1$"
   ]
  },
  {
   "cell_type": "code",
   "execution_count": 65,
   "metadata": {
    "ExecuteTime": {
     "end_time": "2021-09-29T10:00:33.645174Z",
     "start_time": "2021-09-29T10:00:33.635180Z"
    }
   },
   "outputs": [],
   "source": [
    "def radix_sort(lst,d):\n",
    "    rlists = [[] for i in range(10)]\n",
    "    for m in range(-1,-d-1,-1):# m 倒序，意味着从低位开始排序\n",
    "        for j in range(len(lst)): # 固定m，按照第m个维度进行排序\n",
    "            rlists[lst[j][m]].append(lst[j])\n",
    "        j = 0 \n",
    "        for i in range(10):\n",
    "            tmp = rlists[i] # 第i个桶里的元素\n",
    "            for _ in range(len(tmp)): # 将桶tmp的元素依次放回到lst\n",
    "                lst[j] = tmp[_]\n",
    "                j += 1\n",
    "            rlists[i].clear() # 放回之后桶可以清空"
   ]
  },
  {
   "cell_type": "code",
   "execution_count": 66,
   "metadata": {
    "ExecuteTime": {
     "end_time": "2021-09-29T10:00:40.926195Z",
     "start_time": "2021-09-29T10:00:40.912196Z"
    }
   },
   "outputs": [
    {
     "data": {
      "text/plain": [
       "[(0, 2, 3), (2, 1, 0), (3, 2, 8), (3, 9, 2), (4, 2, 2), (5, 1, 3)]"
      ]
     },
     "execution_count": 66,
     "metadata": {},
     "output_type": "execute_result"
    }
   ],
   "source": [
    "lst=[(0,2,3),(3,9,2),(3,2,8),(5,1,3),(4,2,2),(2,1,0)]\n",
    "radix_sort(lst,3)\n",
    "lst"
   ]
  },
  {
   "cell_type": "markdown",
   "metadata": {},
   "source": [
    "算法的时间复杂度是 $O(d\\times (n+r))$；空间复杂度取决于clear的实现方法，如果clear是简单为表换一块空表存储区，复杂度是 $O(n)$,如果只是将表的长度置为 0,复杂度可能会达到 $O(m\\times n)$。"
   ]
  },
  {
   "cell_type": "markdown",
   "metadata": {},
   "source": [
    "## 一些与排序有关的问题"
   ]
  },
  {
   "cell_type": "markdown",
   "metadata": {},
   "source": [
    "**混成方法**"
   ]
  },
  {
   "cell_type": "markdown",
   "metadata": {},
   "source": [
    "除了上述我们提到的简单排序算法(插入排序、选择排序、交换排序)和复杂排序算法(快速排序、归并排序、堆排序)之外，还可以采用多种算法的结合，我们称为**混成方法**：\n",
    "\n",
    "1. 在快速排序中，序列被划分为越来越短的序列。对于短序列，采用简单插入排序的实际效果可能会好于快速排序；\n",
    "2. 对元素比较少的序列，比如长度为8的序列，可能采用插入排序会比归并排序效果更好。"
   ]
  },
  {
   "cell_type": "markdown",
   "metadata": {},
   "source": [
    "python中的排序函数 sort，就是一种混成式排序算法，称为Timsort,可以翻译为 **蒂姆排序**。\n",
    "\n",
    "蒂姆排序是基于归并排序的稳定排序算法。结合使用了归并排序和插入排序，最坏的时间复杂度是 $O(n\\log n)$,具有适应性；空间复杂度是 $O(n)$。试验表明，**蒂姆排序的平均性能好于快速排序，是目前实际表现最好的排序算法**。"
   ]
  },
  {
   "cell_type": "markdown",
   "metadata": {},
   "source": [
    "**稳定性问题**"
   ]
  },
  {
   "cell_type": "markdown",
   "metadata": {},
   "source": [
    "实际上任何一种算法，对于序列中的数据 $R_i$，关键码是 $k_i$，可以通过 $(k_i,i)$来扩展关键码，其中 i 是数据在序列中的下标。在 $k_i$相同时，可以比较下标。通过这种方式，序列中数据的关键码具有了唯一性。\n",
    "\n",
    "这种方法具有普适性。但是相应的代价是：需要扫描修改数据的关键码，排序时增加了比较的开销；另外也需要为每一个数据元素增加一个下标，空间开销是 $O(n)$。"
   ]
  },
  {
   "cell_type": "markdown",
   "metadata": {},
   "source": [
    "# 几种排序算法的比较"
   ]
  },
  {
   "cell_type": "markdown",
   "metadata": {},
   "source": [
    "<img src='picture\\sort_10.png'>"
   ]
  },
  {
   "cell_type": "markdown",
   "metadata": {},
   "source": [
    "1. 平均时间上看：\n",
    "\n",
    "    * 实践中快速排序非常快，但是最坏情况有 $O(n^2)$复杂度，不如归并排序；\n",
    "    * 序列长度n较大时归并排序通常比堆排序更快，但实际需要很大的辅助空间；\n",
    "    * 蒂姆排序在实际应用中处于最优地位，缺点是需要 $O(n)$ 的辅助空间。\n",
    "    \n",
    "2. 稳定性：\n",
    "\n",
    "    * 简单排序算法大多是稳定的，但大部分时间性能好的排序算法都不稳定，如快速排序、堆排序等。\n",
    "    * 一般来说，只做相邻记录关键码的比较和局部调整容易得到稳定性；\n",
    "    * 高效排序算法中，只有归并排序能很自然得到稳定性，蒂姆排序的最主要操作是归并排序，结合其他技术，得到了很好的效果；\n",
    "    * 稳定性是具体算法实现的性质，采用同一种排序算法，可以做出稳定实现和不稳定实现。"
   ]
  },
  {
   "cell_type": "markdown",
   "metadata": {},
   "source": [
    "下面是几种常见排序方法的汇总："
   ]
  },
  {
   "cell_type": "code",
   "execution_count": 75,
   "metadata": {},
   "outputs": [],
   "source": [
    "class record:\n",
    "    def __init__(self,key,datum):\n",
    "        self.key=key \n",
    "        self.datum=datum\n",
    "\n",
    "\n",
    "class Sort_collection():\n",
    "    def __init__(self,lst):\n",
    "        self.elems = list(lst)\n",
    "\n",
    "    def insert_sort(self):\n",
    "        # 插入排序\n",
    "        elems = list(self.elems)\n",
    "        for i in range(1,len(elems)):# 默认第一个元素是排好序的\n",
    "            x = elems[i]\n",
    "            j = i \n",
    "            while j>0 and elems[j-1].key>x.key:\n",
    "                elems[j] = elems[j-1]\n",
    "                j -= 1\n",
    "            elems[j] = x \n",
    "        return elems \n",
    "    \n",
    "    def insert_sort_dichotomy(self):\n",
    "        # 插入排序+二分查找\n",
    "        elems = list(self.elems)\n",
    "        for i in range(1,len(elems)):\n",
    "            x = elems[i]\n",
    "            left,right=0,i-1 \n",
    "            while left<=right:\n",
    "                mid = int((left+right)/2)\n",
    "                y = elems[mid]\n",
    "                if y.key<=x.key:\n",
    "                    left = mid + 1\n",
    "                else:\n",
    "                    right = mid - 1\n",
    "            # 最后的left即是插入位置\n",
    "            j = i-1  \n",
    "            while j>=left:\n",
    "                elems[j+1] = elems[j]\n",
    "                j -= 1\n",
    "            elems[left] = x \n",
    "        return elems   \n",
    "\n",
    "    def select_sort(self):\n",
    "        # 选择排序\n",
    "        elems = list(self.elems)\n",
    "        n = len(elems)\n",
    "        for i in range(n-1):#最后剩下的元素必然是最大元素\n",
    "            min_idx = i \n",
    "            for j in range(i+1,n):\n",
    "                if elems[j].key<elems[min_idx].key:\n",
    "                    min_idx = j \n",
    "\n",
    "            # 为了保证稳定性，两两交换位置进行挪动\n",
    "            k = min_idx-1\n",
    "            min_elem = elems[min_idx]\n",
    "            while k>=i: \n",
    "                elems[k+1] = elems[k]\n",
    "                k-=1\n",
    "            elems[i] = min_elem\n",
    "        return elems \n",
    "\n",
    "    def bubble_sort(self):\n",
    "        #选择排序之气泡排序\n",
    "        elems = list(self.elems)\n",
    "        n = len(elems)\n",
    "        for i in range(n):\n",
    "            p = False \n",
    "            for j in range(1,n-i):\n",
    "                if elems[j].key<elems[j-1].key:\n",
    "                    elems[j],elems[j-1] = elems[j-1],elems[j]\n",
    "                    p = True \n",
    "            if not p:\n",
    "                break \n",
    "        return elems  \n",
    "\n",
    "    def quick_sort(self):\n",
    "        # 快速排序\n",
    "        elems = list(self.elems)\n",
    "        self.qsort_rec(elems,0,len(elems)-1)\n",
    "        return elems \n",
    "\n",
    "    def qsort_rec(self,lst,l,r):\n",
    "        # 递归排序\n",
    "        if l>=r:\n",
    "            return\n",
    "        i,j = l,r \n",
    "        R = lst[i]\n",
    "        while i<j:\n",
    "            while i<j and lst[j].key>= R.key:\n",
    "                j -= 1\n",
    "            if i<j:\n",
    "                lst[i] = lst[j]\n",
    "                i += 1\n",
    "            while i<j and lst[i].key<=R.key:\n",
    "                i += 1\n",
    "            if i<j:\n",
    "                lst[j] = lst[i]\n",
    "                j -= 1\n",
    "        lst[i]  = R \n",
    "        self.qsort_rec(lst,l,i-1)\n",
    "        self.qsort_rec(lst,i+1,r)\n",
    "\n",
    "    def merge_sort(self):\n",
    "        # 归并排序\n",
    "        elems = list(self.elems)\n",
    "        sliceLen = 1 # 有序子序列的长度\n",
    "        n = len(elems)\n",
    "        temp = [None]*n  # 临时表\n",
    "        while sliceLen<n: # 当 sliceLen<n 时说明归并还没完成\n",
    "            # 排序2次是为了保证最终排序完成的数据回到elem \n",
    "            self.merge_pass(elems,temp,sliceLen,n)\n",
    "            sliceLen*=2\n",
    "            self.merge_pass(temp,elems,sliceLen,n)\n",
    "            sliceLen*=2\n",
    "        return elems \n",
    "\n",
    "    def merge_pass(self,lfrom,lto,sliceLen,n):\n",
    "        i = 0  \n",
    "        while i + 2*sliceLen<n:\n",
    "            self.merge_slices(lfrom,lto,i,i+sliceLen,i+2*sliceLen)\n",
    "            i+= 2*sliceLen\n",
    "        if  i + sliceLen<n:\n",
    "            self.merge_slices(lfrom,lto,i,i+sliceLen,n)\n",
    "            i += sliceLen\n",
    "        else:\n",
    "            for j in range(i,n): \n",
    "                lto[j] = lfrom[j]\n",
    "\n",
    "    def merge_slices(self,lfrom,lto,low,mid,high):\n",
    "        i,j = low,mid # 两段待归并序列的起点\n",
    "        k = low # 复制到lto序列的起点\n",
    "        while i<mid and j<high:\n",
    "            if lfrom[i].key<=lfrom[j].key:\n",
    "                lto[k] = lfrom[i]\n",
    "                i += 1\n",
    "            else:\n",
    "                lto[k] = lfrom[j]\n",
    "                j += 1\n",
    "            k += 1\n",
    "        while i<mid: # 将剩余的部分复制到临时表\n",
    "            lto[k] = lfrom[i]\n",
    "            i += 1\n",
    "            k += 1\n",
    "        while j<high: # 将剩余的部分复制到临时表\n",
    "            lto[k] = lfrom[j]\n",
    "            j += 1\n",
    "            k += 1\n",
    "\n",
    "    def heap_sort(self):\n",
    "        elems = list(self.elems)\n",
    "        def sift_down(lst,e,begin,end): # 大顶堆\n",
    "            i,j = begin,2*begin+1\n",
    "            while j<end:\n",
    "                if j+1<end and elems[j+1].key>elems[j].key:\n",
    "                    j += 1\n",
    "                if e.key>elems[j].key:\n",
    "                    break \n",
    "                elems[i] = elems[j]\n",
    "                i,j = j,2*j+1\n",
    "\n",
    "            elems[i] = e\n",
    "\n",
    "        end = len(elems)\n",
    "        for i in range(end//2,-1,-1): # 构建大顶堆\n",
    "            sift_down(elems,elems[i],i,end)\n",
    "\n",
    "        # 按照从小到大顺序输出\n",
    "        for j in range(end-1,0,-1):\n",
    "            e = elems[j]\n",
    "            elems[j] = elems[0]\n",
    "            sift_down(elems,e,0,j) # sift_down函数里的end是不作为下标的，只是一个停止判断符\n",
    "        return elems \n",
    "\n",
    "\n",
    "    def print(self,lst,sort_type=None):\n",
    "        res = [i.key for i in lst]\n",
    "        if sort_type:\n",
    "            print(sort_type + ':\\n',res)\n",
    "        else:\n",
    "            print(res)"
   ]
  },
  {
   "cell_type": "code",
   "execution_count": 76,
   "metadata": {},
   "outputs": [
    {
     "name": "stdout",
     "output_type": "stream",
     "text": [
      "插入排序:\n",
      " [2, 3, 5, 8, 8, 10, 66]\n",
      "二分法插入排序:\n",
      " [2, 3, 5, 8, 8, 10, 66]\n",
      "选择排序:\n",
      " [2, 3, 5, 8, 8, 10, 66]\n",
      "交换排序之气泡排序:\n",
      " [2, 3, 5, 8, 8, 10, 66]\n",
      "快速排序:\n",
      " [2, 3, 5, 8, 8, 10, 66]\n",
      "归并排序:\n",
      " [2, 3, 5, 8, 8, 10, 66]\n",
      "堆排序:\n",
      " [2, 3, 5, 8, 8, 10, 66]\n"
     ]
    }
   ],
   "source": [
    "a = [3,5,2,8,10,8,66]\n",
    "lst = [record(i,i) for i in a]\n",
    "t=Sort_collection(lst)\n",
    "insert_lst = t.insert_sort()\n",
    "t.print(insert_lst,sort_type='插入排序')\n",
    "insert_dich_lst = t.insert_sort_dichotomy()\n",
    "t.print(insert_dich_lst,sort_type='二分法插入排序')\n",
    "select_lst = t.select_sort()\n",
    "t.print(select_lst,sort_type='选择排序')\n",
    "bubble_lst = t.bubble_sort()\n",
    "t.print(bubble_lst,sort_type='交换排序之气泡排序')\n",
    "quick_lst = t.quick_sort()\n",
    "t.print(quick_lst,sort_type='快速排序')\n",
    "merge_lst = t.merge_sort()\n",
    "t.print(merge_lst,sort_type='归并排序')\n",
    "heap_lst = t.heap_sort()\n",
    "t.print(heap_lst,sort_type='堆排序')"
   ]
  },
  {
   "cell_type": "code",
   "execution_count": 2,
   "metadata": {},
   "outputs": [
    {
     "data": {
      "text/plain": [
       "1073741824"
      ]
     },
     "execution_count": 2,
     "metadata": {},
     "output_type": "execute_result"
    }
   ],
   "source": [
    "1024*1024*1024"
   ]
  },
  {
   "cell_type": "markdown",
   "metadata": {},
   "source": [
    "# 练习"
   ]
  },
  {
   "cell_type": "markdown",
   "metadata": {},
   "source": [
    "## [合并两个有序数组](https://leetcode-cn.com/problems/merge-sorted-array/)"
   ]
  },
  {
   "cell_type": "code",
   "execution_count": 29,
   "metadata": {
    "ExecuteTime": {
     "end_time": "2021-10-05T09:42:10.699841Z",
     "start_time": "2021-10-05T09:42:10.681837Z"
    }
   },
   "outputs": [],
   "source": [
    "class Solution:\n",
    "    def merge(self, nums1: list, m: int, nums2: list, n: int) -> None:\n",
    "        \"\"\"\n",
    "        Do not return anything, modify nums1 in-place instead.\n",
    "        \"\"\"\n",
    "        if m == 0:\n",
    "            nums1[:] = nums2[:]\n",
    "        else:\n",
    "            p,r = m,m \n",
    "            for j in nums2:\n",
    "                while p>0 and j<nums1[p-1]:\n",
    "                    nums1[p] = nums1[p-1]\n",
    "                    p -= 1\n",
    "                nums1[p] = j \n",
    "                r += 1\n",
    "                p = r"
   ]
  },
  {
   "cell_type": "code",
   "execution_count": 30,
   "metadata": {
    "ExecuteTime": {
     "end_time": "2021-10-05T09:42:10.842835Z",
     "start_time": "2021-10-05T09:42:10.834836Z"
    }
   },
   "outputs": [],
   "source": [
    "t=Solution()\n",
    "t.merge(nums1=[2,0], m=1, nums2=[1], n=1)"
   ]
  },
  {
   "cell_type": "markdown",
   "metadata": {},
   "source": [
    "## [多数元素](https://leetcode-cn.com/problems/majority-element/)"
   ]
  },
  {
   "cell_type": "code",
   "execution_count": 58,
   "metadata": {
    "ExecuteTime": {
     "end_time": "2021-10-05T10:41:33.780958Z",
     "start_time": "2021-10-05T10:41:33.763993Z"
    }
   },
   "outputs": [],
   "source": [
    "class Solution:\n",
    "    def majorityElement(self, nums: list) -> int:\n",
    "        if len(nums) == 1:\n",
    "            return nums[0]\n",
    "        i = 1 \n",
    "        while i<len(nums):\n",
    "            key = nums[i]\n",
    "            j = i\n",
    "            while j>=1 and nums[j-1]>key:\n",
    "                nums[j] = nums[j-1]\n",
    "                j -= 1\n",
    "            nums[j] = key \n",
    "            i += 1 \n",
    "        return nums[len(nums)//2]\n",
    "    \n",
    "    def majorityElement_v2(self, nums: list) -> int: # 摩尔投票法\n",
    "        cnt = 1\n",
    "        key = nums[0]\n",
    "        for i in nums[1:]:\n",
    "            if i == key:\n",
    "                cnt += 1\n",
    "            else:\n",
    "                cnt -= 1 \n",
    "            if cnt==0:\n",
    "                key = i\n",
    "                cnt = 1\n",
    "        return key    "
   ]
  },
  {
   "cell_type": "code",
   "execution_count": 59,
   "metadata": {
    "ExecuteTime": {
     "end_time": "2021-10-05T10:41:33.944976Z",
     "start_time": "2021-10-05T10:41:33.928954Z"
    }
   },
   "outputs": [
    {
     "data": {
      "text/plain": [
       "2"
      ]
     },
     "execution_count": 59,
     "metadata": {},
     "output_type": "execute_result"
    }
   ],
   "source": [
    "t=Solution()\n",
    "nums=[2,1,1,1,1,2,2]\n",
    "nums=[1,1,1,2]\n",
    "nums=[1,2,2,2]\n",
    "t.majorityElement_v2(nums=nums)"
   ]
  },
  {
   "cell_type": "markdown",
   "metadata": {},
   "source": [
    "## [存在重复元素](https://leetcode-cn.com/problems/contains-duplicate/submissions/)"
   ]
  },
  {
   "cell_type": "markdown",
   "metadata": {},
   "source": [
    "## [有效的字母异位词](https://leetcode-cn.com/problems/valid-anagram/)"
   ]
  },
  {
   "cell_type": "markdown",
   "metadata": {},
   "source": [
    "## [变位词组](https://leetcode-cn.com/problems/sfvd7V/)"
   ]
  },
  {
   "cell_type": "markdown",
   "metadata": {
    "ExecuteTime": {
     "end_time": "2021-10-05T11:57:23.935886Z",
     "start_time": "2021-10-05T11:57:23.925040Z"
    }
   },
   "source": [
    "## [丢失的数字](https://leetcode-cn.com/problems/missing-number/submissions/)"
   ]
  },
  {
   "cell_type": "markdown",
   "metadata": {},
   "source": [
    "## [ 两个数组的交集](https://leetcode-cn.com/problems/intersection-of-two-arrays/)"
   ]
  },
  {
   "cell_type": "markdown",
   "metadata": {},
   "source": [
    "## [找不同](https://leetcode-cn.com/problems/find-the-difference/)"
   ]
  },
  {
   "cell_type": "markdown",
   "metadata": {},
   "source": [
    "## [第三大的数](https://leetcode-cn.com/problems/third-maximum-number/)"
   ]
  },
  {
   "cell_type": "code",
   "execution_count": 89,
   "metadata": {
    "ExecuteTime": {
     "end_time": "2021-10-06T09:08:02.953754Z",
     "start_time": "2021-10-06T09:08:02.943318Z"
    }
   },
   "outputs": [],
   "source": [
    "class Solution:\n",
    "    def thirdMax(self, nums: list) -> int:# 三指针\n",
    "        a, b, c = float('-inf'), float('-inf'), float('-inf')\n",
    "        for num in nums:\n",
    "            if num > a:\n",
    "                a, b, c = num, a, b\n",
    "            elif a > num > b:\n",
    "                b, c = num, b\n",
    "            elif b > num > c:\n",
    "                c = num\n",
    "        return a if c == float('-inf') else c"
   ]
  },
  {
   "cell_type": "markdown",
   "metadata": {},
   "source": [
    "## [分发饼干](https://leetcode-cn.com/problems/assign-cookies/)"
   ]
  },
  {
   "cell_type": "markdown",
   "metadata": {},
   "source": [
    "## [相对名次](https://leetcode-cn.com/problems/relative-ranks/)"
   ]
  },
  {
   "cell_type": "markdown",
   "metadata": {},
   "source": [
    "## [数组拆分 I](https://leetcode-cn.com/problems/array-partition-i/)"
   ]
  },
  {
   "cell_type": "markdown",
   "metadata": {
    "ExecuteTime": {
     "end_time": "2021-10-06T11:00:33.351525Z",
     "start_time": "2021-10-06T11:00:33.327416Z"
    }
   },
   "source": [
    "## [*最长和谐子序列](https://leetcode-cn.com/problems/longest-harmonious-subsequence/)"
   ]
  },
  {
   "cell_type": "markdown",
   "metadata": {},
   "source": [
    "## [三个数的最大乘积](https://leetcode-cn.com/problems/maximum-product-of-three-numbers/)"
   ]
  },
  {
   "cell_type": "markdown",
   "metadata": {
    "ExecuteTime": {
     "end_time": "2021-10-08T02:52:44.833098Z",
     "start_time": "2021-10-08T02:52:44.810090Z"
    }
   },
   "source": [
    "## [*错误的集合](https://leetcode-cn.com/problems/set-mismatch/)"
   ]
  },
  {
   "cell_type": "markdown",
   "metadata": {
    "ExecuteTime": {
     "end_time": "2021-10-08T07:21:26.403757Z",
     "start_time": "2021-10-08T07:21:26.399755Z"
    }
   },
   "source": [
    "## [*词典中最长的单词](https://leetcode-cn.com/problems/longest-word-in-dictionary/)"
   ]
  },
  {
   "cell_type": "markdown",
   "metadata": {
    "ExecuteTime": {
     "end_time": "2021-10-08T09:24:46.868120Z",
     "start_time": "2021-10-08T09:24:46.863086Z"
    }
   },
   "source": [
    "## [至少是其他数字两倍的最大数](https://leetcode-cn.com/problems/largest-number-at-least-twice-of-others/)"
   ]
  },
  {
   "cell_type": "markdown",
   "metadata": {
    "ExecuteTime": {
     "end_time": "2021-10-08T10:30:45.653945Z",
     "start_time": "2021-10-08T10:30:45.649937Z"
    }
   },
   "source": [
    "## [公平的糖果棒交换](https://leetcode-cn.com/problems/fair-candy-swap/)"
   ]
  },
  {
   "cell_type": "markdown",
   "metadata": {
    "ExecuteTime": {
     "end_time": "2021-10-09T02:51:26.328914Z",
     "start_time": "2021-10-09T02:51:26.319915Z"
    }
   },
   "source": [
    "## [按奇偶排序数组](https://leetcode-cn.com/problems/sort-array-by-parity/)"
   ]
  },
  {
   "cell_type": "markdown",
   "metadata": {
    "ExecuteTime": {
     "end_time": "2021-10-09T02:51:19.808680Z",
     "start_time": "2021-10-09T02:51:19.803650Z"
    }
   },
   "source": [
    "## [按奇偶排序数组 II](https://leetcode-cn.com/problems/sort-array-by-parity-ii/)"
   ]
  },
  {
   "cell_type": "markdown",
   "metadata": {
    "ExecuteTime": {
     "end_time": "2021-10-09T06:08:13.760230Z",
     "start_time": "2021-10-09T06:08:13.755233Z"
    }
   },
   "source": [
    "## [三角形的最大周长](https://leetcode-cn.com/problems/largest-perimeter-triangle/)"
   ]
  },
  {
   "cell_type": "markdown",
   "metadata": {
    "ExecuteTime": {
     "end_time": "2021-10-09T06:42:47.068979Z",
     "start_time": "2021-10-09T06:42:47.061977Z"
    }
   },
   "source": [
    "## [*有序数组的平方](https://leetcode-cn.com/problems/squares-of-a-sorted-array/)"
   ]
  },
  {
   "cell_type": "markdown",
   "metadata": {},
   "source": [
    "## [K 次取反后最大化的数组和](https://leetcode-cn.com/problems/maximize-sum-of-array-after-k-negations/)"
   ]
  },
  {
   "cell_type": "markdown",
   "metadata": {
    "ExecuteTime": {
     "end_time": "2021-10-09T08:24:06.880589Z",
     "start_time": "2021-10-09T08:24:06.862589Z"
    }
   },
   "source": [
    "## [距离顺序排列矩阵单元格](https://leetcode-cn.com/problems/matrix-cells-in-distance-order/)"
   ]
  },
  {
   "cell_type": "markdown",
   "metadata": {},
   "source": [
    "## [高度检查器](https://leetcode-cn.com/problems/height-checker/)"
   ]
  },
  {
   "cell_type": "markdown",
   "metadata": {},
   "source": [
    "## [数组的相对排序](https://leetcode-cn.com/problems/relative-sort-array/)"
   ]
  },
  {
   "cell_type": "code",
   "execution_count": 282,
   "metadata": {
    "ExecuteTime": {
     "end_time": "2021-10-09T09:22:00.421828Z",
     "start_time": "2021-10-09T09:22:00.411829Z"
    }
   },
   "outputs": [],
   "source": [
    "class Solution:\n",
    "    def relativeSortArray(self, arr1: list, arr2: list) -> list:\n",
    "        def mycmp(x: int) -> (int, int):\n",
    "            return (0, rank[x]) if x in rank else (1, x)\n",
    "        \n",
    "        rank = {x: i for i, x in enumerate(arr2)}\n",
    "        arr1.sort(key=mycmp)\n",
    "        return arr1"
   ]
  },
  {
   "cell_type": "code",
   "execution_count": 283,
   "metadata": {
    "ExecuteTime": {
     "end_time": "2021-10-09T09:22:00.568829Z",
     "start_time": "2021-10-09T09:22:00.562829Z"
    }
   },
   "outputs": [
    {
     "data": {
      "text/plain": [
       "[22, 28, 8, 6, 17, 44]"
      ]
     },
     "execution_count": 283,
     "metadata": {},
     "output_type": "execute_result"
    }
   ],
   "source": [
    "arr1=[28,6,22,8,44,17]\n",
    "\n",
    "arr2=[22,28,8,6]\n",
    "t=Solution()\n",
    "t.relativeSortArray(arr1,arr2)"
   ]
  },
  {
   "cell_type": "markdown",
   "metadata": {},
   "source": [
    "## [最小绝对差](https://leetcode-cn.com/problems/minimum-absolute-difference/)"
   ]
  },
  {
   "cell_type": "markdown",
   "metadata": {},
   "source": [
    "## [数组序号转换](https://leetcode-cn.com/problems/rank-transform-of-an-array/)"
   ]
  },
  {
   "cell_type": "markdown",
   "metadata": {},
   "source": [
    "## [矩阵中战斗力最弱的 K 行](https://leetcode-cn.com/problems/the-k-weakest-rows-in-a-matrix/)"
   ]
  },
  {
   "cell_type": "markdown",
   "metadata": {
    "ExecuteTime": {
     "end_time": "2021-10-09T09:51:50.407341Z",
     "start_time": "2021-10-09T09:51:50.400341Z"
    }
   },
   "source": [
    "## [检查整数及其两倍数是否存在](https://leetcode-cn.com/problems/check-if-n-and-its-double-exist/)"
   ]
  },
  {
   "cell_type": "markdown",
   "metadata": {
    "ExecuteTime": {
     "end_time": "2021-10-10T14:59:11.638026Z",
     "start_time": "2021-10-10T14:59:11.631023Z"
    }
   },
   "source": [
    "## [根据数字二进制下 1 的数目排序](https://leetcode-cn.com/problems/sort-integers-by-the-number-of-1-bits/)"
   ]
  },
  {
   "cell_type": "markdown",
   "metadata": {},
   "source": [
    "## [有多少小于当前数字的数字](https://leetcode-cn.com/problems/how-many-numbers-are-smaller-than-the-current-number/)"
   ]
  },
  {
   "cell_type": "markdown",
   "metadata": {},
   "source": [
    "## [两个数组间的距离值](https://leetcode-cn.com/problems/find-the-distance-value-between-two-arrays/)"
   ]
  },
  {
   "cell_type": "code",
   "execution_count": 298,
   "metadata": {
    "ExecuteTime": {
     "end_time": "2021-10-11T09:22:10.692885Z",
     "start_time": "2021-10-11T09:22:10.669895Z"
    }
   },
   "outputs": [],
   "source": [
    "class Solution:\n",
    "    def findTheDistanceValue(self, arr1: list, arr2: list, d: int) -> int:\n",
    "        arr2.sort()\n",
    "        res = 0\n",
    "        for i in arr1:\n",
    "            j = 0 \n",
    "            find = False\n",
    "            while j<len(arr2):\n",
    "                dis = arr2[j] - i \n",
    "                if abs(dis)>d:\n",
    "                    if dis<0:\n",
    "                        j += 1\n",
    "                    else:\n",
    "                        find = True\n",
    "                        break \n",
    "                else:\n",
    "                    break\n",
    "            if find or j == len(arr2):\n",
    "                res += 1\n",
    "        return res \n",
    "\n"
   ]
  },
  {
   "cell_type": "markdown",
   "metadata": {
    "ExecuteTime": {
     "end_time": "2021-10-11T09:56:13.647871Z",
     "start_time": "2021-10-11T09:56:13.641872Z"
    }
   },
   "source": [
    "## [非递增顺序的最小子序列](https://leetcode-cn.com/problems/minimum-subsequence-in-non-increasing-order/)"
   ]
  },
  {
   "cell_type": "markdown",
   "metadata": {},
   "source": [
    "## [通过翻转子数组使两个数组相等](https://leetcode-cn.com/problems/make-two-arrays-equal-by-reversing-sub-arrays/)"
   ]
  },
  {
   "cell_type": "markdown",
   "metadata": {},
   "source": [
    "## [数组中两元素的最大乘积](https://leetcode-cn.com/problems/maximum-product-of-two-elements-in-an-array/)"
   ]
  },
  {
   "cell_type": "markdown",
   "metadata": {
    "ExecuteTime": {
     "end_time": "2021-10-11T11:02:55.319353Z",
     "start_time": "2021-10-11T11:02:55.314353Z"
    }
   },
   "source": [
    "## [去掉最低工资和最高工资后的工资平均值](https://leetcode-cn.com/problems/average-salary-excluding-the-minimum-and-maximum-salary/)"
   ]
  },
  {
   "cell_type": "markdown",
   "metadata": {
    "ExecuteTime": {
     "end_time": "2021-10-11T11:03:07.199775Z",
     "start_time": "2021-10-11T11:03:07.194776Z"
    }
   },
   "source": [
    "## [判断能否形成等差数列](https://leetcode-cn.com/problems/can-make-arithmetic-progression-from-sequence/)"
   ]
  },
  {
   "cell_type": "markdown",
   "metadata": {},
   "source": [
    "## [特殊数组的特征值](https://leetcode-cn.com/problems/special-array-with-x-elements-greater-than-or-equal-x/)"
   ]
  },
  {
   "cell_type": "markdown",
   "metadata": {
    "ExecuteTime": {
     "end_time": "2021-10-12T04:39:29.093632Z",
     "start_time": "2021-10-12T04:39:29.058634Z"
    }
   },
   "source": [
    "## [删除某些元素后的数组均值](https://leetcode-cn.com/problems/mean-of-array-after-removing-some-elements/)"
   ]
  },
  {
   "cell_type": "markdown",
   "metadata": {
    "ExecuteTime": {
     "end_time": "2021-10-12T04:39:43.336809Z",
     "start_time": "2021-10-12T04:39:43.317840Z"
    }
   },
   "source": [
    "## [ 按照频率将数组升序排序](https://leetcode-cn.com/problems/sort-array-by-increasing-frequency/)"
   ]
  },
  {
   "cell_type": "markdown",
   "metadata": {
    "ExecuteTime": {
     "end_time": "2021-10-12T04:40:21.717395Z",
     "start_time": "2021-10-12T04:40:21.707393Z"
    }
   },
   "source": [
    "## [卡车上的最大单元数](https://leetcode-cn.com/problems/maximum-units-on-a-truck/)"
   ]
  },
  {
   "cell_type": "markdown",
   "metadata": {
    "ExecuteTime": {
     "end_time": "2021-10-12T06:43:05.089641Z",
     "start_time": "2021-10-12T06:43:05.068641Z"
    }
   },
   "source": [
    "## [将句子排序](https://leetcode-cn.com/problems/sorting-the-sentence/)"
   ]
  },
  {
   "cell_type": "markdown",
   "metadata": {},
   "source": [
    "## [两个数对之间的最大乘积差](https://leetcode-cn.com/problems/maximum-product-difference-between-two-pairs/)"
   ]
  },
  {
   "cell_type": "markdown",
   "metadata": {
    "ExecuteTime": {
     "end_time": "2021-10-12T07:35:59.890812Z",
     "start_time": "2021-10-12T07:35:59.877806Z"
    }
   },
   "source": [
    "## [学生分数的最小差值](https://leetcode-cn.com/problems/minimum-difference-between-highest-and-lowest-of-k-scores/)"
   ]
  },
  {
   "cell_type": "markdown",
   "metadata": {},
   "source": [
    "## [*早餐组合](https://leetcode-cn.com/problems/2vYnGI/)"
   ]
  },
  {
   "cell_type": "code",
   "execution_count": 430,
   "metadata": {
    "ExecuteTime": {
     "end_time": "2021-10-12T09:38:47.953637Z",
     "start_time": "2021-10-12T09:38:47.947637Z"
    }
   },
   "outputs": [],
   "source": [
    "class Solution:\n",
    "    def breakfastNumber(self, staple: list, drinks: list, x: int) -> int:\n",
    "        staple.sort()\n",
    "        drinks.sort()\n",
    "        def dichotomy(lst,key):\n",
    "            i,j = 0,len(lst)\n",
    "            while i<j:\n",
    "                mid = (i+j)//2\n",
    "                if key<lst[mid]:\n",
    "                    j = mid\n",
    "                else:\n",
    "                    i = mid + 1\n",
    "            return i\n",
    "        max_food_i = dichotomy(staple,x-drinks[0])\n",
    "        res = 0\n",
    "        for food in staple[:max_food_i]:\n",
    "            drink_i = dichotomy(drinks,x-food)\n",
    "            res += drink_i\n",
    "        return res % 1000000007"
   ]
  },
  {
   "cell_type": "code",
   "execution_count": 431,
   "metadata": {
    "ExecuteTime": {
     "end_time": "2021-10-12T09:38:48.123013Z",
     "start_time": "2021-10-12T09:38:48.117013Z"
    }
   },
   "outputs": [
    {
     "data": {
      "text/plain": [
       "6"
      ]
     },
     "execution_count": 431,
     "metadata": {},
     "output_type": "execute_result"
    }
   ],
   "source": [
    "staple=[10,20,5]\n",
    "drinks=[5,5,2]\n",
    "x=15\n",
    "t = Solution()\n",
    "t.breakfastNumber(staple, drinks, x)"
   ]
  },
  {
   "cell_type": "markdown",
   "metadata": {
    "ExecuteTime": {
     "end_time": "2021-10-12T09:37:36.767858Z",
     "start_time": "2021-10-12T09:37:36.759854Z"
    }
   },
   "source": [
    "## [采购方案](https://leetcode-cn.com/problems/4xy4Wx/)"
   ]
  },
  {
   "cell_type": "markdown",
   "metadata": {
    "ExecuteTime": {
     "end_time": "2021-10-12T10:03:44.414245Z",
     "start_time": "2021-10-12T10:03:44.408243Z"
    }
   },
   "source": [
    "## [完成一半题目](https://leetcode-cn.com/problems/WqXACV/)"
   ]
  },
  {
   "cell_type": "markdown",
   "metadata": {},
   "source": [
    "## [数组中重复的数字](https://leetcode-cn.com/problems/shu-zu-zhong-zhong-fu-de-shu-zi-lcof/)"
   ]
  },
  {
   "cell_type": "markdown",
   "metadata": {
    "ExecuteTime": {
     "end_time": "2021-10-12T11:16:19.398470Z",
     "start_time": "2021-10-12T11:16:19.389436Z"
    }
   },
   "source": [
    "## [调整数组顺序使奇数位于偶数前面](https://leetcode-cn.com/problems/diao-zheng-shu-zu-shun-xu-shi-qi-shu-wei-yu-ou-shu-qian-mian-lcof/)"
   ]
  },
  {
   "cell_type": "markdown",
   "metadata": {
    "ExecuteTime": {
     "end_time": "2021-10-13T05:50:49.601160Z",
     "start_time": "2021-10-13T05:50:49.593164Z"
    }
   },
   "source": [
    "## [扑克牌中的顺子](https://leetcode-cn.com/problems/bu-ke-pai-zhong-de-shun-zi-lcof/)"
   ]
  },
  {
   "cell_type": "markdown",
   "metadata": {
    "ExecuteTime": {
     "end_time": "2021-10-13T05:50:50.980717Z",
     "start_time": "2021-10-13T05:50:50.965717Z"
    }
   },
   "source": [
    "## [三数之和](https://leetcode-cn.com/problems/3sum/)"
   ]
  },
  {
   "cell_type": "markdown",
   "metadata": {},
   "source": [
    "## [三数之和的多种可能](https://leetcode-cn.com/problems/3sum-with-multiplicity/)"
   ]
  },
  {
   "cell_type": "markdown",
   "metadata": {},
   "source": [
    "## [ 最接近的三数之和](https://leetcode-cn.com/problems/3sum-closest/)"
   ]
  },
  {
   "cell_type": "markdown",
   "metadata": {
    "ExecuteTime": {
     "end_time": "2021-10-14T03:39:54.467853Z",
     "start_time": "2021-10-14T03:39:54.449852Z"
    }
   },
   "source": [
    "## [四数之和](https://leetcode-cn.com/problems/4sum/)"
   ]
  },
  {
   "cell_type": "markdown",
   "metadata": {},
   "source": [
    "## [合并区间](https://leetcode-cn.com/problems/merge-intervals/)"
   ]
  },
  {
   "cell_type": "markdown",
   "metadata": {
    "ExecuteTime": {
     "end_time": "2021-10-14T07:17:21.656508Z",
     "start_time": "2021-10-14T07:17:21.651543Z"
    }
   },
   "source": [
    "## [颜色分类](https://leetcode-cn.com/problems/sort-colors/)"
   ]
  },
  {
   "cell_type": "markdown",
   "metadata": {
    "ExecuteTime": {
     "end_time": "2021-10-14T09:55:15.340596Z",
     "start_time": "2021-10-14T09:55:15.329606Z"
    }
   },
   "source": [
    "## [*排序链表](https://leetcode-cn.com/problems/sort-list/)"
   ]
  },
  {
   "cell_type": "markdown",
   "metadata": {
    "ExecuteTime": {
     "end_time": "2021-10-14T11:38:43.866263Z",
     "start_time": "2021-10-14T11:38:43.851264Z"
    }
   },
   "source": [
    "## [*最大数](https://leetcode-cn.com/problems/largest-number/)"
   ]
  },
  {
   "cell_type": "markdown",
   "metadata": {
    "ExecuteTime": {
     "end_time": "2021-10-15T09:29:27.256326Z",
     "start_time": "2021-10-15T09:29:27.246324Z"
    }
   },
   "source": [
    "## [*存在重复元素 III](https://leetcode-cn.com/problems/contains-duplicate-iii/)"
   ]
  },
  {
   "cell_type": "markdown",
   "metadata": {
    "ExecuteTime": {
     "end_time": "2021-10-18T03:52:34.095204Z",
     "start_time": "2021-10-18T03:52:34.084211Z"
    }
   },
   "source": [
    "## [摆动排序 II](https://leetcode-cn.com/problems/wiggle-sort-ii/)"
   ]
  },
  {
   "cell_type": "markdown",
   "metadata": {},
   "source": [
    "## [前 K 个高频元素](https://leetcode-cn.com/problems/top-k-frequent-elements/)"
   ]
  },
  {
   "cell_type": "markdown",
   "metadata": {
    "ExecuteTime": {
     "end_time": "2021-10-18T11:03:36.783080Z",
     "start_time": "2021-10-18T11:03:36.776077Z"
    }
   },
   "source": [
    "## [最大整除子集](https://leetcode-cn.com/problems/largest-divisible-subset/)"
   ]
  },
  {
   "cell_type": "markdown",
   "metadata": {
    "ExecuteTime": {
     "end_time": "2021-10-19T03:43:44.009454Z",
     "start_time": "2021-10-19T03:43:44.001493Z"
    }
   },
   "source": [
    "## [有序矩阵中第 K 小的元素](https://leetcode-cn.com/problems/kth-smallest-element-in-a-sorted-matrix/)"
   ]
  },
  {
   "cell_type": "markdown",
   "metadata": {},
   "source": [
    "## [根据身高重建队列](https://leetcode-cn.com/problems/queue-reconstruction-by-height/)"
   ]
  },
  {
   "cell_type": "markdown",
   "metadata": {},
   "source": [
    "## [无重叠区间](https://leetcode-cn.com/problems/non-overlapping-intervals/)"
   ]
  },
  {
   "cell_type": "markdown",
   "metadata": {},
   "source": [
    "## [寻找右区间](https://leetcode-cn.com/problems/find-right-interval/)"
   ]
  },
  {
   "cell_type": "markdown",
   "metadata": {
    "ExecuteTime": {
     "end_time": "2021-10-19T09:08:23.836560Z",
     "start_time": "2021-10-19T09:08:23.830560Z"
    }
   },
   "source": [
    "## [ 用最少数量的箭引爆气球](https://leetcode-cn.com/problems/minimum-number-of-arrows-to-burst-balloons/)"
   ]
  },
  {
   "cell_type": "markdown",
   "metadata": {
    "ExecuteTime": {
     "end_time": "2021-10-22T07:58:02.902970Z",
     "start_time": "2021-10-22T07:58:02.884914Z"
    }
   },
   "source": [
    "## [最少移动次数使数组元素相等 II](https://leetcode-cn.com/problems/minimum-moves-to-equal-array-elements-ii/)"
   ]
  },
  {
   "cell_type": "markdown",
   "metadata": {},
   "source": [
    "## [供暖器](https://leetcode-cn.com/problems/heaters/)"
   ]
  },
  {
   "cell_type": "markdown",
   "metadata": {},
   "source": [
    "## [通过删除字母匹配到字典里最长单词](https://leetcode-cn.com/problems/longest-word-in-dictionary-through-deleting/)"
   ]
  },
  {
   "cell_type": "markdown",
   "metadata": {
    "ExecuteTime": {
     "end_time": "2021-10-22T08:15:39.961507Z",
     "start_time": "2021-10-22T08:15:39.955508Z"
    }
   },
   "source": [
    "## [数组中的 k-diff 数对](https://leetcode-cn.com/problems/k-diff-pairs-in-an-array/)"
   ]
  },
  {
   "cell_type": "markdown",
   "metadata": {},
   "source": [
    "## [ 最短无序连续子数组](https://leetcode-cn.com/problems/shortest-unsorted-continuous-subarray/)"
   ]
  },
  {
   "cell_type": "markdown",
   "metadata": {},
   "source": [
    "## [部分排序](https://leetcode-cn.com/problems/sub-sort-lcci/submissions/)"
   ]
  },
  {
   "cell_type": "markdown",
   "metadata": {},
   "source": [
    "## [有效三角形的个数](https://leetcode-cn.com/problems/valid-triangle-number/)"
   ]
  },
  {
   "cell_type": "markdown",
   "metadata": {},
   "source": [
    "## [最长数对链](https://leetcode-cn.com/problems/maximum-length-of-pair-chain/)"
   ]
  },
  {
   "cell_type": "markdown",
   "metadata": {
    "ExecuteTime": {
     "end_time": "2021-10-26T08:13:02.271799Z",
     "start_time": "2021-10-26T08:13:02.265795Z"
    }
   },
   "source": [
    "## [找到 K 个最接近的元素](https://leetcode-cn.com/problems/find-k-closest-elements/)"
   ]
  },
  {
   "cell_type": "markdown",
   "metadata": {},
   "source": [
    "## [*重构字符串](https://leetcode-cn.com/problems/reorganize-string/)"
   ]
  },
  {
   "cell_type": "code",
   "execution_count": 71,
   "metadata": {
    "ExecuteTime": {
     "end_time": "2021-10-27T09:24:52.859629Z",
     "start_time": "2021-10-27T09:24:52.843579Z"
    }
   },
   "outputs": [],
   "source": [
    "class Solution:\n",
    "    def reorganizeString(self, s: str) -> str:\n",
    "        if len(s)<2:\n",
    "            return s \n",
    "        \n",
    "        # 统计次数\n",
    "        d = {}\n",
    "        for i in s:\n",
    "            d[i] = d.get(i,0) + 1\n",
    "        \n",
    "        #最大次数超过一半，返回''\n",
    "        lst = [(i,d[i]) for i in d]\n",
    "        lst.sort(key=lambda x:-x[1])\n",
    "        if lst[0][1]>(len(s)+1)//2:\n",
    "            return ''\n",
    "        \n",
    "        # 建大顶堆\n",
    "        def siftdown(lst,e,begin,end):\n",
    "            i,j = begin,2*begin+1\n",
    "            while j<end:\n",
    "                if j+1<end and lst[j+1][1]>lst[j][1]:\n",
    "                    j = j+1\n",
    "                if e[1]>=lst[j][1]:\n",
    "                    break\n",
    "                lst[i] = lst[j]\n",
    "                i,j = j,2*j+1\n",
    "            lst[i] = e\n",
    "        def siftup(lst,e,last):# 此处last 是最后一元素的位置\n",
    "            i,j = last,(last-1)//2\n",
    "            while j>=0 and lst[j][1]<e[1]:\n",
    "                lst[i] = lst[j]\n",
    "                i,j = j,(j-1)//2\n",
    "            lst[i] = e \n",
    "        \n",
    "        def build_big_heap(lst):  \n",
    "            end = len(lst)\n",
    "            for i in range(end//2,-1,-1):\n",
    "                siftdown(lst,lst[i],i,end)\n",
    "        \n",
    "        def dequeue(lst):\n",
    "            e0 = lst[0]\n",
    "            e = lst.pop()\n",
    "            if len(lst)>0:\n",
    "                siftdown(lst,e,0,len(lst))\n",
    "            return e0\n",
    "        def enqueue(lst,e):\n",
    "            lst.append(None)\n",
    "            siftup(lst,e,len(lst)-1)\n",
    "                    \n",
    "        build_big_heap(lst)\n",
    "        res_lst = []\n",
    "        while len(lst)>1:\n",
    "            i,i_cnt = dequeue(lst)\n",
    "            j,j_cnt = dequeue(lst)\n",
    "            res_lst.extend([i,j])\n",
    "            print(i,i_cnt,j,j_cnt,res_lst)\n",
    "            d[i] -= 1\n",
    "            d[j] -= 1\n",
    "            if d[i]>0:\n",
    "                enqueue(lst,(i,d[i]))\n",
    "                print(lst)\n",
    "            if d[j]>0:\n",
    "                enqueue(lst,(j,d[j]))\n",
    "        if lst:\n",
    "            res_lst.append(lst[0][0])\n",
    "        return ''.join(res_lst)       "
   ]
  },
  {
   "cell_type": "code",
   "execution_count": 72,
   "metadata": {
    "ExecuteTime": {
     "end_time": "2021-10-27T09:24:53.019580Z",
     "start_time": "2021-10-27T09:24:53.012576Z"
    }
   },
   "outputs": [
    {
     "name": "stdout",
     "output_type": "stream",
     "text": [
      "v 3 o 1 ['v', 'o']\n",
      "[('v', 2), ('l', 1)]\n",
      "v 2 l 1 ['v', 'o', 'v', 'l']\n",
      "[('v', 1)]\n"
     ]
    },
    {
     "data": {
      "text/plain": [
       "'vovlv'"
      ]
     },
     "execution_count": 72,
     "metadata": {},
     "output_type": "execute_result"
    }
   ],
   "source": [
    "t=Solution()\n",
    "t.reorganizeString(s=\"vvvlo\")"
   ]
  },
  {
   "cell_type": "markdown",
   "metadata": {},
   "source": [
    "## [距离相等的条形码](https://leetcode-cn.com/problems/distant-barcodes/)"
   ]
  },
  {
   "cell_type": "markdown",
   "metadata": {},
   "source": [
    "## [一手顺子](https://leetcode-cn.com/problems/hand-of-straights/)"
   ]
  },
  {
   "cell_type": "markdown",
   "metadata": {
    "ExecuteTime": {
     "end_time": "2021-10-29T08:26:23.882910Z",
     "start_time": "2021-10-29T08:26:23.875922Z"
    }
   },
   "source": [
    "## [全排列](https://leetcode-cn.com/problems/permutations/)"
   ]
  },
  {
   "cell_type": "markdown",
   "metadata": {
    "ExecuteTime": {
     "end_time": "2021-10-29T08:26:24.039900Z",
     "start_time": "2021-10-29T08:26:24.032877Z"
    }
   },
   "source": [
    "## [全排列 II](https://leetcode-cn.com/problems/permutations-ii/)"
   ]
  },
  {
   "cell_type": "markdown",
   "metadata": {
    "ExecuteTime": {
     "end_time": "2021-10-29T09:52:40.973022Z",
     "start_time": "2021-10-29T09:52:40.965020Z"
    }
   },
   "source": [
    "## [*重新排序得到 2 的幂](https://leetcode-cn.com/problems/reordered-power-of-2/)"
   ]
  },
  {
   "cell_type": "markdown",
   "metadata": {
    "ExecuteTime": {
     "end_time": "2021-10-29T09:52:41.118019Z",
     "start_time": "2021-10-29T09:52:41.111023Z"
    }
   },
   "source": [
    "## [优势洗牌](https://leetcode-cn.com/problems/advantage-shuffle/)"
   ]
  },
  {
   "cell_type": "markdown",
   "metadata": {},
   "source": [
    "## [救生艇](https://leetcode-cn.com/problems/boats-to-save-people/)"
   ]
  },
  {
   "cell_type": "markdown",
   "metadata": {},
   "source": [
    "## [最小差值 II](https://leetcode-cn.com/problems/smallest-range-ii/)"
   ]
  },
  {
   "cell_type": "markdown",
   "metadata": {},
   "source": [
    "## [*最小面积矩形](https://leetcode-cn.com/problems/minimum-area-rectangle/)"
   ]
  },
  {
   "cell_type": "code",
   "execution_count": 22,
   "metadata": {
    "ExecuteTime": {
     "end_time": "2021-11-03T12:57:34.799305Z",
     "start_time": "2021-11-03T12:57:34.789269Z"
    }
   },
   "outputs": [],
   "source": [
    "import collections\n",
    "class Solution(object):\n",
    "    def minAreaRect(self, points):\n",
    "        points.sort()\n",
    "        length_d = {}\n",
    "        len_lst = []\n",
    "        for x, y in points:\n",
    "            if x not in length_d:\n",
    "                length_d[x] = [y]\n",
    "                len_lst.append(x)\n",
    "            else:\n",
    "                length_d[x].append(y)\n",
    "\n",
    "        lastx = {}\n",
    "        ans = float('inf')\n",
    "        for len_right in len_lst:\n",
    "            width_lst = length_d[len_right]\n",
    "            for j in range(len(width_lst)):\n",
    "                wid_up = width_lst[j]\n",
    "                for i in range(0,j):\n",
    "                    wid_down = width_lst[i]\n",
    "                    if (wid_down, wid_up) in lastx:\n",
    "                        ans = min(ans, (len_right - lastx[(wid_down, wid_up)]) * (wid_up-wid_down))\n",
    "                    lastx[(wid_down, wid_up)] = len_right\n",
    "        return ans if ans < float('inf') else 0"
   ]
  },
  {
   "cell_type": "code",
   "execution_count": 23,
   "metadata": {
    "ExecuteTime": {
     "end_time": "2021-11-03T12:57:35.002263Z",
     "start_time": "2021-11-03T12:57:34.996268Z"
    }
   },
   "outputs": [
    {
     "data": {
      "text/plain": [
       "4"
      ]
     },
     "execution_count": 23,
     "metadata": {},
     "output_type": "execute_result"
    }
   ],
   "source": [
    "points=[[1,1],[1,3],[3,1],[3,3],[2,2]]\n",
    "t=Solution()\n",
    "t.minAreaRect(points)"
   ]
  },
  {
   "cell_type": "markdown",
   "metadata": {},
   "source": [
    "## [使数组唯一的最小增量](https://leetcode-cn.com/problems/minimum-increment-to-make-array-unique/)"
   ]
  },
  {
   "cell_type": "markdown",
   "metadata": {
    "ExecuteTime": {
     "end_time": "2021-11-03T13:55:54.668399Z",
     "start_time": "2021-11-03T13:55:54.661431Z"
    }
   },
   "source": [
    "## [令牌放置](https://leetcode-cn.com/problems/bag-of-tokens/)"
   ]
  },
  {
   "cell_type": "markdown",
   "metadata": {},
   "source": [
    "## [按递增顺序显示卡牌](https://leetcode-cn.com/problems/reveal-cards-in-increasing-order/)"
   ]
  },
  {
   "cell_type": "markdown",
   "metadata": {
    "ExecuteTime": {
     "end_time": "2021-11-09T03:36:13.827376Z",
     "start_time": "2021-11-09T03:36:13.818341Z"
    }
   },
   "source": [
    "## [二倍数对数组](https://leetcode-cn.com/problems/array-of-doubled-pairs/)"
   ]
  },
  {
   "cell_type": "markdown",
   "metadata": {
    "ExecuteTime": {
     "end_time": "2021-11-09T11:45:34.884838Z",
     "start_time": "2021-11-09T11:45:34.880841Z"
    }
   },
   "source": [
    "## [两地调度](https://leetcode-cn.com/problems/two-city-scheduling/)"
   ]
  },
  {
   "cell_type": "markdown",
   "metadata": {},
   "source": [
    "## [受标签影响的最大值](https://leetcode-cn.com/problems/largest-values-from-labels/)"
   ]
  },
  {
   "cell_type": "markdown",
   "metadata": {},
   "source": [
    "## [*拼车](https://leetcode-cn.com/problems/car-pooling/)"
   ]
  },
  {
   "cell_type": "code",
   "execution_count": 1,
   "metadata": {
    "ExecuteTime": {
     "end_time": "2021-11-10T09:06:43.637323Z",
     "start_time": "2021-11-10T09:06:43.621318Z"
    }
   },
   "outputs": [],
   "source": [
    "class Solution:\n",
    "    def carPooling(self, trips: list, capacity: int) -> bool:\n",
    "        f = [0 for _ in range(1002)]\n",
    "        for x,begin,end in trips:\n",
    "            f[begin] += x\n",
    "            f[end] -= x\n",
    "        \n",
    "        \n",
    "        p = 0 \n",
    "        for i in range(len(f)):\n",
    "            p += f[i]\n",
    "            if p>capacity:\n",
    "                return False\n",
    "        return True"
   ]
  },
  {
   "cell_type": "code",
   "execution_count": 11,
   "metadata": {
    "ExecuteTime": {
     "end_time": "2021-11-10T09:45:24.729137Z",
     "start_time": "2021-11-10T09:45:24.723135Z"
    }
   },
   "outputs": [],
   "source": [
    "class Solution:\n",
    "    def carPooling(self, trips: list, capacity: int) -> bool:\n",
    "        import heapq\n",
    "        trips.sort(key = lambda x:x[1])\n",
    "        count = 0\n",
    "        heap_lst = []\n",
    "        heapq.heapify(heap_lst)\n",
    "        for p,begin,end in trips:\n",
    "            while heap_lst and begin>=heap_lst[0][0]:\n",
    "                _,passenger_num  = heapq.heappop(heap_lst)\n",
    "                count -= passenger_num\n",
    "            count += p \n",
    "            if count>capacity:\n",
    "                return False \n",
    "            heapq.heappush(heap_lst,[end,p])\n",
    "        return True"
   ]
  },
  {
   "cell_type": "code",
   "execution_count": 12,
   "metadata": {
    "ExecuteTime": {
     "end_time": "2021-11-10T09:45:24.890097Z",
     "start_time": "2021-11-10T09:45:24.883102Z"
    }
   },
   "outputs": [
    {
     "data": {
      "text/plain": [
       "True"
      ]
     },
     "execution_count": 12,
     "metadata": {},
     "output_type": "execute_result"
    }
   ],
   "source": [
    "t=Solution()\n",
    "trips = [[3,2,7],[3,7,9],[8,3,9]]\n",
    "capacity = 11\n",
    "t.carPooling(trips, capacity)"
   ]
  },
  {
   "cell_type": "markdown",
   "metadata": {},
   "source": [
    "## [所有排列中的最大和](https://leetcode-cn.com/problems/maximum-sum-obtained-of-any-permutation/)"
   ]
  },
  {
   "cell_type": "markdown",
   "metadata": {},
   "source": [
    "## [删除被覆盖区间](https://leetcode-cn.com/problems/remove-covered-intervals/)"
   ]
  },
  {
   "cell_type": "markdown",
   "metadata": {
    "ExecuteTime": {
     "end_time": "2021-11-11T04:30:52.944074Z",
     "start_time": "2021-11-11T04:30:52.935077Z"
    }
   },
   "source": [
    "## [转变数组后最接近目标值的数组和](https://leetcode-cn.com/problems/sum-of-mutated-array-closest-to-target/)"
   ]
  },
  {
   "cell_type": "markdown",
   "metadata": {},
   "source": [
    "## [两棵二叉搜索树中的所有元素](https://leetcode-cn.com/problems/all-elements-in-two-binary-search-trees/)"
   ]
  },
  {
   "cell_type": "markdown",
   "metadata": {},
   "source": [
    "## [获取你好友已观看的视频](https://leetcode-cn.com/problems/get-watched-videos-by-your-friends/)"
   ]
  },
  {
   "cell_type": "markdown",
   "metadata": {
    "ExecuteTime": {
     "end_time": "2021-11-14T09:29:14.615590Z",
     "start_time": "2021-11-14T09:29:14.592428Z"
    }
   },
   "source": [
    "## [*将矩阵按对角线排序](https://leetcode-cn.com/problems/sort-the-matrix-diagonally/)"
   ]
  },
  {
   "cell_type": "markdown",
   "metadata": {
    "ExecuteTime": {
     "end_time": "2021-11-15T08:10:12.611309Z",
     "start_time": "2021-11-15T08:10:12.607314Z"
    }
   },
   "source": [
    "## [对角线遍历 II](https://leetcode-cn.com/problems/diagonal-traverse-ii/)"
   ]
  },
  {
   "cell_type": "markdown",
   "metadata": {},
   "source": [
    "## [数组大小减半](https://leetcode-cn.com/problems/reduce-array-size-to-the-half/)"
   ]
  },
  {
   "cell_type": "markdown",
   "metadata": {
    "ExecuteTime": {
     "end_time": "2021-11-14T10:18:14.788801Z",
     "start_time": "2021-11-14T10:18:14.777623Z"
    }
   },
   "source": [
    "## [通过投票对团队排名](https://leetcode-cn.com/problems/rank-teams-by-votes/)"
   ]
  },
  {
   "cell_type": "markdown",
   "metadata": {
    "ExecuteTime": {
     "end_time": "2021-11-14T10:51:16.946185Z",
     "start_time": "2021-11-14T10:51:16.936175Z"
    }
   },
   "source": [
    "## [将整数按权重排序](https://leetcode-cn.com/problems/sort-integers-by-the-power-value/)"
   ]
  },
  {
   "cell_type": "markdown",
   "metadata": {},
   "source": [
    "## [点菜展示表](https://leetcode-cn.com/problems/display-table-of-food-orders-in-a-restaurant/)"
   ]
  },
  {
   "cell_type": "markdown",
   "metadata": {
    "ExecuteTime": {
     "end_time": "2021-11-15T08:48:11.329079Z",
     "start_time": "2021-11-15T08:48:11.318083Z"
    }
   },
   "source": [
    "## [检查一个字符串是否可以打破另一个字符串](https://leetcode-cn.com/problems/check-if-a-string-can-break-another-string/)\n"
   ]
  },
  {
   "cell_type": "markdown",
   "metadata": {
    "ExecuteTime": {
     "end_time": "2021-11-15T11:31:39.315642Z",
     "start_time": "2021-11-15T11:31:39.300764Z"
    }
   },
   "source": [
    "## [重新排列句子中的单词](https://leetcode-cn.com/problems/rearrange-words-in-a-sentence/)"
   ]
  },
  {
   "cell_type": "markdown",
   "metadata": {
    "ExecuteTime": {
     "end_time": "2021-11-15T11:57:44.643239Z",
     "start_time": "2021-11-15T11:57:44.633239Z"
    }
   },
   "source": [
    "## [切割后面积最大的蛋糕](https://leetcode-cn.com/problems/maximum-area-of-a-piece-of-cake-after-horizontal-and-vertical-cuts/)"
   ]
  },
  {
   "cell_type": "markdown",
   "metadata": {
    "ExecuteTime": {
     "end_time": "2021-11-15T11:59:20.442914Z",
     "start_time": "2021-11-15T11:59:20.432993Z"
    }
   },
   "source": [
    "## [数组中的 k 个最强值](https://leetcode-cn.com/problems/the-k-strongest-values-in-an-array/)"
   ]
  },
  {
   "cell_type": "markdown",
   "metadata": {
    "ExecuteTime": {
     "end_time": "2021-11-15T11:58:25.394030Z",
     "start_time": "2021-11-15T11:58:25.383969Z"
    }
   },
   "source": [
    "## [同整数的最少数目](https://leetcode-cn.com/problems/least-number-of-unique-integers-after-k-removals/)"
   ]
  },
  {
   "cell_type": "markdown",
   "metadata": {},
   "source": [
    "## [满足条件的子序列数目](https://leetcode-cn.com/problems/number-of-subsequences-that-satisfy-the-given-sum-condition/)"
   ]
  },
  {
   "cell_type": "markdown",
   "metadata": {
    "ExecuteTime": {
     "end_time": "2021-11-17T08:45:08.913392Z",
     "start_time": "2021-11-17T08:45:08.905384Z"
    }
   },
   "source": [
    "## [子数组和排序后的区间和](https://leetcode-cn.com/problems/range-sum-of-sorted-subarray-sums/)"
   ]
  },
  {
   "cell_type": "markdown",
   "metadata": {
    "ExecuteTime": {
     "end_time": "2021-11-17T08:44:47.021804Z",
     "start_time": "2021-11-17T08:44:47.016808Z"
    }
   },
   "source": [
    "## [*三次操作后最大值与最小值的最小差](https://leetcode-cn.com/problems/minimum-difference-between-largest-and-smallest-value-in-three-moves/)"
   ]
  },
  {
   "cell_type": "markdown",
   "metadata": {},
   "source": [
    "## [*两球之间的磁力](https://leetcode-cn.com/problems/magnetic-force-between-two-balls/)"
   ]
  },
  {
   "cell_type": "markdown",
   "metadata": {},
   "source": [
    "思路参考：https://www.acwing.com/solution/content/33988/"
   ]
  },
  {
   "cell_type": "code",
   "execution_count": 45,
   "metadata": {
    "ExecuteTime": {
     "end_time": "2021-11-18T04:20:28.393025Z",
     "start_time": "2021-11-18T04:20:28.375021Z"
    }
   },
   "outputs": [],
   "source": [
    "class Solution:\n",
    "    def maxDistance(self, position: list, m: int) -> int:\n",
    "        def check(x: int) -> bool:\n",
    "            pre = position[0]\n",
    "            cnt = 1\n",
    "            for i in range(1, len(position)):\n",
    "                if position[i] - pre >= x:\n",
    "                    pre = position[i]\n",
    "                    cnt += 1\n",
    "            return cnt >= m\n",
    "\n",
    "        position.sort()\n",
    "        left, right, ans = 1, position[-1] - position[0], -1 # 此处left，right表示距离\n",
    "        while left <= right:\n",
    "            print(left,right)\n",
    "            mid = (left + right) // 2\n",
    "            if check(mid):\n",
    "                ans = mid\n",
    "                left = mid + 1\n",
    "            else:\n",
    "                right = mid - 1\n",
    "            print(ans,left,right)\n",
    "        \n",
    "        return ans"
   ]
  },
  {
   "cell_type": "code",
   "execution_count": 46,
   "metadata": {
    "ExecuteTime": {
     "end_time": "2021-11-18T04:21:57.436536Z",
     "start_time": "2021-11-18T04:21:57.426533Z"
    }
   },
   "outputs": [
    {
     "name": "stdout",
     "output_type": "stream",
     "text": [
      "1 6\n",
      "3 4 6\n",
      "4 6\n",
      "3 4 4\n",
      "4 4\n",
      "3 4 3\n"
     ]
    },
    {
     "data": {
      "text/plain": [
       "3"
      ]
     },
     "execution_count": 46,
     "metadata": {},
     "output_type": "execute_result"
    }
   ],
   "source": [
    "t=Solution()\n",
    "position=[1,2,3,4,7]\n",
    "m=3\n",
    "t.maxDistance(position, m)"
   ]
  },
  {
   "cell_type": "markdown",
   "metadata": {},
   "source": [
    "## [ 你可以获得的最大硬币数目](https://leetcode-cn.com/problems/maximum-number-of-coins-you-can-get/)"
   ]
  },
  {
   "cell_type": "markdown",
   "metadata": {
    "ExecuteTime": {
     "end_time": "2021-11-18T10:49:16.490326Z",
     "start_time": "2021-11-18T10:49:16.479324Z"
    }
   },
   "source": [
    "## [警告一小时内使用相同员工卡大于等于三次的人](https://leetcode-cn.com/problems/alert-using-same-key-card-three-or-more-times-in-a-one-hour-period/)"
   ]
  },
  {
   "cell_type": "markdown",
   "metadata": {
    "ExecuteTime": {
     "end_time": "2021-11-19T02:21:47.598668Z",
     "start_time": "2021-11-19T02:21:47.590665Z"
    },
    "run_control": {
     "marked": true
    }
   },
   "source": [
    "## [*无矛盾的最佳球队](https://leetcode-cn.com/problems/best-team-with-no-conflicts/)"
   ]
  },
  {
   "cell_type": "markdown",
   "metadata": {},
   "source": [
    "## [*马戏团人塔](https://leetcode-cn.com/problems/circus-tower-lcci/)"
   ]
  },
  {
   "cell_type": "markdown",
   "metadata": {},
   "source": [
    "[思路](https://leetcode-cn.com/problems/circus-tower-lcci/solution/python3-he-354ti-e-luo-si-tao-wa-yi-yang-an-height/)"
   ]
  },
  {
   "cell_type": "markdown",
   "metadata": {},
   "source": [
    "## [等差子数组](https://leetcode-cn.com/problems/arithmetic-subarrays/)"
   ]
  },
  {
   "cell_type": "markdown",
   "metadata": {
    "ExecuteTime": {
     "end_time": "2021-11-19T06:50:19.870835Z",
     "start_time": "2021-11-19T06:50:19.845838Z"
    }
   },
   "source": [
    "## [字符频次唯一的最小删除次数](https://leetcode-cn.com/problems/minimum-deletions-to-make-character-frequencies-unique/)"
   ]
  },
  {
   "cell_type": "markdown",
   "metadata": {
    "ExecuteTime": {
     "end_time": "2021-11-19T09:55:12.929142Z",
     "start_time": "2021-11-19T09:55:12.911136Z"
    }
   },
   "source": [
    "## [*销售价值减少的颜色球](https://leetcode-cn.com/problems/sell-diminishing-valued-colored-balls/)"
   ]
  },
  {
   "cell_type": "markdown",
   "metadata": {},
   "source": [
    "思路：https://leetcode-cn.com/problems/sell-diminishing-valued-colored-balls/solution/pai-xu-by-ykousbi-ji/"
   ]
  },
  {
   "cell_type": "markdown",
   "metadata": {},
   "source": [
    "## [ 确定两个字符串是否接近](https://leetcode-cn.com/problems/determine-if-two-strings-are-close/)"
   ]
  },
  {
   "cell_type": "markdown",
   "metadata": {},
   "source": [
    "## [K 和数对的最大数目](https://leetcode-cn.com/problems/max-number-of-k-sum-pairs/)"
   ]
  },
  {
   "cell_type": "markdown",
   "metadata": {
    "ExecuteTime": {
     "end_time": "2021-11-22T09:52:21.584792Z",
     "start_time": "2021-11-22T09:52:21.578786Z"
    }
   },
   "source": [
    "## [*石子游戏 VI](https://leetcode-cn.com/problems/stone-game-vi/)"
   ]
  },
  {
   "cell_type": "markdown",
   "metadata": {
    "ExecuteTime": {
     "end_time": "2021-11-22T09:52:23.608908Z",
     "start_time": "2021-11-22T09:52:23.604916Z"
    }
   },
   "source": [
    "## [*重新排列后的最大子矩阵](https://leetcode-cn.com/problems/largest-submatrix-with-rearrangements/)"
   ]
  },
  {
   "cell_type": "markdown",
   "metadata": {
    "ExecuteTime": {
     "end_time": "2021-11-22T09:44:58.024346Z",
     "start_time": "2021-11-22T09:44:58.018371Z"
    }
   },
   "source": [
    "[思路](https://leetcode-cn.com/problems/largest-submatrix-with-rearrangements/solution/zhong-xin-pai-lie-hou-zui-da-zi-ju-zhen-tv7pd/)"
   ]
  },
  {
   "cell_type": "markdown",
   "metadata": {
    "ExecuteTime": {
     "end_time": "2021-11-22T12:26:18.215481Z",
     "start_time": "2021-11-22T12:26:18.203483Z"
    }
   },
   "source": [
    "## [*绝对差值和](https://leetcode-cn.com/problems/minimum-absolute-sum-difference/)"
   ]
  },
  {
   "cell_type": "markdown",
   "metadata": {
    "ExecuteTime": {
     "end_time": "2021-11-30T08:41:53.234157Z",
     "start_time": "2021-11-30T08:41:53.214161Z"
    }
   },
   "source": [
    "## [*单线程 CPU](https://leetcode-cn.com/problems/single-threaded-cpu/submissions/)"
   ]
  },
  {
   "cell_type": "markdown",
   "metadata": {
    "ExecuteTime": {
     "end_time": "2021-12-08T06:15:32.031112Z",
     "start_time": "2021-12-08T06:15:32.021122Z"
    }
   },
   "source": [
    "## [矩阵中最大的三个菱形和](https://leetcode-cn.com/problems/get-biggest-three-rhombus-sums-in-a-grid/)"
   ]
  },
  {
   "cell_type": "markdown",
   "metadata": {},
   "source": [
    "## [使数组元素相等的减少操作次数](https://leetcode-cn.com/problems/reduction-operations-to-make-the-array-elements-equal/)"
   ]
  },
  {
   "cell_type": "markdown",
   "metadata": {},
   "source": [
    "## [*消灭怪物的最大数量](https://leetcode-cn.com/problems/eliminate-maximum-number-of-monsters/)"
   ]
  },
  {
   "cell_type": "markdown",
   "metadata": {},
   "source": [
    "## [构造元素不等于两相邻元素平均值的数组](https://leetcode-cn.com/problems/array-with-elements-not-equal-to-average-of-neighbors/)"
   ]
  },
  {
   "cell_type": "markdown",
   "metadata": {},
   "source": [
    "## [*游戏中弱角色的数量(dsp)](https://leetcode-cn.com/problems/the-number-of-weak-characters-in-the-game/)"
   ]
  },
  {
   "cell_type": "markdown",
   "metadata": {
    "ExecuteTime": {
     "end_time": "2021-12-08T11:12:35.133592Z",
     "start_time": "2021-12-08T11:12:35.101587Z"
    }
   },
   "source": [
    "## [从双倍数组中还原原数组](https://leetcode-cn.com/problems/find-original-array-from-doubled-array/)"
   ]
  },
  {
   "cell_type": "markdown",
   "metadata": {
    "ExecuteTime": {
     "end_time": "2021-12-09T06:08:41.161530Z",
     "start_time": "2021-12-09T06:08:41.157494Z"
    }
   },
   "source": [
    "## [出租车的最大盈利(dsp)](https://leetcode-cn.com/problems/maximum-earnings-from-taxi/)"
   ]
  },
  {
   "cell_type": "markdown",
   "metadata": {
    "ExecuteTime": {
     "end_time": "2021-12-13T07:47:08.957583Z",
     "start_time": "2021-12-13T07:47:08.952581Z"
    }
   },
   "source": [
    "## [*两个最好的不重叠活动](https://leetcode-cn.com/problems/two-best-non-overlapping-events/)"
   ]
  },
  {
   "cell_type": "markdown",
   "metadata": {},
   "source": [
    "[思路](https://leetcode-cn.com/problems/two-best-non-overlapping-events/solution/shuo-ren-hua-you-xian-dui-lie-zen-yao-zu-li90/)"
   ]
  },
  {
   "cell_type": "markdown",
   "metadata": {},
   "source": [
    "## [每一个查询的最大美丽值](https://leetcode-cn.com/problems/most-beautiful-item-for-each-query/)"
   ]
  },
  {
   "cell_type": "markdown",
   "metadata": {
    "ExecuteTime": {
     "end_time": "2021-12-13T09:12:27.233161Z",
     "start_time": "2021-12-13T09:12:27.213161Z"
    }
   },
   "source": [
    "## [*把数组排成最小的数](https://leetcode-cn.com/problems/ba-shu-zu-pai-cheng-zui-xiao-de-shu-lcof/)"
   ]
  },
  {
   "cell_type": "markdown",
   "metadata": {
    "ExecuteTime": {
     "end_time": "2021-12-13T09:25:48.329705Z",
     "start_time": "2021-12-13T09:25:48.319709Z"
    }
   },
   "source": [
    "## [最小时间差](https://leetcode-cn.com/problems/minimum-time-difference/)"
   ]
  },
  {
   "cell_type": "markdown",
   "metadata": {
    "ExecuteTime": {
     "end_time": "2021-12-14T07:57:32.222553Z",
     "start_time": "2021-12-14T07:57:32.215555Z"
    }
   },
   "source": [
    "## [*剧情触发时间](https://leetcode-cn.com/problems/ju-qing-hong-fa-shi-jian/)"
   ]
  }
 ],
 "metadata": {
  "kernelspec": {
   "display_name": "Python 3 (ipykernel)",
   "language": "python",
   "name": "python3"
  },
  "language_info": {
   "codemirror_mode": {
    "name": "ipython",
    "version": 3
   },
   "file_extension": ".py",
   "mimetype": "text/x-python",
   "name": "python",
   "nbconvert_exporter": "python",
   "pygments_lexer": "ipython3",
   "version": "3.10.1"
  },
  "toc": {
   "base_numbering": 1,
   "nav_menu": {},
   "number_sections": true,
   "sideBar": true,
   "skip_h1_title": false,
   "title_cell": "Table of Contents",
   "title_sidebar": "Contents",
   "toc_cell": false,
   "toc_position": {
    "height": "calc(100% - 180px)",
    "left": "10px",
    "top": "150px",
    "width": "247px"
   },
   "toc_section_display": true,
   "toc_window_display": true
  }
 },
 "nbformat": 4,
 "nbformat_minor": 2
}
