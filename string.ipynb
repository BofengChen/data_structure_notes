{
 "cells": [
  {
   "cell_type": "markdown",
   "metadata": {},
   "source": [
    "# 字符串的定义"
   ]
  },
  {
   "cell_type": "markdown",
   "metadata": {},
   "source": [
    "* 字符集：有穷的一组字符构成的带有序关系的集合；\n",
    "* 字符串：就是字符集里有限个元素的排列，可以看做一类特殊的线性表。"
   ]
  },
  {
   "cell_type": "markdown",
   "metadata": {},
   "source": [
    "# 字符串的相关概念"
   ]
  },
  {
   "cell_type": "markdown",
   "metadata": {},
   "source": [
    "1. 字符串的长度：字符串中字符的个数，空字符串的长度为0。下面用 |s|表示字符串s的长度；\n",
    "\n",
    "2. 字符在字符串的位置：字符串中字符顺序排列，从0开始计数，每个字符都有其确定位置或下标；\n",
    "\n",
    "3. 字符串相等：两个字符串长度相等且相应位置的字符相等；\n",
    "\n",
    "4. 字典序：字符串之间的一种序关系，简单说就是从左到右开始第一个不相等的字符决定了2个字符串的大小；如果都一致，则长度较短的字符串相对小；\n",
    "\n",
    "5. 字符串拼接：s1 + s2\n",
    "\n",
    "6. 子串关系： 称字符串 s1 是字符串 s2 的子串，如果满足： $s_2 = s + s_1 + s^{*}$;即 s1 和 s2 中的一个连续片段一致；\n",
    "    * 空字符串和本身都是字符串的子串；\n",
    "    * 子串可以多次出现，且下标可能会重叠，如 babb 相对于 babbabbbbabb.\n",
    "    \n",
    "7. 前缀和后缀：\n",
    "    * 前缀： $s_2 = s_1 + s^{*}$;\n",
    "    * 后缀： $s_2 = s^{*} + s_1$;\n",
    "   \n",
    "8. 串替换： 将字符串中明确下标范围的一段子串进行替换"
   ]
  },
  {
   "cell_type": "markdown",
   "metadata": {},
   "source": [
    "# 字符串匹配"
   ]
  },
  {
   "cell_type": "markdown",
   "metadata": {},
   "source": [
    "假设有两个字符串：\n",
    "    $$t=t_1t_2t_3\\dots t_{n-1}$$\n",
    "    $$p=p_1p_2p_3\\dots p_{m-1}$$\n",
    "字符串匹配就是在字符串t中查找和p相同字符串的过程，下面称t为**目标串**，p为**模式串**，一般情况下 m<<n."
   ]
  },
  {
   "cell_type": "markdown",
   "metadata": {},
   "source": [
    "字符串比较的基础是字符比较。\n",
    "\n",
    "* 如果从字符i开始，目标串的每一个字符都和模式串里的字符一致，则找到了一个匹配的模式串；\n",
    "\n",
    "* 如果比较过程中，遇到了一对不同的字符，说明目标串里从字符i开始的子串和模式串不匹配。串匹配算法的关键在两点：\n",
    "    1. 怎样选择开始比较的字符对；\n",
    "    2. 遇到不匹配的字符对时下一步怎么办\n",
    "    \n",
    "    对这两点的不同处理策略，形成了不同的字符串匹配算法。下面介绍朴素匹配算法和KMP匹配算法。"
   ]
  },
  {
   "cell_type": "markdown",
   "metadata": {},
   "source": [
    "## 朴素匹配算法"
   ]
  },
  {
   "cell_type": "markdown",
   "metadata": {},
   "source": [
    "最简单的朴素匹配算法，对以上2点的处理策略是：\n",
    "1. 从左往右依次比较；\n",
    "2. 发现不匹配，从**当初开始比较位置的下一位置**重新开始匹配"
   ]
  },
  {
   "cell_type": "code",
   "execution_count": 9,
   "metadata": {
    "ExecuteTime": {
     "end_time": "2021-03-10T13:41:03.766793Z",
     "start_time": "2021-03-10T13:41:03.753792Z"
    }
   },
   "outputs": [],
   "source": [
    "# 只匹配1次\n",
    "def naive_matching(t,p):\n",
    "    m,n = len(p),len(t)\n",
    "    i,j = 0,0\n",
    "    \n",
    "    while i<m and j<n:\n",
    "        if p[i] == t[j]: \n",
    "            i,j = i+1, j+1 # 字符匹配就一起前进 \n",
    "        else:\n",
    "            i,j = 0, j-(i-1) #如果不匹配，模式串从0开始，目标串从上次比较位置的下一个位置开始 j -(i-1)\n",
    "    if i == m:\n",
    "        return j-i\n",
    "    else:\n",
    "        return -1"
   ]
  },
  {
   "cell_type": "code",
   "execution_count": 10,
   "metadata": {
    "ExecuteTime": {
     "end_time": "2021-03-10T13:41:03.989750Z",
     "start_time": "2021-03-10T13:41:03.978875Z"
    }
   },
   "outputs": [
    {
     "data": {
      "text/plain": [
       "7"
      ]
     },
     "execution_count": 10,
     "metadata": {},
     "output_type": "execute_result"
    }
   ],
   "source": [
    "naive_matching(t='assmddmsmcd',p='smc')"
   ]
  },
  {
   "cell_type": "markdown",
   "metadata": {},
   "source": [
    "上面的朴素匹配算法效率很低，原因在于当发现不匹配时，模式串和目标串都要进行回溯。算法的复杂度是：$O(m\\times n)$。最糟糕的案例是：\n",
    "1. t = '00000000000000000000001'\n",
    "2. p = '001'\n",
    "\n",
    "效率低的原因在于：\n",
    "1. 把每次的字符匹配当成完全独立的操作，没有利用字符是有穷的特点，把字符当做随机出现的量；\n",
    "\n",
    "2. 也没有利用前面匹配过程中的有效信息。\n",
    "\n",
    "其他改进的算法都是在这个基础上利用字符的特点进行优化的。"
   ]
  },
  {
   "cell_type": "markdown",
   "metadata": {},
   "source": [
    "## KMP算法(无回溯串匹配算法)"
   ]
  },
  {
   "cell_type": "markdown",
   "metadata": {},
   "source": [
    "介绍参考：\n",
    "1. http://www.ruanyifeng.com/blog/2013/05/Knuth%E2%80%93Morris%E2%80%93Pratt_algorithm.html\n",
    "2. https://www.pythonf.cn/read/107379"
   ]
  },
  {
   "cell_type": "code",
   "execution_count": 119,
   "metadata": {
    "ExecuteTime": {
     "end_time": "2021-03-17T02:54:26.358976Z",
     "start_time": "2021-03-17T02:54:26.347975Z"
    }
   },
   "outputs": [],
   "source": [
    "def pmt_table(s_str):\n",
    "    # s模式串\n",
    "    m,s,pmt = 0,-1,[-1]*len(s_str)\n",
    "\n",
    "    while m<len(s_str)-1:\n",
    "        if s == -1 or s_str[m] == s_str[s]:\n",
    "            m += 1\n",
    "            s += 1\n",
    "            pmt[m] = s \n",
    "        else:\n",
    "            s = pmt[s]\n",
    "    return pmt\n",
    "\n",
    "\n",
    "def kmp(m,s):\n",
    "    # m主串，s模式串\n",
    "    i,j = 0,0 \n",
    "    pmt = pmt_table(s)\n",
    "    while i<len(m) and j<len(s):\n",
    "        # 模式串循环结束，匹配成功；否则失败\n",
    "        if m[i] == s[j] or j== -1:\n",
    "            i,j = i+1,j+1\n",
    "        else:\n",
    "            j = pmt[j]\n",
    "    if j == len(s):\n",
    "        return i-j\n",
    "    return -1"
   ]
  },
  {
   "cell_type": "code",
   "execution_count": 120,
   "metadata": {
    "ExecuteTime": {
     "end_time": "2021-03-17T02:54:26.582023Z",
     "start_time": "2021-03-17T02:54:26.578022Z"
    }
   },
   "outputs": [
    {
     "data": {
      "text/plain": [
       "4"
      ]
     },
     "execution_count": 120,
     "metadata": {},
     "output_type": "execute_result"
    }
   ],
   "source": [
    "kmp('ababababc','ababc')"
   ]
  },
  {
   "cell_type": "markdown",
   "metadata": {},
   "source": [
    "kmp算法的复杂度是：$O(m + n)$"
   ]
  },
  {
   "cell_type": "markdown",
   "metadata": {},
   "source": [
    "# 字符串练习"
   ]
  },
  {
   "cell_type": "markdown",
   "metadata": {},
   "source": [
    "## [罗马数字转整数](https://leetcode-cn.com/problems/roman-to-integer/submissions/)"
   ]
  },
  {
   "cell_type": "code",
   "execution_count": 11,
   "metadata": {
    "ExecuteTime": {
     "end_time": "2021-03-16T11:51:51.767356Z",
     "start_time": "2021-03-16T11:51:51.760390Z"
    }
   },
   "outputs": [],
   "source": [
    "class Solution:\n",
    "    def romanToInt(self, s: str) -> int:\n",
    "        map_dict={'I':1,'V':5,'X':10,'L':50,'C':100,'D':500,'M':1000,'IV':4,'IX':9,'XL':40,'XC':90,'CD':400,'CM':900}\n",
    "        ten_binary = 0\n",
    "        i = 0\n",
    "        while i < len(s):\n",
    "            char = s[i]\n",
    "            slice_char = s[i:(i+2)]  \n",
    "            if slice_char in map_dict:\n",
    "                ten_binary += map_dict[slice_char]\n",
    "                i += 2\n",
    "            else:\n",
    "                ten_binary += map_dict[char]\n",
    "                i += 1\n",
    "        return ten_binary"
   ]
  },
  {
   "cell_type": "code",
   "execution_count": 12,
   "metadata": {
    "ExecuteTime": {
     "end_time": "2021-03-16T11:51:52.094966Z",
     "start_time": "2021-03-16T11:51:52.087960Z"
    }
   },
   "outputs": [
    {
     "data": {
      "text/plain": [
       "9"
      ]
     },
     "execution_count": 12,
     "metadata": {},
     "output_type": "execute_result"
    }
   ],
   "source": [
    "s=\"IX\"\n",
    "a=Solution()\n",
    "a.romanToInt(s)"
   ]
  },
  {
   "cell_type": "markdown",
   "metadata": {},
   "source": [
    "## [最长公共前缀](https://leetcode-cn.com/problems/longest-common-prefix/submissions/)"
   ]
  },
  {
   "cell_type": "code",
   "execution_count": 39,
   "metadata": {
    "ExecuteTime": {
     "end_time": "2021-03-16T12:50:32.030566Z",
     "start_time": "2021-03-16T12:50:31.999328Z"
    }
   },
   "outputs": [],
   "source": [
    "class Solution:\n",
    "    def longestCommonPrefix(self, strs: list) -> str:\n",
    "        if len(strs) == 0:\n",
    "            return ''\n",
    "        prefix,count = strs[0],len(strs)\n",
    "        \n",
    "        for i in range(1,count):\n",
    "            prefix = self.twolcp(prefix,strs[i])\n",
    "            if prefix == '':\n",
    "                break \n",
    "        return prefix\n",
    "        \n",
    "        \n",
    "    def twolcp(self,str1,str2):\n",
    "        length,index = min(len(str1),len(str2)),0\n",
    "        \n",
    "        while index<length and str1[index] == str2[index]:\n",
    "            index +=1\n",
    "        return str1[:index]\n",
    "    \n",
    "    def longestCommonPrefix_v2(self, strs: list) -> str:\n",
    "        if len(strs) == 0:\n",
    "            return ''\n",
    "        if len(strs) == 1:\n",
    "            return strs[0]\n",
    "        \n",
    "        s1,strs_1,common_prefix = strs[0],strs[1:],''\n",
    "        \n",
    "        bool_v = 1\n",
    "        for i in range(len(s1)):\n",
    "            s = s1[i]\n",
    "            for j in strs_1:\n",
    "                if len(j)<i+1 or s!=j[i]:\n",
    "                    bool_v = 0\n",
    "                    break \n",
    "            \n",
    "            if bool_v:\n",
    "                common_prefix += s1[i]\n",
    "            else:\n",
    "                break\n",
    "        return common_prefix"
   ]
  },
  {
   "cell_type": "code",
   "execution_count": 38,
   "metadata": {
    "ExecuteTime": {
     "end_time": "2021-03-16T12:49:13.790993Z",
     "start_time": "2021-03-16T12:49:13.777981Z"
    }
   },
   "outputs": [
    {
     "data": {
      "text/plain": [
       "'fl'"
      ]
     },
     "execution_count": 38,
     "metadata": {},
     "output_type": "execute_result"
    }
   ],
   "source": [
    "strs = [\"flower\",\"flow\",\"flight\"]\n",
    "# strs=['aa','a']\n",
    "a=Solution()\n",
    "a.longestCommonPrefix(strs)\n"
   ]
  },
  {
   "cell_type": "markdown",
   "metadata": {},
   "source": [
    "## [有效的括号](https://leetcode-cn.com/problems/valid-parentheses/submissions/)"
   ]
  },
  {
   "cell_type": "code",
   "execution_count": 78,
   "metadata": {
    "ExecuteTime": {
     "end_time": "2021-03-16T13:33:57.149936Z",
     "start_time": "2021-03-16T13:33:57.130933Z"
    }
   },
   "outputs": [],
   "source": [
    "class Solution:\n",
    "    def isValid(self, s: str) -> bool:\n",
    "        if len(s)%2 == 1:\n",
    "            return False\n",
    "        \n",
    "        maps = {')':'(',\"}\":\"{\",\"]\":\"[\"}\n",
    "        left_l = []\n",
    "        for i in s:\n",
    "            if i in maps:\n",
    "                if not left_l or left_l[-1] != maps[i]:\n",
    "                    return False\n",
    "                left_l.pop()\n",
    "            else:\n",
    "                left_l.append(i)\n",
    "   \n",
    "        return len(left_l) == 0\n",
    "            \n",
    "                \n",
    "        \n",
    "    def isValid_v2(self, s: str) -> bool:\n",
    "        if len(s)%2 == 1:\n",
    "            return False\n",
    "        \n",
    "        maps = {'(':1,')':-1,'{':2,'}':-2,'[':3,']':-3}\n",
    "        map_lst = [maps[i] for i in s]\n",
    "        left_l = []\n",
    "        for i in map_lst:\n",
    "            #入栈\n",
    "            if i>0:\n",
    "                left_l.append(i)\n",
    "            else:\n",
    "                if len(left_l) == 0:\n",
    "                    return False\n",
    "                elif i + left_l[-1] != 0:\n",
    "                    return False\n",
    "                else:\n",
    "                    left_l.pop(-1)\n",
    "        if len(left_l) == 0:\n",
    "            return True\n",
    "        else:\n",
    "            return False\n",
    "                "
   ]
  },
  {
   "cell_type": "code",
   "execution_count": 79,
   "metadata": {
    "ExecuteTime": {
     "end_time": "2021-03-16T13:33:57.421460Z",
     "start_time": "2021-03-16T13:33:57.411486Z"
    },
    "run_control": {
     "marked": true
    }
   },
   "outputs": [
    {
     "data": {
      "text/plain": [
       "True"
      ]
     },
     "execution_count": 79,
     "metadata": {},
     "output_type": "execute_result"
    }
   ],
   "source": [
    "s=\"{}{{[]}}\"\n",
    "a=Solution()\n",
    "a.isValid(s)"
   ]
  },
  {
   "cell_type": "markdown",
   "metadata": {},
   "source": [
    "## [机器人能否返回原点](https://leetcode-cn.com/problems/robot-return-to-origin/)"
   ]
  },
  {
   "cell_type": "code",
   "execution_count": 432,
   "metadata": {
    "ExecuteTime": {
     "end_time": "2021-03-18T13:04:19.463123Z",
     "start_time": "2021-03-18T13:04:19.456122Z"
    }
   },
   "outputs": [],
   "source": [
    "class Solution:\n",
    "    def judgeCircle(self, moves: str) -> bool:\n",
    "        x,y = 0,0\n",
    "        for i in moves:\n",
    "            if i == 'U':\n",
    "                x += 1\n",
    "            elif i == 'D':\n",
    "                x -= 1\n",
    "            elif i == 'L':\n",
    "                y += 1\n",
    "            elif i == 'R':\n",
    "                y -= 1\n",
    "        return x == y  == 0\n",
    "        \n",
    "    def judgeCircle_v2(self, moves: str) -> bool:\n",
    "        move_dict = {}\n",
    "        for i in moves:\n",
    "            move_dict[i] = move_dict.get(i,0) + 1\n",
    "            if move_dict[i]>len(moves)/2:\n",
    "                return False \n",
    "        return move_dict.get('U') == move_dict.get('D') and move_dict.get('L') == move_dict.get('R')"
   ]
  },
  {
   "cell_type": "code",
   "execution_count": 433,
   "metadata": {
    "ExecuteTime": {
     "end_time": "2021-03-18T13:04:20.025628Z",
     "start_time": "2021-03-18T13:04:20.019628Z"
    }
   },
   "outputs": [
    {
     "name": "stdout",
     "output_type": "stream",
     "text": [
      "UD True\n",
      "LL False\n"
     ]
    }
   ],
   "source": [
    "s=['UD','LL']\n",
    "a=Solution()\n",
    "for i in s:\n",
    "    print(i,a.judgeCircle(i))"
   ]
  },
  {
   "cell_type": "markdown",
   "metadata": {},
   "source": [
    "## [实现 strStr()](https://leetcode-cn.com/problems/implement-strstr/)"
   ]
  },
  {
   "cell_type": "code",
   "execution_count": 121,
   "metadata": {
    "ExecuteTime": {
     "end_time": "2021-03-17T02:54:44.861072Z",
     "start_time": "2021-03-17T02:54:44.851047Z"
    }
   },
   "outputs": [],
   "source": [
    "class Solution:\n",
    "   \n",
    "    def strStr(self, haystack: str, needle: str) -> int:\n",
    "        if needle == '':\n",
    "            return 0\n",
    "        \n",
    "        pmt_table = self.pmt(needle)\n",
    "        i,j = 0,0\n",
    "        while i<len(haystack) and j<len(needle):\n",
    "            if j == -1 or haystack[i] == needle[j]:\n",
    "                i,j = i+1, j+1\n",
    "            else:\n",
    "                j = pmt_table[j]\n",
    "        if j == len(needle):\n",
    "            return i - j \n",
    "       \n",
    "        return -1\n",
    "    \n",
    "    \n",
    "    def pmt(self,strs):\n",
    "        pmt_table = [-1]*len(strs)\n",
    "        m,s = 0,-1\n",
    "        \n",
    "        while m<len(strs)-1:\n",
    "            if s ==  -1 or strs[m] == strs[s]:\n",
    "                m,s = m+1, s+1\n",
    "                pmt_table[m] = s\n",
    "            else:\n",
    "                s = pmt_table[s]\n",
    "        return pmt_table"
   ]
  },
  {
   "cell_type": "code",
   "execution_count": 122,
   "metadata": {
    "ExecuteTime": {
     "end_time": "2021-03-17T02:54:45.545464Z",
     "start_time": "2021-03-17T02:54:45.539467Z"
    }
   },
   "outputs": [
    {
     "data": {
      "text/plain": [
       "2"
      ]
     },
     "execution_count": 122,
     "metadata": {},
     "output_type": "execute_result"
    }
   ],
   "source": [
    "haystack = \"hello\"\n",
    "needle = \"ll\"\n",
    "a=Solution()\n",
    "a.strStr(haystack,needle)"
   ]
  },
  {
   "cell_type": "markdown",
   "metadata": {},
   "source": [
    "## [外观数列](https://leetcode-cn.com/problems/count-and-say/)"
   ]
  },
  {
   "cell_type": "code",
   "execution_count": 141,
   "metadata": {
    "ExecuteTime": {
     "end_time": "2021-03-17T05:48:43.749736Z",
     "start_time": "2021-03-17T05:48:43.741738Z"
    }
   },
   "outputs": [],
   "source": [
    "class Solution:\n",
    "    def countAndSay(self, n: int) -> str:\n",
    "        for i in range(1,n+1):\n",
    "            if i == 1:\n",
    "                 re = '1'\n",
    "            else:\n",
    "                \n",
    "                a,re  = self.conti_str(re,'')\n",
    "        return re\n",
    "    \n",
    "    def conti_str(self,s,state_s):\n",
    "        length = len(s)\n",
    "        if length == 0:\n",
    "            return '',state_s\n",
    "        i = 0\n",
    "        cnt = 1\n",
    "        while i<length-1 and s[i+1] == s[i]:\n",
    "                cnt += 1\n",
    "                i += 1\n",
    "        state_s +=  str(cnt)+ s[i]\n",
    "        return self.conti_str(s[(i+1):],state_s)"
   ]
  },
  {
   "cell_type": "code",
   "execution_count": 143,
   "metadata": {
    "ExecuteTime": {
     "end_time": "2021-03-17T05:48:49.335634Z",
     "start_time": "2021-03-17T05:48:49.328611Z"
    }
   },
   "outputs": [
    {
     "data": {
      "text/plain": [
       "'1211'"
      ]
     },
     "execution_count": 143,
     "metadata": {},
     "output_type": "execute_result"
    }
   ],
   "source": [
    "a=Solution()\n",
    "a.countAndSay(4)"
   ]
  },
  {
   "cell_type": "markdown",
   "metadata": {
    "ExecuteTime": {
     "end_time": "2021-03-17T03:48:55.270719Z",
     "start_time": "2021-03-17T03:48:55.266718Z"
    }
   },
   "source": [
    "## [最后一个单词的长度](https://leetcode-cn.com/problems/length-of-last-word/)"
   ]
  },
  {
   "cell_type": "code",
   "execution_count": 177,
   "metadata": {
    "ExecuteTime": {
     "end_time": "2021-03-17T06:28:11.404446Z",
     "start_time": "2021-03-17T06:28:11.398446Z"
    }
   },
   "outputs": [],
   "source": [
    "class Solution:\n",
    "    def lengthOfLastWord(self, s: str) -> int:\n",
    "               \n",
    "        i,empty_bool, res =0,1,0\n",
    "        while i <len(s):\n",
    "            char = s[i]\n",
    "            if char != ' ':\n",
    "                if empty_bool == 1:\n",
    "                    res += 1\n",
    "                else:\n",
    "                    res = 1\n",
    "                    empty_bool = 1\n",
    "            else:\n",
    "                empty_bool = 0\n",
    "            i += 1\n",
    "        return res"
   ]
  },
  {
   "cell_type": "code",
   "execution_count": 178,
   "metadata": {
    "ExecuteTime": {
     "end_time": "2021-03-17T06:28:11.730249Z",
     "start_time": "2021-03-17T06:28:11.724216Z"
    }
   },
   "outputs": [
    {
     "data": {
      "text/plain": [
       "5"
      ]
     },
     "execution_count": 178,
     "metadata": {},
     "output_type": "execute_result"
    }
   ],
   "source": [
    "s=\"Hello World\"\n",
    "a=Solution()\n",
    "a.lengthOfLastWord(s)"
   ]
  },
  {
   "cell_type": "markdown",
   "metadata": {},
   "source": [
    "## [二进制求和](https://leetcode-cn.com/problems/add-binary/)"
   ]
  },
  {
   "cell_type": "code",
   "execution_count": 191,
   "metadata": {
    "ExecuteTime": {
     "end_time": "2021-03-17T06:52:02.147643Z",
     "start_time": "2021-03-17T06:52:02.138645Z"
    }
   },
   "outputs": [],
   "source": [
    "class Solution:\n",
    "    def addBinary(self, a: str, b: str) -> str:\n",
    "        a1,b1 = a[::-1],b[::-1]\n",
    "        \n",
    "        i,j,last_div,res = 0,0,0,''\n",
    "        while i<len(a1) or j<len(b1):\n",
    "            \n",
    "            x =int(a1[i])  if i<len(a1) else 0\n",
    "            y =int(b1[i])  if i<len(b1) else 0\n",
    "            xy_sum = x + y + last_div\n",
    "            last_div = xy_sum//2\n",
    "            res += str(xy_sum%2)\n",
    "            \n",
    "            i += 1\n",
    "            j += 1\n",
    "        if last_div == 1:\n",
    "            res += str(last_div)\n",
    "        return res[::-1] "
   ]
  },
  {
   "cell_type": "code",
   "execution_count": 193,
   "metadata": {
    "ExecuteTime": {
     "end_time": "2021-03-17T06:52:17.014664Z",
     "start_time": "2021-03-17T06:52:17.005663Z"
    }
   },
   "outputs": [
    {
     "data": {
      "text/plain": [
       "'100'"
      ]
     },
     "execution_count": 193,
     "metadata": {},
     "output_type": "execute_result"
    }
   ],
   "source": [
    "a = \"11\"\n",
    "b = \"1\"\n",
    "t=Solution()\n",
    "t.addBinary(a,b)"
   ]
  },
  {
   "cell_type": "markdown",
   "metadata": {},
   "source": [
    "## [字符串相加](https://leetcode-cn.com/problems/add-strings/submissions/)"
   ]
  },
  {
   "cell_type": "markdown",
   "metadata": {},
   "source": [
    "## [验证回文串](https://leetcode-cn.com/problems/valid-palindrome/)"
   ]
  },
  {
   "cell_type": "code",
   "execution_count": 217,
   "metadata": {
    "ExecuteTime": {
     "end_time": "2021-03-17T07:10:03.047503Z",
     "start_time": "2021-03-17T07:10:03.040489Z"
    }
   },
   "outputs": [],
   "source": [
    "class Solution:\n",
    "    def isPalindrome(self, s: str) -> bool:\n",
    "        import re \n",
    "        s1=''.join([i.lower() for i in re.findall('[a-zA-Z0-9]', s)])\n",
    "        length = len(s1)\n",
    "        first_part = s1[:length//2]\n",
    "        \n",
    "        if length%2 == 0:\n",
    "            second_part = s1[length//2:]\n",
    "        else:\n",
    "            second_part = s1[(length//2+1):]\n",
    "        return first_part == second_part[::-1]"
   ]
  },
  {
   "cell_type": "code",
   "execution_count": 222,
   "metadata": {
    "ExecuteTime": {
     "end_time": "2021-03-17T07:10:50.360545Z",
     "start_time": "2021-03-17T07:10:50.355546Z"
    }
   },
   "outputs": [
    {
     "data": {
      "text/plain": [
       "True"
      ]
     },
     "execution_count": 222,
     "metadata": {},
     "output_type": "execute_result"
    }
   ],
   "source": [
    "s=\"A man, a plan, a canal: Panama\"\n",
    "t=Solution()\n",
    "t.isPalindrome(s)"
   ]
  },
  {
   "cell_type": "markdown",
   "metadata": {},
   "source": [
    "## [验证回文字符串 Ⅱ](https://leetcode-cn.com/problems/valid-palindrome-ii/submissions/)"
   ]
  },
  {
   "cell_type": "code",
   "execution_count": 471,
   "metadata": {
    "ExecuteTime": {
     "end_time": "2021-03-19T02:26:52.121637Z",
     "start_time": "2021-03-19T02:26:52.114673Z"
    }
   },
   "outputs": [],
   "source": [
    "class Solution:\n",
    "    def validPalindrome(self, s: str) -> bool:\n",
    "        left,right = 0,len(s)-1\n",
    "        while left<right:\n",
    "            if s[left] == s[right]:\n",
    "                left += 1\n",
    "                right -= 1\n",
    "            else:              \n",
    "                return self.checkPalindrome(s,left+1,right) or self.checkPalindrome(s,left,right-1)\n",
    "        else:\n",
    "            return True\n",
    "        \n",
    "    def checkPalindrome(self,s,left,right):\n",
    "        while left<right:\n",
    "            if s[left] != s[right]:\n",
    "                return False\n",
    "            left += 1\n",
    "            right -= 1\n",
    "        return True"
   ]
  },
  {
   "cell_type": "code",
   "execution_count": 472,
   "metadata": {
    "ExecuteTime": {
     "end_time": "2021-03-19T02:26:52.323639Z",
     "start_time": "2021-03-19T02:26:52.315672Z"
    }
   },
   "outputs": [
    {
     "name": "stdout",
     "output_type": "stream",
     "text": [
      "aba True\n"
     ]
    }
   ],
   "source": [
    "s=['aba']\n",
    "t=Solution()\n",
    "for i in s:\n",
    "    print(i,t.validPalindrome(i))"
   ]
  },
  {
   "cell_type": "markdown",
   "metadata": {},
   "source": [
    "## [反转字符串](https://leetcode-cn.com/problems/reverse-string/submissions/)"
   ]
  },
  {
   "cell_type": "code",
   "execution_count": 227,
   "metadata": {
    "ExecuteTime": {
     "end_time": "2021-03-17T10:58:49.543649Z",
     "start_time": "2021-03-17T10:58:49.538649Z"
    }
   },
   "outputs": [],
   "source": [
    "class Solution:\n",
    "    def reverseString(self, s: list) -> None:\n",
    "        \"\"\"\n",
    "        Do not return anything, modify s in-place instead.\n",
    "        \"\"\"\n",
    "        left,right = 0,len(s)-1\n",
    "        while left<right:\n",
    "            s[right],s[left]=s[left],s[right]\n",
    "            left += 1\n",
    "            right -= 1\n",
    "        return s"
   ]
  },
  {
   "cell_type": "code",
   "execution_count": 229,
   "metadata": {
    "ExecuteTime": {
     "end_time": "2021-03-17T10:58:54.147519Z",
     "start_time": "2021-03-17T10:58:54.141522Z"
    }
   },
   "outputs": [
    {
     "data": {
      "text/plain": [
       "['o', 'l', 'l', 'e', 'h']"
      ]
     },
     "execution_count": 229,
     "metadata": {},
     "output_type": "execute_result"
    }
   ],
   "source": [
    "s=[\"h\",\"e\",\"l\",\"l\",\"o\"]\n",
    "t=Solution()\n",
    "t.reverseString(s)"
   ]
  },
  {
   "cell_type": "markdown",
   "metadata": {},
   "source": [
    "## [仅仅反转字母](https://leetcode-cn.com/problems/reverse-only-letters/submissions/)"
   ]
  },
  {
   "cell_type": "code",
   "execution_count": 701,
   "metadata": {
    "ExecuteTime": {
     "end_time": "2021-03-19T09:53:08.740245Z",
     "start_time": "2021-03-19T09:53:08.735250Z"
    }
   },
   "outputs": [],
   "source": [
    "class Solution:\n",
    "    def reverseOnlyLetters(self, S: str) -> str:\n",
    "        l,r = 0,len(S)-1\n",
    "        slst = list(S)\n",
    "        while l<r:\n",
    "            while l<r and not S[l].isalpha():\n",
    "                l += 1\n",
    "            while l<r and not S[r].isalpha():\n",
    "                r -= 1 \n",
    "            slst[r],slst[l] = slst[l],slst[r]\n",
    "            l += 1\n",
    "            r -= 1\n",
    "        return ''.join(slst) "
   ]
  },
  {
   "cell_type": "code",
   "execution_count": 702,
   "metadata": {
    "ExecuteTime": {
     "end_time": "2021-03-19T09:53:08.921282Z",
     "start_time": "2021-03-19T09:53:08.914254Z"
    }
   },
   "outputs": [
    {
     "data": {
      "text/plain": [
       "'7_28]'"
      ]
     },
     "execution_count": 702,
     "metadata": {},
     "output_type": "execute_result"
    }
   ],
   "source": [
    "S=\"7_28]\"\n",
    "t=Solution()\n",
    "t.reverseOnlyLetters(S)\n",
    "# 输出：\"j-Ih-gfE-dCba\"\n"
   ]
  },
  {
   "cell_type": "markdown",
   "metadata": {},
   "source": [
    "## [反转字符串中的元音字母](https://leetcode-cn.com/problems/reverse-vowels-of-a-string/)"
   ]
  },
  {
   "cell_type": "code",
   "execution_count": 240,
   "metadata": {
    "ExecuteTime": {
     "end_time": "2021-03-17T11:11:53.960744Z",
     "start_time": "2021-03-17T11:11:53.954703Z"
    }
   },
   "outputs": [],
   "source": [
    "class Solution:\n",
    "    def reverseVowels(self, s: str) -> str:\n",
    "        vowel = 'aeiouAEIOU'\n",
    "        s1 = list(s)\n",
    "        left,right = 0,len(s)-1\n",
    "        while left<right:\n",
    "            while left<right and s[left] not in vowel:\n",
    "                left += 1\n",
    "            while left<right and s[right] not in vowel:\n",
    "                right -= 1\n",
    "                         \n",
    "            s1[right],s1[left]=s1[left],s1[right]\n",
    "            left += 1\n",
    "            right -= 1\n",
    "        return ''.join(s1)"
   ]
  },
  {
   "cell_type": "code",
   "execution_count": 241,
   "metadata": {
    "ExecuteTime": {
     "end_time": "2021-03-17T11:11:54.817561Z",
     "start_time": "2021-03-17T11:11:54.808597Z"
    }
   },
   "outputs": [
    {
     "data": {
      "text/plain": [
       "'holle'"
      ]
     },
     "execution_count": 241,
     "metadata": {},
     "output_type": "execute_result"
    }
   ],
   "source": [
    "s='hello'\n",
    "t=Solution()\n",
    "t.reverseVowels(s)"
   ]
  },
  {
   "cell_type": "markdown",
   "metadata": {},
   "source": [
    "## [赎金信](https://leetcode-cn.com/problems/ransom-note/)"
   ]
  },
  {
   "cell_type": "code",
   "execution_count": 248,
   "metadata": {
    "ExecuteTime": {
     "end_time": "2021-03-18T05:59:17.162259Z",
     "start_time": "2021-03-18T05:59:17.158255Z"
    }
   },
   "outputs": [],
   "source": [
    "class Solution:\n",
    "    def canConstruct(self, ransomNote: str, magazine: str) -> bool:\n",
    "        mlist = list(magazine)\n",
    "        i = 0\n",
    "        while i< len(ransomNote) and ransomNote[i] in mlist:\n",
    "                mlist.remove(ransomNote[i])\n",
    "                i += 1\n",
    "        if i == len(ransomNote):\n",
    "            return True\n",
    "        return False"
   ]
  },
  {
   "cell_type": "code",
   "execution_count": 250,
   "metadata": {
    "ExecuteTime": {
     "end_time": "2021-03-18T05:59:28.473694Z",
     "start_time": "2021-03-18T05:59:28.466668Z"
    }
   },
   "outputs": [
    {
     "data": {
      "text/plain": [
       "True"
      ]
     },
     "execution_count": 250,
     "metadata": {},
     "output_type": "execute_result"
    }
   ],
   "source": [
    "ransomNote = 'aa'\n",
    "magazine = 'aba'\n",
    "t=Solution()\n",
    "t.canConstruct(ransomNote, magazine)"
   ]
  },
  {
   "cell_type": "markdown",
   "metadata": {},
   "source": [
    "## [字符串中的第一个唯一字符](https://leetcode-cn.com/problems/first-unique-character-in-a-string/)"
   ]
  },
  {
   "cell_type": "code",
   "execution_count": 268,
   "metadata": {
    "ExecuteTime": {
     "end_time": "2021-03-18T06:52:15.297811Z",
     "start_time": "2021-03-18T06:52:15.284813Z"
    }
   },
   "outputs": [],
   "source": [
    "class Solution:\n",
    "    def firstUniqChar(self, s: str) -> int:\n",
    "        if len(s) == 0:\n",
    "            return -1\n",
    "        slist = list(s)\n",
    "        unitstr = self.find_str(slist)\n",
    "        if unitstr == '':\n",
    "            return -1\n",
    "        for i in range(len(s)):\n",
    "            if s[i] == unitstr:\n",
    "                return i\n",
    "        \n",
    "    def find_str(self,slist):\n",
    "        if len(slist) == 0:\n",
    "            return ''\n",
    "        \n",
    "        char = slist[0]\n",
    "        slist = slist[1:]\n",
    "        if char not in slist:\n",
    "            return char \n",
    "        else:\n",
    "            slist = [i for i in slist if i != char]\n",
    "            return self.find_str(slist)"
   ]
  },
  {
   "cell_type": "code",
   "execution_count": 269,
   "metadata": {
    "ExecuteTime": {
     "end_time": "2021-03-18T06:52:15.741395Z",
     "start_time": "2021-03-18T06:52:15.733390Z"
    }
   },
   "outputs": [
    {
     "data": {
      "text/plain": [
       "-1"
      ]
     },
     "execution_count": 269,
     "metadata": {},
     "output_type": "execute_result"
    }
   ],
   "source": [
    "s = \"aadadaad\"\n",
    "t=Solution()\n",
    "t.firstUniqChar(s)"
   ]
  },
  {
   "cell_type": "markdown",
   "metadata": {},
   "source": [
    "## [字符串中的单词数](https://leetcode-cn.com/problems/number-of-segments-in-a-string/submissions/)"
   ]
  },
  {
   "cell_type": "code",
   "execution_count": 277,
   "metadata": {
    "ExecuteTime": {
     "end_time": "2021-03-18T07:39:04.000851Z",
     "start_time": "2021-03-18T07:39:03.994890Z"
    }
   },
   "outputs": [],
   "source": [
    "class Solution:\n",
    "    def countSegments(self, s: str) -> int:\n",
    "               \n",
    "        i,char_bool, index =0,0,0\n",
    "        while i <len(s):\n",
    "            char = s[i]\n",
    "            if char !=' ':\n",
    "                if char_bool == 0:\n",
    "                    index += 1\n",
    "                    char_bool = 1\n",
    "            else:\n",
    "                char_bool = 0\n",
    "            i += 1\n",
    "        return index"
   ]
  },
  {
   "cell_type": "code",
   "execution_count": 278,
   "metadata": {
    "ExecuteTime": {
     "end_time": "2021-03-18T07:39:07.320687Z",
     "start_time": "2021-03-18T07:39:07.316686Z"
    }
   },
   "outputs": [
    {
     "data": {
      "text/plain": [
       "5"
      ]
     },
     "execution_count": 278,
     "metadata": {},
     "output_type": "execute_result"
    }
   ],
   "source": [
    "s = \"Hello, my name is John\"\n",
    "t=Solution()\n",
    "t.countSegments(s)"
   ]
  },
  {
   "cell_type": "markdown",
   "metadata": {},
   "source": [
    "## [反转字符串中的单词 III](https://leetcode-cn.com/problems/reverse-words-in-a-string-iii/)"
   ]
  },
  {
   "cell_type": "code",
   "execution_count": 602,
   "metadata": {
    "ExecuteTime": {
     "end_time": "2021-03-19T07:39:36.171584Z",
     "start_time": "2021-03-19T07:39:36.165619Z"
    }
   },
   "outputs": [],
   "source": [
    "class Solution:\n",
    "    def reverseWords(self, s: str) -> str:\n",
    "               \n",
    "        i, unit_word,res =0,'',''\n",
    "        while i <len(s):\n",
    "            char = s[i]\n",
    "            if char !=' ':\n",
    "                unit_word += char\n",
    "            else:\n",
    "                res += unit_word[::-1] + char\n",
    "                unit_word = ''\n",
    "    \n",
    "            i += 1\n",
    "        res += unit_word[::-1]\n",
    "        return res"
   ]
  },
  {
   "cell_type": "code",
   "execution_count": 426,
   "metadata": {
    "ExecuteTime": {
     "end_time": "2021-03-18T12:46:16.978397Z",
     "start_time": "2021-03-18T12:46:16.972380Z"
    }
   },
   "outputs": [
    {
     "data": {
      "text/plain": [
       "\"s'teL ekat edoCteeL tsetnoc\""
      ]
     },
     "execution_count": 426,
     "metadata": {},
     "output_type": "execute_result"
    }
   ],
   "source": [
    "s = \"Let's take LeetCode contest\"\n",
    "t=Solution()\n",
    "t.reverseWords(s)"
   ]
  },
  {
   "cell_type": "markdown",
   "metadata": {},
   "source": [
    "## [重复的子字符串](https://leetcode-cn.com/problems/repeated-substring-pattern/submissions/)"
   ]
  },
  {
   "cell_type": "code",
   "execution_count": 373,
   "metadata": {
    "ExecuteTime": {
     "end_time": "2021-03-18T10:01:54.686081Z",
     "start_time": "2021-03-18T10:01:54.676083Z"
    }
   },
   "outputs": [],
   "source": [
    "class Solution:\n",
    "    def repeatedSubstringPattern(self, s: str) -> bool:\n",
    "        if len(s)<=1:\n",
    "            return False\n",
    "       \n",
    "        t = s + s\n",
    "        t1 = t[1:] + t[0]\n",
    "        m = self.kmp(t1,s)\n",
    "#         print(t1,s,m)\n",
    "        return m>=0 and m<len(s)-1\n",
    "            \n",
    "    def pmt_table(self,s_str):\n",
    "        # s模式串\n",
    "        m,s,pmt = 0,-1,[-1]*len(s_str)\n",
    "\n",
    "        while m<len(s_str)-1:\n",
    "            if s == -1 or s_str[m] == s_str[s]:\n",
    "                m += 1\n",
    "                s += 1\n",
    "                pmt[m] = s \n",
    "            else:\n",
    "                s = pmt[s]\n",
    "        return pmt\n",
    "\n",
    "\n",
    "    def kmp(self,m,s):\n",
    "        # m主串，s模式串\n",
    "        i,j = 0,0 \n",
    "        pmt = self.pmt_table(s)\n",
    "        while i<len(m) and j<len(s):\n",
    "            # 模式串循环结束，匹配成功；否则失败\n",
    "            if m[i] == s[j] or j== -1:\n",
    "                i,j = i+1,j+1\n",
    "            else:\n",
    "                j = pmt[j]\n",
    "        if j == len(s):\n",
    "            return i-j\n",
    "        return -1"
   ]
  },
  {
   "cell_type": "code",
   "execution_count": 374,
   "metadata": {
    "ExecuteTime": {
     "end_time": "2021-03-18T10:01:55.022647Z",
     "start_time": "2021-03-18T10:01:55.017631Z"
    }
   },
   "outputs": [
    {
     "data": {
      "text/plain": [
       "True"
      ]
     },
     "execution_count": 374,
     "metadata": {},
     "output_type": "execute_result"
    }
   ],
   "source": [
    "t=Solution()\n",
    "t.repeatedSubstringPattern(\"zzz\") "
   ]
  },
  {
   "cell_type": "markdown",
   "metadata": {
    "ExecuteTime": {
     "end_time": "2021-03-18T09:07:36.897344Z",
     "start_time": "2021-03-18T09:07:36.892320Z"
    }
   },
   "source": [
    "## [检测大写字母](https://leetcode-cn.com/problems/detect-capital/submissions/)"
   ]
  },
  {
   "cell_type": "code",
   "execution_count": 390,
   "metadata": {
    "ExecuteTime": {
     "end_time": "2021-03-18T11:28:37.713865Z",
     "start_time": "2021-03-18T11:28:37.707882Z"
    }
   },
   "outputs": [],
   "source": [
    "# 全部字母都是大写，比如\"USA\"。\n",
    "# 单词中所有字母都不是大写，比如\"leetcode\"。\n",
    "# 如果单词不只含有一个字母，只有首字母大写， 比如 \"Google\"。\n",
    "\n",
    "class Solution:\n",
    "    def detectCapitalUse(self, word: str) -> bool:\n",
    "        num = 0\n",
    "        for i in word:\n",
    "            if i.isupper():\n",
    "                num += 1\n",
    "            \n",
    "        word_len = len(word)\n",
    "        return word_len ==  num or num == 0 or (num == 1 and word[0].isupper())"
   ]
  },
  {
   "cell_type": "code",
   "execution_count": 391,
   "metadata": {
    "ExecuteTime": {
     "end_time": "2021-03-18T11:28:37.875168Z",
     "start_time": "2021-03-18T11:28:37.870166Z"
    }
   },
   "outputs": [
    {
     "name": "stdout",
     "output_type": "stream",
     "text": [
      "ABC True\n",
      "abc True\n",
      "Abc True\n",
      "aBC False\n"
     ]
    }
   ],
   "source": [
    "s = ['ABC','abc','Abc','aBC']\n",
    "t=Solution()\n",
    "for i in s:\n",
    "    print(i,t.detectCapitalUse(i)) "
   ]
  },
  {
   "cell_type": "markdown",
   "metadata": {
    "ExecuteTime": {
     "end_time": "2021-03-18T11:10:12.884269Z",
     "start_time": "2021-03-18T11:10:12.880271Z"
    }
   },
   "source": [
    "## [最长特殊序列 Ⅰ](https://leetcode-cn.com/problems/longest-uncommon-subsequence-i/submissions/)"
   ]
  },
  {
   "cell_type": "markdown",
   "metadata": {},
   "source": [
    "## [反转字符串 II](https://leetcode-cn.com/problems/reverse-string-ii/submissions/)"
   ]
  },
  {
   "cell_type": "code",
   "execution_count": 395,
   "metadata": {
    "ExecuteTime": {
     "end_time": "2021-03-18T11:55:26.187580Z",
     "start_time": "2021-03-18T11:55:26.179578Z"
    }
   },
   "outputs": [],
   "source": [
    "class Solution:\n",
    "    def reverseStr(self, s: str, k: int) -> str:\n",
    "        rest = ''\n",
    "        return self.rest_reverse(rest,s,k)\n",
    "        \n",
    "    def rest_reverse(self,rest,s,k):\n",
    "        \n",
    "        if len(s)<k:\n",
    "            rest += s[::-1]\n",
    "            return rest\n",
    "        else:\n",
    "            part1 = s[:k]\n",
    "            part2 = s[k:2*k]\n",
    "            s = s[2*k:]\n",
    "            rest += part1[::-1] + part2\n",
    "            return self.rest_reverse(rest,s,k)\n",
    "    \n",
    "    \n",
    "    def reverseStr_v2(self, s, k):\n",
    "        a = list(s)\n",
    "        for i in range(0, len(a), 2*k):\n",
    "            a[i:i+k] = reversed(a[i:i+k])\n",
    "        return \"\".join(a)"
   ]
  },
  {
   "cell_type": "code",
   "execution_count": 394,
   "metadata": {
    "ExecuteTime": {
     "end_time": "2021-03-18T11:49:09.699011Z",
     "start_time": "2021-03-18T11:49:09.693974Z"
    }
   },
   "outputs": [
    {
     "data": {
      "text/plain": [
       "'bacdfeg'"
      ]
     },
     "execution_count": 394,
     "metadata": {},
     "output_type": "execute_result"
    }
   ],
   "source": [
    "s = \"abcdefg\"\n",
    "k = 2\n",
    "   \n",
    "t=Solution()\n",
    "t.reverseStr(s,k)"
   ]
  },
  {
   "cell_type": "markdown",
   "metadata": {},
   "source": [
    "## [学生出勤记录 I](https://leetcode-cn.com/problems/student-attendance-record-i/submissions/)"
   ]
  },
  {
   "cell_type": "code",
   "execution_count": 412,
   "metadata": {
    "ExecuteTime": {
     "end_time": "2021-03-18T12:30:02.954956Z",
     "start_time": "2021-03-18T12:30:02.946954Z"
    }
   },
   "outputs": [],
   "source": [
    "class Solution:\n",
    "    def checkRecord(self, s: str) -> bool:\n",
    "        L_list = []\n",
    "        A_num = 0\n",
    "        index = 0\n",
    "        for i in s:\n",
    "            if i == 'A':\n",
    "                A_num += 1\n",
    "            if i ==  'L':\n",
    "                if len(L_list) == 0 :\n",
    "                    L_list.append(index)\n",
    "                else:\n",
    "                    if index - L_list[-1] == 1:\n",
    "                        L_list.append(index)\n",
    "                    else:\n",
    "                        L_list = [index]\n",
    "            if A_num>=2 or len(L_list)>=3:\n",
    "                return False\n",
    "            \n",
    "            index += 1\n",
    "\n",
    "        return A_num<2 and len(L_list)<3\n",
    "               "
   ]
  },
  {
   "cell_type": "code",
   "execution_count": 413,
   "metadata": {
    "ExecuteTime": {
     "end_time": "2021-03-18T12:30:03.408309Z",
     "start_time": "2021-03-18T12:30:03.402319Z"
    }
   },
   "outputs": [
    {
     "name": "stdout",
     "output_type": "stream",
     "text": [
      "PPALLP True\n",
      "PPALLL False\n"
     ]
    }
   ],
   "source": [
    "s=[\"PPALLP\",\"PPALLL\"]\n",
    "t=Solution()\n",
    "for i in s:\n",
    "    print(i,t.checkRecord(i))"
   ]
  },
  {
   "cell_type": "markdown",
   "metadata": {},
   "source": [
    "## [计数二进制子串](https://leetcode-cn.com/problems/count-binary-substrings/submissions/)"
   ]
  },
  {
   "cell_type": "code",
   "execution_count": 523,
   "metadata": {
    "ExecuteTime": {
     "end_time": "2021-03-19T05:58:07.429360Z",
     "start_time": "2021-03-19T05:58:07.415364Z"
    }
   },
   "outputs": [],
   "source": [
    "class Solution:\n",
    "    def countBinarySubstrings(self, s: str) -> int:\n",
    "        s1,s2 = 0,1\n",
    "        res = 0\n",
    "        for i in range(1,len(s)):\n",
    "            if s[i] == s[i-1]:\n",
    "                s2 += 1\n",
    "            else:\n",
    "                res += min(s1,s2)\n",
    "                s1 = s2\n",
    "                s2 = 1\n",
    "        res += min(s1,s2)\n",
    "        return res\n",
    "            \n",
    "    def countBinarySubstrings_v2(self, s: str) -> int:\n",
    "        str_map = {'0':'','1':''}\n",
    "        p = None\n",
    "        map_dict = {'0':'1','1':'0'}\n",
    "        cum_dict = {'0':0,'1':0}\n",
    "        res = []\n",
    "        for i in s:            \n",
    "            # cum的计算：入栈\n",
    "            num_cum = cum_dict[i]\n",
    "            reverse_cum = cum_dict[map_dict[i]]\n",
    "            if reverse_cum == 0 or (num_cum != 0 and num_cum<reverse_cum):\n",
    "                str_map[i] += i\n",
    "                cum_dict[i] += 1 \n",
    "            else:\n",
    "                str_map[i] = i \n",
    "                cum_dict[i] = 1\n",
    "            p = 0 if i == '0' else 1\n",
    "           \n",
    "            zero_cum,one_cum = cum_dict['0'],cum_dict['1']\n",
    "            zero_str,one_str = str_map['0'],str_map['1']\n",
    "            # 根据cum当前情况抽取符合情况的值\n",
    "            \n",
    "            if zero_cum != 0 and one_cum != 0:\n",
    "                if zero_cum< one_cum:\n",
    "                    strs = one_str[0:zero_cum] + zero_str\n",
    "                    \n",
    "                elif zero_cum > one_cum:\n",
    "                    strs = zero_str[0:one_cum] + one_str\n",
    "                else:\n",
    "                    if p == 1:\n",
    "                        strs = zero_str[0:one_cum] + one_str\n",
    "                        cum_dict['0'] = 0\n",
    "                    else:\n",
    "                        strs = one_str[0:zero_cum] + zero_str\n",
    "                        cum_dict['1'] = 0\n",
    "                        \n",
    "                        \n",
    "                res.append(strs)\n",
    "            \n",
    "        return len(res)      "
   ]
  },
  {
   "cell_type": "code",
   "execution_count": 524,
   "metadata": {
    "ExecuteTime": {
     "end_time": "2021-03-19T05:58:07.608041Z",
     "start_time": "2021-03-19T05:58:07.604039Z"
    },
    "scrolled": true
   },
   "outputs": [
    {
     "data": {
      "text/plain": [
       "6"
      ]
     },
     "execution_count": 524,
     "metadata": {},
     "output_type": "execute_result"
    }
   ],
   "source": [
    "s=\"00110011\"\n",
    "t=Solution()\n",
    "t.countBinarySubstrings(s)"
   ]
  },
  {
   "cell_type": "markdown",
   "metadata": {
    "ExecuteTime": {
     "end_time": "2021-03-19T06:04:29.220871Z",
     "start_time": "2021-03-19T06:04:29.214838Z"
    }
   },
   "source": [
    "## [转换成小写字母](https://leetcode-cn.com/problems/to-lower-case/submissions/)"
   ]
  },
  {
   "cell_type": "markdown",
   "metadata": {},
   "source": [
    "## [旋转数字](https://leetcode-cn.com/problems/rotated-digits/submissions/)"
   ]
  },
  {
   "cell_type": "code",
   "execution_count": 538,
   "metadata": {
    "ExecuteTime": {
     "end_time": "2021-03-19T06:31:38.896197Z",
     "start_time": "2021-03-19T06:31:38.888225Z"
    }
   },
   "outputs": [],
   "source": [
    "class Solution:\n",
    "    def rotatedDigits(self, N: int) -> int:\n",
    "        match_str = '2569'\n",
    "        not_match_str = '347'\n",
    "        res = 0\n",
    "        for i in range(2,N+1):\n",
    "            s = str(i)\n",
    "            res += all(char not in not_match_str for char in s) and any(char in match_str for char in s)\n",
    "        return res\n",
    "                    \n",
    "                    \n",
    "    def rotatedDigits_v2(self, N: int) -> int:\n",
    "        map_dict ={'0':'0','1':'1','8':'8','2':'5','5':'2','6':'9','9':'6'}\n",
    "        not_match_lst = '347'\n",
    "        \n",
    "        def rotatedN(N,num):\n",
    "            if N<=1:\n",
    "                return num \n",
    "            else:\n",
    "                s = str(N)\n",
    "                s1 = ''.join([map_dict.get(i,'') for i in s])\n",
    "                if len(s1)<len(s) or s1 == s:\n",
    "                    return rotatedN(N-1,num)\n",
    "                else:\n",
    "                    return rotatedN(N-1,num+1)\n",
    "        \n",
    "        return rotatedN(N,0)"
   ]
  },
  {
   "cell_type": "code",
   "execution_count": 539,
   "metadata": {
    "ExecuteTime": {
     "end_time": "2021-03-19T06:31:39.432063Z",
     "start_time": "2021-03-19T06:31:39.426048Z"
    }
   },
   "outputs": [
    {
     "data": {
      "text/plain": [
       "4"
      ]
     },
     "execution_count": 539,
     "metadata": {},
     "output_type": "execute_result"
    }
   ],
   "source": [
    "s=10\n",
    "t=Solution()\n",
    "t.rotatedDigits(s)"
   ]
  },
  {
   "cell_type": "markdown",
   "metadata": {},
   "source": [
    "## [唯一摩尔斯密码词](https://leetcode-cn.com/problems/unique-morse-code-words/)"
   ]
  },
  {
   "cell_type": "code",
   "execution_count": 553,
   "metadata": {
    "ExecuteTime": {
     "end_time": "2021-03-19T06:41:17.884774Z",
     "start_time": "2021-03-19T06:41:17.876790Z"
    }
   },
   "outputs": [],
   "source": [
    "class Solution:\n",
    "    def uniqueMorseRepresentations(self, words: list) -> int:\n",
    "        mos = [\".-\",\"-...\",\"-.-.\",\"-..\",\".\",\"..-.\",\"--.\",\"....\",\"..\",\".---\",\"-.-\",\".-..\",\"--\",\"-.\",\"---\",\".--.\",\"--.-\",\".-.\",\"...\",\"-\",\"..-\",\"...-\",\".--\",\"-..-\",\"-.--\",\"--..\"]\n",
    "        first = ord('a')\n",
    "        map_dict = {}\n",
    "        for i in range(26):\n",
    "            map_dict.update({chr(first + i):mos[i]})\n",
    "        s = set()\n",
    "        for word in words:\n",
    "            wordmos = ''.join([map_dict[i] for i in word])\n",
    "            s.add(wordmos)\n",
    "        return len(s)\n",
    "    "
   ]
  },
  {
   "cell_type": "code",
   "execution_count": 554,
   "metadata": {
    "ExecuteTime": {
     "end_time": "2021-03-19T06:41:18.641136Z",
     "start_time": "2021-03-19T06:41:18.635137Z"
    }
   },
   "outputs": [
    {
     "data": {
      "text/plain": [
       "2"
      ]
     },
     "execution_count": 554,
     "metadata": {},
     "output_type": "execute_result"
    }
   ],
   "source": [
    "words = [\"gin\", \"zen\", \"gig\", \"msg\"]\n",
    "t=Solution()\n",
    "t.uniqueMorseRepresentations(words)"
   ]
  },
  {
   "cell_type": "markdown",
   "metadata": {
    "ExecuteTime": {
     "end_time": "2021-03-19T06:39:53.189780Z",
     "start_time": "2021-03-19T06:39:53.184744Z"
    }
   },
   "source": [
    "## [最常见的单词](https://leetcode-cn.com/problems/most-common-word/submissions/)"
   ]
  },
  {
   "cell_type": "code",
   "execution_count": 603,
   "metadata": {
    "ExecuteTime": {
     "end_time": "2021-03-19T07:39:49.173787Z",
     "start_time": "2021-03-19T07:39:49.163790Z"
    }
   },
   "outputs": [],
   "source": [
    "class Solution:\n",
    "    def mostCommonWord(self, paragraph: str, banned: list) -> str:\n",
    "               \n",
    "        i, unit_word,res =0,'',{}\n",
    "        while i <len(paragraph):\n",
    "            char = paragraph[i]\n",
    "            if char.isalpha():\n",
    "                unit_word += char.lower()\n",
    "            elif unit_word:\n",
    "                if unit_word not in banned:\n",
    "                    res[unit_word] = res.get(unit_word,0) + 1\n",
    "                \n",
    "                unit_word = ''\n",
    "    \n",
    "            i += 1\n",
    "        if unit_word != '':\n",
    "            res[unit_word] = res.get(unit_word,0) + 1\n",
    "        max_str,cnt = None,0\n",
    "        for k in res:\n",
    "            if res[k]>cnt:\n",
    "                cnt = res[k]\n",
    "                max_str = k\n",
    "                \n",
    "        return max_str"
   ]
  },
  {
   "cell_type": "code",
   "execution_count": 604,
   "metadata": {
    "ExecuteTime": {
     "end_time": "2021-03-19T07:39:49.391787Z",
     "start_time": "2021-03-19T07:39:49.381825Z"
    }
   },
   "outputs": [
    {
     "data": {
      "text/plain": [
       "'b'"
      ]
     },
     "execution_count": 604,
     "metadata": {},
     "output_type": "execute_result"
    }
   ],
   "source": [
    "paragraph = \"a, a, a, a, b,b,b,c, c\"\n",
    "banned = [\"a\"]\n",
    "t=Solution()\n",
    "t.mostCommonWord(paragraph,banned)"
   ]
  },
  {
   "cell_type": "markdown",
   "metadata": {},
   "source": [
    "## [山羊拉丁文](https://leetcode-cn.com/problems/goat-latin/submissions/)"
   ]
  },
  {
   "cell_type": "code",
   "execution_count": 611,
   "metadata": {
    "ExecuteTime": {
     "end_time": "2021-03-19T07:55:00.553129Z",
     "start_time": "2021-03-19T07:55:00.547131Z"
    }
   },
   "outputs": [],
   "source": [
    "class Solution:\n",
    "    def toGoatLatin(self, S: str) -> str:\n",
    "        i, unit_word,res,index =0,'','',0\n",
    "        para = 'aeiou'\n",
    "        while i <len(S):\n",
    "            char = S[i]\n",
    "            if char.isalpha():\n",
    "                unit_word += char\n",
    "            elif unit_word:\n",
    "                index += 1\n",
    "                \n",
    "                first = unit_word[0].lower()\n",
    "                if first not in para:\n",
    "                    unit_word =  unit_word[1:] + unit_word[0] \n",
    "                unit_word += 'ma'+ 'a'*index\n",
    "                \n",
    "                res += unit_word + char\n",
    "                \n",
    "                unit_word = ''\n",
    "    \n",
    "            i += 1\n",
    "        \n",
    "        index += 1\n",
    "        first = unit_word[0].lower()\n",
    "        if first not in para:\n",
    "            unit_word =  unit_word[1:] + unit_word[0] \n",
    "        unit_word += 'ma'+ 'a'*indx\n",
    "\n",
    "        res += unit_word\n",
    "        return res   "
   ]
  },
  {
   "cell_type": "code",
   "execution_count": 612,
   "metadata": {
    "ExecuteTime": {
     "end_time": "2021-03-19T07:55:00.947414Z",
     "start_time": "2021-03-19T07:55:00.940455Z"
    }
   },
   "outputs": [
    {
     "name": "stdout",
     "output_type": "stream",
     "text": [
      "Latin\n"
     ]
    },
    {
     "data": {
      "text/plain": [
       "'Imaa peaksmaaa oatGmaaaa atinLmaaaa'"
      ]
     },
     "execution_count": 612,
     "metadata": {},
     "output_type": "execute_result"
    }
   ],
   "source": [
    "S=\"I speak Goat Latin\"\n",
    "t=Solution()\n",
    "t.toGoatLatin(S)"
   ]
  },
  {
   "cell_type": "markdown",
   "metadata": {},
   "source": [
    "## [亲密字符串](https://leetcode-cn.com/problems/buddy-strings/)"
   ]
  },
  {
   "cell_type": "code",
   "execution_count": 625,
   "metadata": {
    "ExecuteTime": {
     "end_time": "2021-03-19T08:25:31.736659Z",
     "start_time": "2021-03-19T08:25:31.730674Z"
    }
   },
   "outputs": [],
   "source": [
    "class Solution:\n",
    "    def buddyStrings(self, a: str, b: str) -> bool:\n",
    "        if len(a) != len(b):\n",
    "            return False\n",
    "        if a == b:\n",
    "            for i in range(len(a)-1):\n",
    "                if a[i] in a[(i+1):]:\n",
    "                    return True\n",
    "            return False\n",
    "        else:\n",
    "            alist,blist = list(a),list(b)\n",
    "            index = 0\n",
    "            turn_index = 0\n",
    "            for i in range(len(a)):\n",
    "                if a[i] != b[i]:\n",
    "                    index += 1\n",
    "                    if index == 1:\n",
    "                        turn_index = i\n",
    "                    \n",
    "                    if index == 2:\n",
    "                        alist[turn_index],alist[i] = alist[i],alist[turn_index]\n",
    "                        return alist == blist\n",
    "            return False  "
   ]
  },
  {
   "cell_type": "code",
   "execution_count": 624,
   "metadata": {
    "ExecuteTime": {
     "end_time": "2021-03-19T08:24:36.243580Z",
     "start_time": "2021-03-19T08:24:36.236544Z"
    }
   },
   "outputs": [
    {
     "data": {
      "text/plain": [
       "True"
      ]
     },
     "execution_count": 624,
     "metadata": {},
     "output_type": "execute_result"
    }
   ],
   "source": [
    "a='abcd'\n",
    "b='cbad'\n",
    "t=Solution()\n",
    "t.buddyStrings(a, b)"
   ]
  },
  {
   "cell_type": "markdown",
   "metadata": {},
   "source": [
    "## [特殊等价字符串组](https://leetcode-cn.com/problems/groups-of-special-equivalent-strings/submissions/)"
   ]
  },
  {
   "cell_type": "code",
   "execution_count": 672,
   "metadata": {
    "ExecuteTime": {
     "end_time": "2021-03-19T09:32:31.478332Z",
     "start_time": "2021-03-19T09:32:31.474300Z"
    }
   },
   "outputs": [],
   "source": [
    "class Solution:\n",
    "    from itertools import combinations\n",
    "    def numSpecialEquivGroups(self, A: list) -> int:\n",
    "        s = set()\n",
    "        for word in A:\n",
    "            s.add(''.join(sorted(word[::2]) + sorted(word[1::2])))\n",
    "        return len(s)   "
   ]
  },
  {
   "cell_type": "code",
   "execution_count": 674,
   "metadata": {
    "ExecuteTime": {
     "end_time": "2021-03-19T09:32:32.839300Z",
     "start_time": "2021-03-19T09:32:32.828301Z"
    }
   },
   "outputs": [
    {
     "data": {
      "text/plain": [
       "3"
      ]
     },
     "execution_count": 674,
     "metadata": {},
     "output_type": "execute_result"
    }
   ],
   "source": [
    "A=[\"abcd\",\"cdab\",\"cbad\",\"xyzz\",\"zzxy\",\"zzyx\"]\n",
    "# A=[\"abc\",\"acb\",\"bac\",\"bca\",\"cab\",\"cba\"]\n",
    "t=Solution()\n",
    "t.numSpecialEquivGroups(A)"
   ]
  },
  {
   "cell_type": "code",
   "execution_count": null,
   "metadata": {},
   "outputs": [],
   "source": []
  },
  {
   "cell_type": "code",
   "execution_count": null,
   "metadata": {},
   "outputs": [],
   "source": [
    "class Solution:\n",
    "    def isLongPressedName(self, name: str, typed: str) -> bool:\n",
    "        "
   ]
  },
  {
   "cell_type": "code",
   "execution_count": null,
   "metadata": {},
   "outputs": [],
   "source": [
    "name = \"saeed\", typed = \"ssaaedd\""
   ]
  }
 ],
 "metadata": {
  "kernelspec": {
   "display_name": "Python 3",
   "language": "python",
   "name": "python3"
  },
  "language_info": {
   "codemirror_mode": {
    "name": "ipython",
    "version": 3
   },
   "file_extension": ".py",
   "mimetype": "text/x-python",
   "name": "python",
   "nbconvert_exporter": "python",
   "pygments_lexer": "ipython3",
   "version": "3.7.3"
  },
  "toc": {
   "base_numbering": 1,
   "nav_menu": {},
   "number_sections": true,
   "sideBar": true,
   "skip_h1_title": false,
   "title_cell": "Table of Contents",
   "title_sidebar": "Contents",
   "toc_cell": false,
   "toc_position": {},
   "toc_section_display": true,
   "toc_window_display": true
  }
 },
 "nbformat": 4,
 "nbformat_minor": 2
}
