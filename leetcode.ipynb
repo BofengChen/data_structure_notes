{
 "cells": [
  {
   "cell_type": "markdown",
   "metadata": {},
   "source": [
    "# 1-两数之和"
   ]
  },
  {
   "cell_type": "markdown",
   "metadata": {},
   "source": [
    "给定一个整数数组 `nums` 和一个目标值 `target`，请你在该数组中找出和为目标值的那两个整数，并返回他们的数组下标。\n",
    "\n",
    "你可以假设每种输入只会对应一个答案。但是，你不能重复利用这个数组中同样的元素。\n",
    "\n",
    "`示例:\n",
    "给定 nums = [2, 7, 11, 15], target = 9\n",
    "因为 nums[0] + nums[1] = 2 + 7 = 9\n",
    "所以返回 [0, 1]`"
   ]
  },
  {
   "cell_type": "code",
   "execution_count": 3,
   "metadata": {
    "ExecuteTime": {
     "end_time": "2020-01-09T12:09:41.227804Z",
     "start_time": "2020-01-09T12:09:41.220858Z"
    }
   },
   "outputs": [],
   "source": [
    "def twoSum(nums,target):\n",
    "    d = {}\n",
    "    for i ,num in enumerate(nums):\n",
    "        if target - num in d:\n",
    "            return [d[target-num],i]\n",
    "        d[num] = i"
   ]
  },
  {
   "cell_type": "code",
   "execution_count": 4,
   "metadata": {
    "ExecuteTime": {
     "end_time": "2020-01-09T12:20:05.141676Z",
     "start_time": "2020-01-09T12:20:05.136691Z"
    }
   },
   "outputs": [
    {
     "data": {
      "text/plain": [
       "[0, 1]"
      ]
     },
     "execution_count": 4,
     "metadata": {},
     "output_type": "execute_result"
    }
   ],
   "source": [
    "twoSum(nums=[-2,11,7,15],target=9)"
   ]
  },
  {
   "cell_type": "code",
   "execution_count": 5,
   "metadata": {
    "ExecuteTime": {
     "end_time": "2020-01-09T12:26:07.729038Z",
     "start_time": "2020-01-09T12:26:07.725049Z"
    }
   },
   "outputs": [],
   "source": [
    "from array import array"
   ]
  },
  {
   "cell_type": "markdown",
   "metadata": {
    "ExecuteTime": {
     "end_time": "2019-04-01T06:02:38.041000Z",
     "start_time": "2019-04-01T06:02:38.014000Z"
    }
   },
   "source": [
    "# zuma 系列"
   ]
  },
  {
   "cell_type": "markdown",
   "metadata": {},
   "source": [
    "**Coding Challenge**\n",
    "\n",
    "Please write a function to find how many balls you can eliminate at once after using a magic\n",
    "card. You can choose any programming language as you like.\n",
    "\n",
    "Input: a string array to represent the game board.\n",
    "For the above example it should be [‘BLUE’, ‘BLUE’, ‘PURPLE’, ‘BLUE’, ‘BLUE’, ‘PURPLE’,\n",
    "‘GREEN’, ‘PURPLE’, ‘YELLOW’, ‘PURPLE’, ‘YELLOW’, ‘GREEN’, ‘GREEN’, ‘GREEN’]\n",
    "(start from 12 o’clock).\n",
    "\n",
    "\n",
    "Output: the max number of balls can be eliminated in one turn (after using the magic card).\n",
    "For the above example it should be 6."
   ]
  },
  {
   "cell_type": "markdown",
   "metadata": {},
   "source": [
    "<img src='figure/zuma.png'>"
   ]
  },
  {
   "cell_type": "code",
   "execution_count": 2,
   "metadata": {
    "ExecuteTime": {
     "end_time": "2019-04-01T06:05:08.469000Z",
     "start_time": "2019-04-01T06:05:08.319000Z"
    }
   },
   "outputs": [
    {
     "name": "stdout",
     "output_type": "stream",
     "text": [
      "the max num is 6\n"
     ]
    }
   ],
   "source": [
    "# coding: utf-8\n",
    "\n",
    "\n",
    "def different_colors_list(para_list):\n",
    "    \"\"\"\n",
    "    提取球列表中的所有的颜色种类\n",
    "    :param para_list: list\n",
    "    :return: list\n",
    "    \"\"\"\n",
    "    diff_colors_list = []\n",
    "    for i in para_list:\n",
    "        if i not in diff_colors_list:\n",
    "            diff_colors_list.append(i)\n",
    "    return diff_colors_list\n",
    "\n",
    "\n",
    "def lSameIndex(para_list, ball_index):\n",
    "    \"\"\"\n",
    "    para_list列表中每个球与其左侧的球颜色是否一致，一致返回左侧球的index，否则返回 None；\n",
    "    第一个球的左侧定义为列表的最后一个球；\n",
    "    :param para_list: list\n",
    "    :param ball_index:int\n",
    "    :return: None or int\n",
    "    \"\"\"\n",
    "    if para_list[ball_index] == para_list[ball_index-1]:\n",
    "        if ball_index == 0:\n",
    "            l_index = len(para_list) - 1\n",
    "        else:\n",
    "            l_index = ball_index - 1\n",
    "    else:\n",
    "        l_index = None\n",
    "    return l_index\n",
    "\n",
    "\n",
    "def sub_left_continu_num(para_list, index_list, ball_index):\n",
    "    \"\"\"\n",
    "    通过递归的方式返回para_list中下标从ball_index开始某类球向左的颜色连续相同的子集长度；\n",
    "    index_list 是para_list中某类球对应的下标集合；\n",
    "    :param para_list: list\n",
    "    :param index_list: list\n",
    "    :param ball_index: int\n",
    "    :return: int\n",
    "    \"\"\"\n",
    "    l_same_index = lSameIndex(para_list=para_list, ball_index=ball_index)\n",
    "    if l_same_index in index_list:\n",
    "        ball_index = l_same_index \n",
    "        return 1 + sub_left_continu_num(para_list=para_list, index_list=index_list, ball_index=ball_index)\n",
    "    else:\n",
    "        return 1\n",
    "    return 1 + sub_left_continu_num(para_list=para_list, index_list=index_list, ball_index=ball_index)\n",
    "\n",
    "\n",
    "def para_left_continu(para_list, index_list, ball_index, max_len):\n",
    "    \"\"\"\n",
    "    通过递归的方式返回para_list中某类球的颜色连续相同的最大子集的长度；\n",
    "    index_list 是para_list中某类球对应的下标集合；\n",
    "    :param para_list: list\n",
    "    :param index_list: list\n",
    "    :param ball_index: int\n",
    "    :param max_len: int\n",
    "    :return:\n",
    "    \"\"\"\n",
    "    sub_con_len = sub_left_continu_num(para_list, index_list, ball_index)\n",
    "    if sub_con_len < ball_index:\n",
    "        ball_index -= sub_con_len\n",
    "        if sub_con_len > max_len:\n",
    "            max_len = sub_con_len\n",
    "            return para_left_continu(para_list=para_list, index_list=index_list, ball_index=ball_index, max_len=max_len)\n",
    "    else:\n",
    "        if sub_con_len < max_len:\n",
    "            return max_len\n",
    "        else:\n",
    "            return sub_con_len  \n",
    "    return para_left_continu(para_list=para_list, index_list=index_list, ball_index=ball_index, max_len=max_len)\n",
    "\n",
    "\n",
    "def same_contColor_num_change_i_to_j(para_list, color_i, color_j):\n",
    "    \"\"\"\n",
    "    将原始列表中通过魔力卡片将颜色为 color_i 的球全部换成 color_j 后的新列表中颜色为 color_j 的球能消去的最大数量\n",
    "    :param para_list: list\n",
    "    :param color_i: str\n",
    "    :param color_j: str\n",
    "    :return:\n",
    "    \"\"\"\n",
    "    change_para_list = [color_j if ball is color_i else ball for ball in para_list]\n",
    "    color_j_index_list = [i for i in range(len(change_para_list)) if change_para_list[i] is color_j]\n",
    "    \n",
    "    color_j_num = para_left_continu(para_list=change_para_list, index_list=color_j_index_list,\n",
    "                                    ball_index=color_j_index_list[-1], max_len=0)\n",
    "    return color_j_num\n",
    "\n",
    "\n",
    "def max_continu_color_num(para_list, colors_list, max_color_num):\n",
    "    \"\"\"\n",
    "    用魔力卡片将球列表中任意一个颜色换成另外一个后，通过递归的方式找到能够消除最多数量球的替换方案，\n",
    "    返回使用魔力卡片后能够消除的颜色球的最大数量\n",
    "    :param para_list: list\n",
    "    :param colors_list: list\n",
    "    :param max_color_num: int\n",
    "    :return: int\n",
    "    \"\"\"\n",
    "    if len(colors_list)>= 2:\n",
    "        color_i = colors_list[-1]\n",
    "        for color_j in colors_list[:-1]:\n",
    "            color_j_num = same_contColor_num_change_i_to_j(para_list=para_list, color_i=color_i, color_j=color_j)\n",
    "            if color_j_num > max_color_num:\n",
    "                max_color_num = color_j_num\n",
    "            else:\n",
    "                max_color_num = max_color_num\n",
    "\n",
    "        return max_continu_color_num(para_list=para_list, colors_list=colors_list[:-1], max_color_num=max_color_num)\n",
    "    else:\n",
    "        return max_color_num\n",
    "    return max_continu_color_num(para_list=para_list, colors_list=colors_list[:-1], max_color_num=max_color_num)\n",
    "\n",
    "\n",
    "if __name__ == '__main__':\n",
    "    zuma_list = ['BLUE', 'BLUE', 'PURPLE', 'BLUE', 'BLUE', 'PURPLE', 'GREEN', 'PURPLE', 'YELLOW', 'PURPLE', 'YELLOW',\n",
    "                 'GREEN', 'GREEN', 'GREEN']\n",
    "    colors_list = different_colors_list(para_list=zuma_list)\n",
    "    max_num = max_continu_color_num(para_list=zuma_list, colors_list=colors_list, max_color_num=0)\n",
    "    print 'the max num is {0}'.format(max_num)"
   ]
  },
  {
   "cell_type": "markdown",
   "metadata": {},
   "source": [
    "# 天平分球"
   ]
  },
  {
   "cell_type": "markdown",
   "metadata": {},
   "source": [
    "有一个天平，有八个球,其中一个的重量与其它七个不同,找出这一个球,最少需要称几次,如何分？（注意：并未告知不同的这个球更重还是更轻）"
   ]
  },
  {
   "cell_type": "markdown",
   "metadata": {},
   "source": [
    "问题描述：一个长度为 n 的 list里有两个不同的数字，其中一个数字仅出现一次，找出这个数字。"
   ]
  },
  {
   "cell_type": "markdown",
   "metadata": {},
   "source": [
    "实现方式：通过递归实现。\n",
    "\n",
    "先假设知道这个不同的球更重，针对8个球的情形：\n",
    "\n",
    "* 取出6个球，分成两半，在天平上称重\n",
    "    * 如果重量一致：\n",
    "    * 对剩下的两个球称重，选出更重的球；\n",
    "    * 如果不一致：\n",
    "    * 递归对半分，称重，更重的一侧的3个球里取两个球称重，递归。"
   ]
  },
  {
   "cell_type": "code",
   "execution_count": 4,
   "metadata": {
    "ExecuteTime": {
     "end_time": "2019-06-27T03:05:13.696128Z",
     "start_time": "2019-06-27T03:05:13.681128Z"
    }
   },
   "outputs": [],
   "source": [
    "def find_different_target(arr):\n",
    "    lens = len(arr)\n",
    "    if lens%2 == 0:\n",
    "        if lens == 2:\n",
    "            max = arr [0] if arr[0] > arr[1] else arr[1]\n",
    "        else:\n",
    "            arr_1 = arr[:-2]\n",
    "            left_sum = sum(arr[0:(lens/2-1)])\n",
    "            right_sum = sum(arr[lens/2:])\n",
    "            if left_sum == right_sum:\n",
    "                return 0"
   ]
  },
  {
   "cell_type": "code",
   "execution_count": 1,
   "metadata": {
    "ExecuteTime": {
     "end_time": "2019-06-27T02:40:29.020210Z",
     "start_time": "2019-06-27T02:40:29.017210Z"
    }
   },
   "outputs": [],
   "source": [
    "a = [1,2,3,4]"
   ]
  },
  {
   "cell_type": "code",
   "execution_count": 3,
   "metadata": {
    "ExecuteTime": {
     "end_time": "2019-06-27T02:40:45.791169Z",
     "start_time": "2019-06-27T02:40:45.779168Z"
    }
   },
   "outputs": [
    {
     "data": {
      "text/plain": [
       "[3, 4]"
      ]
     },
     "execution_count": 3,
     "metadata": {},
     "output_type": "execute_result"
    }
   ],
   "source": [
    "a[-2:]"
   ]
  },
  {
   "cell_type": "markdown",
   "metadata": {},
   "source": [
    "# 11-盛最多水的容器"
   ]
  },
  {
   "cell_type": "code",
   "execution_count": 1,
   "metadata": {
    "ExecuteTime": {
     "end_time": "2020-01-06T13:18:15.603592Z",
     "start_time": "2020-01-06T13:18:15.592326Z"
    }
   },
   "outputs": [],
   "source": [
    "class Solution(object):\n",
    "    def maxArea(self, height):\n",
    "        \"\"\"\n",
    "        :type height: List[int]\n",
    "        :rtype: int\n",
    "        \"\"\"\n",
    "        l_needle=0\n",
    "        r_needle=len(height)-1\n",
    "        max_area = 0\n",
    "        while l_needle<r_needle:\n",
    "            l_value = height[l_needle]\n",
    "            r_value = height[r_needle]\n",
    "            area = min(l_value,r_value)*(r_needle-l_needle)\n",
    "            max_area = area if area>max_area else max_area\n",
    "            if l_value<= r_value:\n",
    "                l_needle += 1\n",
    "            else:\n",
    "                r_needle -= 1\n",
    "        return max_area"
   ]
  },
  {
   "cell_type": "code",
   "execution_count": 2,
   "metadata": {
    "ExecuteTime": {
     "end_time": "2020-01-06T13:20:28.009515Z",
     "start_time": "2020-01-06T13:20:27.985818Z"
    }
   },
   "outputs": [
    {
     "data": {
      "text/plain": [
       "297"
      ]
     },
     "execution_count": 2,
     "metadata": {},
     "output_type": "execute_result"
    }
   ],
   "source": [
    "s=[1,8,6,100,5,4,99,3,7]\n",
    "solution=Solution()\n",
    "solution.maxArea(s)"
   ]
  },
  {
   "cell_type": "markdown",
   "metadata": {
    "ExecuteTime": {
     "end_time": "2019-06-11T07:47:14.662773Z",
     "start_time": "2019-06-11T07:47:14.641773Z"
    }
   },
   "source": [
    "# 15-三数之和"
   ]
  },
  {
   "cell_type": "markdown",
   "metadata": {},
   "source": [
    "给定一个包含 n 个整数的数组 `nums`，判断 `nums` 中是否存在三个元素 `a，b，c` ， 使得 `a + b + c = 0` ？找出所有满足条件且不重复的三元组。\n",
    "\n",
    "注意： 答案中不可以包含重复的三元组。\n",
    "\n",
    "`例如, 给定数组 nums = [-1, 0, 1, 2, -1, -4]，\n",
    "满足要求的三元组集合为：\n",
    "[[-1, 0, 1],[-1, -1, 2]]`"
   ]
  },
  {
   "cell_type": "code",
   "execution_count": 17,
   "metadata": {
    "ExecuteTime": {
     "end_time": "2019-06-11T08:14:39.267420Z",
     "start_time": "2019-06-11T08:14:39.213416Z"
    }
   },
   "outputs": [],
   "source": [
    "def threeSum(nums,target):\n",
    "    result = []\n",
    "    # 排序\n",
    "    nums.sort()\n",
    "    for i,num in enumerate(nums):\n",
    "        # 不考虑重复元素\n",
    "        if i > 0 and nums[i] == nums[i-1]:\n",
    "            continue\n",
    "        target_1 = target - num\n",
    "        \n",
    "        # 定义指针\n",
    "        start,end = i + 1, len(nums)-1\n",
    "        # 指针从两侧往中间走\n",
    "        while start < end:\n",
    "            if nums[start] + nums[end] < target_1:\n",
    "                start +=1\n",
    "            elif nums[start] + nums[end] > target_1:\n",
    "                end -= 1\n",
    "            else:\n",
    "                result.append([nums[i], nums[start], nums[end]])\n",
    "                \n",
    "                start += 1\n",
    "                end -= 1\n",
    "                # 去除重复元素\n",
    "                while start < end and nums[end]==nums[end-1]:\n",
    "                    end -= 1\n",
    "                while start < end and nums[start]==nums[start+1]:\n",
    "                    start += 1\n",
    "    return result"
   ]
  },
  {
   "cell_type": "code",
   "execution_count": 18,
   "metadata": {
    "ExecuteTime": {
     "end_time": "2019-06-11T08:14:39.957448Z",
     "start_time": "2019-06-11T08:14:39.940448Z"
    }
   },
   "outputs": [
    {
     "data": {
      "text/plain": [
       "[[-4, 0, 2], [-1, -1, 0]]"
      ]
     },
     "execution_count": 18,
     "metadata": {},
     "output_type": "execute_result"
    }
   ],
   "source": [
    "threeSum(nums=[-1, 0, 1, 2, -1, -4],target=-2)"
   ]
  },
  {
   "cell_type": "markdown",
   "metadata": {},
   "source": [
    "# 32-最长有效括号"
   ]
  },
  {
   "cell_type": "markdown",
   "metadata": {},
   "source": [
    "题目：https://leetcode-cn.com/problems/longest-valid-parentheses/"
   ]
  },
  {
   "cell_type": "markdown",
   "metadata": {},
   "source": [
    "解题思路：https://zhuanlan.zhihu.com/p/41951874\n",
    "\n",
    "1.需有一个变量start记录有效括号子串的起始下标，max表示最长有效括号子串长度，初始值均为0\n",
    "\n",
    "2.遍历给字符串中的所有字符\n",
    "\n",
    "    2.1若当前字符s[index]为左括号'('，将当前字符下标index入栈（下标稍后有其他用处），处理下一字符\n",
    "\n",
    "    2.2若当前字符s[index]为右括号')'，判断当前栈是否为空\n",
    "\n",
    "        2.2.1若栈为空，则start = index + 1，处理下一字符（当前字符右括号下标不入栈）\n",
    "\n",
    "        2.2.2若栈不为空，则出栈（由于仅左括号入栈，则出栈元素对应的字符一定为左括号，可与当前字符右括号配对），判断栈是否为空\n",
    "\n",
    "            2.2.2.1若栈为空，则max = max(max, index-start+1)\n",
    "\n",
    "            2.2.2.2若栈不为空，则max = max(max, index-栈顶元素值)"
   ]
  },
  {
   "cell_type": "code",
   "execution_count": 1,
   "metadata": {
    "ExecuteTime": {
     "end_time": "2020-03-12T09:57:38.458966Z",
     "start_time": "2020-03-12T09:57:38.452980Z"
    }
   },
   "outputs": [],
   "source": [
    "def longestValidParentheses(s):\n",
    "    q = []\n",
    "    start, ans = 0, 0\n",
    "    for i in range(len(s)):\n",
    "#         print('######')\n",
    "        print('\\n','i is',i,';s[i] is',s[i],'\\n s[:i] is',s[:i+1],)\n",
    "        if s[i] == '(':\n",
    "            q.append(i)\n",
    "        else:\n",
    "            if not q: \n",
    "                start = i + 1\n",
    "            else:\n",
    "                q.pop()\n",
    "                if q:\n",
    "                    ans = max([ans,i-q[-1]])\n",
    "                else:\n",
    "                    ans = max([ans,i-start+1])  \n",
    "        print('q is',q)\n",
    "        print('start is',start)\n",
    "        print('ans is',ans)\n",
    "    return ans"
   ]
  },
  {
   "cell_type": "code",
   "execution_count": 2,
   "metadata": {
    "ExecuteTime": {
     "end_time": "2020-03-12T09:57:47.495457Z",
     "start_time": "2020-03-12T09:57:47.460550Z"
    }
   },
   "outputs": [
    {
     "name": "stdout",
     "output_type": "stream",
     "text": [
      "\n",
      " i is 0 ;s[i] is ) \n",
      " s[:i] is )\n",
      "q is []\n",
      "start is 1\n",
      "ans is 0\n",
      "\n",
      " i is 1 ;s[i] is ( \n",
      " s[:i] is )(\n",
      "q is [1]\n",
      "start is 1\n",
      "ans is 0\n",
      "\n",
      " i is 2 ;s[i] is ( \n",
      " s[:i] is )((\n",
      "q is [1, 2]\n",
      "start is 1\n",
      "ans is 0\n",
      "\n",
      " i is 3 ;s[i] is ( \n",
      " s[:i] is )(((\n",
      "q is [1, 2, 3]\n",
      "start is 1\n",
      "ans is 0\n",
      "\n",
      " i is 4 ;s[i] is ( \n",
      " s[:i] is )((((\n",
      "q is [1, 2, 3, 4]\n",
      "start is 1\n",
      "ans is 0\n",
      "\n",
      " i is 5 ;s[i] is ( \n",
      " s[:i] is )(((((\n",
      "q is [1, 2, 3, 4, 5]\n",
      "start is 1\n",
      "ans is 0\n",
      "\n",
      " i is 6 ;s[i] is ( \n",
      " s[:i] is )((((((\n",
      "q is [1, 2, 3, 4, 5, 6]\n",
      "start is 1\n",
      "ans is 0\n",
      "\n",
      " i is 7 ;s[i] is ) \n",
      " s[:i] is )(((((()\n",
      "q is [1, 2, 3, 4, 5]\n",
      "start is 1\n",
      "ans is 2\n",
      "\n",
      " i is 8 ;s[i] is ) \n",
      " s[:i] is )(((((())\n",
      "q is [1, 2, 3, 4]\n",
      "start is 1\n",
      "ans is 4\n",
      "\n",
      " i is 9 ;s[i] is ( \n",
      " s[:i] is )(((((())(\n",
      "q is [1, 2, 3, 4, 9]\n",
      "start is 1\n",
      "ans is 4\n",
      "\n",
      " i is 10 ;s[i] is ) \n",
      " s[:i] is )(((((())()\n",
      "q is [1, 2, 3, 4]\n",
      "start is 1\n",
      "ans is 6\n",
      "\n",
      " i is 11 ;s[i] is ( \n",
      " s[:i] is )(((((())()(\n",
      "q is [1, 2, 3, 4, 11]\n",
      "start is 1\n",
      "ans is 6\n",
      "\n",
      " i is 12 ;s[i] is ) \n",
      " s[:i] is )(((((())()()\n",
      "q is [1, 2, 3, 4]\n",
      "start is 1\n",
      "ans is 8\n",
      "\n",
      " i is 13 ;s[i] is ) \n",
      " s[:i] is )(((((())()())\n",
      "q is [1, 2, 3]\n",
      "start is 1\n",
      "ans is 10\n",
      "\n",
      " i is 14 ;s[i] is ) \n",
      " s[:i] is )(((((())()()))\n",
      "q is [1, 2]\n",
      "start is 1\n",
      "ans is 12\n",
      "\n",
      " i is 15 ;s[i] is ( \n",
      " s[:i] is )(((((())()()))(\n",
      "q is [1, 2, 15]\n",
      "start is 1\n",
      "ans is 12\n",
      "\n",
      " i is 16 ;s[i] is ) \n",
      " s[:i] is )(((((())()()))()\n",
      "q is [1, 2]\n",
      "start is 1\n",
      "ans is 14\n",
      "\n",
      " i is 17 ;s[i] is ( \n",
      " s[:i] is )(((((())()()))()(\n",
      "q is [1, 2, 17]\n",
      "start is 1\n",
      "ans is 14\n",
      "\n",
      " i is 18 ;s[i] is ( \n",
      " s[:i] is )(((((())()()))()((\n",
      "q is [1, 2, 17, 18]\n",
      "start is 1\n",
      "ans is 14\n",
      "\n",
      " i is 19 ;s[i] is ) \n",
      " s[:i] is )(((((())()()))()(()\n",
      "q is [1, 2, 17]\n",
      "start is 1\n",
      "ans is 14\n",
      "\n",
      " i is 20 ;s[i] is ) \n",
      " s[:i] is )(((((())()()))()(())\n",
      "q is [1, 2]\n",
      "start is 1\n",
      "ans is 18\n",
      "\n",
      " i is 21 ;s[i] is ) \n",
      " s[:i] is )(((((())()()))()(()))\n",
      "q is [1]\n",
      "start is 1\n",
      "ans is 20\n",
      "\n",
      " i is 22 ;s[i] is ( \n",
      " s[:i] is )(((((())()()))()(()))(\n",
      "q is [1, 22]\n",
      "start is 1\n",
      "ans is 20\n"
     ]
    },
    {
     "data": {
      "text/plain": [
       "20"
      ]
     },
     "execution_count": 2,
     "metadata": {},
     "output_type": "execute_result"
    }
   ],
   "source": [
    "s=\")(((((())()()))()(()))(\"\n",
    "longestValidParentheses(s)"
   ]
  },
  {
   "cell_type": "code",
   "execution_count": null,
   "metadata": {},
   "outputs": [],
   "source": []
  }
 ],
 "metadata": {
  "hide_input": false,
  "kernelspec": {
   "display_name": "Python 3",
   "language": "python",
   "name": "python3"
  },
  "language_info": {
   "codemirror_mode": {
    "name": "ipython",
    "version": 3
   },
   "file_extension": ".py",
   "mimetype": "text/x-python",
   "name": "python",
   "nbconvert_exporter": "python",
   "pygments_lexer": "ipython3",
   "version": "3.7.3"
  },
  "toc": {
   "base_numbering": 1,
   "nav_menu": {},
   "number_sections": true,
   "sideBar": true,
   "skip_h1_title": false,
   "title_cell": "Table of Contents",
   "title_sidebar": "Contents",
   "toc_cell": false,
   "toc_position": {
    "height": "calc(100% - 180px)",
    "left": "10px",
    "top": "150px",
    "width": "273.188px"
   },
   "toc_section_display": true,
   "toc_window_display": true
  },
  "varInspector": {
   "cols": {
    "lenName": 16,
    "lenType": 16,
    "lenVar": 40
   },
   "kernels_config": {
    "python": {
     "delete_cmd_postfix": "",
     "delete_cmd_prefix": "del ",
     "library": "var_list.py",
     "varRefreshCmd": "print(var_dic_list())"
    },
    "r": {
     "delete_cmd_postfix": ") ",
     "delete_cmd_prefix": "rm(",
     "library": "var_list.r",
     "varRefreshCmd": "cat(var_dic_list()) "
    }
   },
   "types_to_exclude": [
    "module",
    "function",
    "builtin_function_or_method",
    "instance",
    "_Feature"
   ],
   "window_display": false
  }
 },
 "nbformat": 4,
 "nbformat_minor": 2
}
