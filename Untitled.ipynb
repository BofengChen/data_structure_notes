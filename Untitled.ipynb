{
 "cells": [
  {
   "cell_type": "code",
   "execution_count": 90,
   "metadata": {
    "ExecuteTime": {
     "end_time": "2020-09-25T01:59:46.498801Z",
     "start_time": "2020-09-25T01:59:46.491807Z"
    }
   },
   "outputs": [],
   "source": [
    "class Solution(object):\n",
    "    def isStraight(self, nums):\n",
    "        \"\"\"\n",
    "        :type nums: List[int]\n",
    "        :rtype: bool\n",
    "        \"\"\"\n",
    "        # 是否有重复元素，通过字典来判断\n",
    "        repeat_dict = {}\n",
    "        \n",
    "        for elem in nums:\n",
    "            if elem not in repeat_dict:\n",
    "                repeat_dict[elem] = 1\n",
    "            else:\n",
    "                repeat_dict[elem] += 1\n",
    "            if elem != 0 and repeat_dict[elem]>=2:\n",
    "                return False\n",
    "        new_lst = [key for key in repeat_dict if key]\n",
    "        nums_zero = repeat_dict.get(0,0)\n",
    "\n",
    "        # 如果无重复元素，再判断最大值和最小值的差与0个数的距离\n",
    "\n",
    "        nums_min = new_lst[0]\n",
    "        nums_max = new_lst[0]\n",
    "        for elem in range(1,len(new_lst)):\n",
    "            if elem:\n",
    "                if elem>nums_max:\n",
    "                    nums_max = elem\n",
    "                elif elem<nums_min:\n",
    "                    nums_min = elem \n",
    "#                     print(nums_min)\n",
    "#             print(elem,nums_min,elem<nums_min,(elem>nums_min and nums_min == 0),nums_min)\n",
    "        print(nums_max, nums_min,nums_zero)\n",
    "        if nums_max - nums_min - 1 + nums_zero == 5 or (nums_max - nums_min + 1 + nums_zero == 5) :\n",
    "            return True\n",
    "        else:\n",
    "            return False"
   ]
  },
  {
   "cell_type": "code",
   "execution_count": 91,
   "metadata": {
    "ExecuteTime": {
     "end_time": "2020-09-25T02:13:49.910762Z",
     "start_time": "2020-09-25T02:13:49.903762Z"
    }
   },
   "outputs": [
    {
     "data": {
      "text/plain": [
       "0"
      ]
     },
     "execution_count": 91,
     "metadata": {},
     "output_type": "execute_result"
    }
   ],
   "source": [
    "a = {}\n",
    "a.get(0,0)"
   ]
  },
  {
   "cell_type": "code",
   "execution_count": 88,
   "metadata": {
    "ExecuteTime": {
     "end_time": "2020-09-25T01:59:33.010747Z",
     "start_time": "2020-09-25T01:59:33.002738Z"
    }
   },
   "outputs": [],
   "source": [
    "# 测试样例\n",
    "arr1 = [1,2,0,4,5]\n",
    "arr2 = [1,2,0,0,5]\n",
    "arr7 = [0,0,1,2,5]\n",
    "arr3 = [0,1,2,3,5]\n",
    "arr4 = [0,0,2,3,4]\n",
    "arr5 = [3,4,5,6,7]\n",
    "arr6 = [0,1,2,3,0]"
   ]
  },
  {
   "cell_type": "code",
   "execution_count": 89,
   "metadata": {
    "ExecuteTime": {
     "end_time": "2020-09-25T01:59:37.449858Z",
     "start_time": "2020-09-25T01:59:37.443858Z"
    }
   },
   "outputs": [
    {
     "name": "stdout",
     "output_type": "stream",
     "text": [
      "5 1 1\n",
      "False\n",
      "5 1 2\n",
      "True\n",
      "5 1 1\n",
      "False\n",
      "4 2 2\n",
      "True\n",
      "7 3 0\n",
      "True\n",
      "3 1 2\n",
      "True\n"
     ]
    }
   ],
   "source": [
    "s = Solution()\n",
    "for lst in [arr1,arr2,arr3,arr4,arr5,arr6]:\n",
    "        print(s.isStraight(lst))"
   ]
  },
  {
   "cell_type": "code",
   "execution_count": 152,
   "metadata": {
    "ExecuteTime": {
     "end_time": "2021-06-29T09:58:05.251145Z",
     "start_time": "2021-06-29T09:58:05.241184Z"
    }
   },
   "outputs": [],
   "source": [
    "import pdfplumber\n",
    "import pandas as pd\n",
    "import re\n",
    "\n",
    "def str_to_info(s):\n",
    "    return ''.join([chr(int(i)) for i in re.findall(r\"\\d+\\.?\\d*\",s)])\n",
    "\n",
    "def timestr_to(s):\n",
    "    return s[:10] + ' ' + s[10:]\n",
    "\n",
    "def table_info(table,page_num):\n",
    "    columns=['交易单号','交易时间','交易类型','收支其他','交易方式','金额(元)','交易对方','商户单号']\n",
    "    begin_index = 0 if page_num>0 else 3\n",
    "    df = pd.DataFrame(table[0][begin_index:],columns=columns)\n",
    "    for i in df.columns:\n",
    "        df[i]= df[i].apply(str_to_info)\n",
    "        if i == '交易时间':\n",
    "            df[i]= df[i].apply(timestr_to)\n",
    "        if i in ('交易单号','商户单号'):\n",
    "            df[i] = df[i] + '\\t'\n",
    "    df['pdf页号'] = page_num\n",
    "    return df "
   ]
  },
  {
   "cell_type": "code",
   "execution_count": 157,
   "metadata": {
    "ExecuteTime": {
     "end_time": "2021-06-29T10:03:05.426813Z",
     "start_time": "2021-06-29T10:02:47.685798Z"
    }
   },
   "outputs": [
    {
     "name": "stderr",
     "output_type": "stream",
     "text": [
      "c:\\users\\admin\\appdata\\local\\programs\\python\\python37\\lib\\site-packages\\ipykernel_launcher.py:9: FutureWarning: Sorting because non-concatenation axis is not aligned. A future version\n",
      "of pandas will change to not sort by default.\n",
      "\n",
      "To accept the future behavior, pass 'sort=False'.\n",
      "\n",
      "To retain the current behavior and silence the warning, pass 'sort=True'.\n",
      "\n",
      "  if __name__ == '__main__':\n"
     ]
    }
   ],
   "source": [
    "file_name='章学勇微信支付交易明细证明(20201026-20210331)-副本_2566'\n",
    "res_df = pd.DataFrame(columns=['pdf页号','交易单号','交易时间','交易类型','收支其他','交易方式','金额(元)','交易对方','商户单号'])\n",
    "with pdfplumber.open(\"{}.PDF\".format(file_name)) as pdf:\n",
    "    for page_num in range(len(pdf.pages)):\n",
    "        page = pdf.pages[page_num]   \n",
    "        table = page.extract_tables()\n",
    "        if table !=[]:\n",
    "            df = table_info(table,page_num)\n",
    "            res_df = pd.concat([res_df,df],axis=0)\n",
    "res_df.to_csv('{}.csv'.format(file_name),index=False,encoding='utf-8_sig')"
   ]
  },
  {
   "cell_type": "code",
   "execution_count": 146,
   "metadata": {
    "ExecuteTime": {
     "end_time": "2021-06-28T09:24:35.565885Z",
     "start_time": "2021-06-28T09:24:35.504859Z"
    }
   },
   "outputs": [],
   "source": []
  }
 ],
 "metadata": {
  "kernelspec": {
   "display_name": "Python 3",
   "language": "python",
   "name": "python3"
  },
  "language_info": {
   "codemirror_mode": {
    "name": "ipython",
    "version": 3
   },
   "file_extension": ".py",
   "mimetype": "text/x-python",
   "name": "python",
   "nbconvert_exporter": "python",
   "pygments_lexer": "ipython3",
   "version": "3.7.3"
  },
  "toc": {
   "base_numbering": 1,
   "nav_menu": {},
   "number_sections": true,
   "sideBar": true,
   "skip_h1_title": false,
   "title_cell": "Table of Contents",
   "title_sidebar": "Contents",
   "toc_cell": false,
   "toc_position": {},
   "toc_section_display": true,
   "toc_window_display": false
  }
 },
 "nbformat": 4,
 "nbformat_minor": 2
}
